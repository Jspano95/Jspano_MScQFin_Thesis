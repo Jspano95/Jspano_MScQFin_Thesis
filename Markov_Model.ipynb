{
 "cells": [
  {
   "cell_type": "code",
   "execution_count": null,
   "metadata": {},
   "outputs": [],
   "source": [
    "#https://www.statsmodels.org/stable/examples/notebooks/generated/markov_regression.html"
   ]
  },
  {
   "cell_type": "code",
   "execution_count": 1,
   "metadata": {},
   "outputs": [],
   "source": [
    "#system packages\n",
    "\n",
    "import sys\n",
    "import warnings\n",
    "import os \n",
    "import traceback #obs? \n",
    "if not sys.warnoptions:\n",
    "    warnings.filterwarnings(\"once\")  "
   ]
  },
  {
   "cell_type": "code",
   "execution_count": 2,
   "metadata": {},
   "outputs": [],
   "source": [
    "#base packages:\n",
    "\n",
    "import matplotlib.pyplot as plt\n",
    "import numpy as np\n",
    "import pandas as pd\n",
    "import scipy as sp\n",
    "from scipy import stats, integrate, optimize\n",
    "import math\n",
    "import datetime\n",
    "from datetime import date, timedelta"
   ]
  },
  {
   "cell_type": "code",
   "execution_count": 3,
   "metadata": {},
   "outputs": [],
   "source": [
    "#optional packages\n",
    "\n",
    "from statsmodels.tsa.base.datetools import dates_from_str\n",
    "from IPython.display import display\n",
    "pd.options.display.max_columns = 50  #allow DF.head to show all columns in notebook\n",
    "from see import see\n",
    "from tabulate import tabulate \n",
    "#from io import StringIO"
   ]
  },
  {
   "cell_type": "code",
   "execution_count": 4,
   "metadata": {},
   "outputs": [
    {
     "name": "stderr",
     "output_type": "stream",
     "text": [
      "C:\\Users\\JasonSpano\\anaconda3\\lib\\site-packages\\patsy\\constraint.py:13: DeprecationWarning: Using or importing the ABCs from 'collections' instead of from 'collections.abc' is deprecated since Python 3.3,and in 3.9 it will stop working\n",
      "  from collections import Mapping\n"
     ]
    }
   ],
   "source": [
    "#packages for the econometrics / models\n",
    "\n",
    "from statsmodels.tsa.vector_ar import vecm\n",
    "from statsmodels.tsa.stattools import adfuller\n",
    "from arch.unitroot import DFGLS, ADF, KPSS, PhillipsPerron, ZivotAndrews\n",
    "from arch.unitroot.cointegration import engle_granger, phillips_ouliaris\n",
    "import statsmodels.formula.api as smf  #VAR package contained within \n",
    "import statsmodels.tsa.api as smt\n",
    "\n",
    "#import the functionality for detecting mathematical errors (E.G. types of linear algebra issues etc.)\n",
    "from statsmodels.tools.sm_exceptions import ValueWarning\n",
    "from arch.utility.exceptions import (\n",
    "    InfeasibleTestException,\n",
    "    InvalidLengthWarning,\n",
    "    invalid_length_doc)\n",
    "warnings.filterwarnings(\"once\", category = ValueWarning)"
   ]
  },
  {
   "cell_type": "code",
   "execution_count": 10,
   "metadata": {},
   "outputs": [],
   "source": [
    "import statsmodels.api as sm\n"
   ]
  },
  {
   "cell_type": "code",
   "execution_count": 5,
   "metadata": {},
   "outputs": [],
   "source": [
    "sorted_alldata_df_final = pd.read_pickle(r\"C:\\Users\\JasonSpano\\OneDrive\\Uva Msc 19-20 Subjects\\Research Assistant Docs\\CDS_project_-_first_set_of_tasks\\Part 2_jan20./sorted_alldata_df_final.pkl\")"
   ]
  },
  {
   "cell_type": "code",
   "execution_count": null,
   "metadata": {},
   "outputs": [],
   "source": []
  },
  {
   "cell_type": "code",
   "execution_count": null,
   "metadata": {},
   "outputs": [],
   "source": []
  },
  {
   "cell_type": "code",
   "execution_count": null,
   "metadata": {},
   "outputs": [],
   "source": [
    "# Fit the model\n",
    "# (a switching mean is the default of the MarkovRegession model)\n",
    "mod_fedfunds = sm.tsa.MarkovRegression(dta_fedfunds, k_regimes=2)\n",
    "res_fedfunds = mod_fedfunds.fit()\n"
   ]
  },
  {
   "cell_type": "code",
   "execution_count": 6,
   "metadata": {},
   "outputs": [],
   "source": [
    "#pick a sample GVKEY:\n",
    "gvkey_1045 = sorted_alldata_df_final.loc[sorted_alldata_df_final.gvkey==1045]"
   ]
  },
  {
   "cell_type": "code",
   "execution_count": 17,
   "metadata": {},
   "outputs": [
    {
     "name": "stdout",
     "output_type": "stream",
     "text": [
      "                        Markov Switching Model Results                        \n",
      "==============================================================================\n",
      "Dep. Variable:      market_cds_spread   No. Observations:                  546\n",
      "Model:               MarkovRegression   Log Likelihood               -3800.365\n",
      "Date:                Tue, 27 Oct 2020   AIC                           7610.729\n",
      "Time:                        16:05:45   BIC                           7632.242\n",
      "Sample:                             0   HQIC                          7619.139\n",
      "                                - 546                                         \n",
      "Covariance Type:               approx                                         \n",
      "                             Regime 0 parameters                              \n",
      "==============================================================================\n",
      "                 coef    std err          z      P>|z|      [0.025      0.975]\n",
      "------------------------------------------------------------------------------\n",
      "const       1462.7267     15.101     96.860      0.000    1433.128    1492.325\n",
      "                             Regime 1 parameters                              \n",
      "==============================================================================\n",
      "                 coef    std err          z      P>|z|      [0.025      0.975]\n",
      "------------------------------------------------------------------------------\n",
      "const       5456.2200     15.324    356.050      0.000    5426.185    5486.255\n",
      "                           Non-switching parameters                           \n",
      "==============================================================================\n",
      "                 coef    std err          z      P>|z|      [0.025      0.975]\n",
      "------------------------------------------------------------------------------\n",
      "sigma2      6.317e+04   3823.258     16.523      0.000    5.57e+04    7.07e+04\n",
      "                         Regime transition parameters                         \n",
      "==============================================================================\n",
      "                 coef    std err          z      P>|z|      [0.025      0.975]\n",
      "------------------------------------------------------------------------------\n",
      "p[0->0]        0.9982      0.002    450.922      0.000       0.994       1.003\n",
      "p[1->0]        0.0018      0.002      0.815      0.415      -0.003       0.006\n",
      "==============================================================================\n",
      "\n",
      "Warnings:\n",
      "[1] Covariance matrix calculated using numerical (complex-step) differentiation.\n"
     ]
    }
   ],
   "source": [
    "gvkey_frame = gvkey_1045\n",
    "\n",
    "\n",
    "cds = gvkey_frame['market_cds_spread']\n",
    "pecds = gvkey_frame['pecds']\n",
    "#vix = gvkey_frame['cboe_vix']\n",
    "\n",
    "gvkey_frame_ms = pd.DataFrame(data=(cds))\n",
    "\n",
    "gvkey_frame_ms_model = sm.tsa.MarkovRegression(gvkey_frame_ms, k_regimes=2)\n",
    "\n",
    "res_gvkey_frame_ms_model = gvkey_frame_ms_model.fit()\n",
    "\n",
    "print(res_gvkey_frame_ms_model.summary())"
   ]
  },
  {
   "cell_type": "code",
   "execution_count": 19,
   "metadata": {},
   "outputs": [
    {
     "data": {
      "image/png": "[encoded data removed]",
      "text/plain": [
       "<Figure size 864x216 with 1 Axes>"
      ]
     },
     "metadata": {
      "needs_background": "light"
     },
     "output_type": "display_data"
    }
   ],
   "source": [
    "res_gvkey_frame_ms_model.smoothed_marginal_probabilities[1].plot(title='Pr(High Regime)',\n",
    "                                                                figsize=(12,3));"
   ]
  },
  {
   "cell_type": "code",
   "execution_count": 20,
   "metadata": {},
   "outputs": [
    {
     "name": "stdout",
     "output_type": "stream",
     "text": [
      "[551.13730704 540.90648847]\n"
     ]
    }
   ],
   "source": [
    "#From the estimated transition matrix we can calculate the expected duration of a low regime versus a high regime.\n",
    "print(res_gvkey_frame_ms_model.expected_durations)"
   ]
  },
  {
   "cell_type": "code",
   "execution_count": null,
   "metadata": {},
   "outputs": [],
   "source": []
  },
  {
   "cell_type": "code",
   "execution_count": null,
   "metadata": {},
   "outputs": [],
   "source": [
    "#switching intercept and lagged dependent variable"
   ]
  },
  {
   "cell_type": "code",
   "execution_count": 21,
   "metadata": {},
   "outputs": [
    {
     "name": "stdout",
     "output_type": "stream",
     "text": [
      "                        Markov Switching Model Results                        \n",
      "==============================================================================\n",
      "Dep. Variable:      market_cds_spread   No. Observations:                  546\n",
      "Model:               MarkovRegression   Log Likelihood               -3786.866\n",
      "Date:                Tue, 27 Oct 2020   AIC                           7587.732\n",
      "Time:                        16:12:07   BIC                           7617.851\n",
      "Sample:                             0   HQIC                          7599.506\n",
      "                                - 546                                         \n",
      "Covariance Type:               approx                                         \n",
      "                             Regime 0 parameters                              \n",
      "==============================================================================\n",
      "                 coef    std err          z      P>|z|      [0.025      0.975]\n",
      "------------------------------------------------------------------------------\n",
      "const       1005.0053     88.245     11.389      0.000     832.048    1177.962\n",
      "x1            15.4755      2.942      5.261      0.000       9.710      21.241\n",
      "                             Regime 1 parameters                              \n",
      "==============================================================================\n",
      "                 coef    std err          z      P>|z|      [0.025      0.975]\n",
      "------------------------------------------------------------------------------\n",
      "const       5456.2197    103.164     52.889      0.000    5254.021    5658.418\n",
      "x1         -6.947e-06      3.091  -2.25e-06      1.000      -6.058       6.058\n",
      "                           Non-switching parameters                           \n",
      "==============================================================================\n",
      "                 coef    std err          z      P>|z|      [0.025      0.975]\n",
      "------------------------------------------------------------------------------\n",
      "sigma2      6.012e+04   3638.816     16.523      0.000     5.3e+04    6.73e+04\n",
      "                         Regime transition parameters                         \n",
      "==============================================================================\n",
      "                 coef    std err          z      P>|z|      [0.025      0.975]\n",
      "------------------------------------------------------------------------------\n",
      "p[0->0]        0.9982      0.002    450.413      0.000       0.994       1.003\n",
      "p[1->0]        0.0018      0.002      0.815      0.415      -0.003       0.006\n",
      "==============================================================================\n",
      "\n",
      "Warnings:\n",
      "[1] Covariance matrix calculated using numerical (complex-step) differentiation.\n"
     ]
    }
   ],
   "source": [
    "gvkey_frame = gvkey_1045\n",
    "\n",
    "cds = gvkey_frame['market_cds_spread']\n",
    "pecds = gvkey_frame['pecds']\n",
    "\n",
    "gvkey_frame_ms = pd.DataFrame(data=(cds, pecds)).T\n",
    "\n",
    "#with switching intercept and lagged dependent variable\n",
    "res_gvkey_frame_ms_model_2 = sm.tsa.MarkovRegression(gvkey_frame_ms['market_cds_spread'],\n",
    "                                                     k_regimes=2, \n",
    "                                                     exog=gvkey_frame_ms['pecds'])\n",
    "\n",
    "res_gvkey_frame_ms_model_2 = res_gvkey_frame_ms_model_2.fit()\n",
    "\n",
    "print(res_gvkey_frame_ms_model_2.summary())"
   ]
  },
  {
   "cell_type": "code",
   "execution_count": 23,
   "metadata": {},
   "outputs": [
    {
     "data": {
      "image/png": "[encoded data removed]",
      "text/plain": [
       "<Figure size 864x216 with 1 Axes>"
      ]
     },
     "metadata": {
      "needs_background": "light"
     },
     "output_type": "display_data"
    }
   ],
   "source": [
    "res_gvkey_frame_ms_model_2.smoothed_marginal_probabilities[1].plot(title='Pr(High Regime)',\n",
    "                                                                figsize=(12,3));"
   ]
  },
  {
   "cell_type": "code",
   "execution_count": 24,
   "metadata": {},
   "outputs": [
    {
     "name": "stdout",
     "output_type": "stream",
     "text": [
      "[550.58287636 540.77126786]\n"
     ]
    }
   ],
   "source": [
    "#From the estimated transition matrix we can calculate the expected duration of a low regime versus a high regime.\n",
    "print(res_gvkey_frame_ms_model_2.expected_durations)"
   ]
  },
  {
   "cell_type": "code",
   "execution_count": 25,
   "metadata": {},
   "outputs": [],
   "source": [
    "#further regimes = taylor rule etc."
   ]
  },
  {
   "cell_type": "code",
   "execution_count": null,
   "metadata": {},
   "outputs": [],
   "source": []
  },
  {
   "cell_type": "markdown",
   "metadata": {},
   "source": [
    "## We can also accommodate switching variances. In particular, we consider the model"
   ]
  },
  {
   "cell_type": "code",
   "execution_count": null,
   "metadata": {},
   "outputs": [],
   "source": [
    "from statsmodels.tsa.regime_switching.tests.test_markov_regression import areturns"
   ]
  },
  {
   "cell_type": "code",
   "execution_count": null,
   "metadata": {},
   "outputs": [],
   "source": [
    "#change to \"areturns\" "
   ]
  },
  {
   "cell_type": "code",
   "execution_count": null,
   "metadata": {},
   "outputs": [],
   "source": [
    "gvkey_frame = gvkey_1045\n",
    "\n",
    "cds = gvkey_frame['market_cds_spread']\n",
    "pecds = gvkey_frame['pecds']\n",
    "\n",
    "gvkey_frame_ms = pd.DataFrame(data=(cds, pecds)).T\n",
    "\n",
    "#with switching intercept and lagged dependent variable\n",
    "res_gvkey_frame_ms_model_2 = sm.tsa.MarkovRegression(gvkey_frame_ms['market_cds_spread'],\n",
    "                                                     k_regimes=2, \n",
    "                                                     exog=gvkey_frame_ms['pecds'])\n",
    "\n",
    "res_gvkey_frame_ms_model_2 = res_gvkey_frame_ms_model_2.fit()\n",
    "\n",
    "print(res_gvkey_frame_ms_model_2.summary())"
   ]
  }
 ],
 "metadata": {
  "kernelspec": {
   "display_name": "Python 3",
   "language": "python",
   "name": "python3"
  },
  "language_info": {
   "codemirror_mode": {
    "name": "ipython",
    "version": 3
   },
   "file_extension": ".py",
   "mimetype": "text/x-python",
   "name": "python",
   "nbconvert_exporter": "python",
   "pygments_lexer": "ipython3",
   "version": "3.7.6"
  }
 },
 "nbformat": 4,
 "nbformat_minor": 4
}
