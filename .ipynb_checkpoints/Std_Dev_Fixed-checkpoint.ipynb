{
 "cells": [
  {
   "cell_type": "code",
   "execution_count": null,
   "metadata": {},
   "outputs": [],
   "source": [
    "#email tomislav: cleaning up low standard_deviation \n",
    "\n"
   ]
  },
  {
   "cell_type": "code",
   "execution_count": null,
   "metadata": {},
   "outputs": [],
   "source": []
  },
  {
   "cell_type": "code",
   "execution_count": null,
   "metadata": {},
   "outputs": [],
   "source": [
    "#system packages\n",
    "\n",
    "import sys\n",
    "import warnings\n",
    "import os \n",
    "import traceback #obs? \n",
    "if not sys.warnoptions:\n",
    "    warnings.filterwarnings(\"once\")  "
   ]
  },
  {
   "cell_type": "code",
   "execution_count": null,
   "metadata": {},
   "outputs": [],
   "source": [
    "#base packages:\n",
    "\n",
    "import matplotlib.pyplot as plt\n",
    "import numpy as np\n",
    "import pandas as pd\n",
    "import scipy as sp\n",
    "from scipy import stats, integrate, optimize\n",
    "import math\n",
    "import datetime\n",
    "from datetime import date, timedelta"
   ]
  },
  {
   "cell_type": "code",
   "execution_count": null,
   "metadata": {},
   "outputs": [],
   "source": [
    "#optional packages\n",
    "\n",
    "from statsmodels.tsa.base.datetools import dates_from_str\n",
    "from IPython.display import display\n",
    "pd.options.display.max_columns = 50  #allow DF.head to show all columns in notebook\n",
    "from see import see\n",
    "from tabulate import tabulate \n",
    "#from io import StringIO"
   ]
  },
  {
   "cell_type": "code",
   "execution_count": null,
   "metadata": {},
   "outputs": [],
   "source": [
    "#packages for the econometrics / models\n",
    "\n",
    "from statsmodels.tsa.vector_ar import vecm\n",
    "from statsmodels.tsa.stattools import adfuller\n",
    "from arch.unitroot import DFGLS, ADF, KPSS, PhillipsPerron, ZivotAndrews\n",
    "from arch.unitroot.cointegration import engle_granger, phillips_ouliaris\n",
    "import statsmodels.formula.api as smf  #VAR package contained within \n",
    "import statsmodels.tsa.api as smt\n",
    "\n",
    "#import the functionality for detecting mathematical errors (E.G. types of linear algebra issues etc.)\n",
    "from statsmodels.tools.sm_exceptions import ValueWarning\n",
    "from arch.utility.exceptions import (\n",
    "    InfeasibleTestException,\n",
    "    InvalidLengthWarning,\n",
    "    invalid_length_doc)\n",
    "warnings.filterwarnings(\"once\", category = ValueWarning)"
   ]
  },
  {
   "cell_type": "code",
   "execution_count": null,
   "metadata": {},
   "outputs": [],
   "source": [
    "#pickle file: \n",
    "#sorted_alldata_df_final = pd.read_pickle(\"./sorted_alldata_df_final.pkl\")\n",
    "\n",
    "sorted_alldata_df_final = pd.read_pickle(r\"C:\\Users\\JasonSpano\\OneDrive\\Uva Msc 19-20 Subjects\\Research Assistant Docs\\CDS_project_-_first_set_of_tasks\\Part 2_jan20./sorted_alldata_df_final.pkl\")"
   ]
  },
  {
   "cell_type": "code",
   "execution_count": null,
   "metadata": {},
   "outputs": [],
   "source": []
  },
  {
   "cell_type": "code",
   "execution_count": null,
   "metadata": {},
   "outputs": [],
   "source": []
  },
  {
   "cell_type": "code",
   "execution_count": null,
   "metadata": {},
   "outputs": [],
   "source": [
    "#sorted_alldata_df_final\n",
    "\n",
    "gvkey_1045 = sorted_alldata_df_final.loc[sorted_alldata_df_final.gvkey==1045]"
   ]
  },
  {
   "cell_type": "code",
   "execution_count": null,
   "metadata": {},
   "outputs": [],
   "source": [
    "gvkey_1045.loc[gvkey_1045.market_cds_spread[(np.abs(stats.zscore(gvkey_1045.market_cds_spread)) < 3).all()]]\n",
    "\n",
    "#key_error = true"
   ]
  },
  {
   "cell_type": "code",
   "execution_count": null,
   "metadata": {},
   "outputs": [],
   "source": []
  },
  {
   "cell_type": "code",
   "execution_count": null,
   "metadata": {},
   "outputs": [],
   "source": [
    "sorted_alldata_df_final.groupby(['gvkey'])['market_cds_spread'].std()\n",
    "#visualise"
   ]
  },
  {
   "cell_type": "code",
   "execution_count": null,
   "metadata": {},
   "outputs": [],
   "source": []
  },
  {
   "cell_type": "code",
   "execution_count": null,
   "metadata": {},
   "outputs": [],
   "source": [
    "gvkey_zscore = []\n",
    "gvkey_list = []\n",
    "\n",
    "for i, val in enumerate(sorted_alldata_df_final.groupby('gvkey')):\n",
    "    gvkey = val[0]\n",
    "    data = val[1]                        #assign the remainder of the data to be callable from data.(variable)\n",
    "    gvkey_list.append(gvkey) \n",
    "    \n",
    "    cds = data.market_cds_spread    \n",
    "    zscore = (np.abs(stats.zscore(cds)) <= 0.1).any()\n",
    "    gvkey_zscore.append(zscore)\n",
    "    \n",
    "    \n",
    "zscore_df = pd.DataFrame(data=(gvkey_list, gvkey_zscore)).T\n",
    "zscore_df.columns = ['gvkey','zscore']\n",
    "\n",
    "#prints boolean (T/F) in DF"
   ]
  },
  {
   "cell_type": "code",
   "execution_count": null,
   "metadata": {},
   "outputs": [],
   "source": []
  },
  {
   "cell_type": "code",
   "execution_count": null,
   "metadata": {},
   "outputs": [],
   "source": [
    "gvkey_1045[['market_cds_spread']].std()"
   ]
  },
  {
   "cell_type": "code",
   "execution_count": null,
   "metadata": {},
   "outputs": [],
   "source": [
    "gvkey_1045_stddev = 2014.135502\n",
    "gvkey_1045_cdsmean = 3430.216978"
   ]
  },
  {
   "cell_type": "code",
   "execution_count": null,
   "metadata": {},
   "outputs": [],
   "source": [
    "gvkey_1045['std_dev_'] = np.abs(gvkey_1045['market_cds_spread'] - gvkey_1045_cdsmean) / gvkey_1045_stddev"
   ]
  },
  {
   "cell_type": "code",
   "execution_count": null,
   "metadata": {},
   "outputs": [],
   "source": []
  },
  {
   "cell_type": "code",
   "execution_count": null,
   "metadata": {},
   "outputs": [],
   "source": []
  },
  {
   "cell_type": "code",
   "execution_count": null,
   "metadata": {},
   "outputs": [],
   "source": [
    "zero_stddev = df_basis_coupons_month.groupby(['gvkey','year_month'])['market_cds_spread'].std()==0\n",
    "zero_stddev.count(True)"
   ]
  },
  {
   "cell_type": "code",
   "execution_count": null,
   "metadata": {},
   "outputs": [],
   "source": []
  },
  {
   "cell_type": "code",
   "execution_count": null,
   "metadata": {},
   "outputs": [],
   "source": []
  },
  {
   "cell_type": "code",
   "execution_count": null,
   "metadata": {},
   "outputs": [],
   "source": [
    "for i, val in enumerate(df_basis_coupons_month_stddev.groupby(['gvkey'])['market_cds_spread']):\n",
    "    gvkey = val[0]\n",
    "    data = val[1]\n",
    "    df_basis_coupons_month_stddev['rolling_stddev'] = data.rolling(15).std()\n",
    "    \n",
    "    #cds = data.market_cds_spread\n",
    "    #df_basis_coupons_month['rolling_stddev'] = cds.rolling(5).std()\n",
    "    #df_basis_coupons_month_zscore['zscore'] = zscore(cds)\n",
    "    #df_basis_coupons_month_zscore['stddev'] = np.std(cds)"
   ]
  },
  {
   "cell_type": "code",
   "execution_count": null,
   "metadata": {},
   "outputs": [],
   "source": []
  },
  {
   "cell_type": "code",
   "execution_count": null,
   "metadata": {},
   "outputs": [],
   "source": []
  },
  {
   "cell_type": "code",
   "execution_count": null,
   "metadata": {},
   "outputs": [],
   "source": [
    "#alt methods: \n",
    "\n",
    "stddev_result = df_basis_coupons_month_zscore.groupby(['gvkey'], as_index=False).agg({'market_cds_spread':['mean','std']})\n",
    "\n",
    "Y = df_basis_coupons_month_zscore.groupby('gvkey')['market_cds_spread'].apply(lambda x: x.rolling(3).std()<=0.05)\n",
    "\n",
    "df_basis_coupons_month_zscore['stddev'] = df_basis_coupons_month_zscore.groupby('gvkey')['market_cds_spread'].std(ddof=0).fillna(0)\n"
   ]
  },
  {
   "cell_type": "code",
   "execution_count": null,
   "metadata": {},
   "outputs": [],
   "source": []
  },
  {
   "cell_type": "code",
   "execution_count": null,
   "metadata": {},
   "outputs": [],
   "source": [
    "df_basis_coupons_month_zscore.groupby('gvkey')['market_cds_spread'].std(ddof=0)"
   ]
  },
  {
   "cell_type": "code",
   "execution_count": null,
   "metadata": {},
   "outputs": [],
   "source": [
    "df_basis_coupons_month_zscore.groupby('gvkey')['market_cds_spread'].std() < 0.01"
   ]
  }
 ],
 "metadata": {
  "kernelspec": {
   "display_name": "Python 3",
   "language": "python",
   "name": "python3"
  },
  "language_info": {
   "codemirror_mode": {
    "name": "ipython",
    "version": 3
   },
   "file_extension": ".py",
   "mimetype": "text/x-python",
   "name": "python",
   "nbconvert_exporter": "python",
   "pygments_lexer": "ipython3",
   "version": "3.7.6"
  }
 },
 "nbformat": 4,
 "nbformat_minor": 4
}
