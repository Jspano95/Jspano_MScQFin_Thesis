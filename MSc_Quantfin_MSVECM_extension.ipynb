{
 "cells": [
  {
   "cell_type": "code",
   "execution_count": null,
   "metadata": {},
   "outputs": [],
   "source": [
    "##########\n",
    "\"\"\" \n",
    "THESIS EXTENSION: MS-VECM \n",
    "\n",
    "with (EM) \n",
    "\n",
    "\n",
    "\n",
    "\"\"\""
   ]
  },
  {
   "cell_type": "code",
   "execution_count": null,
   "metadata": {},
   "outputs": [],
   "source": [
    "## VECM MODEL EST: \n",
    "https://towardsdatascience.com/long-run-relationships-between-fang-stocks-82baf183840c\n",
    "https://www.researchgate.net/post/How_to_interpret_beta_and_alpha_in_VECM#:~:text=Indeed%2C%20in%20the%20VECM%2C%20causality,around%20the%20long%2Drun%20equilibrium.\n",
    "\n",
    "## MARKOV LINKS: \n",
    "https://www.statsmodels.org/stable/examples/notebooks/generated/markov_regression.html\n",
    "https://www.statsmodels.org/stable/generated/statsmodels.tsa.regime_switching.markov_regression.MarkovRegression.html\n",
    "http://www.eviews.com/help/helpintro.html#page/content/switching-Background.html \n",
    "https://docs.scipy.org/doc/scipy/reference/generated/scipy.stats.spearmanr.html    \n",
    "    \n",
    "## AUTOREG\n",
    "https://www.statsmodels.org/stable/examples/notebooks/generated/markov_autoregression.html\n",
    "\n",
    "    \n",
    "## EXPECTATION MAXIMISATION EM ALG\n",
    "https://machinelearningmastery.com/expectation-maximization-em-algorithm/\n",
    "https://au.mathworks.com/help/econ/specifying-lag-operator-polynomials-interactively.html    \n",
    "    https://towardsdatascience.com/implement-expectation-maximization-em-algorithm-in-python-from-scratch-f1278d1b9137\n",
    "    \n",
    "    #in (R)\n",
    "https://github.com/kjartako/MS_VAR/tree/master/MS_VECM\n",
    "    \n",
    "#johansen coint test:\n",
    "https://www.statsmodels.org/stable/generated/statsmodels.tsa.vector_ar.vecm.JohansenTestResult.html#statsmodels.tsa.vector_ar.vecm.JohansenTestResult\n",
    "    "
   ]
  },
  {
   "cell_type": "code",
   "execution_count": 1,
   "metadata": {},
   "outputs": [],
   "source": [
    "#system packages\n",
    "\n",
    "import sys\n",
    "import warnings\n",
    "import os \n",
    "import traceback #obs? \n",
    "if not sys.warnoptions:\n",
    "    warnings.filterwarnings(\"once\")  "
   ]
  },
  {
   "cell_type": "code",
   "execution_count": 2,
   "metadata": {},
   "outputs": [
    {
     "name": "stderr",
     "output_type": "stream",
     "text": [
      "C:\\Users\\JasonSpano\\anaconda3\\lib\\site-packages\\ipykernel\\ipkernel.py:287: DeprecationWarning: `should_run_async` will not call `transform_cell` automatically in the future. Please pass the result to `transformed_cell` argument and any exception that happen during thetransform in `preprocessing_exc_tuple` in IPython 7.17 and above.\n",
      "  and should_run_async(code)\n"
     ]
    }
   ],
   "source": [
    "#base packages:\n",
    "import collections\n",
    "import numpy as np\n",
    "import pandas as pd\n",
    "import scipy as sp\n",
    "from scipy import stats, integrate, optimize\n",
    "import math\n",
    "import datetime\n",
    "from datetime import date, timedelta\n",
    "\n",
    "## graphing packages ## \n",
    "import matplotlib.pyplot as plt\n",
    "import seaborn as sns\n",
    "%matplotlib inline"
   ]
  },
  {
   "cell_type": "code",
   "execution_count": 3,
   "metadata": {},
   "outputs": [
    {
     "name": "stderr",
     "output_type": "stream",
     "text": [
      "C:\\Users\\JasonSpano\\anaconda3\\lib\\site-packages\\ipykernel\\ipkernel.py:287: DeprecationWarning: `should_run_async` will not call `transform_cell` automatically in the future. Please pass the result to `transformed_cell` argument and any exception that happen during thetransform in `preprocessing_exc_tuple` in IPython 7.17 and above.\n",
      "  and should_run_async(code)\n"
     ]
    }
   ],
   "source": [
    "#optional packages\n",
    "from statsmodels.tsa.base.datetools import dates_from_str\n",
    "from IPython.display import display\n",
    "pd.options.display.max_columns = 60  #allow DF.head to show all columns in notebook\n",
    "from see import see\n",
    "from tabulate import tabulate \n",
    "#from io import StringIO"
   ]
  },
  {
   "cell_type": "code",
   "execution_count": 4,
   "metadata": {},
   "outputs": [
    {
     "name": "stderr",
     "output_type": "stream",
     "text": [
      "C:\\Users\\JasonSpano\\anaconda3\\lib\\site-packages\\patsy\\constraint.py:13: DeprecationWarning: Using or importing the ABCs from 'collections' instead of from 'collections.abc' is deprecated since Python 3.3, and in 3.9 it will stop working\n",
      "  from collections import Mapping\n"
     ]
    }
   ],
   "source": [
    "#packages for the econometrics / models\n",
    "\n",
    "##statsmodels \n",
    "import statsmodels.api as sm\n",
    "from statsmodels.tsa.vector_ar import vecm\n",
    "#import statsmodels.tsa.stattools as ts \n",
    "from statsmodels.tsa.stattools import adfuller, zivot_andrews\n",
    "import statsmodels.formula.api as smf  #VAR package contained within \n",
    "import statsmodels.tsa.api as smt\n",
    "from statsmodels.tsa.regime_switching import markov_autoregression\n",
    "\n",
    "#archpackage\n",
    "from arch.unitroot import DFGLS, ADF, KPSS, PhillipsPerron, ZivotAndrews, VarianceRatio\n",
    "from arch.unitroot.cointegration import engle_granger, phillips_ouliaris\n",
    "\n",
    "#import the functionality for detecting mathematical errors (E.G. types of linear algebra issues etc.)\n",
    "from statsmodels.tools.sm_exceptions import ValueWarning\n",
    "from arch.utility.exceptions import (\n",
    "    InfeasibleTestException,\n",
    "    InvalidLengthWarning,\n",
    "    invalid_length_doc)\n",
    "warnings.filterwarnings(\"once\", category = ValueWarning)"
   ]
  },
  {
   "cell_type": "code",
   "execution_count": 5,
   "metadata": {},
   "outputs": [
    {
     "name": "stderr",
     "output_type": "stream",
     "text": [
      "C:\\Users\\JasonSpano\\anaconda3\\lib\\site-packages\\ipykernel\\ipkernel.py:287: DeprecationWarning: `should_run_async` will not call `transform_cell` automatically in the future. Please pass the result to `transformed_cell` argument and any exception that happen during thetransform in `preprocessing_exc_tuple` in IPython 7.17 and above.\n",
      "  and should_run_async(code)\n"
     ]
    }
   ],
   "source": [
    "import statsmodels.tsa.stattools as ts "
   ]
  },
  {
   "cell_type": "code",
   "execution_count": 6,
   "metadata": {},
   "outputs": [],
   "source": [
    "#with ADF results: to be updated to VECM outcome (cointegration) eventually?\n",
    "sorted_alldata_df_final_adf_results = pd.read_pickle(\"./sorted_alldata_df_final_adf_results.pkl\")"
   ]
  },
  {
   "cell_type": "code",
   "execution_count": null,
   "metadata": {},
   "outputs": [],
   "source": [
    "class color:\n",
    "   #a simplified way to easily call different style elements for displaying outputs\n",
    "   RED = '\\033[91m'\n",
    "   BOLD = '\\033[1m'\n",
    "   UNDERLINE = '\\033[4m'\n",
    "   GREEN = '\\033[92m'\n",
    "   HEADER = '\\033[95m' \n",
    "   OKBLUE = '\\033[94m'\n",
    "   WARNING = '\\033[93m'\n",
    "   FAIL = '\\033[91m'\n",
    "   END = '\\033[0m'"
   ]
  },
  {
   "cell_type": "code",
   "execution_count": null,
   "metadata": {},
   "outputs": [],
   "source": []
  },
  {
   "cell_type": "markdown",
   "metadata": {},
   "source": [
    "## MARKOV SWITCHING DYNAMIC REGRESSIONS\n",
    "* Regime Switching in the price discovery leadership of CDS and/or bonds in different periods. \n",
    "\n",
    "\n",
    "####  Factors to consider in the models: \n",
    "* K_regimes: \n",
    "    * Number of possible regimes; there is some sound arguments to using 3 regimes (As in Guidolin, 2019). However, this paper considers only two possible regimes.\n",
    "* Trend:\n",
    "    * Once again, the trend variable will be set to an intercept (c)\n",
    "* Switching_Variance:\n",
    "    * Whether or not there will be regime-specific heteroskedasicity; specifically, whether the error term is allowed to have a switching variance\n",
    "* Switching_Exog:\n",
    "    * Allow all regression coefficients to switch across regimes"
   ]
  },
  {
   "cell_type": "code",
   "execution_count": null,
   "metadata": {},
   "outputs": [],
   "source": []
  },
  {
   "cell_type": "code",
   "execution_count": null,
   "metadata": {},
   "outputs": [],
   "source": [
    "## GRAPH TEST / VIEW CODE ## \n",
    "gvkey_selection = 1045 # 176404 #3226 #1440 #3226 #1078\n",
    "\n",
    "gvkey_group_df = sorted_alldata_df_final_adf_results.loc[sorted_alldata_df_final_adf_results.gvkey==gvkey_selection]\n",
    "print(\" COMPANY == \", gvkey_group_df.company_name.iloc[0], '\\n', \"SECTOR ==  \", gvkey_group_df.sector.iloc[0])\n",
    "\n",
    "fig, (ax1, ax2, ax3) = plt.subplots(3, figsize=(12,10))\n",
    "fig.suptitle('Single GVKEY: ({}) CDS Spread Subplots'.format(gvkey_selection))\n",
    "\n",
    "gvkey_group_df.groupby(['year_index'])['market_cds_spread'].plot(ax=ax1)\n",
    "ax1.set_ylabel('CDS Spread')\n",
    "ax1.axes.get_xaxis().set_visible(False)\n",
    "\n",
    "## OG\n",
    "gvkey_group_df.groupby(['year_index']).mean()['market_cds_spread'].plot(ax=ax2);\n",
    "\n",
    "## to change to rolling annual mean: \n",
    "#gvkey_group_df['market_cds_spread'].rolling(252).mean().plot(ax=ax2);\n",
    "ax2.set_ylabel('Annual Mean CDS Spread')\n",
    "ax2.set_xlabel('Year')\n",
    "ax2.axes.get_xaxis().set_visible(True)\n",
    "\n",
    "\n",
    "gvkey_group_df.groupby(['year_index'])['pecds'].plot(ax=ax3)\n",
    "ax3.set_ylabel('PECDS')\n",
    "ax3.axes.get_xaxis().set_visible(False);"
   ]
  },
  {
   "cell_type": "code",
   "execution_count": null,
   "metadata": {},
   "outputs": [],
   "source": []
  },
  {
   "cell_type": "code",
   "execution_count": null,
   "metadata": {},
   "outputs": [],
   "source": []
  },
  {
   "cell_type": "code",
   "execution_count": null,
   "metadata": {},
   "outputs": [],
   "source": [
    "##fulldata_df_weekly = fulldata_df.groupby('gvkey').resample('W-WED', on='trade_date').first()"
   ]
  },
  {
   "cell_type": "code",
   "execution_count": null,
   "metadata": {},
   "outputs": [],
   "source": [
    "gvkey_selection = 1045 #3226 #1078 #1440\n",
    "\n",
    "gvkey_frame = sorted_alldata_df_final_adf_results.loc[sorted_alldata_df_final_adf_results.gvkey==gvkey_selection]\n",
    "\n",
    "cds = gvkey_frame['market_cds_spread']\n",
    "pecds = gvkey_frame['pecds']\n",
    "\n",
    "gvkey_frame_ms = pd.DataFrame(data=(cds, pecds)).T\n",
    "\n",
    "test_dfgls_cds_trend_c = DFGLS(cds, trend='c', max_lags=10, method='BIC') \n",
    "### SWITCH TO VECM ORDER? \n",
    "print(\"DFGLS LAG ORDER: {}\".format(test_dfgls_cds_trend_c.lags))\n",
    "\n",
    "### CREATING LAGGED DEPENDENT VARIABLE: \n",
    "#exog_variables = pd.concat((cds.shift()[1:], pecds[1:]), axis=1)\n",
    "#gvkey_frame_ms['market_cds_spread'][1:]\n",
    "\n",
    "## ARRAY OF ONES FOR INTERCEPT ON TIME VARYING TRANSITION PROBABILITIES\n",
    "#timevarying_transition_probs = np.ones_like(cds)[np.newaxis]\n",
    "#timevarying_transition_probs = timevarying_transition_probs.T\n",
    "\n",
    "\n",
    "#with switching intercept and non-lagged dependent variable\n",
    "\n",
    "vecm_model_order = vecm.select_order(gvkey_frame_ms, maxlags=10)\n",
    "print(\"Original Model Order: {}\".format(vecm_model_order.bic))\n",
    "\n",
    "vecm_model_order_bic = vecm_model_order.bic\n",
    "\n",
    "if vecm_model_order_bic > 5:\n",
    "    vecm_model_order_bic = 5\n",
    "\n",
    "    \n",
    "## OG VECM MOD:     \n",
    "vecm_regression_model_og = vecm.VECM(gvkey_frame_ms, k_ar_diff=vecm_model_order_bic, \n",
    "                                  coint_rank=1, deterministic='co')\n",
    "\n",
    "vecm_regresion_fit_og = vecm_regression_model_og.fit()\n",
    "\n",
    "    \n",
    "    \n",
    "## MARKOV    \n",
    "vecm_cointeg_rank_msvecm = vecm.select_coint_rank(gvkey_frame_ms, det_order=0, k_ar_diff = vecm_model_order_bic, \n",
    "                                                  method='trace', signif=0.05)\n",
    "\n",
    "#ms_model_switching_var = sm.tsa.MarkovAutoregression(gvkey_frame_ms['market_cds_spread'][1:]\n",
    "\n",
    "ms_model_switching_var = sm.tsa.MarkovRegression(gvkey_frame_ms['market_cds_spread'],\n",
    "                                                 k_regimes=2, \n",
    "                                                 trend='c',\n",
    "                                                 order=vecm_model_order_bic,\n",
    "                                                 exog=gvkey_frame_ms['pecds'],\n",
    "                                                 switching_trend=True,\n",
    "                                                 switching_exog =True,\n",
    "                                                 switching_variance=True)\n",
    "\n",
    "ms_model_switching_var = ms_model_switching_var.fit()\n",
    "\n",
    "print(ms_model_switching_var.summary())"
   ]
  },
  {
   "cell_type": "code",
   "execution_count": null,
   "metadata": {},
   "outputs": [],
   "source": []
  },
  {
   "cell_type": "code",
   "execution_count": null,
   "metadata": {},
   "outputs": [],
   "source": [
    "see(ms_model_switching_var)"
   ]
  },
  {
   "cell_type": "code",
   "execution_count": null,
   "metadata": {},
   "outputs": [],
   "source": []
  },
  {
   "cell_type": "code",
   "execution_count": null,
   "metadata": {},
   "outputs": [],
   "source": [
    "ms_model_switching_var.smoothed_marginal_probabilities"
   ]
  },
  {
   "cell_type": "code",
   "execution_count": null,
   "metadata": {},
   "outputs": [],
   "source": [
    "## spearman's correlation: \n",
    "stats.spearmanr(ms_model_switching_var.smoothed_marginal_probabilities[1], \n",
    "               ms_model_switching_var.smoothed_marginal_probabilities[0])"
   ]
  },
  {
   "cell_type": "code",
   "execution_count": null,
   "metadata": {},
   "outputs": [],
   "source": [
    "Spearman_Results = stats.spearmanr(ms_model_switching_var.smoothed_marginal_probabilities[1], \n",
    "               ms_model_switching_var.smoothed_marginal_probabilities[0])\n",
    "Spearman_Results"
   ]
  },
  {
   "cell_type": "code",
   "execution_count": null,
   "metadata": {},
   "outputs": [],
   "source": [
    "Spearman_Results[0] #[1] == pvalue"
   ]
  },
  {
   "cell_type": "code",
   "execution_count": null,
   "metadata": {},
   "outputs": [],
   "source": []
  },
  {
   "cell_type": "code",
   "execution_count": null,
   "metadata": {},
   "outputs": [],
   "source": [
    "ms_model_switching_var.expected_durations"
   ]
  },
  {
   "cell_type": "code",
   "execution_count": null,
   "metadata": {},
   "outputs": [],
   "source": [
    "ms_model_switching_var.regime_transition"
   ]
  },
  {
   "cell_type": "code",
   "execution_count": null,
   "metadata": {},
   "outputs": [],
   "source": [
    "## standard errorS: \n",
    "ms_model_switching_var.bse"
   ]
  },
  {
   "cell_type": "code",
   "execution_count": null,
   "metadata": {},
   "outputs": [],
   "source": [
    "ms_model_switching_var.params"
   ]
  },
  {
   "cell_type": "code",
   "execution_count": null,
   "metadata": {},
   "outputs": [],
   "source": [
    "ms_model_switching_var.smoothed_marginal_probabilities[1].plot()\n",
    "#so [1] refers to the (high) CDS REGIME: "
   ]
  },
  {
   "cell_type": "code",
   "execution_count": null,
   "metadata": {},
   "outputs": [],
   "source": []
  },
  {
   "cell_type": "code",
   "execution_count": null,
   "metadata": {},
   "outputs": [],
   "source": []
  },
  {
   "cell_type": "code",
   "execution_count": null,
   "metadata": {},
   "outputs": [],
   "source": []
  },
  {
   "cell_type": "markdown",
   "metadata": {},
   "source": [
    "## AUTOREGRESSIVE VERSION \n",
    "\n"
   ]
  },
  {
   "cell_type": "code",
   "execution_count": null,
   "metadata": {},
   "outputs": [],
   "source": []
  },
  {
   "cell_type": "code",
   "execution_count": null,
   "metadata": {},
   "outputs": [],
   "source": [
    "gvkey_selection = 1045 #3226 #1078 #1440\n",
    "\n",
    "gvkey_frame = sorted_alldata_df_final_adf_results.loc[sorted_alldata_df_final_adf_results.gvkey==gvkey_selection]\n",
    "\n",
    "cds = gvkey_frame['market_cds_spread']\n",
    "pecds = gvkey_frame['pecds']\n",
    "\n",
    "gvkey_frame_ms = pd.DataFrame(data=(cds, pecds)).T\n",
    "\n",
    "#exog_variables = pd.concat((cds.shift()[1:], pecds[1:]), axis=1)\n",
    "#exog_variables = pd.DataFrame(data=(cds[:-1], pecds)).T\n",
    "\n",
    "## ARRAY OF ONES FOR INTERCEPT ON TIME VARYING TRANSITION PROBABILITIES\n",
    "#timevarying_transition_probs = np.ones_like(cds)[np.newaxis]\n",
    "#timevarying_transition_probs = timevarying_transition_probs.T\n",
    "\n",
    "#with switching intercept and non-lagged dependent variable\n",
    "\n",
    "vecm_model_order = vecm.select_order(gvkey_frame_ms, maxlags=10)\n",
    "print(\"Original Model Order: {}\".format(vecm_model_order.bic))\n",
    "\n",
    "vecm_model_order_bic = vecm_model_order.bic\n",
    "\n",
    "if vecm_model_order_bic > 5:\n",
    "    vecm_model_order_bic = 5\n",
    "\n",
    "\n",
    "ms_model_switching_var = sm.tsa.MarkovAutoregression(gvkey_frame_ms['market_cds_spread'],\n",
    "                                                 k_regimes=2, \n",
    "                                                 trend='c',\n",
    "                                                 order= vecm_model_order_bic, #vecm_model_order.bic,\n",
    "                                                 exog=gvkey_frame_ms['pecds'],\n",
    "                                                 switching_ar=False,\n",
    "                                                 switching_trend=True,\n",
    "                                                 switching_exog =True,\n",
    "                                                 switching_variance=True)\n",
    "\n",
    "ms_model_switching_var = ms_model_switching_var.fit()\n",
    "\n",
    "print(ms_model_switching_var.summary())\n",
    "\n",
    "print('\\n', \"--\"*25, '\\n', \"Correlation Param: \", '\\n', \n",
    "stats.spearmanr(ms_model_switching_var.smoothed_marginal_probabilities[1], \n",
    "               ms_model_switching_var.smoothed_marginal_probabilities[0]))"
   ]
  },
  {
   "cell_type": "code",
   "execution_count": null,
   "metadata": {},
   "outputs": [],
   "source": []
  },
  {
   "cell_type": "code",
   "execution_count": null,
   "metadata": {},
   "outputs": [],
   "source": []
  },
  {
   "cell_type": "code",
   "execution_count": null,
   "metadata": {},
   "outputs": [],
   "source": []
  },
  {
   "cell_type": "markdown",
   "metadata": {},
   "source": [
    "## getting spearman correlation on groupby(DF)"
   ]
  },
  {
   "cell_type": "code",
   "execution_count": null,
   "metadata": {},
   "outputs": [],
   "source": [
    "## long execution time! "
   ]
  },
  {
   "cell_type": "code",
   "execution_count": 7,
   "metadata": {},
   "outputs": [
    {
     "name": "stderr",
     "output_type": "stream",
     "text": [
      "C:\\Users\\JasonSpano\\anaconda3\\lib\\site-packages\\ipykernel\\ipkernel.py:287: DeprecationWarning: `should_run_async` will not call `transform_cell` automatically in the future. Please pass the result to `transformed_cell` argument and any exception that happen during thetransform in `preprocessing_exc_tuple` in IPython 7.17 and above.\n",
      "  and should_run_async(code)\n"
     ]
    },
    {
     "data": {
      "text/plain": [
       "gvkey\n",
       "1045       546\n",
       "1078       620\n",
       "1161      1885\n",
       "1209      1471\n",
       "1300      2374\n",
       "          ... \n",
       "175263     265\n",
       "176404    2092\n",
       "176760    1760\n",
       "179657     523\n",
       "179700    1498\n",
       "Length: 391, dtype: int64"
      ]
     },
     "execution_count": 7,
     "metadata": {},
     "output_type": "execute_result"
    }
   ],
   "source": [
    "sorted_alldata_df_final_adf_results.groupby('gvkey').size()"
   ]
  },
  {
   "cell_type": "code",
   "execution_count": 8,
   "metadata": {},
   "outputs": [],
   "source": [
    "key_testers = [104, 1078, 1161, 1209, 1300, 176760]"
   ]
  },
  {
   "cell_type": "code",
   "execution_count": 10,
   "metadata": {},
   "outputs": [
    {
     "name": "stderr",
     "output_type": "stream",
     "text": [
      "C:\\Users\\JasonSpano\\anaconda3\\lib\\site-packages\\ipykernel\\ipkernel.py:287: DeprecationWarning: `should_run_async` will not call `transform_cell` automatically in the future. Please pass the result to `transformed_cell` argument and any exception that happen during thetransform in `preprocessing_exc_tuple` in IPython 7.17 and above.\n",
      "  and should_run_async(code)\n"
     ]
    }
   ],
   "source": [
    "#sorted_alldata_df_final_adf_results.loc[sorted_alldata_df_final_adf_results.gvkey.isin(key_testers)]"
   ]
  },
  {
   "cell_type": "code",
   "execution_count": 15,
   "metadata": {},
   "outputs": [
    {
     "name": "stderr",
     "output_type": "stream",
     "text": [
      "C:\\Users\\JasonSpano\\anaconda3\\lib\\site-packages\\ipykernel\\ipkernel.py:287: DeprecationWarning: `should_run_async` will not call `transform_cell` automatically in the future. Please pass the result to `transformed_cell` argument and any exception that happen during thetransform in `preprocessing_exc_tuple` in IPython 7.17 and above.\n",
      "  and should_run_async(code)\n",
      "C:\\Users\\JasonSpano\\anaconda3\\lib\\site-packages\\statsmodels\\tsa\\base\\tsa_model.py:578: ValueWarning: An unsupported index was provided and will be ignored when e.g. forecasting.\n",
      "  warnings.warn('An unsupported index was provided and will be'\n"
     ]
    },
    {
     "name": "stdout",
     "output_type": "stream",
     "text": [
      "Wall time: 6.93 s\n"
     ]
    }
   ],
   "source": [
    "%%time\n",
    "\n",
    "gvkey_list = []\n",
    "sector_list = []\n",
    "\n",
    "## MS-VECM ITEMS: \n",
    "smoothed_regime_probabilities = []\n",
    "smoothed_regime_probabilities_pval = []\n",
    "regime_durations = []\n",
    "#smoothed_regime_prob_cds = []\n",
    "#smoothed_regime_prob_bond = []\n",
    "\n",
    "\n",
    "## group the data by GVKEY for the loop regressions: \n",
    "for i, val in enumerate(sorted_alldata_df_final_adf_results.loc[sorted_alldata_df_final_adf_results.gvkey.isin(key_testers)].groupby('gvkey')):\n",
    "    gvkey = val[0]\n",
    "    data = val[1]  \n",
    "    gvkey_list.append(gvkey)             \n",
    "    sector_string = data.sector\n",
    "    sector_list.append(sector_string.iloc[0])\n",
    "    \n",
    "    \n",
    "    ## ADD THIS: \n",
    "    # test_dfgls_cds_trend_c = DFGLS(cds, trend='c', max_lags=10, method='BIC') \n",
    "    \n",
    "    \n",
    "    #load the data to create the model for each GVKEY/LOOP\n",
    "    cds = data.market_cds_spread\n",
    "    pecds = data.pecds\n",
    "    ms_vecm_data = pd.DataFrame(data=(cds, pecds)).T\n",
    "    \n",
    "    ## fit the model with maximum of 2 regimes\n",
    "    ms_model_switching_var = sm.tsa.MarkovRegression(ms_vecm_data['market_cds_spread'],\n",
    "                                                     k_regimes=2, \n",
    "                                                     trend='nc',\n",
    "                                                     order=1, #vecm_model_order.bic, \n",
    "                                                     exog=ms_vecm_data['pecds'],\n",
    "                                                     switching_trend=True,\n",
    "                                                     switching_exog =True,\n",
    "                                                     switching_variance=True)\n",
    "\n",
    "    ms_model_switching_var = ms_model_switching_var.fit()\n",
    "    \n",
    "    \n",
    "    ## calculate spearman correlation of the smoothed marginal(regime) probabilities: \n",
    "    spearman_corr = stats.spearmanr(ms_model_switching_var.smoothed_marginal_probabilities[0], \n",
    "               ms_model_switching_var.smoothed_marginal_probabilities[1])\n",
    "    \n",
    "    smoothed_regime_probabilities.append(np.round(spearman_corr[0],4))\n",
    "    smoothed_regime_probabilities_pval.append(np.round(spearman_corr[1],4))\n",
    "    \n",
    "    regime_durations.append(np.round(ms_model_switching_var.expected_durations,4))\n",
    "    \n",
    "    \n",
    "ms_vecm_results_df = pd.DataFrame(data=(gvkey_list, sector_list, \n",
    "                                       smoothed_regime_probabilities, smoothed_regime_probabilities_pval,\n",
    "                                       regime_durations)).T\n",
    "\n",
    "ms_vecm_results_df.columns = ['gvkey','sector','regime_corr','regime_corr_pval', 'regime_durations']\n"
   ]
  },
  {
   "cell_type": "code",
   "execution_count": null,
   "metadata": {},
   "outputs": [],
   "source": []
  },
  {
   "cell_type": "code",
   "execution_count": 16,
   "metadata": {},
   "outputs": [
    {
     "data": {
      "text/html": [
       "<div>\n",
       "<style scoped>\n",
       "    .dataframe tbody tr th:only-of-type {\n",
       "        vertical-align: middle;\n",
       "    }\n",
       "\n",
       "    .dataframe tbody tr th {\n",
       "        vertical-align: top;\n",
       "    }\n",
       "\n",
       "    .dataframe thead th {\n",
       "        text-align: right;\n",
       "    }\n",
       "</style>\n",
       "<table border=\"1\" class=\"dataframe\">\n",
       "  <thead>\n",
       "    <tr style=\"text-align: right;\">\n",
       "      <th></th>\n",
       "      <th>gvkey</th>\n",
       "      <th>sector</th>\n",
       "      <th>regime_corr</th>\n",
       "      <th>regime_corr_pval</th>\n",
       "      <th>regime_durations</th>\n",
       "    </tr>\n",
       "  </thead>\n",
       "  <tbody>\n",
       "    <tr>\n",
       "      <th>0</th>\n",
       "      <td>1078</td>\n",
       "      <td>Health Care</td>\n",
       "      <td>-0.9787</td>\n",
       "      <td>0</td>\n",
       "      <td>[55.4033, 159.1551]</td>\n",
       "    </tr>\n",
       "    <tr>\n",
       "      <th>1</th>\n",
       "      <td>1161</td>\n",
       "      <td>Technology</td>\n",
       "      <td>-0.992</td>\n",
       "      <td>0</td>\n",
       "      <td>[319.0686, 844.9735]</td>\n",
       "    </tr>\n",
       "    <tr>\n",
       "      <th>2</th>\n",
       "      <td>1209</td>\n",
       "      <td>Materials</td>\n",
       "      <td>-0.7774</td>\n",
       "      <td>0</td>\n",
       "      <td>[351.9797, 1321.6516]</td>\n",
       "    </tr>\n",
       "    <tr>\n",
       "      <th>3</th>\n",
       "      <td>1300</td>\n",
       "      <td>Capital Goods</td>\n",
       "      <td>-0.9914</td>\n",
       "      <td>0</td>\n",
       "      <td>[185.8944, 236.7948]</td>\n",
       "    </tr>\n",
       "    <tr>\n",
       "      <th>4</th>\n",
       "      <td>176760</td>\n",
       "      <td>Materials</td>\n",
       "      <td>-0.997</td>\n",
       "      <td>0</td>\n",
       "      <td>[1008.8373, 2121.0133]</td>\n",
       "    </tr>\n",
       "  </tbody>\n",
       "</table>\n",
       "</div>"
      ],
      "text/plain": [
       "    gvkey         sector regime_corr regime_corr_pval        regime_durations\n",
       "0    1078    Health Care     -0.9787                0     [55.4033, 159.1551]\n",
       "1    1161     Technology      -0.992                0    [319.0686, 844.9735]\n",
       "2    1209      Materials     -0.7774                0   [351.9797, 1321.6516]\n",
       "3    1300  Capital Goods     -0.9914                0    [185.8944, 236.7948]\n",
       "4  176760      Materials      -0.997                0  [1008.8373, 2121.0133]"
      ]
     },
     "execution_count": 16,
     "metadata": {},
     "output_type": "execute_result"
    }
   ],
   "source": [
    "ms_vecm_results_df"
   ]
  },
  {
   "cell_type": "code",
   "execution_count": 18,
   "metadata": {},
   "outputs": [
    {
     "data": {
      "text/html": [
       "<div>\n",
       "<style scoped>\n",
       "    .dataframe tbody tr th:only-of-type {\n",
       "        vertical-align: middle;\n",
       "    }\n",
       "\n",
       "    .dataframe tbody tr th {\n",
       "        vertical-align: top;\n",
       "    }\n",
       "\n",
       "    .dataframe thead th {\n",
       "        text-align: right;\n",
       "    }\n",
       "</style>\n",
       "<table border=\"1\" class=\"dataframe\">\n",
       "  <thead>\n",
       "    <tr style=\"text-align: right;\">\n",
       "      <th></th>\n",
       "      <th>gvkey</th>\n",
       "      <th>sector</th>\n",
       "      <th>regime_corr</th>\n",
       "      <th>regime_corr_pval</th>\n",
       "      <th>regime_durations</th>\n",
       "    </tr>\n",
       "  </thead>\n",
       "  <tbody>\n",
       "    <tr>\n",
       "      <th>0</th>\n",
       "      <td>1078</td>\n",
       "      <td>Health Care</td>\n",
       "      <td>-0.7189</td>\n",
       "      <td>0</td>\n",
       "      <td>[150.2833, 253.214]</td>\n",
       "    </tr>\n",
       "    <tr>\n",
       "      <th>1</th>\n",
       "      <td>1161</td>\n",
       "      <td>Technology</td>\n",
       "      <td>-0.9911</td>\n",
       "      <td>0</td>\n",
       "      <td>[262.307, 475.815]</td>\n",
       "    </tr>\n",
       "    <tr>\n",
       "      <th>2</th>\n",
       "      <td>1209</td>\n",
       "      <td>Materials</td>\n",
       "      <td>-0.9976</td>\n",
       "      <td>0</td>\n",
       "      <td>[578.9461, 1060.3733]</td>\n",
       "    </tr>\n",
       "    <tr>\n",
       "      <th>3</th>\n",
       "      <td>1300</td>\n",
       "      <td>Capital Goods</td>\n",
       "      <td>-1</td>\n",
       "      <td>0</td>\n",
       "      <td>[149.5823, 438.1522]</td>\n",
       "    </tr>\n",
       "    <tr>\n",
       "      <th>4</th>\n",
       "      <td>176760</td>\n",
       "      <td>Materials</td>\n",
       "      <td>-0.9726</td>\n",
       "      <td>0</td>\n",
       "      <td>[372.0346, 540.1661]</td>\n",
       "    </tr>\n",
       "  </tbody>\n",
       "</table>\n",
       "</div>"
      ],
      "text/plain": [
       "    gvkey         sector regime_corr regime_corr_pval       regime_durations\n",
       "0    1078    Health Care     -0.7189                0    [150.2833, 253.214]\n",
       "1    1161     Technology     -0.9911                0     [262.307, 475.815]\n",
       "2    1209      Materials     -0.9976                0  [578.9461, 1060.3733]\n",
       "3    1300  Capital Goods          -1                0   [149.5823, 438.1522]\n",
       "4  176760      Materials     -0.9726                0   [372.0346, 540.1661]"
      ]
     },
     "execution_count": 18,
     "metadata": {},
     "output_type": "execute_result"
    }
   ],
   "source": [
    "ms_vecm_results_df"
   ]
  },
  {
   "cell_type": "code",
   "execution_count": null,
   "metadata": {},
   "outputs": [],
   "source": []
  },
  {
   "cell_type": "code",
   "execution_count": 17,
   "metadata": {},
   "outputs": [
    {
     "name": "stderr",
     "output_type": "stream",
     "text": [
      "C:\\Users\\JasonSpano\\anaconda3\\lib\\site-packages\\ipykernel\\ipkernel.py:287: DeprecationWarning: `should_run_async` will not call `transform_cell` automatically in the future. Please pass the result to `transformed_cell` argument and any exception that happen during thetransform in `preprocessing_exc_tuple` in IPython 7.17 and above.\n",
      "  and should_run_async(code)\n",
      "C:\\Users\\JasonSpano\\anaconda3\\lib\\site-packages\\statsmodels\\tsa\\base\\tsa_model.py:578: ValueWarning: An unsupported index was provided and will be ignored when e.g. forecasting.\n",
      "  warnings.warn('An unsupported index was provided and will be'\n"
     ]
    },
    {
     "name": "stdout",
     "output_type": "stream",
     "text": [
      "Wall time: 4.88 s\n"
     ]
    }
   ],
   "source": [
    "%%time\n",
    "\n",
    "gvkey_list = []\n",
    "sector_list = []\n",
    "\n",
    "## MS-VECM ITEMS: \n",
    "smoothed_regime_probabilities = []\n",
    "smoothed_regime_probabilities_pval = []\n",
    "regime_durations = []\n",
    "#smoothed_regime_prob_cds = []\n",
    "#smoothed_regime_prob_bond = []\n",
    "\n",
    "\n",
    "## group the data by GVKEY for the loop regressions: \n",
    "for i, val in enumerate(sorted_alldata_df_final_adf_results.loc[sorted_alldata_df_final_adf_results.gvkey.isin(key_testers)].groupby('gvkey')):\n",
    "    gvkey = val[0]\n",
    "    data = val[1]  \n",
    "    gvkey_list.append(gvkey)             \n",
    "    sector_string = data.sector\n",
    "    sector_list.append(sector_string.iloc[0])\n",
    "    \n",
    "    \n",
    "    ## ADD THIS: \n",
    "    # test_dfgls_cds_trend_c = DFGLS(cds, trend='c', max_lags=10, method='BIC') \n",
    "    \n",
    "    \n",
    "    #load the data to create the model for each GVKEY/LOOP\n",
    "    cds = data.market_cds_spread\n",
    "    pecds = data.pecds\n",
    "    ms_vecm_data = pd.DataFrame(data=(cds, pecds)).T\n",
    "    \n",
    "    ## fit the model with maximum of 2 regimes\n",
    "    ms_model_switching_var = sm.tsa.MarkovRegression(ms_vecm_data['pecds'],\n",
    "                                                     k_regimes=2, \n",
    "                                                     trend='nc',\n",
    "                                                     order=1, #vecm_model_order.bic, \n",
    "                                                     exog=ms_vecm_data['market_cds_spread'],\n",
    "                                                     switching_trend=True,\n",
    "                                                     switching_exog =True,\n",
    "                                                     switching_variance=True)\n",
    "\n",
    "    ms_model_switching_var = ms_model_switching_var.fit()\n",
    "    \n",
    "    \n",
    "    ## calculate spearman correlation of the smoothed marginal(regime) probabilities: \n",
    "    spearman_corr = stats.spearmanr(ms_model_switching_var.smoothed_marginal_probabilities[0], \n",
    "               ms_model_switching_var.smoothed_marginal_probabilities[1])\n",
    "    \n",
    "    smoothed_regime_probabilities.append(np.round(spearman_corr[0],4))\n",
    "    smoothed_regime_probabilities_pval.append(np.round(spearman_corr[1],4))\n",
    "    \n",
    "    regime_durations.append(np.round(ms_model_switching_var.expected_durations,4))\n",
    "    \n",
    "    \n",
    "ms_vecm_results_df = pd.DataFrame(data=(gvkey_list, sector_list, \n",
    "                                       smoothed_regime_probabilities, smoothed_regime_probabilities_pval,\n",
    "                                       regime_durations)).T\n",
    "\n",
    "ms_vecm_results_df.columns = ['gvkey','sector','regime_corr','regime_corr_pval', 'regime_durations']"
   ]
  },
  {
   "cell_type": "code",
   "execution_count": null,
   "metadata": {},
   "outputs": [],
   "source": []
  },
  {
   "cell_type": "code",
   "execution_count": null,
   "metadata": {},
   "outputs": [],
   "source": []
  },
  {
   "cell_type": "code",
   "execution_count": null,
   "metadata": {},
   "outputs": [],
   "source": []
  },
  {
   "cell_type": "code",
   "execution_count": null,
   "metadata": {},
   "outputs": [],
   "source": []
  },
  {
   "cell_type": "code",
   "execution_count": null,
   "metadata": {},
   "outputs": [],
   "source": []
  },
  {
   "cell_type": "code",
   "execution_count": null,
   "metadata": {},
   "outputs": [],
   "source": []
  },
  {
   "cell_type": "code",
   "execution_count": null,
   "metadata": {},
   "outputs": [],
   "source": []
  },
  {
   "cell_type": "markdown",
   "metadata": {},
   "source": [
    "## SINGLE GVKEY TESTER ITEMS "
   ]
  },
  {
   "cell_type": "code",
   "execution_count": null,
   "metadata": {},
   "outputs": [],
   "source": []
  },
  {
   "cell_type": "code",
   "execution_count": null,
   "metadata": {},
   "outputs": [],
   "source": []
  },
  {
   "cell_type": "code",
   "execution_count": null,
   "metadata": {},
   "outputs": [],
   "source": []
  },
  {
   "cell_type": "code",
   "execution_count": null,
   "metadata": {},
   "outputs": [],
   "source": [
    "omega = np.cov(vecm_regresion_fit.resid, rowvar=False)\n",
    "\n",
    "np.linalg.cholesky(omega)\n",
    "\n",
    "corrcoefs = np.corrcoef(vecm_regresion_fit.resid, rowvar=False)\n",
    "corrcoefs"
   ]
  },
  {
   "cell_type": "code",
   "execution_count": null,
   "metadata": {},
   "outputs": [],
   "source": [
    "#Original VECM base: CDS/PECDS\n",
    "\n",
    "\n",
    "gvkey_selection = 4060\n",
    "\n",
    "gvkey_group_df = sorted_alldata_df_final_adf_results.loc[sorted_alldata_df_final_adf_results.gvkey==gvkey_selection]\n",
    "print(\" COMPANY NAME IS: \", gvkey_group_df.company_name.iloc[0], '\\n', \"COMPANY SECTOR: \", gvkey_group_df.sector.iloc[0])\n",
    "\n",
    "cds = gvkey_group_df['market_cds_spread']\n",
    "pecds = gvkey_group_df['pecds']\n",
    "vecm_data_base = pd.DataFrame(data=(cds, pecds)).T\n",
    "\n",
    "vecm_model_base = vecm.select_order(vecm_data_base, maxlags=5)\n",
    "optimal_lag_length_base = vecm_model_base.bic\n",
    "    \n",
    "vecm_cointeg_rank_base = vecm.select_coint_rank(vecm_data_base, det_order =1, k_ar_diff = optimal_lag_length_base, \n",
    "                                                  method='trace', signif=0.05)\n",
    "\n",
    "#enforce statistical restriction that number of cointegrating relationships = (#variables - 1)\n",
    "if vecm_cointeg_rank_base.rank >= 1:\n",
    "    coint_rels_base = 1\n",
    "else:\n",
    "    print(\"insufficient number of cointegrating relationships for VECM model\")\n",
    "    \n",
    "vecm_base = vecm.VECM(vecm_data_base, k_ar_diff=vecm_model_base.bic, \n",
    "                      coint_rank=coint_rels_base, deterministic='co')\n",
    "\n",
    "vecm_base_res = vecm_base.fit()\n",
    "\n",
    "print(vecm_base_res.summary())\n",
    "\n",
    "print('\\n\\n', vecm_base_res.test_granger_causality(caused=0).summary(),'\\n\\n',\n",
    "vecm_base_res.test_granger_causality(caused=1).summary())"
   ]
  },
  {
   "cell_type": "code",
   "execution_count": null,
   "metadata": {},
   "outputs": [],
   "source": [
    "#from the loop: \n",
    "print(\" COINT RANK: {}\".format(gvkey_group_df.coint_rank.iloc[0]), '\\n', \"Valid Test Conditions: {}\".format(\n",
    "gvkey_group_df.ADF_RESULT.iloc[0]), '\\n', \"--\"*25)\n",
    "\n",
    "\n",
    "############\n",
    "############ REMOVED BRACKETS FROM DENOMINATOR! \n",
    "gg_val = np.round(vecm_base_res.alpha[1,0] / vecm_base_res.alpha[1,0] - vecm_base_res.alpha[0,0], 2)\n",
    "\n",
    "## BETA (wrong)\n",
    "#gg_val = np.round(vecm_base_res.beta[1,0] / (vecm_base_res.beta[1,0] - vecm_base_res.beta[0,0]), 2)\n",
    "\n",
    "sigma_u = vecm_base_res.sigma_u\n",
    "chol_decomp = np.linalg.cholesky(vecm_base_res.sigma_u)\n",
    "\n",
    "sig_1 = chol_decomp[0, 0]\n",
    "sig_12 = chol_decomp[1, 0]\n",
    "sig_2 = chol_decomp[1, 1]\n",
    "\n",
    "## seem to be the inverse of the beta(s)??? \n",
    "loading_coef_1 = (vecm_base_res.beta[0] - vecm_base_res.const_coint[0,0] - vecm_base_res.alpha[0,0] - vecm_base_res.lin_trend_coint[0, 0])\n",
    "loading_coef_2 = (vecm_base_res.beta[1] + vecm_base_res.const_coint[0,0] + vecm_base_res.alpha[1,0] + vecm_base_res.lin_trend_coint[0, 0])\n",
    "\n",
    "x_1 = np.round(vecm_base_res.alpha[0,0],5)\n",
    "x_2 = np.round(vecm_base_res.alpha[1,0], 5)\n",
    "\n",
    "## BETA\n",
    "#x_1 = vecm_base_res.beta[0,0]\n",
    "#x_2 = vecm_base_res.beta[1,0]\n",
    "\n",
    "HAS_1 = np.round(( x_2**2 * (sig_1**2 - sig_12**2 / sig_2**2) )  / ( x_2**2 * sig_1**2 - 2*x_1*x_2*sig_12 + x_1**2 * sig_2**2 ),4)\n",
    "HAS_2 = np.round(( (x_2 * sig_1 - x_1 * sig_12 / sig_1)**2 ) / ( x_2**2 * sig_1**2 - 2*x_1*x_2*sig_12 + x_1**2 * sig_2**2 ),4)\n",
    "HAS_mid = np.round((HAS_2 + HAS_1) / 2,4)\n",
    "\n",
    "print(\" GG VALUE {}\".format(gg_val), '\\n',\n",
    "     \"Loading Coef_1 {}\".format(loading_coef_1), '\\n',\n",
    "     \"Loading Coef_2 {}\".format(loading_coef_2), '\\n',\n",
    "     \"X_1: {} \\n X_2: {}\".format(x_1, x_2), '\\n',\n",
    "     \"HAS_1: {} \\n HAS_MID: {} \\n HAS_2: {}\".format(HAS_1, HAS_mid, HAS_2),'\\n', \"--\"*25,\n",
    "     '\\n', \"Sigma_U:\", '\\n', sigma_u, '\\n', \"--\"*25, '\\n', \"Cholesky Decomposition of Sigma_U: \", '\\n', chol_decomp, '\\n',\n",
    "       \"--\"*25, '\\n',\n",
    "     \"Betas(1,0): {} \\n Betas(0,0): {}\".format(vecm_base_res.beta[1,0], vecm_base_res.beta[0,0]), '\\n',  \"--\"*25, '\\n',\n",
    "     \"Alphas(1,0): {} \\n Alphas(0,0): {}\".format(vecm_base_res.alpha[1,0], vecm_base_res.alpha[0,0]), '\\n',  \"--\"*25)"
   ]
  },
  {
   "cell_type": "code",
   "execution_count": null,
   "metadata": {},
   "outputs": [],
   "source": [
    "### GG  value close to (1) implies all variation is occuring in the CDS? \n",
    "### which is plausible as the bond is stationary? \n",
    "\n",
    "## check values of X_1 and X_2 --- \n",
    "## make sure the beta(1,0) or (0,1) are correctly represented in the formula for has / gg\n",
    "## change names of has_1 / has_2 to upper/lower\n",
    "\n",
    "## change DF format to be more succint (drop test_vals etc. wherever possible)\n",
    "\n",
    "#### then, see how hard it would be to implement the markov model? "
   ]
  },
  {
   "cell_type": "code",
   "execution_count": null,
   "metadata": {},
   "outputs": [],
   "source": []
  },
  {
   "cell_type": "code",
   "execution_count": null,
   "metadata": {},
   "outputs": [],
   "source": [
    "#insert GVKEY, view evolution of the key's CDS series & annual mean changes\n",
    "gvkey_selection = 1919 #4060 #4060 #174130   #1045\n",
    "\n",
    "gvkey_group_df = sorted_alldata_df_final_adf_results.loc[sorted_alldata_df_final_adf_results.gvkey==gvkey_selection]\n",
    "print(\" COMPANY NAME IS: \", gvkey_group_df.company_name.iloc[0], '\\n', \"COMPANY SECTOR: \", gvkey_group_df.sector.iloc[0])\n",
    "\n",
    "#GVKEY's mean CDS spread\n",
    "print(\" GVKEY ({}) CDS MEAN IS: \".format(gvkey_selection),\n",
    "     np.round(sorted_alldata_df_final_adf_results.loc[sorted_alldata_df_final_adf_results.gvkey==gvkey_selection]['market_cds_spread'].mean(),2))\n",
    "\n",
    "print(\" GVKEY ({}) CDS MAX VALUES IS: \".format(gvkey_selection),\n",
    "     np.round(sorted_alldata_df_final_adf_results.loc[sorted_alldata_df_final_adf_results.gvkey==gvkey_selection]['market_cds_spread'].max(),2))\n",
    "\n",
    "print(\" GVKEY ({}) CDS MIN VALUES IS: \".format(gvkey_selection),\n",
    "     np.round(sorted_alldata_df_final_adf_results.loc[sorted_alldata_df_final_adf_results.gvkey==gvkey_selection]['market_cds_spread'].min(),2))\n",
    "\n",
    "#GVKEY's CDS spread standard deviation\n",
    "print(\" GVKEY ({}) CDS STANDARD DEVIATION IS: \".format(gvkey_selection),\n",
    "     np.round(sorted_alldata_df_final_adf_results.loc[sorted_alldata_df_final_adf_results.gvkey==gvkey_selection]['market_cds_spread'].std(),2))\n",
    "\n",
    "#GVKEY's CDS spread normalised standard deviation:\n",
    "print(\" GVKEY ({}) CDS NORMALISED STANDARD DEVIATION IS: \".format(gvkey_selection),\n",
    "     np.round((sorted_alldata_df_final_adf_results.loc[sorted_alldata_df_final_adf_results.gvkey==gvkey_selection]['market_cds_spread'].std() / \n",
    "               sorted_alldata_df_final_adf_results.loc[sorted_alldata_df_final_adf_results.gvkey==gvkey_selection]['market_cds_spread'].mean()),2))\n",
    "\n",
    "## CONSTRUCT THE PLOTS: \n",
    "fig, (ax1, ax2, ax3) = plt.subplots(3, figsize=(12,10))\n",
    "fig.suptitle('Single GVKEY: ({}) CDS Spread Subplots'.format(gvkey_selection))\n",
    "\n",
    "gvkey_group_df.groupby(['year_index'])['market_cds_spread'].plot(ax=ax1)\n",
    "ax1.set_ylabel('CDS Spread')\n",
    "ax1.axes.get_xaxis().set_visible(False)\n",
    "\n",
    "\n",
    "gvkey_group_df.groupby(['year_index']).mean()['market_cds_spread'].plot(ax=ax2);\n",
    "ax2.set_ylabel('Annual Mean CDS Spread')\n",
    "ax2.set_xlabel('Year')\n",
    "\n",
    "gvkey_group_df.groupby(['year_index'])['pecds'].plot(ax=ax3)\n",
    "ax3.set_ylabel('PECDS')\n",
    "ax3.axes.get_xaxis().set_visible(False);\n"
   ]
  }
 ],
 "metadata": {
  "kernelspec": {
   "display_name": "Python 3",
   "language": "python",
   "name": "python3"
  },
  "language_info": {
   "codemirror_mode": {
    "name": "ipython",
    "version": 3
   },
   "file_extension": ".py",
   "mimetype": "text/x-python",
   "name": "python",
   "nbconvert_exporter": "python",
   "pygments_lexer": "ipython3",
   "version": "3.8.5"
  }
 },
 "nbformat": 4,
 "nbformat_minor": 4
}
