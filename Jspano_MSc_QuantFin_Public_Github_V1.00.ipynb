{
 "cells": [
  {
   "cell_type": "markdown",
   "metadata": {},
   "source": [
    "# NOTEBOOK (#1): DATA EXPLANATION, CLEANING & PREPARATION"
   ]
  },
  {
   "cell_type": "markdown",
   "metadata": {},
   "source": [
    "# TABLE OF CONTENTS\n",
    "\n",
    "* Part One [Data Cleaning, Preparation & Explanation] (#PART_ONE)\n",
    "\n",
    "* Part Two [Calculating PECDS (PAR EQUIVALENT CREDIT DEFAULT SWAP](#PART_TWO)\n",
    "\n",
    "* Part Three [Descriptive Statistics Overview](#PART_THREE)\n",
    "\n",
    "* Part Four [Regressions & Modelling]\n",
    "\n",
    "\n",
    "* May wish to seperate out these sections into 4 seperate notebooks? "
   ]
  },
  {
   "cell_type": "code",
   "execution_count": null,
   "metadata": {},
   "outputs": [],
   "source": []
  },
  {
   "cell_type": "code",
   "execution_count": null,
   "metadata": {},
   "outputs": [],
   "source": [
    "#look at appending bond trading data / CDS trading data to see if the constant issue with the cds spread == no trades? "
   ]
  },
  {
   "cell_type": "code",
   "execution_count": null,
   "metadata": {},
   "outputs": [],
   "source": [
    "#import six\n",
    "#six.MAXSIZE"
   ]
  },
  {
   "cell_type": "code",
   "execution_count": null,
   "metadata": {},
   "outputs": [],
   "source": [
    "#import potential packages needed"
   ]
  },
  {
   "cell_type": "code",
   "execution_count": 1,
   "metadata": {},
   "outputs": [],
   "source": [
    "#system packages\n",
    "\n",
    "import sys\n",
    "import warnings\n",
    "import os \n",
    "import traceback #obs? \n",
    "if not sys.warnoptions:\n",
    "    warnings.filterwarnings(\"once\")  "
   ]
  },
  {
   "cell_type": "code",
   "execution_count": 2,
   "metadata": {},
   "outputs": [],
   "source": [
    "#base packages:\n",
    "\n",
    "import matplotlib.pyplot as plt\n",
    "import numpy as np\n",
    "import pandas as pd\n",
    "import scipy as sp\n",
    "from scipy import stats, integrate, optimize\n",
    "import math\n",
    "import datetime\n",
    "from datetime import date, timedelta"
   ]
  },
  {
   "cell_type": "code",
   "execution_count": 3,
   "metadata": {},
   "outputs": [],
   "source": [
    "#optional packages\n",
    "\n",
    "from statsmodels.tsa.base.datetools import dates_from_str\n",
    "from IPython.display import display\n",
    "pd.options.display.max_columns = 30  #allow DF.head to show all columns in notebook\n",
    "from see import see\n",
    "from tabulate import tabulate \n",
    "#from io import StringIO"
   ]
  },
  {
   "cell_type": "code",
   "execution_count": 4,
   "metadata": {},
   "outputs": [
    {
     "name": "stderr",
     "output_type": "stream",
     "text": [
      "C:\\Users\\JasonSpano\\anaconda3\\lib\\site-packages\\patsy\\constraint.py:13: DeprecationWarning: Using or importing the ABCs from 'collections' instead of from 'collections.abc' is deprecated since Python 3.3,and in 3.9 it will stop working\n",
      "  from collections import Mapping\n"
     ]
    }
   ],
   "source": [
    "#packages for the econometrics / models\n",
    "\n",
    "from statsmodels.tsa.vector_ar import vecm\n",
    "from statsmodels.tsa.stattools import adfuller\n",
    "from arch.unitroot import DFGLS, ADF, KPSS, PhillipsPerron, ZivotAndrews\n",
    "from arch.unitroot.cointegration import engle_granger, phillips_ouliaris\n",
    "import statsmodels.formula.api as smf  #VAR package contained within \n",
    "import statsmodels.tsa.api as smt\n",
    "\n",
    "#import the functionality for detecting mathematical errors (E.G. types of linear algebra issues etc.)\n",
    "from statsmodels.tools.sm_exceptions import ValueWarning\n",
    "from arch.utility.exceptions import (\n",
    "    InfeasibleTestException,\n",
    "    InvalidLengthWarning,\n",
    "    invalid_length_doc)\n",
    "warnings.filterwarnings(\"once\", category = ValueWarning)"
   ]
  },
  {
   "cell_type": "code",
   "execution_count": 5,
   "metadata": {},
   "outputs": [],
   "source": [
    "#pickle file: \n",
    "#sorted_alldata_df_final = pd.read_pickle(\"./sorted_alldata_df_final.pkl\")\n",
    "\n",
    "sorted_alldata_df_final = pd.read_pickle(r\"C:\\Users\\JasonSpano\\OneDrive\\Uva Msc 19-20 Subjects\\Research Assistant Docs\\CDS_project_-_first_set_of_tasks\\Part 2_jan20./sorted_alldata_df_final.pkl\")"
   ]
  },
  {
   "cell_type": "code",
   "execution_count": null,
   "metadata": {},
   "outputs": [],
   "source": []
  },
  {
   "cell_type": "code",
   "execution_count": null,
   "metadata": {},
   "outputs": [],
   "source": []
  },
  {
   "cell_type": "code",
   "execution_count": null,
   "metadata": {},
   "outputs": [],
   "source": [
    "# to do: \n",
    "#4.11.2020: \n",
    "#clean up ZA test by (changing from C to CL + constant + trend)\n",
    "\n",
    "\n",
    "fix ZA test: purge the exception in-DF print \n",
    "comment on the low std_dev of the groups\n",
    "\n",
    "#email tomislav? ds skill + code publication + low stddev dropping? / unchronological / time-breaks etc. \n",
    "time breaks attributable to the \"changing bond-code? happens when merging on GVKEY\" - byproduct of long-horizon testing?\n",
    "\n",
    "#create some ratio of: first-last date / total period? to see \"structural breaks\"\n",
    "\n",
    "#fix the loop issue with ADF / other tests\n",
    "\n",
    "#compare ratio of error groups to groupby(sector) ratio of total DF\n",
    "#[check main file for the code?]\n"
   ]
  },
  {
   "cell_type": "code",
   "execution_count": null,
   "metadata": {},
   "outputs": [],
   "source": []
  },
  {
   "cell_type": "code",
   "execution_count": null,
   "metadata": {},
   "outputs": [],
   "source": []
  },
  {
   "cell_type": "markdown",
   "metadata": {},
   "source": [
    "## Table of Contents\n",
    "\n",
    "1) Data Overview & Data Cleaning Process"
   ]
  },
  {
   "cell_type": "code",
   "execution_count": null,
   "metadata": {},
   "outputs": [],
   "source": []
  },
  {
   "cell_type": "markdown",
   "metadata": {},
   "source": [
    "# Section 1.1) Data Overview\n",
    "\n",
    "1) First data point is a .txt file (~10GB) of Bond Data, downloaded from Wharton Research/Data Services (WRDS): pertaining to TRACE bond trades for all regular bonds (senior bonds with fixed or zero coupons) issued by firms in Compustat. Observations are at the day-level\n",
    "    * contains all bond trades between 2002 and June-2017\n",
    "    * Data included is bond ID, cusip_id, exact trade date/time, traded price, quoted_yield\n",
    "    \n",
    "2) Second data point is Bond Maturities information (From TRACE) .txt file from WRDS, relating to the corresponding data on bond maturities seniority etc.\n",
    "    * contains bond ID, cusip_id, sub-product type, debt-type, issuer_name, maturity date, grade, convertible_flag, company_symbol\n",
    "    \n",
    "3) Third data point is Bond Coupon Rates,  a .txt file from (Mergent FISD), pertaining to coupon information per bond\n",
    "    * contains: issue_id, coupon_type, offering_date, principal, first_interest_date, interest_frequency, coupon, day_count_basis, last_interest_date\n",
    "    \n",
    "4) Fourth data entry is information extracted from Fred, relating to information on swap_rates from one-year through to five-year (the risk-free rate proxy in this report)- all denonted in USD; in addition to values of VIX and other interest rate components\n",
    "\n",
    "5) Fifth data entry is the trace-mergent linkfile (provides a common factor to merge bond coupon rae information with bond market prices and bond maturities)\n",
    "    * contains: bond_ID, issue_id, issue_id_fisd\n",
    "    * This file is necessary to merge together the data about the bonds as WRDS has data on coupons, maturities, prices from different sub-vendors who potentially use different codes/reference numbers. This file will enable us to merge all of the above information on bonds and eventually, with their respective Credit Default Swap (CDS) counterparts. \n",
    "    \n",
    "6) Sixth date entry is CDS spreads (From Datastream) .txt file (>20GB) of CDS trades on the same date range as the earlier bond information. Only CDS with standard contractual clauses are considered. Observations are at the day-level\n",
    "    * contains information on: series_id, gvkey, company_name, stock_ticker, source, duration, clause, currency, class_type, date, cds_spread\n",
    "    \n",
    "7) (By earlier filtered viable GVKEY sub-sample) Equivalent Equity trading data (Daily) from WRDS/Compustat (CSV ~1GB)\n",
    "    * Includes: open, high, low, close, trading_volume......\n",
    "\n",
    "8) (By earlier filtered viable GVKEY sub-sample)(Data is monthly/quarterly level) of: Firm-level ratios\n",
    "    * pertaining to: EPS....\n",
    "    \n",
    "9) Equity Sector Data & Returns (Daily-level) from WRDS/Compustat     \n",
    "\n",
    "10) (By earlier filtered viable GVKEY sub-sample) detailed breakdown of opening, high, low, closing bond-trades data\n",
    "\n",
    "\n",
    "#### SIDENOTE: Additional robustness checks will be performed on the same data but re-sampled by weekly/monthly - these DFs will be based off the final DF which includes the merging of all the above dataframes (#1 through #10) but re-sampled respectively.\n",
    "\n",
    "11) weekly_resample_df\n",
    "\n",
    "12) monthly_resample_df\n",
    "    "
   ]
  },
  {
   "cell_type": "code",
   "execution_count": null,
   "metadata": {},
   "outputs": [],
   "source": []
  },
  {
   "cell_type": "code",
   "execution_count": null,
   "metadata": {},
   "outputs": [],
   "source": []
  },
  {
   "cell_type": "markdown",
   "metadata": {},
   "source": [
    "## Example of importing bond trading data from (.txt) file -- \n",
    "### Data is imported from WRDS (Wharton)\n",
    "\n",
    "* NOTE: only the price is required from this, as the equivalent \"yield\" will be formulated through another mathematical procedure \"par equivalent credit default swap (PECDS)\" as the raw yield here is not directly comparable with CDS spreads\n",
    "\n",
    "\n",
    "* Given data will be collapsed to the daily-level (one trade per bond, per day) - thus, the trade_time variable is not needed. However, it could be incorporated if some intraday trading phenomena became part of the analysis in future studies. \n",
    "\n",
    "\n",
    "* Variables definitions: \n",
    "    * bond_sym_id == the \"ticker\" of the bond instrument\n",
    "    * date == date the trade took place\n",
    "    * trade_time == the exact time / date\n",
    "    * quantity == the volume (amount of bonds) traded at that respective trade_time / date\n",
    "    * price == price paid per bond\n",
    "    * _yield == simple reported yield (quoted yield / price)\n",
    "    \n"
   ]
  },
  {
   "cell_type": "code",
   "execution_count": null,
   "metadata": {},
   "outputs": [],
   "source": [
    "#BOND DATA: DATA_FILE_#1\n",
    "\n",
    "bond_file = open('sample_bond_data_all.txt','r')                #read the file (adjust the local directory if necessary)\n",
    "bonds_date_price = {}                                           #initalise a dictionary to write to\n",
    "\n",
    "for line in bond_file:  \n",
    "  line = line.rstrip(\"\\r\\n\")  \n",
    "  #for each line, strip the whitespace characters [new line, return key etc.]\n",
    "    \n",
    "  [bond_sym_id, date, trade_time, quantity, price, _yield] = line.split(\"\\t\")    \n",
    "  #for each variable [bond_sym_id, date etc.] split on the [tab] space  \n",
    "\n",
    "  if bond_sym_id==\"bond_sym_id\" and date=='date':               #this forms the \"break point\" between bonds/trading days\n",
    "    continue\n",
    "    \n",
    "  #try to update the initial dictionary with the respective bond, for each date, with the traded price for that time  \n",
    "  #note: (value error was rarely- that is, (less than) 25 instances encountered, usually missing or corrupted data points)  \n",
    "    \n",
    "  try:\n",
    "      bonds_date_price[(date, bond_sym_id)] = price\n",
    "  except ValueError as ve:\n",
    "    print(\"ValueError: Row: {}, Reason : {} \".format(line, ve))   #print the location/details of any encountered value errors\n",
    "    \n",
    "    \n",
    "#construct the final DF with the necessary items, label the columns    \n",
    "bonds_date_price_df = pd.DataFrame(list(bonds_date_price.items()), columns=['date','date_id_price'])\n",
    "\n",
    "#close the file\n",
    "bond_file.close()"
   ]
  },
  {
   "cell_type": "code",
   "execution_count": null,
   "metadata": {},
   "outputs": [],
   "source": [
    "#Create a datetime object for later merging this data with the relevant swap_rates / other data\n",
    "#this is because the date column imported is not yet recognised as date format in Python: \n",
    "\n",
    "format_date = '%Y%m%d'                                                                #American style date\n",
    "datetime_obj = bonds_date_price_df['trade_date'].apply(lambda x: datetime.datetime.strptime(x, format_date))\n"
   ]
  },
  {
   "cell_type": "code",
   "execution_count": null,
   "metadata": {},
   "outputs": [],
   "source": []
  },
  {
   "cell_type": "code",
   "execution_count": null,
   "metadata": {},
   "outputs": [],
   "source": []
  },
  {
   "cell_type": "markdown",
   "metadata": {},
   "source": [
    "## E.G. Importing the master file (Bond Maturities etc.)\n",
    "\n",
    "* Many of the subsequent data imports share a near identical format to the first block of code; consequently, the code is included without annotations"
   ]
  },
  {
   "cell_type": "code",
   "execution_count": null,
   "metadata": {},
   "outputs": [],
   "source": [
    "bond_file= open('master_file.txt','r')\n",
    "bond_maturities = {}\n",
    "\n",
    "for line in bond_file:  \n",
    "  line = line.rstrip(\"\\r\\n\") \n",
    "  [bond_sym_id, cusip_id, bsym_id, sub_prdct_type, debt_type_cd, issuer_nm, scrty_ds, cpn_rt, cpn_type_cd, trd_rpt_efctv_dt, mtrty_dt, grade, ind_144a, dissem, cnvrb_fl, company_symbol] = line.split(\"\\t\")\n",
    "  if bond_sym_id==\"bond_sym_id\":\n",
    "    continue\n",
    "    \n",
    "  try:\n",
    "      bond_maturities[(bond_sym_id)] = mtrty_dt\n",
    "  except ValueError as ve:\n",
    "    print(\"ValueError: Row: {}, Reason : {} \".format(line, ve))       \n",
    "\n",
    "bond_maturities_df = pd.DataFrame(list(bond_maturities.items()), columns=['bond_sym_id','maturity_date'])    \n",
    "bond_file.close()"
   ]
  },
  {
   "cell_type": "code",
   "execution_count": null,
   "metadata": {},
   "outputs": [],
   "source": [
    "#matched with the first file by bond_ID"
   ]
  },
  {
   "cell_type": "code",
   "execution_count": null,
   "metadata": {},
   "outputs": [],
   "source": []
  },
  {
   "cell_type": "code",
   "execution_count": null,
   "metadata": {},
   "outputs": [],
   "source": []
  },
  {
   "cell_type": "code",
   "execution_count": null,
   "metadata": {},
   "outputs": [],
   "source": []
  },
  {
   "cell_type": "code",
   "execution_count": null,
   "metadata": {},
   "outputs": [],
   "source": [
    "coupon_file= open('coupon_info.txt','r')\n",
    "coupons_dict = {}\n",
    "\n",
    "#change to include the location in the try/except loop\n",
    "\n",
    "for line in coupon_file:  \n",
    "  line = line.rstrip(\"\\r\\n\")\n",
    "  [ISSUE_ID, MATURITY, COUPON_TYPE, OFFERING_DATE, PRINCIPAL_AMT, FIRST_INTEREST_DATE,\n",
    "   INTEREST_FREQUENCY, COUPON, DAY_COUNT_BASIS, LAST_INTEREST_DATE] = line.split(\"\\t\")\n",
    "  if ISSUE_ID==\"ISSUE_ID\":\n",
    "    continue\n",
    "  try:\n",
    "      coupons_dict[(ISSUE_ID, INTEREST_FREQUENCY, COUPON)] = ISSUE_ID, INTEREST_FREQUENCY, COUPON\n",
    "  except ValueError:\n",
    "    pass\n",
    "\n",
    "try:\n",
    "    coupons_df = pd.DataFrame(list(coupons_dict.items()), columns=['ISSUE_ID','INTEREST_FREQ'])\n",
    "except RuntimeError as re:\n",
    "    print(\"runtime error\", re)\n",
    "except Exception as other:\n",
    "    print(\"something else\", other)\n",
    " \n",
    "coupon_file.close()"
   ]
  },
  {
   "cell_type": "code",
   "execution_count": null,
   "metadata": {},
   "outputs": [],
   "source": []
  },
  {
   "cell_type": "code",
   "execution_count": null,
   "metadata": {},
   "outputs": [],
   "source": []
  },
  {
   "cell_type": "code",
   "execution_count": null,
   "metadata": {},
   "outputs": [],
   "source": [
    "#RFR DATA"
   ]
  },
  {
   "cell_type": "code",
   "execution_count": null,
   "metadata": {},
   "outputs": [],
   "source": [
    "from fredapi import Fred\n",
    "fred = Fred(api_key='56e2cc23702c09f0c02226f2780c4de4') #censor this code eventually"
   ]
  },
  {
   "cell_type": "code",
   "execution_count": null,
   "metadata": {},
   "outputs": [],
   "source": [
    "#SWAP RATES\n",
    "\n",
    "\n",
    "\n",
    "get from older version \n"
   ]
  },
  {
   "cell_type": "code",
   "execution_count": null,
   "metadata": {},
   "outputs": [],
   "source": [
    "#LINEAR INTERPOLATION OF THE RFRs\n",
    "\n",
    "#interpolate / line-broken for readability\n",
    "fulldata_df[['riskfree_rate_1yr', 'riskfree_rate_2yr', 'riskfree_rate_3yr', 'riskfree_rate_4yr', 'riskfree_rate_5yr']] = \n",
    "fulldata_df[['riskfree_rate_1yr', 'riskfree_rate_2yr', 'riskfree_rate_3yr', 'riskfree_rate_4yr', 'riskfree_rate_5yr']].interpolate(method='linear',limit_direction='forward')\n",
    "\n",
    "#method = linear; consecutive NaN(s) are filled forward; axis = 1, (interpolation occurs down the columns )"
   ]
  },
  {
   "cell_type": "code",
   "execution_count": null,
   "metadata": {},
   "outputs": [],
   "source": []
  },
  {
   "cell_type": "markdown",
   "metadata": {},
   "source": [
    "## VIX / TED SPREAD \n",
    "* SOURCE: FRED"
   ]
  },
  {
   "cell_type": "code",
   "execution_count": null,
   "metadata": {},
   "outputs": [],
   "source": [
    "#VIX series\n",
    "cboe_vix = fred.get_series('VIXCLS', '2006-07-03','2017-06-30')\n",
    "\n",
    "#TEDRATE\n",
    "ted_rate = fred.get_series('TEDRATE', '2006-07-03','2017-06-30')\n",
    "\n",
    "#concatenate the two series column-wise\n",
    "int_spreads_concat = pd.concat([cboe_vix, ted_rate],axis=1)\n",
    "\n",
    "#convert to a dataframe\n",
    "interest_spreads_df = pd.DataFrame(int_spreads_concat.values, \n",
    "                                   index=cboe_vix.index,\n",
    "                                  columns=['cboe_vix','ted_rate'])\n",
    "\n",
    "#interpolate the DF (linearly) any missing values in the: VIX or TED rates\n",
    "interest_spreads_df[['cboe_vix','ted_rate']] = interest_spreads_df[['cboe_vix','ted_rate']].interpolate(method='linear',limit_direction='forward')"
   ]
  },
  {
   "cell_type": "code",
   "execution_count": null,
   "metadata": {},
   "outputs": [],
   "source": [
    "#check both series have zero NaN(s)\n",
    "interest_spreads_df.isna().sum()"
   ]
  },
  {
   "cell_type": "code",
   "execution_count": null,
   "metadata": {},
   "outputs": [],
   "source": [
    "#reset the index of the DF so that the trade-date becomes a seperate column (to allow merging onto the main bond/cds DF)\n",
    "interest_spreads_df = interest_spreads_df.reset_index()\n",
    "\n",
    "#rename the relevant columns:\n",
    "interest_spreads_df = interest_spreads_df.rename(columns={'index':'trade_date'})"
   ]
  },
  {
   "cell_type": "code",
   "execution_count": null,
   "metadata": {},
   "outputs": [],
   "source": [
    "#check d-types (datetime64 for trade/date and float64 for values)\n",
    "print(interest_spreads_df.dtypes)"
   ]
  },
  {
   "cell_type": "markdown",
   "metadata": {},
   "source": [
    "### Merge this DF onto the main dateframe with the firm-level data\n",
    "* set the main-DF as the principal DF, such that a left merge on trade-date will only keep the relevant dates for each firm\n",
    "* that is, E.G. if Firm(X) has data from 2010:2014, only the interest_spreads from 2010:2014 will be affixed for this firm "
   ]
  },
  {
   "cell_type": "code",
   "execution_count": null,
   "metadata": {},
   "outputs": [],
   "source": [
    "#E.G. of the merge: \n",
    "fulldata_daily_vix_df = fulldata_daily_df.merge(interest_spreads_df, how='left', on='trade_date')"
   ]
  },
  {
   "cell_type": "code",
   "execution_count": null,
   "metadata": {},
   "outputs": [],
   "source": []
  },
  {
   "cell_type": "code",
   "execution_count": null,
   "metadata": {},
   "outputs": [],
   "source": []
  },
  {
   "cell_type": "code",
   "execution_count": null,
   "metadata": {},
   "outputs": [],
   "source": [
    "#trace_mergent_linkfile.txt\n",
    "merge_file= open('trace_mergent_linkfile.txt','r')\n",
    "merge_dict = {}\n",
    "\n",
    "for line in merge_file:  \n",
    "  line = line.rstrip(\"\\r\\n\")\n",
    "  [bond_sym_id, issue_id_fisd] = line.split(\"\\t\")\n",
    "  if bond_sym_id==\"bond_sym_id\":\n",
    "    continue\n",
    "  try:\n",
    "      merge_dict[bond_sym_id, issue_id_fisd] = bond_sym_id, issue_id_fisd\n",
    "  except ValueError:\n",
    "    pass\n",
    "\n",
    "try:\n",
    "    mergefile_df = pd.DataFrame(list(merge_dict.items()), columns=['bond_sym_id','issue_id_fisd'])\n",
    "except (RuntimeError, TypeError, NameError):\n",
    "    print('ERROR')\n",
    "     \n",
    "merge_file.close()"
   ]
  },
  {
   "cell_type": "code",
   "execution_count": null,
   "metadata": {},
   "outputs": [],
   "source": []
  },
  {
   "cell_type": "code",
   "execution_count": null,
   "metadata": {},
   "outputs": [],
   "source": []
  },
  {
   "cell_type": "code",
   "execution_count": null,
   "metadata": {},
   "outputs": [],
   "source": [
    "#CDS SPREAD\n",
    "\n",
    "cds_file = open('sample_cds_data_all.txt','r')\n",
    "cds_spread_dict = {}\n",
    "\n",
    "for line in cds_file:  \n",
    "  line = line.rstrip(\"\\r\\n\") \n",
    "  [series_id, series_name, gvkey, company_name, ticker, source, duration, clause, currency, class_type, date, cds_spread] = line.split(\"\\t\")   \n",
    "  if series_id==\"series_id\":\n",
    "    continue\n",
    "  if (float(duration)==5 and currency==\"USD\" and clause==\"XR\"):\n",
    "    cds_spread_dict[gvkey, series_id, date] = cds_spread #date removed \n",
    "    \n",
    "cds_file.close()\n",
    "\n",
    "try: \n",
    "    cds_spread_df2 = pd.DataFrame(list(cds_spread_dict.items()),columns = ['cds_info','cds_spread']) \n",
    "except RuntimeError as re:\n",
    "    print(\"runtime error\", re)\n",
    "except Exception as other:\n",
    "    print(\"something else\", other)"
   ]
  },
  {
   "cell_type": "code",
   "execution_count": null,
   "metadata": {},
   "outputs": [],
   "source": []
  },
  {
   "cell_type": "code",
   "execution_count": null,
   "metadata": {},
   "outputs": [],
   "source": []
  },
  {
   "cell_type": "code",
   "execution_count": null,
   "metadata": {},
   "outputs": [],
   "source": []
  },
  {
   "cell_type": "markdown",
   "metadata": {},
   "source": [
    "# DATAFRAME (#8) - FIRM LEVEL RATIOS\n",
    "#### E.G. of ratios contained within & outlining what the Wharton abreviations actually represent: \n",
    "\n",
    "* #bm = book/market\n",
    "* #pe_inc = P/E (Diluted, Incl. EI)\n",
    "* #ps = price/sales\n",
    "* #p/cf = Price/Cash flow\t\n",
    "* #npm = net profit margin\n",
    "* #roe = return on equity \n",
    "* #Gprof = Gross profit / Total Assets\n",
    "* #Capital_ratio = Capitalization ratio\n",
    "* #fcf_ocf = Free Cash Flow/Operating Cash Flow\n",
    "* #de_ratio = Total Debt/Equity\n",
    "* #curr_ratio = current ratio \n",
    "* #rd_sale = Research and Development/Sales\n",
    "* #ptb = price to book\n",
    "* #divyield = dividend yield \n",
    "\n",
    "#### NOTE: due to the inherently different nature of the included firms, it is expected that there will be (Null) values in each ratio per firm, E.G. not all firms will pay a dividend and thus dividend_yield will be 0."
   ]
  },
  {
   "cell_type": "code",
   "execution_count": null,
   "metadata": {},
   "outputs": [],
   "source": [
    "firm_level_ratios = 'firm_level_ratios_gvkey.csv'\n",
    "firm_level_ratio_df = pd.read_csv(firm_level_ratios)"
   ]
  },
  {
   "cell_type": "code",
   "execution_count": null,
   "metadata": {},
   "outputs": [],
   "source": [
    "#because of the .CSV file, the dtypes won't be compatible with the existing pandas-based DF\n",
    "#principally, the date series (for merging onto the main DF) will need to be converted to datetime from string\n",
    "\n",
    "#convert the float64 column to datetime\n",
    "#in Wharton: the series for which the ratio was released as public information is referred to as 'public_date'\n",
    "firm_level_ratios_dtime = pd.to_datetime(firm_level_ratio_df['public_date'], format='%Y%m%d', errors='coerce')\n",
    "\n",
    "#rename this column to match 'trade_date' so it can be merged \n",
    "firm_level_ratios_dtime = firm_level_ratios_dtime.rename(columns={\"public_date\": \"trade_date\"})"
   ]
  },
  {
   "cell_type": "markdown",
   "metadata": {},
   "source": [
    "## Overcoming a major issue: different frequencies of reporting, as ratios per firm are reported either monthly, or quarterly:\n",
    "* Need to devise a method to interpolate the values between these two points in time and transform it to daily-level values so some series can later be used in the various models, E.G. Vector Autoregressions \n",
    "* Also, need to make sure the method cuts the time periods correctly for each firm-combination, as virtually every firm-combination has a unique set of start and finish dates for its CDS/BOND data series: both for accuracy and to reduce computation strain "
   ]
  },
  {
   "cell_type": "code",
   "execution_count": null,
   "metadata": {},
   "outputs": [],
   "source": [
    "#also noted that we will need to merge by [GVKEY, DATE] now and thus GVKEY needs to be converted from (object) type\n",
    "firm_level_ratios_dtime['gvkey'] = firm_level_ratios_dtime['gvkey'].astype(np.int)"
   ]
  },
  {
   "cell_type": "code",
   "execution_count": null,
   "metadata": {},
   "outputs": [],
   "source": [
    "#create a seperate date column which is just the month:year and leave the daily-level series unaffected\n",
    "firm_level_ratios_dtime['trade_date_month'] = firm_level_ratios_dtime['trade_date']\n",
    "\n",
    "#convert to date-time, the level of the ratios data is at minimum (month:year)\n",
    "firm_level_ratios_dtime['trade_date_month'] = pd.to_datetime(firm_level_ratios_dtime['trade_date_month'], format='%Y-%m')\n",
    "\n",
    "#create a pivot-tabel of those value-series deemed relevant for the later regression models\n",
    "df_firm_ratios_mini = firm_level_ratios_dtime.pivot(index='trade_date_month', columns='gvkey',\n",
    "                                                     values=['ps','pcf','GProf','capital_ratio','de_ratio','rd_sale'])\n",
    "\n",
    "#now, create the offsets for the DF's dates: \n",
    "start_date = df_firm_ratios_mini.index.min() - pd.DateOffset(day=1)    #note: \"trade_date_month\" is now the index column\n",
    "end_date = df_firm_ratios_mini.index.max() + pd.DateOffset(day=31)\n",
    "dates = pd.date_range(start_date, end_date, freq='D')\n",
    "dates.name = 'date'\n",
    "\n",
    "#ffill will pad the values in-between the two dates to create a continuous flow E.G. January 1, 2,... 31st etc.\n",
    "pivot_df_firm_ratios_mini = df_firm_ratios_mini.reindex(dates, method='ffill') "
   ]
  },
  {
   "cell_type": "code",
   "execution_count": null,
   "metadata": {},
   "outputs": [],
   "source": [
    "#now, need to rearrange the pivot-DF back to a regular format by stacking the DF on the GVKEY\n",
    "pivot_df_firm_ratios_mini = pivot_df_firm_ratios_mini.stack('gvkey')\n",
    "\n",
    "#sort the DF, so that each GVKEY is sorted chronologically\n",
    "pivot_df_firm_ratios_mini = pivot_df_firm_ratios_mini.sort_index()\n",
    "\n",
    "#reset the index, so that this chronologically sorted date-series is now treated as a column within the DF (for easier merging)\n",
    "pivot_df_firm_ratios_mini = pivot_df_firm_ratios_mini.reset_index()"
   ]
  },
  {
   "cell_type": "code",
   "execution_count": null,
   "metadata": {},
   "outputs": [],
   "source": [
    "#Optional: create a pickle of this particular set of variables, \n",
    "#if it is required to change the input-series for a different set of values\n",
    "\n",
    "pivot_df_firm_ratios_mini.to_pickle(\"./pivot_df_firm_ratios_mini.pkl\")\n",
    "#pivot_df_firm_ratios_mini = pd.read_pickle(\"./pivot_df_firm_ratios_mini.pkl\")  #would be read-pickle code"
   ]
  },
  {
   "cell_type": "code",
   "execution_count": null,
   "metadata": {},
   "outputs": [],
   "source": [
    "#now, the final merge to re-affix the now converted/padded values of firm-level ratios on a daily level to the main DF\n",
    "#optional to rename DF to modified version, e.g. fulldata_df_ratios to confirm the ratios are correctly formatted now\n",
    "\n",
    "fulldata_df = fulldata_df.merge(pivot_df_firm_ratios_mini, how='left', on=['gvkey','trade_date'])"
   ]
  },
  {
   "cell_type": "code",
   "execution_count": null,
   "metadata": {},
   "outputs": [],
   "source": []
  },
  {
   "cell_type": "code",
   "execution_count": null,
   "metadata": {},
   "outputs": [],
   "source": []
  },
  {
   "cell_type": "markdown",
   "metadata": {},
   "source": [
    "# DATAFRAME (#9) DAILY EQUITY PRICES / TRADING INDICATORS"
   ]
  },
  {
   "cell_type": "code",
   "execution_count": null,
   "metadata": {},
   "outputs": [],
   "source": [
    "#DVRATED -- Indicated Annual Dividend Rate - Daily\n",
    "#curcdd = CURCDD -- ISO Currency Code - Daily\n",
    "#cshoc = CSHOC -- Shares Outstanding\n",
    "#cshtrd = CSHTRD -- Trading Volume - Daily\n",
    "#eps = EPS -- Current EPS\n",
    "#prccd = PRCCD -- Price - Close - Daily\n",
    "#prchd = PRCHD -- Price - High - Daily\n",
    "#prcld = PRCLD -- Price - Low - Daily\n",
    "#prcod = PRCOD -- Price - Open - Daily\n",
    "#exchg = Stock Exchange Code\t #19 = other-OTC US, 12 = Amaerican, 14 = NASDAQ, 11 = NYSE\n",
    "#secstat = Security Status Market\t I = inactive, A= active\n",
    "#costat = COSTAT -- Active/Inactive Status Marker\n",
    "\n",
    "# = GSUBIND -- GIC Sub-Industries\n",
    "#Global Industry Classification Standard (GICS). The Sub-industry is represented by all 8 digits of the total GICS code.\n",
    "\n",
    "#idbflag = IDBFLAG -- International, Domestic, Both Indicator (B = North-America & Int, D = domestic (NA), I = int)\n",
    "#spicindcd = SPCINDCD -- S&P Industry Sector Code"
   ]
  },
  {
   "cell_type": "code",
   "execution_count": null,
   "metadata": {},
   "outputs": [],
   "source": [
    "daily_us_equity_prices = 'gvkey_daily_usa_equity_prices.csv'\n",
    "daily_us_equity_prices_df = pd.read_csv(daily_us_equity_prices)"
   ]
  },
  {
   "cell_type": "markdown",
   "metadata": {},
   "source": [
    "### Given this data is already at the daily-level by GVKEY, the process to merge it onto the main-DF is virtually identical to the processes outlined above. Hence, it has been omitted here to avoid needless repitition "
   ]
  },
  {
   "cell_type": "code",
   "execution_count": null,
   "metadata": {},
   "outputs": [],
   "source": [
    "#the one thing to note here is to ensure that you keep only the one trading observation for prices per day:\n",
    "#E.G. after converting the date to datetime, renaming columns, checking for Null/NaN etc.\n",
    "\n",
    "daily_us_equity_prices_df = daily_us_equity_prices_df.drop_duplicates(subset=['gvkey','trade_date'], keep='first')"
   ]
  },
  {
   "cell_type": "code",
   "execution_count": null,
   "metadata": {},
   "outputs": [],
   "source": []
  },
  {
   "cell_type": "code",
   "execution_count": null,
   "metadata": {},
   "outputs": [],
   "source": []
  },
  {
   "cell_type": "markdown",
   "metadata": {},
   "source": [
    "# Breakingdown the data merging process:\n",
    "\n",
    "* I dropped all bonds with missing or negative prices (assume this is an error in the data on the vendor's end as it is implausible to have a negatively priced bond); repeated this step with other important data points, such as: missing coupon rates or maturity dates. \n",
    "    * Out of 10M + total observations, only a few thousand were dropped in this manner so the data integrity as whole is sound. \n",
    "    * Around 10% of the bonds have no data on interest_frequency (frequency of the coupon payments, usually semi-annual for most fixed-rate bonds); this issue is elaborated on more in one of the next steps\n",
    "\n",
    "\n",
    "* Multiple approaches in merging, I believe a fairly simple method is to perform an outer-join on the BOND & CDS data frames; thus, potentially there will be some observations with bond prices and no CDS spreads, and vice-versa. However, quickly dropping the NaN from the DF will resolve this, resulting in a DF with just the overlapping firms with both CDS and BOND data. \n",
    "\n"
   ]
  },
  {
   "cell_type": "code",
   "execution_count": null,
   "metadata": {},
   "outputs": [],
   "source": []
  },
  {
   "cell_type": "code",
   "execution_count": null,
   "metadata": {},
   "outputs": [],
   "source": [
    "#th"
   ]
  },
  {
   "cell_type": "code",
   "execution_count": null,
   "metadata": {},
   "outputs": [],
   "source": []
  },
  {
   "cell_type": "markdown",
   "metadata": {},
   "source": [
    "## Restricting the aggregate DF to only those firms with both a CDS:Bond trading between 4-6 years\n",
    "* First, calculate the time gap between date traded (From the original bond trade file) and the maturity date by bond_ID (from the 2nd data entry file on bond maturities)- to filter the DF to only those observatios beteen four and six years"
   ]
  },
  {
   "cell_type": "code",
   "execution_count": null,
   "metadata": {},
   "outputs": [],
   "source": [
    "#Convert the maturity date column to more workable datetime format for the later date(1) - date(2) calculation \n",
    "fulldata_df['maturity_date'] = pd.to_datetime(fulldata_df['maturity_date'], format=\"%Y%m%d\", errors='coerce')\n",
    "\n",
    "#Extract the existing dates within the index as seperate column to simplify the subsequent calculation\n",
    "fulldata_df['time_dif'] = ((fulldata_df['maturity_date'] - fulldata_df['trade_date']))"
   ]
  },
  {
   "cell_type": "code",
   "execution_count": null,
   "metadata": {},
   "outputs": [],
   "source": [
    "#filter sample to keep only observations for which both a CDS-Bond combination exist with maturities between 4-6 years\n",
    "\n",
    "#pre-create the variables to hold the date limits (note, 1Y == 365.2425 days)\n",
    "fouryear_timedelta = timedelta(days=(365.2425 * 4))\n",
    "sixyear_timedelta = timedelta(days=(365.2425 * 6))\n",
    "\n",
    "#first, restrict to only maturities less than 6 years\n",
    "fulldata_df = fulldata_df[fulldata_df['time_dif'] < pd.Timedelta(sixyear_timedelta, unit='d')]\n",
    "\n",
    "#further filter to only those maturities greater than 4 years; resulting in a range of 4-6Y\n",
    "fulldata_df = fulldata_df[fulldata_df['time_dif'] > pd.Timedelta(fouryear_timedelta, unit='d')]\n"
   ]
  },
  {
   "cell_type": "code",
   "execution_count": null,
   "metadata": {},
   "outputs": [],
   "source": [
    "#improve the readability of the dataframe above by converting the days to years\n",
    "#fill NaN or missing values with 0 days\n",
    "\n",
    "fulldata_df['time_dif'] = (fulldata_df['time_dif'] / np.timedelta64(1, 'Y')).fillna(pd.Timedelta('0 Days'))\n",
    "\n",
    "#optional but recommended: round the large float value for a more compact, readable DF\n",
    "fulldata_df['time_dif'] = np.round(fulldata_df['time_dif'], 3)"
   ]
  },
  {
   "cell_type": "code",
   "execution_count": null,
   "metadata": {},
   "outputs": [],
   "source": []
  },
  {
   "cell_type": "markdown",
   "metadata": {},
   "source": [
    "# Basic Data Cleaning & Preparation\n",
    "\n",
    "* Checking for NaN / Missing / Duplicated Values"
   ]
  },
  {
   "cell_type": "code",
   "execution_count": null,
   "metadata": {},
   "outputs": [],
   "source": [
    "#after merging all of the previous data into one aggregate frame\n",
    "#note: pickles of the intermediate data sets (E.G. just equities / bonds / cds, without ratios) exist for faster computation\n",
    "#although, pandas can handle a 1.34m row dataframe without much effort so this is largely unnecessary\n",
    "\n",
    "fulldata_df = pd.read_table('full_dataset.txt')  \n",
    "# ROWS = 13445375 \n",
    "\n",
    "fulldata_df = fulldata_df[fulldata_df['bond_sym_id'].notna()] #remove the NaN in the bond_sym_id series\n",
    "# total rows from (13445375) to 11202753\n",
    "\n",
    "fulldata_df = fulldata_df[fulldata_df['cds_spread'].notna()] #drop NaN from CDS_spread\n",
    "# total rows from 11202753 to 5495942"
   ]
  },
  {
   "cell_type": "code",
   "execution_count": null,
   "metadata": {},
   "outputs": [],
   "source": []
  },
  {
   "cell_type": "markdown",
   "metadata": {},
   "source": [
    "### Inspecting a DF of the NaN / Missing values revealed that there were a few corrupted data points with {} in place of the data\n",
    "* There were 31 instances of corrupted data points\n",
    "* Also noted several thousand NaN in the (bond) interest/coupon frequency; however, these require seperate considerations"
   ]
  },
  {
   "cell_type": "code",
   "execution_count": null,
   "metadata": {},
   "outputs": [],
   "source": [
    "#find all the occurences of the corrupted data points with: {} instead of price (#NO = 31)\n",
    "corrupted_price_df = fulldata_df[fulldata_df.price.str.contains('\\{}')==True]\n",
    "\n",
    "#send the index numbers to a list\n",
    "corrupted_indexes = corrupted_price_df.index.tolist()\n",
    "\n",
    "#find the loc of these indexs so faciliate dropping them from the DF \n",
    "corrupted_indexloc = []\n",
    "for i in corrupted_indexes:\n",
    "    corrupted_indexloc.append(fulldata_df.index.get_loc(i))\n",
    "    "
   ]
  },
  {
   "cell_type": "code",
   "execution_count": null,
   "metadata": {},
   "outputs": [],
   "source": [
    "#drop all of the rows with the corrupted {} in place of the price for the entire DF: based off their index.loc list above\n",
    "fulldata_df = fulldata_df.drop(fulldata_df.index[corrupted_indexloc], axis=0)"
   ]
  },
  {
   "cell_type": "code",
   "execution_count": null,
   "metadata": {},
   "outputs": [],
   "source": [
    "  "
   ]
  },
  {
   "cell_type": "markdown",
   "metadata": {},
   "source": [
    "### A feature of the data is missing interest_frequency data points; these cannot simply be dropped as they potentially represent either: zero-coupon bonds, bonds which for whatever reason (perhaps near bankruptcy and undergoing debt deorganisation) have temporarily ceased paying coupons\n",
    "* These points must be accounted for in the subsequent code to calculate their par-equivalent CDS spreads & how this might affect the results as a whole"
   ]
  },
  {
   "cell_type": "code",
   "execution_count": null,
   "metadata": {},
   "outputs": [],
   "source": [
    "#inspect coupon_freq NaN(s)\n",
    "missing_ir_freq = fulldata_df[fulldata_df['interest_frequency'].isna()]\n",
    "missing_ir_freq\n",
    "\n",
    "#revealed 47219 instances of missing coupon frequency data"
   ]
  },
  {
   "cell_type": "code",
   "execution_count": null,
   "metadata": {},
   "outputs": [],
   "source": []
  },
  {
   "cell_type": "code",
   "execution_count": null,
   "metadata": {},
   "outputs": [],
   "source": []
  },
  {
   "cell_type": "code",
   "execution_count": null,
   "metadata": {},
   "outputs": [],
   "source": []
  },
  {
   "cell_type": "markdown",
   "metadata": {},
   "source": [
    "## MAJOR PROBLEM: NON-CHRONOLOGICALLY SORTED DATA\n",
    "\n",
    "### Some data appears to have become jumbled in the sorting, as the index was set to an arbitrary counter (1, 2...., 450K etc.) and Python has recognised that number (E.G. from the screen shot below, 451434 is greater than 100224) and thus, these data points are appearing in chronological order only up to a certain point\n",
    "\n",
    "    * This is potentially a side-effect of multiple mergings\n",
    "    * E.G. screenshot below"
   ]
  },
  {
   "attachments": {
    "image.png": {
     "image/png": "[encoded data removed]"
    }
   },
   "cell_type": "markdown",
   "metadata": {},
   "source": [
    "![image.png](attachment:image.png)"
   ]
  },
  {
   "cell_type": "code",
   "execution_count": null,
   "metadata": {},
   "outputs": [],
   "source": [
    "#in most recent document, no? \n",
    "\n",
    "#from msvecm_thesis_1.02"
   ]
  },
  {
   "cell_type": "code",
   "execution_count": null,
   "metadata": {},
   "outputs": [],
   "source": [
    "#create a copy in case the sorting results in an error:\n",
    "unsorted_fulldata_df = fulldata_df.copy()\n",
    "\n",
    "#re-organise the DF by (GVKEY) and then sort chronologically on the trade_date\n",
    "unsorted_fulldata_df = unsorted_fulldata_df.set_index(['gvkey','trade_date']).sort_index()\n",
    "\n",
    "#reset the index to move GVKEY and trade_date back to regular columns, while preserving the now chronologically sorted format\n",
    "unsorted_fulldata_df = unsorted_fulldata_df.reset_index()\n",
    "\n",
    "## optional but recommended: manually inspect a specific GVKEY ##\n",
    "gvkey_28272 = unsorted_fulldata_df.loc[unsorted_fulldata_df.gvkey==28272]\n",
    "\n",
    "#print the slice of the DF to string (so it prints the entire thing, and quickly confirm the trade_date is chronological)\n",
    "print(gvkey_28272[['gvkey','trade_date']].to_string())   \n",
    "\n",
    "#delete this sliced DF if it's correct and proceed:\n",
    "del gvkey_28272\n",
    "\n",
    "#if it is indeed correct, rename the DF / re-copy / or re-run the above code with \"fulldata_df\" instead\n",
    "fulldata_df = unsorted_fulldata_df.copy()\n",
    "\n",
    "#delete the tester DF\n",
    "del unsorted_fulldata_df"
   ]
  },
  {
   "cell_type": "code",
   "execution_count": null,
   "metadata": {},
   "outputs": [],
   "source": []
  },
  {
   "cell_type": "code",
   "execution_count": null,
   "metadata": {},
   "outputs": [],
   "source": []
  },
  {
   "cell_type": "code",
   "execution_count": null,
   "metadata": {},
   "outputs": [],
   "source": [
    "#now interpolation: \n",
    "\n",
    "gvkey_28272 = gvkey_28272.interpolate(method='linear',limit_direction='forward',axis=0)\n",
    "\n",
    "gvkey_28272 = gvkey_28272.interpolate(method='linear',limit_direction='forward', limit=20, axis=0)\n",
    "#add in limit to == 10 days"
   ]
  },
  {
   "cell_type": "code",
   "execution_count": null,
   "metadata": {},
   "outputs": [],
   "source": []
  },
  {
   "cell_type": "markdown",
   "metadata": {},
   "source": [
    "# A note on interpolation"
   ]
  },
  {
   "cell_type": "code",
   "execution_count": null,
   "metadata": {},
   "outputs": [],
   "source": [
    "#interpolation?\n",
    "\n",
    "gvkey_28272 = gvkey_28272.interpolate(method='linear',limit_direction='forward', limit=20, axis=0)\n",
    "\n",
    "#interpolate the price  to sales ratio per GVKEY group \n",
    "sorted_alldata_df_final = sorted_alldata_df_final.groupby(['gvkey','price_sales']).apply(lambda g: g.interpolate(method='linear',\n",
    "                                                                                       limit_direction='forward',\n",
    "                                                                                       limit=4,\n",
    "                                                                                       axis=0))\n",
    "\n",
    "#if this were for weekly data: limit == 4 would exclude the interpolation of any series with a structural break >1m time\n"
   ]
  },
  {
   "cell_type": "code",
   "execution_count": null,
   "metadata": {},
   "outputs": [],
   "source": []
  },
  {
   "cell_type": "code",
   "execution_count": null,
   "metadata": {},
   "outputs": [],
   "source": []
  },
  {
   "cell_type": "code",
   "execution_count": null,
   "metadata": {},
   "outputs": [],
   "source": []
  },
  {
   "cell_type": "code",
   "execution_count": null,
   "metadata": {},
   "outputs": [],
   "source": []
  },
  {
   "cell_type": "code",
   "execution_count": null,
   "metadata": {},
   "outputs": [],
   "source": []
  },
  {
   "cell_type": "code",
   "execution_count": null,
   "metadata": {},
   "outputs": [],
   "source": []
  },
  {
   "cell_type": "code",
   "execution_count": null,
   "metadata": {},
   "outputs": [],
   "source": []
  },
  {
   "cell_type": "code",
   "execution_count": null,
   "metadata": {},
   "outputs": [],
   "source": []
  },
  {
   "cell_type": "code",
   "execution_count": null,
   "metadata": {},
   "outputs": [],
   "source": []
  },
  {
   "cell_type": "code",
   "execution_count": null,
   "metadata": {},
   "outputs": [],
   "source": []
  },
  {
   "cell_type": "code",
   "execution_count": null,
   "metadata": {},
   "outputs": [],
   "source": []
  },
  {
   "cell_type": "code",
   "execution_count": null,
   "metadata": {},
   "outputs": [],
   "source": []
  },
  {
   "cell_type": "markdown",
   "metadata": {},
   "source": [
    "# Conclusion on the data cleaning process: \n",
    "\n",
    "\n",
    "* The result is roughly 408 firms with outstanding CDS contrats, bonds which mature in 4-6 years, as well as have information available on the bonds coupons "
   ]
  },
  {
   "cell_type": "code",
   "execution_count": null,
   "metadata": {},
   "outputs": [],
   "source": []
  },
  {
   "cell_type": "code",
   "execution_count": null,
   "metadata": {},
   "outputs": [],
   "source": []
  },
  {
   "cell_type": "code",
   "execution_count": null,
   "metadata": {},
   "outputs": [],
   "source": []
  },
  {
   "cell_type": "code",
   "execution_count": null,
   "metadata": {},
   "outputs": [],
   "source": []
  },
  {
   "cell_type": "markdown",
   "metadata": {},
   "source": [
    "## TIME RE-SAMPLING EXAMPLE\n",
    "* Going from daily-level observations to weekly; with the week being classified as Wednesday-to-Wednesday to iron out anomalies with Friday-Monday trading phenomena"
   ]
  },
  {
   "cell_type": "code",
   "execution_count": null,
   "metadata": {},
   "outputs": [],
   "source": [
    "fulldata_df_weekly = fulldata_df.groupby('gvkey').resample('W-WED', on='trade_date').first()\n",
    "\n",
    "#will result in a multi-level index; personal preference to reset index to move ['GVKEY','trade_date'] back to the columns"
   ]
  },
  {
   "cell_type": "code",
   "execution_count": null,
   "metadata": {},
   "outputs": [],
   "source": []
  },
  {
   "cell_type": "code",
   "execution_count": null,
   "metadata": {},
   "outputs": [],
   "source": []
  },
  {
   "cell_type": "code",
   "execution_count": null,
   "metadata": {},
   "outputs": [],
   "source": []
  },
  {
   "cell_type": "code",
   "execution_count": null,
   "metadata": {},
   "outputs": [],
   "source": []
  },
  {
   "cell_type": "code",
   "execution_count": null,
   "metadata": {},
   "outputs": [],
   "source": []
  },
  {
   "cell_type": "markdown",
   "metadata": {},
   "source": [
    "<a id='PART_TWO'></a>\n",
    "\n",
    "# PART TWO: Calculating Par-Equivalent Credit Default Swap (PECDS) \n",
    "\n",
    "* This is a technique used to be able to compare bonds (even those trading far from par) with their equivalent CDS contracts"
   ]
  },
  {
   "cell_type": "markdown",
   "metadata": {},
   "source": [
    "### A brief primer on the underlying mechanics and mathematics of PECDS\n",
    "\n",
    "* Intended to.."
   ]
  },
  {
   "cell_type": "code",
   "execution_count": null,
   "metadata": {},
   "outputs": [],
   "source": []
  },
  {
   "cell_type": "markdown",
   "metadata": {},
   "source": [
    "#### Initial Class Function:\n",
    "\n",
    "\n",
    "* NOTE: the \"hypothetical_bond_price\" returned from this function, is the hypothetically implied price of the bond if the initial (starting value guessed) hazard rate (AKA default rate) were indeed the true hazard rate being used in the market.\n",
    "\n",
    "\n",
    "* Provided that it is unlikely this initial guess is actually the true hazard rate, the hypothetical bond price variable in itself has no meaning until the subsequent function which re-optimises the entire processs with the newly solved hazard rate. \n",
    "\n",
    "\n",
    "* The price given by the solve_for_lambda function, would ..."
   ]
  },
  {
   "cell_type": "code",
   "execution_count": null,
   "metadata": {},
   "outputs": [],
   "source": [
    "class lambda_exp_solver:\n",
    "    def __init__(self, coupon, interest_frequency, years_to_maturity, price, riskfree_rate_1yr, riskfree_rate_2yr, riskfree_rate_3yr, riskfree_rate_4yr, riskfree_rate_5yr):\n",
    "        self.coupon = float(coupon) / 100                             \n",
    "        self.interest_frequency = int(float(interest_frequency))      # must be read in as (int(float( )) to avoid error\n",
    "        self.maturity = float(years_to_maturity)                           \n",
    "        self.price = float(price)                                  \n",
    "        self.riskfree_rate_1yr = float(riskfree_rate_1yr) / 100\n",
    "        self.riskfree_rate_2yr = float(riskfree_rate_2yr) / 100\n",
    "        self.riskfree_rate_3yr = float(riskfree_rate_3yr) / 100\n",
    "        self.riskfree_rate_4yr = float(riskfree_rate_4yr) / 100\n",
    "        self.riskfree_rate_5yr = float(riskfree_rate_5yr) / 100     \n",
    "        \n",
    "    #formulate function for expected (present value) of bond- as a function of the numerically optimised hazard_rate (lambda)\n",
    "    def lambda_bond_price_equation(self, hazard_r):\n",
    "        \n",
    "        #initialise variables for bond pricing\n",
    "        pv_coupon_payments = 0    \n",
    "        pv_bond_repayment_default = 0     \n",
    "        pv_bond_repayment_no_default = 0          \n",
    "        \n",
    "        #initalise fixed parameters: the floating is simply for consistency if debugging is required: \n",
    "        principal = float(100)                                       #bonds quoted on basis of principal == $100\n",
    "        recovery_rate = float(0.4)                                   #equivalent to 0.4 == (1 - RR)\n",
    "        \n",
    "        #initialise the class function's self.params\n",
    "        maturity = self.maturity\n",
    "        coupon_frequency = self.interest_frequency                  \n",
    "        coupon_r = self.coupon\n",
    "        price = self.price                                           \n",
    "        riskfree_rate_1yr = self.riskfree_rate_1yr\n",
    "        riskfree_rate_2yr = self.riskfree_rate_2yr\n",
    "        riskfree_rate_3yr = self.riskfree_rate_3yr\n",
    "        riskfree_rate_4yr = self.riskfree_rate_4yr\n",
    "        riskfree_rate_5yr = self.riskfree_rate_5yr\n",
    "        \n",
    "        #initialise the risk-free rates as if they were 'one' series, to allow the correct year reference for discounting cash flows\n",
    "        risk_free_rates_series = pd.Series([riskfree_rate_1yr, riskfree_rate_2yr, riskfree_rate_3yr, riskfree_rate_4yr, riskfree_rate_5yr])\n",
    "        \n",
    "        #calculate No. Years where bond makes a payment: math.ceil = returns smallest integral value greater than the passed in number\n",
    "        total_payment_years = math.ceil(maturity)\n",
    "        \n",
    "        #for coupon bonds-- derive the number of coupon payments that will be made in its final year\n",
    "        if ( coupon_frequency > 0):\n",
    "            \n",
    "            ## Start by calculating duration of final year (as a fraction of the total year). \n",
    "            duration_final_year = maturity - math.floor(maturity)\n",
    "            \n",
    "            ## Next calculate duration between each coupon payment (this equals 0.5 for semi-annual coupon bonds)\n",
    "            duration_between_payments = 1/coupon_frequency\n",
    "            \n",
    "            ## Start by setting the number of payments in the final year to 1, since each bond pays a coupon on its maturity date (so as long as the bond matures in year 5, at least one payment is made then)\n",
    "            number_coupons_final_year = 1\n",
    "            \n",
    "            ## Next shorten duration of final year by time period between coupon payments \n",
    "            remaining_duration_final_year =  duration_between_payments - duration_final_year\n",
    "            \n",
    "            #assuming the math.ceil(mat) means 3.8 >> 4.0; this should ensure the remaining duration is always positive for that 1/2 year's worth of coupon\n",
    "            \n",
    "            ## As long as this remaining duration is positive, increment number of coupon payments\n",
    "            while (remaining_duration_final_year > 0):\n",
    "                number_coupons_final_year += 1 \n",
    "                \n",
    "                #this loop segment handles any issue with negative (remaining_duratuin_final_year):if 5.1 == (0.1 - 0.5) = -0.4\n",
    "                if (duration_final_year <= 0.5):\n",
    "                     remaining_duration_final_year = duration_final_year - duration_final_year #should cancel out the while loop when the if-clause hits this\n",
    "                elif (duration_final_year > 0.5):        \n",
    "                    remaining_duration_final_year = duration_final_year - duration_between_payments \n",
    "        \n",
    "        #formula for pricing the bond, as a function of the hazard_rate (lambda) \n",
    "        for i in range(1 ,total_payment_years+1):                  \n",
    "                \n",
    "            ## Obtain risk free rate corresponding to year of bond payment\n",
    "            # The try/except format is to counter a \"key error\" occuring with some bonds nearing 6Y maturities - this is resolved by reverting the reference for maturities > 5Y to the 5Y swap rate\n",
    "            try:\n",
    "                risk_free_rate = risk_free_rates_series[i]\n",
    "            except KeyError:\n",
    "                risk_free_rate = risk_free_rates_series[4]  \n",
    "                #note: in python, reference loc[4] is actually referring to the (5 year) swap rate - not the 4th\n",
    "            \n",
    "            ## Calculate the number of coupons paid during the payment year. In all but the final payment year, this is equal to the standard number of coupons per year.\n",
    "            if ( i < total_payment_years):            \n",
    "                number_coupons_in_payment_year = coupon_frequency\n",
    "            elif ( i == total_payment_years):\n",
    "                try:\n",
    "                    number_coupons_in_payment_year = number_coupons_final_year\n",
    "                except UnboundLocalError:            #occurs with zero-coupon bonds; simply fix zero-coupon bonds to have just one coupon (only the final year)\n",
    "                    #This resolves the issue with zero-coupon bonds, as this variable is not defined for coupon_freq <= 0 (loop above)\n",
    "                    number_coupons_final_year = 1\n",
    "            \n",
    "            ## Next increment expected present values of coupon payments (with t denoting the payment number within the year, always starting at 1)\n",
    "            ## this is because most bonds pay semi-annual coupons (a select few pay quarterly, but the code will handle either without further changes)\n",
    "            t = 1\n",
    "            \n",
    "            ## In each year, iterate over the number of coupon payments in that year\n",
    "            ## Note that this loop will be skipped over for zero-coupon bonds, which have coupon_frequency of 0\n",
    "            while ( t <= number_coupons_in_payment_year):\n",
    "                \n",
    "                ## Add present value of coupon payment, with hazard rate and risk-free rate multiplied by year i (since only discounting once per year)\n",
    "                pv_coupon_payments += (np.exp(- (hazard_r) * i )) * coupon_r * principal * np.exp(-(risk_free_rate * i))\n",
    "                \n",
    "                ## Increment counter for number of coupon payments\n",
    "                t+= 1\n",
    "                \n",
    "            ## Increment expected present value of bond recovery payment in case of default in each year i. Note this value is incremented only once per year.\n",
    "            pv_bond_repayment_default += recovery_rate * principal * np.exp(-risk_free_rate * i) * ( np.exp(-hazard_r * (i-1)) - np.exp(-hazard_r * i) ) \n",
    "\n",
    "            ## Increment expected present value of bond principal repayment in case of no default in final year. \n",
    "            ## Note this value is incremented only once (as there can only be one 'final' payoff obviously)\n",
    "            if ( i == total_payment_years):                              \n",
    "                pv_bond_repayment_no_default += np.exp(-hazard_r * i) * principal * np.exp(-risk_free_rate * i)                  \n",
    "                \n",
    "        ## After looping over all payment years, calculate expected present value of bond          \n",
    "        hypothetical_bond_price = pv_coupon_payments + pv_bond_repayment_default - pv_bond_repayment_no_default       \n",
    "    \n",
    "        ## Return total expected present value\n",
    "        return hypothetical_bond_price\n",
    "    \n",
    "    #the above (lambda_bond_price_equation) function can now be numerically solved by np.optimize\n",
    "    #this will yield the necessary hazard rate (implied by the market prices/variables) which would set the bond's value to par ($100)\n",
    "    def solve_for_lambda(self):                                     \n",
    "        optimised_lambda = optimize.fsolve(self.lambda_bond_price_equation, x0 = 0.05) #note: x0 = initial starting guess parameter - largely arbitrary but 5% is a safe choice\n",
    "        return optimised_lambda[0]"
   ]
  },
  {
   "cell_type": "code",
   "execution_count": null,
   "metadata": {},
   "outputs": [],
   "source": []
  },
  {
   "cell_type": "code",
   "execution_count": null,
   "metadata": {},
   "outputs": [],
   "source": []
  },
  {
   "cell_type": "code",
   "execution_count": null,
   "metadata": {},
   "outputs": [],
   "source": []
  },
  {
   "cell_type": "code",
   "execution_count": null,
   "metadata": {},
   "outputs": [],
   "source": []
  },
  {
   "cell_type": "code",
   "execution_count": null,
   "metadata": {},
   "outputs": [],
   "source": []
  },
  {
   "cell_type": "code",
   "execution_count": null,
   "metadata": {},
   "outputs": [],
   "source": []
  },
  {
   "cell_type": "code",
   "execution_count": null,
   "metadata": {},
   "outputs": [],
   "source": []
  },
  {
   "cell_type": "code",
   "execution_count": null,
   "metadata": {},
   "outputs": [],
   "source": []
  },
  {
   "cell_type": "markdown",
   "metadata": {},
   "source": [
    "### Multiple methods for applying the above function to the Bond/CDS dataframe\n",
    "\n",
    "* Due to the underlying functionality of the optimise function, the ... .... ..... \n",
    "\n",
    "* Thus, a viable (albeit, only for a relatively moderately sized DF) is to read the DF like a .txt file, iteratively, line-by-line"
   ]
  },
  {
   "cell_type": "code",
   "execution_count": null,
   "metadata": {},
   "outputs": [],
   "source": [
    "reader_df_txt = open('final_df_cleaned_txt.txt','r')         #read the main DF(data) file\n",
    "output_df_txt = open('output_df_v2_01.txt','w+')             #Create a file called () or write to it if it already exists (w+)\n",
    "\n",
    "initial_hr = 0.075                                           #starting guess for solver \n",
    "\n",
    "for line in reader_df_txt:                            \n",
    "    line = line.rstrip(\"\\r\\n\")\n",
    "    [bond_sym_id, trade_date, price, issue_id, bond_in_mergent,\n",
    "       coupon, interest_frequency, coupon_type, maturity_date,\n",
    "       secured, seniority, years_to_maturity, gvkey,\n",
    "       riskfree_rate_1yr, riskfree_rate_2yr, riskfree_rate_3yr,\n",
    "       riskfree_rate_4yr, riskfree_rate_5yr, cds_spread, series_id] = line.split()    # (\"\\t\") tab space(not how my data is formatted)\n",
    "    if bond_sym_id==\"bond_sym_id\":\n",
    "        print('bond_sym_id', 'trade_date', 'price', 'issue_id', 'bond_in_mergent',\n",
    "       'coupon', 'interest_frequency', 'coupon_type', 'maturity_date',\n",
    "       'secured', 'seniority', 'years_to_maturity', 'gvkey',\n",
    "       'riskfree_rate_1yr', 'riskfree_rate_2yr', 'riskfree_rate_3yr',\n",
    "       'riskfree_rate_4yr', 'riskfree_rate_5yr', 'cds_spread', 'series_id', sep=\"\\t\", end=\"\\n\", file=output_df_txt)\n",
    "        continue\n",
    "    if (interest_frequency ==\"nan\"):                                        #if I_FREQ = NAN >> assume == zero coupon bond ()\n",
    "        interest_frequency = int(0)\n",
    "\n",
    "    if (bond_sym_id==\"\" or bond_sym_id==\"{}\" or bond_sym_id==\"NA\"):          #bond_sym_id issues shouldn't exist anyhow\n",
    "        init_bondprice = \"NA\"\n",
    "        init_solved_lam = \"NA\"\n",
    "        \n",
    "    else:\n",
    "        lambda_exp_solver_instance = lambda_exp_solver(coupon, interest_frequency, years_to_maturity, price, riskfree_rate_1yr, riskfree_rate_2yr, riskfree_rate_3yr, riskfree_rate_4yr, riskfree_rate_5yr)\n",
    "        \n",
    "        #initial_hr == 0.075 as defined at the beginning of this cell\n",
    "        \n",
    "        init_bondprice = lambda_exp_solver_instance.lam_exp_4(initial_hr)\n",
    "        \n",
    "        init_solved_lam = lambda_exp_solver_instance.solve_for_lambda()\n",
    "        \n",
    "        initial_hr = init_solved_lam    #update the initial starting guess using solved value from T-1\n",
    "        \n",
    "    print(bond_sym_id, trade_date, price, issue_id, bond_in_mergent,\n",
    "       coupon, interest_frequency, coupon_type, maturity_date,\n",
    "       secured, seniority, years_to_maturity, gvkey,\n",
    "       riskfree_rate_1yr, riskfree_rate_2yr, riskfree_rate_3yr,\n",
    "       riskfree_rate_4yr, riskfree_rate_5yr, cds_spread, series_id, init_bondprice, init_solved_lam, sep=\"\\t\", end=\"\\n\", file=output_df_txt)    \n",
    "\n",
    "        \n",
    "reader_df_txt.close()  \n",
    "output_df_txt.close() "
   ]
  },
  {
   "cell_type": "code",
   "execution_count": null,
   "metadata": {},
   "outputs": [],
   "source": []
  },
  {
   "cell_type": "code",
   "execution_count": null,
   "metadata": {},
   "outputs": [],
   "source": [
    "#from PECDS_VAR_1.24"
   ]
  },
  {
   "cell_type": "code",
   "execution_count": null,
   "metadata": {},
   "outputs": [],
   "source": [
    "#break down zero coupon bonds\n",
    "\n",
    "#break down coupon bonds\n",
    "\n",
    "#create a groupby-series, by year, for each subset:\n",
    "full_df_years = final_df_pz_year.groupby('year_index').size()\n",
    "zero_coupon_years = zero_coupon_series.groupby('year_index').size()\n",
    "\n",
    "#create series with the difference\n",
    "years_dif_series = zero_coupon_years / full_df_years\n",
    "\n",
    "#convert to a better format for readability \n",
    "years_dif_series_percent = ['{:.2f}%'.format(x) for x in (years_dif_series[:] * 100)]"
   ]
  },
  {
   "cell_type": "code",
   "execution_count": null,
   "metadata": {},
   "outputs": [],
   "source": [
    "#print a latex table for publication, \n",
    "\n",
    "print(tabulate(zip(full_df_years.index, full_df_years),\n",
    "              headers=['YEAR', 'FULL_DF_BREAKDOWN' ], tablefmt='latex_raw'))\n",
    "\n",
    "print('\\n',\n",
    "     \"Total Observations full DF ==\", len(df_basis_coupons_month))"
   ]
  },
  {
   "cell_type": "code",
   "execution_count": null,
   "metadata": {},
   "outputs": [],
   "source": [
    "print(tabulate(zip(zero_coupon_years.index, full_df_years, zero_coupon_years, years_dif_series_percent),\n",
    "              headers=['YEAR', 'FULL_DF_BREAKDOWN', 'ZERO_COUPONS_BREAKDOWN',' ZERO_COUP (%) of FULL_DF'], tablefmt='orgtbl'))\n",
    "\n",
    "print('\\n', \"Total Observations for zero coupon bonds ==\", len(zero_coupon_series), '\\n',\n",
    "     \"Total Observations full DF ==\", len(final_df_pz))"
   ]
  },
  {
   "cell_type": "markdown",
   "metadata": {},
   "source": [
    "|   YEAR |   FULL_DF_BREAKDOWN |   ZERO_COUPONS_BREAKDOWN |  ZERO_COUP (%) of FULL_DF   |\n",
    "|--------+---------------------+--------------------------+-----------------------------|\n",
    "|   2007 |                1325 |                      146 | 1.35%                       |\n",
    "|   2008 |               10854 |                     1144 | 3.03%                       |\n",
    "|   2009 |               37755 |                      954 | 1.97%                       |\n",
    "|   2010 |               48443 |                      958 | 1.92%                       |\n",
    "|   2011 |               49777 |                     1543 | 3.23%                       |\n",
    "|   2012 |               47837 |                     3443 | 6.51%                       |\n",
    "|   2013 |               52891 |                     3759 | 6.96%                       |\n",
    "|   2014 |               54004 |                     2858 | 5.59%                       |\n",
    "|   2015 |               51123 |                     2629 | 5.11%                       |\n",
    "|   2016 |               51405 |                     5283 | 9.78%                       |\n",
    "|   2017 |               53991 |                     2603 | 9.43%                       |\n",
    "\n",
    " Total Observations for zero coupon bonds == 25320 \n",
    " Total Observations full DF == 487018"
   ]
  },
  {
   "cell_type": "markdown",
   "metadata": {},
   "source": [
    "### Noteworthy observation: zero_coupon_bonds seem to gradually be increasing as a portion of total Bond/CDS combinations; although, in absolute terms, they still remain the vastly smaller of the two groups\n",
    "\n",
    "* big uptick in 2012? caused by default?\n",
    "\n",
    "* 2015-2016??? \n",
    "\n",
    "## add a column for total outstanding bond observations over-time? Or a graph etc. "
   ]
  },
  {
   "cell_type": "code",
   "execution_count": null,
   "metadata": {},
   "outputs": [],
   "source": []
  },
  {
   "cell_type": "code",
   "execution_count": null,
   "metadata": {},
   "outputs": [],
   "source": [
    "#printing latex \n",
    "print(rowsamp_20.to_latex(float_format=lambda x: '%10.2f' % x, index=False))\n",
    "\n",
    "#writing latex files\n",
    "res20_sampdf = open('res20_samptex.tex', 'w+') #write to this .tex file (or create it if it doesn't exist)\n",
    "res20_sampdf.write(rowsamp_20.to_latex(float_format=lambda x: '%10.2f' % x, index=False ))\n",
    "res20_sampdf.close()"
   ]
  },
  {
   "cell_type": "code",
   "execution_count": null,
   "metadata": {},
   "outputs": [],
   "source": []
  },
  {
   "cell_type": "code",
   "execution_count": null,
   "metadata": {},
   "outputs": [],
   "source": []
  },
  {
   "cell_type": "code",
   "execution_count": null,
   "metadata": {},
   "outputs": [],
   "source": []
  },
  {
   "cell_type": "code",
   "execution_count": null,
   "metadata": {},
   "outputs": [],
   "source": []
  },
  {
   "cell_type": "code",
   "execution_count": null,
   "metadata": {},
   "outputs": [],
   "source": []
  },
  {
   "cell_type": "markdown",
   "metadata": {},
   "source": [
    "# Modified function using solved lambda\n",
    "\n",
    "* PECDS_VAR_1.24"
   ]
  },
  {
   "cell_type": "code",
   "execution_count": null,
   "metadata": {},
   "outputs": [],
   "source": [
    "def lambda_exp_closed_solution(solved_lambda, coupon, interest_frequency, years_to_maturity, price, riskfree_rate_1yr, riskfree_rate_2yr, riskfree_rate_3yr, riskfree_rate_4yr, riskfree_rate_5yr, market_cds_spread):\n",
    "        \"\"\"\n",
    "        Function to re-input the solved lambda; as this function can be applied in pandas, through df.apply with an auxiliary\n",
    "        row function- it is easier to pull it out of the class and just directly apply it\n",
    "        \"\"\"\n",
    "        #initialise variables for bond pricing\n",
    "        pv_coupon_payments = 0    \n",
    "        pv_bond_repayment_default = 0     \n",
    "        pv_bond_repayment_no_default = 0   \n",
    "        \n",
    "        #redefine / rename variables where necessary\n",
    "        hazard_r = solved_lambda\n",
    "        maturity = years_to_maturity\n",
    "        coupon_frequency = interest_frequency\n",
    "        coupon_r = coupon / 100\n",
    "        riskfree_rate_1yr = float(riskfree_rate_1yr) / 100\n",
    "        riskfree_rate_2yr = float(riskfree_rate_2yr) / 100\n",
    "        riskfree_rate_3yr = float(riskfree_rate_3yr) / 100\n",
    "        riskfree_rate_4yr = float(riskfree_rate_4yr) / 100\n",
    "        riskfree_rate_5yr = float(riskfree_rate_5yr) / 100          \n",
    "\n",
    "        #initalise fixed parameters:\n",
    "        principal = float(100)                                       \n",
    "        recovery_rate = float(0.4)\n",
    "        \n",
    "        #initialise RFR(s) to enable linking respective RFR to its corresponding bond payment\n",
    "        risk_free_rates_series = pd.Series([riskfree_rate_1yr, riskfree_rate_2yr, riskfree_rate_3yr, riskfree_rate_4yr, riskfree_rate_5yr])\n",
    "        \n",
    "        #calculate No. Years where bond makes a payment: math.ceil = returns smallest integral value greater than the passed in number\n",
    "        total_payment_years = math.ceil(maturity)\n",
    "        \n",
    "        #for coupon bonds-- derive the number of coupon payments that will be made in its final year\n",
    "        if ( coupon_frequency > 0):\n",
    "            \n",
    "            ## Start by calculating duration of final year (as a fraction of the total year). \n",
    "            duration_final_year = maturity - math.floor(maturity)\n",
    "            \n",
    "            ## Next calculate duration between each coupon payment (this equals 0.5 for semi-annual coupon bonds)\n",
    "            duration_between_payments = 1/coupon_frequency\n",
    "            \n",
    "            ## Start by setting the number of payments in the final year to 1, since each bond pays a coupon on its maturity date (so as long as the bond matures in year 5, at least one payment is made then)\n",
    "            number_coupons_final_year = 1\n",
    "            \n",
    "            #\n",
    "            remaining_duration_final_year =  duration_between_payments - duration_final_year\n",
    "            \n",
    "            ## As long as this remaining duration is positive, increment number of coupon payments\n",
    "            while (remaining_duration_final_year > 0):\n",
    "                number_coupons_final_year += 1 \n",
    "                \n",
    "                #this loop here should resolve the issue with negative (remaining_dur_final_year):if 5.1 == (0.1 - 0.5) = -0.4\n",
    "                if (duration_final_year <= 0.5):\n",
    "                     remaining_duration_final_year = duration_final_year - duration_final_year #should cancel out the while loop\n",
    "                elif (duration_final_year > 0.5):        \n",
    "                    remaining_duration_final_year = duration_final_year - duration_between_payments\n",
    "    \n",
    "        \n",
    "        #formula for pricing the bond, as a function of the hazard_rate (lambda) \n",
    "        for i in range(1 ,total_payment_years+1):               \n",
    "                \n",
    "            ## Obtain risk free rate corresponding to year of bond payment\n",
    "            try:\n",
    "                risk_free_rate = risk_free_rates_series[i]\n",
    "            except KeyError:\n",
    "                risk_free_rate = risk_free_rates_series[4]   #I think this should set the excess years discount rate == 5Y RFR\n",
    "                #print(\"key_error: {} does not exist\".format(risk_free_rate))\n",
    "                #continue\n",
    "            \n",
    "            ## Calculate the number of coupons paid during the payment year. In all but the final payment year, this is equal to the standard number of coupons per year.\n",
    "            if ( i < total_payment_years):            \n",
    "                number_coupons_in_payment_year = coupon_frequency\n",
    "            elif ( i == total_payment_years):\n",
    "                try:\n",
    "                    number_coupons_in_payment_year = number_coupons_final_year\n",
    "                except UnboundLocalError:\n",
    "                    #try to solve the \"reference before assignment\" issue with zero-coupon bonds given this variable is not defined for coupon_freq <= 0 (loop above)\n",
    "                    number_coupons_final_year = 1            \n",
    "            \n",
    "            \n",
    "            ## Next increment expected present values of coupon payments (with t denoting the payment number within the year, always starting at 1)\n",
    "            t = 1\n",
    "            \n",
    "            ## In each year, iterate over the number of coupon payments in that year\n",
    "            while ( t <= number_coupons_in_payment_year):\n",
    "                \n",
    "                ## Add present value of coupon payment, with hazard rate and risk-free rate multiplied by year i (since only discounting once per year). Note that this loop will be skipped over for zero-coupon bonds, which have coupon_frequency of 0\n",
    "                pv_coupon_payments += (np.exp(- (hazard_r) * i )) * coupon_r * principal * np.exp(-(risk_free_rate * i))\n",
    "                \n",
    "                ## Increment counter for number of coupon payments\n",
    "                t += 1  \n",
    "                \n",
    "            ## Increment expected present value of bond recovery payment in case of default in each year i. Note this value is incremented only once per year.\n",
    "            pv_bond_repayment_default += recovery_rate * principal * np.exp(-risk_free_rate * i) * ( np.exp(-hazard_r * (i-1)) - np.exp(-hazard_r * i) ) \n",
    "\n",
    "            ## Increment expected present value of bond principal repayment in case of no default in final year. Note this value is incremented only once\n",
    "            if ( i == total_payment_years):                              \n",
    "                pv_bond_repayment_no_default += np.exp(-hazard_r * i) * principal * np.exp(-risk_free_rate * i)\n",
    "\n",
    "        ## After looping over all payment years, calculate expected present value of bond          \n",
    "        lam_exp = pv_coupon_payments + pv_bond_repayment_default - pv_bond_repayment_no_default\n",
    "\n",
    "        #change the scale (CDS on notional of $10000) however only *100 (see note below this function)\n",
    "        pv_bond_repayment_default_modified = pv_bond_repayment_default * 100\n",
    "        \n",
    "        #divide modified bond_repayment_default by PV coupons\n",
    "        PECDS_eq = pv_bond_repayment_default_modified / pv_coupon_payments\n",
    "        \n",
    "        cds_basis = market_cds_spread - PECDS_eq\n",
    "        \n",
    "        #run these intermediate print(s) when wanting to visualise steps for testing purposes:\n",
    "        #print(\"PV_Coupon_payments== \", pv_coupon_payments, '\\n', \"PV_bond_repayment_default ==\", pv_bond_repayment_default, '\\n', \n",
    "        #     \"pv_bond_repayment_no_default ==\", pv_bond_repayment_no_default)\n",
    "        #print(\"PECDS_EQ VALUE:\", PECDS_eq, '\\n', \"MARKET_CDS_SPREAD:\", market_cds_spread)\n",
    "\n",
    "        ## Return PECDS value & the CDS-Bond Basis: split them later \n",
    "        return PECDS_eq, cds_basis"
   ]
  },
  {
   "cell_type": "code",
   "execution_count": null,
   "metadata": {},
   "outputs": [],
   "source": [
    "def lambda_exp_closed_solution_auxfunc(row):\n",
    "    \"auxiliary function to apply to multiple columns per row for the bond pricing equation\"\n",
    "    \n",
    "    return lambda_exp_closed_solution(row.solved_lambda, row.coupon, row.interest_frequency, row.years_to_maturity, row.price, \n",
    "    row.riskfree_rate_1yr, row.riskfree_rate_2yr, row.riskfree_rate_3yr, row.riskfree_rate_4yr, row.riskfree_rate_5yr, \n",
    "    row.market_cds_spread)"
   ]
  },
  {
   "cell_type": "code",
   "execution_count": null,
   "metadata": {},
   "outputs": [],
   "source": [
    "final_df_basis['pecds_eq'] = final_df_basis.apply(lambda_exp_closed_solution_auxfunc, axis=1)"
   ]
  },
  {
   "cell_type": "markdown",
   "metadata": {},
   "source": [
    "# needs cleaning / names adjustment "
   ]
  },
  {
   "cell_type": "code",
   "execution_count": null,
   "metadata": {},
   "outputs": [],
   "source": [
    "#to create two columns output, take the result of one column with the values seperated by a (comma) and split\n",
    "\n",
    "#split the pecds / cds_bond_basis from one column into two \n",
    "pecds_eq_df = pd.DataFrame(final_df_basis['pecds_eq'].values.tolist(), index=final_df_basis.index)\n",
    "\n",
    "#rename these columns for simplicity \n",
    "pecds_eq_df.columns = ['pecds','cds_bond_basis']\n",
    "\n",
    "#drop the original column from the main DF\n",
    "final_df_basis = final_df_basis.drop(['pecds_eq'], axis=1)\n",
    "\n",
    "#reaffix the original (two values in one column) as two columns, each with their one respective value\n",
    "final_df_basis[['pecds','cds_bond_basis']] = pecds_eq_df[['pecds','cds_bond_basis']]"
   ]
  },
  {
   "cell_type": "code",
   "execution_count": null,
   "metadata": {},
   "outputs": [],
   "source": []
  },
  {
   "cell_type": "code",
   "execution_count": null,
   "metadata": {},
   "outputs": [],
   "source": []
  },
  {
   "cell_type": "code",
   "execution_count": null,
   "metadata": {},
   "outputs": [],
   "source": []
  },
  {
   "cell_type": "code",
   "execution_count": null,
   "metadata": {},
   "outputs": [],
   "source": []
  },
  {
   "cell_type": "code",
   "execution_count": null,
   "metadata": {},
   "outputs": [],
   "source": []
  },
  {
   "cell_type": "code",
   "execution_count": null,
   "metadata": {},
   "outputs": [],
   "source": []
  },
  {
   "cell_type": "code",
   "execution_count": null,
   "metadata": {},
   "outputs": [],
   "source": []
  },
  {
   "cell_type": "code",
   "execution_count": null,
   "metadata": {},
   "outputs": [],
   "source": []
  },
  {
   "cell_type": "code",
   "execution_count": null,
   "metadata": {},
   "outputs": [],
   "source": []
  },
  {
   "cell_type": "markdown",
   "metadata": {},
   "source": [
    "<a id='PART_THREE'></a>\n",
    "\n",
    "# PART THREE: DESCRIPTIVE STATISTICS\n",
    "\n",
    "## DISCLAIMER: \n",
    "* This section represents the code used to generate the descriptive statistics tables used in the write-up; however, the analysis offered here is not designed to be a complete substitute for the length and rigour offered in the main report. Accordingly, the brief snippets of analysis offered below are closer to executive summaries for each sub-section and thus, should not be regarded a complete analysis"
   ]
  },
  {
   "cell_type": "code",
   "execution_count": 15,
   "metadata": {},
   "outputs": [
    {
     "name": "stdout",
     "output_type": "stream",
     "text": [
      "Files in 'C:\\\\Users\\\\JasonSpano\\\\OneDrive\\\\Uva Msc 19-20 Subjects\\\\Research Assistant Docs\\\\CDS_project_-_first_set_of_tasks\\\\Part 2_jan20\\\\Python_Github_Thesis_Rep_C\\\\Jspano_MScQFin_Thesis': ['.git', '.ipynb_checkpoints', 'Calculating_MSVECM_thesis_1.02.ipynb', 'Jspano_MSc_QuantFin_Public_Github_V1.00.ipynb', 'README.md']\n"
     ]
    }
   ],
   "source": [
    "cwd = os.getcwd()\n",
    "files = os.listdir(cwd)\n",
    "print(\"Files in %r: %s\" % (cwd, files))"
   ]
  },
  {
   "cell_type": "code",
   "execution_count": 10,
   "metadata": {},
   "outputs": [],
   "source": [
    "#sorted_alldata_df_final = pd.read_pickle(\"./sorted_alldata_df_final.pkl\")"
   ]
  },
  {
   "cell_type": "code",
   "execution_count": 9,
   "metadata": {},
   "outputs": [],
   "source": [
    "sorted_alldata_df_final = pd.read_pickle(r\"C:\\Users\\JasonSpano\\OneDrive\\Uva Msc 19-20 Subjects\\Research Assistant Docs\\CDS_project_-_first_set_of_tasks\\Part 2_jan20./sorted_alldata_df_final.pkl\")"
   ]
  },
  {
   "cell_type": "code",
   "execution_count": null,
   "metadata": {},
   "outputs": [],
   "source": []
  },
  {
   "cell_type": "code",
   "execution_count": 30,
   "metadata": {},
   "outputs": [
    {
     "name": "stdout",
     "output_type": "stream",
     "text": [
      " Minimum sector median CDS-Bond basis:  -39.562582265761016 \n",
      " Maximum sector median CDS-Bond basis:  271.9672444858026 \n",
      "\n",
      " Adjusted minimum sector median CDS-Bond basis:  -47.475098718913216 \n",
      " Adjusted maximum sector median CDS-Bond basis:  326.3606933829631\n"
     ]
    }
   ],
   "source": [
    "#pre-define min and max median values by sector group to define the upper and lower limits of the y-axis (median basis value)\n",
    "\n",
    "min_median = sorted_alldata_df_final.groupby(['year_index','sector']).median()['cds_bond_basis'].min()\n",
    "max_median = sorted_alldata_df_final.groupby(['year_index','sector']).median()['cds_bond_basis'].max()\n",
    "\n",
    "print(\" Minimum sector median CDS-Bond basis: \", min_median, '\\n',\n",
    "     \"Maximum sector median CDS-Bond basis: \", max_median, '\\n')\n",
    "\n",
    "#add a small amount of buffer to each value before inserting that value as the y-axis min/max:\n",
    "min_median_adjusted = min_median * 1.20\n",
    "max_median_adjusted = max_median * 1.20\n",
    "\n",
    "print(\" Adjusted minimum sector median CDS-Bond basis: \", min_median_adjusted, '\\n',\n",
    "     \"Adjusted maximum sector median CDS-Bond basis: \", max_median_adjusted)"
   ]
  },
  {
   "cell_type": "markdown",
   "metadata": {},
   "source": [
    "### Construct a line graph of each sector's median CDS-Bond basis over the sample period"
   ]
  },
  {
   "cell_type": "code",
   "execution_count": 28,
   "metadata": {},
   "outputs": [
    {
     "data": {
      "text/plain": [
       "Text(0, 0.5, 'Median CDS-Bond Basis By Sector')"
      ]
     },
     "execution_count": 28,
     "metadata": {},
     "output_type": "execute_result"
    },
    {
     "data": {
      "image/png": "[encoded data removed]",
      "text/plain": [
       "<Figure size 864x648 with 1 Axes>"
      ]
     },
     "metadata": {},
     "output_type": "display_data"
    }
   ],
   "source": [
    "plt.style.use('ggplot')\n",
    "fig, ax = plt.subplots(figsize=(12,9))\n",
    "sorted_alldata_df_final.groupby(['year_index','sector']).median()['cds_bond_basis'].unstack().plot(ax=ax);\n",
    "plt.ylim(min_median_adjusted, max_median_adjusted)\n",
    "plt.xlim(2007, 2017)\n",
    "ax.set_xlabel('Year')\n",
    "ax.set_ylabel('Median CDS-Bond Basis By Sector')"
   ]
  },
  {
   "cell_type": "code",
   "execution_count": null,
   "metadata": {},
   "outputs": [],
   "source": []
  },
  {
   "cell_type": "markdown",
   "metadata": {},
   "source": [
    "### A general observation of the data at an aggregate-level reveals the universal tendency for the median CDS-Bond basis to trend downwards over time\n",
    "* Although, the graph is too noisy and therefore, too cumbersome to indentify individual sector trends- we will refer to a stylised table to accomplish this task\n",
    "\n",
    "* NOTE: herewithin, the CDS-Bond basis will be simply referred to as 'the basis'"
   ]
  },
  {
   "cell_type": "code",
   "execution_count": null,
   "metadata": {},
   "outputs": [],
   "source": []
  },
  {
   "cell_type": "code",
   "execution_count": 10,
   "metadata": {},
   "outputs": [],
   "source": [
    "#create a new dataframe which holds the median basis by sector per year across the sample horizon\n",
    "median_sector_basis_by_sector = np.round(sorted_alldata_df_final.groupby(['year_index','sector']).median()['cds_bond_basis'].unstack(),2)"
   ]
  },
  {
   "cell_type": "code",
   "execution_count": 11,
   "metadata": {},
   "outputs": [
    {
     "data": {
      "text/html": [
       "<div>\n",
       "<style scoped>\n",
       "    .dataframe tbody tr th:only-of-type {\n",
       "        vertical-align: middle;\n",
       "    }\n",
       "\n",
       "    .dataframe tbody tr th {\n",
       "        vertical-align: top;\n",
       "    }\n",
       "\n",
       "    .dataframe thead th {\n",
       "        text-align: right;\n",
       "    }\n",
       "</style>\n",
       "<table border=\"1\" class=\"dataframe\">\n",
       "  <thead>\n",
       "    <tr style=\"text-align: right;\">\n",
       "      <th>sector</th>\n",
       "      <th>Capital Goods</th>\n",
       "      <th>Communication Services</th>\n",
       "      <th>Consumer Cyclical</th>\n",
       "      <th>Consumer Staples</th>\n",
       "      <th>Energy</th>\n",
       "      <th>Financials</th>\n",
       "      <th>Health Care</th>\n",
       "      <th>Materials</th>\n",
       "      <th>Technology</th>\n",
       "      <th>Transporation</th>\n",
       "      <th>Utilities</th>\n",
       "    </tr>\n",
       "    <tr>\n",
       "      <th>year_index</th>\n",
       "      <th></th>\n",
       "      <th></th>\n",
       "      <th></th>\n",
       "      <th></th>\n",
       "      <th></th>\n",
       "      <th></th>\n",
       "      <th></th>\n",
       "      <th></th>\n",
       "      <th></th>\n",
       "      <th></th>\n",
       "      <th></th>\n",
       "    </tr>\n",
       "  </thead>\n",
       "  <tbody>\n",
       "    <tr>\n",
       "      <th>2006</th>\n",
       "      <td>24.12</td>\n",
       "      <td>NaN</td>\n",
       "      <td>19.09</td>\n",
       "      <td>27.22</td>\n",
       "      <td>-12.87</td>\n",
       "      <td>9.07</td>\n",
       "      <td>NaN</td>\n",
       "      <td>18.91</td>\n",
       "      <td>7.92</td>\n",
       "      <td>5.63</td>\n",
       "      <td>66.93</td>\n",
       "    </tr>\n",
       "    <tr>\n",
       "      <th>2007</th>\n",
       "      <td>12.99</td>\n",
       "      <td>59.78</td>\n",
       "      <td>161.75</td>\n",
       "      <td>40.52</td>\n",
       "      <td>38.44</td>\n",
       "      <td>17.57</td>\n",
       "      <td>-14.76</td>\n",
       "      <td>18.40</td>\n",
       "      <td>1.86</td>\n",
       "      <td>10.43</td>\n",
       "      <td>19.16</td>\n",
       "    </tr>\n",
       "    <tr>\n",
       "      <th>2008</th>\n",
       "      <td>34.18</td>\n",
       "      <td>113.78</td>\n",
       "      <td>243.54</td>\n",
       "      <td>27.12</td>\n",
       "      <td>97.03</td>\n",
       "      <td>153.96</td>\n",
       "      <td>35.23</td>\n",
       "      <td>86.67</td>\n",
       "      <td>46.29</td>\n",
       "      <td>41.19</td>\n",
       "      <td>95.97</td>\n",
       "    </tr>\n",
       "    <tr>\n",
       "      <th>2009</th>\n",
       "      <td>27.83</td>\n",
       "      <td>83.51</td>\n",
       "      <td>214.68</td>\n",
       "      <td>33.39</td>\n",
       "      <td>89.59</td>\n",
       "      <td>271.97</td>\n",
       "      <td>64.66</td>\n",
       "      <td>152.45</td>\n",
       "      <td>63.31</td>\n",
       "      <td>76.76</td>\n",
       "      <td>96.36</td>\n",
       "    </tr>\n",
       "    <tr>\n",
       "      <th>2010</th>\n",
       "      <td>41.42</td>\n",
       "      <td>82.59</td>\n",
       "      <td>187.72</td>\n",
       "      <td>31.42</td>\n",
       "      <td>71.75</td>\n",
       "      <td>119.96</td>\n",
       "      <td>111.24</td>\n",
       "      <td>111.32</td>\n",
       "      <td>57.24</td>\n",
       "      <td>103.21</td>\n",
       "      <td>73.24</td>\n",
       "    </tr>\n",
       "    <tr>\n",
       "      <th>2011</th>\n",
       "      <td>46.77</td>\n",
       "      <td>162.26</td>\n",
       "      <td>218.57</td>\n",
       "      <td>41.14</td>\n",
       "      <td>122.78</td>\n",
       "      <td>143.04</td>\n",
       "      <td>84.57</td>\n",
       "      <td>99.07</td>\n",
       "      <td>37.41</td>\n",
       "      <td>110.64</td>\n",
       "      <td>71.24</td>\n",
       "    </tr>\n",
       "    <tr>\n",
       "      <th>2012</th>\n",
       "      <td>62.39</td>\n",
       "      <td>161.94</td>\n",
       "      <td>160.57</td>\n",
       "      <td>35.56</td>\n",
       "      <td>121.72</td>\n",
       "      <td>144.72</td>\n",
       "      <td>39.03</td>\n",
       "      <td>95.14</td>\n",
       "      <td>116.75</td>\n",
       "      <td>112.68</td>\n",
       "      <td>108.94</td>\n",
       "    </tr>\n",
       "    <tr>\n",
       "      <th>2013</th>\n",
       "      <td>21.92</td>\n",
       "      <td>159.63</td>\n",
       "      <td>88.22</td>\n",
       "      <td>24.22</td>\n",
       "      <td>81.28</td>\n",
       "      <td>79.34</td>\n",
       "      <td>-12.46</td>\n",
       "      <td>73.18</td>\n",
       "      <td>74.42</td>\n",
       "      <td>65.89</td>\n",
       "      <td>55.32</td>\n",
       "    </tr>\n",
       "    <tr>\n",
       "      <th>2014</th>\n",
       "      <td>20.37</td>\n",
       "      <td>60.57</td>\n",
       "      <td>105.77</td>\n",
       "      <td>23.43</td>\n",
       "      <td>58.97</td>\n",
       "      <td>64.77</td>\n",
       "      <td>5.44</td>\n",
       "      <td>70.35</td>\n",
       "      <td>27.77</td>\n",
       "      <td>7.43</td>\n",
       "      <td>41.30</td>\n",
       "    </tr>\n",
       "    <tr>\n",
       "      <th>2015</th>\n",
       "      <td>13.52</td>\n",
       "      <td>83.73</td>\n",
       "      <td>108.04</td>\n",
       "      <td>-0.50</td>\n",
       "      <td>87.79</td>\n",
       "      <td>69.06</td>\n",
       "      <td>14.53</td>\n",
       "      <td>76.56</td>\n",
       "      <td>24.92</td>\n",
       "      <td>-16.07</td>\n",
       "      <td>-1.87</td>\n",
       "    </tr>\n",
       "    <tr>\n",
       "      <th>2016</th>\n",
       "      <td>13.23</td>\n",
       "      <td>132.09</td>\n",
       "      <td>97.08</td>\n",
       "      <td>-9.15</td>\n",
       "      <td>135.24</td>\n",
       "      <td>82.26</td>\n",
       "      <td>-17.01</td>\n",
       "      <td>40.61</td>\n",
       "      <td>34.26</td>\n",
       "      <td>-39.56</td>\n",
       "      <td>19.75</td>\n",
       "    </tr>\n",
       "    <tr>\n",
       "      <th>2017</th>\n",
       "      <td>-16.13</td>\n",
       "      <td>108.30</td>\n",
       "      <td>65.45</td>\n",
       "      <td>-30.61</td>\n",
       "      <td>61.34</td>\n",
       "      <td>72.74</td>\n",
       "      <td>-31.26</td>\n",
       "      <td>19.03</td>\n",
       "      <td>21.72</td>\n",
       "      <td>-34.85</td>\n",
       "      <td>31.32</td>\n",
       "    </tr>\n",
       "  </tbody>\n",
       "</table>\n",
       "</div>"
      ],
      "text/plain": [
       "sector      Capital Goods  Communication Services  Consumer Cyclical  \\\n",
       "year_index                                                             \n",
       "2006                24.12                     NaN              19.09   \n",
       "2007                12.99                   59.78             161.75   \n",
       "2008                34.18                  113.78             243.54   \n",
       "2009                27.83                   83.51             214.68   \n",
       "2010                41.42                   82.59             187.72   \n",
       "2011                46.77                  162.26             218.57   \n",
       "2012                62.39                  161.94             160.57   \n",
       "2013                21.92                  159.63              88.22   \n",
       "2014                20.37                   60.57             105.77   \n",
       "2015                13.52                   83.73             108.04   \n",
       "2016                13.23                  132.09              97.08   \n",
       "2017               -16.13                  108.30              65.45   \n",
       "\n",
       "sector      Consumer Staples  Energy  Financials  Health Care  Materials  \\\n",
       "year_index                                                                 \n",
       "2006                   27.22  -12.87        9.07          NaN      18.91   \n",
       "2007                   40.52   38.44       17.57       -14.76      18.40   \n",
       "2008                   27.12   97.03      153.96        35.23      86.67   \n",
       "2009                   33.39   89.59      271.97        64.66     152.45   \n",
       "2010                   31.42   71.75      119.96       111.24     111.32   \n",
       "2011                   41.14  122.78      143.04        84.57      99.07   \n",
       "2012                   35.56  121.72      144.72        39.03      95.14   \n",
       "2013                   24.22   81.28       79.34       -12.46      73.18   \n",
       "2014                   23.43   58.97       64.77         5.44      70.35   \n",
       "2015                   -0.50   87.79       69.06        14.53      76.56   \n",
       "2016                   -9.15  135.24       82.26       -17.01      40.61   \n",
       "2017                  -30.61   61.34       72.74       -31.26      19.03   \n",
       "\n",
       "sector      Technology  Transporation  Utilities  \n",
       "year_index                                        \n",
       "2006              7.92           5.63      66.93  \n",
       "2007              1.86          10.43      19.16  \n",
       "2008             46.29          41.19      95.97  \n",
       "2009             63.31          76.76      96.36  \n",
       "2010             57.24         103.21      73.24  \n",
       "2011             37.41         110.64      71.24  \n",
       "2012            116.75         112.68     108.94  \n",
       "2013             74.42          65.89      55.32  \n",
       "2014             27.77           7.43      41.30  \n",
       "2015             24.92         -16.07      -1.87  \n",
       "2016             34.26         -39.56      19.75  \n",
       "2017             21.72         -34.85      31.32  "
      ]
     },
     "execution_count": 11,
     "metadata": {},
     "output_type": "execute_result"
    }
   ],
   "source": [
    "median_sector_basis_by_sector"
   ]
  },
  {
   "cell_type": "markdown",
   "metadata": {},
   "source": [
    "#### A full analysis of the trends and accompanying explanations is available in the formal write-up document - linked at the top of this notebook\n",
    "\n",
    "##### A brief primer on some principal trends are included here for convenience however: \n",
    "* There appears to be some aggregate-level macro event which occured around 2012, which temporarily reversed the earlier trend of shrinking basis values. One noteworthy observation is that the effect is significantly more pronounced for typically \"riskier\" industries, E.G. Technology, Financials and less pronounced for typically safer sectors E.G. Consumer Staples: which appears to be virtually unaffected. \n",
    "    * In the write-up, an argument and explanation is made in favour of determining whether the spike in median- and mean basis, which is presented in the write-up- can be causally explained by contagion effects from  2012's Eurozone Crisis. Broadly speaking, the answer is yes. \n",
    "    \n",
    "    \n",
    "* A more top-level observation is to note the long-run dynamics of the median basis across sectors. Drawing upon the aforementioned sectors above, the more typically \"safe\" asset classes have a long-run median which is closer to zero (E.G. consumer staples, capital goods) VS. more typically volatile sectors (E.G. Consumer Cyclical, Financials): which have consistently higher bases, as well as exhibit greater volatility. "
   ]
  },
  {
   "cell_type": "code",
   "execution_count": null,
   "metadata": {},
   "outputs": [],
   "source": []
  },
  {
   "cell_type": "code",
   "execution_count": null,
   "metadata": {},
   "outputs": [],
   "source": []
  },
  {
   "cell_type": "markdown",
   "metadata": {},
   "source": [
    "### Turning to a broader overview of the distribution of the observations and the dynamics of the basis over time\n",
    "\n",
    "* Present a simple table which shows how many observations fall into each year and determine the aggregate mean, median and standard deviation values for the entire sample.\n",
    "\n",
    "* The aim is to largely establish that each year has a sufficient number of observations, such that causal explanations- such as the one presented above about the impacts of the Eurozone Crisis- can be soundly made without concern for other statistical anomalies: small sample-size effects etc. "
   ]
  },
  {
   "cell_type": "code",
   "execution_count": null,
   "metadata": {},
   "outputs": [],
   "source": []
  },
  {
   "cell_type": "code",
   "execution_count": null,
   "metadata": {},
   "outputs": [],
   "source": [
    "#search for: \n",
    "\n",
    "basis_stats_obspercent_yearind"
   ]
  },
  {
   "cell_type": "code",
   "execution_count": null,
   "metadata": {},
   "outputs": [],
   "source": []
  },
  {
   "cell_type": "code",
   "execution_count": null,
   "metadata": {},
   "outputs": [],
   "source": []
  },
  {
   "cell_type": "code",
   "execution_count": null,
   "metadata": {},
   "outputs": [],
   "source": []
  },
  {
   "cell_type": "markdown",
   "metadata": {},
   "source": [
    "## Illustrating number of positive & negative weeks to descriptive statistics table\n",
    "\n",
    "* PECDS_VAR_1.24"
   ]
  },
  {
   "cell_type": "code",
   "execution_count": null,
   "metadata": {},
   "outputs": [],
   "source": []
  },
  {
   "cell_type": "code",
   "execution_count": null,
   "metadata": {},
   "outputs": [],
   "source": []
  },
  {
   "cell_type": "code",
   "execution_count": null,
   "metadata": {},
   "outputs": [],
   "source": []
  },
  {
   "cell_type": "code",
   "execution_count": null,
   "metadata": {},
   "outputs": [],
   "source": []
  },
  {
   "cell_type": "code",
   "execution_count": null,
   "metadata": {},
   "outputs": [],
   "source": []
  },
  {
   "cell_type": "code",
   "execution_count": null,
   "metadata": {},
   "outputs": [],
   "source": []
  },
  {
   "cell_type": "code",
   "execution_count": null,
   "metadata": {},
   "outputs": [],
   "source": []
  },
  {
   "cell_type": "code",
   "execution_count": null,
   "metadata": {},
   "outputs": [],
   "source": []
  },
  {
   "cell_type": "markdown",
   "metadata": {},
   "source": [
    "# REGRESSIONS-PRIMER\n",
    "\n",
    "* Show a single GVKEY in demonstrating the: ADF, cointegration test, VAR regression, VECM regression, MS-VECM \n",
    "\n",
    "\n",
    "* (hyperlink its github location? Or PDF export?) "
   ]
  },
  {
   "cell_type": "code",
   "execution_count": null,
   "metadata": {},
   "outputs": [],
   "source": []
  },
  {
   "cell_type": "code",
   "execution_count": null,
   "metadata": {},
   "outputs": [],
   "source": []
  },
  {
   "cell_type": "code",
   "execution_count": null,
   "metadata": {},
   "outputs": [],
   "source": []
  },
  {
   "cell_type": "markdown",
   "metadata": {},
   "source": [
    "# AUGMENTED DICKEY-FULLER (ADF) TEST\n",
    "\n",
    "### Unit Root Testing / Stationarity Testing\n",
    "* Fundamentally, it uses an autoregressive model, and optimises the (Bayesian Information Criterion (BIC)) across multiple different lags. NOTE: Other information criterion can also be used, for which there are pros and cons. See full report for an indepth analysis on the choice of BIC over alternatives\n",
    "\n",
    "\n",
    "* The hypotheses: \n",
    "    * Null Hypothesis (H0) = the process can be represented by a unit root (has a time dependent structure / is stationary)\n",
    "        * If failed to be rejected, implies the series/process has a unit root (it is non-stationary)\n",
    "    * Alternative Hypothesis (H1) = the process has no unit root (no-time dependent structure); that is, the series is non-stationary\n",
    "        * Rejecting the H0 - suggests the series does not have a unit root and implies it is stationary\n",
    "        \n",
    "\n",
    "* Roughly speaking, the more negative the test statistic, the more likely it is to reject the null hypothesis (the data is stationary)\n",
    "\n",
    "    \n",
    "* Additionally, the interpretation of this result must be supported by a threshold p-value; this paper uses a 95% certainty (p-value <= 0.05 will result in rejecting the H0). Similarily, a p-value > 0.05 will indicate a failure to reject H0 and imply the presence of a unit root / non-stationarity\n",
    "\n",
    "\n",
    "### IMPORTANT : The VECM model & its extensions require the series to not only be non-stationary, but be integrated of the same order; accordingly, all series must be characterised by a unit-root for the regression models to be valid"
   ]
  },
  {
   "cell_type": "code",
   "execution_count": 36,
   "metadata": {},
   "outputs": [],
   "source": [
    "#make a note on the p-value in the tesT? seems to always be >0.05 if the test.val is rejected (not neg enough AKA unit root)\n",
    "\n",
    "#is it even valid to use VIX in the ADF test because the result then becomes time-dependent based on the exact sample periods? \n"
   ]
  },
  {
   "cell_type": "code",
   "execution_count": null,
   "metadata": {},
   "outputs": [],
   "source": []
  },
  {
   "cell_type": "code",
   "execution_count": null,
   "metadata": {},
   "outputs": [],
   "source": [
    "#possible extensions: DFGLS? \n",
    "#Zivot-Andrews (UR test with a structural break in the intercept)\n"
   ]
  },
  {
   "cell_type": "code",
   "execution_count": null,
   "metadata": {},
   "outputs": [],
   "source": [
    "#FROM: MSVECM_1.02"
   ]
  },
  {
   "cell_type": "code",
   "execution_count": null,
   "metadata": {},
   "outputs": [],
   "source": [
    "#one_percent_cv == un hard-code it"
   ]
  },
  {
   "cell_type": "code",
   "execution_count": null,
   "metadata": {},
   "outputs": [],
   "source": []
  },
  {
   "cell_type": "code",
   "execution_count": 51,
   "metadata": {},
   "outputs": [
    {
     "name": "stdout",
     "output_type": "stream",
     "text": [
      "1% ADF CRITICAL VALUE: %f -3.4347287139577753 \n",
      "\n",
      "5% ADF CRITICAL VALUE: -2.8634739225299133 \n",
      "\n",
      "10% ADF CRITICAL VALUE: -2.5677995973755325\n"
     ]
    }
   ],
   "source": [
    "ADF_critical_values_dictionary = list(test_ADF_cds.critical_values.values())\n",
    "\n",
    "one_percent_cv = ADF_critical_values_dictionary[0]\n",
    "five_percent_cv = ADF_critical_values_dictionary[1]\n",
    "ten_percent_cv = ADF_critical_values_dictionary[2]\n",
    "\n",
    "print(\"1% ADF CRITICAL VALUE:\",  one_percent_cv, '\\n'); print(\"5% ADF CRITICAL VALUE:\", five_percent_cv, '\\n')\n",
    "print(\"10% ADF CRITICAL VALUE:\", ten_percent_cv)"
   ]
  },
  {
   "cell_type": "code",
   "execution_count": 52,
   "metadata": {},
   "outputs": [
    {
     "name": "stdout",
     "output_type": "stream",
     "text": [
      "\t1%: -3.435\n",
      "\t5%: -2.863\n",
      "\t10%: -2.568\n"
     ]
    }
   ],
   "source": [
    "for key, value in test_ADF_cds.critical_values.items():\n",
    "    print('\\t%s: %.3f' % (key, value))"
   ]
  },
  {
   "cell_type": "code",
   "execution_count": 56,
   "metadata": {},
   "outputs": [
    {
     "data": {
      "text/html": [
       "<table class=\"simpletable\">\n",
       "<caption>Augmented Dickey-Fuller Results</caption>\n",
       "<tr>\n",
       "  <td>Test Statistic</td>    <td>-5.087</td>\n",
       "</tr>\n",
       "<tr>\n",
       "  <td>P-value</td>            <td>0.000</td>\n",
       "</tr>\n",
       "<tr>\n",
       "  <td>Lags</td>                   <td>1</td>\n",
       "</tr>\n",
       "</table><br/><br/>Trend: Constant<br/>Critical Values: -3.43 (1%), -2.86 (5%), -2.57 (10%)<br/>Null Hypothesis: The process contains a unit root.<br/>Alternative Hypothesis: The process is weakly stationary."
      ],
      "text/plain": [
       "<class 'statsmodels.iolib.summary.Summary'>\n",
       "\"\"\"\n",
       "   Augmented Dickey-Fuller Results   \n",
       "=====================================\n",
       "Test Statistic                 -5.087\n",
       "P-value                         0.000\n",
       "Lags                                1\n",
       "-------------------------------------\n",
       "\n",
       "Trend: Constant\n",
       "Critical Values: -3.43 (1%), -2.86 (5%), -2.57 (10%)\n",
       "Null Hypothesis: The process contains a unit root.\n",
       "Alternative Hypothesis: The process is weakly stationary.\n",
       "\"\"\""
      ]
     },
     "execution_count": 56,
     "metadata": {},
     "output_type": "execute_result"
    }
   ],
   "source": [
    "test_ADF_cds.summary()"
   ]
  },
  {
   "cell_type": "code",
   "execution_count": null,
   "metadata": {},
   "outputs": [],
   "source": [
    "#sum(list(values_adf)[0:1])"
   ]
  },
  {
   "cell_type": "code",
   "execution_count": null,
   "metadata": {},
   "outputs": [],
   "source": [
    "#add discussion here: \n",
    "\n",
    "https://stackoverflow.com/questions/21604498/numpy-cholesky-decomposition-linalgerror\n",
    "    \n",
    "    "
   ]
  },
  {
   "cell_type": "code",
   "execution_count": null,
   "metadata": {},
   "outputs": [],
   "source": [
    "#check msvecm_1.02 for table output / latex presentation tables\n",
    "\n"
   ]
  },
  {
   "cell_type": "code",
   "execution_count": null,
   "metadata": {},
   "outputs": [],
   "source": []
  },
  {
   "cell_type": "code",
   "execution_count": null,
   "metadata": {},
   "outputs": [],
   "source": []
  },
  {
   "cell_type": "code",
   "execution_count": null,
   "metadata": {},
   "outputs": [],
   "source": []
  },
  {
   "cell_type": "code",
   "execution_count": null,
   "metadata": {},
   "outputs": [],
   "source": []
  },
  {
   "cell_type": "markdown",
   "metadata": {},
   "source": [
    "## maybe scrap equities trading data from this section\n",
    "\n",
    "* Analyse that seperately, maybe some correlation methods with VIX? \n",
    "* Regress on different elements of the firm level ratios + \n",
    "\n",
    "### NEED THE GENERAL MARKET RETURN OF S&P 500?\n",
    "\n",
    "\n",
    "#### SEE FONTANA 2011! for extracting market risk premium from S&P 500 (VIX, GARCH, S&P etc.) "
   ]
  },
  {
   "cell_type": "code",
   "execution_count": null,
   "metadata": {},
   "outputs": [],
   "source": []
  },
  {
   "cell_type": "code",
   "execution_count": null,
   "metadata": {},
   "outputs": [],
   "source": []
  },
  {
   "cell_type": "code",
   "execution_count": null,
   "metadata": {},
   "outputs": [],
   "source": []
  },
  {
   "cell_type": "markdown",
   "metadata": {},
   "source": [
    "# VIX/CDS/BOND\n",
    "\n",
    "* Consider dropping the p-values? \n",
    "* How to handle the VIX? \n",
    "    * which papers had VIX? "
   ]
  },
  {
   "cell_type": "code",
   "execution_count": null,
   "metadata": {},
   "outputs": [],
   "source": [
    "#import ADF values here: (instead of hard-coding as below)"
   ]
  },
  {
   "cell_type": "code",
   "execution_count": 76,
   "metadata": {},
   "outputs": [
    {
     "name": "stdout",
     "output_type": "stream",
     "text": [
      "ValueError: Row: 105, Reason : x contains a constant. Adding a constant with trend='c' is not allowed.  SECTOR: Consumer Cyclical\n",
      "ValueError: Row: 109, Reason : x contains a constant. Adding a constant with trend='c' is not allowed.  SECTOR: Materials\n",
      "ValueError: Row: 123, Reason : x contains a constant. Adding a constant with trend='c' is not allowed.  SECTOR: Financials\n",
      "ValueError: Row: 158, Reason : x contains a constant. Adding a constant with trend='c' is not allowed.  SECTOR: Capital Goods\n",
      "LinAlgError: Row: 179, Reason : 1-th leading minor of the array is not positive definite  SECTOR:  Consumer Cyclical\n",
      "ValueError: Row: 205, Reason : x contains a constant. Adding a constant with trend='c' is not allowed.  SECTOR: Financials\n",
      "ValueError: Row: 212, Reason : x contains a constant. Adding a constant with trend='c' is not allowed.  SECTOR: Consumer Cyclical\n",
      "LinAlgError: Row: 244, Reason : 1-th leading minor of the array is not positive definite  SECTOR:  Consumer Cyclical\n",
      "ValueError: Row: 291, Reason : x contains a constant. Adding a constant with trend='c' is not allowed.  SECTOR: Capital Goods\n",
      "ValueError: Row: 297, Reason : x contains a constant. Adding a constant with trend='c' is not allowed.  SECTOR: Utilities\n",
      "ValueError: Row: 320, Reason : x contains a constant. Adding a constant with trend='c' is not allowed.  SECTOR: Consumer Cyclical\n",
      "ValueError: Row: 323, Reason : x contains a constant. Adding a constant with trend='c' is not allowed.  SECTOR: Capital Goods\n",
      "ValueError: Row: 340, Reason : x contains a constant. Adding a constant with trend='c' is not allowed.  SECTOR: Consumer Cyclical\n",
      "ValueError: Row: 341, Reason : x contains a constant. Adding a constant with trend='c' is not allowed.  SECTOR: Consumer Cyclical\n",
      "ValueError: Row: 362, Reason : x contains a constant. Adding a constant with trend='c' is not allowed.  SECTOR: Energy\n",
      "ValueError: Row: 389, Reason : x contains a constant. Adding a constant with trend='c' is not allowed.  SECTOR: Capital Goods\n",
      "\n",
      "  Linear Algebra Errors # 2 \n",
      "  Value Errors # 14 \n",
      "  Total Errors #: 16\n"
     ]
    }
   ],
   "source": [
    "#initialise a few lists to append data to from each GVKEY's loop\n",
    "\n",
    "gvkey_list = []                       #holds the GVKEY\n",
    "sector_list = []                      #append the sector for each GVKEY (just saves having to re-merge on again later)\n",
    "optimal_lag_list = []                 #holds the optimal number of lags selected by the BIC\n",
    "first_date_obs = []                   #holds the first date observation per GVKEY\n",
    "last_date_obs = []                    #holds the last date observation per GVKEY\n",
    "time_horizon = []                     #holds the difference between the first and last date observations\n",
    "\n",
    "stationarity_ts_cds = []              #the test statistic for the CDS series\n",
    "stationarity_ts_bond = []             #the test statistic for the BOND series\n",
    "stationarity_ts_vix = []\n",
    "\n",
    "stationarity_pvalue_cds = []          #the p-value for the CDS series\n",
    "stationarity_pvalue_bond = []         #the p-value for the BOND series\n",
    "stationarity_pvalue_vix = []\n",
    "\n",
    "stationarity_test_res_cds = []        #a list which will hold the significance level (*, **, ***) for publication tables\n",
    "stationarity_test_res_bond = []\n",
    "stationarity_test_res_vix = []\n",
    "\n",
    "stat_test_joint = []                  #will hold the outcome for the joint unit-root test outcome\n",
    "stat_boolean = []                     #a counter for the number of stationary series in each GVKEY group\n",
    "\n",
    "problematic_gvkey = []\n",
    "linalg_errors = 0; value_errors = 0\n",
    "\n",
    "#THE ADF CRITICAL VALUES - highlighted/calculated above:\n",
    "one_percent_cv = -3.4347287139577753   \n",
    "five_percent_cv = -2.8634739225299133 \n",
    "ten_percent_cv = -2.5677995973755325\n",
    "\n",
    "#create loop to test for stationarity in each GVKEY's data group \n",
    "for i, val in enumerate(sorted_alldata_df_final.groupby('gvkey')):\n",
    "    gvkey = val[0]\n",
    "    data = val[1]                        #assign the remainder of the data to be callable from data.(variable)\n",
    "    gvkey_list.append(gvkey)             #append the GVKEY to a list, which keeps the data stored under the appropriate key\n",
    "    sector_string = data.sector\n",
    "    sector_list.append(sector_string.iloc[0])      #append the respective sector for that GVKEY\n",
    "    \n",
    "    #compute the specifics of each GVKEY's date / time horizon\n",
    "    first_date_obs.append(data.trade_date.min())\n",
    "    last_date_obs.append(data.trade_date.max())\n",
    "    time_difference = data.trade_date.max() - data.trade_date.min()\n",
    "    time_horizon.append(time_difference.days)               #append just the .days aspect of the timedelta variable\n",
    "    \n",
    "    #define the appropriate series for the ADF test: \n",
    "    cds = data.market_cds_spread         \n",
    "    pecds = data.pecds\n",
    "    vix = data.cboe_vix\n",
    "    \n",
    "    #the VAR model package requires the data be structured in a particular way; np.column stack is the fastest method\n",
    "    data = np.column_stack((cds, pecds)) \n",
    "    \n",
    "    #the VAR model construction is necessary for computing the BIC\n",
    "    model = smt.VAR(data)  \n",
    "\n",
    "    #compute the optimised BIC value from [model] which holds the vector autoregression model per GVKEY\n",
    "    try:\n",
    "        #for daily data, a maximum lag length is imposed (5 trading days, roughly equivalent to one trading week)\n",
    "        bic_selected_lag = model.select_order(maxlags=5).bic \n",
    "        optimal_lag_list.append(bic_selected_lag)                  #store the optimised BIC result per GVKEY\n",
    "        \n",
    "        #ADF test - plugging in the bic selected lag length to run a unique length ADF test per GVKEY, per instrument\n",
    "        test_ADF_cds = ADF(cds, lags=bic_selected_lag)   \n",
    "        test_ADF_bond = ADF(pecds, lags=bic_selected_lag)  \n",
    "        test_ADF_vix = ADF(vix, lags=bic_selected_lag)\n",
    "        \n",
    "        #store the test statistic & p-value for each instrument's ADF test result, for each GVKEY (rounded to 4 decimals)\n",
    "        stationarity_ts_cds.append(np.round(test_ADF_cds.stat,4))    \n",
    "        stationarity_ts_bond.append(np.round(test_ADF_bond.stat,4))     \n",
    "        stationarity_ts_vix.append(np.round(test_ADF_vix.stat,4))\n",
    "        \n",
    "        stationarity_pvalue_cds.append(np.round(test_ADF_cds.pvalue,4))    \n",
    "        stationarity_pvalue_bond.append(np.round(test_ADF_bond.pvalue,4))\n",
    "        stationarity_pvalue_vix.append(np.round(test_ADF_vix.pvalue,4))\n",
    "        \n",
    "        ##OPTIONAL\n",
    "        #this part reads the test stat per GVKEY / instrument and assigns the appropriate (*) per its significance level\n",
    "        #E.G. > 99% significance is commonly denoted as [test_statistic]*** in publication regression tables\n",
    "        \n",
    "        #CDS ADF LATEX TABLE CONSTRUCTION\n",
    "        if test_ADF_cds.stat < one_percent_cv:\n",
    "            stationarity_test_res_cds.append(\"***\")   \n",
    "        elif test_ADF_cds.stat < five_percent_cv:\n",
    "            stationarity_test_res_cds.append(\"**\")    ## The 1% & 5% significance would reject H0\n",
    "        elif test_ADF_cds.stat < ten_percent_cv:\n",
    "            stationarity_test_res_cds.append(\"*\")     ## The 10% and no level would fail to reject H0\n",
    "        else: \n",
    "            stationarity_test_res_cds.append(\" \")  \n",
    "\n",
    "        #repeat for BONDS:\n",
    "        if test_ADF_bond.stat < one_percent_cv:\n",
    "            stationarity_test_res_bond.append(\"***\")\n",
    "        elif test_ADF_bond.stat < five_percent_cv:\n",
    "            stationarity_test_res_bond.append(\"**\")   ## The 1% & 5% significance would reject H0\n",
    "        elif test_ADF_bond.stat < ten_percent_cv:\n",
    "            stationarity_test_res_bond.append(\"*\")    ## The 10% and no level would fail to reject H0\n",
    "        else: \n",
    "            stationarity_test_res_bond.append(\" \")\n",
    "            \n",
    "            \n",
    "        #VIX ADF LATEX TABLE CONSTRUCTION\n",
    "        if test_ADF_vix.stat < one_percent_cv:\n",
    "            stationarity_test_res_vix.append(\"***\")   \n",
    "        elif test_ADF_vix.stat < five_percent_cv:\n",
    "            stationarity_test_res_vix.append(\"**\")    ## The 1% & 5% significance would reject H0\n",
    "        elif test_ADF_vix.stat < ten_percent_cv:\n",
    "            stationarity_test_res_vix.append(\"*\")     ## The 10% and no level would fail to reject H0\n",
    "        else: \n",
    "            stationarity_test_res_vix.append(\" \")  \n",
    "                    \n",
    "        \n",
    "        #ensure that both series are integrated of the same order: a jointly unit-root system is required for VECM models\n",
    "        if (test_ADF_bond.stat > five_percent_cv and test_ADF_cds.stat > five_percent_cv):  \n",
    "            #this is > as to \"not reject\" the H0 is unit root; while reject the null would imply a stationary series\n",
    "            stat_test_joint.append(\"BOND/CDS Both Have Unit Root\")\n",
    "            stat_boolean.append(int(1))\n",
    "        else: \n",
    "            stat_test_joint.append(\"Cannot Reject H0\")\n",
    "            stat_boolean.append(int(2))\n",
    "        \n",
    "    # A linear-algebra error could be caused by market factors which have created highly erratic basis behaviour\n",
    "    # This could be caused by a firm nearing bankruptcy where its basis deviates excessively far from par\n",
    "    #accordingly, the leading minor of the array is not positive definite is akin to taking the square root of a negative number\n",
    "    except np.linalg.LinAlgError as lae:\n",
    "        problematic_gvkey.append(gvkey)                                 #append problem GVKEY to seperate list\n",
    "        print(\"LinAlgError: Row: {}, Reason : {} \".format(i, lae), \"SECTOR: \", sector_string.iloc[0])\n",
    "      \n",
    "        #append items to maintain placement in main DF \\\\ \n",
    "        #where the errors occur, fill with NaN values instead\n",
    "        optimal_lag_list.append(np.nan)\n",
    "        stat_test_joint.append(\"LinAlg_Error\")\n",
    "        \n",
    "        stationarity_test_res_cds.append(\"_LAE\")\n",
    "        stationarity_test_res_bond.append(\"_LAE\")\n",
    "        stationarity_test_res_vix.append(\"_LAE\")\n",
    "        \n",
    "        stationarity_ts_cds.append(np.nan)\n",
    "        stationarity_ts_bond.append(np.nan)\n",
    "        stationarity_ts_vix.append(np.nan)\n",
    "        \n",
    "        stationarity_pvalue_cds.append(np.nan)\n",
    "        stationarity_pvalue_bond.append(np.nan)\n",
    "        stationarity_pvalue_vix.append(np.nan)\n",
    "        \n",
    "        linalg_errors += 1\n",
    "        continue\n",
    "    \n",
    "    #some series may have encounted some errors with a constant, thus adding a constant to the equation is invalid\n",
    "    #this occurs due to poor liquidity in some markets, resulting in long periods of near-identical price quotes\n",
    "    except (ValueError) as ve:\n",
    "        problematic_gvkey.append(gvkey)\n",
    "        print(\"ValueError: Row: {}, Reason : {} \".format(i, ve), \"SECTOR:\", sector_string.iloc[0])\n",
    "        \n",
    "        #append items to maintain placement in main DF \\\\ \n",
    "        #where the errors occur, fill with NaN values instead\n",
    "        optimal_lag_list.append(np.nan)\n",
    "        stat_test_joint.append(\"Value_Error\")\n",
    "        \n",
    "        stationarity_test_res_cds.append(\"_VE\")\n",
    "        stationarity_test_res_bond.append(\"_VE\")\n",
    "        stationarity_test_res_vix.append(\"_VE\")        \n",
    "        \n",
    "        stationarity_ts_cds.append(np.nan)\n",
    "        stationarity_ts_bond.append(np.nan)\n",
    "        stationarity_ts_vix.append(np.nan)\n",
    "        \n",
    "        stationarity_pvalue_cds.append(np.nan)\n",
    "        stationarity_pvalue_bond.append(np.nan)\n",
    "        stationarity_pvalue_vix.append(np.nan) \n",
    "        \n",
    "        value_errors += 1\n",
    "        continue  \n",
    "        \n",
    "#this section combines the test-statistic itself with the appropriate (*, **, ***) into one cell for the final DF\n",
    "cds_sig = [\"{}{}\".format(stationarity_ts_cds, stationarity_test_res_cds) for stationarity_ts_cds, stationarity_test_res_cds in zip(stationarity_ts_cds, stationarity_test_res_cds)]\n",
    "bond_sig = [\"{}{}\".format(stationarity_ts_bond, stationarity_test_res_bond) for stationarity_ts_bond, stationarity_test_res_bond in zip(stationarity_ts_bond, stationarity_test_res_bond)]  \n",
    "vix_sig = [\"{}{}\".format(stationarity_ts_vix, stationarity_test_res_vix) for stationarity_ts_vix, stationarity_test_res_vix in zip(stationarity_ts_vix, stationarity_test_res_vix)]        \n",
    "\n",
    "#the final DF constructor; the .T is to transpose to a more visually-friendly vertically orientated DF\n",
    "df_stat_cdsbond_results = pd.DataFrame(data=(gvkey_list, sector_list, cds_sig, stationarity_pvalue_cds,\n",
    "                                             bond_sig, stationarity_pvalue_bond,\n",
    "                                             vix_sig, stationarity_pvalue_vix,\n",
    "                                             stat_test_joint, optimal_lag_list,\n",
    "                                            first_date_obs, last_date_obs, time_horizon)).T\n",
    "\n",
    "#dont think the boolean is needed? can read col names fine? \n",
    "\n",
    "#rename the columns for better readability\n",
    "df_stat_cdsbond_results.columns = ['gvkey', 'sector', 'CDS', 'CDS_pval', 'Bond', 'BOND_pval',\n",
    "                                   'VIX', 'VIX_pval',\n",
    "                                   'Joint_Test_Outcome', 'bic_lag',\n",
    "                                  'date_start','date_end','length_days'] \n",
    "\n",
    "#change to tabulate? \n",
    "print('\\n', \" Linear Algebra Errors #\", linalg_errors, '\\n', \" Value Errors #\", value_errors, '\\n', \" Total Errors #:\", \n",
    "     (linalg_errors + value_errors))"
   ]
  },
  {
   "cell_type": "code",
   "execution_count": 77,
   "metadata": {},
   "outputs": [
    {
     "data": {
      "text/html": [
       "<div>\n",
       "<style scoped>\n",
       "    .dataframe tbody tr th:only-of-type {\n",
       "        vertical-align: middle;\n",
       "    }\n",
       "\n",
       "    .dataframe tbody tr th {\n",
       "        vertical-align: top;\n",
       "    }\n",
       "\n",
       "    .dataframe thead th {\n",
       "        text-align: right;\n",
       "    }\n",
       "</style>\n",
       "<table border=\"1\" class=\"dataframe\">\n",
       "  <thead>\n",
       "    <tr style=\"text-align: right;\">\n",
       "      <th></th>\n",
       "      <th>gvkey</th>\n",
       "      <th>sector</th>\n",
       "      <th>CDS</th>\n",
       "      <th>CDS_pval</th>\n",
       "      <th>Bond</th>\n",
       "      <th>BOND_pval</th>\n",
       "      <th>VIX</th>\n",
       "      <th>VIX_pval</th>\n",
       "      <th>Joint_Test_Outcome</th>\n",
       "      <th>bic_lag</th>\n",
       "      <th>date_start</th>\n",
       "      <th>date_end</th>\n",
       "      <th>length_days</th>\n",
       "    </tr>\n",
       "  </thead>\n",
       "  <tbody>\n",
       "    <tr>\n",
       "      <th>0</th>\n",
       "      <td>1045</td>\n",
       "      <td>Transporation</td>\n",
       "      <td>-1.0934</td>\n",
       "      <td>0.7177</td>\n",
       "      <td>-4.4743***</td>\n",
       "      <td>0.0002</td>\n",
       "      <td>-2.9543**</td>\n",
       "      <td>0.0394</td>\n",
       "      <td>Cannot Reject H0</td>\n",
       "      <td>1</td>\n",
       "      <td>2009-09-24</td>\n",
       "      <td>2014-05-30</td>\n",
       "      <td>1709</td>\n",
       "    </tr>\n",
       "    <tr>\n",
       "      <th>1</th>\n",
       "      <td>1078</td>\n",
       "      <td>Health Care</td>\n",
       "      <td>-1.357</td>\n",
       "      <td>0.6027</td>\n",
       "      <td>-1.2011</td>\n",
       "      <td>0.6731</td>\n",
       "      <td>-2.4359</td>\n",
       "      <td>0.1319</td>\n",
       "      <td>BOND/CDS Both Have Unit Root</td>\n",
       "      <td>1</td>\n",
       "      <td>2008-03-17</td>\n",
       "      <td>2010-09-30</td>\n",
       "      <td>927</td>\n",
       "    </tr>\n",
       "    <tr>\n",
       "      <th>2</th>\n",
       "      <td>1161</td>\n",
       "      <td>Technology</td>\n",
       "      <td>-2.0657</td>\n",
       "      <td>0.2585</td>\n",
       "      <td>-2.2804</td>\n",
       "      <td>0.1784</td>\n",
       "      <td>-5.6409***</td>\n",
       "      <td>0</td>\n",
       "      <td>BOND/CDS Both Have Unit Root</td>\n",
       "      <td>2</td>\n",
       "      <td>2008-04-10</td>\n",
       "      <td>2017-06-30</td>\n",
       "      <td>3368</td>\n",
       "    </tr>\n",
       "    <tr>\n",
       "      <th>3</th>\n",
       "      <td>1209</td>\n",
       "      <td>Materials</td>\n",
       "      <td>-1.7596</td>\n",
       "      <td>0.4007</td>\n",
       "      <td>-1.5329</td>\n",
       "      <td>0.5172</td>\n",
       "      <td>-4.4417***</td>\n",
       "      <td>0.0003</td>\n",
       "      <td>BOND/CDS Both Have Unit Root</td>\n",
       "      <td>1</td>\n",
       "      <td>2011-07-28</td>\n",
       "      <td>2017-06-30</td>\n",
       "      <td>2164</td>\n",
       "    </tr>\n",
       "    <tr>\n",
       "      <th>4</th>\n",
       "      <td>1300</td>\n",
       "      <td>Capital Goods</td>\n",
       "      <td>-2.5216</td>\n",
       "      <td>0.1103</td>\n",
       "      <td>-2.5023</td>\n",
       "      <td>0.1149</td>\n",
       "      <td>-3.9176***</td>\n",
       "      <td>0.0019</td>\n",
       "      <td>BOND/CDS Both Have Unit Root</td>\n",
       "      <td>2</td>\n",
       "      <td>2007-12-14</td>\n",
       "      <td>2017-03-01</td>\n",
       "      <td>3365</td>\n",
       "    </tr>\n",
       "    <tr>\n",
       "      <th>...</th>\n",
       "      <td>...</td>\n",
       "      <td>...</td>\n",
       "      <td>...</td>\n",
       "      <td>...</td>\n",
       "      <td>...</td>\n",
       "      <td>...</td>\n",
       "      <td>...</td>\n",
       "      <td>...</td>\n",
       "      <td>...</td>\n",
       "      <td>...</td>\n",
       "      <td>...</td>\n",
       "      <td>...</td>\n",
       "      <td>...</td>\n",
       "    </tr>\n",
       "    <tr>\n",
       "      <th>386</th>\n",
       "      <td>175263</td>\n",
       "      <td>Consumer Cyclical</td>\n",
       "      <td>-3.1151**</td>\n",
       "      <td>0.0255</td>\n",
       "      <td>-4.7835***</td>\n",
       "      <td>0.0001</td>\n",
       "      <td>-2.2484</td>\n",
       "      <td>0.1892</td>\n",
       "      <td>Cannot Reject H0</td>\n",
       "      <td>1</td>\n",
       "      <td>2009-02-23</td>\n",
       "      <td>2010-02-26</td>\n",
       "      <td>368</td>\n",
       "    </tr>\n",
       "    <tr>\n",
       "      <th>387</th>\n",
       "      <td>176404</td>\n",
       "      <td>Communication Services</td>\n",
       "      <td>-2.8574*</td>\n",
       "      <td>0.0505</td>\n",
       "      <td>-2.3013</td>\n",
       "      <td>0.1715</td>\n",
       "      <td>-3.6837***</td>\n",
       "      <td>0.0043</td>\n",
       "      <td>BOND/CDS Both Have Unit Root</td>\n",
       "      <td>2</td>\n",
       "      <td>2008-01-28</td>\n",
       "      <td>2016-04-29</td>\n",
       "      <td>3014</td>\n",
       "    </tr>\n",
       "    <tr>\n",
       "      <th>388</th>\n",
       "      <td>176760</td>\n",
       "      <td>Materials</td>\n",
       "      <td>-1.8314</td>\n",
       "      <td>0.365</td>\n",
       "      <td>-1.301</td>\n",
       "      <td>0.6287</td>\n",
       "      <td>-3.1277**</td>\n",
       "      <td>0.0246</td>\n",
       "      <td>BOND/CDS Both Have Unit Root</td>\n",
       "      <td>2</td>\n",
       "      <td>2007-12-03</td>\n",
       "      <td>2017-06-29</td>\n",
       "      <td>3496</td>\n",
       "    </tr>\n",
       "    <tr>\n",
       "      <th>389</th>\n",
       "      <td>179657</td>\n",
       "      <td>Capital Goods</td>\n",
       "      <td>nan_VE</td>\n",
       "      <td>NaN</td>\n",
       "      <td>nan_VE</td>\n",
       "      <td>NaN</td>\n",
       "      <td>nan_VE</td>\n",
       "      <td>NaN</td>\n",
       "      <td>Value_Error</td>\n",
       "      <td>NaN</td>\n",
       "      <td>2014-07-16</td>\n",
       "      <td>2016-07-15</td>\n",
       "      <td>730</td>\n",
       "    </tr>\n",
       "    <tr>\n",
       "      <th>390</th>\n",
       "      <td>179700</td>\n",
       "      <td>Consumer Staples</td>\n",
       "      <td>-5.087***</td>\n",
       "      <td>0</td>\n",
       "      <td>-1.7484</td>\n",
       "      <td>0.4063</td>\n",
       "      <td>-4.6635***</td>\n",
       "      <td>0.0001</td>\n",
       "      <td>Cannot Reject H0</td>\n",
       "      <td>1</td>\n",
       "      <td>2011-06-21</td>\n",
       "      <td>2017-06-30</td>\n",
       "      <td>2201</td>\n",
       "    </tr>\n",
       "  </tbody>\n",
       "</table>\n",
       "<p>391 rows × 13 columns</p>\n",
       "</div>"
      ],
      "text/plain": [
       "      gvkey                  sector        CDS CDS_pval        Bond BOND_pval  \\\n",
       "0      1045           Transporation   -1.0934    0.7177  -4.4743***    0.0002   \n",
       "1      1078             Health Care    -1.357    0.6027    -1.2011     0.6731   \n",
       "2      1161              Technology   -2.0657    0.2585    -2.2804     0.1784   \n",
       "3      1209               Materials   -1.7596    0.4007    -1.5329     0.5172   \n",
       "4      1300           Capital Goods   -2.5216    0.1103    -2.5023     0.1149   \n",
       "..      ...                     ...        ...      ...         ...       ...   \n",
       "386  175263       Consumer Cyclical  -3.1151**   0.0255  -4.7835***    0.0001   \n",
       "387  176404  Communication Services   -2.8574*   0.0505    -2.3013     0.1715   \n",
       "388  176760               Materials   -1.8314     0.365     -1.301     0.6287   \n",
       "389  179657           Capital Goods     nan_VE      NaN      nan_VE       NaN   \n",
       "390  179700        Consumer Staples  -5.087***        0    -1.7484     0.4063   \n",
       "\n",
       "            VIX VIX_pval            Joint_Test_Outcome bic_lag date_start  \\\n",
       "0     -2.9543**   0.0394              Cannot Reject H0       1 2009-09-24   \n",
       "1      -2.4359    0.1319  BOND/CDS Both Have Unit Root       1 2008-03-17   \n",
       "2    -5.6409***        0  BOND/CDS Both Have Unit Root       2 2008-04-10   \n",
       "3    -4.4417***   0.0003  BOND/CDS Both Have Unit Root       1 2011-07-28   \n",
       "4    -3.9176***   0.0019  BOND/CDS Both Have Unit Root       2 2007-12-14   \n",
       "..          ...      ...                           ...     ...        ...   \n",
       "386    -2.2484    0.1892              Cannot Reject H0       1 2009-02-23   \n",
       "387  -3.6837***   0.0043  BOND/CDS Both Have Unit Root       2 2008-01-28   \n",
       "388   -3.1277**   0.0246  BOND/CDS Both Have Unit Root       2 2007-12-03   \n",
       "389      nan_VE      NaN                   Value_Error     NaN 2014-07-16   \n",
       "390  -4.6635***   0.0001              Cannot Reject H0       1 2011-06-21   \n",
       "\n",
       "      date_end length_days  \n",
       "0   2014-05-30        1709  \n",
       "1   2010-09-30         927  \n",
       "2   2017-06-30        3368  \n",
       "3   2017-06-30        2164  \n",
       "4   2017-03-01        3365  \n",
       "..         ...         ...  \n",
       "386 2010-02-26         368  \n",
       "387 2016-04-29        3014  \n",
       "388 2017-06-29        3496  \n",
       "389 2016-07-15         730  \n",
       "390 2017-06-30        2201  \n",
       "\n",
       "[391 rows x 13 columns]"
      ]
     },
     "execution_count": 77,
     "metadata": {},
     "output_type": "execute_result"
    }
   ],
   "source": [
    "df_stat_cdsbond_results"
   ]
  },
  {
   "cell_type": "code",
   "execution_count": null,
   "metadata": {},
   "outputs": [],
   "source": []
  },
  {
   "cell_type": "code",
   "execution_count": 56,
   "metadata": {},
   "outputs": [
    {
     "data": {
      "text/plain": [
       "[5671,\n",
       " 5862,\n",
       " 6653,\n",
       " 7991,\n",
       " 8551,\n",
       " 10187,\n",
       " 10443,\n",
       " 12459,\n",
       " 25180,\n",
       " 25495,\n",
       " 30219,\n",
       " 30671,\n",
       " 64768,\n",
       " 64891,\n",
       " 137024,\n",
       " 179657]"
      ]
     },
     "execution_count": 56,
     "metadata": {},
     "output_type": "execute_result"
    }
   ],
   "source": [
    "#trnasform this into seperate DF? (with reason, #obs, date etc.?)\n",
    "problematic_gvkey\n",
    "#should match ZA test? "
   ]
  },
  {
   "cell_type": "code",
   "execution_count": null,
   "metadata": {},
   "outputs": [],
   "source": []
  },
  {
   "cell_type": "code",
   "execution_count": null,
   "metadata": {},
   "outputs": [],
   "source": []
  },
  {
   "cell_type": "code",
   "execution_count": null,
   "metadata": {},
   "outputs": [],
   "source": []
  },
  {
   "cell_type": "code",
   "execution_count": null,
   "metadata": {},
   "outputs": [],
   "source": []
  },
  {
   "cell_type": "markdown",
   "metadata": {},
   "source": [
    "## REORGANISE RESULTS PRESENTATION"
   ]
  },
  {
   "cell_type": "code",
   "execution_count": 79,
   "metadata": {},
   "outputs": [],
   "source": [
    "#isolate each group into a seperate DF\n",
    "unitroot_gvkeys = df_stat_cdsbond_results.loc[df_stat_cdsbond_results.Joint_Test_Outcome=='BOND/CDS Both Have Unit Root']\n",
    "stationary_gvkeys = df_stat_cdsbond_results.loc[df_stat_cdsbond_results.Joint_Test_Outcome=='Cannot Reject H0']\n",
    "\n",
    "#group results by sector: \n",
    "unitroot_gvkeys_adf_results = unitroot_gvkeys.groupby('sector').agg({'Joint_Test_Outcome':['size']})\n",
    "stationary_gvkeys_adf_results = stationary_gvkeys.groupby('sector').agg({'Joint_Test_Outcome':['size']})\n",
    "\n",
    "#rename for better readability / the future titles\n",
    "unitroot_gvkeys_adf_results = unitroot_gvkeys_adf_results.rename(columns={('Joint_Test_Outcome', 'size'):('Unit Root', 'Unit_Roots')})\n",
    "stationary_gvkeys_adf_results= stationary_gvkeys_adf_results.rename(columns={('Joint_Test_Outcome', 'size'):('Stationary', 'Stat_Series')}) "
   ]
  },
  {
   "cell_type": "markdown",
   "metadata": {},
   "source": [
    "### BRIEF RUNDOWN:\n",
    "* Unit Root GVKEYS: 259\n",
    "* Stationary GVKEYS: 116\n",
    "    * Total GVKEYS usable in regressions: (259 + 116) == 375\n",
    "    \n",
    "\n",
    "* Total Error GVKEYS (14 Value Errors + 2 Linear Algebra Errors == 16) \n",
    "* Total Analysed GVKEY groups (375 + 16) = 391"
   ]
  },
  {
   "cell_type": "code",
   "execution_count": 80,
   "metadata": {},
   "outputs": [],
   "source": [
    "sector_adf_results = pd.concat([unitroot_gvkeys_adf_results, stationary_gvkeys_adf_results], axis=1)\n",
    "\n",
    "#sector_adf_results= sector_adf_results.rename(columns={('Joint_Test_Outcome', 'size'):('Unit Root', 'size')})\n",
    "\n",
    "sector_adf_results = sector_adf_results.rename(columns={('Joint_Test_Outcome', 'size'):('Joint_Test_Outcome','Unit_Roots'),\n",
    "                                                       ('Joint_Test_Outcome', 'size'):('Joint_Test_Outcome', 'Stationary')})"
   ]
  },
  {
   "cell_type": "code",
   "execution_count": 95,
   "metadata": {},
   "outputs": [
    {
     "data": {
      "text/html": [
       "<div>\n",
       "<style scoped>\n",
       "    .dataframe tbody tr th:only-of-type {\n",
       "        vertical-align: middle;\n",
       "    }\n",
       "\n",
       "    .dataframe tbody tr th {\n",
       "        vertical-align: top;\n",
       "    }\n",
       "\n",
       "    .dataframe thead tr th {\n",
       "        text-align: left;\n",
       "    }\n",
       "\n",
       "    .dataframe thead tr:last-of-type th {\n",
       "        text-align: right;\n",
       "    }\n",
       "</style>\n",
       "<table border=\"1\" class=\"dataframe\">\n",
       "  <thead>\n",
       "    <tr>\n",
       "      <th></th>\n",
       "      <th colspan=\"2\" halign=\"left\">Joint_Test_Outcome</th>\n",
       "    </tr>\n",
       "    <tr>\n",
       "      <th></th>\n",
       "      <th>Unit Roots</th>\n",
       "      <th>Unit Roots</th>\n",
       "    </tr>\n",
       "    <tr>\n",
       "      <th>sector</th>\n",
       "      <th></th>\n",
       "      <th></th>\n",
       "    </tr>\n",
       "  </thead>\n",
       "  <tbody>\n",
       "    <tr>\n",
       "      <th>Capital Goods</th>\n",
       "      <td>21</td>\n",
       "      <td>10</td>\n",
       "    </tr>\n",
       "    <tr>\n",
       "      <th>Communication Services</th>\n",
       "      <td>6</td>\n",
       "      <td>4</td>\n",
       "    </tr>\n",
       "    <tr>\n",
       "      <th>Consumer Cyclical</th>\n",
       "      <td>50</td>\n",
       "      <td>13</td>\n",
       "    </tr>\n",
       "    <tr>\n",
       "      <th>Consumer Staples</th>\n",
       "      <td>28</td>\n",
       "      <td>18</td>\n",
       "    </tr>\n",
       "    <tr>\n",
       "      <th>Energy</th>\n",
       "      <td>28</td>\n",
       "      <td>6</td>\n",
       "    </tr>\n",
       "    <tr>\n",
       "      <th>Financials</th>\n",
       "      <td>30</td>\n",
       "      <td>18</td>\n",
       "    </tr>\n",
       "    <tr>\n",
       "      <th>Health Care</th>\n",
       "      <td>23</td>\n",
       "      <td>4</td>\n",
       "    </tr>\n",
       "    <tr>\n",
       "      <th>Materials</th>\n",
       "      <td>25</td>\n",
       "      <td>19</td>\n",
       "    </tr>\n",
       "    <tr>\n",
       "      <th>Technology</th>\n",
       "      <td>22</td>\n",
       "      <td>6</td>\n",
       "    </tr>\n",
       "    <tr>\n",
       "      <th>Transporation</th>\n",
       "      <td>7</td>\n",
       "      <td>7</td>\n",
       "    </tr>\n",
       "    <tr>\n",
       "      <th>Utilities</th>\n",
       "      <td>16</td>\n",
       "      <td>11</td>\n",
       "    </tr>\n",
       "  </tbody>\n",
       "</table>\n",
       "</div>"
      ],
      "text/plain": [
       "                       Joint_Test_Outcome           \n",
       "                               Unit Roots Unit Roots\n",
       "sector                                              \n",
       "Capital Goods                          21         10\n",
       "Communication Services                  6          4\n",
       "Consumer Cyclical                      50         13\n",
       "Consumer Staples                       28         18\n",
       "Energy                                 28          6\n",
       "Financials                             30         18\n",
       "Health Care                            23          4\n",
       "Materials                              25         19\n",
       "Technology                             22          6\n",
       "Transporation                           7          7\n",
       "Utilities                              16         11"
      ]
     },
     "execution_count": 95,
     "metadata": {},
     "output_type": "execute_result"
    }
   ],
   "source": [
    "sector_adf_results\n",
    "#stationary is 2nd column (==116)"
   ]
  },
  {
   "cell_type": "code",
   "execution_count": 122,
   "metadata": {},
   "outputs": [
    {
     "ename": "IndexError",
     "evalue": "Too many levels: Index has only 1 level, not 2",
     "output_type": "error",
     "traceback": [
      "\u001b[1;31m---------------------------------------------------------------------------\u001b[0m",
      "\u001b[1;31mIndexError\u001b[0m                                Traceback (most recent call last)",
      "\u001b[1;32m<ipython-input-122-8b0ef81fd7e7>\u001b[0m in \u001b[0;36m<module>\u001b[1;34m\u001b[0m\n\u001b[1;32m----> 1\u001b[1;33m \u001b[0msector_adf_results\u001b[0m\u001b[1;33m.\u001b[0m\u001b[0mindex\u001b[0m\u001b[1;33m.\u001b[0m\u001b[0munique\u001b[0m\u001b[1;33m(\u001b[0m\u001b[0mlevel\u001b[0m\u001b[1;33m=\u001b[0m\u001b[1;36m1\u001b[0m\u001b[1;33m)\u001b[0m\u001b[1;33m\u001b[0m\u001b[1;33m\u001b[0m\u001b[0m\n\u001b[0m",
      "\u001b[1;32m~\\anaconda3\\lib\\site-packages\\pandas\\core\\indexes\\base.py\u001b[0m in \u001b[0;36munique\u001b[1;34m(self, level)\u001b[0m\n\u001b[0;32m   1971\u001b[0m     \u001b[1;32mdef\u001b[0m \u001b[0munique\u001b[0m\u001b[1;33m(\u001b[0m\u001b[0mself\u001b[0m\u001b[1;33m,\u001b[0m \u001b[0mlevel\u001b[0m\u001b[1;33m=\u001b[0m\u001b[1;32mNone\u001b[0m\u001b[1;33m)\u001b[0m\u001b[1;33m:\u001b[0m\u001b[1;33m\u001b[0m\u001b[1;33m\u001b[0m\u001b[0m\n\u001b[0;32m   1972\u001b[0m         \u001b[1;32mif\u001b[0m \u001b[0mlevel\u001b[0m \u001b[1;32mis\u001b[0m \u001b[1;32mnot\u001b[0m \u001b[1;32mNone\u001b[0m\u001b[1;33m:\u001b[0m\u001b[1;33m\u001b[0m\u001b[1;33m\u001b[0m\u001b[0m\n\u001b[1;32m-> 1973\u001b[1;33m             \u001b[0mself\u001b[0m\u001b[1;33m.\u001b[0m\u001b[0m_validate_index_level\u001b[0m\u001b[1;33m(\u001b[0m\u001b[0mlevel\u001b[0m\u001b[1;33m)\u001b[0m\u001b[1;33m\u001b[0m\u001b[1;33m\u001b[0m\u001b[0m\n\u001b[0m\u001b[0;32m   1974\u001b[0m         \u001b[0mresult\u001b[0m \u001b[1;33m=\u001b[0m \u001b[0msuper\u001b[0m\u001b[1;33m(\u001b[0m\u001b[1;33m)\u001b[0m\u001b[1;33m.\u001b[0m\u001b[0munique\u001b[0m\u001b[1;33m(\u001b[0m\u001b[1;33m)\u001b[0m\u001b[1;33m\u001b[0m\u001b[1;33m\u001b[0m\u001b[0m\n\u001b[0;32m   1975\u001b[0m         \u001b[1;32mreturn\u001b[0m \u001b[0mself\u001b[0m\u001b[1;33m.\u001b[0m\u001b[0m_shallow_copy\u001b[0m\u001b[1;33m(\u001b[0m\u001b[0mresult\u001b[0m\u001b[1;33m)\u001b[0m\u001b[1;33m\u001b[0m\u001b[1;33m\u001b[0m\u001b[0m\n",
      "\u001b[1;32m~\\anaconda3\\lib\\site-packages\\pandas\\core\\indexes\\base.py\u001b[0m in \u001b[0;36m_validate_index_level\u001b[1;34m(self, level)\u001b[0m\n\u001b[0;32m   1410\u001b[0m             \u001b[1;32melif\u001b[0m \u001b[0mlevel\u001b[0m \u001b[1;33m>\u001b[0m \u001b[1;36m0\u001b[0m\u001b[1;33m:\u001b[0m\u001b[1;33m\u001b[0m\u001b[1;33m\u001b[0m\u001b[0m\n\u001b[0;32m   1411\u001b[0m                 raise IndexError(\n\u001b[1;32m-> 1412\u001b[1;33m                     \u001b[1;34mf\"Too many levels: Index has only 1 level, not {level + 1}\"\u001b[0m\u001b[1;33m\u001b[0m\u001b[1;33m\u001b[0m\u001b[0m\n\u001b[0m\u001b[0;32m   1413\u001b[0m                 )\n\u001b[0;32m   1414\u001b[0m         \u001b[1;32melif\u001b[0m \u001b[0mlevel\u001b[0m \u001b[1;33m!=\u001b[0m \u001b[0mself\u001b[0m\u001b[1;33m.\u001b[0m\u001b[0mname\u001b[0m\u001b[1;33m:\u001b[0m\u001b[1;33m\u001b[0m\u001b[1;33m\u001b[0m\u001b[0m\n",
      "\u001b[1;31mIndexError\u001b[0m: Too many levels: Index has only 1 level, not 2"
     ]
    }
   ],
   "source": [
    "sector_adf_results.index.unique(level=1)"
   ]
  },
  {
   "cell_type": "markdown",
   "metadata": {},
   "source": [
    "# fix multi-index? "
   ]
  },
  {
   "cell_type": "code",
   "execution_count": 120,
   "metadata": {},
   "outputs": [
    {
     "data": {
      "text/html": [
       "<div>\n",
       "<style scoped>\n",
       "    .dataframe tbody tr th:only-of-type {\n",
       "        vertical-align: middle;\n",
       "    }\n",
       "\n",
       "    .dataframe tbody tr th {\n",
       "        vertical-align: top;\n",
       "    }\n",
       "\n",
       "    .dataframe thead tr th {\n",
       "        text-align: left;\n",
       "    }\n",
       "\n",
       "    .dataframe thead tr:last-of-type th {\n",
       "        text-align: right;\n",
       "    }\n",
       "</style>\n",
       "<table border=\"1\" class=\"dataframe\">\n",
       "  <thead>\n",
       "    <tr>\n",
       "      <th></th>\n",
       "      <th colspan=\"2\" halign=\"left\">Joint_Test_Outcome</th>\n",
       "    </tr>\n",
       "    <tr>\n",
       "      <th></th>\n",
       "      <th>Unit Roots</th>\n",
       "      <th>Unit Roots</th>\n",
       "    </tr>\n",
       "    <tr>\n",
       "      <th>sector</th>\n",
       "      <th></th>\n",
       "      <th></th>\n",
       "    </tr>\n",
       "  </thead>\n",
       "  <tbody>\n",
       "    <tr>\n",
       "      <th>Capital Goods</th>\n",
       "      <td>21</td>\n",
       "      <td>10</td>\n",
       "    </tr>\n",
       "    <tr>\n",
       "      <th>Communication Services</th>\n",
       "      <td>6</td>\n",
       "      <td>4</td>\n",
       "    </tr>\n",
       "    <tr>\n",
       "      <th>Consumer Cyclical</th>\n",
       "      <td>50</td>\n",
       "      <td>13</td>\n",
       "    </tr>\n",
       "    <tr>\n",
       "      <th>Consumer Staples</th>\n",
       "      <td>28</td>\n",
       "      <td>18</td>\n",
       "    </tr>\n",
       "    <tr>\n",
       "      <th>Energy</th>\n",
       "      <td>28</td>\n",
       "      <td>6</td>\n",
       "    </tr>\n",
       "    <tr>\n",
       "      <th>Financials</th>\n",
       "      <td>30</td>\n",
       "      <td>18</td>\n",
       "    </tr>\n",
       "    <tr>\n",
       "      <th>Health Care</th>\n",
       "      <td>23</td>\n",
       "      <td>4</td>\n",
       "    </tr>\n",
       "    <tr>\n",
       "      <th>Materials</th>\n",
       "      <td>25</td>\n",
       "      <td>19</td>\n",
       "    </tr>\n",
       "    <tr>\n",
       "      <th>Technology</th>\n",
       "      <td>22</td>\n",
       "      <td>6</td>\n",
       "    </tr>\n",
       "    <tr>\n",
       "      <th>Transporation</th>\n",
       "      <td>7</td>\n",
       "      <td>7</td>\n",
       "    </tr>\n",
       "    <tr>\n",
       "      <th>Utilities</th>\n",
       "      <td>16</td>\n",
       "      <td>11</td>\n",
       "    </tr>\n",
       "  </tbody>\n",
       "</table>\n",
       "</div>"
      ],
      "text/plain": [
       "                       Joint_Test_Outcome           \n",
       "                               Unit Roots Unit Roots\n",
       "sector                                              \n",
       "Capital Goods                          21         10\n",
       "Communication Services                  6          4\n",
       "Consumer Cyclical                      50         13\n",
       "Consumer Staples                       28         18\n",
       "Energy                                 28          6\n",
       "Financials                             30         18\n",
       "Health Care                            23          4\n",
       "Materials                              25         19\n",
       "Technology                             22          6\n",
       "Transporation                           7          7\n",
       "Utilities                              16         11"
      ]
     },
     "execution_count": 120,
     "metadata": {},
     "output_type": "execute_result"
    }
   ],
   "source": [
    "sector_adf_results.columns.set_levels(['Unit Roots', 'Stationary'], level=1, inplace=True)\n",
    "sector_adf_results"
   ]
  },
  {
   "cell_type": "code",
   "execution_count": null,
   "metadata": {},
   "outputs": [],
   "source": []
  },
  {
   "cell_type": "code",
   "execution_count": null,
   "metadata": {},
   "outputs": [],
   "source": [
    "#displaying only stationary observations\n",
    "\n",
    "#stationary only variables for 1% / 5% significance for both series\n",
    "#statationary_cdsbonds_df = df_stat_cdsbond_results.loc[((df_stat_cdsbond_results.stationarity_test_res_bond=='***') | (df_stat_cdsbond_results.stationarity_test_res_bond=='**')) & ((df_stat_cdsbond_results.stationarity_test_res_cds=='***') | (df_stat_cdsbond_results.stationarity_test_res_cds=='**'))]\n",
    "\n",
    "#USE: \n",
    "stationary_gvkeys\n",
    "\n",
    "#for the VAR in levels"
   ]
  },
  {
   "cell_type": "code",
   "execution_count": null,
   "metadata": {},
   "outputs": [],
   "source": []
  },
  {
   "cell_type": "code",
   "execution_count": null,
   "metadata": {},
   "outputs": [],
   "source": []
  },
  {
   "cell_type": "code",
   "execution_count": null,
   "metadata": {},
   "outputs": [],
   "source": []
  },
  {
   "cell_type": "markdown",
   "metadata": {},
   "source": [
    "# ZIVOT-ANDREWS\n",
    "### \"The Zivot-Andrews structural-break unit-root test\" \n",
    "\n",
    "\n",
    "* Test for unit root in a univariate process in the presence of serial correlation + single structural break \n",
    "* https://arch.readthedocs.io/en/latest/unitroot/generated/arch.unitroot.ZivotAndrews.html#arch.unitroot.ZivotAndrews\n",
    "\n",
    "\n",
    "* Should I test this on: main DF? (probS) VS. the unit-root only sub-sample?"
   ]
  },
  {
   "cell_type": "code",
   "execution_count": null,
   "metadata": {},
   "outputs": [],
   "source": [
    "#method == BIC\n",
    "#trend = 't'"
   ]
  },
  {
   "cell_type": "code",
   "execution_count": 39,
   "metadata": {},
   "outputs": [],
   "source": [
    "#test DF\n",
    "\n",
    "gvkey_1045 = sorted_alldata_df_final.loc[sorted_alldata_df_final.gvkey==1045]"
   ]
  },
  {
   "cell_type": "code",
   "execution_count": null,
   "metadata": {},
   "outputs": [],
   "source": [
    "#import the above loop here: compare results\n",
    "\n",
    "#H0 = unit root with a single structural break "
   ]
  },
  {
   "cell_type": "code",
   "execution_count": 41,
   "metadata": {},
   "outputs": [
    {
     "data": {
      "text/html": [
       "<table class=\"simpletable\">\n",
       "<caption>Zivot-Andrews Results</caption>\n",
       "<tr>\n",
       "  <td>Test Statistic</td>   <td>-22.111</td>\n",
       "</tr>\n",
       "<tr>\n",
       "  <td>P-value</td>            <td>0.000</td>\n",
       "</tr>\n",
       "<tr>\n",
       "  <td>Lags</td>                   <td>0</td>\n",
       "</tr>\n",
       "</table><br/><br/>Trend: Constant<br/>Critical Values: -5.28 (1%), -4.81 (5%), -4.57 (10%)<br/>Null Hypothesis: The process contains a unit root with a single structural break.<br/>Alternative Hypothesis: The process is trend and break stationary."
      ],
      "text/plain": [
       "<class 'statsmodels.iolib.summary.Summary'>\n",
       "\"\"\"\n",
       "        Zivot-Andrews Results        \n",
       "=====================================\n",
       "Test Statistic                -22.111\n",
       "P-value                         0.000\n",
       "Lags                                0\n",
       "-------------------------------------\n",
       "\n",
       "Trend: Constant\n",
       "Critical Values: -5.28 (1%), -4.81 (5%), -4.57 (10%)\n",
       "Null Hypothesis: The process contains a unit root with a single structural break.\n",
       "Alternative Hypothesis: The process is trend and break stationary.\n",
       "\"\"\""
      ]
     },
     "execution_count": 41,
     "metadata": {},
     "output_type": "execute_result"
    }
   ],
   "source": [
    "#E.G. \n",
    "gvkey_1045_za = ZivotAndrews(gvkey_1045['market_cds_spread'], trend='c',trim=0.15, max_lags=5, method='BIC')\n",
    "#trend\n",
    "gvkey_1045_za.summary()"
   ]
  },
  {
   "cell_type": "code",
   "execution_count": 8,
   "metadata": {},
   "outputs": [
    {
     "data": {
      "text/html": [
       "<table class=\"simpletable\">\n",
       "<caption>Zivot-Andrews Results</caption>\n",
       "<tr>\n",
       "  <td>Test Statistic</td>   <td>-22.111</td>\n",
       "</tr>\n",
       "<tr>\n",
       "  <td>P-value</td>            <td>0.000</td>\n",
       "</tr>\n",
       "<tr>\n",
       "  <td>Lags</td>                   <td>0</td>\n",
       "</tr>\n",
       "</table><br/><br/>Trend: Constant<br/>Critical Values: -5.28 (1%), -4.81 (5%), -4.57 (10%)<br/>Null Hypothesis: The process contains a unit root with a single structural break.<br/>Alternative Hypothesis: The process is trend and break stationary."
      ],
      "text/plain": [
       "<class 'statsmodels.iolib.summary.Summary'>\n",
       "\"\"\"\n",
       "        Zivot-Andrews Results        \n",
       "=====================================\n",
       "Test Statistic                -22.111\n",
       "P-value                         0.000\n",
       "Lags                                0\n",
       "-------------------------------------\n",
       "\n",
       "Trend: Constant\n",
       "Critical Values: -5.28 (1%), -4.81 (5%), -4.57 (10%)\n",
       "Null Hypothesis: The process contains a unit root with a single structural break.\n",
       "Alternative Hypothesis: The process is trend and break stationary.\n",
       "\"\"\""
      ]
     },
     "execution_count": 8,
     "metadata": {},
     "output_type": "execute_result"
    }
   ],
   "source": [
    "gvkey_1045_za = ZivotAndrews(gvkey_1045['market_cds_spread'], trend='c',trim=0.15, max_lags=5, method='BIC')\n",
    "#constant\n",
    "gvkey_1045_za.summary()"
   ]
  },
  {
   "cell_type": "code",
   "execution_count": 42,
   "metadata": {},
   "outputs": [
    {
     "data": {
      "text/html": [
       "<table class=\"simpletable\">\n",
       "<caption>Zivot-Andrews Results</caption>\n",
       "<tr>\n",
       "  <td>Test Statistic</td>   <td>-27.478</td>\n",
       "</tr>\n",
       "<tr>\n",
       "  <td>P-value</td>            <td>0.000</td>\n",
       "</tr>\n",
       "<tr>\n",
       "  <td>Lags</td>                   <td>0</td>\n",
       "</tr>\n",
       "</table><br/><br/>Trend: Constant and Linear Time Trend<br/>Critical Values: -5.58 (1%), -5.07 (5%), -4.83 (10%)<br/>Null Hypothesis: The process contains a unit root with a single structural break.<br/>Alternative Hypothesis: The process is trend and break stationary."
      ],
      "text/plain": [
       "<class 'statsmodels.iolib.summary.Summary'>\n",
       "\"\"\"\n",
       "        Zivot-Andrews Results        \n",
       "=====================================\n",
       "Test Statistic                -27.478\n",
       "P-value                         0.000\n",
       "Lags                                0\n",
       "-------------------------------------\n",
       "\n",
       "Trend: Constant and Linear Time Trend\n",
       "Critical Values: -5.58 (1%), -5.07 (5%), -4.83 (10%)\n",
       "Null Hypothesis: The process contains a unit root with a single structural break.\n",
       "Alternative Hypothesis: The process is trend and break stationary.\n",
       "\"\"\""
      ]
     },
     "execution_count": 42,
     "metadata": {},
     "output_type": "execute_result"
    }
   ],
   "source": [
    "gvkey_1045_za = ZivotAndrews(gvkey_1045['market_cds_spread'], trend='ct',trim=0.15, max_lags=5, method='BIC')\n",
    "#constant + trend\n",
    "gvkey_1045_za.summary()"
   ]
  },
  {
   "cell_type": "code",
   "execution_count": 43,
   "metadata": {
    "scrolled": false
   },
   "outputs": [
    {
     "data": {
      "image/png": "[encoded data removed]",
      "text/plain": [
       "<Figure size 864x648 with 2 Axes>"
      ]
     },
     "metadata": {
      "needs_background": "light"
     },
     "output_type": "display_data"
    }
   ],
   "source": [
    "fig, (ax1, ax2) = plt.subplots(2, figsize=(12,9))\n",
    "fig.suptitle('Single GVKEY (1045) CDS Spread Subplots ')\n",
    "\n",
    "gvkey_1045.groupby(['year_index'])['market_cds_spread'].plot(ax=ax1)\n",
    "ax1.set_ylabel('CDS Spread')\n",
    "ax1.axes.get_xaxis().set_visible(False)\n",
    "\n",
    "\n",
    "gvkey_1045.groupby(['year_index']).mean()['market_cds_spread'].plot(ax=ax2);\n",
    "ax2.set_ylabel('Annual Mean CDS Spread')\n",
    "ax2.set_xlabel('Year');\n",
    "                       "
   ]
  },
  {
   "cell_type": "code",
   "execution_count": 46,
   "metadata": {},
   "outputs": [],
   "source": [
    "#gvkey_1045[250:300]\n",
    "#276 to 277: 3Y gap (massive CDS Spike from graph)"
   ]
  },
  {
   "cell_type": "code",
   "execution_count": null,
   "metadata": {},
   "outputs": [],
   "source": [
    "#highlight the sudden \"spike\" and how a linear test along would fail the ZA test"
   ]
  },
  {
   "cell_type": "code",
   "execution_count": 47,
   "metadata": {},
   "outputs": [],
   "source": [
    "#see(gvkey_1045_za)"
   ]
  },
  {
   "cell_type": "code",
   "execution_count": 53,
   "metadata": {},
   "outputs": [
    {
     "data": {
      "text/plain": [
       "{'1%': -5.27644, '5%': -4.81067, '10%': -4.56618}"
      ]
     },
     "execution_count": 53,
     "metadata": {},
     "output_type": "execute_result"
    }
   ],
   "source": [
    "gvkey_1045_za.critical_values"
   ]
  },
  {
   "cell_type": "code",
   "execution_count": 65,
   "metadata": {},
   "outputs": [
    {
     "data": {
      "text/plain": [
       "dict_items([('1%', -5.03421), ('5%', -4.4058), ('10%', -4.13678)])"
      ]
     },
     "execution_count": 65,
     "metadata": {},
     "output_type": "execute_result"
    }
   ],
   "source": [
    "gvkey_1045_za.critical_values.items()"
   ]
  },
  {
   "cell_type": "code",
   "execution_count": 69,
   "metadata": {},
   "outputs": [
    {
     "name": "stdout",
     "output_type": "stream",
     "text": [
      " ONE % ZA CRITICAL VALUE: -5.03421 \n",
      " FIVE % ZA CRITICAL VALUE: -4.4058 \n",
      " TEN % ZA CRITICAL VALUE: -4.13678\n"
     ]
    }
   ],
   "source": [
    "ZA_critical_values_dictionary = list(gvkey_1045_za.critical_values.values())\n",
    "\n",
    "za_one_percent_cv = ZA_critical_values_dictionary[0]\n",
    "za_five_percent_cv = ZA_critical_values_dictionary[1]\n",
    "za_ten_percent_cv = ZA_critical_values_dictionary[2]\n",
    "\n",
    "print(\" ONE % ZA CRITICAL VALUE:\", za_one_percent_cv, '\\n', \"FIVE % ZA CRITICAL VALUE:\", za_five_percent_cv, '\\n', \n",
    "      \"TEN % ZA CRITICAL VALUE:\", za_ten_percent_cv)"
   ]
  },
  {
   "cell_type": "code",
   "execution_count": null,
   "metadata": {},
   "outputs": [],
   "source": []
  },
  {
   "cell_type": "markdown",
   "metadata": {},
   "source": [
    "## Zivot-Andrews Loop"
   ]
  },
  {
   "cell_type": "code",
   "execution_count": 6,
   "metadata": {
    "scrolled": true
   },
   "outputs": [
    {
     "name": "stderr",
     "output_type": "stream",
     "text": [
      "C:\\Users\\JasonSpano\\anaconda3\\lib\\site-packages\\arch\\unitroot\\unitroot.py:1450: RuntimeWarning: invalid value encountered in sqrt\n",
      "  return b / sqrt(diag(sigma2 * xpxi))\n"
     ]
    },
    {
     "name": "stdout",
     "output_type": "stream",
     "text": [
      "InfeasibleTestException: Row: 105, Reason : The maximum lag you are considering (5) results in an ADF regression with a\n",
      "singular regressor matrix after including 0 lags, and so a specification test be\n",
      "run. This may occur if your series have little variation and so is locally constant,\n",
      "or may occur if you are attempting to test a very short series. You can manually set\n",
      "maximum lag length to consider smaller models. \n",
      "GVKEY: 5671 Another InfeasibleTestException: Row: 105 SECTOR: Consumer Cyclical\n",
      "GVKEY: 5862 Another InfeasibleTestException: Row: 109 SECTOR: Materials\n",
      "GVKEY: 6653 Another InfeasibleTestException: Row: 123 SECTOR: Financials\n",
      "GVKEY: 7991 Another InfeasibleTestException: Row: 158 SECTOR: Capital Goods\n",
      "InfeasibleTestException: Row: 179, Reason : The maximum lag you are considering (5) results in an ADF regression with a\n",
      "singular regressor matrix after including 2 lags, and so a specification test be\n",
      "run. This may occur if your series have little variation and so is locally constant,\n",
      "or may occur if you are attempting to test a very short series. You can manually set\n",
      "maximum lag length to consider smaller models. \n",
      "GVKEY: 8551 Another InfeasibleTestException: Row: 179 SECTOR: Consumer Cyclical\n",
      "GVKEY: 10187 Another InfeasibleTestException: Row: 205 SECTOR: Financials\n",
      "GVKEY: 10443 Another InfeasibleTestException: Row: 212 SECTOR: Consumer Cyclical\n",
      "GVKEY: 12459 Another InfeasibleTestException: Row: 244 SECTOR: Consumer Cyclical\n",
      "GVKEY: 25180 Another InfeasibleTestException: Row: 291 SECTOR: Capital Goods\n",
      "GVKEY: 25495 Another InfeasibleTestException: Row: 297 SECTOR: Utilities\n",
      "GVKEY: 30219 Another InfeasibleTestException: Row: 320 SECTOR: Consumer Cyclical\n",
      "GVKEY: 30671 Another InfeasibleTestException: Row: 323 SECTOR: Capital Goods\n",
      "GVKEY: 64768 Another InfeasibleTestException: Row: 340 SECTOR: Consumer Cyclical\n",
      "GVKEY: 64891 Another InfeasibleTestException: Row: 341 SECTOR: Consumer Cyclical\n",
      "GVKEY: 137024 Another InfeasibleTestException: Row: 362 SECTOR: Energy\n",
      "GVKEY: 179657 Another InfeasibleTestException: Row: 389 SECTOR: Capital Goods\n",
      "Infeasible Test Exceptions Count: 16\n"
     ]
    }
   ],
   "source": [
    "#create list for the general items\n",
    "gvkey_list = []                        #holds the GVKEY\n",
    "sector_list = []                       #append the sector for each GVKEY (just saves having to re-merge on again later)\n",
    "first_date_obs = []                    #holds the first date observation per GVKEY\n",
    "last_date_obs = []                     #holds the last date observation per GVKEY\n",
    "time_horizon = []                      #holds the difference between the first and last date observations\n",
    "group_size = []                        #hold the number of observations (trades) per GVKEY\n",
    "size_discrepancy = []                  #hold the difference between #obs and (first trade - last trade) dates (a comparison)\n",
    "\n",
    "#create lists for items specific to the ZA test\n",
    "unitroot_ts_cds = []                   #the test statistic for the CDS series\n",
    "unitroot_pvalue_cds = []               #the p-value for the CDS series\n",
    "unitroot_test_res_cds = []             #a list which will hold the significance level (*, **, ***) for publication tables\n",
    "group_stddev = []\n",
    "outcome_string = []\n",
    "\n",
    "#create a seperate DF to hold details about the probematic GVKEY groups & their characteristics \n",
    "problematic_gvkey = []\n",
    "problematic_first_date_obs = []                   #holds the first date observation per GVKEY\n",
    "problematic_last_date_obs = []                    #holds the last date observation per GVKEY\n",
    "problematic_time_horizon = []                     #holds the difference between the first and last date observations\n",
    "problematic_sector = []\n",
    "problematic_size_discrep = []                     #holds the difference in trades vs (first - last date)\n",
    "problematic_cds_stddev = []                       #compare against that group's standard_deviation (likely constant error)\n",
    "problem_argument_instance = []                   #hold the string argument of the errors\n",
    "infeasible_test_exceptions_counter = 0            #count the number of error instances\n",
    "\n",
    "#THE ZA-TEST CRITICAL VALUES - highlighted/calculated above: (they don't change so fine to hard code in)\n",
    "one_percent_cv = -5.27644   \n",
    "five_percent_cv = -4.81067 \n",
    "ten_percent_cv = -4.56618\n",
    "\n",
    "#create loop to test for stationarity in each GVKEY's data group \n",
    "for i, val in enumerate(sorted_alldata_df_final.groupby('gvkey')):\n",
    "    gvkey = val[0]\n",
    "    data = val[1]                        #assign the remainder of the data to be callable from data.(variable)\n",
    "    gvkey_list.append(gvkey)             #append the GVKEY to a list, which keeps the data stored under the appropriate key\n",
    "    sector_string = data.sector\n",
    "    sector_list.append(sector_string.iloc[0])      #append the respective sector for that GVKEY\n",
    "    \n",
    "    \n",
    "    #compute the specifics of each GVKEY's date / time horizon\n",
    "    first_date_obs.append(data.trade_date.min())\n",
    "    last_date_obs.append(data.trade_date.max())\n",
    "    time_difference = data.trade_date.max() - data.trade_date.min()\n",
    "    time_horizon.append(time_difference.days)               #append just the .days aspect of the timedelta variable\n",
    "    \n",
    "    #define the appropriate series for the ADF test: \n",
    "    cds_za = data.market_cds_spread      \n",
    "    group_stddev.append(np.round(cds_za.std(),4))\n",
    "\n",
    "    #bic is optimised within the test (see notes)\n",
    "\n",
    "    try:\n",
    "        #run the ZA-test\n",
    "        za_test_cds = ZivotAndrews(cds_za, trend='c', trim=0.15, max_lags=5, method='BIC')\n",
    "        group_size.append(za_test_cds.nobs)\n",
    "        size_discrepancy.append(int(za_test_cds.nobs) - int(time_difference.days))\n",
    "        \n",
    "        #number will always be negative as there are holidays etc. which mean total days is always > #trading days\n",
    "          \n",
    "        #store the test statistic & p-value for the ZA-TEST, by GVKEY (rounded to 4 decimals)\n",
    "        unitroot_ts_cds.append(np.round(za_test_cds.stat,4))    \n",
    "        unitroot_pvalue_cds.append(np.round(za_test_cds.pvalue,4))    \n",
    "\n",
    "        \n",
    "        #CDS ZA-TEST LATEX TABLE CONSTRUCTION\n",
    "        if za_test_cds.stat < one_percent_cv:\n",
    "            unitroot_test_res_cds.append(\"***\")   \n",
    "        elif za_test_cds.stat < five_percent_cv:\n",
    "            unitroot_test_res_cds.append(\"**\")    ## The 1% & 5% significance would reject H0\n",
    "        elif za_test_cds.stat < ten_percent_cv:\n",
    "            unitroot_test_res_cds.append(\"*\")     ## The 10% and no level would fail to reject H0\n",
    "        else: \n",
    "            unitroot_test_res_cds.append(\" \")     #Fail to reject the H0 at any level less than 0.10% significance\n",
    "            \n",
    "              \n",
    "        #ensure that both series are integrated of the same order: a jointly unit-root system is required for VECM models\n",
    "        if (za_test_cds.stat > five_percent_cv or za_test_cds.pvalue > 0.05):  \n",
    "            #this is > as to \"not reject\" the H0 is unit root; while reject the null would imply a stationary series\n",
    "            outcome_string.append(\"unit root & one structural break\")\n",
    "        else: \n",
    "            outcome_string.append(\"process is trend/break stationary\")\n",
    "\n",
    "\n",
    "    except (InfeasibleTestException) as ite:\n",
    "        #fill in the lists for the main_DF to maintain list to DF structuring \n",
    "        unitroot_ts_cds.append(np.nan)\n",
    "        unitroot_pvalue_cds.append(np.nan)\n",
    "        unitroot_test_res_cds.append(\"_ITE\")\n",
    "        outcome_string.append(\"ITE_ERROR\")\n",
    "        \n",
    "        #populate items for the \"problem\" DF\n",
    "        problematic_gvkey.append(gvkey)\n",
    "        problematic_sector.append(sector_string.iloc[0]) \n",
    "        problematic_cds_stddev.append(cds_za.std())\n",
    "        \n",
    "        #populate date items\n",
    "        problematic_first_date_obs.append(data.trade_date.min())\n",
    "        problematic_last_date_obs.append(data.trade_date.max())\n",
    "        problematic_time_difference = data.trade_date.max() - data.trade_date.min()\n",
    "        problematic_time_horizon.append(time_difference.days) \n",
    "        problematic_size_discrep.append(int(cds_za.shape[0]) - int(time_difference.days)) #acquire the 'size' of the group \n",
    "    \n",
    "        #print just the first instance of exception/error, and append details to the seperate DF\n",
    "        problematic_instance_string = str(ite.args)\n",
    "        if problematic_instance_string not in problem_argument_instance:\n",
    "            print(\"InfeasibleTestException: Row: {}, Reason : {} \".format(i, ite))\n",
    "            problem_argument_instance.append(problematic_instance_string)\n",
    "        \n",
    "        infeasible_test_exceptions_counter += 1\n",
    "        print(\"GVKEY:\", gvkey, \"Another InfeasibleTestException: Row: {}\".format(i), \"SECTOR:\", sector_string.iloc[0])\n",
    "        continue          \n",
    "        \n",
    "        \n",
    "#this section combines the test-statistic itself with the appropriate (*, **, ***) into one cell for the final DF\n",
    "cds_za_sig = [\"{}{}\".format(unitroot_ts_cds, unitroot_test_res_cds) for unitroot_ts_cds, unitroot_test_res_cds in zip(unitroot_ts_cds, unitroot_test_res_cds)]\n",
    "\n",
    "\n",
    "#the final DF constructor; the .T is to transpose to a more visually-friendly vertically orientated DF\n",
    "df_za_results = pd.DataFrame(data=(gvkey_list, sector_list, cds_za_sig,  unitroot_pvalue_cds,\n",
    "                                             outcome_string, first_date_obs, last_date_obs, time_horizon,\n",
    "                                  group_stddev, size_discrepancy)).T\n",
    "\n",
    "#rename the columns for better readability\n",
    "df_za_results.columns = ['gvkey', 'sector', 'CDS_ZA_Test_Statistic', 'CDS_pval', 'Outcome',\n",
    "                                  'date_start','date_end','length_days','std_dev','size_dif']\n",
    "\n",
    "\n",
    "#construct problem DF\n",
    "za_problem_df = pd.DataFrame(data=(problematic_gvkey, problematic_first_date_obs, problematic_last_date_obs,\n",
    "                                   problematic_time_horizon, problematic_size_discrep, \n",
    "                                   problematic_cds_stddev, problematic_sector)).T\n",
    "\n",
    "za_problem_df.columns = ['gvkey','first_obs_date','last_obs_date','length_days', \n",
    "                         'size_dif','group_cds_stddev', 'problem_sector']\n",
    "                                   \n",
    "\n",
    "print(\"Infeasible Test Exceptions Count:\", infeasible_test_exceptions_counter)"
   ]
  },
  {
   "cell_type": "code",
   "execution_count": null,
   "metadata": {},
   "outputs": [],
   "source": []
  },
  {
   "cell_type": "code",
   "execution_count": 7,
   "metadata": {},
   "outputs": [
    {
     "data": {
      "text/html": [
       "<div>\n",
       "<style scoped>\n",
       "    .dataframe tbody tr th:only-of-type {\n",
       "        vertical-align: middle;\n",
       "    }\n",
       "\n",
       "    .dataframe tbody tr th {\n",
       "        vertical-align: top;\n",
       "    }\n",
       "\n",
       "    .dataframe thead th {\n",
       "        text-align: right;\n",
       "    }\n",
       "</style>\n",
       "<table border=\"1\" class=\"dataframe\">\n",
       "  <thead>\n",
       "    <tr style=\"text-align: right;\">\n",
       "      <th></th>\n",
       "      <th>gvkey</th>\n",
       "      <th>sector</th>\n",
       "      <th>CDS_ZA_Test_Statistic</th>\n",
       "      <th>CDS_pval</th>\n",
       "      <th>Outcome</th>\n",
       "      <th>date_start</th>\n",
       "      <th>date_end</th>\n",
       "      <th>length_days</th>\n",
       "      <th>std_dev</th>\n",
       "      <th>size_dif</th>\n",
       "    </tr>\n",
       "  </thead>\n",
       "  <tbody>\n",
       "    <tr>\n",
       "      <th>0</th>\n",
       "      <td>1045</td>\n",
       "      <td>Transporation</td>\n",
       "      <td>-22.1113***</td>\n",
       "      <td>0</td>\n",
       "      <td>process is trend/break stationary</td>\n",
       "      <td>2009-09-24</td>\n",
       "      <td>2014-05-30</td>\n",
       "      <td>1709</td>\n",
       "      <td>2014.14</td>\n",
       "      <td>-1163</td>\n",
       "    </tr>\n",
       "    <tr>\n",
       "      <th>1</th>\n",
       "      <td>1078</td>\n",
       "      <td>Health Care</td>\n",
       "      <td>-3.2055</td>\n",
       "      <td>0.838</td>\n",
       "      <td>unit root &amp; one structural break</td>\n",
       "      <td>2008-03-17</td>\n",
       "      <td>2010-09-30</td>\n",
       "      <td>927</td>\n",
       "      <td>22.7526</td>\n",
       "      <td>-307</td>\n",
       "    </tr>\n",
       "    <tr>\n",
       "      <th>2</th>\n",
       "      <td>1161</td>\n",
       "      <td>Technology</td>\n",
       "      <td>-2.5922</td>\n",
       "      <td>0.9788</td>\n",
       "      <td>unit root &amp; one structural break</td>\n",
       "      <td>2008-04-10</td>\n",
       "      <td>2017-06-30</td>\n",
       "      <td>3368</td>\n",
       "      <td>395.927</td>\n",
       "      <td>-1483</td>\n",
       "    </tr>\n",
       "    <tr>\n",
       "      <th>3</th>\n",
       "      <td>1209</td>\n",
       "      <td>Materials</td>\n",
       "      <td>-3.4523</td>\n",
       "      <td>0.7097</td>\n",
       "      <td>unit root &amp; one structural break</td>\n",
       "      <td>2011-07-28</td>\n",
       "      <td>2017-06-30</td>\n",
       "      <td>2164</td>\n",
       "      <td>12.6212</td>\n",
       "      <td>-693</td>\n",
       "    </tr>\n",
       "    <tr>\n",
       "      <th>4</th>\n",
       "      <td>1300</td>\n",
       "      <td>Capital Goods</td>\n",
       "      <td>-4.1703</td>\n",
       "      <td>0.2542</td>\n",
       "      <td>unit root &amp; one structural break</td>\n",
       "      <td>2007-12-14</td>\n",
       "      <td>2017-03-01</td>\n",
       "      <td>3365</td>\n",
       "      <td>19.0918</td>\n",
       "      <td>-991</td>\n",
       "    </tr>\n",
       "    <tr>\n",
       "      <th>...</th>\n",
       "      <td>...</td>\n",
       "      <td>...</td>\n",
       "      <td>...</td>\n",
       "      <td>...</td>\n",
       "      <td>...</td>\n",
       "      <td>...</td>\n",
       "      <td>...</td>\n",
       "      <td>...</td>\n",
       "      <td>...</td>\n",
       "      <td>...</td>\n",
       "    </tr>\n",
       "    <tr>\n",
       "      <th>386</th>\n",
       "      <td>175263</td>\n",
       "      <td>Consumer Cyclical</td>\n",
       "      <td>-2.102</td>\n",
       "      <td>0.9953</td>\n",
       "      <td>unit root &amp; one structural break</td>\n",
       "      <td>2009-02-23</td>\n",
       "      <td>2010-02-26</td>\n",
       "      <td>368</td>\n",
       "      <td>29.0927</td>\n",
       "      <td>-103</td>\n",
       "    </tr>\n",
       "    <tr>\n",
       "      <th>387</th>\n",
       "      <td>176404</td>\n",
       "      <td>Communication Services</td>\n",
       "      <td>-3.7509</td>\n",
       "      <td>0.5127</td>\n",
       "      <td>unit root &amp; one structural break</td>\n",
       "      <td>2008-01-28</td>\n",
       "      <td>2016-04-29</td>\n",
       "      <td>3014</td>\n",
       "      <td>59.4247</td>\n",
       "      <td>-922</td>\n",
       "    </tr>\n",
       "    <tr>\n",
       "      <th>388</th>\n",
       "      <td>176760</td>\n",
       "      <td>Materials</td>\n",
       "      <td>-4.1946</td>\n",
       "      <td>0.2416</td>\n",
       "      <td>unit root &amp; one structural break</td>\n",
       "      <td>2007-12-03</td>\n",
       "      <td>2017-06-29</td>\n",
       "      <td>3496</td>\n",
       "      <td>187.067</td>\n",
       "      <td>-1736</td>\n",
       "    </tr>\n",
       "    <tr>\n",
       "      <th>389</th>\n",
       "      <td>179657</td>\n",
       "      <td>Capital Goods</td>\n",
       "      <td>nan_ITE</td>\n",
       "      <td>NaN</td>\n",
       "      <td>ITE_ERROR</td>\n",
       "      <td>2014-07-16</td>\n",
       "      <td>2016-07-15</td>\n",
       "      <td>730</td>\n",
       "      <td>0</td>\n",
       "      <td>-207</td>\n",
       "    </tr>\n",
       "    <tr>\n",
       "      <th>390</th>\n",
       "      <td>179700</td>\n",
       "      <td>Consumer Staples</td>\n",
       "      <td>-4.3826</td>\n",
       "      <td>0.1586</td>\n",
       "      <td>unit root &amp; one structural break</td>\n",
       "      <td>2011-06-21</td>\n",
       "      <td>2017-06-30</td>\n",
       "      <td>2201</td>\n",
       "      <td>1.7332</td>\n",
       "      <td>-703</td>\n",
       "    </tr>\n",
       "  </tbody>\n",
       "</table>\n",
       "<p>391 rows × 10 columns</p>\n",
       "</div>"
      ],
      "text/plain": [
       "      gvkey                  sector CDS_ZA_Test_Statistic CDS_pval  \\\n",
       "0      1045           Transporation           -22.1113***        0   \n",
       "1      1078             Health Care              -3.2055     0.838   \n",
       "2      1161              Technology              -2.5922    0.9788   \n",
       "3      1209               Materials              -3.4523    0.7097   \n",
       "4      1300           Capital Goods              -4.1703    0.2542   \n",
       "..      ...                     ...                   ...      ...   \n",
       "386  175263       Consumer Cyclical               -2.102    0.9953   \n",
       "387  176404  Communication Services              -3.7509    0.5127   \n",
       "388  176760               Materials              -4.1946    0.2416   \n",
       "389  179657           Capital Goods               nan_ITE      NaN   \n",
       "390  179700        Consumer Staples              -4.3826    0.1586   \n",
       "\n",
       "                               Outcome date_start   date_end length_days  \\\n",
       "0    process is trend/break stationary 2009-09-24 2014-05-30        1709   \n",
       "1     unit root & one structural break 2008-03-17 2010-09-30         927   \n",
       "2     unit root & one structural break 2008-04-10 2017-06-30        3368   \n",
       "3     unit root & one structural break 2011-07-28 2017-06-30        2164   \n",
       "4     unit root & one structural break 2007-12-14 2017-03-01        3365   \n",
       "..                                 ...        ...        ...         ...   \n",
       "386   unit root & one structural break 2009-02-23 2010-02-26         368   \n",
       "387   unit root & one structural break 2008-01-28 2016-04-29        3014   \n",
       "388   unit root & one structural break 2007-12-03 2017-06-29        3496   \n",
       "389                          ITE_ERROR 2014-07-16 2016-07-15         730   \n",
       "390   unit root & one structural break 2011-06-21 2017-06-30        2201   \n",
       "\n",
       "     std_dev size_dif  \n",
       "0    2014.14    -1163  \n",
       "1    22.7526     -307  \n",
       "2    395.927    -1483  \n",
       "3    12.6212     -693  \n",
       "4    19.0918     -991  \n",
       "..       ...      ...  \n",
       "386  29.0927     -103  \n",
       "387  59.4247     -922  \n",
       "388  187.067    -1736  \n",
       "389        0     -207  \n",
       "390   1.7332     -703  \n",
       "\n",
       "[391 rows x 10 columns]"
      ]
     },
     "execution_count": 7,
     "metadata": {},
     "output_type": "execute_result"
    }
   ],
   "source": [
    "df_za_results"
   ]
  },
  {
   "cell_type": "code",
   "execution_count": null,
   "metadata": {},
   "outputs": [],
   "source": []
  },
  {
   "cell_type": "code",
   "execution_count": 8,
   "metadata": {},
   "outputs": [
    {
     "data": {
      "text/html": [
       "<div>\n",
       "<style scoped>\n",
       "    .dataframe tbody tr th:only-of-type {\n",
       "        vertical-align: middle;\n",
       "    }\n",
       "\n",
       "    .dataframe tbody tr th {\n",
       "        vertical-align: top;\n",
       "    }\n",
       "\n",
       "    .dataframe thead th {\n",
       "        text-align: right;\n",
       "    }\n",
       "</style>\n",
       "<table border=\"1\" class=\"dataframe\">\n",
       "  <thead>\n",
       "    <tr style=\"text-align: right;\">\n",
       "      <th></th>\n",
       "      <th>gvkey</th>\n",
       "      <th>sector</th>\n",
       "      <th>CDS_ZA_Test_Statistic</th>\n",
       "      <th>CDS_pval</th>\n",
       "      <th>Outcome</th>\n",
       "      <th>date_start</th>\n",
       "      <th>date_end</th>\n",
       "      <th>length_days</th>\n",
       "      <th>std_dev</th>\n",
       "      <th>size_dif</th>\n",
       "    </tr>\n",
       "  </thead>\n",
       "  <tbody>\n",
       "    <tr>\n",
       "      <th>0</th>\n",
       "      <td>1045</td>\n",
       "      <td>Transporation</td>\n",
       "      <td>-22.1113***</td>\n",
       "      <td>0</td>\n",
       "      <td>process is trend/break stationary</td>\n",
       "      <td>2009-09-24</td>\n",
       "      <td>2014-05-30</td>\n",
       "      <td>1709</td>\n",
       "      <td>2014.14</td>\n",
       "      <td>-1163</td>\n",
       "    </tr>\n",
       "    <tr>\n",
       "      <th>13</th>\n",
       "      <td>1704</td>\n",
       "      <td>Technology</td>\n",
       "      <td>-5.2397**</td>\n",
       "      <td>0.0123</td>\n",
       "      <td>process is trend/break stationary</td>\n",
       "      <td>2011-06-01</td>\n",
       "      <td>2017-06-15</td>\n",
       "      <td>2206</td>\n",
       "      <td>16.6373</td>\n",
       "      <td>-1585</td>\n",
       "    </tr>\n",
       "    <tr>\n",
       "      <th>15</th>\n",
       "      <td>1794</td>\n",
       "      <td>Energy</td>\n",
       "      <td>-4.9981**</td>\n",
       "      <td>0.029</td>\n",
       "      <td>process is trend/break stationary</td>\n",
       "      <td>2011-06-02</td>\n",
       "      <td>2016-08-31</td>\n",
       "      <td>1917</td>\n",
       "      <td>56.1296</td>\n",
       "      <td>-1233</td>\n",
       "    </tr>\n",
       "    <tr>\n",
       "      <th>16</th>\n",
       "      <td>1913</td>\n",
       "      <td>Capital Goods</td>\n",
       "      <td>-33.7787***</td>\n",
       "      <td>0</td>\n",
       "      <td>process is trend/break stationary</td>\n",
       "      <td>2007-01-16</td>\n",
       "      <td>2017-06-29</td>\n",
       "      <td>3817</td>\n",
       "      <td>29.8273</td>\n",
       "      <td>-2779</td>\n",
       "    </tr>\n",
       "    <tr>\n",
       "      <th>20</th>\n",
       "      <td>1988</td>\n",
       "      <td>Capital Goods</td>\n",
       "      <td>-6.6215***</td>\n",
       "      <td>0.0002</td>\n",
       "      <td>process is trend/break stationary</td>\n",
       "      <td>2010-09-02</td>\n",
       "      <td>2017-06-29</td>\n",
       "      <td>2492</td>\n",
       "      <td>34.5626</td>\n",
       "      <td>-1411</td>\n",
       "    </tr>\n",
       "    <tr>\n",
       "      <th>...</th>\n",
       "      <td>...</td>\n",
       "      <td>...</td>\n",
       "      <td>...</td>\n",
       "      <td>...</td>\n",
       "      <td>...</td>\n",
       "      <td>...</td>\n",
       "      <td>...</td>\n",
       "      <td>...</td>\n",
       "      <td>...</td>\n",
       "      <td>...</td>\n",
       "    </tr>\n",
       "    <tr>\n",
       "      <th>380</th>\n",
       "      <td>163921</td>\n",
       "      <td>Energy</td>\n",
       "      <td>-6.8601***</td>\n",
       "      <td>0</td>\n",
       "      <td>process is trend/break stationary</td>\n",
       "      <td>2010-07-14</td>\n",
       "      <td>2017-06-30</td>\n",
       "      <td>2543</td>\n",
       "      <td>26.3856</td>\n",
       "      <td>-1819</td>\n",
       "    </tr>\n",
       "    <tr>\n",
       "      <th>381</th>\n",
       "      <td>165264</td>\n",
       "      <td>Financials</td>\n",
       "      <td>-7.7925***</td>\n",
       "      <td>0</td>\n",
       "      <td>process is trend/break stationary</td>\n",
       "      <td>2011-05-16</td>\n",
       "      <td>2017-06-21</td>\n",
       "      <td>2228</td>\n",
       "      <td>19.118</td>\n",
       "      <td>-1168</td>\n",
       "    </tr>\n",
       "    <tr>\n",
       "      <th>382</th>\n",
       "      <td>165675</td>\n",
       "      <td>Technology</td>\n",
       "      <td>-4.8291**</td>\n",
       "      <td>0.0479</td>\n",
       "      <td>process is trend/break stationary</td>\n",
       "      <td>2009-08-19</td>\n",
       "      <td>2017-06-30</td>\n",
       "      <td>2872</td>\n",
       "      <td>37.5454</td>\n",
       "      <td>-819</td>\n",
       "    </tr>\n",
       "    <tr>\n",
       "      <th>383</th>\n",
       "      <td>174130</td>\n",
       "      <td>Communication Services</td>\n",
       "      <td>-4.8401**</td>\n",
       "      <td>0.0467</td>\n",
       "      <td>process is trend/break stationary</td>\n",
       "      <td>2007-06-04</td>\n",
       "      <td>2009-06-01</td>\n",
       "      <td>728</td>\n",
       "      <td>95.4403</td>\n",
       "      <td>-207</td>\n",
       "    </tr>\n",
       "    <tr>\n",
       "      <th>385</th>\n",
       "      <td>174729</td>\n",
       "      <td>Consumer Cyclical</td>\n",
       "      <td>-5.4729***</td>\n",
       "      <td>0.0046</td>\n",
       "      <td>process is trend/break stationary</td>\n",
       "      <td>2009-05-15</td>\n",
       "      <td>2010-04-30</td>\n",
       "      <td>350</td>\n",
       "      <td>67.729</td>\n",
       "      <td>-99</td>\n",
       "    </tr>\n",
       "  </tbody>\n",
       "</table>\n",
       "<p>115 rows × 10 columns</p>\n",
       "</div>"
      ],
      "text/plain": [
       "      gvkey                  sector CDS_ZA_Test_Statistic CDS_pval  \\\n",
       "0      1045           Transporation           -22.1113***        0   \n",
       "13     1704              Technology             -5.2397**   0.0123   \n",
       "15     1794                  Energy             -4.9981**    0.029   \n",
       "16     1913           Capital Goods           -33.7787***        0   \n",
       "20     1988           Capital Goods            -6.6215***   0.0002   \n",
       "..      ...                     ...                   ...      ...   \n",
       "380  163921                  Energy            -6.8601***        0   \n",
       "381  165264              Financials            -7.7925***        0   \n",
       "382  165675              Technology             -4.8291**   0.0479   \n",
       "383  174130  Communication Services             -4.8401**   0.0467   \n",
       "385  174729       Consumer Cyclical            -5.4729***   0.0046   \n",
       "\n",
       "                               Outcome date_start   date_end length_days  \\\n",
       "0    process is trend/break stationary 2009-09-24 2014-05-30        1709   \n",
       "13   process is trend/break stationary 2011-06-01 2017-06-15        2206   \n",
       "15   process is trend/break stationary 2011-06-02 2016-08-31        1917   \n",
       "16   process is trend/break stationary 2007-01-16 2017-06-29        3817   \n",
       "20   process is trend/break stationary 2010-09-02 2017-06-29        2492   \n",
       "..                                 ...        ...        ...         ...   \n",
       "380  process is trend/break stationary 2010-07-14 2017-06-30        2543   \n",
       "381  process is trend/break stationary 2011-05-16 2017-06-21        2228   \n",
       "382  process is trend/break stationary 2009-08-19 2017-06-30        2872   \n",
       "383  process is trend/break stationary 2007-06-04 2009-06-01         728   \n",
       "385  process is trend/break stationary 2009-05-15 2010-04-30         350   \n",
       "\n",
       "     std_dev size_dif  \n",
       "0    2014.14    -1163  \n",
       "13   16.6373    -1585  \n",
       "15   56.1296    -1233  \n",
       "16   29.8273    -2779  \n",
       "20   34.5626    -1411  \n",
       "..       ...      ...  \n",
       "380  26.3856    -1819  \n",
       "381   19.118    -1168  \n",
       "382  37.5454     -819  \n",
       "383  95.4403     -207  \n",
       "385   67.729      -99  \n",
       "\n",
       "[115 rows x 10 columns]"
      ]
     },
     "execution_count": 8,
     "metadata": {},
     "output_type": "execute_result"
    }
   ],
   "source": [
    "za_results_trendbreak_stat = df_za_results.loc[df_za_results.Outcome=='process is trend/break stationary']\n",
    "za_results_trendbreak_stat"
   ]
  },
  {
   "cell_type": "code",
   "execution_count": 9,
   "metadata": {},
   "outputs": [
    {
     "data": {
      "text/plain": [
       "115"
      ]
     },
     "execution_count": 9,
     "metadata": {},
     "output_type": "execute_result"
    }
   ],
   "source": [
    "len(za_results_trendbreak_stat)"
   ]
  },
  {
   "cell_type": "code",
   "execution_count": 10,
   "metadata": {},
   "outputs": [
    {
     "data": {
      "text/html": [
       "<div>\n",
       "<style scoped>\n",
       "    .dataframe tbody tr th:only-of-type {\n",
       "        vertical-align: middle;\n",
       "    }\n",
       "\n",
       "    .dataframe tbody tr th {\n",
       "        vertical-align: top;\n",
       "    }\n",
       "\n",
       "    .dataframe thead th {\n",
       "        text-align: right;\n",
       "    }\n",
       "</style>\n",
       "<table border=\"1\" class=\"dataframe\">\n",
       "  <thead>\n",
       "    <tr style=\"text-align: right;\">\n",
       "      <th></th>\n",
       "      <th>gvkey</th>\n",
       "      <th>sector</th>\n",
       "      <th>CDS_ZA_Test_Statistic</th>\n",
       "      <th>CDS_pval</th>\n",
       "      <th>Outcome</th>\n",
       "      <th>date_start</th>\n",
       "      <th>date_end</th>\n",
       "      <th>length_days</th>\n",
       "      <th>std_dev</th>\n",
       "      <th>size_dif</th>\n",
       "    </tr>\n",
       "  </thead>\n",
       "  <tbody>\n",
       "    <tr>\n",
       "      <th>1</th>\n",
       "      <td>1078</td>\n",
       "      <td>Health Care</td>\n",
       "      <td>-3.2055</td>\n",
       "      <td>0.838</td>\n",
       "      <td>unit root &amp; one structural break</td>\n",
       "      <td>2008-03-17</td>\n",
       "      <td>2010-09-30</td>\n",
       "      <td>927</td>\n",
       "      <td>22.7526</td>\n",
       "      <td>-307</td>\n",
       "    </tr>\n",
       "    <tr>\n",
       "      <th>2</th>\n",
       "      <td>1161</td>\n",
       "      <td>Technology</td>\n",
       "      <td>-2.5922</td>\n",
       "      <td>0.9788</td>\n",
       "      <td>unit root &amp; one structural break</td>\n",
       "      <td>2008-04-10</td>\n",
       "      <td>2017-06-30</td>\n",
       "      <td>3368</td>\n",
       "      <td>395.927</td>\n",
       "      <td>-1483</td>\n",
       "    </tr>\n",
       "    <tr>\n",
       "      <th>3</th>\n",
       "      <td>1209</td>\n",
       "      <td>Materials</td>\n",
       "      <td>-3.4523</td>\n",
       "      <td>0.7097</td>\n",
       "      <td>unit root &amp; one structural break</td>\n",
       "      <td>2011-07-28</td>\n",
       "      <td>2017-06-30</td>\n",
       "      <td>2164</td>\n",
       "      <td>12.6212</td>\n",
       "      <td>-693</td>\n",
       "    </tr>\n",
       "    <tr>\n",
       "      <th>4</th>\n",
       "      <td>1300</td>\n",
       "      <td>Capital Goods</td>\n",
       "      <td>-4.1703</td>\n",
       "      <td>0.2542</td>\n",
       "      <td>unit root &amp; one structural break</td>\n",
       "      <td>2007-12-14</td>\n",
       "      <td>2017-03-01</td>\n",
       "      <td>3365</td>\n",
       "      <td>19.0918</td>\n",
       "      <td>-991</td>\n",
       "    </tr>\n",
       "    <tr>\n",
       "      <th>5</th>\n",
       "      <td>1356</td>\n",
       "      <td>Materials</td>\n",
       "      <td>-3.1069</td>\n",
       "      <td>0.8761</td>\n",
       "      <td>unit root &amp; one structural break</td>\n",
       "      <td>2007-01-16</td>\n",
       "      <td>2016-10-31</td>\n",
       "      <td>3576</td>\n",
       "      <td>162.281</td>\n",
       "      <td>-1252</td>\n",
       "    </tr>\n",
       "    <tr>\n",
       "      <th>...</th>\n",
       "      <td>...</td>\n",
       "      <td>...</td>\n",
       "      <td>...</td>\n",
       "      <td>...</td>\n",
       "      <td>...</td>\n",
       "      <td>...</td>\n",
       "      <td>...</td>\n",
       "      <td>...</td>\n",
       "      <td>...</td>\n",
       "      <td>...</td>\n",
       "    </tr>\n",
       "    <tr>\n",
       "      <th>384</th>\n",
       "      <td>174490</td>\n",
       "      <td>Communication Services</td>\n",
       "      <td>-4.6371*</td>\n",
       "      <td>0.0839</td>\n",
       "      <td>unit root &amp; one structural break</td>\n",
       "      <td>2010-08-02</td>\n",
       "      <td>2013-08-30</td>\n",
       "      <td>1124</td>\n",
       "      <td>82.4387</td>\n",
       "      <td>-319</td>\n",
       "    </tr>\n",
       "    <tr>\n",
       "      <th>386</th>\n",
       "      <td>175263</td>\n",
       "      <td>Consumer Cyclical</td>\n",
       "      <td>-2.102</td>\n",
       "      <td>0.9953</td>\n",
       "      <td>unit root &amp; one structural break</td>\n",
       "      <td>2009-02-23</td>\n",
       "      <td>2010-02-26</td>\n",
       "      <td>368</td>\n",
       "      <td>29.0927</td>\n",
       "      <td>-103</td>\n",
       "    </tr>\n",
       "    <tr>\n",
       "      <th>387</th>\n",
       "      <td>176404</td>\n",
       "      <td>Communication Services</td>\n",
       "      <td>-3.7509</td>\n",
       "      <td>0.5127</td>\n",
       "      <td>unit root &amp; one structural break</td>\n",
       "      <td>2008-01-28</td>\n",
       "      <td>2016-04-29</td>\n",
       "      <td>3014</td>\n",
       "      <td>59.4247</td>\n",
       "      <td>-922</td>\n",
       "    </tr>\n",
       "    <tr>\n",
       "      <th>388</th>\n",
       "      <td>176760</td>\n",
       "      <td>Materials</td>\n",
       "      <td>-4.1946</td>\n",
       "      <td>0.2416</td>\n",
       "      <td>unit root &amp; one structural break</td>\n",
       "      <td>2007-12-03</td>\n",
       "      <td>2017-06-29</td>\n",
       "      <td>3496</td>\n",
       "      <td>187.067</td>\n",
       "      <td>-1736</td>\n",
       "    </tr>\n",
       "    <tr>\n",
       "      <th>390</th>\n",
       "      <td>179700</td>\n",
       "      <td>Consumer Staples</td>\n",
       "      <td>-4.3826</td>\n",
       "      <td>0.1586</td>\n",
       "      <td>unit root &amp; one structural break</td>\n",
       "      <td>2011-06-21</td>\n",
       "      <td>2017-06-30</td>\n",
       "      <td>2201</td>\n",
       "      <td>1.7332</td>\n",
       "      <td>-703</td>\n",
       "    </tr>\n",
       "  </tbody>\n",
       "</table>\n",
       "<p>260 rows × 10 columns</p>\n",
       "</div>"
      ],
      "text/plain": [
       "      gvkey                  sector CDS_ZA_Test_Statistic CDS_pval  \\\n",
       "1      1078             Health Care              -3.2055     0.838   \n",
       "2      1161              Technology              -2.5922    0.9788   \n",
       "3      1209               Materials              -3.4523    0.7097   \n",
       "4      1300           Capital Goods              -4.1703    0.2542   \n",
       "5      1356               Materials              -3.1069    0.8761   \n",
       "..      ...                     ...                   ...      ...   \n",
       "384  174490  Communication Services              -4.6371*   0.0839   \n",
       "386  175263       Consumer Cyclical               -2.102    0.9953   \n",
       "387  176404  Communication Services              -3.7509    0.5127   \n",
       "388  176760               Materials              -4.1946    0.2416   \n",
       "390  179700        Consumer Staples              -4.3826    0.1586   \n",
       "\n",
       "                              Outcome date_start   date_end length_days  \\\n",
       "1    unit root & one structural break 2008-03-17 2010-09-30         927   \n",
       "2    unit root & one structural break 2008-04-10 2017-06-30        3368   \n",
       "3    unit root & one structural break 2011-07-28 2017-06-30        2164   \n",
       "4    unit root & one structural break 2007-12-14 2017-03-01        3365   \n",
       "5    unit root & one structural break 2007-01-16 2016-10-31        3576   \n",
       "..                                ...        ...        ...         ...   \n",
       "384  unit root & one structural break 2010-08-02 2013-08-30        1124   \n",
       "386  unit root & one structural break 2009-02-23 2010-02-26         368   \n",
       "387  unit root & one structural break 2008-01-28 2016-04-29        3014   \n",
       "388  unit root & one structural break 2007-12-03 2017-06-29        3496   \n",
       "390  unit root & one structural break 2011-06-21 2017-06-30        2201   \n",
       "\n",
       "     std_dev size_dif  \n",
       "1    22.7526     -307  \n",
       "2    395.927    -1483  \n",
       "3    12.6212     -693  \n",
       "4    19.0918     -991  \n",
       "5    162.281    -1252  \n",
       "..       ...      ...  \n",
       "384  82.4387     -319  \n",
       "386  29.0927     -103  \n",
       "387  59.4247     -922  \n",
       "388  187.067    -1736  \n",
       "390   1.7332     -703  \n",
       "\n",
       "[260 rows x 10 columns]"
      ]
     },
     "execution_count": 10,
     "metadata": {},
     "output_type": "execute_result"
    }
   ],
   "source": [
    "za_results_unitroot_sbreak = df_za_results.loc[df_za_results.Outcome=='unit root & one structural break']\n",
    "za_results_unitroot_sbreak"
   ]
  },
  {
   "cell_type": "code",
   "execution_count": null,
   "metadata": {},
   "outputs": [],
   "source": []
  },
  {
   "cell_type": "code",
   "execution_count": null,
   "metadata": {},
   "outputs": [],
   "source": []
  },
  {
   "cell_type": "markdown",
   "metadata": {},
   "source": [
    "## SINGLE GVKEY: QUICK VISUALISATION TAB\n",
    "#### Input GVKEY - visualise individual test result & graph CDS to view potential break points"
   ]
  },
  {
   "cell_type": "code",
   "execution_count": 33,
   "metadata": {},
   "outputs": [
    {
     "data": {
      "text/html": [
       "<table class=\"simpletable\">\n",
       "<caption>Zivot-Andrews Results</caption>\n",
       "<tr>\n",
       "  <td>Test Statistic</td>    <td>-4.038</td>\n",
       "</tr>\n",
       "<tr>\n",
       "  <td>P-value</td>            <td>0.125</td>\n",
       "</tr>\n",
       "<tr>\n",
       "  <td>Lags</td>                   <td>2</td>\n",
       "</tr>\n",
       "</table><br/><br/>Trend: Linear Time Trend (No Constant)<br/>Critical Values: -5.03 (1%), -4.41 (5%), -4.14 (10%)<br/>Null Hypothesis: The process contains a unit root with a single structural break.<br/>Alternative Hypothesis: The process is trend and break stationary."
      ],
      "text/plain": [
       "<class 'statsmodels.iolib.summary.Summary'>\n",
       "\"\"\"\n",
       "        Zivot-Andrews Results        \n",
       "=====================================\n",
       "Test Statistic                 -4.038\n",
       "P-value                         0.125\n",
       "Lags                                2\n",
       "-------------------------------------\n",
       "\n",
       "Trend: Linear Time Trend (No Constant)\n",
       "Critical Values: -5.03 (1%), -4.41 (5%), -4.14 (10%)\n",
       "Null Hypothesis: The process contains a unit root with a single structural break.\n",
       "Alternative Hypothesis: The process is trend and break stationary.\n",
       "\"\"\""
      ]
     },
     "execution_count": 33,
     "metadata": {},
     "output_type": "execute_result"
    }
   ],
   "source": [
    "#insert GVKEY, view individual test results\n",
    "\n",
    "gvkey_selection = 1300\n",
    "\n",
    "ZivotAndrews(sorted_alldata_df_final.loc[sorted_alldata_df_final.gvkey==gvkey_selection]['market_cds_spread'], \n",
    "             trend='t',trim=0.15, max_lags=5, method='BIC').summary()"
   ]
  },
  {
   "cell_type": "code",
   "execution_count": 38,
   "metadata": {},
   "outputs": [
    {
     "name": "stdout",
     "output_type": "stream",
     "text": [
      "GVKEY (1300) STANDARD DEVIATION IS:  19.0918\n"
     ]
    }
   ],
   "source": [
    "#view that GVKEY's standard deviation\n",
    "\n",
    "print(\"GVKEY ({}) STANDARD DEVIATION IS: \".format(gvkey_selection),\n",
    "     np.round(sorted_alldata_df_final.loc[sorted_alldata_df_final.gvkey==gvkey_selection]['market_cds_spread'].std(),4))"
   ]
  },
  {
   "cell_type": "code",
   "execution_count": 28,
   "metadata": {},
   "outputs": [
    {
     "name": "stdout",
     "output_type": "stream",
     "text": [
      " COMPANY ==  HONEYWELL INTERNATIONAL INC \n",
      " SECTOR ==   Capital Goods\n"
     ]
    },
    {
     "data": {
      "image/png": "[encoded data removed]",
      "text/plain": [
       "<Figure size 864x648 with 2 Axes>"
      ]
     },
     "metadata": {
      "needs_background": "light"
     },
     "output_type": "display_data"
    }
   ],
   "source": [
    "#insert GVKEY, view evolution of the key's CDS series & annual mean changes\n",
    "gvkey_selection = 1300\n",
    "\n",
    "gvkey_group_df = sorted_alldata_df_final.loc[sorted_alldata_df_final.gvkey==gvkey_selection]\n",
    "print(\" COMPANY == \", gvkey_group_df.company_name.iloc[0], '\\n', \"SECTOR ==  \", gvkey_group_df.sector.iloc[0])\n",
    "\n",
    "fig, (ax1, ax2) = plt.subplots(2, figsize=(12,9))\n",
    "fig.suptitle('Single GVKEY: {} CDS Spread Subplots'.format(gvkey_selection))\n",
    "\n",
    "gvkey_group_df.groupby(['year_index'])['market_cds_spread'].plot(ax=ax1)\n",
    "ax1.set_ylabel('CDS Spread')\n",
    "ax1.axes.get_xaxis().set_visible(False)\n",
    "\n",
    "\n",
    "gvkey_group_df.groupby(['year_index']).mean()['market_cds_spread'].plot(ax=ax2);\n",
    "ax2.set_ylabel('Annual Mean CDS Spread')\n",
    "ax2.set_xlabel('Year');\n",
    "                       "
   ]
  },
  {
   "cell_type": "code",
   "execution_count": null,
   "metadata": {},
   "outputs": [],
   "source": []
  },
  {
   "cell_type": "code",
   "execution_count": null,
   "metadata": {},
   "outputs": [],
   "source": []
  },
  {
   "cell_type": "markdown",
   "metadata": {},
   "source": [
    "## CREATE LOOP WITH THE (3) different ZA-tests? (TABLE) with ADF? "
   ]
  },
  {
   "cell_type": "code",
   "execution_count": null,
   "metadata": {},
   "outputs": [],
   "source": []
  },
  {
   "cell_type": "code",
   "execution_count": null,
   "metadata": {},
   "outputs": [],
   "source": []
  },
  {
   "cell_type": "code",
   "execution_count": null,
   "metadata": {},
   "outputs": [],
   "source": []
  },
  {
   "cell_type": "code",
   "execution_count": null,
   "metadata": {},
   "outputs": [],
   "source": []
  },
  {
   "cell_type": "code",
   "execution_count": null,
   "metadata": {},
   "outputs": [],
   "source": []
  },
  {
   "cell_type": "code",
   "execution_count": null,
   "metadata": {},
   "outputs": [],
   "source": []
  },
  {
   "cell_type": "markdown",
   "metadata": {},
   "source": [
    "## PROBLEM GVKEYS"
   ]
  },
  {
   "cell_type": "code",
   "execution_count": 30,
   "metadata": {},
   "outputs": [
    {
     "data": {
      "text/html": [
       "<div>\n",
       "<style scoped>\n",
       "    .dataframe tbody tr th:only-of-type {\n",
       "        vertical-align: middle;\n",
       "    }\n",
       "\n",
       "    .dataframe tbody tr th {\n",
       "        vertical-align: top;\n",
       "    }\n",
       "\n",
       "    .dataframe thead th {\n",
       "        text-align: right;\n",
       "    }\n",
       "</style>\n",
       "<table border=\"1\" class=\"dataframe\">\n",
       "  <thead>\n",
       "    <tr style=\"text-align: right;\">\n",
       "      <th></th>\n",
       "      <th>gvkey</th>\n",
       "      <th>first_obs_date</th>\n",
       "      <th>last_obs_date</th>\n",
       "      <th>length_days</th>\n",
       "      <th>size_dif</th>\n",
       "      <th>group_cds_stddev</th>\n",
       "      <th>problem_sector</th>\n",
       "    </tr>\n",
       "  </thead>\n",
       "  <tbody>\n",
       "    <tr>\n",
       "      <th>0</th>\n",
       "      <td>5671</td>\n",
       "      <td>2009-06-15</td>\n",
       "      <td>2010-09-30</td>\n",
       "      <td>472</td>\n",
       "      <td>-133</td>\n",
       "      <td>3.70028e-13</td>\n",
       "      <td>Consumer Cyclical</td>\n",
       "    </tr>\n",
       "    <tr>\n",
       "      <th>1</th>\n",
       "      <td>5862</td>\n",
       "      <td>2016-04-01</td>\n",
       "      <td>2017-06-28</td>\n",
       "      <td>453</td>\n",
       "      <td>-129</td>\n",
       "      <td>2.9889e-13</td>\n",
       "      <td>Materials</td>\n",
       "    </tr>\n",
       "    <tr>\n",
       "      <th>2</th>\n",
       "      <td>6653</td>\n",
       "      <td>2013-05-21</td>\n",
       "      <td>2015-07-15</td>\n",
       "      <td>785</td>\n",
       "      <td>-223</td>\n",
       "      <td>0</td>\n",
       "      <td>Financials</td>\n",
       "    </tr>\n",
       "    <tr>\n",
       "      <th>3</th>\n",
       "      <td>7991</td>\n",
       "      <td>2008-01-16</td>\n",
       "      <td>2010-09-30</td>\n",
       "      <td>988</td>\n",
       "      <td>-378</td>\n",
       "      <td>3.6623e-13</td>\n",
       "      <td>Capital Goods</td>\n",
       "    </tr>\n",
       "    <tr>\n",
       "      <th>4</th>\n",
       "      <td>8551</td>\n",
       "      <td>2016-12-15</td>\n",
       "      <td>2017-06-30</td>\n",
       "      <td>197</td>\n",
       "      <td>-55</td>\n",
       "      <td>0.000236513</td>\n",
       "      <td>Consumer Cyclical</td>\n",
       "    </tr>\n",
       "    <tr>\n",
       "      <th>5</th>\n",
       "      <td>10187</td>\n",
       "      <td>2008-02-04</td>\n",
       "      <td>2008-11-05</td>\n",
       "      <td>275</td>\n",
       "      <td>-77</td>\n",
       "      <td>2.67129e-14</td>\n",
       "      <td>Financials</td>\n",
       "    </tr>\n",
       "    <tr>\n",
       "      <th>6</th>\n",
       "      <td>10443</td>\n",
       "      <td>2008-11-17</td>\n",
       "      <td>2010-09-30</td>\n",
       "      <td>682</td>\n",
       "      <td>-193</td>\n",
       "      <td>0</td>\n",
       "      <td>Consumer Cyclical</td>\n",
       "    </tr>\n",
       "    <tr>\n",
       "      <th>7</th>\n",
       "      <td>12459</td>\n",
       "      <td>2016-09-15</td>\n",
       "      <td>2017-06-30</td>\n",
       "      <td>288</td>\n",
       "      <td>-81</td>\n",
       "      <td>4.27359e-13</td>\n",
       "      <td>Consumer Cyclical</td>\n",
       "    </tr>\n",
       "    <tr>\n",
       "      <th>8</th>\n",
       "      <td>25180</td>\n",
       "      <td>2015-12-02</td>\n",
       "      <td>2017-06-29</td>\n",
       "      <td>575</td>\n",
       "      <td>-163</td>\n",
       "      <td>8.53688e-13</td>\n",
       "      <td>Capital Goods</td>\n",
       "    </tr>\n",
       "    <tr>\n",
       "      <th>9</th>\n",
       "      <td>25495</td>\n",
       "      <td>2012-04-16</td>\n",
       "      <td>2017-06-30</td>\n",
       "      <td>1901</td>\n",
       "      <td>-692</td>\n",
       "      <td>2.50215e-12</td>\n",
       "      <td>Utilities</td>\n",
       "    </tr>\n",
       "    <tr>\n",
       "      <th>10</th>\n",
       "      <td>30219</td>\n",
       "      <td>2007-11-02</td>\n",
       "      <td>2009-10-30</td>\n",
       "      <td>728</td>\n",
       "      <td>-337</td>\n",
       "      <td>6.54537e-13</td>\n",
       "      <td>Consumer Cyclical</td>\n",
       "    </tr>\n",
       "    <tr>\n",
       "      <th>11</th>\n",
       "      <td>30671</td>\n",
       "      <td>2012-02-10</td>\n",
       "      <td>2017-06-30</td>\n",
       "      <td>1967</td>\n",
       "      <td>-1712</td>\n",
       "      <td>0</td>\n",
       "      <td>Capital Goods</td>\n",
       "    </tr>\n",
       "    <tr>\n",
       "      <th>12</th>\n",
       "      <td>64768</td>\n",
       "      <td>2012-11-26</td>\n",
       "      <td>2017-06-30</td>\n",
       "      <td>1677</td>\n",
       "      <td>-738</td>\n",
       "      <td>0</td>\n",
       "      <td>Consumer Cyclical</td>\n",
       "    </tr>\n",
       "    <tr>\n",
       "      <th>13</th>\n",
       "      <td>64891</td>\n",
       "      <td>2013-09-24</td>\n",
       "      <td>2016-08-18</td>\n",
       "      <td>1059</td>\n",
       "      <td>-529</td>\n",
       "      <td>6.82765e-13</td>\n",
       "      <td>Consumer Cyclical</td>\n",
       "    </tr>\n",
       "    <tr>\n",
       "      <th>14</th>\n",
       "      <td>137024</td>\n",
       "      <td>2010-04-16</td>\n",
       "      <td>2010-09-30</td>\n",
       "      <td>167</td>\n",
       "      <td>-47</td>\n",
       "      <td>1.42704e-13</td>\n",
       "      <td>Energy</td>\n",
       "    </tr>\n",
       "    <tr>\n",
       "      <th>15</th>\n",
       "      <td>179657</td>\n",
       "      <td>2014-07-16</td>\n",
       "      <td>2016-07-15</td>\n",
       "      <td>730</td>\n",
       "      <td>-207</td>\n",
       "      <td>1.55047e-12</td>\n",
       "      <td>Capital Goods</td>\n",
       "    </tr>\n",
       "  </tbody>\n",
       "</table>\n",
       "</div>"
      ],
      "text/plain": [
       "     gvkey first_obs_date last_obs_date length_days size_dif group_cds_stddev  \\\n",
       "0     5671     2009-06-15    2010-09-30         472     -133      3.70028e-13   \n",
       "1     5862     2016-04-01    2017-06-28         453     -129       2.9889e-13   \n",
       "2     6653     2013-05-21    2015-07-15         785     -223                0   \n",
       "3     7991     2008-01-16    2010-09-30         988     -378       3.6623e-13   \n",
       "4     8551     2016-12-15    2017-06-30         197      -55      0.000236513   \n",
       "5    10187     2008-02-04    2008-11-05         275      -77      2.67129e-14   \n",
       "6    10443     2008-11-17    2010-09-30         682     -193                0   \n",
       "7    12459     2016-09-15    2017-06-30         288      -81      4.27359e-13   \n",
       "8    25180     2015-12-02    2017-06-29         575     -163      8.53688e-13   \n",
       "9    25495     2012-04-16    2017-06-30        1901     -692      2.50215e-12   \n",
       "10   30219     2007-11-02    2009-10-30         728     -337      6.54537e-13   \n",
       "11   30671     2012-02-10    2017-06-30        1967    -1712                0   \n",
       "12   64768     2012-11-26    2017-06-30        1677     -738                0   \n",
       "13   64891     2013-09-24    2016-08-18        1059     -529      6.82765e-13   \n",
       "14  137024     2010-04-16    2010-09-30         167      -47      1.42704e-13   \n",
       "15  179657     2014-07-16    2016-07-15         730     -207      1.55047e-12   \n",
       "\n",
       "       problem_sector  \n",
       "0   Consumer Cyclical  \n",
       "1           Materials  \n",
       "2          Financials  \n",
       "3       Capital Goods  \n",
       "4   Consumer Cyclical  \n",
       "5          Financials  \n",
       "6   Consumer Cyclical  \n",
       "7   Consumer Cyclical  \n",
       "8       Capital Goods  \n",
       "9           Utilities  \n",
       "10  Consumer Cyclical  \n",
       "11      Capital Goods  \n",
       "12  Consumer Cyclical  \n",
       "13  Consumer Cyclical  \n",
       "14             Energy  \n",
       "15      Capital Goods  "
      ]
     },
     "execution_count": 30,
     "metadata": {},
     "output_type": "execute_result"
    }
   ],
   "source": [
    "za_problem_df\n",
    "#all have nearly == 0 STD DEV"
   ]
  },
  {
   "cell_type": "code",
   "execution_count": null,
   "metadata": {},
   "outputs": [],
   "source": [
    "#what is the distribution of sectors in the total DF? \n",
    "\n",
    "sorted_alldata_df_final.groupby(['year_index','sector']).median()['cds_bond_basis'].unstack()"
   ]
  },
  {
   "cell_type": "code",
   "execution_count": null,
   "metadata": {},
   "outputs": [],
   "source": []
  },
  {
   "cell_type": "code",
   "execution_count": 98,
   "metadata": {},
   "outputs": [
    {
     "data": {
      "text/plain": [
       "sector         gvkey \n",
       "Capital Goods  1300      2374\n",
       "               1913      1038\n",
       "               1988      1081\n",
       "               2285       929\n",
       "               2393       523\n",
       "                         ... \n",
       "Utilities      25495     1209\n",
       "               25627     1876\n",
       "               65092     1731\n",
       "               135990    1932\n",
       "               140977     267\n",
       "Length: 388, dtype: int64"
      ]
     },
     "execution_count": 98,
     "metadata": {},
     "output_type": "execute_result"
    }
   ],
   "source": [
    "sorted_alldata_df_final.groupby(['sector','gvkey']).size()"
   ]
  },
  {
   "cell_type": "code",
   "execution_count": 93,
   "metadata": {},
   "outputs": [
    {
     "data": {
      "text/plain": [
       "sector\n",
       "Capital Goods             40115\n",
       "Communication Services    15265\n",
       "Consumer Cyclical         75948\n",
       "Consumer Staples          66417\n",
       "Energy                    42617\n",
       "Financials                50476\n",
       "Health Care               31186\n",
       "Materials                 52417\n",
       "Technology                33902\n",
       "Transporation             18482\n",
       "Utilities                 31422\n",
       "dtype: int64"
      ]
     },
     "execution_count": 93,
     "metadata": {},
     "output_type": "execute_result"
    }
   ],
   "source": [
    "#check earlier code for improvement (firm size by sector? )\n",
    "sorted_alldata_df_final.groupby(['sector']).size()"
   ]
  },
  {
   "cell_type": "code",
   "execution_count": null,
   "metadata": {},
   "outputs": [],
   "source": []
  },
  {
   "cell_type": "code",
   "execution_count": 9,
   "metadata": {},
   "outputs": [
    {
     "data": {
      "text/plain": [
       "2.9888955478472275e-13"
      ]
     },
     "execution_count": 9,
     "metadata": {},
     "output_type": "execute_result"
    }
   ],
   "source": [
    "sorted_alldata_df_final.loc[sorted_alldata_df_final.gvkey==5862]['market_cds_spread'].std()"
   ]
  },
  {
   "cell_type": "code",
   "execution_count": null,
   "metadata": {},
   "outputs": [],
   "source": []
  },
  {
   "cell_type": "code",
   "execution_count": 112,
   "metadata": {},
   "outputs": [
    {
     "data": {
      "text/plain": [
       "gvkey\n",
       "1045       546\n",
       "1078       620\n",
       "1161      1885\n",
       "1209      1471\n",
       "1300      2374\n",
       "          ... \n",
       "175263     265\n",
       "176404    2092\n",
       "176760    1760\n",
       "179657     523\n",
       "179700    1498\n",
       "Length: 391, dtype: int64"
      ]
     },
     "execution_count": 112,
     "metadata": {},
     "output_type": "execute_result"
    }
   ],
   "source": [
    "sorted_alldata_df_final.groupby('gvkey').size()"
   ]
  },
  {
   "cell_type": "code",
   "execution_count": null,
   "metadata": {},
   "outputs": [],
   "source": []
  },
  {
   "cell_type": "code",
   "execution_count": null,
   "metadata": {},
   "outputs": [],
   "source": []
  },
  {
   "cell_type": "code",
   "execution_count": null,
   "metadata": {},
   "outputs": [],
   "source": []
  },
  {
   "cell_type": "code",
   "execution_count": null,
   "metadata": {},
   "outputs": [],
   "source": []
  },
  {
   "cell_type": "code",
   "execution_count": null,
   "metadata": {},
   "outputs": [],
   "source": []
  },
  {
   "cell_type": "code",
   "execution_count": null,
   "metadata": {},
   "outputs": [],
   "source": []
  },
  {
   "cell_type": "code",
   "execution_count": null,
   "metadata": {},
   "outputs": [],
   "source": []
  },
  {
   "cell_type": "code",
   "execution_count": null,
   "metadata": {},
   "outputs": [],
   "source": []
  },
  {
   "cell_type": "code",
   "execution_count": null,
   "metadata": {},
   "outputs": [],
   "source": []
  },
  {
   "cell_type": "code",
   "execution_count": null,
   "metadata": {},
   "outputs": [],
   "source": []
  },
  {
   "cell_type": "code",
   "execution_count": null,
   "metadata": {},
   "outputs": [],
   "source": []
  },
  {
   "cell_type": "code",
   "execution_count": null,
   "metadata": {},
   "outputs": [],
   "source": []
  },
  {
   "cell_type": "code",
   "execution_count": null,
   "metadata": {},
   "outputs": [],
   "source": []
  },
  {
   "cell_type": "markdown",
   "metadata": {},
   "source": [
    "# REGRESSIONS\n",
    "\n",
    "## VAR MODELS / GRANGER-CAUSALITY TEST\n",
    "* VAR/GCT in-levels (stationary series)\n",
    "* VAR/GCT in-differences (unit-root series')\n",
    "    * GCT test in the VAR framework: to be compared (authenticed by) the VECM framework\n",
    "\n",
    "* do some sort of impulse response check? (See Econometrics with python / see the online docs)?\n",
    "\n",
    "\n",
    "\n",
    "* VECM MODELING: \n",
    "    * (JOHANSEN?) Cointegration Rank + appropriate LAG length (BIC) from 'vecm_model_order'\n",
    "        * Could try the: Phillips_Ouliaris cointegration framework? from arch.readthedocs\n",
    "    * Can apply wald_test among the variables (instantaneous causality) + residuals_autocorrelations (test_whiteness)\n",
    "    \n",
    "* VECM MODEL + the price discovery measures \n",
    "\n",
    "\n",
    "* MS-VECM MODEL + regime  switching coefficients etc. \n",
    "\n",
    "\n",
    "\n",
    "#### Reapply process to: \n",
    "* Apply to weekly series? \n",
    "* ADF test / Zivot-Andrews >> VAR/GCT (overwhelming non-stat?) >> VECM > MS-VECM"
   ]
  },
  {
   "cell_type": "code",
   "execution_count": null,
   "metadata": {},
   "outputs": [],
   "source": []
  },
  {
   "cell_type": "code",
   "execution_count": null,
   "metadata": {},
   "outputs": [],
   "source": []
  },
  {
   "cell_type": "code",
   "execution_count": null,
   "metadata": {},
   "outputs": [],
   "source": []
  }
 ],
 "metadata": {
  "kernelspec": {
   "display_name": "Python 3",
   "language": "python",
   "name": "python3"
  },
  "language_info": {
   "codemirror_mode": {
    "name": "ipython",
    "version": 3
   },
   "file_extension": ".py",
   "mimetype": "text/x-python",
   "name": "python",
   "nbconvert_exporter": "python",
   "pygments_lexer": "ipython3",
   "version": "3.7.6"
  }
 },
 "nbformat": 4,
 "nbformat_minor": 4
}
