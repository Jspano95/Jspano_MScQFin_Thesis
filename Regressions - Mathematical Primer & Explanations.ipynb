{
 "cells": [
  {
   "cell_type": "code",
   "execution_count": null,
   "metadata": {},
   "outputs": [],
   "source": [
    "#import packages\n"
   ]
  },
  {
   "cell_type": "code",
   "execution_count": null,
   "metadata": {},
   "outputs": [],
   "source": [
    "#system packages\n",
    "\n",
    "import sys\n",
    "import warnings\n",
    "import os \n",
    "import traceback #obs? \n",
    "if not sys.warnoptions:\n",
    "    warnings.filterwarnings(\"once\")  "
   ]
  },
  {
   "cell_type": "code",
   "execution_count": null,
   "metadata": {},
   "outputs": [],
   "source": [
    "#base packages:\n",
    "\n",
    "import matplotlib.pyplot as plt\n",
    "import numpy as np\n",
    "import pandas as pd\n",
    "import scipy as sp\n",
    "from scipy import stats, integrate, optimize\n",
    "import math\n",
    "import datetime\n",
    "from datetime import date, timedelta"
   ]
  },
  {
   "cell_type": "code",
   "execution_count": null,
   "metadata": {},
   "outputs": [],
   "source": [
    "#optional packages\n",
    "\n",
    "from statsmodels.tsa.base.datetools import dates_from_str\n",
    "from IPython.display import display\n",
    "pd.options.display.max_columns = 50  #allow DF.head to show all columns in notebook\n",
    "from see import see\n",
    "from tabulate import tabulate \n",
    "#from io import StringIO"
   ]
  },
  {
   "cell_type": "code",
   "execution_count": null,
   "metadata": {},
   "outputs": [],
   "source": [
    "#packages for the econometrics / models\n",
    "\n",
    "from statsmodels.tsa.vector_ar import vecm\n",
    "from statsmodels.tsa.stattools import adfuller\n",
    "from arch.unitroot import DFGLS, ADF, KPSS, PhillipsPerron, ZivotAndrews\n",
    "from arch.unitroot.cointegration import engle_granger, phillips_ouliaris\n",
    "import statsmodels.formula.api as smf  #VAR package contained within \n",
    "import statsmodels.tsa.api as smt\n",
    "\n",
    "#import the functionality for detecting mathematical errors (E.G. types of linear algebra issues etc.)\n",
    "from statsmodels.tools.sm_exceptions import ValueWarning\n",
    "from arch.utility.exceptions import (\n",
    "    InfeasibleTestException,\n",
    "    InvalidLengthWarning,\n",
    "    invalid_length_doc)\n",
    "warnings.filterwarnings(\"once\", category = ValueWarning)"
   ]
  },
  {
   "cell_type": "code",
   "execution_count": null,
   "metadata": {},
   "outputs": [],
   "source": []
  },
  {
   "cell_type": "code",
   "execution_count": null,
   "metadata": {},
   "outputs": [],
   "source": []
  },
  {
   "cell_type": "code",
   "execution_count": null,
   "metadata": {},
   "outputs": [],
   "source": []
  },
  {
   "cell_type": "code",
   "execution_count": null,
   "metadata": {},
   "outputs": [],
   "source": []
  },
  {
   "cell_type": "code",
   "execution_count": null,
   "metadata": {},
   "outputs": [],
   "source": [
    "\n",
    "#select KEY\n",
    "gvkey_1408 = sorted_alldata_df_final.loc[sorted_alldata_df_final.gvkey==1408]\n",
    "\n",
    "gvkey_number = 1408\n",
    "gvkey_frame = gvkey_1408\n",
    "\n",
    "print(\"JOHANSENS COINT TEST with individual GVKEY NUMBER: \" + str(gvkey_number))\n",
    "\n",
    "cds = gvkey_frame['market_cds_spread']\n",
    "pecds = gvkey_frame['pecds']\n",
    "data = pd.DataFrame(data=(cds, pecds)).T\n",
    "#data = np.column_stack((cds, pecds))\n",
    "\n",
    "model = vecm.select_order(data, maxlags=5)\n",
    "optimal_lag_length = model.bic\n",
    "    \n",
    "vecm_cointeg_rank = vecm.select_coint_rank(data, det_order =1, k_ar_diff = optimal_lag_length, \n",
    "                                                  method='trace', signif=0.05)\n",
    "        \n",
    "print(vecm_cointeg_rank.summary())\n",
    "print(\"Number of Cointegrating relationships:\", vecm_cointeg_rank.rank)"
   ]
  },
  {
   "cell_type": "code",
   "execution_count": null,
   "metadata": {},
   "outputs": [],
   "source": []
  },
  {
   "cell_type": "code",
   "execution_count": null,
   "metadata": {},
   "outputs": [],
   "source": []
  },
  {
   "cell_type": "code",
   "execution_count": null,
   "metadata": {},
   "outputs": [],
   "source": []
  },
  {
   "cell_type": "code",
   "execution_count": null,
   "metadata": {},
   "outputs": [],
   "source": []
  },
  {
   "cell_type": "code",
   "execution_count": null,
   "metadata": {},
   "outputs": [],
   "source": []
  },
  {
   "cell_type": "code",
   "execution_count": null,
   "metadata": {},
   "outputs": [],
   "source": []
  },
  {
   "cell_type": "code",
   "execution_count": null,
   "metadata": {},
   "outputs": [],
   "source": []
  },
  {
   "cell_type": "code",
   "execution_count": null,
   "metadata": {},
   "outputs": [],
   "source": []
  },
  {
   "cell_type": "markdown",
   "metadata": {},
   "source": [
    "# VAR REGRESSION"
   ]
  },
  {
   "cell_type": "code",
   "execution_count": null,
   "metadata": {},
   "outputs": [],
   "source": [
    "df_gvkey_150937 = df_basis_coupons_month.loc[df_basis_coupons_month.gvkey==150937.0]\n",
    "\n",
    "#specify individual series\n",
    "cds_150937 = df_gvkey_150937['market_cds_spread']\n",
    "pecds_150937 = df_gvkey_150937['pecds']      \n",
    "\n",
    "#alternatively, some methods require that a DF be used to maintain column labels/references\n",
    "gvkey_150937_solved = pd.DataFrame(data=(cds_150937, pecds_150937)).T\n",
    "\n",
    "#VAR_MODEL: GVKEY==2136\n",
    "var_model_gvkey_150937 = smt.VAR(gvkey_150937_solved)\n",
    "res_model_gvkey_150937 = var_model_gvkey_150937.fit(maxlags=var_model_gvkey_150937.select_order(maxlags=5).bic)\n",
    "print(\"max_lags:\", var_model_gvkey_150937.select_order().bic)\n",
    "print(res_model_gvkey_150937.summary())"
   ]
  },
  {
   "cell_type": "code",
   "execution_count": null,
   "metadata": {},
   "outputs": [],
   "source": []
  },
  {
   "cell_type": "code",
   "execution_count": null,
   "metadata": {},
   "outputs": [],
   "source": []
  },
  {
   "cell_type": "code",
   "execution_count": null,
   "metadata": {},
   "outputs": [],
   "source": []
  },
  {
   "cell_type": "code",
   "execution_count": null,
   "metadata": {},
   "outputs": [],
   "source": []
  },
  {
   "cell_type": "code",
   "execution_count": null,
   "metadata": {},
   "outputs": [],
   "source": []
  },
  {
   "cell_type": "code",
   "execution_count": null,
   "metadata": {},
   "outputs": [],
   "source": [
    "#Original VECM base: CDS/PECDS\n",
    "\n",
    "gvkey_number = 1408\n",
    "gvkey_frame = gvkey_1408\n",
    "#coint_rels = 0\n",
    "\n",
    "print(\"VECM MODEL OF GVKEY: \" + str(gvkey_number))\n",
    "\n",
    "cds = gvkey_frame['market_cds_spread']\n",
    "pecds = gvkey_frame['pecds']\n",
    "vecm_data_base = pd.DataFrame(data=(cds, pecds)).T\n",
    "\n",
    "vecm_model_base = vecm.select_order(vecm_data_base, maxlags=5)\n",
    "optimal_lag_length_base = vecm_model_base.bic\n",
    "    \n",
    "vecm_cointeg_rank_base = vecm.select_coint_rank(vecm_data_base, det_order =1, k_ar_diff = optimal_lag_length_base, \n",
    "                                                  method='trace', signif=0.05)\n",
    "\n",
    "if vecm_cointeg_rank_base.rank >= 1:\n",
    "    coint_rels_base = 1\n",
    "else:\n",
    "    print(\"insufficient number of cointegrating relationships for VECM model\")\n",
    "    \n",
    "vecm_base = vecm.VECM(vecm_data_base, k_ar_diff=vecm_model_base.bic, coint_rank=coint_rels_base, deterministic='cili')\n",
    "vecm_base_res = vecm_base.fit()\n",
    "print(vecm_base_res.summary())\n",
    "\n",
    "\n",
    "\n",
    "\n",
    "vecm_base_res.test_granger_causality(caused=0).summary()"
   ]
  },
  {
   "cell_type": "code",
   "execution_count": null,
   "metadata": {},
   "outputs": [],
   "source": []
  },
  {
   "cell_type": "code",
   "execution_count": null,
   "metadata": {},
   "outputs": [],
   "source": []
  },
  {
   "cell_type": "code",
   "execution_count": null,
   "metadata": {},
   "outputs": [],
   "source": []
  },
  {
   "cell_type": "code",
   "execution_count": null,
   "metadata": {},
   "outputs": [],
   "source": []
  },
  {
   "cell_type": "code",
   "execution_count": null,
   "metadata": {},
   "outputs": [],
   "source": []
  },
  {
   "cell_type": "code",
   "execution_count": null,
   "metadata": {},
   "outputs": [],
   "source": []
  },
  {
   "cell_type": "code",
   "execution_count": null,
   "metadata": {},
   "outputs": [],
   "source": [
    "#VECM of base + VIX: CDS/PECDS\n",
    "#with automated coint rels calculation\n",
    "\n",
    "gvkey_number = 1408\n",
    "gvkey_frame = gvkey_1408\n",
    "#coint_rels = 0\n",
    "\n",
    "print(\"VECM MODEL + VIX OF GVKEY: \" + str(gvkey_number))\n",
    "\n",
    "cds = gvkey_frame['market_cds_spread']\n",
    "pecds = gvkey_frame['pecds']\n",
    "vix = gvkey_frame['cboe_vix']\n",
    "vecm_data_vix = pd.DataFrame(data=(cds, pecds, vix)).T\n",
    "\n",
    "vecm_model_vix = vecm.select_order(vecm_data_vix, maxlags=5)\n",
    "optimal_lag_length_vix = vecm_model_vix.bic\n",
    "    \n",
    "vecm_cointeg_rank_vix = vecm.select_coint_rank(vecm_data_vix, det_order =1, k_ar_diff = optimal_lag_length_vix, \n",
    "                                                  method='trace', signif=0.05)\n",
    "\n",
    "#if vecm_cointeg_rank_vix.rank >= 1:\n",
    "#    coint_rels_vix = 1\n",
    "#else:\n",
    "#    print(\"insufficient number of cointegrating relationships for VECM model\")\n",
    "    \n",
    "vecm_vix_2 = vecm.VECM(vecm_data_vix, k_ar_diff=vecm_model_vix.bic, coint_rank=vecm_cointeg_rank_vix.rank, deterministic='cili')\n",
    "vecm_vix_res_2 = vecm_vix_2.fit()\n",
    "print(vecm_vix_res_2.summary())\n",
    "\n",
    "\n",
    "\n",
    "vecm_vix_res_2.test_granger_causality(causing='cboe_vix', caused='market_cds_spread').summary()"
   ]
  },
  {
   "cell_type": "code",
   "execution_count": null,
   "metadata": {},
   "outputs": [],
   "source": []
  }
 ],
 "metadata": {
  "kernelspec": {
   "display_name": "Python 3",
   "language": "python",
   "name": "python3"
  },
  "language_info": {
   "codemirror_mode": {
    "name": "ipython",
    "version": 3
   },
   "file_extension": ".py",
   "mimetype": "text/x-python",
   "name": "python",
   "nbconvert_exporter": "python",
   "pygments_lexer": "ipython3",
   "version": "3.7.6"
  }
 },
 "nbformat": 4,
 "nbformat_minor": 4
}
