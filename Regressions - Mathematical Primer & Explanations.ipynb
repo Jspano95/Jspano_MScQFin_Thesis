{
 "cells": [
  {
   "cell_type": "code",
   "execution_count": null,
   "metadata": {},
   "outputs": [],
   "source": [
    "#import packages\n"
   ]
  },
  {
   "cell_type": "code",
   "execution_count": 26,
   "metadata": {},
   "outputs": [
    {
     "name": "stderr",
     "output_type": "stream",
     "text": [
      "C:\\Users\\JasonSpano\\anaconda3\\lib\\site-packages\\ipykernel\\ipkernel.py:287: DeprecationWarning: `should_run_async` will not call `transform_cell` automatically in the future. Please pass the result to `transformed_cell` argument and any exception that happen during thetransform in `preprocessing_exc_tuple` in IPython 7.17 and above.\n",
      "  and should_run_async(code)\n"
     ]
    }
   ],
   "source": [
    "#system packages\n",
    "\n",
    "import sys\n",
    "import warnings\n",
    "import os \n",
    "import traceback #obs? \n",
    "if not sys.warnoptions:\n",
    "    warnings.filterwarnings(\"once\")  "
   ]
  },
  {
   "cell_type": "code",
   "execution_count": 27,
   "metadata": {},
   "outputs": [
    {
     "name": "stderr",
     "output_type": "stream",
     "text": [
      "C:\\Users\\JasonSpano\\anaconda3\\lib\\site-packages\\ipykernel\\ipkernel.py:287: DeprecationWarning: `should_run_async` will not call `transform_cell` automatically in the future. Please pass the result to `transformed_cell` argument and any exception that happen during thetransform in `preprocessing_exc_tuple` in IPython 7.17 and above.\n",
      "  and should_run_async(code)\n"
     ]
    }
   ],
   "source": [
    "#base packages:\n",
    "\n",
    "import matplotlib.pyplot as plt\n",
    "import numpy as np\n",
    "import pandas as pd\n",
    "import scipy as sp\n",
    "from scipy import stats, integrate, optimize\n",
    "import math\n",
    "import datetime\n",
    "from datetime import date, timedelta"
   ]
  },
  {
   "cell_type": "code",
   "execution_count": 28,
   "metadata": {},
   "outputs": [],
   "source": [
    "#optional packages\n",
    "\n",
    "from statsmodels.tsa.base.datetools import dates_from_str\n",
    "from IPython.display import display\n",
    "pd.options.display.max_columns = 50  #allow DF.head to show all columns in notebook\n",
    "from see import see\n",
    "from tabulate import tabulate \n",
    "#from io import StringIO"
   ]
  },
  {
   "cell_type": "code",
   "execution_count": 29,
   "metadata": {},
   "outputs": [],
   "source": [
    "#packages for the econometrics / models\n",
    "import statsmodels.api as sm\n",
    "from statsmodels.tsa.vector_ar import vecm\n",
    "from statsmodels.tsa.stattools import adfuller, zivot_andrews\n",
    "from arch.unitroot import DFGLS, ADF, KPSS, PhillipsPerron, ZivotAndrews\n",
    "from arch.unitroot.cointegration import engle_granger, phillips_ouliaris\n",
    "import statsmodels.formula.api as smf  #VAR package contained within \n",
    "import statsmodels.tsa.api as smt\n",
    "\n",
    "#import the functionality for detecting mathematical errors (E.G. types of linear algebra issues etc.)\n",
    "from statsmodels.tools.sm_exceptions import ValueWarning\n",
    "from arch.utility.exceptions import (\n",
    "    InfeasibleTestException,\n",
    "    InvalidLengthWarning,\n",
    "    invalid_length_doc)\n",
    "warnings.filterwarnings(\"once\", category = ValueWarning)"
   ]
  },
  {
   "cell_type": "code",
   "execution_count": 5,
   "metadata": {},
   "outputs": [
    {
     "name": "stderr",
     "output_type": "stream",
     "text": [
      "C:\\Users\\JasonSpano\\anaconda3\\lib\\site-packages\\ipykernel\\ipkernel.py:287: DeprecationWarning: `should_run_async` will not call `transform_cell` automatically in the future. Please pass the result to `transformed_cell` argument and any exception that happen during thetransform in `preprocessing_exc_tuple` in IPython 7.17 and above.\n",
      "  and should_run_async(code)\n"
     ]
    }
   ],
   "source": [
    "#sorted_alldata_df_final = pd.read_pickle(\"./sorted_alldata_df_final.pkl\")\n",
    "#sorted_alldata_df_final = pd.read_pickle(r\"C:\\Users\\JasonSpano\\OneDrive\\Uva Msc 19-20 Subjects\\Research Assistant Docs\\CDS_project_-_first_set_of_tasks\\Part 2_jan20./sorted_alldata_df_final.pkl\")"
   ]
  },
  {
   "cell_type": "code",
   "execution_count": 5,
   "metadata": {
    "scrolled": true
   },
   "outputs": [
    {
     "name": "stderr",
     "output_type": "stream",
     "text": [
      "C:\\Users\\JasonSpano\\anaconda3\\lib\\site-packages\\ipykernel\\ipkernel.py:287: DeprecationWarning: `should_run_async` will not call `transform_cell` automatically in the future. Please pass the result to `transformed_cell` argument and any exception that happen during thetransform in `preprocessing_exc_tuple` in IPython 7.17 and above.\n",
      "  and should_run_async(code)\n"
     ]
    }
   ],
   "source": [
    "#with ADF results: to be updated to VECM outcome (cointegration) eventually?\n",
    "sorted_alldata_df_final_adf_results = pd.read_pickle(\"./sorted_alldata_df_final_adf_results.pkl\")"
   ]
  },
  {
   "cell_type": "code",
   "execution_count": 21,
   "metadata": {},
   "outputs": [],
   "source": [
    "class color:\n",
    "   #a simplified way to easily call different style elements for displaying outputs\n",
    "   RED = '\\033[91m'\n",
    "   BOLD = '\\033[1m'\n",
    "   UNDERLINE = '\\033[4m'\n",
    "   GREEN = '\\033[92m'\n",
    "   HEADER = '\\033[95m' \n",
    "   OKBLUE = '\\033[94m'\n",
    "   WARNING = '\\033[93m'\n",
    "   FAIL = '\\033[91m'\n",
    "   END = '\\033[0m'"
   ]
  },
  {
   "cell_type": "code",
   "execution_count": null,
   "metadata": {},
   "outputs": [],
   "source": []
  },
  {
   "cell_type": "code",
   "execution_count": null,
   "metadata": {},
   "outputs": [],
   "source": []
  },
  {
   "cell_type": "markdown",
   "metadata": {},
   "source": [
    "## maybe scrap equities trading data from this section?? \n",
    "\n",
    "HOW TO HANDLE EQUITIES DATA?\n",
    "\n",
    "* Analyse that seperately, maybe some correlation methods with VIX? \n",
    "* Regress on different elements of the firm level ratios + \n",
    "\n",
    "### NEED THE GENERAL MARKET RETURN OF S&P 500?\n",
    "\n",
    "\n",
    "#### SEE FONTANA 2011! for extracting market risk premium from S&P 500 (VIX, GARCH, S&P etc.) "
   ]
  },
  {
   "cell_type": "code",
   "execution_count": null,
   "metadata": {},
   "outputs": [],
   "source": []
  },
  {
   "cell_type": "code",
   "execution_count": null,
   "metadata": {},
   "outputs": [],
   "source": [
    "https://stats.stackexchange.com/questions/577/is-there-any-reason-to-prefer-the-aic-or-bic-over-the-other"
   ]
  },
  {
   "cell_type": "code",
   "execution_count": null,
   "metadata": {},
   "outputs": [],
   "source": []
  },
  {
   "cell_type": "code",
   "execution_count": null,
   "metadata": {},
   "outputs": [],
   "source": []
  },
  {
   "cell_type": "markdown",
   "metadata": {},
   "source": [
    "# ADF: (#2)\n",
    "* https://www.statsmodels.org/stable/examples/notebooks/generated/stationarity_detrending_adf_kpss.html"
   ]
  },
  {
   "cell_type": "code",
   "execution_count": 19,
   "metadata": {},
   "outputs": [
    {
     "data": {
      "text/html": [
       "<div>\n",
       "<style scoped>\n",
       "    .dataframe tbody tr th:only-of-type {\n",
       "        vertical-align: middle;\n",
       "    }\n",
       "\n",
       "    .dataframe tbody tr th {\n",
       "        vertical-align: top;\n",
       "    }\n",
       "\n",
       "    .dataframe thead th {\n",
       "        text-align: right;\n",
       "    }\n",
       "</style>\n",
       "<table border=\"1\" class=\"dataframe\">\n",
       "  <thead>\n",
       "    <tr style=\"text-align: right;\">\n",
       "      <th></th>\n",
       "      <th>gvkey</th>\n",
       "      <th>trade_date</th>\n",
       "      <th>bond_sym_id</th>\n",
       "      <th>price</th>\n",
       "      <th>issue_id</th>\n",
       "      <th>bond_in_mergent</th>\n",
       "      <th>coupon</th>\n",
       "      <th>interest_frequency</th>\n",
       "      <th>coupon_type</th>\n",
       "      <th>maturity_date</th>\n",
       "      <th>secured</th>\n",
       "      <th>seniority</th>\n",
       "      <th>years_to_maturity</th>\n",
       "      <th>riskfree_rate_1yr</th>\n",
       "      <th>riskfree_rate_2yr</th>\n",
       "      <th>riskfree_rate_3yr</th>\n",
       "      <th>riskfree_rate_4yr</th>\n",
       "      <th>riskfree_rate_5yr</th>\n",
       "      <th>market_cds_spread</th>\n",
       "      <th>series_id</th>\n",
       "      <th>initial_price</th>\n",
       "      <th>solved_lambda</th>\n",
       "      <th>year_index</th>\n",
       "      <th>pecds</th>\n",
       "      <th>cds_bond_basis</th>\n",
       "      <th>year_month</th>\n",
       "      <th>sector</th>\n",
       "      <th>cboe_vix</th>\n",
       "      <th>ted_rate</th>\n",
       "      <th>ticker</th>\n",
       "      <th>company_name</th>\n",
       "      <th>trading_vol_daily</th>\n",
       "      <th>price_close</th>\n",
       "      <th>price_high</th>\n",
       "      <th>price_low</th>\n",
       "      <th>price_open</th>\n",
       "      <th>eps</th>\n",
       "      <th>price_sales</th>\n",
       "      <th>price_cashflow</th>\n",
       "      <th>gross_profit_ta</th>\n",
       "      <th>capital_ratio</th>\n",
       "      <th>debt_eq_ratio</th>\n",
       "      <th>rnd_sales</th>\n",
       "    </tr>\n",
       "  </thead>\n",
       "  <tbody>\n",
       "    <tr>\n",
       "      <th>0</th>\n",
       "      <td>1045</td>\n",
       "      <td>2009-09-24</td>\n",
       "      <td>AMR.UY</td>\n",
       "      <td>103.1100</td>\n",
       "      <td>504701.0</td>\n",
       "      <td>True</td>\n",
       "      <td>6.25</td>\n",
       "      <td>2.0</td>\n",
       "      <td>F</td>\n",
       "      <td>20141015.0</td>\n",
       "      <td>NaN</td>\n",
       "      <td>1.0</td>\n",
       "      <td>5.056914</td>\n",
       "      <td>0.580</td>\n",
       "      <td>1.240</td>\n",
       "      <td>1.860</td>\n",
       "      <td>2.350</td>\n",
       "      <td>2.710</td>\n",
       "      <td>1468.95</td>\n",
       "      <td>AMR5$AX</td>\n",
       "      <td>12.129838</td>\n",
       "      <td>0.036953</td>\n",
       "      <td>2009</td>\n",
       "      <td>12.046157</td>\n",
       "      <td>1456.903843</td>\n",
       "      <td>2009-09-01</td>\n",
       "      <td>Transporation</td>\n",
       "      <td>24.95</td>\n",
       "      <td>0.18</td>\n",
       "      <td>AAMRQ</td>\n",
       "      <td>AMERICAN AIRLINES GROUP INC</td>\n",
       "      <td>34493080.0</td>\n",
       "      <td>7.74</td>\n",
       "      <td>8.03</td>\n",
       "      <td>7.63</td>\n",
       "      <td>7.91</td>\n",
       "      <td>-3.51</td>\n",
       "      <td>0.071</td>\n",
       "      <td>-0.949</td>\n",
       "      <td>0.134</td>\n",
       "      <td>1.288</td>\n",
       "      <td>-13.427</td>\n",
       "      <td>0.000</td>\n",
       "    </tr>\n",
       "    <tr>\n",
       "      <th>1</th>\n",
       "      <td>1045</td>\n",
       "      <td>2009-09-25</td>\n",
       "      <td>AMR.UY</td>\n",
       "      <td>107.0000</td>\n",
       "      <td>504701.0</td>\n",
       "      <td>True</td>\n",
       "      <td>6.25</td>\n",
       "      <td>2.0</td>\n",
       "      <td>F</td>\n",
       "      <td>20141015.0</td>\n",
       "      <td>NaN</td>\n",
       "      <td>1.0</td>\n",
       "      <td>5.054176</td>\n",
       "      <td>0.620</td>\n",
       "      <td>1.290</td>\n",
       "      <td>1.900</td>\n",
       "      <td>2.370</td>\n",
       "      <td>2.710</td>\n",
       "      <td>1493.47</td>\n",
       "      <td>AMR5$AX</td>\n",
       "      <td>12.123144</td>\n",
       "      <td>0.037014</td>\n",
       "      <td>2009</td>\n",
       "      <td>12.066573</td>\n",
       "      <td>1481.403427</td>\n",
       "      <td>2009-09-01</td>\n",
       "      <td>Transporation</td>\n",
       "      <td>25.61</td>\n",
       "      <td>0.18</td>\n",
       "      <td>AAMRQ</td>\n",
       "      <td>AMERICAN AIRLINES GROUP INC</td>\n",
       "      <td>31763720.0</td>\n",
       "      <td>8.02</td>\n",
       "      <td>8.14</td>\n",
       "      <td>7.90</td>\n",
       "      <td>7.94</td>\n",
       "      <td>-3.51</td>\n",
       "      <td>0.071</td>\n",
       "      <td>-0.949</td>\n",
       "      <td>0.134</td>\n",
       "      <td>1.288</td>\n",
       "      <td>-13.427</td>\n",
       "      <td>0.000</td>\n",
       "    </tr>\n",
       "    <tr>\n",
       "      <th>2</th>\n",
       "      <td>1045</td>\n",
       "      <td>2009-09-28</td>\n",
       "      <td>AMR.UY</td>\n",
       "      <td>104.2500</td>\n",
       "      <td>504701.0</td>\n",
       "      <td>True</td>\n",
       "      <td>6.25</td>\n",
       "      <td>2.0</td>\n",
       "      <td>F</td>\n",
       "      <td>20141015.0</td>\n",
       "      <td>NaN</td>\n",
       "      <td>1.0</td>\n",
       "      <td>5.045963</td>\n",
       "      <td>0.620</td>\n",
       "      <td>1.300</td>\n",
       "      <td>1.890</td>\n",
       "      <td>2.340</td>\n",
       "      <td>2.660</td>\n",
       "      <td>1522.60</td>\n",
       "      <td>AMR5$AX</td>\n",
       "      <td>12.126682</td>\n",
       "      <td>0.037318</td>\n",
       "      <td>2009</td>\n",
       "      <td>12.167274</td>\n",
       "      <td>1510.432726</td>\n",
       "      <td>2009-09-01</td>\n",
       "      <td>Transporation</td>\n",
       "      <td>24.88</td>\n",
       "      <td>0.17</td>\n",
       "      <td>AAMRQ</td>\n",
       "      <td>AMERICAN AIRLINES GROUP INC</td>\n",
       "      <td>13330220.0</td>\n",
       "      <td>8.00</td>\n",
       "      <td>8.20</td>\n",
       "      <td>7.90</td>\n",
       "      <td>8.06</td>\n",
       "      <td>-3.51</td>\n",
       "      <td>0.071</td>\n",
       "      <td>-0.949</td>\n",
       "      <td>0.134</td>\n",
       "      <td>1.288</td>\n",
       "      <td>-13.427</td>\n",
       "      <td>0.000</td>\n",
       "    </tr>\n",
       "    <tr>\n",
       "      <th>3</th>\n",
       "      <td>1045</td>\n",
       "      <td>2009-09-29</td>\n",
       "      <td>AMR.UY</td>\n",
       "      <td>105.7500</td>\n",
       "      <td>504701.0</td>\n",
       "      <td>True</td>\n",
       "      <td>6.25</td>\n",
       "      <td>2.0</td>\n",
       "      <td>F</td>\n",
       "      <td>20141015.0</td>\n",
       "      <td>NaN</td>\n",
       "      <td>1.0</td>\n",
       "      <td>5.043225</td>\n",
       "      <td>0.640</td>\n",
       "      <td>1.330</td>\n",
       "      <td>1.900</td>\n",
       "      <td>2.340</td>\n",
       "      <td>2.660</td>\n",
       "      <td>1535.88</td>\n",
       "      <td>AMR5$AX</td>\n",
       "      <td>12.124804</td>\n",
       "      <td>0.037335</td>\n",
       "      <td>2009</td>\n",
       "      <td>12.172879</td>\n",
       "      <td>1523.707121</td>\n",
       "      <td>2009-09-01</td>\n",
       "      <td>Transporation</td>\n",
       "      <td>25.19</td>\n",
       "      <td>0.16</td>\n",
       "      <td>AAMRQ</td>\n",
       "      <td>AMERICAN AIRLINES GROUP INC</td>\n",
       "      <td>16459960.0</td>\n",
       "      <td>8.00</td>\n",
       "      <td>8.25</td>\n",
       "      <td>7.98</td>\n",
       "      <td>8.06</td>\n",
       "      <td>-3.51</td>\n",
       "      <td>0.071</td>\n",
       "      <td>-0.949</td>\n",
       "      <td>0.134</td>\n",
       "      <td>1.288</td>\n",
       "      <td>-13.427</td>\n",
       "      <td>0.000</td>\n",
       "    </tr>\n",
       "    <tr>\n",
       "      <th>4</th>\n",
       "      <td>1045</td>\n",
       "      <td>2009-09-30</td>\n",
       "      <td>AMR.UY</td>\n",
       "      <td>105.6268</td>\n",
       "      <td>504701.0</td>\n",
       "      <td>True</td>\n",
       "      <td>6.25</td>\n",
       "      <td>2.0</td>\n",
       "      <td>F</td>\n",
       "      <td>20141015.0</td>\n",
       "      <td>NaN</td>\n",
       "      <td>1.0</td>\n",
       "      <td>5.040487</td>\n",
       "      <td>0.630</td>\n",
       "      <td>1.300</td>\n",
       "      <td>1.880</td>\n",
       "      <td>2.310</td>\n",
       "      <td>2.640</td>\n",
       "      <td>1634.44</td>\n",
       "      <td>AMR5$AX</td>\n",
       "      <td>12.130400</td>\n",
       "      <td>0.037417</td>\n",
       "      <td>2009</td>\n",
       "      <td>12.200371</td>\n",
       "      <td>1622.239629</td>\n",
       "      <td>2009-09-01</td>\n",
       "      <td>Transporation</td>\n",
       "      <td>25.61</td>\n",
       "      <td>0.15</td>\n",
       "      <td>AAMRQ</td>\n",
       "      <td>AMERICAN AIRLINES GROUP INC</td>\n",
       "      <td>18732570.0</td>\n",
       "      <td>7.95</td>\n",
       "      <td>8.12</td>\n",
       "      <td>7.71</td>\n",
       "      <td>8.02</td>\n",
       "      <td>-3.51</td>\n",
       "      <td>0.121</td>\n",
       "      <td>-1.623</td>\n",
       "      <td>0.134</td>\n",
       "      <td>1.288</td>\n",
       "      <td>-13.427</td>\n",
       "      <td>0.000</td>\n",
       "    </tr>\n",
       "    <tr>\n",
       "      <th>...</th>\n",
       "      <td>...</td>\n",
       "      <td>...</td>\n",
       "      <td>...</td>\n",
       "      <td>...</td>\n",
       "      <td>...</td>\n",
       "      <td>...</td>\n",
       "      <td>...</td>\n",
       "      <td>...</td>\n",
       "      <td>...</td>\n",
       "      <td>...</td>\n",
       "      <td>...</td>\n",
       "      <td>...</td>\n",
       "      <td>...</td>\n",
       "      <td>...</td>\n",
       "      <td>...</td>\n",
       "      <td>...</td>\n",
       "      <td>...</td>\n",
       "      <td>...</td>\n",
       "      <td>...</td>\n",
       "      <td>...</td>\n",
       "      <td>...</td>\n",
       "      <td>...</td>\n",
       "      <td>...</td>\n",
       "      <td>...</td>\n",
       "      <td>...</td>\n",
       "      <td>...</td>\n",
       "      <td>...</td>\n",
       "      <td>...</td>\n",
       "      <td>...</td>\n",
       "      <td>...</td>\n",
       "      <td>...</td>\n",
       "      <td>...</td>\n",
       "      <td>...</td>\n",
       "      <td>...</td>\n",
       "      <td>...</td>\n",
       "      <td>...</td>\n",
       "      <td>...</td>\n",
       "      <td>...</td>\n",
       "      <td>...</td>\n",
       "      <td>...</td>\n",
       "      <td>...</td>\n",
       "      <td>...</td>\n",
       "      <td>...</td>\n",
       "    </tr>\n",
       "    <tr>\n",
       "      <th>460267</th>\n",
       "      <td>179700</td>\n",
       "      <td>2017-06-26</td>\n",
       "      <td>DPS.AI</td>\n",
       "      <td>103.1190</td>\n",
       "      <td>564989.0</td>\n",
       "      <td>True</td>\n",
       "      <td>3.20</td>\n",
       "      <td>2.0</td>\n",
       "      <td>F</td>\n",
       "      <td>20211115.0</td>\n",
       "      <td>0.0</td>\n",
       "      <td>1.0</td>\n",
       "      <td>4.388865</td>\n",
       "      <td>1.421</td>\n",
       "      <td>1.546</td>\n",
       "      <td>1.651</td>\n",
       "      <td>1.738</td>\n",
       "      <td>1.815</td>\n",
       "      <td>230.31</td>\n",
       "      <td>DPS5$AX</td>\n",
       "      <td>-5.925957</td>\n",
       "      <td>0.162585</td>\n",
       "      <td>2017</td>\n",
       "      <td>110.343059</td>\n",
       "      <td>119.966941</td>\n",
       "      <td>2017-06-01</td>\n",
       "      <td>Consumer Staples</td>\n",
       "      <td>9.90</td>\n",
       "      <td>0.31</td>\n",
       "      <td>DPS</td>\n",
       "      <td>DR PEPPER SNAPPLE GROUP INC</td>\n",
       "      <td>1103392.0</td>\n",
       "      <td>92.92</td>\n",
       "      <td>93.76</td>\n",
       "      <td>92.68</td>\n",
       "      <td>93.26</td>\n",
       "      <td>4.57</td>\n",
       "      <td>2.640</td>\n",
       "      <td>19.860</td>\n",
       "      <td>0.431</td>\n",
       "      <td>0.633</td>\n",
       "      <td>3.289</td>\n",
       "      <td>0.003</td>\n",
       "    </tr>\n",
       "    <tr>\n",
       "      <th>460268</th>\n",
       "      <td>179700</td>\n",
       "      <td>2017-06-27</td>\n",
       "      <td>DPS.AI</td>\n",
       "      <td>103.5360</td>\n",
       "      <td>564989.0</td>\n",
       "      <td>True</td>\n",
       "      <td>3.20</td>\n",
       "      <td>2.0</td>\n",
       "      <td>F</td>\n",
       "      <td>20211115.0</td>\n",
       "      <td>0.0</td>\n",
       "      <td>1.0</td>\n",
       "      <td>4.386127</td>\n",
       "      <td>1.436</td>\n",
       "      <td>1.573</td>\n",
       "      <td>1.688</td>\n",
       "      <td>1.783</td>\n",
       "      <td>1.868</td>\n",
       "      <td>230.31</td>\n",
       "      <td>DPS5$AX</td>\n",
       "      <td>-5.922706</td>\n",
       "      <td>0.162339</td>\n",
       "      <td>2017</td>\n",
       "      <td>110.161852</td>\n",
       "      <td>120.148148</td>\n",
       "      <td>2017-06-01</td>\n",
       "      <td>Consumer Staples</td>\n",
       "      <td>11.06</td>\n",
       "      <td>0.31</td>\n",
       "      <td>DPS</td>\n",
       "      <td>DR PEPPER SNAPPLE GROUP INC</td>\n",
       "      <td>895203.0</td>\n",
       "      <td>91.63</td>\n",
       "      <td>92.70</td>\n",
       "      <td>91.39</td>\n",
       "      <td>92.62</td>\n",
       "      <td>4.57</td>\n",
       "      <td>2.640</td>\n",
       "      <td>19.860</td>\n",
       "      <td>0.431</td>\n",
       "      <td>0.633</td>\n",
       "      <td>3.289</td>\n",
       "      <td>0.003</td>\n",
       "    </tr>\n",
       "    <tr>\n",
       "      <th>460269</th>\n",
       "      <td>179700</td>\n",
       "      <td>2017-06-28</td>\n",
       "      <td>DPS.AI</td>\n",
       "      <td>103.6400</td>\n",
       "      <td>564989.0</td>\n",
       "      <td>True</td>\n",
       "      <td>3.20</td>\n",
       "      <td>2.0</td>\n",
       "      <td>F</td>\n",
       "      <td>20211115.0</td>\n",
       "      <td>0.0</td>\n",
       "      <td>1.0</td>\n",
       "      <td>4.383389</td>\n",
       "      <td>1.434</td>\n",
       "      <td>1.571</td>\n",
       "      <td>1.690</td>\n",
       "      <td>1.790</td>\n",
       "      <td>1.877</td>\n",
       "      <td>230.31</td>\n",
       "      <td>DPS5$AX</td>\n",
       "      <td>-5.922515</td>\n",
       "      <td>0.162290</td>\n",
       "      <td>2017</td>\n",
       "      <td>110.125823</td>\n",
       "      <td>120.184177</td>\n",
       "      <td>2017-06-01</td>\n",
       "      <td>Consumer Staples</td>\n",
       "      <td>10.03</td>\n",
       "      <td>0.30</td>\n",
       "      <td>DPS</td>\n",
       "      <td>DR PEPPER SNAPPLE GROUP INC</td>\n",
       "      <td>1197095.0</td>\n",
       "      <td>92.22</td>\n",
       "      <td>92.79</td>\n",
       "      <td>91.82</td>\n",
       "      <td>92.03</td>\n",
       "      <td>4.57</td>\n",
       "      <td>2.640</td>\n",
       "      <td>19.860</td>\n",
       "      <td>0.431</td>\n",
       "      <td>0.633</td>\n",
       "      <td>3.289</td>\n",
       "      <td>0.003</td>\n",
       "    </tr>\n",
       "    <tr>\n",
       "      <th>460270</th>\n",
       "      <td>179700</td>\n",
       "      <td>2017-06-29</td>\n",
       "      <td>DPS.AI</td>\n",
       "      <td>103.4370</td>\n",
       "      <td>564989.0</td>\n",
       "      <td>True</td>\n",
       "      <td>3.20</td>\n",
       "      <td>2.0</td>\n",
       "      <td>F</td>\n",
       "      <td>20211115.0</td>\n",
       "      <td>0.0</td>\n",
       "      <td>1.0</td>\n",
       "      <td>4.380651</td>\n",
       "      <td>1.448</td>\n",
       "      <td>1.598</td>\n",
       "      <td>1.724</td>\n",
       "      <td>1.832</td>\n",
       "      <td>1.925</td>\n",
       "      <td>230.31</td>\n",
       "      <td>DPS5$AX</td>\n",
       "      <td>-5.919429</td>\n",
       "      <td>0.162070</td>\n",
       "      <td>2017</td>\n",
       "      <td>109.963876</td>\n",
       "      <td>120.346124</td>\n",
       "      <td>2017-06-01</td>\n",
       "      <td>Consumer Staples</td>\n",
       "      <td>11.44</td>\n",
       "      <td>0.28</td>\n",
       "      <td>DPS</td>\n",
       "      <td>DR PEPPER SNAPPLE GROUP INC</td>\n",
       "      <td>853952.0</td>\n",
       "      <td>90.90</td>\n",
       "      <td>92.02</td>\n",
       "      <td>90.70</td>\n",
       "      <td>91.98</td>\n",
       "      <td>4.57</td>\n",
       "      <td>2.640</td>\n",
       "      <td>19.860</td>\n",
       "      <td>0.431</td>\n",
       "      <td>0.633</td>\n",
       "      <td>3.289</td>\n",
       "      <td>0.003</td>\n",
       "    </tr>\n",
       "    <tr>\n",
       "      <th>460271</th>\n",
       "      <td>179700</td>\n",
       "      <td>2017-06-30</td>\n",
       "      <td>DPS.AI</td>\n",
       "      <td>102.7550</td>\n",
       "      <td>564989.0</td>\n",
       "      <td>True</td>\n",
       "      <td>3.20</td>\n",
       "      <td>2.0</td>\n",
       "      <td>F</td>\n",
       "      <td>20211115.0</td>\n",
       "      <td>0.0</td>\n",
       "      <td>1.0</td>\n",
       "      <td>4.377913</td>\n",
       "      <td>1.450</td>\n",
       "      <td>1.604</td>\n",
       "      <td>1.734</td>\n",
       "      <td>1.842</td>\n",
       "      <td>1.936</td>\n",
       "      <td>230.31</td>\n",
       "      <td>DPS5$AX</td>\n",
       "      <td>-5.918619</td>\n",
       "      <td>0.162021</td>\n",
       "      <td>2017</td>\n",
       "      <td>109.928267</td>\n",
       "      <td>120.381733</td>\n",
       "      <td>2017-06-01</td>\n",
       "      <td>Consumer Staples</td>\n",
       "      <td>11.18</td>\n",
       "      <td>0.29</td>\n",
       "      <td>DPS</td>\n",
       "      <td>DR PEPPER SNAPPLE GROUP INC</td>\n",
       "      <td>748902.0</td>\n",
       "      <td>91.11</td>\n",
       "      <td>91.70</td>\n",
       "      <td>91.10</td>\n",
       "      <td>91.26</td>\n",
       "      <td>4.57</td>\n",
       "      <td>2.591</td>\n",
       "      <td>19.496</td>\n",
       "      <td>0.431</td>\n",
       "      <td>0.633</td>\n",
       "      <td>3.289</td>\n",
       "      <td>0.003</td>\n",
       "    </tr>\n",
       "  </tbody>\n",
       "</table>\n",
       "<p>460272 rows × 43 columns</p>\n",
       "</div>"
      ],
      "text/plain": [
       "         gvkey trade_date bond_sym_id     price  issue_id  bond_in_mergent  \\\n",
       "0         1045 2009-09-24      AMR.UY  103.1100  504701.0             True   \n",
       "1         1045 2009-09-25      AMR.UY  107.0000  504701.0             True   \n",
       "2         1045 2009-09-28      AMR.UY  104.2500  504701.0             True   \n",
       "3         1045 2009-09-29      AMR.UY  105.7500  504701.0             True   \n",
       "4         1045 2009-09-30      AMR.UY  105.6268  504701.0             True   \n",
       "...        ...        ...         ...       ...       ...              ...   \n",
       "460267  179700 2017-06-26      DPS.AI  103.1190  564989.0             True   \n",
       "460268  179700 2017-06-27      DPS.AI  103.5360  564989.0             True   \n",
       "460269  179700 2017-06-28      DPS.AI  103.6400  564989.0             True   \n",
       "460270  179700 2017-06-29      DPS.AI  103.4370  564989.0             True   \n",
       "460271  179700 2017-06-30      DPS.AI  102.7550  564989.0             True   \n",
       "\n",
       "        coupon  interest_frequency coupon_type  maturity_date  secured  \\\n",
       "0         6.25                 2.0           F     20141015.0      NaN   \n",
       "1         6.25                 2.0           F     20141015.0      NaN   \n",
       "2         6.25                 2.0           F     20141015.0      NaN   \n",
       "3         6.25                 2.0           F     20141015.0      NaN   \n",
       "4         6.25                 2.0           F     20141015.0      NaN   \n",
       "...        ...                 ...         ...            ...      ...   \n",
       "460267    3.20                 2.0           F     20211115.0      0.0   \n",
       "460268    3.20                 2.0           F     20211115.0      0.0   \n",
       "460269    3.20                 2.0           F     20211115.0      0.0   \n",
       "460270    3.20                 2.0           F     20211115.0      0.0   \n",
       "460271    3.20                 2.0           F     20211115.0      0.0   \n",
       "\n",
       "        seniority  years_to_maturity  riskfree_rate_1yr  riskfree_rate_2yr  \\\n",
       "0             1.0           5.056914              0.580              1.240   \n",
       "1             1.0           5.054176              0.620              1.290   \n",
       "2             1.0           5.045963              0.620              1.300   \n",
       "3             1.0           5.043225              0.640              1.330   \n",
       "4             1.0           5.040487              0.630              1.300   \n",
       "...           ...                ...                ...                ...   \n",
       "460267        1.0           4.388865              1.421              1.546   \n",
       "460268        1.0           4.386127              1.436              1.573   \n",
       "460269        1.0           4.383389              1.434              1.571   \n",
       "460270        1.0           4.380651              1.448              1.598   \n",
       "460271        1.0           4.377913              1.450              1.604   \n",
       "\n",
       "        riskfree_rate_3yr  riskfree_rate_4yr  riskfree_rate_5yr  \\\n",
       "0                   1.860              2.350              2.710   \n",
       "1                   1.900              2.370              2.710   \n",
       "2                   1.890              2.340              2.660   \n",
       "3                   1.900              2.340              2.660   \n",
       "4                   1.880              2.310              2.640   \n",
       "...                   ...                ...                ...   \n",
       "460267              1.651              1.738              1.815   \n",
       "460268              1.688              1.783              1.868   \n",
       "460269              1.690              1.790              1.877   \n",
       "460270              1.724              1.832              1.925   \n",
       "460271              1.734              1.842              1.936   \n",
       "\n",
       "        market_cds_spread series_id  initial_price  solved_lambda  year_index  \\\n",
       "0                 1468.95   AMR5$AX      12.129838       0.036953        2009   \n",
       "1                 1493.47   AMR5$AX      12.123144       0.037014        2009   \n",
       "2                 1522.60   AMR5$AX      12.126682       0.037318        2009   \n",
       "3                 1535.88   AMR5$AX      12.124804       0.037335        2009   \n",
       "4                 1634.44   AMR5$AX      12.130400       0.037417        2009   \n",
       "...                   ...       ...            ...            ...         ...   \n",
       "460267             230.31   DPS5$AX      -5.925957       0.162585        2017   \n",
       "460268             230.31   DPS5$AX      -5.922706       0.162339        2017   \n",
       "460269             230.31   DPS5$AX      -5.922515       0.162290        2017   \n",
       "460270             230.31   DPS5$AX      -5.919429       0.162070        2017   \n",
       "460271             230.31   DPS5$AX      -5.918619       0.162021        2017   \n",
       "\n",
       "             pecds  cds_bond_basis year_month            sector  cboe_vix  \\\n",
       "0        12.046157     1456.903843 2009-09-01     Transporation     24.95   \n",
       "1        12.066573     1481.403427 2009-09-01     Transporation     25.61   \n",
       "2        12.167274     1510.432726 2009-09-01     Transporation     24.88   \n",
       "3        12.172879     1523.707121 2009-09-01     Transporation     25.19   \n",
       "4        12.200371     1622.239629 2009-09-01     Transporation     25.61   \n",
       "...            ...             ...        ...               ...       ...   \n",
       "460267  110.343059      119.966941 2017-06-01  Consumer Staples      9.90   \n",
       "460268  110.161852      120.148148 2017-06-01  Consumer Staples     11.06   \n",
       "460269  110.125823      120.184177 2017-06-01  Consumer Staples     10.03   \n",
       "460270  109.963876      120.346124 2017-06-01  Consumer Staples     11.44   \n",
       "460271  109.928267      120.381733 2017-06-01  Consumer Staples     11.18   \n",
       "\n",
       "        ted_rate ticker                 company_name  trading_vol_daily  \\\n",
       "0           0.18  AAMRQ  AMERICAN AIRLINES GROUP INC         34493080.0   \n",
       "1           0.18  AAMRQ  AMERICAN AIRLINES GROUP INC         31763720.0   \n",
       "2           0.17  AAMRQ  AMERICAN AIRLINES GROUP INC         13330220.0   \n",
       "3           0.16  AAMRQ  AMERICAN AIRLINES GROUP INC         16459960.0   \n",
       "4           0.15  AAMRQ  AMERICAN AIRLINES GROUP INC         18732570.0   \n",
       "...          ...    ...                          ...                ...   \n",
       "460267      0.31    DPS  DR PEPPER SNAPPLE GROUP INC          1103392.0   \n",
       "460268      0.31    DPS  DR PEPPER SNAPPLE GROUP INC           895203.0   \n",
       "460269      0.30    DPS  DR PEPPER SNAPPLE GROUP INC          1197095.0   \n",
       "460270      0.28    DPS  DR PEPPER SNAPPLE GROUP INC           853952.0   \n",
       "460271      0.29    DPS  DR PEPPER SNAPPLE GROUP INC           748902.0   \n",
       "\n",
       "        price_close  price_high  price_low  price_open   eps  price_sales  \\\n",
       "0              7.74        8.03       7.63        7.91 -3.51        0.071   \n",
       "1              8.02        8.14       7.90        7.94 -3.51        0.071   \n",
       "2              8.00        8.20       7.90        8.06 -3.51        0.071   \n",
       "3              8.00        8.25       7.98        8.06 -3.51        0.071   \n",
       "4              7.95        8.12       7.71        8.02 -3.51        0.121   \n",
       "...             ...         ...        ...         ...   ...          ...   \n",
       "460267        92.92       93.76      92.68       93.26  4.57        2.640   \n",
       "460268        91.63       92.70      91.39       92.62  4.57        2.640   \n",
       "460269        92.22       92.79      91.82       92.03  4.57        2.640   \n",
       "460270        90.90       92.02      90.70       91.98  4.57        2.640   \n",
       "460271        91.11       91.70      91.10       91.26  4.57        2.591   \n",
       "\n",
       "        price_cashflow  gross_profit_ta  capital_ratio  debt_eq_ratio  \\\n",
       "0               -0.949            0.134          1.288        -13.427   \n",
       "1               -0.949            0.134          1.288        -13.427   \n",
       "2               -0.949            0.134          1.288        -13.427   \n",
       "3               -0.949            0.134          1.288        -13.427   \n",
       "4               -1.623            0.134          1.288        -13.427   \n",
       "...                ...              ...            ...            ...   \n",
       "460267          19.860            0.431          0.633          3.289   \n",
       "460268          19.860            0.431          0.633          3.289   \n",
       "460269          19.860            0.431          0.633          3.289   \n",
       "460270          19.860            0.431          0.633          3.289   \n",
       "460271          19.496            0.431          0.633          3.289   \n",
       "\n",
       "        rnd_sales  \n",
       "0           0.000  \n",
       "1           0.000  \n",
       "2           0.000  \n",
       "3           0.000  \n",
       "4           0.000  \n",
       "...           ...  \n",
       "460267      0.003  \n",
       "460268      0.003  \n",
       "460269      0.003  \n",
       "460270      0.003  \n",
       "460271      0.003  \n",
       "\n",
       "[460272 rows x 43 columns]"
      ]
     },
     "execution_count": 19,
     "metadata": {},
     "output_type": "execute_result"
    }
   ],
   "source": [
    "sorted_alldata_df_final"
   ]
  },
  {
   "cell_type": "code",
   "execution_count": null,
   "metadata": {},
   "outputs": [],
   "source": []
  },
  {
   "cell_type": "code",
   "execution_count": 20,
   "metadata": {},
   "outputs": [],
   "source": [
    "gvkey_frame = sorted_alldata_df_final.loc[sorted_alldata_df_final.gvkey==179700]"
   ]
  },
  {
   "cell_type": "code",
   "execution_count": 25,
   "metadata": {},
   "outputs": [],
   "source": [
    "def adf_test(timeseries):\n",
    "    print ('Results of Dickey-Fuller Test:')\n",
    "    dftest = adfuller(timeseries, autolag='AIC')\n",
    "    dfoutput = pd.Series(dftest[0:4], index=['Test Statistic','p-value','#Lags Used','Number of Observations Used'])\n",
    "    for key,value in dftest[4].items():\n",
    "       dfoutput['Critical Value (%s)'%key] = value\n",
    "    print (dfoutput)"
   ]
  },
  {
   "cell_type": "code",
   "execution_count": 26,
   "metadata": {},
   "outputs": [
    {
     "name": "stdout",
     "output_type": "stream",
     "text": [
      "Results of Dickey-Fuller Test:\n",
      "Test Statistic                   -5.387622\n",
      "p-value                           0.000004\n",
      "#Lags Used                       20.000000\n",
      "Number of Observations Used    1477.000000\n",
      "Critical Value (1%)              -3.434785\n",
      "Critical Value (5%)              -2.863499\n",
      "Critical Value (10%)             -2.567813\n",
      "dtype: float64\n"
     ]
    }
   ],
   "source": [
    "adf_test(gvkey_frame['market_cds_spread'])"
   ]
  },
  {
   "cell_type": "code",
   "execution_count": null,
   "metadata": {},
   "outputs": [],
   "source": []
  },
  {
   "cell_type": "code",
   "execution_count": 27,
   "metadata": {},
   "outputs": [
    {
     "data": {
      "text/plain": [
       "(-5.387622148488619,\n",
       " 3.5959786595425608e-06,\n",
       " {'1%': -3.434785139702456,\n",
       "  '5%': -2.863498825305098,\n",
       "  '10%': -2.5678128583805213},\n",
       " <statsmodels.tsa.stattools.ResultsStore at 0x26a8695a108>)"
      ]
     },
     "execution_count": 27,
     "metadata": {},
     "output_type": "execute_result"
    }
   ],
   "source": [
    "adfuller(gvkey_frame['market_cds_spread'], maxlag=None, \n",
    "         regression='c',\n",
    "         autolag='AIC',\n",
    "         store=True, \n",
    "         regresults=True)"
   ]
  },
  {
   "cell_type": "code",
   "execution_count": null,
   "metadata": {},
   "outputs": [],
   "source": []
  },
  {
   "cell_type": "code",
   "execution_count": null,
   "metadata": {},
   "outputs": [],
   "source": []
  },
  {
   "cell_type": "code",
   "execution_count": null,
   "metadata": {},
   "outputs": [],
   "source": []
  },
  {
   "cell_type": "code",
   "execution_count": null,
   "metadata": {},
   "outputs": [],
   "source": []
  },
  {
   "cell_type": "code",
   "execution_count": null,
   "metadata": {},
   "outputs": [],
   "source": []
  },
  {
   "cell_type": "markdown",
   "metadata": {},
   "source": [
    "# ADF TEST EXPLANATION: \n",
    "* Single GVKEY"
   ]
  },
  {
   "cell_type": "code",
   "execution_count": null,
   "metadata": {},
   "outputs": [],
   "source": [
    "dictionaries preserve dtypes:\n",
    "    https://stackoverflow.com/questions/43816160/create-pandas-dataframe-from-lists-while-preserving-datatypes"
   ]
  },
  {
   "cell_type": "code",
   "execution_count": null,
   "metadata": {},
   "outputs": [],
   "source": [
    "https://stackoverflow.com/questions/21604498/numpy-cholesky-decomposition-linalgerror"
   ]
  },
  {
   "cell_type": "code",
   "execution_count": null,
   "metadata": {},
   "outputs": [],
   "source": [
    "for key, value in test_ADF_cds.critical_values.items():\n",
    "    print('\\t%s: %.3f' % (key, value))"
   ]
  },
  {
   "cell_type": "code",
   "execution_count": null,
   "metadata": {},
   "outputs": [],
   "source": []
  },
  {
   "cell_type": "code",
   "execution_count": null,
   "metadata": {},
   "outputs": [],
   "source": []
  },
  {
   "cell_type": "code",
   "execution_count": 10,
   "metadata": {},
   "outputs": [
    {
     "data": {
      "text/html": [
       "<table class=\"simpletable\">\n",
       "<caption>Augmented Dickey-Fuller Results</caption>\n",
       "<tr>\n",
       "  <td>Test Statistic</td>    <td>-5.087</td>\n",
       "</tr>\n",
       "<tr>\n",
       "  <td>P-value</td>            <td>0.000</td>\n",
       "</tr>\n",
       "<tr>\n",
       "  <td>Lags</td>                   <td>1</td>\n",
       "</tr>\n",
       "</table><br/><br/>Trend: Constant<br/>Critical Values: -3.43 (1%), -2.86 (5%), -2.57 (10%)<br/>Null Hypothesis: The process contains a unit root.<br/>Alternative Hypothesis: The process is weakly stationary."
      ],
      "text/plain": [
       "<class 'statsmodels.iolib.summary.Summary'>\n",
       "\"\"\"\n",
       "   Augmented Dickey-Fuller Results   \n",
       "=====================================\n",
       "Test Statistic                 -5.087\n",
       "P-value                         0.000\n",
       "Lags                                1\n",
       "-------------------------------------\n",
       "\n",
       "Trend: Constant\n",
       "Critical Values: -3.43 (1%), -2.86 (5%), -2.57 (10%)\n",
       "Null Hypothesis: The process contains a unit root.\n",
       "Alternative Hypothesis: The process is weakly stationary.\n",
       "\"\"\""
      ]
     },
     "execution_count": 10,
     "metadata": {},
     "output_type": "execute_result"
    }
   ],
   "source": [
    "gvkey_selection = 179700\n",
    "gvkey_frame = sorted_alldata_df_final_adf_results.loc[sorted_alldata_df_final_adf_results.gvkey==gvkey_selection]\n",
    "\n",
    "cds = gvkey_frame['market_cds_spread']\n",
    "pecds = gvkey_frame['pecds']\n",
    "vix = gvkey_frame['cboe_vix']\n",
    "\n",
    "gvkey_frame_adf = pd.DataFrame(data=(cds, pecds, vix)).T\n",
    "var_model_adf = smt.VAR(gvkey_frame_adf)  \n",
    "#res_model_adf = var_model_adf.fit(maxlags=var_model_adf.select_order(maxlags=5).bic)  #VAR MODEL\n",
    "bic_selected_lag_adf = var_model_adf.select_order(maxlags=5).bic\n",
    "\n",
    "ADF_cds = ADF(cds, lags=bic_selected_lag_adf)\n",
    "ADF_cds.summary()"
   ]
  },
  {
   "cell_type": "code",
   "execution_count": 11,
   "metadata": {},
   "outputs": [
    {
     "data": {
      "text/plain": [
       "    <                   <=                  ==                  !=                  >                   >=\n",
       "    dir()               hash()              help()              repr()              str()\n",
       "    .alternative_hypothesis                 .critical_values    .lags               .max_lags           .nobs\n",
       "    .null_hypothesis    .pvalue             .regression         .stat               .summary()          .trend\n",
       "    .valid_trends       .y"
      ]
     },
     "execution_count": 11,
     "metadata": {},
     "output_type": "execute_result"
    }
   ],
   "source": [
    "see(ADF_cds)"
   ]
  },
  {
   "cell_type": "code",
   "execution_count": null,
   "metadata": {},
   "outputs": [],
   "source": []
  },
  {
   "cell_type": "code",
   "execution_count": 10,
   "metadata": {},
   "outputs": [
    {
     "data": {
      "text/plain": [
       "    <                   <=                  ==                  !=                  >                   >=\n",
       "    dir()               hash()              help()              repr()              str()\n",
       "    .alternative_hypothesis                 .critical_values    .lags               .max_lags           .nobs\n",
       "    .null_hypothesis    .pvalue             .regression         .stat               .summary()          .trend\n",
       "    .valid_trends       .y"
      ]
     },
     "execution_count": 10,
     "metadata": {},
     "output_type": "execute_result"
    }
   ],
   "source": [
    "see(ADF_cds)"
   ]
  },
  {
   "cell_type": "code",
   "execution_count": 9,
   "metadata": {},
   "outputs": [
    {
     "name": "stderr",
     "output_type": "stream",
     "text": [
      "C:\\Users\\JasonSpano\\anaconda3\\lib\\site-packages\\see\\inspector.py:117: FutureWarning: y is a deprecated alias for endog, will be removed in version 0.11.0\n",
      "  prop = getattr(obj, attr)\n"
     ]
    },
    {
     "data": {
      "text/plain": [
       "    <                  <=                 ==                 !=                 >                  >=\n",
       "    dir()              hash()             help()             repr()             str()              .data\n",
       "    .endog             .endog_names       .exog              .exog_names        .fit()             .from_formula()\n",
       "    .hessian()         .information()     .initialize()      .k_constant        .k_trend           .loglike()\n",
       "    .n_totobs          .neqs              .predict()         .score()           .select_order()    .y"
      ]
     },
     "execution_count": 9,
     "metadata": {},
     "output_type": "execute_result"
    }
   ],
   "source": [
    "see(var_model_adf)"
   ]
  },
  {
   "cell_type": "code",
   "execution_count": null,
   "metadata": {},
   "outputs": [],
   "source": []
  },
  {
   "cell_type": "code",
   "execution_count": null,
   "metadata": {},
   "outputs": [],
   "source": [
    "ADF(pecds, lags=bic_selected_lag_adf).summary()"
   ]
  },
  {
   "cell_type": "code",
   "execution_count": null,
   "metadata": {},
   "outputs": [],
   "source": []
  },
  {
   "cell_type": "code",
   "execution_count": null,
   "metadata": {},
   "outputs": [],
   "source": []
  },
  {
   "cell_type": "code",
   "execution_count": 8,
   "metadata": {},
   "outputs": [
    {
     "name": "stderr",
     "output_type": "stream",
     "text": [
      "C:\\Users\\JasonSpano\\anaconda3\\lib\\site-packages\\statsmodels\\tsa\\base\\tsa_model.py:214: ValueWarning: An unsupported index was provided and will be ignored when e.g. forecasting.\n",
      "  ' ignored when e.g. forecasting.', ValueWarning)\n"
     ]
    },
    {
     "data": {
      "text/html": [
       "<table class=\"simpletable\">\n",
       "<caption>Dickey-Fuller GLS Results</caption>\n",
       "<tr>\n",
       "  <td>Test Statistic</td>     <td>0.431</td>\n",
       "</tr>\n",
       "<tr>\n",
       "  <td>P-value</td>            <td>0.821</td>\n",
       "</tr>\n",
       "<tr>\n",
       "  <td>Lags</td>                   <td>0</td>\n",
       "</tr>\n",
       "</table><br/><br/>Trend: Constant<br/>Critical Values: -2.58 (1%), -1.96 (5%), -1.64 (10%)<br/>Null Hypothesis: The process contains a unit root.<br/>Alternative Hypothesis: The process is weakly stationary."
      ],
      "text/plain": [
       "<class 'statsmodels.iolib.summary.Summary'>\n",
       "\"\"\"\n",
       "      Dickey-Fuller GLS Results      \n",
       "=====================================\n",
       "Test Statistic                  0.431\n",
       "P-value                         0.821\n",
       "Lags                                0\n",
       "-------------------------------------\n",
       "\n",
       "Trend: Constant\n",
       "Critical Values: -2.58 (1%), -1.96 (5%), -1.64 (10%)\n",
       "Null Hypothesis: The process contains a unit root.\n",
       "Alternative Hypothesis: The process is weakly stationary.\n",
       "\"\"\""
      ]
     },
     "execution_count": 8,
     "metadata": {},
     "output_type": "execute_result"
    }
   ],
   "source": [
    "#DFGLS \n",
    "\n",
    "gvkey_selection = 179700\n",
    "gvkey_frame = sorted_alldata_df_final_adf_results.loc[sorted_alldata_df_final_adf_results.gvkey==gvkey_selection]\n",
    "\n",
    "cds = gvkey_frame['market_cds_spread']\n",
    "pecds = gvkey_frame['pecds']\n",
    "\n",
    "gvkey_frame_dfgls = pd.DataFrame(data=(cds, pecds)).T\n",
    "var_model_dfgls = smt.VAR(gvkey_frame_dfgls)  \n",
    "#res_model_adf = var_model_adf.fit(maxlags=var_model_adf.select_order(maxlags=5).bic)  #VAR MODEL\n",
    "#bic_selected_lag_dfgls = var_model_dfgls.select_order(maxlags=5).bic\n",
    "\n",
    "#dfgls_test_cds = ADF(cds, lags=bic_selected_lag_dfgls)\n",
    "dfgls_test_cds = DFGLS(cds, trend='c', max_lags=10, method='BIC')\n",
    "dfgls_test_cds.summary()"
   ]
  },
  {
   "cell_type": "code",
   "execution_count": 9,
   "metadata": {},
   "outputs": [
    {
     "data": {
      "text/plain": [
       "    <                   <=                  ==                  !=                  >                   >=\n",
       "    dir()               hash()              help()              repr()              str()\n",
       "    .alternative_hypothesis                 .critical_values    .lags               .max_lags           .nobs\n",
       "    .null_hypothesis    .pvalue             .regression         .stat               .summary()          .trend\n",
       "    .valid_trends       .y"
      ]
     },
     "execution_count": 9,
     "metadata": {},
     "output_type": "execute_result"
    }
   ],
   "source": [
    "see(dfgls_test_cds)"
   ]
  },
  {
   "cell_type": "code",
   "execution_count": null,
   "metadata": {},
   "outputs": [],
   "source": [
    "#displaying only stationary observations\n",
    "\n",
    "#stationary only variables for 1% / 5% significance for both series\n",
    "#statationary_cdsbonds_df = df_stat_cdsbond_results.loc[((df_stat_cdsbond_results.stationarity_test_res_bond=='***') | (df_stat_cdsbond_results.stationarity_test_res_bond=='**')) & ((df_stat_cdsbond_results.stationarity_test_res_cds=='***') | (df_stat_cdsbond_results.stationarity_test_res_cds=='**'))]\n",
    "\n",
    "#USE: \n",
    "stationary_gvkeys\n",
    "\n",
    "#for the VAR in levels"
   ]
  },
  {
   "cell_type": "code",
   "execution_count": null,
   "metadata": {},
   "outputs": [],
   "source": []
  },
  {
   "cell_type": "code",
   "execution_count": null,
   "metadata": {},
   "outputs": [],
   "source": []
  },
  {
   "cell_type": "code",
   "execution_count": null,
   "metadata": {},
   "outputs": [],
   "source": [
    "## ADF testing with different lag conventions and the mean number of firms ?\n",
    "\n",
    "#max lags = 10  restrictions:\n",
    "print(\"10 LAGS: BONDS\")\n",
    "bond_lag_series = pd.to_numeric(df_stat_cdsbond_results['BOND_ADF_LAGS'], errors='coerce')\n",
    "print(bond_lag_series.mean())\n",
    "print(bond_lag_series.median())\n",
    "print(bond_lag_series.var())\n",
    "print(\"BOND_LAGS (>2)\", np.count_nonzero(bond_lag_series >2))\n",
    "print(\"BOND_LAGS ==(2)\", np.count_nonzero(bond_lag_series ==2))\n",
    "print(\"BOND_LAGS ==(1)\", np.count_nonzero(bond_lag_series ==1))\n",
    "print(\"BOND_LAGS ==(0)\", np.count_nonzero(bond_lag_series ==0))\n",
    "\n",
    "#with max lags == 10 restrictions\n",
    "print('\\n', \"10 LAGS: CDS\")\n",
    "cds_lag_series = pd.to_numeric(df_stat_cdsbond_results['CDS_ADF_LAGS'], errors='coerce')\n",
    "print(cds_lag_series.mean())\n",
    "print(cds_lag_series.median())\n",
    "print(cds_lag_series.var())\n",
    "print(\"CDS_LAGS (>2)\", np.count_nonzero(cds_lag_series >2))\n",
    "print(\"CDS_LAGS ==(2)\", np.count_nonzero(cds_lag_series ==2))\n",
    "print(\"CDS_LAGS ==(1)\", np.count_nonzero(cds_lag_series ==1))\n",
    "print(\"CDS_LAGS ==(0)\", np.count_nonzero(cds_lag_series ==0))"
   ]
  },
  {
   "cell_type": "code",
   "execution_count": null,
   "metadata": {},
   "outputs": [],
   "source": [
    "#10 lags\n",
    "bic_lag_series = pd.to_numeric(df_stat_cdsbond_results['bic_lag'], errors='coerce')\n",
    "bic_lag_series\n",
    "print(bic_lag_series.mean())\n",
    "print(bic_lag_series.median())\n",
    "print(bic_lag_series.var())\n",
    "print(\"BIC_LAGS (>2)\", np.count_nonzero(bic_lag_series >2))\n",
    "print(\"BIC_LAGS ==(2)\", np.count_nonzero(bic_lag_series ==2))\n",
    "print(\"BIC_LAGS ==(1)\", np.count_nonzero(bic_lag_series ==1))\n",
    "print(\"BIC_LAGS ==(0)\", np.count_nonzero(bic_lag_series ==0))"
   ]
  },
  {
   "cell_type": "code",
   "execution_count": null,
   "metadata": {},
   "outputs": [],
   "source": [
    "#new\n",
    "print(len(df_stat_cdsbond_results.loc[df_stat_cdsbond_results.Joint_Test_Outcome==\"BOND/CDS Both Have Unit Root\"]))\n",
    "print(len(df_stat_cdsbond_results.loc[df_stat_cdsbond_results.Joint_Test_Outcome==\"BOND ONLY HAS UR\"]))\n",
    "print(len(df_stat_cdsbond_results.loc[df_stat_cdsbond_results.Joint_Test_Outcome==\"CDS ONLY HAS UR\"]))\n",
    "print(len(df_stat_cdsbond_results.loc[df_stat_cdsbond_results.Joint_Test_Outcome==\"Cannot Reject H0\"]))"
   ]
  },
  {
   "cell_type": "code",
   "execution_count": null,
   "metadata": {},
   "outputs": [],
   "source": []
  },
  {
   "cell_type": "code",
   "execution_count": null,
   "metadata": {},
   "outputs": [],
   "source": []
  },
  {
   "cell_type": "code",
   "execution_count": null,
   "metadata": {},
   "outputs": [],
   "source": []
  },
  {
   "cell_type": "markdown",
   "metadata": {},
   "source": [
    "### VARIANCE RATIO"
   ]
  },
  {
   "cell_type": "code",
   "execution_count": null,
   "metadata": {},
   "outputs": [],
   "source": [
    "#single GVKEY: VarianceRatio test:\n",
    "gvkey_number = 174729\n",
    "gvkey_frame = sorted_alldata_df_final_adf_results.loc[sorted_alldata_df_final_adf_results.gvkey==gvkey_number]\n",
    "\n",
    "print(\"Variance Ratio Test with individual GVKEY NUMBER: {}\".format(gvkey_number))\n",
    "\n",
    "cds_vr = gvkey_frame['market_cds_spread']\n",
    "pecds_vr = gvkey_frame['pecds']\n",
    "#data_vr = pd.DataFrame(data=(cds, pecds)).T\n",
    "#data = np.column_stack((cds, pecds))\n",
    "\n",
    "lag_length_vr_test = 0.05 * len(cds_vr)\n",
    "print(lag_length_vr_test); print(np.floor(lag_length_vr_test))\n",
    "npfloor_vr_test_lag_5percent = np.floor(lag_length_vr_test)\n",
    "\n",
    "variance_ratio_model = VarianceRatio(cds_vr, trend='c', robust=True, lags=int(npfloor_vr_test_lag_5percent))      \n",
    "variance_ratio_model.summary()  "
   ]
  },
  {
   "cell_type": "code",
   "execution_count": null,
   "metadata": {},
   "outputs": [],
   "source": []
  },
  {
   "cell_type": "code",
   "execution_count": null,
   "metadata": {},
   "outputs": [],
   "source": []
  },
  {
   "cell_type": "code",
   "execution_count": null,
   "metadata": {},
   "outputs": [],
   "source": []
  },
  {
   "cell_type": "code",
   "execution_count": null,
   "metadata": {},
   "outputs": [],
   "source": []
  },
  {
   "cell_type": "code",
   "execution_count": null,
   "metadata": {},
   "outputs": [],
   "source": []
  },
  {
   "cell_type": "code",
   "execution_count": null,
   "metadata": {},
   "outputs": [],
   "source": []
  },
  {
   "cell_type": "markdown",
   "metadata": {},
   "source": [
    "# ZIVOT-ANDREWS"
   ]
  },
  {
   "cell_type": "code",
   "execution_count": 8,
   "metadata": {},
   "outputs": [
    {
     "data": {
      "text/html": [
       "<table class=\"simpletable\">\n",
       "<caption>Zivot-Andrews Results</caption>\n",
       "<tr>\n",
       "  <td>Test Statistic</td>   <td>-22.111</td>\n",
       "</tr>\n",
       "<tr>\n",
       "  <td>P-value</td>            <td>0.000</td>\n",
       "</tr>\n",
       "<tr>\n",
       "  <td>Lags</td>                   <td>0</td>\n",
       "</tr>\n",
       "</table><br/><br/>Trend: Constant<br/>Critical Values: -5.28 (1%), -4.81 (5%), -4.57 (10%)<br/>Null Hypothesis: The process contains a unit root with a single structural break.<br/>Alternative Hypothesis: The process is trend and break stationary."
      ],
      "text/plain": [
       "<class 'statsmodels.iolib.summary.Summary'>\n",
       "\"\"\"\n",
       "        Zivot-Andrews Results        \n",
       "=====================================\n",
       "Test Statistic                -22.111\n",
       "P-value                         0.000\n",
       "Lags                                0\n",
       "-------------------------------------\n",
       "\n",
       "Trend: Constant\n",
       "Critical Values: -5.28 (1%), -4.81 (5%), -4.57 (10%)\n",
       "Null Hypothesis: The process contains a unit root with a single structural break.\n",
       "Alternative Hypothesis: The process is trend and break stationary.\n",
       "\"\"\""
      ]
     },
     "execution_count": 8,
     "metadata": {},
     "output_type": "execute_result"
    }
   ],
   "source": [
    "#Z-A Single GVKEY tester\n",
    "gvkey_1045 = sorted_alldata_df_final_adf_results.loc[sorted_alldata_df_final_adf_results.gvkey==1045]\n",
    "\n",
    "gvkey_1045_za = ZivotAndrews(gvkey_1045['market_cds_spread'], trend='c',trim=0.15, max_lags=5, method='BIC')\n",
    "#trend\n",
    "gvkey_1045_za.summary()"
   ]
  },
  {
   "cell_type": "code",
   "execution_count": null,
   "metadata": {},
   "outputs": [],
   "source": []
  },
  {
   "cell_type": "code",
   "execution_count": 9,
   "metadata": {},
   "outputs": [
    {
     "name": "stderr",
     "output_type": "stream",
     "text": [
      "C:\\Users\\JasonSpano\\anaconda3\\lib\\site-packages\\ipykernel\\ipkernel.py:287: DeprecationWarning: `should_run_async` will not call `transform_cell` automatically in the future. Please pass the result to `transformed_cell` argument and any exception that happen during thetransform in `preprocessing_exc_tuple` in IPython 7.17 and above.\n",
      "  and should_run_async(code)\n"
     ]
    },
    {
     "data": {
      "text/html": [
       "<table class=\"simpletable\">\n",
       "<caption>Zivot-Andrews Results</caption>\n",
       "<tr>\n",
       "  <td>Test Statistic</td>    <td>-8.288</td>\n",
       "</tr>\n",
       "<tr>\n",
       "  <td>P-value</td>            <td>0.000</td>\n",
       "</tr>\n",
       "<tr>\n",
       "  <td>Lags</td>                   <td>0</td>\n",
       "</tr>\n",
       "</table><br/><br/>Trend: Constant<br/>Critical Values: -5.28 (1%), -4.81 (5%), -4.57 (10%)<br/>Null Hypothesis: The process contains a unit root with a single structural break.<br/>Alternative Hypothesis: The process is trend and break stationary."
      ],
      "text/plain": [
       "<class 'statsmodels.iolib.summary.Summary'>\n",
       "\"\"\"\n",
       "        Zivot-Andrews Results        \n",
       "=====================================\n",
       "Test Statistic                 -8.288\n",
       "P-value                         0.000\n",
       "Lags                                0\n",
       "-------------------------------------\n",
       "\n",
       "Trend: Constant\n",
       "Critical Values: -5.28 (1%), -4.81 (5%), -4.57 (10%)\n",
       "Null Hypothesis: The process contains a unit root with a single structural break.\n",
       "Alternative Hypothesis: The process is trend and break stationary.\n",
       "\"\"\""
      ]
     },
     "execution_count": 9,
     "metadata": {},
     "output_type": "execute_result"
    }
   ],
   "source": [
    "#Z-A Single GVKEY tester\n",
    "gvkey_10247 = sorted_alldata_df_final_adf_results.loc[sorted_alldata_df_final_adf_results.gvkey==10247]\n",
    "\n",
    "gvkey_10247_za = ZivotAndrews(gvkey_10247['market_cds_spread'], trend='c',trim=0.15, max_lags=5, method='BIC')\n",
    "#trend\n",
    "gvkey_10247_za.summary()"
   ]
  },
  {
   "cell_type": "code",
   "execution_count": null,
   "metadata": {},
   "outputs": [],
   "source": []
  },
  {
   "cell_type": "code",
   "execution_count": null,
   "metadata": {},
   "outputs": [],
   "source": []
  },
  {
   "cell_type": "code",
   "execution_count": null,
   "metadata": {},
   "outputs": [],
   "source": []
  },
  {
   "cell_type": "code",
   "execution_count": null,
   "metadata": {},
   "outputs": [],
   "source": []
  },
  {
   "cell_type": "code",
   "execution_count": null,
   "metadata": {},
   "outputs": [],
   "source": [
    "fig, (ax1, ax2) = plt.subplots(2, figsize=(12,9))\n",
    "fig.suptitle('Single GVKEY (1045) CDS Spread Subplots ')\n",
    "\n",
    "gvkey_1045.groupby(['year_index'])['market_cds_spread'].plot(ax=ax1)\n",
    "ax1.set_ylabel('CDS Spread')\n",
    "ax1.axes.get_xaxis().set_visible(False)\n",
    "\n",
    "\n",
    "gvkey_1045.groupby(['year_index']).mean()['market_cds_spread'].plot(ax=ax2);\n",
    "ax2.set_ylabel('Annual Mean CDS Spread')\n",
    "ax2.set_xlabel('Year');\n",
    "                       "
   ]
  },
  {
   "cell_type": "code",
   "execution_count": null,
   "metadata": {},
   "outputs": [],
   "source": [
    "#gvkey_1045_za.critical_values.items()\n",
    "ZA_critical_values_dictionary = list(gvkey_1045_za.critical_values.values())\n",
    "\n",
    "za_one_percent_cv = ZA_critical_values_dictionary[0]\n",
    "za_five_percent_cv = ZA_critical_values_dictionary[1]\n",
    "za_ten_percent_cv = ZA_critical_values_dictionary[2]\n",
    "\n",
    "print(\" ONE % ZA CRITICAL VALUE:\", za_one_percent_cv, '\\n', \"FIVE % ZA CRITICAL VALUE:\", za_five_percent_cv, '\\n', \n",
    "      \"TEN % ZA CRITICAL VALUE:\", za_ten_percent_cv)"
   ]
  },
  {
   "cell_type": "code",
   "execution_count": null,
   "metadata": {},
   "outputs": [],
   "source": []
  },
  {
   "cell_type": "code",
   "execution_count": null,
   "metadata": {},
   "outputs": [],
   "source": []
  },
  {
   "cell_type": "code",
   "execution_count": 13,
   "metadata": {},
   "outputs": [
    {
     "name": "stderr",
     "output_type": "stream",
     "text": [
      "C:\\Users\\JasonSpano\\anaconda3\\lib\\site-packages\\ipykernel\\ipkernel.py:287: DeprecationWarning: `should_run_async` will not call `transform_cell` automatically in the future. Please pass the result to `transformed_cell` argument and any exception that happen during thetransform in `preprocessing_exc_tuple` in IPython 7.17 and above.\n",
      "  and should_run_async(code)\n"
     ]
    },
    {
     "data": {
      "text/plain": [
       "(-4.390256086158083,\n",
       " 0.1556455464336574,\n",
       " {'1%': -5.27644, '5%': -4.81067, '10%': -4.56618},\n",
       " 10,\n",
       " 424)"
      ]
     },
     "execution_count": 13,
     "metadata": {},
     "output_type": "execute_result"
    }
   ],
   "source": [
    "#insert GVKEY, view individual test results\n",
    "\n",
    "gvkey_selection = 176760\n",
    "\n",
    "## breakpoint / statsmodels \n",
    "za_1300_smls = zivot_andrews(sorted_alldata_df_final_adf_results.loc[sorted_alldata_df_final_adf_results.gvkey==gvkey_selection]['market_cds_spread'], \n",
    "             regression='c',\n",
    "            trim=0.075, \n",
    "            maxlag=10, autolag='t-stat')\n",
    "\n",
    "\n",
    "\n",
    "za_1300_smls"
   ]
  },
  {
   "cell_type": "code",
   "execution_count": null,
   "metadata": {},
   "outputs": [],
   "source": []
  },
  {
   "cell_type": "code",
   "execution_count": null,
   "metadata": {},
   "outputs": [],
   "source": []
  },
  {
   "cell_type": "code",
   "execution_count": 9,
   "metadata": {},
   "outputs": [
    {
     "name": "stderr",
     "output_type": "stream",
     "text": [
      "C:\\Users\\JasonSpano\\anaconda3\\lib\\site-packages\\ipykernel\\ipkernel.py:287: DeprecationWarning: `should_run_async` will not call `transform_cell` automatically in the future. Please pass the result to `transformed_cell` argument and any exception that happen during thetransform in `preprocessing_exc_tuple` in IPython 7.17 and above.\n",
      "  and should_run_async(code)\n"
     ]
    },
    {
     "data": {
      "text/html": [
       "<table class=\"simpletable\">\n",
       "<caption>Zivot-Andrews Results</caption>\n",
       "<tr>\n",
       "  <td>Test Statistic</td>    <td>-4.390</td>\n",
       "</tr>\n",
       "<tr>\n",
       "  <td>P-value</td>            <td>0.156</td>\n",
       "</tr>\n",
       "<tr>\n",
       "  <td>Lags</td>                  <td>10</td>\n",
       "</tr>\n",
       "</table><br/><br/>Trend: Constant<br/>Critical Values: -5.28 (1%), -4.81 (5%), -4.57 (10%)<br/>Null Hypothesis: The process contains a unit root with a single structural break.<br/>Alternative Hypothesis: The process is trend and break stationary."
      ],
      "text/plain": [
       "<class 'statsmodels.iolib.summary.Summary'>\n",
       "\"\"\"\n",
       "        Zivot-Andrews Results        \n",
       "=====================================\n",
       "Test Statistic                 -4.390\n",
       "P-value                         0.156\n",
       "Lags                               10\n",
       "-------------------------------------\n",
       "\n",
       "Trend: Constant\n",
       "Critical Values: -5.28 (1%), -4.81 (5%), -4.57 (10%)\n",
       "Null Hypothesis: The process contains a unit root with a single structural break.\n",
       "Alternative Hypothesis: The process is trend and break stationary.\n",
       "\"\"\""
      ]
     },
     "execution_count": 9,
     "metadata": {},
     "output_type": "execute_result"
    }
   ],
   "source": [
    "#insert GVKEY, view individual test results\n",
    "\n",
    "gvkey_selection = 176760\n",
    "\n",
    "za_1300 = ZivotAndrews(sorted_alldata_df_final_adf_results.loc[sorted_alldata_df_final_adf_results.gvkey==gvkey_selection]['market_cds_spread'], \n",
    "             trend='c',trim=0.075, max_lags=10, method='t-stat')\n",
    "\n",
    "\n",
    "\n",
    "za_1300.summary()"
   ]
  },
  {
   "cell_type": "code",
   "execution_count": 18,
   "metadata": {},
   "outputs": [
    {
     "name": "stderr",
     "output_type": "stream",
     "text": [
      "C:\\Users\\JasonSpano\\anaconda3\\lib\\site-packages\\ipykernel\\ipkernel.py:287: DeprecationWarning: `should_run_async` will not call `transform_cell` automatically in the future. Please pass the result to `transformed_cell` argument and any exception that happen during thetransform in `preprocessing_exc_tuple` in IPython 7.17 and above.\n",
      "  and should_run_async(code)\n"
     ]
    },
    {
     "data": {
      "text/plain": [
       "{'1%': -5.03421, '5%': -4.4058, '10%': -4.13678}"
      ]
     },
     "execution_count": 18,
     "metadata": {},
     "output_type": "execute_result"
    }
   ],
   "source": [
    "za_1300.critical_values"
   ]
  },
  {
   "cell_type": "code",
   "execution_count": 20,
   "metadata": {},
   "outputs": [
    {
     "data": {
      "text/plain": [
       "    <                   <=                  ==                  !=                  >                   >=\n",
       "    dir()               hash()              help()              repr()              str()\n",
       "    .alternative_hypothesis                 .critical_values    .lags               .nobs               .null_hypothesis\n",
       "    .pvalue             .stat               .summary()          .trend              .valid_trends       .y"
      ]
     },
     "execution_count": 20,
     "metadata": {},
     "output_type": "execute_result"
    }
   ],
   "source": [
    "see(za_1300)"
   ]
  },
  {
   "cell_type": "code",
   "execution_count": 21,
   "metadata": {},
   "outputs": [
    {
     "data": {
      "text/plain": [
       "-4.0379237716515295"
      ]
     },
     "execution_count": 21,
     "metadata": {},
     "output_type": "execute_result"
    }
   ],
   "source": [
    "za_1300.stat"
   ]
  },
  {
   "cell_type": "code",
   "execution_count": 24,
   "metadata": {},
   "outputs": [
    {
     "data": {
      "text/plain": [
       "-4.4058"
      ]
     },
     "execution_count": 24,
     "metadata": {},
     "output_type": "execute_result"
    }
   ],
   "source": [
    "za_1300.critical_values['5%']"
   ]
  },
  {
   "cell_type": "code",
   "execution_count": null,
   "metadata": {},
   "outputs": [],
   "source": []
  },
  {
   "cell_type": "code",
   "execution_count": 52,
   "metadata": {
    "scrolled": true
   },
   "outputs": [
    {
     "name": "stderr",
     "output_type": "stream",
     "text": [
      "C:\\Users\\JasonSpano\\anaconda3\\lib\\site-packages\\ipykernel\\ipkernel.py:287: DeprecationWarning: `should_run_async` will not call `transform_cell` automatically in the future. Please pass the result to `transformed_cell` argument and any exception that happen during thetransform in `preprocessing_exc_tuple` in IPython 7.17 and above.\n",
      "  and should_run_async(code)\n"
     ]
    },
    {
     "name": "stdout",
     "output_type": "stream",
     "text": [
      " COMPANY ==  ADVANCED MICRO DEVICES \n",
      " SECTOR ==   Technology\n",
      "GVKEY (1161) STANDARD DEVIATION IS:  395.9273\n"
     ]
    },
    {
     "data": {
      "image/png": "[encoded data removed]",
      "text/plain": [
       "<Figure size 864x648 with 2 Axes>"
      ]
     },
     "metadata": {
      "needs_background": "light"
     },
     "output_type": "display_data"
    }
   ],
   "source": [
    "#insert GVKEY, view evolution of the key's CDS series & annual mean changes\n",
    "#gvkey_selection = 1300\n",
    "\n",
    "gvkey_group_df = sorted_alldata_df_final_adf_results.loc[sorted_alldata_df_final_adf_results.gvkey==gvkey_selection]\n",
    "print(\" COMPANY == \", gvkey_group_df.company_name.iloc[0], '\\n', \"SECTOR ==  \", gvkey_group_df.sector.iloc[0])\n",
    "\n",
    "#view that GVKEY's standard deviation too\n",
    "print(\"GVKEY ({}) STANDARD DEVIATION IS: \".format(gvkey_selection),\n",
    "     np.round(sorted_alldata_df_final_adf_results.loc[sorted_alldata_df_final_adf_results.gvkey==gvkey_selection]['market_cds_spread'].std(),4))\n",
    "\n",
    "\n",
    "#PLOT: \n",
    "\n",
    "fig, (ax1, ax2) = plt.subplots(2, figsize=(12,9))\n",
    "fig.suptitle('Single GVKEY: {} CDS Spread Subplots'.format(gvkey_selection))\n",
    "\n",
    "gvkey_group_df.groupby(['year_index'])['market_cds_spread'].plot(ax=ax1)\n",
    "ax1.set_ylabel('CDS Spread')\n",
    "ax1.axes.get_xaxis().set_visible(False)\n",
    "\n",
    "\n",
    "gvkey_group_df.groupby(['year_index']).mean()['market_cds_spread'].plot(ax=ax2);\n",
    "ax2.set_ylabel('Annual Mean CDS Spread')\n",
    "ax2.set_xlabel('Year');\n",
    "                       "
   ]
  },
  {
   "cell_type": "code",
   "execution_count": null,
   "metadata": {},
   "outputs": [],
   "source": []
  },
  {
   "cell_type": "code",
   "execution_count": null,
   "metadata": {},
   "outputs": [],
   "source": [
    "### PRIMER\n",
    "\n"
   ]
  },
  {
   "cell_type": "code",
   "execution_count": null,
   "metadata": {},
   "outputs": [],
   "source": [
    "#insert GVKEY, view evolution of the key's CDS series & annual mean changes\n",
    "gvkey_selection = 1045\n",
    "\n",
    "gvkey_group_df = sorted_alldata_df_final_adf_results.loc[sorted_alldata_df_final_adf_results.gvkey==gvkey_selection]\n",
    "print(\" COMPANY == \", gvkey_group_df.company_name.iloc[0], '\\n', \"SECTOR ==  \", gvkey_group_df.sector.iloc[0])\n",
    "\n",
    "#view that GVKEY's standard deviation too\n",
    "print(\" GVKEY ({}) STANDARD DEVIATION IS: \".format(gvkey_selection),\n",
    "     np.round(sorted_alldata_df_final_adf_results.loc[sorted_alldata_df_final_adf_results.gvkey==gvkey_selection]['market_cds_spread'].std(),2))\n",
    "\n",
    "\n",
    "#PLOT: \n",
    "\n",
    "fig, (ax1, ax2) = plt.subplots(2, figsize=(12,9))\n",
    "fig.suptitle('GVKEY: {} CDS Spread Subplots'.format(gvkey_selection))\n",
    "\n",
    "gvkey_group_df.groupby(['year_index'])['market_cds_spread'].plot(ax=ax1)\n",
    "ax1.set_ylabel('CDS Spread')\n",
    "ax1.axes.get_xaxis().set_visible(False)\n",
    "\n",
    "\n",
    "gvkey_group_df.groupby(['year_index']).mean()['market_cds_spread'].plot(ax=ax2);\n",
    "ax2.set_ylabel('Annual Mean CDS Spread')\n",
    "ax2.set_xlabel('Year');\n",
    "                       "
   ]
  },
  {
   "cell_type": "markdown",
   "metadata": {},
   "source": [
    "## Visualise this point in time directly from the data DF: \n",
    "\n",
    "* Continuing with the: GVKEY (1045) example"
   ]
  },
  {
   "cell_type": "code",
   "execution_count": null,
   "metadata": {},
   "outputs": [],
   "source": [
    "#view the loc_index indicated by the ZA test for one specific GVKEY:\n",
    "zivotandrews_breakpoint_locations.loc[zivotandrews_breakpoint_locations.gvkey==gvkey_selection]"
   ]
  },
  {
   "cell_type": "code",
   "execution_count": null,
   "metadata": {},
   "outputs": [],
   "source": []
  },
  {
   "cell_type": "code",
   "execution_count": null,
   "metadata": {},
   "outputs": [],
   "source": [
    "#create a mini DF with just the three relevant series to simplify the viewing process:\n",
    "zivot_andrews_mini_explanation_df = sorted_alldata_df_final_adf_results[['gvkey','trade_date','market_cds_spread']]\n",
    "\n",
    "#now, visualise a few observations before and after the specified \"break point/date\"\n",
    "zivot_andrews_mini_explanation_df.loc[zivot_andrews_mini_explanation_df.gvkey==gvkey_selection][274:280]"
   ]
  },
  {
   "cell_type": "code",
   "execution_count": null,
   "metadata": {},
   "outputs": [],
   "source": []
  },
  {
   "cell_type": "markdown",
   "metadata": {},
   "source": [
    "#### Thus, it becomes fairly evident that the last date of the original breakpoint is (2010-10-15) which corresponds to the index.location(276). This is the precise location given by the Zivot Andrews test.\n",
    "* Accordingly, it is obvious that the next data point is several years later and the spread is substantially higher. Thus, this si the location of the structural breakpoint. "
   ]
  },
  {
   "cell_type": "code",
   "execution_count": null,
   "metadata": {},
   "outputs": [],
   "source": []
  },
  {
   "cell_type": "code",
   "execution_count": null,
   "metadata": {},
   "outputs": [],
   "source": []
  },
  {
   "cell_type": "code",
   "execution_count": null,
   "metadata": {},
   "outputs": [],
   "source": []
  },
  {
   "cell_type": "code",
   "execution_count": null,
   "metadata": {},
   "outputs": [],
   "source": []
  },
  {
   "cell_type": "code",
   "execution_count": null,
   "metadata": {},
   "outputs": [],
   "source": []
  },
  {
   "attachments": {
    "image.png": {
     "image/png": "[encoded data removed]"
    }
   },
   "cell_type": "markdown",
   "metadata": {},
   "source": [
    "![image.png](attachment:image.png)"
   ]
  },
  {
   "cell_type": "code",
   "execution_count": null,
   "metadata": {},
   "outputs": [],
   "source": []
  },
  {
   "cell_type": "code",
   "execution_count": null,
   "metadata": {},
   "outputs": [],
   "source": []
  },
  {
   "cell_type": "code",
   "execution_count": null,
   "metadata": {},
   "outputs": [],
   "source": []
  },
  {
   "cell_type": "code",
   "execution_count": null,
   "metadata": {},
   "outputs": [],
   "source": [
    "##E.G Arch Unitroot Test \n",
    "#Test for a consistent time-series without structural breaks with the ZA test\n",
    "\n",
    "#specify the same key as above:\n",
    "gvkey_selection = 1045\n",
    "\n",
    "#set the trend == (just a constant); same specification used in the statsmodel test for the breakpoint dates\n",
    "ZivotAndrews(sorted_alldata_df_final_adf_results.loc[sorted_alldata_df_final_adf_results.gvkey==gvkey_selection]['market_cds_spread'], \n",
    "             trend='c',trim=0.15, max_lags=5, method='BIC').summary()"
   ]
  },
  {
   "cell_type": "code",
   "execution_count": null,
   "metadata": {},
   "outputs": [],
   "source": []
  },
  {
   "cell_type": "code",
   "execution_count": null,
   "metadata": {},
   "outputs": [],
   "source": [
    "#view the loc_index indicated by the ZA test for one specific GVKEY:\n",
    "zivotandrews_breakpoint_locations.loc[zivotandrews_breakpoint_locations.gvkey==gvkey_selection]"
   ]
  },
  {
   "cell_type": "code",
   "execution_count": null,
   "metadata": {},
   "outputs": [],
   "source": [
    "#create a mini DF with just the three relevant series to simplify the viewing process:\n",
    "zivot_andrews_mini_explanation_df = sorted_alldata_df_final_adf_results[['gvkey','trade_date','market_cds_spread']]\n",
    "\n",
    "#now, visualise a few observations before and after the specified \"break point/date\"\n",
    "zivot_andrews_mini_explanation_df.loc[zivot_andrews_mini_explanation_df.gvkey==gvkey_selection][274:280]"
   ]
  },
  {
   "cell_type": "markdown",
   "metadata": {},
   "source": [
    "#### Thus, it becomes fairly evident that the last date of the original breakpoint is (2010-10-15) which corresponds to the index.location(276). This is the precise location given by the Zivot Andrews test.\n",
    "* Accordingly, it is obvious that the next data point is several years later and the spread is substantially higher. Thus, this is the location of the structural breakpoint. "
   ]
  },
  {
   "cell_type": "code",
   "execution_count": null,
   "metadata": {},
   "outputs": [],
   "source": []
  },
  {
   "cell_type": "code",
   "execution_count": null,
   "metadata": {},
   "outputs": [],
   "source": []
  },
  {
   "cell_type": "markdown",
   "metadata": {},
   "source": [
    "# Cross-validation of the structural break points (date-based value) with the test-statistics/significance levels derived from the arch.unitroot.ZivotAndrews\n",
    "\n",
    "* This will allow us to isolate which GVKEYS actually fail to reject the null hypothesis, and then cross-reference the date associated with the break\n",
    "\n",
    "* This is because only the statsmodels ZA package has the date feature, but the arch.unitroot package is more robust for running the actual test and deriving the statistics\n",
    "\n",
    "\n",
    "* A detailed breakdown is again in the primer document, a very broad overview is presented below."
   ]
  },
  {
   "cell_type": "code",
   "execution_count": null,
   "metadata": {},
   "outputs": [],
   "source": [
    "##E.G Arch Unitroot Test \n",
    "#Test for a consistent time-series without structural breaks with the ZA test\n",
    "\n",
    "#specify the same key as above:\n",
    "gvkey_selection = 1045\n",
    "\n",
    "#set the trend == (just a constant); same specification used in the statsmodel test for the breakpoint dates\n",
    "ZivotAndrews(sorted_alldata_df_final_adf_results.loc[sorted_alldata_df_final_adf_results.gvkey==gvkey_selection]['market_cds_spread'], \n",
    "             trend='c',trim=0.15, max_lags=5, method='BIC').summary()"
   ]
  },
  {
   "cell_type": "markdown",
   "metadata": {},
   "source": [
    "* The reported test statistic is extremely negative & significant. Thus, rejecting the Null Hypothesis at the 99% significance level \n",
    "* This supports the visual representation of there being indeed, a severe structural break"
   ]
  },
  {
   "cell_type": "code",
   "execution_count": null,
   "metadata": {},
   "outputs": [],
   "source": []
  },
  {
   "cell_type": "code",
   "execution_count": null,
   "metadata": {},
   "outputs": [],
   "source": []
  },
  {
   "cell_type": "code",
   "execution_count": null,
   "metadata": {},
   "outputs": [],
   "source": [
    "#create a seperate DF specifically with just break stationary GVKEYS -- although unneeded. \n",
    "combined_za_has_bp_df = combined_za_breakpoints_df.loc[combined_za_breakpoints_df.CDS_pval<=0.05]\n",
    "\n",
    "print(\"#NUM OF BREAK STATIONARY GVKEYS {}\".format(len(combined_za_has_bp_df)))\n",
    "#114"
   ]
  },
  {
   "cell_type": "code",
   "execution_count": null,
   "metadata": {},
   "outputs": [],
   "source": [
    "#cut this as all keys with pval < 0.05 have trend/break stationary outcome"
   ]
  },
  {
   "cell_type": "code",
   "execution_count": null,
   "metadata": {},
   "outputs": [],
   "source": []
  },
  {
   "cell_type": "code",
   "execution_count": null,
   "metadata": {},
   "outputs": [],
   "source": []
  },
  {
   "cell_type": "code",
   "execution_count": null,
   "metadata": {},
   "outputs": [],
   "source": []
  },
  {
   "cell_type": "code",
   "execution_count": null,
   "metadata": {},
   "outputs": [],
   "source": []
  },
  {
   "cell_type": "code",
   "execution_count": null,
   "metadata": {},
   "outputs": [],
   "source": []
  },
  {
   "cell_type": "markdown",
   "metadata": {},
   "source": [
    "# JOHANSENS COINT"
   ]
  },
  {
   "cell_type": "code",
   "execution_count": null,
   "metadata": {},
   "outputs": [],
   "source": [
    "# number of unit-roots: (ADF) old version\n",
    "\n",
    "UR_ONLY_DF = sorted_alldata_df_final_adf_results.loc[\n",
    "    sorted_alldata_df_final_adf_results.Joint_Test_Outcome=='BOND/CDS Both Have Unit Root']\n",
    "\n",
    "len(UR_ONLY_DF.groupby('gvkey')['Joint_Test_Outcome'].nunique())"
   ]
  },
  {
   "cell_type": "code",
   "execution_count": null,
   "metadata": {},
   "outputs": [],
   "source": [
    "gvkey_1919 = sorted_alldata_df_final_adf_results.loc[sorted_alldata_df_final_adf_results.gvkey==1919]\n",
    "print(\"Total Length of Gvkey: {} OBS\".format(len(gvkey_1919)))"
   ]
  },
  {
   "cell_type": "code",
   "execution_count": null,
   "metadata": {},
   "outputs": [],
   "source": []
  },
  {
   "cell_type": "code",
   "execution_count": null,
   "metadata": {},
   "outputs": [],
   "source": []
  },
  {
   "cell_type": "code",
   "execution_count": null,
   "metadata": {},
   "outputs": [],
   "source": []
  },
  {
   "cell_type": "code",
   "execution_count": 8,
   "metadata": {},
   "outputs": [
    {
     "name": "stdout",
     "output_type": "stream",
     "text": [
      " COMPANY ==  AMERICAN AIRLINES GROUP INC \n",
      " SECTOR ==   Transporation\n",
      "JOHANSENS COINT TEST with individual GVKEY NUMBER: 1045\n",
      "Optimal Lag Lengths: 0\n",
      "Johansen cointegration test using maximum eigenvalue test statistic with 5% significance level\n",
      "=====================================\n",
      "r_0 r_1 test statistic critical value\n",
      "-------------------------------------\n",
      "  0   1          17.94          14.26\n",
      "  1   2         0.2074          3.841\n",
      "-------------------------------------\n",
      "Number of Cointegrating relationships: 1\n"
     ]
    }
   ],
   "source": [
    "#single GVKEY: cointegration test:\n",
    "gvkey_selection = 1045\n",
    "#other keys: 1045 / 2184 / 1045\n",
    "\n",
    "gvkey_group_df = sorted_alldata_df_final_adf_results.loc[sorted_alldata_df_final_adf_results.gvkey==gvkey_selection]\n",
    "print(\" COMPANY == \", gvkey_group_df.company_name.iloc[0], '\\n', \"SECTOR ==  \", gvkey_group_df.sector.iloc[0])\n",
    "\n",
    "print(\"JOHANSENS COINT TEST with individual GVKEY NUMBER: \" + str(gvkey_selection))\n",
    "\n",
    "cds = gvkey_group_df['market_cds_spread']\n",
    "pecds = gvkey_group_df['pecds']\n",
    "data = pd.DataFrame(data=(cds, pecds)).T\n",
    "#data = np.column_stack((cds, pecds))\n",
    "\n",
    "model = vecm.select_order(data, maxlags=5)\n",
    "optimal_lag_length = model.bic\n",
    "print(\"Optimal Lag Lengths: {}\".format(optimal_lag_length))\n",
    "    \n",
    "vecm_cointeg_rank = vecm.select_coint_rank(data, det_order=0, \n",
    "                                                  k_ar_diff=optimal_lag_length, \n",
    "                                                  method='maxeig', \n",
    "                                                  signif=0.05)\n",
    "        \n",
    "print(vecm_cointeg_rank.summary())\n",
    "print(\"Number of Cointegrating relationships:\", vecm_cointeg_rank.rank)"
   ]
  },
  {
   "cell_type": "code",
   "execution_count": null,
   "metadata": {},
   "outputs": [],
   "source": []
  },
  {
   "cell_type": "code",
   "execution_count": null,
   "metadata": {},
   "outputs": [],
   "source": []
  },
  {
   "cell_type": "markdown",
   "metadata": {},
   "source": [
    "### STATSMODELS JOHANSEN COINTEGRATION TEST (PROPER)"
   ]
  },
  {
   "cell_type": "code",
   "execution_count": null,
   "metadata": {},
   "outputs": [],
   "source": [
    "#https://www.statsmodels.org/stable/generated/statsmodels.tsa.vector_ar.vecm.JohansenTestResult.html#statsmodels.tsa.vector_ar.vecm.JohansenTestResult"
   ]
  },
  {
   "cell_type": "code",
   "execution_count": 18,
   "metadata": {},
   "outputs": [
    {
     "name": "stdout",
     "output_type": "stream",
     "text": [
      " COMPANY ==  AMERICAN AIRLINES GROUP INC \n",
      " SECTOR ==   Transporation\n",
      "JOHANSENS COINT TEST with individual GVKEY NUMBER: 1045\n",
      "MODEL SELECTED ORDERS //  {'aic': 0, 'bic': 0, 'hqic': 0, 'fpe': 0} \n",
      "\n",
      "Optimal Lag Length BIC: 0\n"
     ]
    },
    {
     "data": {
      "text/plain": [
       "<statsmodels.tsa.vector_ar.vecm.JohansenTestResult at 0x1b156469688>"
      ]
     },
     "execution_count": 18,
     "metadata": {},
     "output_type": "execute_result"
    }
   ],
   "source": [
    "#single GVKEY: (JOHANSEN) cointegration test:\n",
    "gvkey_selection = 1045\n",
    "#other keys: 1045 / 2184 / 1045\n",
    "\n",
    "gvkey_group_df = sorted_alldata_df_final_adf_results.loc[sorted_alldata_df_final_adf_results.gvkey==gvkey_selection]\n",
    "print(\" COMPANY == \", gvkey_group_df.company_name.iloc[0], '\\n', \"SECTOR ==  \", gvkey_group_df.sector.iloc[0])\n",
    "\n",
    "print(\"JOHANSENS COINT TEST with individual GVKEY NUMBER: \" + str(gvkey_selection))\n",
    "\n",
    "cds = gvkey_group_df['market_cds_spread']\n",
    "pecds = gvkey_group_df['pecds']\n",
    "data = pd.DataFrame(data=(cds, pecds)).T\n",
    "#data = np.column_stack((cds, pecds))\n",
    "\n",
    "model = vecm.select_order(data, maxlags=5)\n",
    "optimal_lag_length = model.bic\n",
    "print(\"MODEL SELECTED ORDERS // \", model.selected_orders, '\\n')\n",
    "print(\"Optimal Lag Length BIC: {}\".format(optimal_lag_length))\n",
    "\n",
    "vecm_johansen_coint = vecm.coint_johansen(data,\n",
    "                                         det_order = 0,\n",
    "                                         k_ar_diff = optimal_lag_length)\n",
    "\n",
    "        \n",
    "vecm_johansen_coint"
   ]
  },
  {
   "cell_type": "code",
   "execution_count": 17,
   "metadata": {},
   "outputs": [
    {
     "data": {
      "text/plain": [
       "    <                <=               ==               !=               >                >=               dir()\n",
       "    hash()           help()           repr()           str()            .cvm             .cvt             .eig\n",
       "    .evec            .ind             .lr1             .lr2             .max_eig_stat    .max_eig_stat_crit_vals\n",
       "    .meth            .r0t             .rkt             .trace_stat      .trace_stat_crit_vals"
      ]
     },
     "execution_count": 17,
     "metadata": {},
     "output_type": "execute_result"
    }
   ],
   "source": [
    "see(vecm_johansen_coint)"
   ]
  },
  {
   "cell_type": "code",
   "execution_count": 19,
   "metadata": {},
   "outputs": [
    {
     "data": {
      "text/plain": [
       "array([0.03237908, 0.00038047])"
      ]
     },
     "execution_count": 19,
     "metadata": {},
     "output_type": "execute_result"
    }
   ],
   "source": [
    "vecm_johansen_coint.eig"
   ]
  },
  {
   "cell_type": "code",
   "execution_count": 20,
   "metadata": {},
   "outputs": [
    {
     "data": {
      "text/plain": [
       "array([[ 0.00029979, -0.00043628],\n",
       "       [-0.20013364, -0.05115033]])"
      ]
     },
     "execution_count": 20,
     "metadata": {},
     "output_type": "execute_result"
    }
   ],
   "source": [
    "vecm_johansen_coint.evec"
   ]
  },
  {
   "cell_type": "code",
   "execution_count": 22,
   "metadata": {},
   "outputs": [
    {
     "data": {
      "text/plain": [
       "array([0, 1], dtype=int64)"
      ]
     },
     "execution_count": 22,
     "metadata": {},
     "output_type": "execute_result"
    }
   ],
   "source": [
    "vecm_johansen_coint.ind"
   ]
  },
  {
   "cell_type": "code",
   "execution_count": 30,
   "metadata": {},
   "outputs": [
    {
     "data": {
      "text/plain": [
       "array([18.14600339,  0.20739464])"
      ]
     },
     "execution_count": 30,
     "metadata": {},
     "output_type": "execute_result"
    }
   ],
   "source": [
    "vecm_johansen_coint.trace_stat #trace"
   ]
  },
  {
   "cell_type": "code",
   "execution_count": 31,
   "metadata": {},
   "outputs": [
    {
     "data": {
      "text/plain": [
       "array([17.93860875,  0.20739464])"
      ]
     },
     "execution_count": 31,
     "metadata": {},
     "output_type": "execute_result"
    }
   ],
   "source": [
    "vecm_johansen_coint.max_eig_stat #max eigenvalue stat"
   ]
  },
  {
   "cell_type": "code",
   "execution_count": 27,
   "metadata": {},
   "outputs": [
    {
     "data": {
      "text/plain": [
       "array([[12.2971, 14.2639, 18.52  ],\n",
       "       [ 2.7055,  3.8415,  6.6349]])"
      ]
     },
     "execution_count": 27,
     "metadata": {},
     "output_type": "execute_result"
    }
   ],
   "source": [
    "vecm_johansen_coint.max_eig_stat_crit_vals"
   ]
  },
  {
   "cell_type": "code",
   "execution_count": 28,
   "metadata": {},
   "outputs": [
    {
     "data": {
      "text/plain": [
       "'johansen'"
      ]
     },
     "execution_count": 28,
     "metadata": {},
     "output_type": "execute_result"
    }
   ],
   "source": [
    "vecm_johansen_coint.meth"
   ]
  },
  {
   "cell_type": "code",
   "execution_count": 34,
   "metadata": {},
   "outputs": [
    {
     "data": {
      "text/plain": [
       "array([[13.4294, 15.4943, 19.9349],\n",
       "       [ 2.7055,  3.8415,  6.6349]])"
      ]
     },
     "execution_count": 34,
     "metadata": {},
     "output_type": "execute_result"
    }
   ],
   "source": [
    "vecm_johansen_coint.trace_stat_crit_vals #crit values of trace statistic"
   ]
  },
  {
   "cell_type": "code",
   "execution_count": 21,
   "metadata": {},
   "outputs": [
    {
     "data": {
      "text/plain": [
       "array([[ 1.72039083e+01, -1.26966641e-02],\n",
       "       [ 2.18139083e+01,  6.75886670e-02],\n",
       "       [ 5.96390826e+00, -2.75079025e-02],\n",
       "       ...,\n",
       "       [-7.31609174e+00,  9.61142572e-02],\n",
       "       [-7.31609174e+00,  2.88771672e-02],\n",
       "       [-7.31609174e+00, -1.62370416e-01]])"
      ]
     },
     "execution_count": 21,
     "metadata": {},
     "output_type": "execute_result"
    }
   ],
   "source": [
    "vecm_johansen_coint.r0t #residuals for delta(y)"
   ]
  },
  {
   "cell_type": "code",
   "execution_count": 35,
   "metadata": {},
   "outputs": [
    {
     "data": {
      "text/plain": [
       "array([[-1.94034563e+03, -1.92447668e+01],\n",
       "       [-1.91121563e+03, -1.91440654e+01],\n",
       "       [-1.89793563e+03, -1.91384606e+01],\n",
       "       ...,\n",
       "       [ 2.02240437e+03, -1.15147436e+00],\n",
       "       [ 2.02240437e+03, -1.08948445e+00],\n",
       "       [ 2.02240437e+03, -1.21874213e+00]])"
      ]
     },
     "execution_count": 35,
     "metadata": {},
     "output_type": "execute_result"
    }
   ],
   "source": [
    "vecm_johansen_coint.rkt #residuals for Y-1"
   ]
  },
  {
   "cell_type": "code",
   "execution_count": null,
   "metadata": {},
   "outputs": [],
   "source": []
  },
  {
   "cell_type": "code",
   "execution_count": null,
   "metadata": {},
   "outputs": [],
   "source": []
  },
  {
   "cell_type": "markdown",
   "metadata": {},
   "source": [
    "#### EM ALGO #####\n",
    "#https://machinelearningmastery.com/expectation-maximization-em-algorithm/\n",
    "\n",
    "* https://towardsdatascience.com/implement-expectation-maximization-em-algorithm-in-python-from-scratch-f1278d1b9137"
   ]
  },
  {
   "cell_type": "code",
   "execution_count": 43,
   "metadata": {},
   "outputs": [],
   "source": [
    "from sklearn.mixture import GaussianMixture"
   ]
  },
  {
   "cell_type": "code",
   "execution_count": 46,
   "metadata": {},
   "outputs": [
    {
     "name": "stdout",
     "output_type": "stream",
     "text": [
      "[0 0 0 0 0 0 0 0 0 0 0 0 0 0 0 0 0 0 0 0 0 0 0 0 0 0 0 0 0 0 0 0 0 0 0 0 0\n",
      " 0 0 0 0 0 0 0 0 0 0 0 0 0 0 0 0 0 0 0 0 0 0 0 0 0 0 0 0 0 0 0 0 0 0 0 0 0\n",
      " 0 0 0 0 0 0 0 0 0 0 0 0 0 0 0 0 0 0 0 0 0 0 0 0 0 0] \n",
      "\n",
      " [0 0 0 0 0 0 0 0 0 0 0 0 0 0 0 0 0 0 0 0 0 0 0 0 0 0 0 0 0 0 0 0 0 0 0 0 0\n",
      " 0 0 0 0 0 0 0 0 0 0 0 0 0 0 0 0 0 0 0 0 0 0 0 0 0 0 0 0 0 0 0 0 0 0 0 0 0\n",
      " 0 0 0 0 0 0 0 0 0 0 0 0 0 0 0 0 0 0 0 0 0 0 0 0 0 0]\n"
     ]
    }
   ],
   "source": [
    "gvkey_selection = 1045\n",
    "#other keys: 1045 / 2184 / 1045\n",
    "\n",
    "gvkey_group_df = sorted_alldata_df_final_adf_results.loc[sorted_alldata_df_final_adf_results.gvkey==gvkey_selection]\n",
    "\n",
    "cds = gvkey_group_df['market_cds_spread']\n",
    "pecds = gvkey_group_df['pecds']\n",
    "\n",
    "#cds_mean = cds.mean()\n",
    "#pecds_mean = pecds.mean()\n",
    "#cds_stddev = cds.std()\n",
    "#pecds_stddev = pecds.std()\n",
    "#data = pd.DataFrame(data=(cds, pecds)).T\n",
    "\n",
    "#cds_X1 = normal(loc=cds_mean, scale=cds_stddev, size=len(cds))\n",
    "restacked_data = np.hstack((cds, pecds))\n",
    "restacked_data = restacked_data.reshape((len(restacked_data), 1))\n",
    "\n",
    "model_gmm = GaussianMixture(n_components=2, init_params='random')\n",
    "model_gmm.fit(restacked_data)\n",
    "\n",
    "model_yhat = model_gmm.predict(restacked_data)\n",
    "print(model_yhat[:100], '\\n\\n', model_yhat[-100:])"
   ]
  },
  {
   "cell_type": "code",
   "execution_count": 53,
   "metadata": {},
   "outputs": [
    {
     "data": {
      "text/plain": [
       "<matplotlib.axes._subplots.AxesSubplot at 0x1b15e0e5ac8>"
      ]
     },
     "execution_count": 53,
     "metadata": {},
     "output_type": "execute_result"
    },
    {
     "data": {
      "image/png": "[encoded data removed]",
      "text/plain": [
       "<Figure size 432x288 with 1 Axes>"
      ]
     },
     "metadata": {
      "needs_background": "light"
     },
     "output_type": "display_data"
    }
   ],
   "source": [
    "cds.plot()"
   ]
  },
  {
   "cell_type": "code",
   "execution_count": 51,
   "metadata": {},
   "outputs": [
    {
     "name": "stdout",
     "output_type": "stream",
     "text": [
      "[0 0 0 0 0 0 0 0 0 0 0 0 0 0 0 0 0 0 0 0 0 0 0 0 0 0 0 0 0 0 0 0 0 0 0 0 0\n",
      " 0 0 0 0 0 0 0 0 0 0 0 0 0 0 0 0 0 0 0 0 0 0 0 0 0 0 0 0 0 0 0 0 0 0 0 0 0\n",
      " 0 0 0 0 0 0 0 0 0 0 0 0 0 0 0 0 0 0 0 0 0 0 0 0 0 0]\n"
     ]
    }
   ],
   "source": [
    "print(model_yhat[300:400])"
   ]
  },
  {
   "cell_type": "code",
   "execution_count": 36,
   "metadata": {},
   "outputs": [],
   "source": [
    "y10 = [1,3, 5]\n",
    "x10 = [2, 4, 6]\n",
    "xy10 = np.hstack((y10, x10))"
   ]
  },
  {
   "cell_type": "code",
   "execution_count": 39,
   "metadata": {},
   "outputs": [
    {
     "data": {
      "text/plain": [
       "array([[1, 2],\n",
       "       [3, 4],\n",
       "       [5, 6]])"
      ]
     },
     "execution_count": 39,
     "metadata": {},
     "output_type": "execute_result"
    }
   ],
   "source": [
    "xy10_2 = np.column_stack((y10, x10))\n",
    "xy10_2"
   ]
  },
  {
   "cell_type": "code",
   "execution_count": 37,
   "metadata": {},
   "outputs": [
    {
     "data": {
      "text/plain": [
       "array([1, 3, 5, 2, 4, 6])"
      ]
     },
     "execution_count": 37,
     "metadata": {},
     "output_type": "execute_result"
    }
   ],
   "source": [
    "xy10"
   ]
  },
  {
   "cell_type": "code",
   "execution_count": null,
   "metadata": {},
   "outputs": [],
   "source": []
  },
  {
   "cell_type": "code",
   "execution_count": null,
   "metadata": {},
   "outputs": [],
   "source": []
  },
  {
   "cell_type": "code",
   "execution_count": null,
   "metadata": {},
   "outputs": [],
   "source": []
  },
  {
   "cell_type": "code",
   "execution_count": null,
   "metadata": {},
   "outputs": [],
   "source": []
  },
  {
   "cell_type": "code",
   "execution_count": null,
   "metadata": {},
   "outputs": [],
   "source": []
  },
  {
   "cell_type": "code",
   "execution_count": null,
   "metadata": {},
   "outputs": [],
   "source": []
  },
  {
   "cell_type": "code",
   "execution_count": null,
   "metadata": {},
   "outputs": [],
   "source": []
  },
  {
   "cell_type": "markdown",
   "metadata": {},
   "source": [
    "## OLDER COINTEGRATION TESTS"
   ]
  },
  {
   "cell_type": "code",
   "execution_count": null,
   "metadata": {},
   "outputs": [],
   "source": []
  },
  {
   "cell_type": "code",
   "execution_count": null,
   "metadata": {},
   "outputs": [],
   "source": [
    "#from 07.01.2021\n",
    "\n",
    "UR_ONLY_DF = sorted_alldata_df_final_adf_results.loc[sorted_alldata_df_final_adf_results.Joint_Test_Outcome=='BOND/CDS Both Have Unit Root']\n",
    "\n",
    "UR_ONLY_DF.groupby('gvkey')['Joint_Test_Outcome'].nunique()"
   ]
  },
  {
   "cell_type": "code",
   "execution_count": null,
   "metadata": {},
   "outputs": [],
   "source": []
  },
  {
   "cell_type": "code",
   "execution_count": null,
   "metadata": {},
   "outputs": [],
   "source": []
  },
  {
   "cell_type": "code",
   "execution_count": null,
   "metadata": {},
   "outputs": [],
   "source": [
    "#single GVKEY: cointegration test:\n",
    "\n",
    "gvkey_1408 = sorted_alldata_df_final_adf_results.loc[sorted_alldata_df_final_adf_results.gvkey==1408]\n",
    "\n",
    "gvkey_number = 1408\n",
    "gvkey_frame = gvkey_1408\n",
    "print(\"JOHANSENS COINT TEST with individual GVKEY NUMBER: \" + str(gvkey_number))\n",
    "\n",
    "cds = gvkey_frame['market_cds_spread']\n",
    "pecds = gvkey_frame['pecds']\n",
    "data = pd.DataFrame(data=(cds, pecds)).T\n",
    "#data = np.column_stack((cds, pecds))\n",
    "\n",
    "model = vecm.select_order(data, maxlags=5)\n",
    "optimal_lag_length = model.bic\n",
    "print(\"Optimal Lag Lengths == {}\".format(optimal_lag_length))\n",
    "    \n",
    "vecm_cointeg_rank = vecm.select_coint_rank(data, det_order =0, k_ar_diff = optimal_lag_length, \n",
    "                                                  method='maxeig', signif=0.05)\n",
    "        \n",
    "print(vecm_cointeg_rank.summary())\n",
    "print(\"Number of Cointegrating relationships:\", vecm_cointeg_rank.rank)"
   ]
  },
  {
   "cell_type": "code",
   "execution_count": null,
   "metadata": {},
   "outputs": [],
   "source": []
  },
  {
   "cell_type": "code",
   "execution_count": null,
   "metadata": {},
   "outputs": [],
   "source": []
  },
  {
   "cell_type": "code",
   "execution_count": null,
   "metadata": {},
   "outputs": [],
   "source": []
  },
  {
   "cell_type": "markdown",
   "metadata": {},
   "source": [
    "## BREAKPOINT COINTEGRATION + ZIVOT-ANDREWS\n",
    "\n",
    "* Links for time filtering:\n",
    "\n",
    "* https://stackoverflow.com/questions/46230864/split-dataframe-on-the-basis-of-date\n",
    "* https://stackoverflow.com/questions/22898824/filtering-pandas-dataframes-on-dates\n",
    "\n",
    "* See also, PECDS 1.26 >> timedelta methods"
   ]
  },
  {
   "cell_type": "code",
   "execution_count": 39,
   "metadata": {},
   "outputs": [
    {
     "name": "stdout",
     "output_type": "stream",
     "text": [
      " COMPANY:  AMERICAN AIRLINES GROUP INC \n",
      " SECTOR:  Transporation\n",
      " Zivot Andrews Specified Breakdate: 2010-10-15 00:00:00 \n",
      " --------------------------------------------------\n",
      " Before BD #obs: 276 \n",
      " After BD #obs 269 \n",
      " Total # OBS: 546 \n",
      " -------------------------------------------------- \n",
      "\n",
      "Johansen cointegration test using trace test statistic with 5% significance level\n",
      "=====================================\n",
      "r_0 r_1 test statistic critical value\n",
      "-------------------------------------\n",
      "  0   2          12.59          15.49\n",
      "------------------------------------- \n",
      " Number of Cointegrating Rels (Before): 0\n",
      " Optimal Lag Lengths in Before-BD Series: 0 \n",
      " -------------------------------------------------- \n",
      "\n",
      "(\"x contains a constant. Adding a constant with trend='c' is not allowed.\",) \n",
      "\n",
      "Johansen cointegration test using maximum eigenvalue test statistic with 5% significance level\n",
      "=====================================\n",
      "r_0 r_1 test statistic critical value\n",
      "-------------------------------------\n",
      "  0   1          17.94          14.26\n",
      "  1   2         0.2074          3.841\n",
      "------------------------------------- \n",
      " Number of Cointegrating Rels (Combined): 1\n",
      " Optimal Lag Lengths in Combined Series: 0 \n",
      "\n"
     ]
    },
    {
     "name": "stderr",
     "output_type": "stream",
     "text": [
      "C:\\Users\\JasonSpano\\anaconda3\\lib\\site-packages\\statsmodels\\tsa\\base\\tsa_model.py:214: ValueWarning: An unsupported index was provided and will be ignored when e.g. forecasting.\n",
      "  ' ignored when e.g. forecasting.', ValueWarning)\n"
     ]
    }
   ],
   "source": [
    "#single GVKEY: cointegration test split on the breakdate:\n",
    "\n",
    "gvkey_selection = 1045 #2184\n",
    "#1919\n",
    "#other keys: 1045 / 2184 / 1045\n",
    "\n",
    "gvkey_group_df = sorted_alldata_df_final_adf_results.loc[sorted_alldata_df_final_adf_results.gvkey==gvkey_selection]\n",
    "print(\" COMPANY: \", gvkey_group_df.company_name.iloc[0], '\\n', \"SECTOR: \", gvkey_group_df.sector.iloc[0])\n",
    "\n",
    "zivotandrews_bd = gvkey_group_df.ZA_BREAKDATE.iloc[0]\n",
    "print(\" Zivot Andrews Specified Breakdate: {}\".format(gvkey_group_df.ZA_BREAKDATE.iloc[0]), '\\n', \"--\"*25)\n",
    "\n",
    "#split based on before and after ZA-test specified breakdate:\n",
    "gvkey_group_df_before_bd = gvkey_group_df[(gvkey_group_df['trade_date'] < zivotandrews_bd)]\n",
    "gvkey_group_df_after_bd = gvkey_group_df[(gvkey_group_df['trade_date'] > zivotandrews_bd)]\n",
    "\n",
    "print((\" Before BD #obs: {} \\n After BD #obs {} \\n Total # OBS: {}\".format(len(gvkey_group_df_before_bd), \n",
    "                                                                             len(gvkey_group_df_after_bd),\n",
    "                                                                             len(gvkey_group_df))), \n",
    "     '\\n', \"--\"*25, '\\n')\n",
    "\n",
    "## BEFORE BREAKDATE SERIES\n",
    "try:\n",
    "    cds_before_bd = gvkey_group_df_before_bd['market_cds_spread']\n",
    "    pecds_before_bd = gvkey_group_df_before_bd['pecds']\n",
    "    data_before_bd = pd.DataFrame(data=(cds_before_bd, pecds_before_bd)).T\n",
    "\n",
    "    model_before_bd = vecm.select_order(data_before_bd, maxlags=5)\n",
    "    optimal_lag_length_before_bd = model_before_bd.bic\n",
    "    vecm_cointeg_rank_before_bd = vecm.select_coint_rank(data_before_bd, det_order=0, k_ar_diff=optimal_lag_length_before_bd,\n",
    "                                                        method='trace', signif=0.05)\n",
    "\n",
    "\n",
    "    print(vecm_cointeg_rank_before_bd.summary(), '\\n', \"Number of Cointegrating Rels (Before): {}\".format(\n",
    "    vecm_cointeg_rank_before_bd.rank))\n",
    "    print(\" Optimal Lag Lengths in Before-BD Series: {}\".format(optimal_lag_length_before_bd), \n",
    "         '\\n', '--'*25, '\\n')\n",
    "    \n",
    "except ValueError as ve:\n",
    "    print(ve.args, '\\n')\n",
    "    \n",
    "\n",
    "\n",
    "## AFTER BREAKDATE SERIES\n",
    "try:\n",
    "    cds_after_bd = gvkey_group_df_after_bd['market_cds_spread']\n",
    "    pecds_after_bd = gvkey_group_df_after_bd['pecds']\n",
    "    data_after_bd = pd.DataFrame(data=(cds_after_bd, pecds_after_bd)).T\n",
    "\n",
    "    model_after_bd = vecm.select_order(data_after_bd, maxlags=5)\n",
    "    optimal_lag_length_after_bd = model_after_bd.bic\n",
    "    vecm_cointeg_rank_after_bd = vecm.select_coint_rank(data_after_bd, det_order=0, k_ar_diff=optimal_lag_length_after_bd,\n",
    "                                                        method='trace', signif=0.05)\n",
    "\n",
    "\n",
    "    print(vecm_cointeg_rank_after_bd.summary(), '\\n', \"Number of Cointegrating Rels (After): {}\".format(\n",
    "    vecm_cointeg_rank_after_bd.rank))\n",
    "    print(\" Optimal Lag Lengths in After-BD Series: {}\".format(optimal_lag_length_after_bd), \n",
    "         '\\n', '--'*25, '\\n')\n",
    "    \n",
    "except ValueError as ve:\n",
    "    print(ve.args, '\\n')\n",
    "    \n",
    "\n",
    "## COMBINED SERIES:\n",
    "try:\n",
    "    cds = gvkey_group_df['market_cds_spread']\n",
    "    pecds = gvkey_group_df['pecds']\n",
    "    data = pd.DataFrame(data=(cds, pecds)).T\n",
    "    #data = np.column_stack((cds, pecds))\n",
    "\n",
    "    model = vecm.select_order(data, maxlags=5)\n",
    "    optimal_lag_length = model.bic\n",
    "\n",
    "\n",
    "    vecm_cointeg_rank = vecm.select_coint_rank(data, det_order=0, \n",
    "                                                      k_ar_diff=optimal_lag_length, \n",
    "                                                      method='maxeig', \n",
    "                                                      signif=0.05)\n",
    "\n",
    "\n",
    "    print(vecm_cointeg_rank.summary(), '\\n', \"Number of Cointegrating Rels (Combined): {}\".format(\n",
    "    vecm_cointeg_rank.rank))\n",
    "    print(\" Optimal Lag Lengths in Combined Series: {}\".format(optimal_lag_length), '\\n')\n",
    "    \n",
    "except ValueError as ve:\n",
    "    print(ve.args, '\\n')    "
   ]
  },
  {
   "cell_type": "code",
   "execution_count": 16,
   "metadata": {},
   "outputs": [
    {
     "data": {
      "text/plain": [
       "    <              <=             ==             !=             >              >=             dir()          hash()\n",
       "    help()         repr()         str()          .crit_vals     .method        .neqs          .r_1           .rank\n",
       "    .signif        .summary()     .test_stats"
      ]
     },
     "execution_count": 16,
     "metadata": {},
     "output_type": "execute_result"
    }
   ],
   "source": [
    "see(vecm_cointeg_rank_after_bd)"
   ]
  },
  {
   "cell_type": "code",
   "execution_count": 17,
   "metadata": {},
   "outputs": [
    {
     "data": {
      "text/plain": [
       "[2, 2]"
      ]
     },
     "execution_count": 17,
     "metadata": {},
     "output_type": "execute_result"
    }
   ],
   "source": [
    "vecm_cointeg_rank_after_bd.r_1"
   ]
  },
  {
   "cell_type": "code",
   "execution_count": 18,
   "metadata": {},
   "outputs": [
    {
     "data": {
      "text/plain": [
       "2"
      ]
     },
     "execution_count": 18,
     "metadata": {},
     "output_type": "execute_result"
    }
   ],
   "source": [
    "vecm_cointeg_rank_after_bd.rank"
   ]
  },
  {
   "cell_type": "code",
   "execution_count": 19,
   "metadata": {},
   "outputs": [
    {
     "data": {
      "text/plain": [
       "array([19.60163294,  4.71854984])"
      ]
     },
     "execution_count": 19,
     "metadata": {},
     "output_type": "execute_result"
    }
   ],
   "source": [
    "vecm_cointeg_rank_after_bd.test_stats"
   ]
  },
  {
   "cell_type": "code",
   "execution_count": null,
   "metadata": {},
   "outputs": [],
   "source": []
  },
  {
   "cell_type": "code",
   "execution_count": null,
   "metadata": {},
   "outputs": [],
   "source": []
  },
  {
   "cell_type": "markdown",
   "metadata": {},
   "source": [
    "## ZIVOT_ANDREWS & COINT SPLIT (LOOP VERSION) V1.00"
   ]
  },
  {
   "cell_type": "code",
   "execution_count": null,
   "metadata": {},
   "outputs": [],
   "source": [
    "## method contains the test statistics appended: \n",
    "\n",
    "%%time\n",
    "#cointegration_method = 'trace'\n",
    "gvkey_list = []                       \n",
    "sector_list = [] \n",
    "before_nobs = []\n",
    "after_nobs = []\n",
    "\n",
    "## DFGLS ITEMS: CDS/BOND TEST STATISTIC >> PVAL >> Joint Test Outcome\n",
    "\n",
    "## Before Lists:\n",
    "dfgls_before_pval_cds = []\n",
    "dfgls_before_pval_bond = []\n",
    "dfgls_joint_outcome_before = []\n",
    "coint_rank_before_list = []\n",
    "coint_teststat_before = []\n",
    "gvkey_data_before = pd.DataFrame()  ## reset the frame when running multiple iterations with different parameters\n",
    "\n",
    "## After Lists: \n",
    "dfgls_after_pval_cds = []\n",
    "dfgls_after_pval_bond = []\n",
    "dfgls_joint_outcome_after = []\n",
    "coint_rank_after_list = []\n",
    "coint_teststat_after = []\n",
    "gvkey_data_after = pd.DataFrame()\n",
    "## Coint Teststat: Not needed to conclude if coint_rank >= 1 but will give an indication of strength\n",
    "\n",
    "## Error Instance Lists:\n",
    "infeasible_test_errors = []; infeasible_test_count = 0 \n",
    "\n",
    "for i, val in enumerate(sorted_alldata_df_final_adf_results.groupby('gvkey')):\n",
    "    gvkey = val[0]\n",
    "    data = val[1]  \n",
    "    gvkey_list.append(gvkey)             \n",
    "    sector_string = data.sector\n",
    "    sector_list.append(sector_string.iloc[0])\n",
    "    \n",
    "    try:\n",
    "        za_breakdate = data.ZA_BREAKDATE.iloc[0]\n",
    "\n",
    "        data_gvkey_before = data[(data['trade_date'] < za_breakdate)]\n",
    "        cds_before = data_gvkey_before.market_cds_spread\n",
    "        pecds_before = data_gvkey_before.pecds\n",
    "        gvkey_data_before = pd.DataFrame(data=(cds_before, pecds_before)).T\n",
    "\n",
    "        #### For the DFGLS Test:\n",
    "        dfgls_cds_before = DFGLS(gvkey_data_before.market_cds_spread, trend='c', max_lags=10, method='BIC')\n",
    "        dfgls_bond_before = DFGLS(gvkey_data_before.pecds, trend='c', max_lags=10, method='BIC')\n",
    "\n",
    "        # append the pvalues of the tests\n",
    "        dfgls_before_pval_cds.append(np.round(dfgls_cds_before.pvalue, 4))\n",
    "        dfgls_before_pval_bond.append(np.round(dfgls_bond_before.pvalue, 4))\n",
    "\n",
    "        if (dfgls_cds_before.stat < dfgls_cds_before.critical_values['5%'] and \n",
    "            dfgls_bond_before.stat < dfgls_bond_before.critical_values['5%']):\n",
    "            dfgls_joint_outcome_before.append('jointly_stat')\n",
    "\n",
    "        elif (dfgls_cds_before.stat < dfgls_cds_before.critical_values['5%'] and     \n",
    "            dfgls_bond_before.stat > dfgls_bond_before.critical_values['5%']):\n",
    "            dfgls_joint_outcome_before.append('CDS_only_is_ur')\n",
    "\n",
    "        elif (dfgls_cds_before.stat > dfgls_cds_before.critical_values['5%'] and     \n",
    "            dfgls_bond_before.stat < dfgls_bond_before.critical_values['5%']):\n",
    "            dfgls_joint_outcome_before.append('BOND_only_is_ur')      \n",
    "\n",
    "        else:\n",
    "            dfgls_joint_outcome_before.append('jointly_unitroots')    \n",
    "\n",
    "\n",
    "        #### FOR THE COINTEGRATION TEST #### \n",
    "        ## ascertain number of optimal lags in the sub-sample: \n",
    "        model_lags_before = vecm.select_order(gvkey_data_before, maxlags=10)\n",
    "\n",
    "        ## ascertain the cointegration rank in the sub-sample\n",
    "        coint_rank_before = vecm.select_coint_rank(gvkey_data_before, det_order=0, k_ar_diff=model_lags_before.bic,\n",
    "                                                        method='trace', signif=0.05)\n",
    "\n",
    "        ## append items to list: Rank \n",
    "        coint_rank_before_list.append(coint_rank_before.rank)\n",
    "        coint_teststat_before.append(coint_rank_before.test_stats[0])\n",
    "\n",
    "        ## Append Number of Observations Per sub-sample\n",
    "        before_nobs.append(dfgls_cds_before.nobs)        \n",
    "        \n",
    "    except (InfeasibleTestException) as ite_before: \n",
    "        #print(ite_before.args)\n",
    "        infeasible_test_count += 1 \n",
    "        before_nobs.append(np.nan)\n",
    "        dfgls_joint_outcome_before.append(np.nan)\n",
    "        dfgls_before_pval_cds.append(np.nan)\n",
    "        dfgls_before_pval_bond.append(np.nan)\n",
    "        coint_rank_before_list.append(np.nan)\n",
    "        coint_teststat_before.append(np.nan)\n",
    "\n",
    "            \n",
    "## Construct the DF & clarify variable names            \n",
    "df_coint_dfgls_breakdate = pd.DataFrame(data=(gvkey_list, sector_list, before_nobs,\n",
    "                                              dfgls_joint_outcome_before, dfgls_before_pval_cds, dfgls_before_pval_bond,\n",
    "                                              coint_rank_before_list, coint_teststat_before)).T   \n",
    "\n",
    "df_coint_dfgls_breakdate.columns = ['gvkey','sector', 'before_nobs',\n",
    "                                   'DFGLS_j_outcome_before','DFGLS_pval_cds_before','DFGLS_pval_bond_before',\n",
    "                                   'coint_rank_before','coint_teststat_before']\n",
    "\n",
    "print(\"--\"*25, '\\n', \"Infeasible Tests: {}\".format(infeasible_test_count), '\\n', \"--\"*25, '\\n', \n",
    "     \"Cointegration Critical Value 5%: {}\".format(np.round(dfgls_cds_before.critical_values['5%'],4)), '\\n')"
   ]
  },
  {
   "cell_type": "code",
   "execution_count": null,
   "metadata": {},
   "outputs": [],
   "source": []
  },
  {
   "cell_type": "code",
   "execution_count": null,
   "metadata": {},
   "outputs": [],
   "source": []
  },
  {
   "cell_type": "code",
   "execution_count": null,
   "metadata": {},
   "outputs": [],
   "source": []
  },
  {
   "cell_type": "code",
   "execution_count": null,
   "metadata": {},
   "outputs": [],
   "source": []
  },
  {
   "cell_type": "code",
   "execution_count": null,
   "metadata": {},
   "outputs": [],
   "source": []
  },
  {
   "cell_type": "code",
   "execution_count": null,
   "metadata": {},
   "outputs": [],
   "source": []
  },
  {
   "cell_type": "code",
   "execution_count": null,
   "metadata": {},
   "outputs": [],
   "source": []
  },
  {
   "cell_type": "code",
   "execution_count": null,
   "metadata": {},
   "outputs": [],
   "source": []
  },
  {
   "cell_type": "code",
   "execution_count": null,
   "metadata": {},
   "outputs": [],
   "source": []
  },
  {
   "cell_type": "code",
   "execution_count": null,
   "metadata": {},
   "outputs": [],
   "source": []
  },
  {
   "cell_type": "code",
   "execution_count": 23,
   "metadata": {},
   "outputs": [],
   "source": [
    "#THE ADF CRITICAL VALUES for 1%, 5%, 10%: (NOTE: identical if trend == 'c' in the test specification)\n",
    "\n",
    "one_percent_adf_cv = -3.43472 \n",
    "five_percent_adf_cv = -2.8634\n",
    "ten_percent_adf_cv = -2.5677\n",
    "\n",
    "\n",
    "#if trend is set to \"ct\":\n",
    "one_percent_dfgls_cv = -2.58\n",
    "five_percent_dfgls_cv = -1.96\n",
    "ten_percent_dfgls_cv = -1.64"
   ]
  },
  {
   "cell_type": "code",
   "execution_count": 24,
   "metadata": {},
   "outputs": [
    {
     "name": "stdout",
     "output_type": "stream",
     "text": [
      "ValueError: Row: 105, Reason : x contains a constant. Adding a constant with trend='c' is not allowed.  \n",
      " GVKEY: (5671) SECTOR: Consumer Cyclical\n",
      "LinAlgError: Row: 109, Reason : 1-th leading minor of the array is not positive definite  \n",
      " GVKEY: (5862) SECTOR:  Materials\n",
      "ValueError: Row: 123, Reason : x contains a constant. Adding a constant with trend='c' is not allowed.  \n",
      " GVKEY: (6653) SECTOR: Financials\n",
      "ValueError: Row: 158, Reason : x contains a constant. Adding a constant with trend='c' is not allowed.  \n",
      " GVKEY: (7991) SECTOR: Capital Goods\n",
      "ValueError: Row: 179, Reason : x contains a constant. Adding a constant with trend='c' is not allowed.  \n",
      " GVKEY: (8551) SECTOR: Consumer Cyclical\n",
      "ValueError: Row: 205, Reason : x contains a constant. Adding a constant with trend='c' is not allowed.  \n",
      " GVKEY: (10187) SECTOR: Financials\n",
      "ValueError: Row: 207, Reason : x contains a constant. Adding a constant with trend='c' is not allowed.  \n",
      " GVKEY: (10247) SECTOR: Consumer Staples\n",
      "LinAlgError: Row: 212, Reason : 1-th leading minor of the array is not positive definite  \n",
      " GVKEY: (10443) SECTOR:  Consumer Cyclical\n",
      "LinAlgError: Row: 244, Reason : 1-th leading minor of the array is not positive definite  \n",
      " GVKEY: (12459) SECTOR:  Consumer Cyclical\n",
      "ValueError: Row: 291, Reason : x contains a constant. Adding a constant with trend='c' is not allowed.  \n",
      " GVKEY: (25180) SECTOR: Capital Goods\n",
      "ValueError: Row: 297, Reason : x contains a constant. Adding a constant with trend='c' is not allowed.  \n",
      " GVKEY: (25495) SECTOR: Utilities\n",
      "ValueError: Row: 320, Reason : x contains a constant. Adding a constant with trend='c' is not allowed.  \n",
      " GVKEY: (30219) SECTOR: Consumer Cyclical\n",
      "ValueError: Row: 323, Reason : x contains a constant. Adding a constant with trend='c' is not allowed.  \n",
      " GVKEY: (30671) SECTOR: Capital Goods\n",
      "LinAlgError: Row: 340, Reason : 1-th leading minor of the array is not positive definite  \n",
      " GVKEY: (64768) SECTOR:  Consumer Cyclical\n",
      "ValueError: Row: 341, Reason : x contains a constant. Adding a constant with trend='c' is not allowed.  \n",
      " GVKEY: (64891) SECTOR: Consumer Cyclical\n",
      "ValueError: Row: 362, Reason : x contains a constant. Adding a constant with trend='c' is not allowed.  \n",
      " GVKEY: (137024) SECTOR: Energy\n",
      "ValueError: Row: 389, Reason : x contains a constant. Adding a constant with trend='c' is not allowed.  \n",
      " GVKEY: (179657) SECTOR: Capital Goods\n",
      "\n",
      " -------------------------------------------------- \n",
      "  Linear Algebra Errors # 4 \n",
      "  Value Errors # 13 \n",
      "  Total Errors #: 17 \n",
      "\n",
      "-------------------------------------------------- \n",
      "  DFGLS TEST: TREND = (C): TOTAL UNIT ROOTS # 349 \n",
      "  DFGLS TEST: TREND = (CT): TOTAL UNIT ROOTS # 225\n"
     ]
    }
   ],
   "source": [
    "#initialise lists to append data to from each GVKEY's loop\n",
    "gvkey_list = []                       \n",
    "sector_list = []    \n",
    "var_model_optimal_lag = []\n",
    "\n",
    "#optimal lag lengths for the CDS and BOND series under the different DFGLS specifications \n",
    "dfgls_lag_cds_trend_c = []\n",
    "dfgls_lag_cds_trend_ct = []\n",
    "dfgls_lag_bond_trend_c = []\n",
    "dfgls_lag_bond_trend_ct = []\n",
    "\n",
    "#holds the series' test statistics (CDS, Bond) for the two trend specifications (c and ct) + Pvalues List\n",
    "dfgls_cds_trend_c = []; dfgls_cds_trend_c_pval = []     \n",
    "dfgls_cds_trend_ct = []; dfgls_cds_trend_ct_pval = []    \n",
    "dfgls_bond_trend_c = []; dfgls_bond_trend_c_pval = []      \n",
    "dfgls_bond_trend_ct = []; dfgls_bond_trend_ct_pval = []        \n",
    "\n",
    "#will hold the supplementary list that will merge the test statistic with it's significance level\n",
    "#E.G. the significance level (*, **, ***) for levels 10%, 5%, 1% respectively; this is for the latex publication tables\n",
    "test_res_cds_trend_c = []        \n",
    "test_res_cds_trend_ct = []   \n",
    "test_res_bond_trend_c = []\n",
    "test_res_bond_trend_ct = []\n",
    "\n",
    "#lists to hold the outcome of each specification for the unit-root tests (CDS / BONDS)\n",
    "stat_test_joint_trend_c = []                        \n",
    "stat_test_joint_trend_ct = []\n",
    "problematic_gvkey = []                              #seperately log GVKEYs which encounter errors\n",
    "linalg_errors = 0; value_errors = 0                 #simple counters for logging the number of errors occured, by group\n",
    "\n",
    "\n",
    "#create loop to test for stationarity in each GVKEY's data group \n",
    "for i, val in enumerate(sorted_alldata_df_final_adf_results.groupby('gvkey')):\n",
    "    gvkey = val[0]\n",
    "    data = val[1]                        #assign the remainder of the data to be callable from data.(variable)\n",
    "    gvkey_list.append(gvkey)             #append the GVKEY to a list, which keeps the data stored under the appropriate key\n",
    "    sector_string = data.sector\n",
    "    sector_list.append(sector_string.iloc[0])      #append the respective sector for that GVKEY\n",
    "    \n",
    "    #define the appropriate series for the ADF test: \n",
    "    cds = data.market_cds_spread         \n",
    "    pecds = data.pecds\n",
    "    \n",
    "    #the VAR model package requires the data be structured in a particular way; np.column stack is the fastest method\n",
    "    data = np.column_stack((cds, pecds)) \n",
    "    \n",
    "    #the VAR model construction is necessary for computing the BIC\n",
    "    model = smt.VAR(data)  \n",
    "\n",
    "    #compute the optimised BIC value from [model] which holds the vector autoregression model per GVKEY\n",
    "    try:\n",
    "        #for daily data, a maximum lag length is imposed (5 trading days, roughly equivalent to one trading week)\n",
    "        bic_selected_lag = model.select_order(maxlags=10).bic \n",
    "        var_model_optimal_lag.append(bic_selected_lag)                  #store the optimised BIC result per GVKEY\n",
    "        \n",
    "        #DFGLS TEST: \n",
    "        #trend == c (include a constant); critical values are identical to regular ADF test\n",
    "        test_dfgls_cds_trend_c = DFGLS(cds, trend='c', max_lags=10, method='BIC')  \n",
    "        test_dfgls_bond_trend_c = DFGLS(pecds, trend='c', max_lags=10, method='BIC')\n",
    "        \n",
    "        #store the test statistic & p-value for each instrument's ADF test result, for each GVKEY (rounded to 4 decimals)\n",
    "        dfgls_cds_trend_c.append(np.round(test_dfgls_cds_trend_c.stat,4))    \n",
    "        dfgls_bond_trend_c.append(np.round(test_dfgls_bond_trend_c.stat,4))  \n",
    "        \n",
    "        #store lag lengths for both CDS and Bond under \"C\" trend specification: \n",
    "        dfgls_lag_cds_trend_c.append(test_dfgls_cds_trend_c.lags)\n",
    "        dfgls_lag_bond_trend_c.append(test_dfgls_bond_trend_c.lags)\n",
    "\n",
    "        #append p-vals\n",
    "        dfgls_cds_trend_c_pval.append(np.round(test_dfgls_cds_trend_c.pvalue,4))    \n",
    "        dfgls_bond_trend_c_pval.append(np.round(test_dfgls_bond_trend_c.pvalue,4))\n",
    "\n",
    "        #this part reads the test stat per GVKEY / instrument and assigns the appropriate (*) per its significance level\n",
    "        #E.G. > 99% significance is commonly denoted as [test_statistic]*** in publication regression tables\n",
    "        \n",
    "        #CDS DFGLS_trend_c LATEX TABLE CONSTRUCTION\n",
    "        if test_dfgls_cds_trend_c.stat < one_percent_adf_cv:\n",
    "            test_res_cds_trend_c.append(\"***\")   \n",
    "        elif test_dfgls_cds_trend_c.stat < five_percent_adf_cv:\n",
    "            test_res_cds_trend_c.append(\"**\")    ## The 1% & 5% significance would reject H0\n",
    "        elif test_dfgls_cds_trend_c.stat < ten_percent_adf_cv:\n",
    "            test_res_cds_trend_c.append(\"*\")     ## The 10% and no level would fail to reject H0\n",
    "        else: \n",
    "            test_res_cds_trend_c.append(\" \")  \n",
    "\n",
    "        #BOND DFGLS_trend_c LATEX TABLE CONSTRUCTION\n",
    "        if test_dfgls_bond_trend_c.stat < one_percent_adf_cv:\n",
    "            test_res_bond_trend_c.append(\"***\")\n",
    "        elif test_dfgls_bond_trend_c.stat < five_percent_adf_cv:\n",
    "            test_res_bond_trend_c.append(\"**\")   ## The 1% & 5% significance would reject H0\n",
    "        elif test_dfgls_bond_trend_c.stat < ten_percent_adf_cv:\n",
    "            test_res_bond_trend_c.append(\"*\")    ## The 10% and no level would fail to reject H0\n",
    "        else: \n",
    "            test_res_bond_trend_c.append(\" \")\n",
    "                         \n",
    "        \n",
    "        #ensure that both series are integrated of the same order: a jointly unit-root system is required for VECM models\n",
    "        if (test_dfgls_bond_trend_c.stat > five_percent_adf_cv and test_dfgls_cds_trend_c.stat > five_percent_adf_cv):  \n",
    "            #this is > as to \"not reject\" the H0 is unit root; while reject the null would imply a stationary series\n",
    "            stat_test_joint_trend_c.append(\"BOND/CDS Both Have Unit Root\")\n",
    "            \n",
    "            #note: even if one series has a unit-root, it is still infeasible to include in the VECM model \n",
    "        elif (test_dfgls_bond_trend_c.stat > five_percent_adf_cv and test_dfgls_cds_trend_c.stat < five_percent_adf_cv):\n",
    "            stat_test_joint_trend_c.append(\"BOND ONLY HAS UR\")\n",
    "        elif (test_dfgls_bond_trend_c.stat < five_percent_adf_cv and test_dfgls_cds_trend_c.stat > five_percent_adf_cv):\n",
    "            stat_test_joint_trend_c.append(\"CDS ONLY HAS UR\")            \n",
    "        else: \n",
    "            stat_test_joint_trend_c.append(\"Cannot Reject H0\")\n",
    "            \n",
    "            \n",
    "        ### RUN DFGLS TEST WITH 2nd SPECIFICATION:     \n",
    "        #DFGLS TEST: trend == 'ct'   - trend = constant + linear time trend (requires different critical values)\n",
    "        test_dfgls_cds_trend_ct = DFGLS(cds, trend='ct', max_lags=10, method='BIC')\n",
    "        test_dfgls_bond_trend_ct = DFGLS(cds, trend='ct', max_lags=10, method='BIC')\n",
    "        \n",
    "        #append the rounded statistic to the list (this will be subsequentially transformed after the loop)\n",
    "        dfgls_cds_trend_ct.append(np.round(test_dfgls_cds_trend_ct.stat,4))  \n",
    "        dfgls_bond_trend_ct.append(np.round(test_dfgls_bond_trend_ct.stat,4))  \n",
    "        \n",
    "        #store lag lengths for both CDS and Bond under \"C\" trend specification: \n",
    "        dfgls_lag_cds_trend_ct.append(test_dfgls_cds_trend_ct.lags)\n",
    "        dfgls_lag_bond_trend_ct.append(test_dfgls_bond_trend_ct.lags)\n",
    "        \n",
    "        #append rounded p-value per test \n",
    "        dfgls_cds_trend_ct_pval.append(np.round(test_dfgls_cds_trend_ct.pvalue,4))  \n",
    "        dfgls_bond_trend_ct_pval.append(np.round(test_dfgls_bond_trend_ct.pvalue,4))            \n",
    "            \n",
    "        #CDS DFGLS_trend_ct LATEX TABLE CONSTRUCTION\n",
    "        if test_dfgls_cds_trend_ct.stat < one_percent_dfgls_cv:\n",
    "            test_res_cds_trend_ct.append(\"***\")   \n",
    "        elif test_dfgls_cds_trend_ct.stat < five_percent_dfgls_cv:\n",
    "            test_res_cds_trend_ct.append(\"**\")    ## The 1% & 5% significance would reject H0\n",
    "        elif test_dfgls_cds_trend_ct.stat < ten_percent_dfgls_cv:\n",
    "            test_res_cds_trend_ct.append(\"*\")     ## The 10% and no level would fail to reject H0\n",
    "        else: \n",
    "            test_res_cds_trend_ct.append(\" \")  \n",
    "\n",
    "        #BOND DFGLS_trend_ct LATEX TABLE CONSTRUCTION\n",
    "        if test_dfgls_bond_trend_ct.stat < one_percent_dfgls_cv:\n",
    "            test_res_bond_trend_ct.append(\"***\")\n",
    "        elif test_dfgls_bond_trend_ct.stat < five_percent_dfgls_cv:\n",
    "            test_res_bond_trend_ct.append(\"**\")   ## The 1% & 5% significance would reject H0\n",
    "        elif test_dfgls_bond_trend_ct.stat < ten_percent_dfgls_cv:\n",
    "            test_res_bond_trend_ct.append(\"*\")    ## The 10% and no level would fail to reject H0\n",
    "        else: \n",
    "            test_res_bond_trend_ct.append(\" \")\n",
    "            \n",
    "        #ensure that both series are integrated of the same order: a jointly unit-root system is required for VECM models\n",
    "        if (test_dfgls_bond_trend_ct.stat > five_percent_dfgls_cv and test_dfgls_cds_trend_ct.stat > five_percent_dfgls_cv):  \n",
    "            #this is > as to \"not reject\" the H0 is unit root; while reject the null would imply a stationary series\n",
    "            stat_test_joint_trend_ct.append(\"BOND/CDS Both Have Unit Root\")\n",
    "            \n",
    "            #note: even if one series has a unit-root, it is still infeasible to include in the VECM model \n",
    "        elif (test_dfgls_bond_trend_ct.stat > five_percent_dfgls_cv and test_dfgls_cds_trend_ct.stat < five_percent_dfgls_cv):\n",
    "            stat_test_joint_trend_ct.append(\"BOND ONLY HAS UR\")\n",
    "        elif (test_dfgls_bond_trend_ct.stat < five_percent_dfgls_cv and test_dfgls_cds_trend_ct.stat > five_percent_dfgls_cv):\n",
    "            stat_test_joint_trend_ct.append(\"CDS ONLY HAS UR\")            \n",
    "        else: \n",
    "            stat_test_joint_trend_ct.append(\"Cannot Reject H0\")            \n",
    "            \n",
    "            \n",
    "        \n",
    "    # A linear-algebra error could be caused by market factors which have created highly erratic basis behaviour\n",
    "    # This could be caused by a firm nearing bankruptcy where its basis deviates excessively far from par\n",
    "    #accordingly, the leading minor of the array is not positive definite is akin to taking the square root of a negative number\n",
    "    except np.linalg.LinAlgError as lae:\n",
    "        problematic_gvkey.append(gvkey)                                 #append problem GVKEY to seperate list\n",
    "        print(\"LinAlgError: Row: {}, Reason : {} \".format(i, lae), '\\n', \"GVKEY: ({})\".format(gvkey), \n",
    "              \"SECTOR: \", sector_string.iloc[0])\n",
    "      \n",
    "        #append items to maintain placement in main DF \\\\ \n",
    "        #where the errors occur, fill with NaN values instead\n",
    "        var_model_optimal_lag.append(np.nan)\n",
    "        stat_test_joint_trend_c.append(\"LinAlg_Error\")\n",
    "        stat_test_joint_trend_ct.append(\"LinAlg_Error\")\n",
    "        \n",
    "        test_res_cds_trend_c.append(\"_LAE\"); test_res_cds_trend_ct.append(\"_LAE\")\n",
    "        test_res_bond_trend_c.append(\"_LAE\"); test_res_bond_trend_ct.append(\"_LAE\")\n",
    "        \n",
    "        dfgls_cds_trend_c.append(np.nan); dfgls_cds_trend_ct.append(np.nan)\n",
    "        dfgls_bond_trend_c.append(np.nan); dfgls_bond_trend_ct.append(np.nan)\n",
    "        \n",
    "        dfgls_cds_trend_c_pval.append(np.nan); dfgls_cds_trend_ct_pval.append(np.nan)\n",
    "        dfgls_bond_trend_c_pval.append(np.nan); dfgls_bond_trend_ct_pval.append(np.nan)\n",
    "        \n",
    "        linalg_errors += 1\n",
    "        continue\n",
    "    \n",
    "    #some series may have encounted some errors with a constant, thus adding a constant to the equation is invalid\n",
    "    #this occurs due to poor liquidity in some markets, resulting in long periods of near-identical price quotes\n",
    "    except (ValueError) as ve:\n",
    "        problematic_gvkey.append(gvkey)\n",
    "        print(\"ValueError: Row: {}, Reason : {} \".format(i, ve), '\\n', \"GVKEY: ({})\".format(gvkey), \n",
    "              \"SECTOR:\", sector_string.iloc[0])\n",
    "        \n",
    "        #append items to maintain placement in main DF \\\\ \n",
    "        #where the errors occur, fill with NaN values instead\n",
    "        var_model_optimal_lag.append(np.nan)\n",
    "        stat_test_joint_trend_c.append(\"Value_Error\")\n",
    "        stat_test_joint_trend_ct.append(\"Value_Error\")\n",
    "        \n",
    "        test_res_cds_trend_c.append(\"_VE\"); test_res_cds_trend_ct.append(\"_VE\")\n",
    "        test_res_bond_trend_c.append(\"_VE\"); test_res_bond_trend_ct.append(\"_VE\")    \n",
    "        \n",
    "        dfgls_cds_trend_c.append(np.nan); dfgls_cds_trend_ct.append(np.nan)\n",
    "        dfgls_bond_trend_c.append(np.nan); dfgls_bond_trend_ct.append(np.nan)\n",
    "        \n",
    "        dfgls_cds_trend_c_pval.append(np.nan); dfgls_cds_trend_ct_pval.append(np.nan)\n",
    "        dfgls_bond_trend_c_pval.append(np.nan); dfgls_bond_trend_ct_pval.append(np.nan)\n",
    "        \n",
    "        value_errors += 1\n",
    "        continue  \n",
    "        \n",
    "#this section combines the test-statistic itself with the appropriate (*, **, ***) into one cell for the final DF\n",
    "cds_sig_trend_c = [\"{}{}\".format(dfgls_cds_trend_c, test_res_cds_trend_c) for dfgls_cds_trend_c, test_res_cds_trend_c in zip(dfgls_cds_trend_c, test_res_cds_trend_c)]\n",
    "bond_sig_trend_c = [\"{}{}\".format(dfgls_bond_trend_c, test_res_bond_trend_c) for dfgls_bond_trend_c, test_res_bond_trend_c in zip(dfgls_bond_trend_c, test_res_bond_trend_c)]  \n",
    "\n",
    "cds_sig_trend_ct = [\"{}{}\".format(dfgls_cds_trend_ct, test_res_cds_trend_ct) for dfgls_cds_trend_ct, test_res_cds_trend_ct in zip(dfgls_cds_trend_ct, test_res_cds_trend_ct)]\n",
    "bond_sig_trend_ct = [\"{}{}\".format(dfgls_bond_trend_ct, test_res_bond_trend_ct) for dfgls_bond_trend_ct, test_res_bond_trend_ct in zip(dfgls_bond_trend_ct, test_res_bond_trend_ct)]              \n",
    "              \n",
    "#the final DF constructor; the .T is to transpose to a more visually-friendly vertically orientated DF\n",
    "df_dfgls_cdsbond_results = pd.DataFrame(data=(gvkey_list, sector_list, \n",
    "                                             cds_sig_trend_c, dfgls_lag_cds_trend_c, dfgls_cds_trend_c_pval,\n",
    "                                             bond_sig_trend_c, dfgls_lag_bond_trend_c, dfgls_bond_trend_c_pval,\n",
    "                                             stat_test_joint_trend_c,\n",
    "                                             cds_sig_trend_ct, dfgls_lag_cds_trend_ct, dfgls_cds_trend_ct_pval,\n",
    "                                             bond_sig_trend_ct, dfgls_lag_bond_trend_ct, dfgls_bond_trend_ct_pval,\n",
    "                                             stat_test_joint_trend_ct,\n",
    "                                             var_model_optimal_lag)).T\n",
    "\n",
    "#rename the columns for better readability\n",
    "df_dfgls_cdsbond_results.columns = ['gvkey', 'sector', \n",
    "                                   'CDS_c', 'CDS_c_lags', 'CDS_c_pval', \n",
    "                                   'BOND_c', 'BOND_c_lags', 'BOND_c_pval',\n",
    "                                   'Joint_Outcome_c', \n",
    "                                   'CDS_ct','CDS_ct_lags', 'CDS_ct_pval',\n",
    "                                   'BOND_ct','BOND_ct_lags', 'BOND_ct_pval',\n",
    "                                   'Joint_Outcome_ct',\n",
    "                                   'var_model_lag'] \n",
    "\n",
    "## print a basic overview of error counts + unit-roots per test specification [optional]\n",
    "print('\\n', \"--\"*25, '\\n', \" Linear Algebra Errors #\", linalg_errors, '\\n', \" Value Errors #\", value_errors, '\\n', \" Total Errors #:\", \n",
    "     (linalg_errors + value_errors), '\\n')\n",
    "\n",
    "print(\"--\"*25, '\\n', \" DFGLS TEST: TREND = (C): TOTAL UNIT ROOTS #\", len(df_dfgls_cdsbond_results.loc[df_dfgls_cdsbond_results.Joint_Outcome_c==\"BOND/CDS Both Have Unit Root\"]), '\\n',\n",
    "\" DFGLS TEST: TREND = (CT): TOTAL UNIT ROOTS #\", len(df_dfgls_cdsbond_results.loc[df_dfgls_cdsbond_results.Joint_Outcome_ct==\"BOND/CDS Both Have Unit Root\"]))"
   ]
  },
  {
   "cell_type": "code",
   "execution_count": null,
   "metadata": {},
   "outputs": [],
   "source": []
  },
  {
   "cell_type": "code",
   "execution_count": 25,
   "metadata": {},
   "outputs": [
    {
     "data": {
      "text/html": [
       "<div>\n",
       "<style scoped>\n",
       "    .dataframe tbody tr th:only-of-type {\n",
       "        vertical-align: middle;\n",
       "    }\n",
       "\n",
       "    .dataframe tbody tr th {\n",
       "        vertical-align: top;\n",
       "    }\n",
       "\n",
       "    .dataframe thead th {\n",
       "        text-align: right;\n",
       "    }\n",
       "</style>\n",
       "<table border=\"1\" class=\"dataframe\">\n",
       "  <thead>\n",
       "    <tr style=\"text-align: right;\">\n",
       "      <th></th>\n",
       "      <th>gvkey</th>\n",
       "      <th>sector</th>\n",
       "      <th>CDS_c</th>\n",
       "      <th>CDS_c_lags</th>\n",
       "      <th>CDS_c_pval</th>\n",
       "      <th>BOND_c</th>\n",
       "      <th>BOND_c_lags</th>\n",
       "      <th>BOND_c_pval</th>\n",
       "      <th>Joint_Outcome_c</th>\n",
       "      <th>CDS_ct</th>\n",
       "      <th>CDS_ct_lags</th>\n",
       "      <th>CDS_ct_pval</th>\n",
       "      <th>BOND_ct</th>\n",
       "      <th>BOND_ct_lags</th>\n",
       "      <th>BOND_ct_pval</th>\n",
       "      <th>Joint_Outcome_ct</th>\n",
       "      <th>var_model_lag</th>\n",
       "    </tr>\n",
       "  </thead>\n",
       "  <tbody>\n",
       "    <tr>\n",
       "      <th>0</th>\n",
       "      <td>1045</td>\n",
       "      <td>Transporation</td>\n",
       "      <td>-0.2413</td>\n",
       "      <td>0</td>\n",
       "      <td>0.6047</td>\n",
       "      <td>-0.749</td>\n",
       "      <td>0</td>\n",
       "      <td>0.403</td>\n",
       "      <td>BOND/CDS Both Have Unit Root</td>\n",
       "      <td>-1.8312*</td>\n",
       "      <td>0</td>\n",
       "      <td>0.3896</td>\n",
       "      <td>-1.8312*</td>\n",
       "      <td>0</td>\n",
       "      <td>0.3896</td>\n",
       "      <td>BOND/CDS Both Have Unit Root</td>\n",
       "      <td>10</td>\n",
       "    </tr>\n",
       "    <tr>\n",
       "      <th>1</th>\n",
       "      <td>1078</td>\n",
       "      <td>Health Care</td>\n",
       "      <td>-1.2314</td>\n",
       "      <td>0</td>\n",
       "      <td>0.2071</td>\n",
       "      <td>-1.2652</td>\n",
       "      <td>0</td>\n",
       "      <td>0.196</td>\n",
       "      <td>BOND/CDS Both Have Unit Root</td>\n",
       "      <td>-1.2274</td>\n",
       "      <td>0</td>\n",
       "      <td>0.7325</td>\n",
       "      <td>-1.2274</td>\n",
       "      <td>0</td>\n",
       "      <td>0.7325</td>\n",
       "      <td>BOND/CDS Both Have Unit Root</td>\n",
       "      <td>1</td>\n",
       "    </tr>\n",
       "    <tr>\n",
       "      <th>2</th>\n",
       "      <td>1161</td>\n",
       "      <td>Technology</td>\n",
       "      <td>-0.8643</td>\n",
       "      <td>1</td>\n",
       "      <td>0.3507</td>\n",
       "      <td>-0.6683</td>\n",
       "      <td>0</td>\n",
       "      <td>0.441</td>\n",
       "      <td>BOND/CDS Both Have Unit Root</td>\n",
       "      <td>-1.9465*</td>\n",
       "      <td>1</td>\n",
       "      <td>0.3282</td>\n",
       "      <td>-1.9465*</td>\n",
       "      <td>1</td>\n",
       "      <td>0.3282</td>\n",
       "      <td>BOND/CDS Both Have Unit Root</td>\n",
       "      <td>2</td>\n",
       "    </tr>\n",
       "    <tr>\n",
       "      <th>3</th>\n",
       "      <td>1209</td>\n",
       "      <td>Materials</td>\n",
       "      <td>-1.5857</td>\n",
       "      <td>1</td>\n",
       "      <td>0.1102</td>\n",
       "      <td>-1.5331</td>\n",
       "      <td>0</td>\n",
       "      <td>0.1219</td>\n",
       "      <td>BOND/CDS Both Have Unit Root</td>\n",
       "      <td>-2.157**</td>\n",
       "      <td>1</td>\n",
       "      <td>0.23</td>\n",
       "      <td>-2.157**</td>\n",
       "      <td>1</td>\n",
       "      <td>0.23</td>\n",
       "      <td>Cannot Reject H0</td>\n",
       "      <td>1</td>\n",
       "    </tr>\n",
       "    <tr>\n",
       "      <th>4</th>\n",
       "      <td>1300</td>\n",
       "      <td>Capital Goods</td>\n",
       "      <td>-2.1331</td>\n",
       "      <td>2</td>\n",
       "      <td>0.0329</td>\n",
       "      <td>-1.8384</td>\n",
       "      <td>0</td>\n",
       "      <td>0.0653</td>\n",
       "      <td>BOND/CDS Both Have Unit Root</td>\n",
       "      <td>-2.1782**</td>\n",
       "      <td>2</td>\n",
       "      <td>0.2212</td>\n",
       "      <td>-2.1782**</td>\n",
       "      <td>2</td>\n",
       "      <td>0.2212</td>\n",
       "      <td>Cannot Reject H0</td>\n",
       "      <td>2</td>\n",
       "    </tr>\n",
       "  </tbody>\n",
       "</table>\n",
       "</div>"
      ],
      "text/plain": [
       "  gvkey         sector     CDS_c CDS_c_lags CDS_c_pval    BOND_c BOND_c_lags  \\\n",
       "0  1045  Transporation  -0.2413           0     0.6047   -0.749            0   \n",
       "1  1078    Health Care  -1.2314           0     0.2071  -1.2652            0   \n",
       "2  1161     Technology  -0.8643           1     0.3507  -0.6683            0   \n",
       "3  1209      Materials  -1.5857           1     0.1102  -1.5331            0   \n",
       "4  1300  Capital Goods  -2.1331           2     0.0329  -1.8384            0   \n",
       "\n",
       "  BOND_c_pval               Joint_Outcome_c     CDS_ct CDS_ct_lags  \\\n",
       "0       0.403  BOND/CDS Both Have Unit Root   -1.8312*           0   \n",
       "1       0.196  BOND/CDS Both Have Unit Root   -1.2274            0   \n",
       "2       0.441  BOND/CDS Both Have Unit Root   -1.9465*           1   \n",
       "3      0.1219  BOND/CDS Both Have Unit Root   -2.157**           1   \n",
       "4      0.0653  BOND/CDS Both Have Unit Root  -2.1782**           2   \n",
       "\n",
       "  CDS_ct_pval    BOND_ct BOND_ct_lags BOND_ct_pval  \\\n",
       "0      0.3896   -1.8312*            0       0.3896   \n",
       "1      0.7325   -1.2274             0       0.7325   \n",
       "2      0.3282   -1.9465*            1       0.3282   \n",
       "3        0.23   -2.157**            1         0.23   \n",
       "4      0.2212  -2.1782**            2       0.2212   \n",
       "\n",
       "               Joint_Outcome_ct var_model_lag  \n",
       "0  BOND/CDS Both Have Unit Root            10  \n",
       "1  BOND/CDS Both Have Unit Root             1  \n",
       "2  BOND/CDS Both Have Unit Root             2  \n",
       "3              Cannot Reject H0             1  \n",
       "4              Cannot Reject H0             2  "
      ]
     },
     "execution_count": 25,
     "metadata": {},
     "output_type": "execute_result"
    }
   ],
   "source": [
    "df_dfgls_cdsbond_results.head()"
   ]
  },
  {
   "cell_type": "code",
   "execution_count": null,
   "metadata": {},
   "outputs": [],
   "source": []
  },
  {
   "cell_type": "code",
   "execution_count": 26,
   "metadata": {},
   "outputs": [
    {
     "data": {
      "text/plain": [
       "    <                   <=                  ==                  !=                  >                   >=\n",
       "    dir()               hash()              help()              repr()              str()\n",
       "    .alternative_hypothesis                 .critical_values    .lags               .max_lags           .nobs\n",
       "    .null_hypothesis    .pvalue             .regression         .stat               .summary()          .trend\n",
       "    .valid_trends       .y"
      ]
     },
     "execution_count": 26,
     "metadata": {},
     "output_type": "execute_result"
    }
   ],
   "source": [
    "see(test_dfgls_cds_trend_c)"
   ]
  },
  {
   "cell_type": "code",
   "execution_count": 40,
   "metadata": {},
   "outputs": [
    {
     "data": {
      "text/plain": [
       "1497"
      ]
     },
     "execution_count": 40,
     "metadata": {},
     "output_type": "execute_result"
    }
   ],
   "source": [
    "test_dfgls_cds_trend_c.nobs"
   ]
  },
  {
   "cell_type": "code",
   "execution_count": 27,
   "metadata": {},
   "outputs": [
    {
     "data": {
      "text/html": [
       "<table class=\"simpletable\">\n",
       "<caption>Dickey-Fuller GLS Results</caption>\n",
       "<tr>\n",
       "  <td>Test Statistic</td>     <td>0.431</td>\n",
       "</tr>\n",
       "<tr>\n",
       "  <td>P-value</td>            <td>0.821</td>\n",
       "</tr>\n",
       "<tr>\n",
       "  <td>Lags</td>                   <td>0</td>\n",
       "</tr>\n",
       "</table><br/><br/>Trend: Constant<br/>Critical Values: -2.58 (1%), -1.96 (5%), -1.64 (10%)<br/>Null Hypothesis: The process contains a unit root.<br/>Alternative Hypothesis: The process is weakly stationary."
      ],
      "text/plain": [
       "<class 'statsmodels.iolib.summary.Summary'>\n",
       "\"\"\"\n",
       "      Dickey-Fuller GLS Results      \n",
       "=====================================\n",
       "Test Statistic                  0.431\n",
       "P-value                         0.821\n",
       "Lags                                0\n",
       "-------------------------------------\n",
       "\n",
       "Trend: Constant\n",
       "Critical Values: -2.58 (1%), -1.96 (5%), -1.64 (10%)\n",
       "Null Hypothesis: The process contains a unit root.\n",
       "Alternative Hypothesis: The process is weakly stationary.\n",
       "\"\"\""
      ]
     },
     "execution_count": 27,
     "metadata": {},
     "output_type": "execute_result"
    }
   ],
   "source": [
    "test_dfgls_cds_trend_c.summary()"
   ]
  },
  {
   "cell_type": "code",
   "execution_count": 28,
   "metadata": {},
   "outputs": [
    {
     "data": {
      "text/plain": [
       "0.430855400762261"
      ]
     },
     "execution_count": 28,
     "metadata": {},
     "output_type": "execute_result"
    }
   ],
   "source": [
    "test_dfgls_cds_trend_c.stat"
   ]
  },
  {
   "cell_type": "code",
   "execution_count": 38,
   "metadata": {},
   "outputs": [
    {
     "data": {
      "text/plain": [
       "-1.9580314210050704"
      ]
     },
     "execution_count": 38,
     "metadata": {},
     "output_type": "execute_result"
    }
   ],
   "source": [
    "test_dfgls_cds_trend_c.critical_values['5%']"
   ]
  },
  {
   "cell_type": "code",
   "execution_count": null,
   "metadata": {},
   "outputs": [],
   "source": []
  },
  {
   "cell_type": "code",
   "execution_count": null,
   "metadata": {},
   "outputs": [],
   "source": []
  },
  {
   "cell_type": "code",
   "execution_count": null,
   "metadata": {},
   "outputs": [],
   "source": []
  },
  {
   "cell_type": "code",
   "execution_count": null,
   "metadata": {},
   "outputs": [],
   "source": []
  },
  {
   "cell_type": "code",
   "execution_count": null,
   "metadata": {},
   "outputs": [],
   "source": [
    "## GRAPH\n",
    "\n",
    "\n",
    "gvkey_selection = 2184\n",
    "\n",
    "gvkey_group_df = sorted_alldata_df_final_adf_results.loc[sorted_alldata_df_final_adf_results.gvkey==gvkey_selection]\n",
    "print(\" COMPANY == \", gvkey_group_df.company_name.iloc[0], '\\n', \"SECTOR ==  \", gvkey_group_df.sector.iloc[0])\n",
    "\n",
    "fig, (ax1, ax2, ax3) = plt.subplots(3, figsize=(12,10))\n",
    "fig.suptitle('Single GVKEY: ({}) CDS Spread Subplots'.format(gvkey_selection))\n",
    "\n",
    "gvkey_group_df.groupby(['year_index'])['market_cds_spread'].plot(ax=ax1)\n",
    "ax1.set_ylabel('CDS Spread')\n",
    "ax1.axes.get_xaxis().set_visible(False)\n",
    "\n",
    "## OG\n",
    "gvkey_group_df.groupby(['year_index']).mean()['market_cds_spread'].plot(ax=ax2);\n",
    "\n",
    "## to change to rolling annual mean: \n",
    "#gvkey_group_df['market_cds_spread'].rolling(252).mean().plot(ax=ax2);\n",
    "ax2.set_ylabel('Annual Mean CDS Spread')\n",
    "ax2.set_xlabel('Year')\n",
    "ax2.axes.get_xaxis().set_visible(True)\n",
    "\n",
    "\n",
    "gvkey_group_df.groupby(['year_index'])['pecds'].plot(ax=ax3)\n",
    "ax3.set_ylabel('PECDS')\n",
    "ax3.axes.get_xaxis().set_visible(False);\n",
    "\n",
    "#ax3.axes.set_autoscale_on(gvkey_group_df.groupby(['year_index']).mean()['market_cds_spread'])\n",
    "#ax3.axes.xaxis.set_ticklabels([str(gvkey_group_df.groupby(['year_index']))])"
   ]
  },
  {
   "cell_type": "code",
   "execution_count": null,
   "metadata": {},
   "outputs": [],
   "source": []
  },
  {
   "cell_type": "code",
   "execution_count": null,
   "metadata": {},
   "outputs": [],
   "source": []
  },
  {
   "cell_type": "code",
   "execution_count": null,
   "metadata": {},
   "outputs": [],
   "source": []
  },
  {
   "cell_type": "code",
   "execution_count": null,
   "metadata": {},
   "outputs": [],
   "source": []
  },
  {
   "cell_type": "markdown",
   "metadata": {},
   "source": [
    "### STATSMODELS COINTEGRATION"
   ]
  },
  {
   "cell_type": "code",
   "execution_count": null,
   "metadata": {},
   "outputs": [],
   "source": [
    "from statsmodels.tsa.stattools import coint\n",
    "\n",
    "#null = no coint\n",
    "# if reject (E..g. pvalue is small, below CV; therefore = reject H0 there is no coint relationship)\n",
    "\n",
    "#https://www.statsmodels.org/stable/generated/statsmodels.tsa.stattools.coint.html"
   ]
  },
  {
   "cell_type": "code",
   "execution_count": null,
   "metadata": {},
   "outputs": [],
   "source": [
    "gvkey_selection = 1919\n",
    "#other keys: 1045 / 2184 / 1045\n",
    "\n",
    "gvkey_group_df = sorted_alldata_df_final_adf_results.loc[sorted_alldata_df_final_adf_results.gvkey==gvkey_selection]\n",
    "print(\" COMPANY == \", gvkey_group_df.company_name.iloc[0], '\\n', \"SECTOR ==  \", gvkey_group_df.sector.iloc[0])\n",
    "\n",
    "print(\" JOHANSENS COINT TEST with individual GVKEY NUMBER: \" + str(gvkey_selection))\n",
    "\n",
    "cds = gvkey_group_df['market_cds_spread']\n",
    "pecds = gvkey_group_df['pecds']\n",
    "data = pd.DataFrame(data=(cds, pecds)).T\n",
    "\n",
    "coint_model_statsmodels = coint(cds, pecds, trend='c',\n",
    "                               method ='aeg',\n",
    "                               maxlag=10,\n",
    "                               autolag='bic',\n",
    "                               return_results=True)\n",
    "\n",
    "coint_model_statsmodels"
   ]
  },
  {
   "cell_type": "code",
   "execution_count": null,
   "metadata": {},
   "outputs": [],
   "source": []
  },
  {
   "cell_type": "code",
   "execution_count": null,
   "metadata": {},
   "outputs": [],
   "source": []
  },
  {
   "cell_type": "code",
   "execution_count": null,
   "metadata": {},
   "outputs": [],
   "source": []
  },
  {
   "cell_type": "markdown",
   "metadata": {},
   "source": [
    "## Phillips Ouliaris Cointegration Test\n",
    "\n",
    "* https://arch.readthedocs.io/en/latest/unitroot/generated/arch.unitroot.cointegration.phillips_ouliaris.html#arch.unitroot.cointegration.phillips_ouliaris\n"
   ]
  },
  {
   "cell_type": "code",
   "execution_count": null,
   "metadata": {},
   "outputs": [],
   "source": [
    "#phillips_ouliaris\n",
    "\n",
    "gvkey_selection = 1919\n",
    "#other keys: 1045 / 2184 / 1045\n",
    "\n",
    "gvkey_group_df = sorted_alldata_df_final_adf_results.loc[sorted_alldata_df_final_adf_results.gvkey==gvkey_selection]\n",
    "print(\" COMPANY == \", gvkey_group_df.company_name.iloc[0], '\\n', \"SECTOR ==  \", gvkey_group_df.sector.iloc[0])\n",
    "\n",
    "print(\" JOHANSENS COINT TEST with individual GVKEY NUMBER: \" + str(gvkey_selection))\n",
    "\n",
    "cds = gvkey_group_df['market_cds_spread']\n",
    "pecds = gvkey_group_df['pecds']\n",
    "data = pd.DataFrame(data=(cds, pecds)).T\n",
    "\n",
    "coint_model_arch_phillips_ouliaris = phillips_ouliaris(cds, pecds, trend='c',\n",
    "                                                      test_type='Pz',\n",
    "                                                      kernel='bartlett',\n",
    "                                                      bandwidth=None)\n",
    "\n",
    "coint_model_arch_phillips_ouliaris"
   ]
  },
  {
   "cell_type": "code",
   "execution_count": null,
   "metadata": {},
   "outputs": [],
   "source": []
  },
  {
   "cell_type": "code",
   "execution_count": null,
   "metadata": {},
   "outputs": [],
   "source": []
  },
  {
   "cell_type": "code",
   "execution_count": null,
   "metadata": {},
   "outputs": [],
   "source": []
  },
  {
   "cell_type": "code",
   "execution_count": null,
   "metadata": {},
   "outputs": [],
   "source": []
  },
  {
   "cell_type": "markdown",
   "metadata": {},
   "source": [
    "# VAR REGRESSION"
   ]
  },
  {
   "cell_type": "code",
   "execution_count": null,
   "metadata": {},
   "outputs": [],
   "source": [
    "https://www.statsmodels.org/stable/generated/statsmodels.tsa.vector_ar.var_model.VAR.html#statsmodels.tsa.vector_ar.var_model.VAR\n",
    "    \n",
    "    ##add the other components (VIX / Stock Price Close)"
   ]
  },
  {
   "cell_type": "code",
   "execution_count": null,
   "metadata": {},
   "outputs": [],
   "source": []
  },
  {
   "cell_type": "code",
   "execution_count": null,
   "metadata": {},
   "outputs": [],
   "source": []
  },
  {
   "cell_type": "code",
   "execution_count": 53,
   "metadata": {},
   "outputs": [],
   "source": [
    "#VAR MODEL WITH GRAPH\n",
    "\n",
    "#gvkey_1045 = sorted_alldata_df_final_adf_results.loc[sorted_alldata_df_final_adf_results.gvkey==1045]\n",
    "gvkey_selection = 3226\n",
    "gvkey_frame = sorted_alldata_df_final_adf_results.loc[sorted_alldata_df_final_adf_results.gvkey==gvkey_selection]"
   ]
  },
  {
   "cell_type": "code",
   "execution_count": 54,
   "metadata": {},
   "outputs": [
    {
     "data": {
      "image/png": "[encoded data removed]",
      "text/plain": [
       "<Figure size 432x288 with 1 Axes>"
      ]
     },
     "metadata": {
      "needs_background": "light"
     },
     "output_type": "display_data"
    }
   ],
   "source": [
    "gvkey_frame['price_close'].plot();"
   ]
  },
  {
   "cell_type": "code",
   "execution_count": 55,
   "metadata": {},
   "outputs": [
    {
     "data": {
      "image/png": "[encoded data removed]",
      "text/plain": [
       "<Figure size 432x288 with 1 Axes>"
      ]
     },
     "metadata": {
      "needs_background": "light"
     },
     "output_type": "display_data"
    }
   ],
   "source": [
    "gvkey_frame['cboe_vix'].plot();"
   ]
  },
  {
   "cell_type": "code",
   "execution_count": 56,
   "metadata": {},
   "outputs": [
    {
     "data": {
      "image/png": "[encoded data removed]",
      "text/plain": [
       "<Figure size 432x288 with 1 Axes>"
      ]
     },
     "metadata": {
      "needs_background": "light"
     },
     "output_type": "display_data"
    }
   ],
   "source": [
    "gvkey_frame['market_cds_spread'].plot();"
   ]
  },
  {
   "cell_type": "code",
   "execution_count": 57,
   "metadata": {},
   "outputs": [
    {
     "data": {
      "image/png": "[encoded data removed]",
      "text/plain": [
       "<Figure size 432x288 with 1 Axes>"
      ]
     },
     "metadata": {
      "needs_background": "light"
     },
     "output_type": "display_data"
    }
   ],
   "source": [
    "gvkey_frame['pecds'].plot();"
   ]
  },
  {
   "cell_type": "code",
   "execution_count": 6,
   "metadata": {},
   "outputs": [
    {
     "name": "stderr",
     "output_type": "stream",
     "text": [
      "C:\\Users\\JasonSpano\\anaconda3\\lib\\site-packages\\ipykernel\\ipkernel.py:287: DeprecationWarning: `should_run_async` will not call `transform_cell` automatically in the future. Please pass the result to `transformed_cell` argument and any exception that happen during thetransform in `preprocessing_exc_tuple` in IPython 7.17 and above.\n",
      "  and should_run_async(code)\n"
     ]
    },
    {
     "name": "stdout",
     "output_type": "stream",
     "text": [
      "max lags: 1 \n",
      "\n",
      "  Summary of Regression Results   \n",
      "==================================\n",
      "Model:                         VAR\n",
      "Method:                        OLS\n",
      "Date:           Mon, 08, Mar, 2021\n",
      "Time:                     11:22:29\n",
      "--------------------------------------------------------------------\n",
      "No. of Equations:         4.00000    BIC:                   -8.62321\n",
      "Nobs:                     1496.00    HQIC:                  -8.66775\n",
      "Log likelihood:          -1967.66    FPE:                0.000167554\n",
      "AIC:                     -8.69420    Det(Omega_mle):     0.000165333\n",
      "--------------------------------------------------------------------\n",
      "Results for equation market_cds_spread\n",
      "=======================================================================================\n",
      "                          coefficient       std. error           t-stat            prob\n",
      "---------------------------------------------------------------------------------------\n",
      "const                        3.562884         0.665994            5.350           0.000\n",
      "L1.market_cds_spread         0.984668         0.002856          344.775           0.000\n",
      "L1.pecds                    -0.000003         0.000052           -0.051           0.959\n",
      "L1.cboe_vix                 -0.002079         0.000838           -2.482           0.013\n",
      "L1.price_close               0.280414         0.327064            0.857           0.391\n",
      "=======================================================================================\n",
      "\n",
      "Results for equation pecds\n",
      "=======================================================================================\n",
      "                          coefficient       std. error           t-stat            prob\n",
      "---------------------------------------------------------------------------------------\n",
      "const                      -25.612992        29.571445           -0.866           0.386\n",
      "L1.market_cds_spread         0.112155         0.126811            0.884           0.376\n",
      "L1.pecds                     0.996327         0.002300          433.145           0.000\n",
      "L1.cboe_vix                  0.010827         0.037195            0.291           0.771\n",
      "L1.price_close              10.691244        14.522280            0.736           0.462\n",
      "=======================================================================================\n",
      "\n",
      "Results for equation cboe_vix\n",
      "=======================================================================================\n",
      "                          coefficient       std. error           t-stat            prob\n",
      "---------------------------------------------------------------------------------------\n",
      "const                       35.172560         7.179573            4.899           0.000\n",
      "L1.market_cds_spread        -0.148589         0.030788           -4.826           0.000\n",
      "L1.pecds                    -0.000031         0.000558           -0.056           0.955\n",
      "L1.cboe_vix                  0.937185         0.009030          103.781           0.000\n",
      "L1.price_close              10.462728         3.525826            2.967           0.003\n",
      "=======================================================================================\n",
      "\n",
      "Results for equation price_close\n",
      "=======================================================================================\n",
      "                          coefficient       std. error           t-stat            prob\n",
      "---------------------------------------------------------------------------------------\n",
      "const                       -0.157746         0.052504           -3.004           0.003\n",
      "L1.market_cds_spread         0.000672         0.000225            2.986           0.003\n",
      "L1.pecds                     0.000002         0.000004            0.513           0.608\n",
      "L1.cboe_vix                  0.000226         0.000066            3.417           0.001\n",
      "L1.price_close              -0.062020         0.025784           -2.405           0.016\n",
      "=======================================================================================\n",
      "\n",
      "Correlation matrix of residuals\n",
      "                     market_cds_spread     pecds  cboe_vix  price_close\n",
      "market_cds_spread             1.000000 -0.319376 -0.039882     0.111921\n",
      "pecds                        -0.319376  1.000000  0.034732    -0.068065\n",
      "cboe_vix                     -0.039882  0.034732  1.000000    -0.442649\n",
      "price_close                   0.111921 -0.068065 -0.442649     1.000000\n",
      "\n",
      "\n",
      "\n"
     ]
    },
    {
     "name": "stderr",
     "output_type": "stream",
     "text": [
      "C:\\Users\\JasonSpano\\anaconda3\\lib\\site-packages\\statsmodels\\tsa\\base\\tsa_model.py:578: ValueWarning: An unsupported index was provided and will be ignored when e.g. forecasting.\n",
      "  warnings.warn('An unsupported index was provided and will be'\n"
     ]
    }
   ],
   "source": [
    "\n",
    "gvkey_selection = 179700\n",
    "gvkey_frame = sorted_alldata_df_final_adf_results.loc[sorted_alldata_df_final_adf_results.gvkey==gvkey_selection]\n",
    "\n",
    "cds = gvkey_frame['market_cds_spread']\n",
    "pecds = gvkey_frame['pecds']\n",
    "stock_close = gvkey_frame['price_close'].pct_change().dropna()\n",
    "vix = gvkey_frame['cboe_vix']\n",
    "#vix = gvkey_frame['cboe_vix'].pct_change().dropna()\n",
    "\n",
    "#[1:] == skip the first data point to align the series' lengths\n",
    "gvkey_frame_4 = pd.DataFrame(data=(cds[1:], pecds[1:], vix[1:], stock_close)).T\n",
    "\n",
    "var_model_4 = smt.VAR(gvkey_frame_4)  #add make lags here? \n",
    "\n",
    "res_model_4 = var_model_4.fit(maxlags=var_model_4.select_order(maxlags=5).bic)\n",
    "\n",
    "#print(res_model_4)\n",
    "print(\"max lags:\", var_model_4.select_order(maxlags=5).bic,'\\n')\n",
    "print(res_model_4.summary())"
   ]
  },
  {
   "cell_type": "code",
   "execution_count": 32,
   "metadata": {},
   "outputs": [
    {
     "name": "stderr",
     "output_type": "stream",
     "text": [
      "C:\\Users\\JasonSpano\\anaconda3\\lib\\site-packages\\statsmodels\\base\\wrapper.py:36: FutureWarning: y is a deprecated alias for endog, will be removed in version 0.11.0\n",
      "  obj = getattr(results, attr)\n",
      "C:\\Users\\JasonSpano\\anaconda3\\lib\\site-packages\\statsmodels\\base\\wrapper.py:36: FutureWarning: ys_lagged is a deprecated alias for endog_lagged, will be removed in version 0.11.0\n",
      "  obj = getattr(results, attr)\n"
     ]
    },
    {
     "data": {
      "text/plain": [
       "    <                    <=                   ==                   !=                   >                    >=\n",
       "    dir()                hash()               help()               repr()               str()                .acf()\n",
       "    .acorr()             .aic                 .bic                 .bse                 .coefs               .coefs_exog\n",
       "    .cov_params()        .cov_ybar()          .dates               .detomega            .df_model            .df_resid\n",
       "    .endog               .endog_lagged        .exog                .exog_names          .fevd()\n",
       "    .fittedvalues        .forecast()          .forecast_cov()      .forecast_interval()                      .fpe\n",
       "    .get_eq_index()      .hqic                .info_criteria       .intercept           .intercept_longrun()\n",
       "    .irf()               .irf_errband_mc()    .irf_resim()         .is_stable()         .k_ar                .k_exog\n",
       "    .k_exog_user         .k_trend             .llf                 .long_run_effects()                       .ma_rep()\n",
       "    .mean()              .model               .mse()               .n_totobs            .names               .neqs\n",
       "    .nobs                .orth_ma_rep()       .params              .plot()              .plot_acorr()\n",
       "    .plot_forecast()     .plot_sample_acorr()                      .plotsim()           .pvalues             .pvalues_dt\n",
       "    .pvalues_endog_lagged                     .reorder()           .resid               .resid_acorr()\n",
       "    .resid_acov()        .resid_corr          .roots               .sample_acorr()      .sample_acov()       .sigma_u\n",
       "    .sigma_u_mle         .simulate_var()      .stderr              .stderr_dt           .stderr_endog_lagged\n",
       "    .summary()           .test_causality()    .test_inst_causality()                    .test_normality()\n",
       "    .test_whiteness()    .to_vecm()           .trend               .tvalues             .tvalues_dt\n",
       "    .tvalues_endog_lagged                     .y                   .ys_lagged"
      ]
     },
     "execution_count": 32,
     "metadata": {},
     "output_type": "execute_result"
    }
   ],
   "source": [
    "see(res_model_4)"
   ]
  },
  {
   "cell_type": "code",
   "execution_count": null,
   "metadata": {},
   "outputs": [],
   "source": []
  },
  {
   "cell_type": "code",
   "execution_count": null,
   "metadata": {},
   "outputs": [],
   "source": []
  },
  {
   "cell_type": "code",
   "execution_count": 59,
   "metadata": {},
   "outputs": [
    {
     "data": {
      "text/html": [
       "<div>\n",
       "<style scoped>\n",
       "    .dataframe tbody tr th:only-of-type {\n",
       "        vertical-align: middle;\n",
       "    }\n",
       "\n",
       "    .dataframe tbody tr th {\n",
       "        vertical-align: top;\n",
       "    }\n",
       "\n",
       "    .dataframe thead th {\n",
       "        text-align: right;\n",
       "    }\n",
       "</style>\n",
       "<table border=\"1\" class=\"dataframe\">\n",
       "  <thead>\n",
       "    <tr style=\"text-align: right;\">\n",
       "      <th></th>\n",
       "      <th>market_cds_spread</th>\n",
       "      <th>pecds</th>\n",
       "      <th>cboe_vix</th>\n",
       "      <th>price_close</th>\n",
       "    </tr>\n",
       "  </thead>\n",
       "  <tbody>\n",
       "    <tr>\n",
       "      <th>61210</th>\n",
       "      <td>124.330782</td>\n",
       "      <td>48.089559</td>\n",
       "      <td>29.344929</td>\n",
       "      <td>0.001799</td>\n",
       "    </tr>\n",
       "    <tr>\n",
       "      <th>61211</th>\n",
       "      <td>125.192516</td>\n",
       "      <td>48.208418</td>\n",
       "      <td>30.651711</td>\n",
       "      <td>0.002218</td>\n",
       "    </tr>\n",
       "    <tr>\n",
       "      <th>61212</th>\n",
       "      <td>124.705711</td>\n",
       "      <td>48.214727</td>\n",
       "      <td>29.863066</td>\n",
       "      <td>0.001949</td>\n",
       "    </tr>\n",
       "    <tr>\n",
       "      <th>61213</th>\n",
       "      <td>125.279386</td>\n",
       "      <td>47.392521</td>\n",
       "      <td>29.327056</td>\n",
       "      <td>0.002044</td>\n",
       "    </tr>\n",
       "    <tr>\n",
       "      <th>61214</th>\n",
       "      <td>124.727570</td>\n",
       "      <td>47.426432</td>\n",
       "      <td>29.474316</td>\n",
       "      <td>0.001917</td>\n",
       "    </tr>\n",
       "    <tr>\n",
       "      <th>...</th>\n",
       "      <td>...</td>\n",
       "      <td>...</td>\n",
       "      <td>...</td>\n",
       "      <td>...</td>\n",
       "    </tr>\n",
       "    <tr>\n",
       "      <th>63216</th>\n",
       "      <td>35.382537</td>\n",
       "      <td>82.528837</td>\n",
       "      <td>10.302455</td>\n",
       "      <td>-0.001511</td>\n",
       "    </tr>\n",
       "    <tr>\n",
       "      <th>63217</th>\n",
       "      <td>34.708469</td>\n",
       "      <td>82.556565</td>\n",
       "      <td>10.187803</td>\n",
       "      <td>-0.001575</td>\n",
       "    </tr>\n",
       "    <tr>\n",
       "      <th>63218</th>\n",
       "      <td>36.594910</td>\n",
       "      <td>82.352414</td>\n",
       "      <td>11.292898</td>\n",
       "      <td>-0.001359</td>\n",
       "    </tr>\n",
       "    <tr>\n",
       "      <th>63219</th>\n",
       "      <td>36.228923</td>\n",
       "      <td>82.358162</td>\n",
       "      <td>10.322433</td>\n",
       "      <td>-0.001607</td>\n",
       "    </tr>\n",
       "    <tr>\n",
       "      <th>63220</th>\n",
       "      <td>36.967219</td>\n",
       "      <td>82.132122</td>\n",
       "      <td>11.650585</td>\n",
       "      <td>-0.001237</td>\n",
       "    </tr>\n",
       "  </tbody>\n",
       "</table>\n",
       "<p>2011 rows × 4 columns</p>\n",
       "</div>"
      ],
      "text/plain": [
       "       market_cds_spread      pecds   cboe_vix  price_close\n",
       "61210         124.330782  48.089559  29.344929     0.001799\n",
       "61211         125.192516  48.208418  30.651711     0.002218\n",
       "61212         124.705711  48.214727  29.863066     0.001949\n",
       "61213         125.279386  47.392521  29.327056     0.002044\n",
       "61214         124.727570  47.426432  29.474316     0.001917\n",
       "...                  ...        ...        ...          ...\n",
       "63216          35.382537  82.528837  10.302455    -0.001511\n",
       "63217          34.708469  82.556565  10.187803    -0.001575\n",
       "63218          36.594910  82.352414  11.292898    -0.001359\n",
       "63219          36.228923  82.358162  10.322433    -0.001607\n",
       "63220          36.967219  82.132122  11.650585    -0.001237\n",
       "\n",
       "[2011 rows x 4 columns]"
      ]
     },
     "execution_count": 59,
     "metadata": {},
     "output_type": "execute_result"
    }
   ],
   "source": [
    "res_model_4.fittedvalues"
   ]
  },
  {
   "cell_type": "code",
   "execution_count": null,
   "metadata": {},
   "outputs": [],
   "source": []
  },
  {
   "cell_type": "code",
   "execution_count": 60,
   "metadata": {},
   "outputs": [
    {
     "data": {
      "text/plain": [
       "SpearmanrResult(correlation=0.6932140504162507, pvalue=4.7488423241510115e-288)"
      ]
     },
     "execution_count": 60,
     "metadata": {},
     "output_type": "execute_result"
    }
   ],
   "source": [
    "stats.spearmanr(res_model_4.fittedvalues['market_cds_spread'], \n",
    "               res_model_4.fittedvalues['cboe_vix'])"
   ]
  },
  {
   "cell_type": "code",
   "execution_count": 61,
   "metadata": {},
   "outputs": [
    {
     "data": {
      "text/plain": [
       "SpearmanrResult(correlation=0.8714143838808514, pvalue=0.0)"
      ]
     },
     "execution_count": 61,
     "metadata": {},
     "output_type": "execute_result"
    }
   ],
   "source": [
    "stats.spearmanr(res_model_4.fittedvalues['price_close'], \n",
    "               res_model_4.fittedvalues['cboe_vix'])"
   ]
  },
  {
   "cell_type": "code",
   "execution_count": null,
   "metadata": {},
   "outputs": [],
   "source": []
  },
  {
   "cell_type": "code",
   "execution_count": 63,
   "metadata": {},
   "outputs": [
    {
     "data": {
      "text/plain": [
       "SpearmanrResult(correlation=-0.3018006996946012, pvalue=1.275893184148054e-43)"
      ]
     },
     "execution_count": 63,
     "metadata": {},
     "output_type": "execute_result"
    }
   ],
   "source": [
    "stats.spearmanr(res_model_4.fittedvalues['market_cds_spread'], \n",
    "               res_model_4.fittedvalues['pecds'])"
   ]
  },
  {
   "cell_type": "code",
   "execution_count": 64,
   "metadata": {},
   "outputs": [
    {
     "data": {
      "text/plain": [
       "SpearmanrResult(correlation=-0.3001219987063655, pvalue=3.5621695972330943e-43)"
      ]
     },
     "execution_count": 64,
     "metadata": {},
     "output_type": "execute_result"
    }
   ],
   "source": [
    "stats.spearmanr(gvkey_frame['market_cds_spread'], \n",
    "               gvkey_frame['pecds'])"
   ]
  },
  {
   "cell_type": "code",
   "execution_count": null,
   "metadata": {},
   "outputs": [],
   "source": []
  },
  {
   "cell_type": "code",
   "execution_count": 65,
   "metadata": {},
   "outputs": [
    {
     "data": {
      "text/plain": [
       "SpearmanrResult(correlation=-0.17127850913327045, pvalue=1.0481067920092417e-14)"
      ]
     },
     "execution_count": 65,
     "metadata": {},
     "output_type": "execute_result"
    }
   ],
   "source": [
    "stats.spearmanr(res_model_4.fittedvalues['cboe_vix'], \n",
    "               res_model_4.fittedvalues['pecds'])"
   ]
  },
  {
   "cell_type": "code",
   "execution_count": null,
   "metadata": {},
   "outputs": [],
   "source": []
  },
  {
   "cell_type": "code",
   "execution_count": null,
   "metadata": {},
   "outputs": [],
   "source": []
  },
  {
   "cell_type": "code",
   "execution_count": 66,
   "metadata": {},
   "outputs": [
    {
     "data": {
      "text/html": [
       "<table class=\"simpletable\">\n",
       "<caption>Granger causality F-test. H_0: pecds does not Granger-cause market_cds_spread. Conclusion: fail to reject H_0 at 5% significance level.</caption>\n",
       "<tr>\n",
       "  <th>Test statistic</th> <th>Critical value</th> <th>p-value</th>    <th>df</th>    \n",
       "</tr>\n",
       "<tr>\n",
       "      <td>0.4672</td>          <td>3.843</td>      <td>0.494</td>  <td>(1, 8024)</td>\n",
       "</tr>\n",
       "</table>"
      ],
      "text/plain": [
       "<class 'statsmodels.iolib.table.SimpleTable'>"
      ]
     },
     "execution_count": 66,
     "metadata": {},
     "output_type": "execute_result"
    }
   ],
   "source": [
    "res_model_4.test_causality(caused='market_cds_spread', causing='pecds').summary()"
   ]
  },
  {
   "cell_type": "code",
   "execution_count": 67,
   "metadata": {},
   "outputs": [
    {
     "data": {
      "image/png": "[encoded data removed]",
      "text/plain": [
       "<Figure size 720x720 with 4 Axes>"
      ]
     },
     "execution_count": 67,
     "metadata": {},
     "output_type": "execute_result"
    },
    {
     "data": {
      "image/png": "[encoded data removed]",
      "text/plain": [
       "<Figure size 720x720 with 4 Axes>"
      ]
     },
     "metadata": {
      "needs_background": "light"
     },
     "output_type": "display_data"
    }
   ],
   "source": [
    "res_model_4.plot_forecast(steps=25)"
   ]
  },
  {
   "cell_type": "code",
   "execution_count": null,
   "metadata": {},
   "outputs": [],
   "source": []
  },
  {
   "cell_type": "code",
   "execution_count": null,
   "metadata": {},
   "outputs": [],
   "source": [
    "#NEED TO ADD DIVIDEND BACK \n",
    "\n",
    "#PG 14 of 81 in LEE & ETAL:\n",
    "#try model-adjusted stock returns: >?\n",
    "\n"
   ]
  },
  {
   "cell_type": "code",
   "execution_count": null,
   "metadata": {},
   "outputs": [],
   "source": []
  },
  {
   "cell_type": "code",
   "execution_count": null,
   "metadata": {},
   "outputs": [],
   "source": [
    "#VAR model \n",
    "\n",
    "df_gvkey_150937 = df_basis_coupons_month.loc[df_basis_coupons_month.gvkey==150937.0]\n",
    "\n",
    "#specify individual series\n",
    "cds_150937 = df_gvkey_150937['market_cds_spread']\n",
    "pecds_150937 = df_gvkey_150937['pecds']      \n",
    "\n",
    "#alternatively, some methods require that a DF be used to maintain column labels/references\n",
    "gvkey_150937_solved = pd.DataFrame(data=(cds_150937, pecds_150937)).T\n",
    "\n",
    "#VAR_MODEL: GVKEY==2136\n",
    "var_model_gvkey_150937 = smt.VAR(gvkey_150937_solved)\n",
    "res_model_gvkey_150937 = var_model_gvkey_150937.fit(maxlags=var_model_gvkey_150937.select_order(maxlags=5).bic)\n",
    "print(\"max_lags:\", var_model_gvkey_150937.select_order().bic)\n",
    "print(res_model_gvkey_150937.summary())"
   ]
  },
  {
   "cell_type": "code",
   "execution_count": null,
   "metadata": {},
   "outputs": [],
   "source": []
  },
  {
   "cell_type": "code",
   "execution_count": null,
   "metadata": {},
   "outputs": [],
   "source": []
  },
  {
   "cell_type": "code",
   "execution_count": null,
   "metadata": {},
   "outputs": [],
   "source": [
    "## 10.01.21 key cuts:\n",
    "\n",
    "## experimentaiton with using just one .diff() series \n",
    "## has largely, not worked. \n",
    "\n",
    "#https://stackoverflow.com/questions/27309243/python-statsmodels-arima-linalgerror-svd-did-not-converge"
   ]
  },
  {
   "cell_type": "code",
   "execution_count": 30,
   "metadata": {},
   "outputs": [
    {
     "name": "stdout",
     "output_type": "stream",
     "text": [
      "max lags: 0 \n",
      "\n",
      "  Summary of Regression Results   \n",
      "==================================\n",
      "Model:                         VAR\n",
      "Method:                        OLS\n",
      "Date:           Mon, 08, Mar, 2021\n",
      "Time:                     11:44:43\n",
      "--------------------------------------------------------------------\n",
      "No. of Equations:         2.00000    BIC:                    3.14270\n",
      "Nobs:                     250.000    HQIC:                   3.12587\n",
      "Log likelihood:          -1096.79    FPE:                    22.5228\n",
      "AIC:                      3.11453    Det(Omega_mle):         22.3437\n",
      "--------------------------------------------------------------------\n",
      "Results for equation market_cds_spread\n",
      "========================================================================\n",
      "           coefficient       std. error           t-stat            prob\n",
      "------------------------------------------------------------------------\n",
      "const        -0.865760         0.942461           -0.919           0.358\n",
      "========================================================================\n",
      "\n",
      "Results for equation pecds\n",
      "========================================================================\n",
      "           coefficient       std. error           t-stat            prob\n",
      "------------------------------------------------------------------------\n",
      "const        -0.020698         0.020063           -1.032           0.302\n",
      "========================================================================\n",
      "\n",
      "Correlation matrix of residuals\n",
      "                     market_cds_spread     pecds\n",
      "market_cds_spread             1.000000 -0.010937\n",
      "pecds                        -0.010937  1.000000\n",
      "\n",
      "\n",
      "\n"
     ]
    },
    {
     "name": "stderr",
     "output_type": "stream",
     "text": [
      "C:\\Users\\JasonSpano\\anaconda3\\lib\\site-packages\\ipykernel\\ipkernel.py:287: DeprecationWarning: `should_run_async` will not call `transform_cell` automatically in the future. Please pass the result to `transformed_cell` argument and any exception that happen during thetransform in `preprocessing_exc_tuple` in IPython 7.17 and above.\n",
      "  and should_run_async(code)\n",
      "C:\\Users\\JasonSpano\\anaconda3\\lib\\site-packages\\statsmodels\\tsa\\base\\tsa_model.py:578: ValueWarning: An unsupported index was provided and will be ignored when e.g. forecasting.\n",
      "  warnings.warn('An unsupported index was provided and will be'\n"
     ]
    }
   ],
   "source": [
    "gvkey_1045 = sorted_alldata_df_final_adf_results.loc[sorted_alldata_df_final_adf_results.gvkey==1045]\n",
    "\n",
    "gvkey_frame = sorted_alldata_df_final_adf_results.loc[sorted_alldata_df_final_adf_results.gvkey==174729]\n",
    "\n",
    "cds = gvkey_frame['market_cds_spread']\n",
    "pecds = gvkey_frame['pecds']\n",
    "\n",
    "cds = cds.diff().dropna()\n",
    "pecds = pecds.diff().dropna()\n",
    "\n",
    "gvkey_frame_df4 = pd.DataFrame(data=(cds, pecds)).T\n",
    "\n",
    "var_model_4 = smt.VAR(gvkey_frame_df4)  #add make lags here? \n",
    "\n",
    "res_model_4 = var_model_4.fit(maxlags=var_model_4.select_order(maxlags=5).bic)\n",
    "\n",
    "print(\"max lags:\", var_model_4.select_order(maxlags=5).bic,'\\n')\n",
    "print(res_model_4.summary())"
   ]
  },
  {
   "cell_type": "code",
   "execution_count": null,
   "metadata": {},
   "outputs": [],
   "source": []
  },
  {
   "cell_type": "code",
   "execution_count": null,
   "metadata": {},
   "outputs": [],
   "source": [
    "gvkey_frame = sorted_alldata_df_final_adf_results.loc[sorted_alldata_df_final_adf_results.gvkey==1045]\n",
    "\n",
    "cds = gvkey_frame['market_cds_spread']\n",
    "#cds = cds.diff().dropna()\n",
    "\n",
    "pecds = gvkey_frame['pecds']\n",
    "#pecds = pecds.diff().dropna()\n",
    "\n",
    "gvkey_frame_df4 = pd.DataFrame(data=(cds, pecds)).T\n",
    "\n",
    "var_model_4 = smt.VAR(gvkey_frame_df4)  #add make lags here? \n",
    "\n",
    "res_model_4 = var_model_4.fit(maxlags=var_model_4.select_order(maxlags=5).bic)\n",
    "\n",
    "print(\"max lags:\", var_model_4.select_order(maxlags=5).bic,'\\n')\n",
    "print(res_model_4.summary())"
   ]
  },
  {
   "cell_type": "code",
   "execution_count": null,
   "metadata": {},
   "outputs": [],
   "source": []
  },
  {
   "cell_type": "code",
   "execution_count": null,
   "metadata": {},
   "outputs": [],
   "source": [
    "https://stackoverflow.com/questions/21827594/raise-linalgerrorsvd-did-not-converge-linalgerror-svd-did-not-converge-in-m\n",
    "    \n",
    "however, if one of the columns in ori_data has always the same value, the data will get Nans, since the implementation of PCA in mlab normalizes the input data by doing\n",
    "\n",
    "ori_data = (ori_data - mean(ori_data)) / std(ori_data).\n",
    "The solution is to do:\n",
    "\n",
    "result = PCA(ori_data, standardize=False)    "
   ]
  },
  {
   "cell_type": "code",
   "execution_count": null,
   "metadata": {},
   "outputs": [],
   "source": []
  },
  {
   "cell_type": "code",
   "execution_count": null,
   "metadata": {},
   "outputs": [],
   "source": [
    "res_causality_cds.summary()\n",
    "#fail to reject = (bonds) does not GC (cds)\n",
    "#reject == (bonds) does GC (CDS)"
   ]
  },
  {
   "cell_type": "code",
   "execution_count": null,
   "metadata": {},
   "outputs": [],
   "source": [
    "print(res_causality_bond.h0)\n",
    "print(res_causality_bond.conclusion)\n",
    "print(res_causality_bond.conclusion_str)\n",
    "print(res_causality_bond.df)\n",
    "print(res_causality_bond.method)\n",
    "print(res_causality_bond.pvalue)\n",
    "print(res_causality_bond.signif_str)\n",
    "print(res_causality_bond.test)\n",
    "print(res_causality_bond.test_statistic)\n",
    "print(res_causality_bond.crit_value)"
   ]
  },
  {
   "cell_type": "code",
   "execution_count": null,
   "metadata": {},
   "outputs": [],
   "source": []
  },
  {
   "cell_type": "code",
   "execution_count": null,
   "metadata": {},
   "outputs": [],
   "source": [
    "#### OLD FORMAT: (OLD VAR MOD LOOP?)\n",
    "#OLD FORMAT (daily?)\n",
    "\n",
    "var_constantissue_gvkeys = []\n",
    "cds_resc_ts = []\n",
    "cds_resc_cv = []\n",
    "cds_signif = []\n",
    "bond_signif = []\n",
    "cds_resc_pval = []\n",
    "cds_resc_concl = []\n",
    "bond_resc_ts = []\n",
    "bond_resc_cv = []\n",
    "bond_resc_pval = []\n",
    "bond_resc_concl = []\n",
    "gvkey_list = []\n",
    "type_tracker = []\n",
    "\n",
    "#make a small loop?\n",
    "for i, val in enumerate(df_no_coint_fulldata.groupby('gvkey')):  #unit root but no cointegration!\n",
    "    #print(\"i=\", i)\n",
    "    #print(\"VAL ------------ VAL:\", val[0])\n",
    "    \n",
    "    #create the GVKEY list from the groupby object, to later affix as the DF's index\n",
    "    gvkey = val[0]; data = val[1]\n",
    "    gvkey_list.append(gvkey)   \n",
    "    type_tracker.append(\"GCT_indifferences\")\n",
    "\n",
    "    #load the data to create the model for each GVKEY/LOOP (take the first difference of each series)\n",
    "    cds = data.market_cds_spread\n",
    "    cds = cds.diff().dropna()\n",
    "    pecds = data.pecds\n",
    "    pecds = pecds.diff().dropna()\n",
    "    #data = np.column_stack((cds, pecds))\n",
    "    data = pd.DataFrame(data=(cds, pecds)).T\n",
    "\n",
    "    #VAR_MODEL: GVKEYS (stat)\n",
    "    try:\n",
    "        model = smt.VAR(data)\n",
    "        \n",
    "        max_lags_bic = model.select_order(maxlags=5).bic\n",
    "        if max_lags_bic <= 0:\n",
    "            max_lags_bic = 1\n",
    "            \n",
    "        res = model.fit(maxlags=max_lags_bic)\n",
    "        \n",
    "        res_causality_cds = res.test_causality(causing=['pecds'], \n",
    "                                      caused=['market_cds_spread'], kind='wald', signif=0.05)\n",
    "        \n",
    "        cds_rs_ts = np.round(res_causality_cds.test_statistic, 4)\n",
    "        cds_rs_cv = np.round(res_causality_cds.crit_value, 4)\n",
    "        cds_rs_pval = np.round(res_causality_cds.pvalue, 4)\n",
    "        cds_rs_con = res_causality_cds.conclusion\n",
    "        \n",
    "        if cds_rs_ts > cds_rs_cv:\n",
    "            cds_signif.append(\"**\")\n",
    "        else: \n",
    "            cds_signif.append(\"  \")\n",
    "        \n",
    "        cds_resc_ts.append(cds_rs_ts)\n",
    "        cds_resc_cv.append(cds_rs_cv)\n",
    "        cds_resc_pval.append(cds_rs_pval)\n",
    "        cds_resc_concl.append(cds_rs_con)\n",
    "        \n",
    "        res_causality_bond = res.test_causality(causing=['market_cds_spread'], \n",
    "                                      caused=['pecds'], kind='wald', signif=0.05)\n",
    "\n",
    "        bond_rs_ts = np.round(res_causality_bond.test_statistic, 4)\n",
    "        bond_rs_cv = np.round(res_causality_bond.crit_value, 4)\n",
    "        bond_rs_pval = np.round(res_causality_bond.pvalue, 4)\n",
    "        bond_rs_con = res_causality_bond.conclusion\n",
    "        \n",
    "        if bond_rs_ts > bond_rs_cv:\n",
    "            bond_signif.append(\"**\")    \n",
    "        else:\n",
    "            bond_signif.append(\"  \")\n",
    "\n",
    "        bond_resc_ts.append(bond_rs_ts)\n",
    "        bond_resc_cv.append(bond_rs_cv)\n",
    "        bond_resc_pval.append(bond_rs_pval)\n",
    "        bond_resc_concl.append(bond_rs_con)\n",
    "\n",
    "    except ValueError as ve:\n",
    "        #res = model.fit(maxlags=10, method='ols',ic=None, trend='nc')\n",
    "        #var_constantissue_gvkeys.append(gvkey)\n",
    "        print(\"ValueError: {} \".format(i, ve))\n",
    "        pass\n",
    "        #pass\n",
    "    except np.linalg.LinAlgError as lae: \n",
    "        #var_linalg_issue_gvkeys.append(gvkey)\n",
    "        print(\"np.linalg.LinAlgError: {} \".format(i, lae), \"gvkey: {}\".format(gvkey))\n",
    "        pass\n",
    "        #print(\"LinAlgError: {} \".format(lae))\n",
    "        \n",
    "    except RuntimeError as re:\n",
    "        print(\"RuneTimeError: {}\".format(i, re), \"gvkey: {}\".format(gvkey))\n",
    "    #    pass\n",
    "        #pass\n",
    "    \n",
    "    #print(\"max_lags:\", var_model_1300.select_order().bic)\n",
    "    #print(res_model_1300.summary())\n",
    "\n",
    "cds_sig = [\"{}{}\".format(cds_resc_ts, cds_signif) for cds_resc_ts, cds_signif in zip(cds_resc_ts, cds_signif)]\n",
    "bond_sig = [\"{}{}\".format(bond_resc_ts, bond_signif) for bond_resc_ts, bond_signif in zip(bond_resc_ts, bond_signif)]\n",
    "#stat_test_strcomp_2 = [\"{}{}\".format(i, five_pnt_cv) for i in np.round(stat_test_strcomp,4)]    \n",
    "    \n",
    "\n",
    "granger_causality_nonstat__noce_df = pd.DataFrame(data=(gvkey_list, cds_sig, cds_resc_pval, cds_resc_concl,\n",
    "                                         bond_sig, bond_resc_pval, bond_resc_concl, type_tracker)).T\n",
    "\n",
    "granger_causality_nonstat__noce_df.columns = ['gvkey','cds_testval','cds_pval','cds_conclusion',\n",
    "                                           'bond_testval', 'bond_pval','bond_conclusion', 'type_tracker']\n",
    "              \n",
    "print(res_causality_bond.crit_value)"
   ]
  },
  {
   "cell_type": "code",
   "execution_count": null,
   "metadata": {},
   "outputs": [],
   "source": []
  },
  {
   "cell_type": "code",
   "execution_count": null,
   "metadata": {},
   "outputs": [],
   "source": []
  },
  {
   "cell_type": "code",
   "execution_count": null,
   "metadata": {},
   "outputs": [],
   "source": []
  },
  {
   "cell_type": "code",
   "execution_count": null,
   "metadata": {},
   "outputs": [],
   "source": [
    "#finding location of nan(s):\n",
    "## \n",
    "\n",
    "index = total_alldata_df_final['price_sales'].index[total_alldata_df_final['price_sales'].apply(np.isnan)]"
   ]
  },
  {
   "cell_type": "code",
   "execution_count": null,
   "metadata": {},
   "outputs": [],
   "source": []
  },
  {
   "cell_type": "code",
   "execution_count": null,
   "metadata": {},
   "outputs": [],
   "source": []
  },
  {
   "cell_type": "code",
   "execution_count": null,
   "metadata": {},
   "outputs": [],
   "source": []
  },
  {
   "cell_type": "code",
   "execution_count": null,
   "metadata": {},
   "outputs": [],
   "source": []
  },
  {
   "cell_type": "code",
   "execution_count": null,
   "metadata": {},
   "outputs": [],
   "source": []
  },
  {
   "cell_type": "code",
   "execution_count": null,
   "metadata": {},
   "outputs": [],
   "source": []
  },
  {
   "cell_type": "code",
   "execution_count": null,
   "metadata": {},
   "outputs": [],
   "source": []
  },
  {
   "cell_type": "code",
   "execution_count": null,
   "metadata": {},
   "outputs": [],
   "source": []
  },
  {
   "cell_type": "code",
   "execution_count": null,
   "metadata": {},
   "outputs": [],
   "source": []
  },
  {
   "cell_type": "markdown",
   "metadata": {},
   "source": [
    "## ORIGINAL BASE VECM "
   ]
  },
  {
   "cell_type": "code",
   "execution_count": 38,
   "metadata": {},
   "outputs": [
    {
     "name": "stdout",
     "output_type": "stream",
     "text": [
      "VECM MODEL OF GVKEY: 1408\n",
      "insufficient number of cointegrating relationships for VECM model\n",
      "Det. terms outside the coint. relation & lagged endog. parameters for equation market_cds_spread\n",
      "========================================================================================\n",
      "                           coef    std err          z      P>|z|      [0.025      0.975]\n",
      "----------------------------------------------------------------------------------------\n",
      "const                    1.5179      0.604      2.512      0.012       0.334       2.702\n",
      "L1.market_cds_spread     0.2742      0.031      8.982      0.000       0.214       0.334\n",
      "L1.pecds                 0.0510      0.030      1.672      0.095      -0.009       0.111\n",
      "L2.market_cds_spread    -0.0145      0.032     -0.457      0.648      -0.077       0.048\n",
      "L2.pecds                 0.0149      0.031      0.487      0.626      -0.045       0.075\n",
      "L3.market_cds_spread     0.0016      0.031      0.052      0.959      -0.058       0.062\n",
      "L3.pecds                 0.0150      0.030      0.492      0.623      -0.045       0.075\n",
      "  Det. terms outside the coint. relation & lagged endog. parameters for equation pecds  \n",
      "========================================================================================\n",
      "                           coef    std err          z      P>|z|      [0.025      0.975]\n",
      "----------------------------------------------------------------------------------------\n",
      "const                    0.5813      0.559      1.040      0.298      -0.515       1.677\n",
      "L1.market_cds_spread     0.0066      0.028      0.233      0.816      -0.049       0.062\n",
      "L1.pecds                 0.0008      0.028      0.029      0.976      -0.054       0.056\n",
      "L2.market_cds_spread     0.0256      0.029      0.871      0.384      -0.032       0.083\n",
      "L2.pecds                 0.0066      0.028      0.235      0.815      -0.049       0.062\n",
      "L3.market_cds_spread    -0.0634      0.028     -2.239      0.025      -0.119      -0.008\n",
      "L3.pecds                 0.3724      0.028     13.212      0.000       0.317       0.428\n",
      "         Loading coefficients (alpha) for equation market_cds_spread          \n",
      "==============================================================================\n",
      "                 coef    std err          z      P>|z|      [0.025      0.975]\n",
      "------------------------------------------------------------------------------\n",
      "ec1           -0.0092      0.003     -2.648      0.008      -0.016      -0.002\n",
      "               Loading coefficients (alpha) for equation pecds                \n",
      "==============================================================================\n",
      "                 coef    std err          z      P>|z|      [0.025      0.975]\n",
      "------------------------------------------------------------------------------\n",
      "ec1           -0.0027      0.003     -0.843      0.399      -0.009       0.004\n",
      "          Cointegration relations for loading-coefficients-column 1           \n",
      "==============================================================================\n",
      "                 coef    std err          z      P>|z|      [0.025      0.975]\n",
      "------------------------------------------------------------------------------\n",
      "beta.1         1.0000          0          0      0.000       1.000       1.000\n",
      "beta.2         0.5349      0.204      2.618      0.009       0.134       0.935\n",
      "==============================================================================\n",
      "\n",
      " Granger causality F-test. H_0: pecds does not Granger-cause market_cds_spread. Conclusion: fail to reject H_0 at 5% significance level.\n",
      "===============================================\n",
      "Test statistic Critical value p-value     df   \n",
      "-----------------------------------------------\n",
      "         1.233          2.376   0.295 (4, 2196)\n",
      "----------------------------------------------- \n",
      " -------------------------------------------------- \n",
      " Granger causality F-test. H_0: market_cds_spread does not Granger-cause pecds. Conclusion: fail to reject H_0 at 5% significance level.\n",
      "===============================================\n",
      "Test statistic Critical value p-value     df   \n",
      "-----------------------------------------------\n",
      "         1.412          2.376   0.227 (4, 2196)\n",
      "-----------------------------------------------\n"
     ]
    },
    {
     "name": "stderr",
     "output_type": "stream",
     "text": [
      "C:\\Users\\JasonSpano\\anaconda3\\lib\\site-packages\\ipykernel\\ipkernel.py:287: DeprecationWarning: `should_run_async` will not call `transform_cell` automatically in the future. Please pass the result to `transformed_cell` argument and any exception that happen during thetransform in `preprocessing_exc_tuple` in IPython 7.17 and above.\n",
      "  and should_run_async(code)\n",
      "C:\\Users\\JasonSpano\\anaconda3\\lib\\site-packages\\statsmodels\\tsa\\base\\tsa_model.py:578: ValueWarning: An unsupported index was provided and will be ignored when e.g. forecasting.\n",
      "  warnings.warn('An unsupported index was provided and will be'\n"
     ]
    }
   ],
   "source": [
    "#Original VECM base: CDS/PECDS\n",
    "\n",
    "gvkey_selection = 1408\n",
    "gvkey_frame = sorted_alldata_df_final_adf_results.loc[sorted_alldata_df_final_adf_results.gvkey==gvkey_selection]\n",
    "#coint_rels = 0\n",
    "\n",
    "print(\"VECM MODEL OF GVKEY: \" + str(gvkey_selection))\n",
    "\n",
    "cds = gvkey_frame['market_cds_spread']\n",
    "pecds = gvkey_frame['pecds']\n",
    "cboe_vix = gvkey_frame['cboe_vix']\n",
    "vecm_data_base = pd.DataFrame(data=(cds, pecds)).T\n",
    "\n",
    "vecm_data_base = vecm_data_base[(vecm_data_base.index <= np.percentile(vecm_data_base.index, 75))]\n",
    "\n",
    "vecm_model_base = vecm.select_order(vecm_data_base, maxlags=5)\n",
    "optimal_lag_length_base = vecm_model_base.bic\n",
    "    \n",
    "vecm_cointeg_rank_base = vecm.select_coint_rank(vecm_data_base, \n",
    "                                                det_order =1, \n",
    "                                                k_ar_diff = optimal_lag_length_base, \n",
    "                                                method='trace', \n",
    "                                                signif=0.05)\n",
    "\n",
    "if vecm_cointeg_rank_base.rank >= 1:\n",
    "    coint_rels_base = 1\n",
    "else:\n",
    "    print(\"insufficient number of cointegrating relationships for VECM model\")\n",
    "    \n",
    "vecm_base = vecm.VECM(vecm_data_base, \n",
    "                      k_ar_diff=vecm_model_base.bic, \n",
    "                      coint_rank=coint_rels_base, \n",
    "\n",
    "                      deterministic='co')\n",
    "\n",
    "vecm_base_res = vecm_base.fit()\n",
    "print(vecm_base_res.summary())\n",
    "\n",
    "\n",
    "\n",
    "\n",
    "print('\\n', vecm_base_res.test_granger_causality(caused=0).summary(), '\\n', '--'*25, '\\n', \n",
    "     vecm_base_res.test_granger_causality(caused=1).summary())"
   ]
  },
  {
   "cell_type": "code",
   "execution_count": 29,
   "metadata": {},
   "outputs": [
    {
     "name": "stdout",
     "output_type": "stream",
     "text": [
      "+-----------------+--------+\n",
      "| \u001b[1mPRICE DISCOVERY | VALUE\u001b[0m  |\n",
      "+-----------------+--------+\n",
      "|    GG VALUE     |  1.0   |\n",
      "|    HAS LOWER    | 0.0131 |\n",
      "|     HAS MID     | 0.0198 |\n",
      "|    HAS UPPER    | 0.0265 |\n",
      "+-----------------+--------+ \n",
      " \u001b[92m [ VALUES > 0.5 FAVOUR CDS |&| VALUES < 0.5 FAVOUR BONDS ] \u001b[0m\n"
     ]
    }
   ],
   "source": [
    "cholesky_decomp = np.linalg.cholesky(vecm_base_res.sigma_u)\n",
    "sig_1 = cholesky_decomp[0, 0]\n",
    "sig_12 = cholesky_decomp[1, 0]\n",
    "sig_2 = cholesky_decomp[1, 1]\n",
    "\n",
    "x_1 = vecm_base_res.alpha[0,0]\n",
    "x_2 = vecm_base_res.alpha[1,0]\n",
    "\n",
    "gg_val = np.round(vecm_base_res.alpha[1,0] / vecm_base_res.alpha[1,0] - vecm_base_res.pvalues_alpha[0,0], 2)\n",
    "\n",
    "HAS_1 = np.round(( x_2**2 * (sig_1**2 - sig_12**2 / sig_2**2) )  / ( x_2**2 * sig_1**2 - 2*x_1*x_2*sig_12 + x_1**2 * sig_2**2 ),4)\n",
    "HAS_2 = np.round(( (x_2 * sig_1 - x_1 * sig_12 / sig_1)**2 ) / ( x_2**2 * sig_1**2 - 2*x_1*x_2*sig_12 + x_1**2 * sig_2**2 ),4)\n",
    "HAS_mid = np.round((HAS_2 + HAS_1) / 2,4)\n",
    "\n",
    "print(tabulate([['GG VALUE', gg_val],\n",
    "       ['HAS LOWER', HAS_1],\n",
    "       ['HAS MID', HAS_mid],\n",
    "       ['HAS UPPER', HAS_2]],\n",
    "       headers=[color.BOLD + 'PRICE DISCOVERY', 'VALUE' + color.END], tablefmt='pretty', numalign='center'),\n",
    "     '\\n', color.GREEN, \"[ VALUES > 0.5 FAVOUR CDS |&| VALUES < 0.5 FAVOUR BONDS ]\", color.END)"
   ]
  },
  {
   "cell_type": "code",
   "execution_count": 22,
   "metadata": {},
   "outputs": [
    {
     "name": "stdout",
     "output_type": "stream",
     "text": [
      "+-----------------+--------+\n",
      "| \u001b[1mPRICE DISCOVERY | VALUE\u001b[0m  |\n",
      "+-----------------+--------+\n",
      "|    GG VALUE     |  1.0   |\n",
      "|    HAS LOWER    | 0.1132 |\n",
      "|     HAS MID     | 0.1291 |\n",
      "|    HAS UPPER    | 0.145  |\n",
      "+-----------------+--------+ \n",
      " \u001b[92m [ VALUES > 0.5 FAVOUR CDS |&| VALUES < 0.5 FAVOUR BONDS ] \u001b[0m\n"
     ]
    }
   ],
   "source": [
    "cholesky_decomp = np.linalg.cholesky(vecm_base_res.sigma_u)\n",
    "sig_1 = cholesky_decomp[0, 0]\n",
    "sig_12 = cholesky_decomp[1, 0]\n",
    "sig_2 = cholesky_decomp[1, 1]\n",
    "\n",
    "x_1 = vecm_base_res.alpha[0,0]\n",
    "x_2 = vecm_base_res.alpha[1,0]\n",
    "\n",
    "gg_val = np.round(vecm_base_res.alpha[1,0] / vecm_base_res.alpha[1,0] - vecm_base_res.pvalues_alpha[0,0], 2)\n",
    "\n",
    "HAS_1 = np.round(( x_2**2 * (sig_1**2 - sig_12**2 / sig_2**2) )  / ( x_2**2 * sig_1**2 - 2*x_1*x_2*sig_12 + x_1**2 * sig_2**2 ),4)\n",
    "HAS_2 = np.round(( (x_2 * sig_1 - x_1 * sig_12 / sig_1)**2 ) / ( x_2**2 * sig_1**2 - 2*x_1*x_2*sig_12 + x_1**2 * sig_2**2 ),4)\n",
    "HAS_mid = np.round((HAS_2 + HAS_1) / 2,4)\n",
    "\n",
    "print(tabulate([['GG VALUE', gg_val],\n",
    "       ['HAS LOWER', HAS_1],\n",
    "       ['HAS MID', HAS_mid],\n",
    "       ['HAS UPPER', HAS_2]],\n",
    "       headers=[color.BOLD + 'PRICE DISCOVERY', 'VALUE' + color.END], tablefmt='pretty', numalign='center'),\n",
    "     '\\n', color.GREEN, \"[ VALUES > 0.5 FAVOUR CDS |&| VALUES < 0.5 FAVOUR BONDS ]\", color.END)"
   ]
  },
  {
   "cell_type": "code",
   "execution_count": null,
   "metadata": {},
   "outputs": [],
   "source": []
  },
  {
   "cell_type": "code",
   "execution_count": null,
   "metadata": {},
   "outputs": [],
   "source": []
  },
  {
   "cell_type": "code",
   "execution_count": 8,
   "metadata": {},
   "outputs": [
    {
     "data": {
      "text/plain": [
       "    <                      <=                     ==                     !=                     >\n",
       "    >=                     dir()                  hash()                 help()                 repr()\n",
       "    str()                  .alpha                 .beta                  .coint_rank            .conf_int_alpha()\n",
       "    .conf_int_beta()       .conf_int_det_coef()                          .conf_int_det_coef_coint()\n",
       "    .conf_int_gamma()      .const                 .const_coint           .cov_params_default    .cov_params_wo_det\n",
       "    .cov_var_repr          .dates                 .det_coef              .det_coef_coint        .deterministic\n",
       "    .exog                  .exog_coefs            .exog_coint            .exog_coint_coefs      .first_season\n",
       "    .fittedvalues          .gamma                 .irf()                 .k_ar                  .lin_trend\n",
       "    .lin_trend_coint       .llf                   .ma_rep()              .model                 .names\n",
       "    .neqs                  .nobs                  .orth_ma_rep()         .plot_data()           .plot_forecast()\n",
       "    .predict()             .pvalues_alpha         .pvalues_beta          .pvalues_det_coef      .pvalues_det_coef_coint\n",
       "    .pvalues_gamma         .resid                 .seasonal              .seasons               .sigma_u\n",
       "    .stderr_alpha          .stderr_beta           .stderr_coint          .stderr_det_coef       .stderr_det_coef_coint\n",
       "    .stderr_gamma          .stderr_params         .summary()             .test_granger_causality()\n",
       "    .test_inst_causality()                        .test_normality()      .test_whiteness()      .tvalues_alpha\n",
       "    .tvalues_beta          .tvalues_det_coef      .tvalues_det_coef_coint                       .tvalues_gamma\n",
       "    .var_rep               .y_all"
      ]
     },
     "execution_count": 8,
     "metadata": {},
     "output_type": "execute_result"
    }
   ],
   "source": [
    "see(vecm_base_res)"
   ]
  },
  {
   "cell_type": "code",
   "execution_count": 31,
   "metadata": {},
   "outputs": [
    {
     "data": {
      "text/plain": [
       "    ismethod     isroutine    ()           <            <=           ==           !=           >            >=\n",
       "    dir()        hash()       help()       repr()       str()"
      ]
     },
     "execution_count": 31,
     "metadata": {},
     "output_type": "execute_result"
    }
   ],
   "source": []
  },
  {
   "cell_type": "code",
   "execution_count": 36,
   "metadata": {},
   "outputs": [
    {
     "ename": "ValueError",
     "evalue": "exog_fc is None: Please pass the future values of the VECM's exog terms via the exog_fc argument!",
     "output_type": "error",
     "traceback": [
      "\u001b[1;31m---------------------------------------------------------------------------\u001b[0m",
      "\u001b[1;31mValueError\u001b[0m                                Traceback (most recent call last)",
      "\u001b[1;32m<ipython-input-36-9124ec4a81aa>\u001b[0m in \u001b[0;36m<module>\u001b[1;34m\u001b[0m\n\u001b[1;32m----> 1\u001b[1;33m \u001b[0mvecm_base_res\u001b[0m\u001b[1;33m.\u001b[0m\u001b[0mpredict\u001b[0m\u001b[1;33m(\u001b[0m\u001b[1;36m5\u001b[0m\u001b[1;33m)\u001b[0m\u001b[1;33m\u001b[0m\u001b[1;33m\u001b[0m\u001b[0m\n\u001b[0m",
      "\u001b[1;32m~\\anaconda3\\lib\\site-packages\\statsmodels\\tsa\\vector_ar\\vecm.py\u001b[0m in \u001b[0;36mpredict\u001b[1;34m(self, steps, alpha, exog_fc, exog_coint_fc)\u001b[0m\n\u001b[0;32m   1656\u001b[0m         \"\"\"\n\u001b[0;32m   1657\u001b[0m         \u001b[1;32mif\u001b[0m \u001b[0mself\u001b[0m\u001b[1;33m.\u001b[0m\u001b[0mexog\u001b[0m \u001b[1;32mis\u001b[0m \u001b[1;32mnot\u001b[0m \u001b[1;32mNone\u001b[0m \u001b[1;32mand\u001b[0m \u001b[0mexog_fc\u001b[0m \u001b[1;32mis\u001b[0m \u001b[1;32mNone\u001b[0m\u001b[1;33m:\u001b[0m\u001b[1;33m\u001b[0m\u001b[1;33m\u001b[0m\u001b[0m\n\u001b[1;32m-> 1658\u001b[1;33m             raise ValueError(\"exog_fc is None: Please pass the future values \"\n\u001b[0m\u001b[0;32m   1659\u001b[0m                              \u001b[1;34m\"of the VECM's exog terms via the exog_fc \"\u001b[0m\u001b[1;33m\u001b[0m\u001b[1;33m\u001b[0m\u001b[0m\n\u001b[0;32m   1660\u001b[0m                              \"argument!\")\n",
      "\u001b[1;31mValueError\u001b[0m: exog_fc is None: Please pass the future values of the VECM's exog terms via the exog_fc argument!"
     ]
    }
   ],
   "source": [
    "#vecm_base_res.predict(steps=5,\n",
    "#                     exog_fc = )"
   ]
  },
  {
   "cell_type": "code",
   "execution_count": 40,
   "metadata": {},
   "outputs": [
    {
     "data": {
      "text/plain": [
       "1114"
      ]
     },
     "execution_count": 40,
     "metadata": {},
     "output_type": "execute_result"
    }
   ],
   "source": [
    "len(vecm_data_base)"
   ]
  },
  {
   "cell_type": "code",
   "execution_count": 42,
   "metadata": {},
   "outputs": [
    {
     "data": {
      "text/plain": [
       "1485"
      ]
     },
     "execution_count": 42,
     "metadata": {},
     "output_type": "execute_result"
    }
   ],
   "source": [
    "len(cboe_vix)"
   ]
  },
  {
   "cell_type": "code",
   "execution_count": 43,
   "metadata": {},
   "outputs": [
    {
     "data": {
      "text/plain": [
       "1392.5"
      ]
     },
     "execution_count": 43,
     "metadata": {},
     "output_type": "execute_result"
    }
   ],
   "source": [
    "1114 * 1.25"
   ]
  },
  {
   "cell_type": "code",
   "execution_count": 46,
   "metadata": {},
   "outputs": [
    {
     "data": {
      "text/plain": [
       "1485.0"
      ]
     },
     "execution_count": 46,
     "metadata": {},
     "output_type": "execute_result"
    }
   ],
   "source": [
    "np.floor(1114 * 1/0.75)"
   ]
  },
  {
   "cell_type": "code",
   "execution_count": 45,
   "metadata": {},
   "outputs": [
    {
     "data": {
      "text/plain": [
       "1485.3333333333333"
      ]
     },
     "execution_count": 45,
     "metadata": {},
     "output_type": "execute_result"
    }
   ],
   "source": [
    "1114 * 1/0.75"
   ]
  },
  {
   "cell_type": "code",
   "execution_count": 47,
   "metadata": {},
   "outputs": [
    {
     "data": {
      "text/plain": [
       "371.25"
      ]
     },
     "execution_count": 47,
     "metadata": {},
     "output_type": "execute_result"
    }
   ],
   "source": [
    "0.25 * 1485"
   ]
  },
  {
   "cell_type": "code",
   "execution_count": null,
   "metadata": {},
   "outputs": [],
   "source": [
    "0.25 * len(vecm_data_base)"
   ]
  },
  {
   "cell_type": "code",
   "execution_count": 48,
   "metadata": {},
   "outputs": [
    {
     "data": {
      "text/plain": [
       "array([[ 53.14425548, 256.03515318],\n",
       "       [ 52.84894483, 256.01263156],\n",
       "       [ 52.54020623, 256.07780892],\n",
       "       [ 52.23452118, 256.19644708],\n",
       "       [ 51.93386174, 256.26476019],\n",
       "       [ 51.63649431, 256.36772129],\n",
       "       [ 51.34401449, 256.49089969],\n",
       "       [ 51.05571634, 256.595998  ],\n",
       "       [ 50.77053775, 256.71469107],\n",
       "       [ 50.48893315, 256.84122373],\n",
       "       [ 50.21057367, 256.96153964],\n",
       "       [ 49.93503422, 257.08746076],\n",
       "       [ 49.66245738, 257.21670495],\n",
       "       [ 49.39269303, 257.34411251],\n",
       "       [ 49.12556063, 257.47409079],\n",
       "       [ 48.86108983, 257.60573456],\n",
       "       [ 48.59920048, 257.73714637],\n",
       "       [ 48.33980309, 257.86996482],\n",
       "       [ 48.08288615, 258.00382829],\n",
       "       [ 47.82839715, 258.13803525],\n",
       "       [ 47.57628105, 258.27319083],\n",
       "       [ 47.32651193, 258.40914742],\n",
       "       [ 47.07904876, 258.5456419 ],\n",
       "       [ 46.83385013, 258.68289392],\n",
       "       [ 46.59088568, 258.82084001],\n",
       "       [ 46.35011969, 258.95937788],\n",
       "       [ 46.11151666, 259.09858359],\n",
       "       [ 45.87504551, 259.23842683],\n",
       "       [ 45.64067341, 259.37886442],\n",
       "       [ 45.40836796, 259.51991912],\n",
       "       [ 45.17809865, 259.66157379],\n",
       "       [ 44.94983462, 259.80380713],\n",
       "       [ 44.72354545, 259.94662229],\n",
       "       [ 44.4992017 , 260.09000746],\n",
       "       [ 44.27677406, 260.23394961],\n",
       "       [ 44.05623366, 260.37844478],\n",
       "       [ 43.83755227, 260.5234835 ],\n",
       "       [ 43.62070194, 260.66905596],\n",
       "       [ 43.40565516, 260.8151558 ],\n",
       "       [ 43.1923849 , 260.96177466],\n",
       "       [ 42.98086448, 261.10890414],\n",
       "       [ 42.77106764, 261.25653719],\n",
       "       [ 42.56296853, 261.4046661 ],\n",
       "       [ 42.35654168, 261.55328319],\n",
       "       [ 42.15176198, 261.70238137],\n",
       "       [ 41.94860474, 261.85195335],\n",
       "       [ 41.7470456 , 262.00199195],\n",
       "       [ 41.54706059, 262.15249026],\n",
       "       [ 41.3486261 , 262.30344134],\n",
       "       [ 41.15171886, 262.45483838],\n",
       "       [ 40.95631595, 262.60667472],\n",
       "       [ 40.76239481, 262.75894375],\n",
       "       [ 40.56993322, 262.91163898],\n",
       "       [ 40.37890926, 263.06475403],\n",
       "       [ 40.18930138, 263.21828258],\n",
       "       [ 40.00108832, 263.37221844],\n",
       "       [ 39.81424917, 263.52655549],\n",
       "       [ 39.6287633 , 263.68128772],\n",
       "       [ 39.44461043, 263.83640919],\n",
       "       [ 39.26177054, 263.99191408],\n",
       "       [ 39.08022394, 264.14779661],\n",
       "       [ 38.89995123, 264.30405114],\n",
       "       [ 38.72093329, 264.46067208],\n",
       "       [ 38.5431513 , 264.61765393],\n",
       "       [ 38.36658672, 264.77499127],\n",
       "       [ 38.19122129, 264.93267878],\n",
       "       [ 38.01703701, 265.09071119],\n",
       "       [ 37.84401616, 265.24908335],\n",
       "       [ 37.67214129, 265.40779014],\n",
       "       [ 37.5013952 , 265.56682655],\n",
       "       [ 37.33176097, 265.72618763],\n",
       "       [ 37.1632219 , 265.88586851],\n",
       "       [ 36.99576158, 266.0458644 ],\n",
       "       [ 36.82936381, 266.20617056],\n",
       "       [ 36.66401265, 266.36678235],\n",
       "       [ 36.49969241, 266.52769518],\n",
       "       [ 36.33638761, 266.68890453],\n",
       "       [ 36.17408302, 266.85040595],\n",
       "       [ 36.01276364, 267.01219506],\n",
       "       [ 35.85241469, 267.17426755],\n",
       "       [ 35.6930216 , 267.33661916],\n",
       "       [ 35.53457003, 267.4992457 ],\n",
       "       [ 35.37704587, 267.66214306],\n",
       "       [ 35.22043519, 267.82530717],\n",
       "       [ 35.0647243 , 267.98873402],\n",
       "       [ 34.90989968, 268.15241967],\n",
       "       [ 34.75594806, 268.31636025],\n",
       "       [ 34.60285632, 268.48055193],\n",
       "       [ 34.45061157, 268.64499093],\n",
       "       [ 34.2992011 , 268.80967356],\n",
       "       [ 34.1486124 , 268.97459615],\n",
       "       [ 33.99883313, 269.1397551 ],\n",
       "       [ 33.84985115, 269.30514687],\n",
       "       [ 33.70165451, 269.47076797],\n",
       "       [ 33.55423142, 269.63661495],\n",
       "       [ 33.40757026, 269.80268443],\n",
       "       [ 33.26165963, 269.96897307],\n",
       "       [ 33.11648824, 270.13547757],\n",
       "       [ 32.97204502, 270.30219471],\n",
       "       [ 32.82831903, 270.46912129],\n",
       "       [ 32.68529952, 270.63625417],\n",
       "       [ 32.54297589, 270.80359025],\n",
       "       [ 32.4013377 , 270.97112649],\n",
       "       [ 32.26037466, 271.13885988],\n",
       "       [ 32.12007665, 271.30678747],\n",
       "       [ 31.98043368, 271.47490633],\n",
       "       [ 31.84143594, 271.64321361],\n",
       "       [ 31.70307374, 271.81170648],\n",
       "       [ 31.56533754, 271.98038214],\n",
       "       [ 31.42821796, 272.14923787],\n",
       "       [ 31.29170574, 272.31827095],\n",
       "       [ 31.15579177, 272.48747872],\n",
       "       [ 31.02046708, 272.65685857],\n",
       "       [ 30.88572283, 272.82640792],\n",
       "       [ 30.7515503 , 272.99612421],\n",
       "       [ 30.61794092, 273.16600496],\n",
       "       [ 30.48488624, 273.33604768],\n",
       "       [ 30.35237794, 273.50624995],\n",
       "       [ 30.22040783, 273.67660937],\n",
       "       [ 30.08896782, 273.84712359],\n",
       "       [ 29.95804997, 274.01779029],\n",
       "       [ 29.82764643, 274.18860717],\n",
       "       [ 29.69774951, 274.35957199],\n",
       "       [ 29.56835158, 274.53068253],\n",
       "       [ 29.43944518, 274.70193659],\n",
       "       [ 29.31102292, 274.87333203],\n",
       "       [ 29.18307754, 275.04486672],\n",
       "       [ 29.05560188, 275.21653858],\n",
       "       [ 28.92858891, 275.38834554],\n",
       "       [ 28.80203167, 275.56028559],\n",
       "       [ 28.67592333, 275.73235671],\n",
       "       [ 28.55025716, 275.90455696],\n",
       "       [ 28.42502652, 276.07688439],\n",
       "       [ 28.30022487, 276.24933709],\n",
       "       [ 28.17584579, 276.42191318],\n",
       "       [ 28.05188293, 276.59461081],\n",
       "       [ 27.92833005, 276.76742816],\n",
       "       [ 27.805181  , 276.94036343],\n",
       "       [ 27.68242971, 277.11341486],\n",
       "       [ 27.56007022, 277.2865807 ],\n",
       "       [ 27.43809666, 277.45985923],\n",
       "       [ 27.31650323, 277.63324876],\n",
       "       [ 27.19528423, 277.80674763],\n",
       "       [ 27.07443404, 277.9803542 ],\n",
       "       [ 26.95394713, 278.15406685],\n",
       "       [ 26.83381806, 278.32788399],\n",
       "       [ 26.71404144, 278.50180405],\n",
       "       [ 26.59461199, 278.67582549],\n",
       "       [ 26.47552451, 278.84994678],\n",
       "       [ 26.35677386, 279.02416644],\n",
       "       [ 26.23835499, 279.19848298],\n",
       "       [ 26.12026293, 279.37289495],\n",
       "       [ 26.00249277, 279.54740092],\n",
       "       [ 25.88503967, 279.72199948],\n",
       "       [ 25.76789889, 279.89668924],\n",
       "       [ 25.65106574, 280.07146882],\n",
       "       [ 25.53453561, 280.24633689],\n",
       "       [ 25.41830393, 280.42129212],\n",
       "       [ 25.30236625, 280.59633319],\n",
       "       [ 25.18671815, 280.77145883],\n",
       "       [ 25.07135528, 280.94666775],\n",
       "       [ 24.95627337, 281.12195872],\n",
       "       [ 24.84146819, 281.2973305 ],\n",
       "       [ 24.7269356 , 281.47278188],\n",
       "       [ 24.61267152, 281.64831166],\n",
       "       [ 24.4986719 , 281.82391867],\n",
       "       [ 24.38493278, 281.99960175],\n",
       "       [ 24.27145026, 282.17535976],\n",
       "       [ 24.15822048, 282.35119157],\n",
       "       [ 24.04523966, 282.52709608],\n",
       "       [ 23.93250406, 282.7030722 ],\n",
       "       [ 23.82000999, 282.87911885],\n",
       "       [ 23.70775384, 283.05523497],\n",
       "       [ 23.59573203, 283.23141952],\n",
       "       [ 23.48394105, 283.40767148],\n",
       "       [ 23.37237745, 283.58398983],\n",
       "       [ 23.26103779, 283.76037358],\n",
       "       [ 23.14991873, 283.93682175],\n",
       "       [ 23.03901696, 284.11333337],\n",
       "       [ 22.92832922, 284.28990748],\n",
       "       [ 22.81785229, 284.46654316],\n",
       "       [ 22.70758301, 284.64323947],\n",
       "       [ 22.59751828, 284.81999551],\n",
       "       [ 22.48765501, 284.99681038],\n",
       "       [ 22.37799018, 285.1736832 ],\n",
       "       [ 22.26852083, 285.35061309],\n",
       "       [ 22.15924401, 285.52759922],\n",
       "       [ 22.05015684, 285.70464072],\n",
       "       [ 21.94125647, 285.88173676],\n",
       "       [ 21.8325401 , 286.05888654],\n",
       "       [ 21.72400498, 286.23608925],\n",
       "       [ 21.61564837, 286.41334408],\n",
       "       [ 21.5074676 , 286.59065026],\n",
       "       [ 21.39946004, 286.76800702],\n",
       "       [ 21.29162309, 286.94541359],\n",
       "       [ 21.18395418, 287.12286924],\n",
       "       [ 21.07645079, 287.30037322],\n",
       "       [ 20.96911045, 287.47792482],\n",
       "       [ 20.8619307 , 287.65552331],\n",
       "       [ 20.75490914, 287.83316799],\n",
       "       [ 20.6480434 , 288.01085817],\n",
       "       [ 20.54133112, 288.18859316],\n",
       "       [ 20.43477002, 288.36637231],\n",
       "       [ 20.32835783, 288.54419493],\n",
       "       [ 20.22209231, 288.72206038],\n",
       "       [ 20.11597125, 288.89996802],\n",
       "       [ 20.0099925 , 289.07791721],\n",
       "       [ 19.90415392, 289.25590734],\n",
       "       [ 19.7984534 , 289.43393778],\n",
       "       [ 19.69288888, 289.61200793],\n",
       "       [ 19.58745831, 289.7901172 ],\n",
       "       [ 19.48215969, 289.968265  ],\n",
       "       [ 19.37699103, 290.14645075],\n",
       "       [ 19.27195038, 290.32467388],\n",
       "       [ 19.16703583, 290.50293383],\n",
       "       [ 19.06224548, 290.68123005],\n",
       "       [ 18.95757746, 290.85956199],\n",
       "       [ 18.85302996, 291.03792912],\n",
       "       [ 18.74860114, 291.21633091],\n",
       "       [ 18.64428925, 291.39476685],\n",
       "       [ 18.54009251, 291.57323641],\n",
       "       [ 18.43600921, 291.75173909],\n",
       "       [ 18.33203764, 291.93027441],\n",
       "       [ 18.22817612, 292.10884185],\n",
       "       [ 18.12442301, 292.28744096],\n",
       "       [ 18.02077667, 292.46607124],\n",
       "       [ 17.91723551, 292.64473224],\n",
       "       [ 17.81379795, 292.82342349],\n",
       "       [ 17.71046243, 293.00214454],\n",
       "       [ 17.60722743, 293.18089493],\n",
       "       [ 17.50409142, 293.35967424],\n",
       "       [ 17.40105294, 293.53848203],\n",
       "       [ 17.29811052, 293.71731786],\n",
       "       [ 17.19526271, 293.89618132],\n",
       "       [ 17.09250809, 294.075072  ],\n",
       "       [ 16.98984527, 294.25398948],\n",
       "       [ 16.88727288, 294.43293337],\n",
       "       [ 16.78478954, 294.61190326],\n",
       "       [ 16.68239394, 294.79089877],\n",
       "       [ 16.58008474, 294.96991952],\n",
       "       [ 16.47786066, 295.14896512],\n",
       "       [ 16.37572042, 295.3280352 ],\n",
       "       [ 16.27366276, 295.50712939],\n",
       "       [ 16.17168644, 295.68624734],\n",
       "       [ 16.06979024, 295.86538869],\n",
       "       [ 15.96797296, 296.04455307],\n",
       "       [ 15.86623342, 296.22374016],\n",
       "       [ 15.76457044, 296.40294961],\n",
       "       [ 15.66298288, 296.58218108],\n",
       "       [ 15.56146961, 296.76143425],\n",
       "       [ 15.46002952, 296.94070878],\n",
       "       [ 15.3586615 , 297.12000436],\n",
       "       [ 15.25736448, 297.29932067],\n",
       "       [ 15.15613739, 297.4786574 ],\n",
       "       [ 15.05497917, 297.65801424],\n",
       "       [ 14.95388881, 297.8373909 ],\n",
       "       [ 14.85286527, 298.01678707],\n",
       "       [ 14.75190756, 298.19620246],\n",
       "       [ 14.65101469, 298.37563679],\n",
       "       [ 14.55018569, 298.55508976],\n",
       "       [ 14.44941959, 298.73456111],\n",
       "       [ 14.34871546, 298.91405055],\n",
       "       [ 14.24807236, 299.09355782],\n",
       "       [ 14.14748939, 299.27308264],\n",
       "       [ 14.04696562, 299.45262475],\n",
       "       [ 13.94650019, 299.63218389],\n",
       "       [ 13.84609221, 299.81175981],\n",
       "       [ 13.74574083, 299.99135226],\n",
       "       [ 13.64544518, 300.17096098],\n",
       "       [ 13.54520445, 300.35058574],\n",
       "       [ 13.44501779, 300.53022629],\n",
       "       [ 13.34488441, 300.70988239],\n",
       "       [ 13.2448035 , 300.88955382],\n",
       "       [ 13.14477427, 301.06924034],\n",
       "       [ 13.04479595, 301.24894173],\n",
       "       [ 12.94486778, 301.42865776],\n",
       "       [ 12.844989  , 301.60838821],\n",
       "       [ 12.74515887, 301.78813287],\n",
       "       [ 12.64537667, 301.96789153],\n",
       "       [ 12.54564167, 302.14766396],\n",
       "       [ 12.44595316, 302.32744998],\n",
       "       [ 12.34631046, 302.50724937],\n",
       "       [ 12.24671286, 302.68706193],\n",
       "       [ 12.1471597 , 302.86688747],\n",
       "       [ 12.0476503 , 303.04672578],\n",
       "       [ 11.94818401, 303.22657669],\n",
       "       [ 11.84876019, 303.40643999],\n",
       "       [ 11.7493782 , 303.58631551],\n",
       "       [ 11.6500374 , 303.76620306],\n",
       "       [ 11.55073719, 303.94610246],\n",
       "       [ 11.45147694, 304.12601354],\n",
       "       [ 11.35225607, 304.30593611],\n",
       "       [ 11.25307399, 304.48587   ],\n",
       "       [ 11.1539301 , 304.66581505],\n",
       "       [ 11.05482384, 304.84577109],\n",
       "       [ 10.95575464, 305.02573795],\n",
       "       [ 10.85672195, 305.20571547],\n",
       "       [ 10.75772521, 305.38570349],\n",
       "       [ 10.6587639 , 305.56570185],\n",
       "       [ 10.55983747, 305.7457104 ],\n",
       "       [ 10.46094541, 305.92572899],\n",
       "       [ 10.3620872 , 306.10575746],\n",
       "       [ 10.26326232, 306.28579566],\n",
       "       [ 10.16447029, 306.46584346],\n",
       "       [ 10.06571061, 306.6459007 ],\n",
       "       [  9.96698279, 306.82596724],\n",
       "       [  9.86828635, 307.00604296],\n",
       "       [  9.76962083, 307.18612769],\n",
       "       [  9.67098576, 307.36622132],\n",
       "       [  9.57238068, 307.54632371],\n",
       "       [  9.47380515, 307.72643473],\n",
       "       [  9.37525872, 307.90655424],\n",
       "       [  9.27674094, 308.08668212],\n",
       "       [  9.17825141, 308.26681825],\n",
       "       [  9.07978968, 308.4469625 ],\n",
       "       [  8.98135535, 308.62711474],\n",
       "       [  8.88294799, 308.80727487],\n",
       "       [  8.78456722, 308.98744276],\n",
       "       [  8.68621262, 309.16761829],\n",
       "       [  8.58788381, 309.34780135],\n",
       "       [  8.48958039, 309.52799182],\n",
       "       [  8.391302  , 309.70818961],\n",
       "       [  8.29304824, 309.88839459],\n",
       "       [  8.19481876, 310.06860665],\n",
       "       [  8.09661319, 310.2488257 ],\n",
       "       [  7.99843117, 310.42905163],\n",
       "       [  7.90027234, 310.60928432],\n",
       "       [  7.80213636, 310.78952369],\n",
       "       [  7.70402289, 310.96976964],\n",
       "       [  7.60593159, 311.15002205],\n",
       "       [  7.50786212, 311.33028084],\n",
       "       [  7.40981415, 311.51054592],\n",
       "       [  7.31178738, 311.69081717],\n",
       "       [  7.21378147, 311.87109453],\n",
       "       [  7.11579611, 312.05137788],\n",
       "       [  7.01783101, 312.23166715],\n",
       "       [  6.91988584, 312.41196224],\n",
       "       [  6.82196032, 312.59226306],\n",
       "       [  6.72405414, 312.77256954],\n",
       "       [  6.62616702, 312.95288158],\n",
       "       [  6.52829868, 313.1331991 ],\n",
       "       [  6.43044882, 313.31352202],\n",
       "       [  6.33261718, 313.49385026],\n",
       "       [  6.23480348, 313.67418374],\n",
       "       [  6.13700745, 313.85452238],\n",
       "       [  6.03922882, 314.0348661 ],\n",
       "       [  5.94146734, 314.21521483],\n",
       "       [  5.84372274, 314.39556848],\n",
       "       [  5.74599478, 314.575927  ],\n",
       "       [  5.64828321, 314.7562903 ],\n",
       "       [  5.55058777, 314.93665831],\n",
       "       [  5.45290823, 315.11703097],\n",
       "       [  5.35524434, 315.2974082 ],\n",
       "       [  5.25759588, 315.47778993],\n",
       "       [  5.15996261, 315.65817609],\n",
       "       [  5.06234431, 315.83856663],\n",
       "       [  4.96474074, 316.01896147],\n",
       "       [  4.86715169, 316.19936055],\n",
       "       [  4.76957694, 316.37976381],\n",
       "       [  4.67201628, 316.56017118],\n",
       "       [  4.57446949, 316.7405826 ],\n",
       "       [  4.47693637, 316.92099801],\n",
       "       [  4.37941671, 317.10141735],\n",
       "       [  4.28191031, 317.28184056],\n",
       "       [  4.18441697, 317.46226759],\n",
       "       [  4.08693649, 317.64269837],\n",
       "       [  3.98946868, 317.82313286],\n",
       "       [  3.89201336, 318.00357099],\n",
       "       [  3.79457033, 318.18401271],\n",
       "       [  3.69713941, 318.36445796],\n",
       "       [  3.59972041, 318.5449067 ]])"
      ]
     },
     "execution_count": 48,
     "metadata": {},
     "output_type": "execute_result"
    }
   ],
   "source": [
    "vecm_base_res.predict(371)"
   ]
  },
  {
   "cell_type": "code",
   "execution_count": null,
   "metadata": {},
   "outputs": [],
   "source": []
  },
  {
   "cell_type": "code",
   "execution_count": 13,
   "metadata": {},
   "outputs": [
    {
     "data": {
      "text/plain": [
       "array([[ 38.10729363, 250.77101034],\n",
       "       [ 38.17153226, 250.8853358 ],\n",
       "       [ 38.24593142, 251.09764249],\n",
       "       [ 38.32004372, 251.23837287],\n",
       "       [ 38.39302202, 251.40292343],\n",
       "       [ 38.46700775, 251.5928017 ],\n",
       "       [ 38.53922454, 251.76251131],\n",
       "       [ 38.6095354 , 251.93844097],\n",
       "       [ 38.67860931, 252.12056133],\n",
       "       [ 38.74573218, 252.29667573],\n",
       "       [ 38.81090668, 252.47408286],\n",
       "       [ 38.87433583, 252.65265512],\n",
       "       [ 38.93584665, 252.82912862],\n",
       "       [ 38.99546426, 253.00552481],\n",
       "       [ 39.05326373, 253.18178109],\n",
       "       [ 39.10921802, 253.35702938],\n",
       "       [ 39.16335471, 253.53183368],\n",
       "       [ 39.21571353, 253.70617395],\n",
       "       [ 39.26630635, 253.87982407],\n",
       "       [ 39.31515983, 254.05294566],\n",
       "       [ 39.36230341, 254.22553685],\n",
       "       [ 39.40775865, 254.39754318],\n",
       "       [ 39.451551  , 254.5690151 ],\n",
       "       [ 39.49370626, 254.73995725],\n",
       "       [ 39.53424787, 254.91036089],\n",
       "       [ 39.57320005, 255.08024555],\n",
       "       [ 39.61058687, 255.24961791],\n",
       "       [ 39.64643148, 255.41848118],\n",
       "       [ 39.68075702, 255.58684615],\n",
       "       [ 39.7135863 , 255.75471994],\n",
       "       [ 39.74494167, 255.92210871],\n",
       "       [ 39.77484522, 256.08902059],\n",
       "       [ 39.80331872, 256.25546264],\n",
       "       [ 39.83038358, 256.42144156],\n",
       "       [ 39.85606091, 256.58696454],\n",
       "       [ 39.88037151, 256.75203837],\n",
       "       [ 39.90333584, 256.9166697 ],\n",
       "       [ 39.9249741 , 257.08086523],\n",
       "       [ 39.94530614, 257.24463148],\n",
       "       [ 39.96435153, 257.40797485],\n",
       "       [ 39.98212957, 257.57090171],\n",
       "       [ 39.99865924, 257.73341829],\n",
       "       [ 40.01395925, 257.89553072],\n",
       "       [ 40.02804802, 258.05724509],\n",
       "       [ 40.0409437 , 258.21856734],\n",
       "       [ 40.05266418, 258.37950335],\n",
       "       [ 40.06322706, 258.54005891],\n",
       "       [ 40.07264969, 258.70023972],\n",
       "       [ 40.08094915, 258.8600514 ],\n",
       "       [ 40.08814228, 259.01949948]])"
      ]
     },
     "execution_count": 13,
     "metadata": {},
     "output_type": "execute_result"
    }
   ],
   "source": [
    "vecm_base_res.predict(50)"
   ]
  },
  {
   "cell_type": "code",
   "execution_count": 15,
   "metadata": {},
   "outputs": [
    {
     "data": {
      "text/plain": [
       "array([[ 79.1       ,  82.41      ,  82.41      , ...,  37.57      ,\n",
       "         38.1       ,  38.07      ],\n",
       "       [ 32.81682147,  32.89223996,  33.10347263, ..., 250.41639251,\n",
       "        250.48606532, 250.75011808]])"
      ]
     },
     "execution_count": 15,
     "metadata": {},
     "output_type": "execute_result"
    }
   ],
   "source": [
    "vecm_base_res.y_all"
   ]
  },
  {
   "cell_type": "code",
   "execution_count": 49,
   "metadata": {},
   "outputs": [
    {
     "data": {
      "image/png": "[encoded data removed]",
      "text/plain": [
       "<Figure size 720x720 with 2 Axes>"
      ]
     },
     "metadata": {
      "needs_background": "light"
     },
     "output_type": "display_data"
    }
   ],
   "source": [
    "vecm_base_res.plot_forecast(steps=371)"
   ]
  },
  {
   "cell_type": "code",
   "execution_count": 11,
   "metadata": {},
   "outputs": [
    {
     "name": "stderr",
     "output_type": "stream",
     "text": [
      "C:\\Users\\JasonSpano\\anaconda3\\lib\\site-packages\\ipykernel\\ipkernel.py:287: DeprecationWarning: `should_run_async` will not call `transform_cell` automatically in the future. Please pass the result to `transformed_cell` argument and any exception that happen during thetransform in `preprocessing_exc_tuple` in IPython 7.17 and above.\n",
      "  and should_run_async(code)\n"
     ]
    },
    {
     "data": {
      "image/png": "[encoded data removed]",
      "text/plain": [
       "<Figure size 720x720 with 2 Axes>"
      ]
     },
     "metadata": {
      "needs_background": "light"
     },
     "output_type": "display_data"
    }
   ],
   "source": [
    "vecm_base_res.plot_forecast(steps=150)"
   ]
  },
  {
   "cell_type": "code",
   "execution_count": null,
   "metadata": {},
   "outputs": [],
   "source": []
  },
  {
   "cell_type": "code",
   "execution_count": null,
   "metadata": {},
   "outputs": [],
   "source": [
    "## TRY ## \n",
    "\n",
    "from sklearn.metrics import mean_squared_error\n",
    "\n"
   ]
  },
  {
   "cell_type": "code",
   "execution_count": null,
   "metadata": {},
   "outputs": [],
   "source": []
  },
  {
   "cell_type": "code",
   "execution_count": 30,
   "metadata": {},
   "outputs": [
    {
     "ename": "AttributeError",
     "evalue": "'DataFrame' object has no attribute 'y_lag1'",
     "output_type": "error",
     "traceback": [
      "\u001b[1;31m---------------------------------------------------------------------------\u001b[0m",
      "\u001b[1;31mAttributeError\u001b[0m                            Traceback (most recent call last)",
      "\u001b[1;32m<ipython-input-30-e92c224a54d8>\u001b[0m in \u001b[0;36m<module>\u001b[1;34m\u001b[0m\n\u001b[1;32m----> 1\u001b[1;33m \u001b[0mvecm_data_base\u001b[0m\u001b[1;33m.\u001b[0m\u001b[0my_lag1\u001b[0m\u001b[1;33m\u001b[0m\u001b[1;33m\u001b[0m\u001b[0m\n\u001b[0m",
      "\u001b[1;32m~\\anaconda3\\lib\\site-packages\\pandas\\core\\generic.py\u001b[0m in \u001b[0;36m__getattr__\u001b[1;34m(self, name)\u001b[0m\n\u001b[0;32m   5272\u001b[0m             \u001b[1;32mif\u001b[0m \u001b[0mself\u001b[0m\u001b[1;33m.\u001b[0m\u001b[0m_info_axis\u001b[0m\u001b[1;33m.\u001b[0m\u001b[0m_can_hold_identifiers_and_holds_name\u001b[0m\u001b[1;33m(\u001b[0m\u001b[0mname\u001b[0m\u001b[1;33m)\u001b[0m\u001b[1;33m:\u001b[0m\u001b[1;33m\u001b[0m\u001b[1;33m\u001b[0m\u001b[0m\n\u001b[0;32m   5273\u001b[0m                 \u001b[1;32mreturn\u001b[0m \u001b[0mself\u001b[0m\u001b[1;33m[\u001b[0m\u001b[0mname\u001b[0m\u001b[1;33m]\u001b[0m\u001b[1;33m\u001b[0m\u001b[1;33m\u001b[0m\u001b[0m\n\u001b[1;32m-> 5274\u001b[1;33m             \u001b[1;32mreturn\u001b[0m \u001b[0mobject\u001b[0m\u001b[1;33m.\u001b[0m\u001b[0m__getattribute__\u001b[0m\u001b[1;33m(\u001b[0m\u001b[0mself\u001b[0m\u001b[1;33m,\u001b[0m \u001b[0mname\u001b[0m\u001b[1;33m)\u001b[0m\u001b[1;33m\u001b[0m\u001b[1;33m\u001b[0m\u001b[0m\n\u001b[0m\u001b[0;32m   5275\u001b[0m \u001b[1;33m\u001b[0m\u001b[0m\n\u001b[0;32m   5276\u001b[0m     \u001b[1;32mdef\u001b[0m \u001b[0m__setattr__\u001b[0m\u001b[1;33m(\u001b[0m\u001b[0mself\u001b[0m\u001b[1;33m,\u001b[0m \u001b[0mname\u001b[0m\u001b[1;33m:\u001b[0m \u001b[0mstr\u001b[0m\u001b[1;33m,\u001b[0m \u001b[0mvalue\u001b[0m\u001b[1;33m)\u001b[0m \u001b[1;33m->\u001b[0m \u001b[1;32mNone\u001b[0m\u001b[1;33m:\u001b[0m\u001b[1;33m\u001b[0m\u001b[1;33m\u001b[0m\u001b[0m\n",
      "\u001b[1;31mAttributeError\u001b[0m: 'DataFrame' object has no attribute 'y_lag1'"
     ]
    }
   ],
   "source": [
    "vecm_data_base.y_lag1"
   ]
  },
  {
   "cell_type": "code",
   "execution_count": 12,
   "metadata": {},
   "outputs": [
    {
     "data": {
      "text/plain": [
       "array([[ 79.1       ,  82.41      ,  82.41      , ...,  37.57      ,\n",
       "         38.1       ,  38.07      ],\n",
       "       [ 32.81682147,  32.89223996,  33.10347263, ..., 250.41639251,\n",
       "        250.48606532, 250.75011808]])"
      ]
     },
     "execution_count": 12,
     "metadata": {},
     "output_type": "execute_result"
    }
   ],
   "source": [
    "vecm_base_res.y_all"
   ]
  },
  {
   "cell_type": "code",
   "execution_count": 26,
   "metadata": {},
   "outputs": [
    {
     "data": {
      "text/plain": [
       "array([[ 83.62253106,  33.20511575],\n",
       "       [ 86.48631579,  33.92691665],\n",
       "       [ 86.99221166,  33.58661279],\n",
       "       ...,\n",
       "       [ 37.14803927, 250.99214083],\n",
       "       [ 37.74435538, 250.56909999],\n",
       "       [ 38.29171538, 250.70728193]])"
      ]
     },
     "execution_count": 26,
     "metadata": {},
     "output_type": "execute_result"
    }
   ],
   "source": [
    "vecm_base_res.fittedvalues"
   ]
  },
  {
   "cell_type": "code",
   "execution_count": null,
   "metadata": {},
   "outputs": [],
   "source": []
  },
  {
   "cell_type": "code",
   "execution_count": 28,
   "metadata": {},
   "outputs": [
    {
     "data": {
      "text/html": [
       "<div>\n",
       "<style scoped>\n",
       "    .dataframe tbody tr th:only-of-type {\n",
       "        vertical-align: middle;\n",
       "    }\n",
       "\n",
       "    .dataframe tbody tr th {\n",
       "        vertical-align: top;\n",
       "    }\n",
       "\n",
       "    .dataframe thead th {\n",
       "        text-align: right;\n",
       "    }\n",
       "</style>\n",
       "<table border=\"1\" class=\"dataframe\">\n",
       "  <thead>\n",
       "    <tr style=\"text-align: right;\">\n",
       "      <th></th>\n",
       "      <th>market_cds_spread</th>\n",
       "      <th>pecds</th>\n",
       "    </tr>\n",
       "  </thead>\n",
       "  <tbody>\n",
       "    <tr>\n",
       "      <th>11494</th>\n",
       "      <td>37.06</td>\n",
       "      <td>250.486065</td>\n",
       "    </tr>\n",
       "    <tr>\n",
       "      <th>11495</th>\n",
       "      <td>37.07</td>\n",
       "      <td>250.739735</td>\n",
       "    </tr>\n",
       "    <tr>\n",
       "      <th>11496</th>\n",
       "      <td>37.57</td>\n",
       "      <td>250.416393</td>\n",
       "    </tr>\n",
       "    <tr>\n",
       "      <th>11497</th>\n",
       "      <td>38.10</td>\n",
       "      <td>250.486065</td>\n",
       "    </tr>\n",
       "    <tr>\n",
       "      <th>11498</th>\n",
       "      <td>38.07</td>\n",
       "      <td>250.750118</td>\n",
       "    </tr>\n",
       "  </tbody>\n",
       "</table>\n",
       "</div>"
      ],
      "text/plain": [
       "       market_cds_spread       pecds\n",
       "11494              37.06  250.486065\n",
       "11495              37.07  250.739735\n",
       "11496              37.57  250.416393\n",
       "11497              38.10  250.486065\n",
       "11498              38.07  250.750118"
      ]
     },
     "execution_count": 28,
     "metadata": {},
     "output_type": "execute_result"
    }
   ],
   "source": [
    "vecm_data_base.tail()"
   ]
  },
  {
   "cell_type": "code",
   "execution_count": null,
   "metadata": {},
   "outputs": [],
   "source": []
  },
  {
   "cell_type": "code",
   "execution_count": null,
   "metadata": {},
   "outputs": [],
   "source": []
  },
  {
   "cell_type": "code",
   "execution_count": null,
   "metadata": {},
   "outputs": [],
   "source": []
  },
  {
   "cell_type": "code",
   "execution_count": null,
   "metadata": {},
   "outputs": [],
   "source": [
    "#VECM of base + VIX: CDS/PECDS\n",
    "#with automated coint rels calculation\n",
    "\n",
    "gvkey_number = 1408\n",
    "gvkey_frame = gvkey_1408\n",
    "#coint_rels = 0\n",
    "\n",
    "print(\"VECM MODEL + VIX OF GVKEY: \" + str(gvkey_number))\n",
    "\n",
    "cds = gvkey_frame['market_cds_spread']\n",
    "pecds = gvkey_frame['pecds']\n",
    "vix = gvkey_frame['cboe_vix']\n",
    "vecm_data_vix = pd.DataFrame(data=(cds, pecds, vix)).T\n",
    "\n",
    "vecm_model_vix = vecm.select_order(vecm_data_vix, maxlags=5)\n",
    "optimal_lag_length_vix = vecm_model_vix.bic\n",
    "    \n",
    "vecm_cointeg_rank_vix = vecm.select_coint_rank(vecm_data_vix, det_order =1, k_ar_diff = optimal_lag_length_vix, \n",
    "                                                  method='trace', signif=0.05)\n",
    "\n",
    "#if vecm_cointeg_rank_vix.rank >= 1:\n",
    "#    coint_rels_vix = 1\n",
    "#else:\n",
    "#    print(\"insufficient number of cointegrating relationships for VECM model\")\n",
    "    \n",
    "vecm_vix_2 = vecm.VECM(vecm_data_vix, k_ar_diff=vecm_model_vix.bic, coint_rank=vecm_cointeg_rank_vix.rank, deterministic='cili')\n",
    "vecm_vix_res_2 = vecm_vix_2.fit()\n",
    "print(vecm_vix_res_2.summary())\n",
    "\n",
    "\n",
    "\n",
    "vecm_vix_res_2.test_granger_causality(causing='cboe_vix', caused='market_cds_spread').summary()"
   ]
  },
  {
   "cell_type": "code",
   "execution_count": null,
   "metadata": {},
   "outputs": [],
   "source": []
  },
  {
   "cell_type": "code",
   "execution_count": null,
   "metadata": {},
   "outputs": [],
   "source": []
  },
  {
   "cell_type": "code",
   "execution_count": null,
   "metadata": {},
   "outputs": [],
   "source": []
  },
  {
   "cell_type": "markdown",
   "metadata": {},
   "source": [
    "## PROBLEM GVKEYS SECTION"
   ]
  },
  {
   "cell_type": "code",
   "execution_count": null,
   "metadata": {},
   "outputs": [],
   "source": [
    "za_problem_df\n",
    "#all have nearly == 0 STD DEV"
   ]
  },
  {
   "cell_type": "code",
   "execution_count": null,
   "metadata": {},
   "outputs": [],
   "source": [
    "#what is the distribution of sectors in the total DF? \n",
    "\n",
    "#sorted_alldata_df_final_adf_results.groupby(['year_index','sector']).median()['cds_bond_basis'].unstack()\n",
    "sorted_alldata_df_final_adf_results.groupby(['year_index','sector']).mean()['market_cds_spread'].unstack()"
   ]
  },
  {
   "cell_type": "code",
   "execution_count": null,
   "metadata": {},
   "outputs": [],
   "source": []
  },
  {
   "cell_type": "code",
   "execution_count": null,
   "metadata": {},
   "outputs": [],
   "source": [
    "#try: \n",
    "basis_stats_yearind = np.round(df_basis_coupons_month.groupby('year_index').agg({'cds_bond_basis':['mean','median','std']}),2)"
   ]
  },
  {
   "cell_type": "code",
   "execution_count": null,
   "metadata": {},
   "outputs": [],
   "source": []
  },
  {
   "cell_type": "code",
   "execution_count": null,
   "metadata": {},
   "outputs": [],
   "source": [
    "#ERROR:\n",
    "sorted_alldata_df_final_adf_results.groupby(['year_index','sector']).std()['market_cds_spread'].unstack()\n",
    "\n",
    "#cant call sqrt method:"
   ]
  },
  {
   "cell_type": "code",
   "execution_count": null,
   "metadata": {},
   "outputs": [],
   "source": []
  },
  {
   "cell_type": "code",
   "execution_count": null,
   "metadata": {},
   "outputs": [],
   "source": [
    "\n",
    "\n",
    "#change names: (see code below + take the np.round from here)\n",
    "df_agg_year_yax_sector_xax_median_basis = np.round(df_agg_sector_year.groupby(['year_index','sector']).median()['cds_bond_basis'].unstack(),2)"
   ]
  },
  {
   "cell_type": "code",
   "execution_count": null,
   "metadata": {},
   "outputs": [],
   "source": []
  },
  {
   "cell_type": "code",
   "execution_count": null,
   "metadata": {},
   "outputs": [],
   "source": []
  },
  {
   "cell_type": "code",
   "execution_count": null,
   "metadata": {},
   "outputs": [],
   "source": [
    "sorted_alldata_df_final.groupby(['sector','gvkey']).size()"
   ]
  },
  {
   "cell_type": "code",
   "execution_count": null,
   "metadata": {},
   "outputs": [],
   "source": [
    "#check earlier code for improvement (firm size by sector? )\n",
    "sorted_alldata_df_final.groupby(['sector']).size()"
   ]
  },
  {
   "cell_type": "code",
   "execution_count": null,
   "metadata": {},
   "outputs": [],
   "source": [
    "sorted_alldata_df_final.loc[sorted_alldata_df_final.gvkey==5862]['market_cds_spread'].std()"
   ]
  },
  {
   "cell_type": "code",
   "execution_count": null,
   "metadata": {},
   "outputs": [],
   "source": [
    "sorted_alldata_df_final.groupby('gvkey').size()"
   ]
  },
  {
   "cell_type": "code",
   "execution_count": null,
   "metadata": {},
   "outputs": [],
   "source": []
  },
  {
   "cell_type": "code",
   "execution_count": null,
   "metadata": {},
   "outputs": [],
   "source": []
  },
  {
   "cell_type": "code",
   "execution_count": null,
   "metadata": {},
   "outputs": [],
   "source": []
  },
  {
   "cell_type": "code",
   "execution_count": null,
   "metadata": {},
   "outputs": [],
   "source": []
  },
  {
   "cell_type": "code",
   "execution_count": null,
   "metadata": {},
   "outputs": [],
   "source": []
  },
  {
   "cell_type": "code",
   "execution_count": null,
   "metadata": {},
   "outputs": [],
   "source": []
  },
  {
   "cell_type": "markdown",
   "metadata": {},
   "source": [
    "## Optimal Lengths (AIC/BIC) in VECM framework loop(s)"
   ]
  },
  {
   "cell_type": "code",
   "execution_count": null,
   "metadata": {},
   "outputs": [],
   "source": [
    "## ORIGINAL ##\n",
    "\n",
    "#34.2 seconds: / 28S with altered list initialiser \n",
    "#gvkey_list, aic_list, bic_list = ([] for i in range(3))"
   ]
  },
  {
   "cell_type": "code",
   "execution_count": null,
   "metadata": {},
   "outputs": [],
   "source": [
    "%%time\n",
    "\n",
    "#gvkey_list = []\n",
    "#aic_list = []\n",
    "#bic_list = []\n",
    "value_errors_model_order = 0\n",
    "#gvkey_list, aic_list, bic_list = ([], )*3\n",
    "gvkey_list, aic_list, bic_list = ([] for i in range(3))\n",
    "\n",
    "for i, val in enumerate(sorted_alldata_df_final_adf_results.groupby('gvkey')):\n",
    "    gvkey = val[0]\n",
    "    data = val[1]  \n",
    "    gvkey_list.append(gvkey)          \n",
    "\n",
    "    ## load the data to create the model for each GVKEY/LOOP\n",
    "    cds = data.market_cds_spread\n",
    "    pecds = data.pecds\n",
    "    gvkey_frame_model_order = pd.DataFrame(data=(cds, pecds)).T\n",
    "\n",
    "    try:\n",
    "        \n",
    "        ## generate model\n",
    "        vecm_model_order = vecm.select_order(gvkey_frame_model_order, maxlags=10)\n",
    "\n",
    "        aic_list.append(vecm_model_order.aic)\n",
    "        bic_list.append(vecm_model_order.bic)\n",
    "        \n",
    "    except ValueError as ve:\n",
    "        aic_list.append(np.nan)\n",
    "        bic_list.append(np.nan)\n",
    "        value_errors_model_order += 1\n",
    "    \n",
    "vecm_model_orders_df = pd.DataFrame(data=(gvkey_list, aic_list, bic_list)).T\n",
    "\n",
    "vecm_model_orders_df.columns = ['gvkey','aic_lags','bic_lags']\n",
    "\n",
    "print(\" GVKEY ERRORS: {}\".format(value_errors_model_order),'\\n',\n",
    "     \"Successful Model Order Regressions: {}\".format(len(gvkey_list) - value_errors_model_order), '\\n', \"--\"*25, '\\n')"
   ]
  },
  {
   "cell_type": "code",
   "execution_count": null,
   "metadata": {},
   "outputs": [],
   "source": []
  },
  {
   "cell_type": "code",
   "execution_count": null,
   "metadata": {},
   "outputs": [],
   "source": [
    "## using collections.defaultdict\n",
    "\n",
    "#14.8S"
   ]
  },
  {
   "cell_type": "code",
   "execution_count": null,
   "metadata": {},
   "outputs": [],
   "source": [
    "%%time\n",
    "\n",
    "## generate the dictionary and an error counter\n",
    "value_errors_model_order = 0\n",
    "vecm_model_orders_dict = collections.defaultdict(list)\n",
    "\n",
    "## create the loop in the groupby framework:\n",
    "for i, val in enumerate(sorted_alldata_df_final_adf_results.groupby('gvkey')):\n",
    "    gvkey = val[0]\n",
    "    data = val[1]  \n",
    "    vecm_model_orders_dict['gvkey'].append(gvkey)          \n",
    "\n",
    "    ## load the data to create the model for each GVKEY/LOOP\n",
    "    cds = data.market_cds_spread\n",
    "    pecds = data.pecds\n",
    "    gvkey_frame_model_order = np.column_stack((cds, pecds)) \n",
    "\n",
    "    #### Model Loop #### \n",
    "    try:\n",
    "        # generate model instance\n",
    "        vecm_model_order = vecm.select_order(gvkey_frame_model_order, maxlags=10)\n",
    "\n",
    "        # append lengths according to the different model selection criteria to dict\n",
    "        vecm_model_orders_dict['aic'].append(vecm_model_order.aic)\n",
    "        vecm_model_orders_dict['bic'].append(vecm_model_order.bic)\n",
    "        \n",
    "    except ValueError as ve:\n",
    "        vecm_model_orders_dict['aic'].append(np.nan)\n",
    "        vecm_model_orders_dict['bic'].append(np.nan)\n",
    "        value_errors_model_order += 1\n",
    "\n",
    "## create the DF from the dictionary        \n",
    "vecm_mod_orders_df_fromdict = pd.DataFrame.from_dict(vecm_model_orders_dict)\n",
    "\n",
    "## print some information about this loop and its outcomes:\n",
    "print(\" GVKEY ERRORS: {}\".format(value_errors_model_order),'\\n',\n",
    "     \"Successful Model Order Regressions: {}\".format(len(\n",
    "         sorted_alldata_df_final_adf_results.groupby('gvkey')['gvkey'].unique()) - value_errors_model_order), '\\n', \"--\"*25, '\\n')\n"
   ]
  },
  {
   "cell_type": "code",
   "execution_count": null,
   "metadata": {},
   "outputs": [],
   "source": []
  },
  {
   "cell_type": "code",
   "execution_count": null,
   "metadata": {},
   "outputs": [],
   "source": []
  },
  {
   "cell_type": "markdown",
   "metadata": {},
   "source": [
    "## attempts to clean up the error terms .append() functionality: \n",
    "* Thus far (23.01.2021) Failed: "
   ]
  },
  {
   "cell_type": "code",
   "execution_count": null,
   "metadata": {},
   "outputs": [],
   "source": [
    "X = [1, 2, 3, 4, 5]\n",
    "Y = []\n",
    "Z = []; M=[]; T=[]\n",
    "\n",
    "my_list = [Y, Z, M, T]\n",
    "appenders=range(4)\n",
    "for x, lst in zip(appenders, my_list):\n",
    "    lst.append(np.nan)\n",
    "    \n",
    "    #works"
   ]
  },
  {
   "cell_type": "code",
   "execution_count": null,
   "metadata": {},
   "outputs": [],
   "source": [
    "## DOES NOT WORK ##\n",
    "\n",
    "model_ve_errors_list = [vecm_model_orders_dict['aic'], vecm_model_orders_dict['bic']]\n",
    "model_ve_error_range = range(2)\n",
    "\n",
    "my_list = [Y, Z, M, T]\n",
    "appenders=range(4)\n",
    "for x, lst in zip(appenders, my_list):\n",
    "    lst.append(np.nan)"
   ]
  },
  {
   "cell_type": "code",
   "execution_count": null,
   "metadata": {},
   "outputs": [],
   "source": []
  },
  {
   "cell_type": "code",
   "execution_count": null,
   "metadata": {},
   "outputs": [],
   "source": []
  },
  {
   "cell_type": "code",
   "execution_count": null,
   "metadata": {},
   "outputs": [],
   "source": []
  },
  {
   "cell_type": "code",
   "execution_count": null,
   "metadata": {},
   "outputs": [],
   "source": []
  },
  {
   "cell_type": "markdown",
   "metadata": {},
   "source": [
    "### ORIGINAL LISTS-BASED ADF LOOP\n"
   ]
  },
  {
   "cell_type": "code",
   "execution_count": null,
   "metadata": {},
   "outputs": [],
   "source": [
    "## wall time == 18.3s "
   ]
  },
  {
   "cell_type": "code",
   "execution_count": null,
   "metadata": {},
   "outputs": [],
   "source": [
    "%%time\n",
    "## OG METHOD\n",
    "#initialise a few lists to append data to from each GVKEY's loop\n",
    "\n",
    "gvkey_list = []                       #holds the GVKEY\n",
    "sector_list = []                      #append the sector for each GVKEY (just saves having to re-merge on again later)\n",
    "optimal_lag_list = []                 #holds the optimal number of lags selected by the BIC\n",
    "first_date_obs = []                   #holds the first date observation per GVKEY\n",
    "last_date_obs = []                    #holds the last date observation per GVKEY\n",
    "time_horizon = []                     #holds the difference between the first and last date observations\n",
    "\n",
    "#holds the series' test statistics (CDS, Bond, VIX)\n",
    "stationarity_ts_cds = []              \n",
    "stationarity_ts_bond = []             \n",
    "stationarity_ts_vix = []\n",
    "\n",
    "#holds the p-value for the test statistic \n",
    "stationarity_pvalue_cds = []          \n",
    "stationarity_pvalue_bond = []         \n",
    "stationarity_pvalue_vix = []\n",
    "\n",
    "#will hold the supplementary list that will merge the test statistic with it's significance level\n",
    "#E.G. the significance level (*, **, ***) for levels 10%, 5%, 1% respectively; this is for the latex publication tables\n",
    "stationarity_test_res_cds = []        \n",
    "stationarity_test_res_bond = []\n",
    "stationarity_test_res_vix = []\n",
    "\n",
    "stat_test_joint = []                                #will hold the outcome (CDS+BONDS) for the joint unit-root test outcome\n",
    "problematic_gvkey = []                              #seperately log GVKEYs which encounter errors\n",
    "linalg_errors = 0; value_errors = 0                 #simple counters for logging the number of errors occured, by group\n",
    "\n",
    "#THE ADF CRITICAL VALUES for 1%, 5%, 10%:\n",
    "one_percent_cv = -3.43472   \n",
    "five_percent_cv = -2.86347 \n",
    "ten_percent_cv = -2.56779\n",
    "adf_automated_lag_cds = []; adf_automated_lag_bond = []\n",
    "\n",
    "#create loop to test for stationarity in each GVKEY's data group: was (#sorted_alldata_df_final)\n",
    "for i, val in enumerate(sorted_alldata_df_final_adf_results.groupby('gvkey')):\n",
    "    gvkey = val[0]\n",
    "    data = val[1]                        #assign the remainder of the data to be callable from data.(variable)\n",
    "    gvkey_list.append(gvkey)             #append the GVKEY to a list, which keeps the data stored under the appropriate key\n",
    "    sector_string = data.sector\n",
    "    sector_list.append(sector_string.iloc[0])      #append the respective sector for that GVKEY\n",
    "    \n",
    "    #compute the specifics of each GVKEY's date / time horizon\n",
    "    first_date_obs.append(data.trade_date.min())\n",
    "    last_date_obs.append(data.trade_date.max())\n",
    "    time_difference = data.trade_date.max() - data.trade_date.min()\n",
    "    time_horizon.append(time_difference.days)               #append just the .days aspect of the timedelta variable\n",
    "    \n",
    "    #define the appropriate series for the ADF test: \n",
    "    cds = data.market_cds_spread         \n",
    "    pecds = data.pecds\n",
    "    vix = data.cboe_vix\n",
    "    \n",
    "    #the VAR model package requires the data be structured in a particular way; np.column stack is the fastest method\n",
    "    data = np.column_stack((cds, pecds)) \n",
    "    \n",
    "    #the VAR model construction is necessary for computing the BIC\n",
    "    model = smt.VAR(data)  \n",
    "\n",
    "    #compute the optimised BIC value from [model] which holds the vector autoregression model per GVKEY\n",
    "    try:\n",
    "        #for daily data, a maximum lag length is imposed (5 trading days, roughly equivalent to one trading week)\n",
    "        bic_selected_lag = model.select_order(maxlags=10).bic \n",
    "        optimal_lag_list.append(bic_selected_lag)                  #store the optimised BIC result per GVKEY\n",
    "        \n",
    "        #ADF test - plugging in the bic selected lag length to run a unique length ADF test per GVKEY, per instrument\n",
    "        test_ADF_cds = ADF(cds, trend='c', max_lags=10, method='BIC') \n",
    "        adf_automated_lag_cds.append(test_ADF_cds.lags)\n",
    "        \n",
    "        test_ADF_bond = ADF(pecds, trend='c',  max_lags=10, method='BIC')  \n",
    "        adf_automated_lag_bond.append(test_ADF_bond.lags)\n",
    "        \n",
    "        test_ADF_vix = ADF(vix, trend='c',  max_lags=10, method='BIC')\n",
    "\n",
    "        \n",
    "        #store the test statistic & p-value for each instrument's ADF test result, for each GVKEY (rounded to 4 decimals)\n",
    "        stationarity_ts_cds.append(np.round(test_ADF_cds.stat,4))    \n",
    "        stationarity_ts_bond.append(np.round(test_ADF_bond.stat,4))     \n",
    "        stationarity_ts_vix.append(np.round(test_ADF_vix.stat,4))\n",
    "        \n",
    "        stationarity_pvalue_cds.append(np.round(test_ADF_cds.pvalue,4))    \n",
    "        stationarity_pvalue_bond.append(np.round(test_ADF_bond.pvalue,4))\n",
    "        stationarity_pvalue_vix.append(np.round(test_ADF_vix.pvalue,4))\n",
    "        \n",
    "        ##OPTIONAL\n",
    "        #this part reads the test stat per GVKEY / instrument and assigns the appropriate (*) per its significance level\n",
    "        #E.G. > 99% significance is commonly denoted as [test_statistic]*** in publication regression tables\n",
    "        \n",
    "        #CDS ADF LATEX TABLE CONSTRUCTION\n",
    "        if test_ADF_cds.stat < one_percent_cv:\n",
    "            stationarity_test_res_cds.append(\"***\")   \n",
    "        elif test_ADF_cds.stat < five_percent_cv:\n",
    "            stationarity_test_res_cds.append(\"**\")    ## The 1% & 5% significance would reject H0\n",
    "        elif test_ADF_cds.stat < ten_percent_cv:\n",
    "            stationarity_test_res_cds.append(\"*\")     ## The 10% and no level would fail to reject H0\n",
    "        else: \n",
    "            stationarity_test_res_cds.append(\" \")  \n",
    "\n",
    "        #repeat for BONDS:\n",
    "        if test_ADF_bond.stat < one_percent_cv:\n",
    "            stationarity_test_res_bond.append(\"***\")\n",
    "        elif test_ADF_bond.stat < five_percent_cv:\n",
    "            stationarity_test_res_bond.append(\"**\")   ## The 1% & 5% significance would reject H0\n",
    "        elif test_ADF_bond.stat < ten_percent_cv:\n",
    "            stationarity_test_res_bond.append(\"*\")    ## The 10% and no level would fail to reject H0\n",
    "        else: \n",
    "            stationarity_test_res_bond.append(\" \")\n",
    "            \n",
    "            \n",
    "        #VIX ADF LATEX TABLE CONSTRUCTION\n",
    "        if test_ADF_vix.stat < one_percent_cv:\n",
    "            stationarity_test_res_vix.append(\"***\")   \n",
    "        elif test_ADF_vix.stat < five_percent_cv:\n",
    "            stationarity_test_res_vix.append(\"**\")    ## The 1% & 5% significance would reject H0\n",
    "        elif test_ADF_vix.stat < ten_percent_cv:\n",
    "            stationarity_test_res_vix.append(\"*\")     ## The 10% and no level would fail to reject H0\n",
    "        else: \n",
    "            stationarity_test_res_vix.append(\" \")  \n",
    "                    \n",
    "        \n",
    "        #ensure that both series are integrated of the same order: a jointly unit-root system is required for VECM models\n",
    "        if (test_ADF_bond.stat > five_percent_cv and test_ADF_cds.stat > five_percent_cv):  \n",
    "            #this is > as to \"not reject\" the H0 is unit root; while reject the null would imply a stationary series\n",
    "            stat_test_joint.append(\"BOND/CDS Both Have Unit Root\")\n",
    "            #stat_boolean.append(int(1))\n",
    "        elif (test_ADF_bond.stat > five_percent_cv and test_ADF_cds.stat < five_percent_cv):\n",
    "            stat_test_joint.append(\"BOND ONLY HAS UR\")\n",
    "        elif (test_ADF_bond.stat < five_percent_cv and test_ADF_cds.stat > five_percent_cv):\n",
    "            stat_test_joint.append(\"CDS ONLY HAS UR\")            \n",
    "        else: \n",
    "            stat_test_joint.append(\"Cannot Reject H0\")\n",
    "            #stat_boolean.append(int(2))\n",
    "        \n",
    "    # A linear-algebra error could be caused by market factors which have created highly erratic basis behaviour\n",
    "    # This could be caused by a firm nearing bankruptcy where its basis deviates excessively far from par\n",
    "    #accordingly, the leading minor of the array is not positive definite is akin to taking the square root of a negative number\n",
    "    except np.linalg.LinAlgError as lae:\n",
    "        problematic_gvkey.append(gvkey)                                 #append problem GVKEY to seperate list\n",
    "        print(\"LinAlgError: Row: {}, Reason : {} \".format(i, lae), '\\n', \"GVKEY: ({})\".format(gvkey), \n",
    "              \"SECTOR: \", sector_string.iloc[0])\n",
    "      \n",
    "        #append items to maintain placement in main DF \\\\ \n",
    "        #where the errors occur, fill with NaN values instead\n",
    "        optimal_lag_list.append(np.nan)\n",
    "        adf_automated_lag_cds.append(np.nan)\n",
    "        adf_automated_lag_bond.append(np.nan)\n",
    "        stat_test_joint.append(\"LinAlg_Error\")\n",
    "        \n",
    "        stationarity_test_res_cds.append(\"_LAE\")\n",
    "        stationarity_test_res_bond.append(\"_LAE\")\n",
    "        stationarity_test_res_vix.append(\"_LAE\")\n",
    "        \n",
    "        stationarity_ts_cds.append(np.nan)\n",
    "        stationarity_ts_bond.append(np.nan)\n",
    "        stationarity_ts_vix.append(np.nan)\n",
    "        \n",
    "        stationarity_pvalue_cds.append(np.nan)\n",
    "        stationarity_pvalue_bond.append(np.nan)\n",
    "        stationarity_pvalue_vix.append(np.nan)\n",
    "        \n",
    "        linalg_errors += 1\n",
    "        continue\n",
    "    \n",
    "    #some series may have encounted some errors with a constant, thus adding a constant to the equation is invalid\n",
    "    #this occurs due to poor liquidity in some markets, resulting in long periods of near-identical price quotes\n",
    "    except (ValueError) as ve:\n",
    "        problematic_gvkey.append(gvkey)\n",
    "        print(\"ValueError: Row: {}, Reason : {} \".format(i, ve), '\\n', \"GVKEY: ({})\".format(gvkey), \n",
    "              \"SECTOR:\", sector_string.iloc[0])\n",
    "        \n",
    "        #append items to maintain placement in main DF \\\\ \n",
    "        #where the errors occur, fill with NaN values instead\n",
    "        optimal_lag_list.append(np.nan)\n",
    "        adf_automated_lag_cds.append(np.nan)\n",
    "        adf_automated_lag_bond.append(np.nan)        \n",
    "        stat_test_joint.append(\"Value_Error\")\n",
    "        \n",
    "        stationarity_test_res_cds.append(\"_VE\")\n",
    "        stationarity_test_res_bond.append(\"_VE\")\n",
    "        stationarity_test_res_vix.append(\"_VE\")        \n",
    "        \n",
    "        stationarity_ts_cds.append(np.nan)\n",
    "        stationarity_ts_bond.append(np.nan)\n",
    "        stationarity_ts_vix.append(np.nan)\n",
    "        \n",
    "        stationarity_pvalue_cds.append(np.nan)\n",
    "        stationarity_pvalue_bond.append(np.nan)\n",
    "        stationarity_pvalue_vix.append(np.nan) \n",
    "        \n",
    "        value_errors += 1\n",
    "        continue  \n",
    "        \n",
    "#this section combines the test-statistic itself with the appropriate (*, **, ***) into one cell for the final DF\n",
    "cds_sig = [\"{}{}\".format(stationarity_ts_cds, stationarity_test_res_cds) for stationarity_ts_cds, stationarity_test_res_cds in zip(stationarity_ts_cds, stationarity_test_res_cds)]\n",
    "bond_sig = [\"{}{}\".format(stationarity_ts_bond, stationarity_test_res_bond) for stationarity_ts_bond, stationarity_test_res_bond in zip(stationarity_ts_bond, stationarity_test_res_bond)]  \n",
    "vix_sig = [\"{}{}\".format(stationarity_ts_vix, stationarity_test_res_vix) for stationarity_ts_vix, stationarity_test_res_vix in zip(stationarity_ts_vix, stationarity_test_res_vix)]        \n",
    "\n",
    "#the final DF constructor; the .T is to transpose to a more visually-friendly vertically orientated DF\n",
    "df_stat_cdsbond_results = pd.DataFrame(data=(gvkey_list, sector_list, \n",
    "                                             cds_sig, adf_automated_lag_cds, stationarity_pvalue_cds,\n",
    "                                             bond_sig, adf_automated_lag_bond, stationarity_pvalue_bond,\n",
    "                                             vix_sig, stationarity_pvalue_vix,\n",
    "                                             stat_test_joint, optimal_lag_list,\n",
    "                                            first_date_obs, last_date_obs, time_horizon)).T\n",
    "\n",
    "#dont think the boolean is needed? can read col names fine? \n",
    "\n",
    "#rename the columns for better readability\n",
    "df_stat_cdsbond_results.columns = ['gvkey', 'sector', \n",
    "                                   'CDS', 'CDS_ADF_LAGS','CDS_pval', \n",
    "                                   'Bond', 'BOND_ADF_LAGS','BOND_pval',\n",
    "                                   'VIX', 'VIX_pval',\n",
    "                                   'Joint_Test_Outcome', 'bic_lag',\n",
    "                                  'date_start','date_end','length_days'] \n",
    "\n",
    "#change to tabulate? \n",
    "print('\\n', \"--\"*25, '\\n', \" Linear Algebra Errors #\", linalg_errors, '\\n', \" Value Errors #\", value_errors, '\\n', \" Total Errors #:\", \n",
    "     (linalg_errors + value_errors), '\\n', \"--\"*25)"
   ]
  },
  {
   "cell_type": "code",
   "execution_count": null,
   "metadata": {},
   "outputs": [],
   "source": []
  },
  {
   "cell_type": "code",
   "execution_count": null,
   "metadata": {},
   "outputs": [],
   "source": []
  },
  {
   "cell_type": "code",
   "execution_count": null,
   "metadata": {},
   "outputs": [],
   "source": []
  },
  {
   "cell_type": "markdown",
   "metadata": {},
   "source": [
    "## ORIGINAL DFGLS LOOP \n",
    "* Cut: 05.02.2021\n"
   ]
  },
  {
   "cell_type": "code",
   "execution_count": null,
   "metadata": {},
   "outputs": [],
   "source": [
    "## THE ADF CRITICAL VALUES for 1%, 5%, 10%: (NOTE: identical if trend == 'c' in the test specification)\n",
    "one_percent_adf_cv = -3.43472 \n",
    "five_percent_adf_cv = -2.8634\n",
    "ten_percent_adf_cv = -2.5677\n",
    "\n",
    "## Else, if trend is set to \"ct\":\n",
    "one_percent_dfgls_cv = -2.58\n",
    "five_percent_dfgls_cv = -1.96\n",
    "ten_percent_dfgls_cv = -1.64"
   ]
  },
  {
   "cell_type": "code",
   "execution_count": null,
   "metadata": {},
   "outputs": [],
   "source": []
  },
  {
   "cell_type": "code",
   "execution_count": null,
   "metadata": {},
   "outputs": [],
   "source": [
    "#initialise lists to append data to from each GVKEY's loop\n",
    "gvkey_list = []                       \n",
    "sector_list = []    \n",
    "var_model_optimal_lag = []\n",
    "\n",
    "#optimal lag lengths for the CDS and BOND series under the different DFGLS specifications \n",
    "dfgls_lag_cds_trend_c = []\n",
    "dfgls_lag_cds_trend_ct = []\n",
    "dfgls_lag_bond_trend_c = []\n",
    "dfgls_lag_bond_trend_ct = []\n",
    "\n",
    "#holds the series' test statistics (CDS, Bond) for the two trend specifications (c and ct) + Pvalues List\n",
    "dfgls_cds_trend_c = []; dfgls_cds_trend_c_pval = []     \n",
    "dfgls_cds_trend_ct = []; dfgls_cds_trend_ct_pval = []    \n",
    "dfgls_bond_trend_c = []; dfgls_bond_trend_c_pval = []      \n",
    "dfgls_bond_trend_ct = []; dfgls_bond_trend_ct_pval = []        \n",
    "\n",
    "#will hold the supplementary list that will merge the test statistic with it's significance level\n",
    "#E.G. the significance level (*, **, ***) for levels 10%, 5%, 1% respectively; this is for the latex publication tables\n",
    "test_res_cds_trend_c = []        \n",
    "test_res_cds_trend_ct = []   \n",
    "test_res_bond_trend_c = []\n",
    "test_res_bond_trend_ct = []\n",
    "\n",
    "#lists to hold the outcome of each specification for the unit-root tests (CDS / BONDS)\n",
    "stat_test_joint_trend_c = []                        \n",
    "stat_test_joint_trend_ct = []\n",
    "problematic_gvkey = []                              #seperately log GVKEYs which encounter errors\n",
    "linalg_errors = 0; value_errors = 0                 #simple counters for logging the number of errors occured, by group\n",
    "\n",
    "\n",
    "#create loop to test for stationarity in each GVKEY's data group \n",
    "for i, val in enumerate(sorted_alldata_df_final_adf_results.groupby('gvkey')):\n",
    "    gvkey = val[0]\n",
    "    data = val[1]                        #assign the remainder of the data to be callable from data.(variable)\n",
    "    gvkey_list.append(gvkey)             #append the GVKEY to a list, which keeps the data stored under the appropriate key\n",
    "    sector_string = data.sector\n",
    "    sector_list.append(sector_string.iloc[0])      #append the respective sector for that GVKEY\n",
    "    \n",
    "    #define the appropriate series for the ADF test: \n",
    "    cds = data.market_cds_spread         \n",
    "    pecds = data.pecds\n",
    "    \n",
    "    #the VAR model package requires the data be structured in a particular way; np.column stack is the fastest method\n",
    "    data = np.column_stack((cds, pecds)) \n",
    "    \n",
    "    #the VAR model construction is necessary for computing the BIC\n",
    "    model = smt.VAR(data)  \n",
    "\n",
    "    #compute the optimised BIC value from [model] which holds the vector autoregression model per GVKEY\n",
    "    try:\n",
    "        #for daily data, a maximum lag length is imposed (5 trading days, roughly equivalent to one trading week)\n",
    "        bic_selected_lag = model.select_order(maxlags=10).bic \n",
    "        var_model_optimal_lag.append(bic_selected_lag)                  #store the optimised BIC result per GVKEY\n",
    "        \n",
    "        #DFGLS TEST: \n",
    "        #trend == c (include a constant); critical values are identical to regular ADF test\n",
    "        test_dfgls_cds_trend_c = DFGLS(cds, trend='c', max_lags=10, method='BIC')  \n",
    "        test_dfgls_bond_trend_c = DFGLS(pecds, trend='c', max_lags=10, method='BIC')\n",
    "        \n",
    "        #store the test statistic & p-value for each instrument's ADF test result, for each GVKEY (rounded to 4 decimals)\n",
    "        dfgls_cds_trend_c.append(np.round(test_dfgls_cds_trend_c.stat,4))    \n",
    "        dfgls_bond_trend_c.append(np.round(test_dfgls_bond_trend_c.stat,4))  \n",
    "        \n",
    "        #store lag lengths for both CDS and Bond under \"C\" trend specification: \n",
    "        dfgls_lag_cds_trend_c.append(test_dfgls_cds_trend_c.lags)\n",
    "        dfgls_lag_bond_trend_c.append(test_dfgls_bond_trend_c.lags)\n",
    "\n",
    "        #append p-vals\n",
    "        dfgls_cds_trend_c_pval.append(np.round(test_dfgls_cds_trend_c.pvalue,4))    \n",
    "        dfgls_bond_trend_c_pval.append(np.round(test_dfgls_bond_trend_c.pvalue,4))\n",
    "\n",
    "        #this part reads the test stat per GVKEY / instrument and assigns the appropriate (*) per its significance level\n",
    "        #E.G. > 99% significance is commonly denoted as [test_statistic]*** in publication regression tables\n",
    "        \n",
    "        #CDS DFGLS_trend_c LATEX TABLE CONSTRUCTION\n",
    "        if test_dfgls_cds_trend_c.stat < one_percent_adf_cv:\n",
    "            test_res_cds_trend_c.append(\"***\")   \n",
    "        elif test_dfgls_cds_trend_c.stat < five_percent_adf_cv:\n",
    "            test_res_cds_trend_c.append(\"**\")    ## The 1% & 5% significance would reject H0\n",
    "        elif test_dfgls_cds_trend_c.stat < ten_percent_adf_cv:\n",
    "            test_res_cds_trend_c.append(\"*\")     ## The 10% and no level would fail to reject H0\n",
    "        else: \n",
    "            test_res_cds_trend_c.append(\" \")  \n",
    "\n",
    "        #BOND DFGLS_trend_c LATEX TABLE CONSTRUCTION\n",
    "        if test_dfgls_bond_trend_c.stat < one_percent_adf_cv:\n",
    "            test_res_bond_trend_c.append(\"***\")\n",
    "        elif test_dfgls_bond_trend_c.stat < five_percent_adf_cv:\n",
    "            test_res_bond_trend_c.append(\"**\")   ## The 1% & 5% significance would reject H0\n",
    "        elif test_dfgls_bond_trend_c.stat < ten_percent_adf_cv:\n",
    "            test_res_bond_trend_c.append(\"*\")    ## The 10% and no level would fail to reject H0\n",
    "        else: \n",
    "            test_res_bond_trend_c.append(\" \")\n",
    "                         \n",
    "        \n",
    "        #ensure that both series are integrated of the same order: a jointly unit-root system is required for VECM models\n",
    "        if (test_dfgls_bond_trend_c.stat > five_percent_adf_cv and test_dfgls_cds_trend_c.stat > five_percent_adf_cv):  \n",
    "            #this is > as to \"not reject\" the H0 is unit root; while reject the null would imply a stationary series\n",
    "            stat_test_joint_trend_c.append(\"BOND/CDS Both Have Unit Root\")\n",
    "            \n",
    "            #note: even if one series has a unit-root, it is still infeasible to include in the VECM model \n",
    "        elif (test_dfgls_bond_trend_c.stat > five_percent_adf_cv and test_dfgls_cds_trend_c.stat < five_percent_adf_cv):\n",
    "            stat_test_joint_trend_c.append(\"BOND ONLY HAS UR\")\n",
    "        elif (test_dfgls_bond_trend_c.stat < five_percent_adf_cv and test_dfgls_cds_trend_c.stat > five_percent_adf_cv):\n",
    "            stat_test_joint_trend_c.append(\"CDS ONLY HAS UR\")            \n",
    "        else: \n",
    "            stat_test_joint_trend_c.append(\"Cannot Reject H0\")\n",
    "            \n",
    "            \n",
    "        ### RUN DFGLS TEST WITH 2nd SPECIFICATION:     \n",
    "        #DFGLS TEST: trend == 'ct'   - trend = constant + linear time trend (requires different critical values)\n",
    "        test_dfgls_cds_trend_ct = DFGLS(cds, trend='ct', max_lags=10, method='BIC')\n",
    "        test_dfgls_bond_trend_ct = DFGLS(cds, trend='ct', max_lags=10, method='BIC')\n",
    "        \n",
    "        #append the rounded statistic to the list (this will be subsequentially transformed after the loop)\n",
    "        dfgls_cds_trend_ct.append(np.round(test_dfgls_cds_trend_ct.stat,4))  \n",
    "        dfgls_bond_trend_ct.append(np.round(test_dfgls_bond_trend_ct.stat,4))  \n",
    "        \n",
    "        #store lag lengths for both CDS and Bond under \"C\" trend specification: \n",
    "        dfgls_lag_cds_trend_ct.append(test_dfgls_cds_trend_ct.lags)\n",
    "        dfgls_lag_bond_trend_ct.append(test_dfgls_bond_trend_ct.lags)\n",
    "        \n",
    "        #append rounded p-value per test \n",
    "        dfgls_cds_trend_ct_pval.append(np.round(test_dfgls_cds_trend_ct.pvalue,4))  \n",
    "        dfgls_bond_trend_ct_pval.append(np.round(test_dfgls_bond_trend_ct.pvalue,4))            \n",
    "            \n",
    "        #CDS DFGLS_trend_ct LATEX TABLE CONSTRUCTION\n",
    "        if test_dfgls_cds_trend_ct.stat < one_percent_dfgls_cv:\n",
    "            test_res_cds_trend_ct.append(\"***\")   \n",
    "        elif test_dfgls_cds_trend_ct.stat < five_percent_dfgls_cv:\n",
    "            test_res_cds_trend_ct.append(\"**\")    ## The 1% & 5% significance would reject H0\n",
    "        elif test_dfgls_cds_trend_ct.stat < ten_percent_dfgls_cv:\n",
    "            test_res_cds_trend_ct.append(\"*\")     ## The 10% and no level would fail to reject H0\n",
    "        else: \n",
    "            test_res_cds_trend_ct.append(\" \")  \n",
    "\n",
    "        #BOND DFGLS_trend_ct LATEX TABLE CONSTRUCTION\n",
    "        if test_dfgls_bond_trend_ct.stat < one_percent_dfgls_cv:\n",
    "            test_res_bond_trend_ct.append(\"***\")\n",
    "        elif test_dfgls_bond_trend_ct.stat < five_percent_dfgls_cv:\n",
    "            test_res_bond_trend_ct.append(\"**\")   ## The 1% & 5% significance would reject H0\n",
    "        elif test_dfgls_bond_trend_ct.stat < ten_percent_dfgls_cv:\n",
    "            test_res_bond_trend_ct.append(\"*\")    ## The 10% and no level would fail to reject H0\n",
    "        else: \n",
    "            test_res_bond_trend_ct.append(\" \")\n",
    "            \n",
    "        #ensure that both series are integrated of the same order: a jointly unit-root system is required for VECM models\n",
    "        if (test_dfgls_bond_trend_ct.stat > five_percent_dfgls_cv and test_dfgls_cds_trend_ct.stat > five_percent_dfgls_cv):  \n",
    "            #this is > as to \"not reject\" the H0 is unit root; while reject the null would imply a stationary series\n",
    "            stat_test_joint_trend_ct.append(\"BOND/CDS Both Have Unit Root\")\n",
    "            \n",
    "            #note: even if one series has a unit-root, it is still infeasible to include in the VECM model \n",
    "        elif (test_dfgls_bond_trend_ct.stat > five_percent_dfgls_cv and test_dfgls_cds_trend_ct.stat < five_percent_dfgls_cv):\n",
    "            stat_test_joint_trend_ct.append(\"BOND ONLY HAS UR\")\n",
    "        elif (test_dfgls_bond_trend_ct.stat < five_percent_dfgls_cv and test_dfgls_cds_trend_ct.stat > five_percent_dfgls_cv):\n",
    "            stat_test_joint_trend_ct.append(\"CDS ONLY HAS UR\")            \n",
    "        else: \n",
    "            stat_test_joint_trend_ct.append(\"Cannot Reject H0\")            \n",
    "            \n",
    "            \n",
    "        \n",
    "    # A linear-algebra error could be caused by market factors which have created highly erratic basis behaviour\n",
    "    # This could be caused by a firm nearing bankruptcy where its basis deviates excessively far from par\n",
    "    #accordingly, the leading minor of the array is not positive definite is akin to taking the square root of a negative number\n",
    "    except np.linalg.LinAlgError as lae:\n",
    "        problematic_gvkey.append(gvkey)                                 #append problem GVKEY to seperate list\n",
    "        print(\"LinAlgError: Row: {}, Reason : {} \".format(i, lae), '\\n', \"GVKEY: ({})\".format(gvkey), \n",
    "              \"SECTOR: \", sector_string.iloc[0])\n",
    "      \n",
    "        #append items to maintain placement in main DF \\\\ \n",
    "        #where the errors occur, fill with NaN values instead\n",
    "        var_model_optimal_lag.append(np.nan)\n",
    "        stat_test_joint_trend_c.append(\"LinAlg_Error\")\n",
    "        stat_test_joint_trend_ct.append(\"LinAlg_Error\")\n",
    "        \n",
    "        test_res_cds_trend_c.append(\"_LAE\"); test_res_cds_trend_ct.append(\"_LAE\")\n",
    "        test_res_bond_trend_c.append(\"_LAE\"); test_res_bond_trend_ct.append(\"_LAE\")\n",
    "        \n",
    "        dfgls_cds_trend_c.append(np.nan); dfgls_cds_trend_ct.append(np.nan)\n",
    "        dfgls_bond_trend_c.append(np.nan); dfgls_bond_trend_ct.append(np.nan)\n",
    "        \n",
    "        dfgls_cds_trend_c_pval.append(np.nan); dfgls_cds_trend_ct_pval.append(np.nan)\n",
    "        dfgls_bond_trend_c_pval.append(np.nan); dfgls_bond_trend_ct_pval.append(np.nan)\n",
    "        \n",
    "        linalg_errors += 1\n",
    "        continue\n",
    "    \n",
    "    #some series may have encounted some errors with a constant, thus adding a constant to the equation is invalid\n",
    "    #this occurs due to poor liquidity in some markets, resulting in long periods of near-identical price quotes\n",
    "    except (ValueError) as ve:\n",
    "        problematic_gvkey.append(gvkey)\n",
    "        print(\"ValueError: Row: {}, Reason : {} \".format(i, ve), '\\n', \"GVKEY: ({})\".format(gvkey), \n",
    "              \"SECTOR:\", sector_string.iloc[0])\n",
    "        \n",
    "        #append items to maintain placement in main DF \\\\ \n",
    "        #where the errors occur, fill with NaN values instead\n",
    "        var_model_optimal_lag.append(np.nan)\n",
    "        stat_test_joint_trend_c.append(\"Value_Error\")\n",
    "        stat_test_joint_trend_ct.append(\"Value_Error\")\n",
    "        \n",
    "        test_res_cds_trend_c.append(\"_VE\"); test_res_cds_trend_ct.append(\"_VE\")\n",
    "        test_res_bond_trend_c.append(\"_VE\"); test_res_bond_trend_ct.append(\"_VE\")    \n",
    "        \n",
    "        dfgls_cds_trend_c.append(np.nan); dfgls_cds_trend_ct.append(np.nan)\n",
    "        dfgls_bond_trend_c.append(np.nan); dfgls_bond_trend_ct.append(np.nan)\n",
    "        \n",
    "        dfgls_cds_trend_c_pval.append(np.nan); dfgls_cds_trend_ct_pval.append(np.nan)\n",
    "        dfgls_bond_trend_c_pval.append(np.nan); dfgls_bond_trend_ct_pval.append(np.nan)\n",
    "        \n",
    "        value_errors += 1\n",
    "        continue  \n",
    "        \n",
    "#this section combines the test-statistic itself with the appropriate (*, **, ***) into one cell for the final DF\n",
    "cds_sig_trend_c = [\"{}{}\".format(dfgls_cds_trend_c, test_res_cds_trend_c) for dfgls_cds_trend_c, test_res_cds_trend_c in zip(dfgls_cds_trend_c, test_res_cds_trend_c)]\n",
    "bond_sig_trend_c = [\"{}{}\".format(dfgls_bond_trend_c, test_res_bond_trend_c) for dfgls_bond_trend_c, test_res_bond_trend_c in zip(dfgls_bond_trend_c, test_res_bond_trend_c)]  \n",
    "\n",
    "cds_sig_trend_ct = [\"{}{}\".format(dfgls_cds_trend_ct, test_res_cds_trend_ct) for dfgls_cds_trend_ct, test_res_cds_trend_ct in zip(dfgls_cds_trend_ct, test_res_cds_trend_ct)]\n",
    "bond_sig_trend_ct = [\"{}{}\".format(dfgls_bond_trend_ct, test_res_bond_trend_ct) for dfgls_bond_trend_ct, test_res_bond_trend_ct in zip(dfgls_bond_trend_ct, test_res_bond_trend_ct)]              \n",
    "              \n",
    "#the final DF constructor; the .T is to transpose to a more visually-friendly vertically orientated DF\n",
    "df_dfgls_cdsbond_results = pd.DataFrame(data=(gvkey_list, sector_list, \n",
    "                                             cds_sig_trend_c, dfgls_lag_cds_trend_c, dfgls_cds_trend_c_pval,\n",
    "                                             bond_sig_trend_c, dfgls_lag_bond_trend_c, dfgls_bond_trend_c_pval,\n",
    "                                             stat_test_joint_trend_c,\n",
    "                                             cds_sig_trend_ct, dfgls_lag_cds_trend_ct, dfgls_cds_trend_ct_pval,\n",
    "                                             bond_sig_trend_ct, dfgls_lag_bond_trend_ct, dfgls_bond_trend_ct_pval,\n",
    "                                             stat_test_joint_trend_ct,\n",
    "                                             var_model_optimal_lag)).T\n",
    "\n",
    "#rename the columns for better readability\n",
    "df_dfgls_cdsbond_results.columns = ['gvkey', 'sector', \n",
    "                                   'CDS_c', 'CDS_c_lags', 'CDS_c_pval', \n",
    "                                   'BOND_c', 'BOND_c_lags', 'BOND_c_pval',\n",
    "                                   'Joint_Outcome_c', \n",
    "                                   'CDS_ct','CDS_ct_lags', 'CDS_ct_pval',\n",
    "                                   'BOND_ct','BOND_ct_lags', 'BOND_ct_pval',\n",
    "                                   'Joint_Outcome_ct',\n",
    "                                   'var_model_lag'] \n",
    "\n",
    "## print a basic overview of error counts + unit-roots per test specification [optional]\n",
    "print('\\n', \"--\"*25, '\\n', \" Linear Algebra Errors #\", linalg_errors, '\\n', \" Value Errors #\", value_errors, '\\n', \" Total Errors #:\", \n",
    "     (linalg_errors + value_errors), '\\n')\n",
    "\n",
    "print(\"--\"*25, '\\n', \" DFGLS TEST: TREND = (C): TOTAL UNIT ROOTS #\", len(df_dfgls_cdsbond_results.loc[df_dfgls_cdsbond_results.Joint_Outcome_c==\"BOND/CDS Both Have Unit Root\"]), '\\n',\n",
    "\" DFGLS TEST: TREND = (CT): TOTAL UNIT ROOTS #\", len(df_dfgls_cdsbond_results.loc[df_dfgls_cdsbond_results.Joint_Outcome_ct==\"BOND/CDS Both Have Unit Root\"]))"
   ]
  },
  {
   "cell_type": "code",
   "execution_count": null,
   "metadata": {},
   "outputs": [],
   "source": []
  },
  {
   "cell_type": "code",
   "execution_count": null,
   "metadata": {},
   "outputs": [],
   "source": []
  },
  {
   "cell_type": "code",
   "execution_count": null,
   "metadata": {},
   "outputs": [],
   "source": []
  },
  {
   "cell_type": "code",
   "execution_count": null,
   "metadata": {},
   "outputs": [],
   "source": [
    "###collections.defaultdict(list) for VECM model orders\n",
    "\n",
    "#### tester ####"
   ]
  },
  {
   "cell_type": "code",
   "execution_count": null,
   "metadata": {},
   "outputs": [],
   "source": [
    "%%time\n",
    "\n",
    "## generate the dictionary and an error counter\n",
    "value_errors_model_order = 0\n",
    "vecm_model_orders_dict = collections.defaultdict(list)\n",
    "\n",
    "## create the loop in the groupby framework:\n",
    "for i, val in enumerate(sorted_alldata_df_final_adf_results.groupby('gvkey')):\n",
    "    gvkey = val[0]\n",
    "    data = val[1]  \n",
    "    vecm_model_orders_dict['gvkey'].append(gvkey)          \n",
    "\n",
    "    ## load the data to create the model for each GVKEY/LOOP\n",
    "    cds = data.market_cds_spread\n",
    "    pecds = data.pecds\n",
    "    gvkey_frame_model_order = np.column_stack((cds, pecds)) \n",
    "\n",
    "    #### Model Loop #### \n",
    "    try:\n",
    "        # generate model instance\n",
    "        vecm_model_order = vecm.select_order(gvkey_frame_model_order, maxlags=10)\n",
    "\n",
    "        # append lengths according to the different model selection criteria to dict\n",
    "        vecm_model_orders_dict['aic'].append(vecm_model_order.aic)\n",
    "        vecm_model_orders_dict['bic'].append(vecm_model_order.bic)\n",
    "        \n",
    "    except ValueError as ve:\n",
    "        vecm_model_orders_dict['aic'].append(np.nan)\n",
    "        vecm_model_orders_dict['bic'].append(np.nan)\n",
    "        value_errors_model_order += 1\n",
    "\n",
    "## create the DF from the dictionary        \n",
    "vecm_mod_orders_df_fromdict = pd.DataFrame.from_dict(vecm_model_orders_dict)\n",
    "\n",
    "## print some information about this loop and its outcomes:\n",
    "print(\" GVKEY ERRORS: {}\".format(value_errors_model_order),'\\n',\n",
    "     \"Successful Model Order Regressions: {}\".format(len(\n",
    "         sorted_alldata_df_final_adf_results.groupby('gvkey')['gvkey'].unique()) - value_errors_model_order), '\\n', \"--\"*25, '\\n')\n"
   ]
  },
  {
   "cell_type": "code",
   "execution_count": null,
   "metadata": {},
   "outputs": [],
   "source": []
  },
  {
   "cell_type": "code",
   "execution_count": null,
   "metadata": {},
   "outputs": [],
   "source": []
  },
  {
   "cell_type": "code",
   "execution_count": null,
   "metadata": {},
   "outputs": [],
   "source": []
  },
  {
   "cell_type": "code",
   "execution_count": null,
   "metadata": {},
   "outputs": [],
   "source": []
  },
  {
   "cell_type": "markdown",
   "metadata": {},
   "source": [
    "## ZIVOT-ANDREWS BREAKPOINT SPLIT VECM MODEL + PRICE DISCOVERY MEASURES\n",
    "* Combined loop version (currently broken) "
   ]
  },
  {
   "cell_type": "code",
   "execution_count": null,
   "metadata": {},
   "outputs": [],
   "source": [
    "#### issue is that the GVKEY is not being repeated for the later elements! \n",
    "\n",
    "#### in dict method, maybe double append the GVKEYS or split into 2? \n",
    "\n",
    "## add DFGLS lags as a column array [X, Y] as in Guidolin's paper: \n",
    "## inspect the large amount of \"index errors\" -- could be code problem or coint_rank ==0?"
   ]
  },
  {
   "cell_type": "code",
   "execution_count": null,
   "metadata": {},
   "outputs": [],
   "source": []
  },
  {
   "cell_type": "code",
   "execution_count": null,
   "metadata": {},
   "outputs": [],
   "source": [
    "%%time\n",
    "## GENERAL ITEMS: GVKEY / SECTOR / NUMBER OF OBSERVATIONS PER GVKEY\n",
    "gvkey_list = []                       \n",
    "sector_list = [] \n",
    "before_nobs = []\n",
    "after_nobs = []\n",
    "\n",
    "#### REGRESSION ITEMS ####\n",
    "## Before Lists items:\n",
    "dfgls_joint_outcome_before = []\n",
    "coint_rank_before_list = []\n",
    "coint_teststat_before = []\n",
    "dfgls_lags_before = []\n",
    "gvkey_data_before = pd.DataFrame()  \n",
    "vecm_lags_before = []\n",
    "vecm_alpha_1_before = []; vecm_alpha_2_before = []\n",
    "vecm_a1_before_signif = []; vecm_a2_before_signif = []\n",
    "\n",
    "## Price Discovery Items (BEFORE): \n",
    "gg_before = []\n",
    "has_lower_before = []\n",
    "has_upper_before = []\n",
    "has_mid_before = []\n",
    "\n",
    "## After Lists items: \n",
    "dfgls_joint_outcome_after = []\n",
    "coint_rank_after_list = []\n",
    "coint_teststat_after = []\n",
    "dfgls_lags_after = []\n",
    "gvkey_data_after = pd.DataFrame()\n",
    "## Coint Teststat: Not needed to conclude if coint_rank >= 1 but will give an indication of strength\n",
    "\n",
    "\n",
    "\n",
    "\n",
    "## Error Instance Lists:\n",
    "infeasible_test_errors = []\n",
    "infeasible_test_count_before = 0; infeasible_test_count_after = 0\n",
    "index_errors_before = 0\n",
    "\n",
    "## group the data by GVKEY for the loop regressions: \n",
    "for i, val in enumerate(sorted_alldata_df_final_adf_results.groupby('gvkey')):\n",
    "    gvkey = val[0]\n",
    "    data = val[1]  \n",
    "    gvkey_list.append(gvkey)             \n",
    "    sector_string = data.sector\n",
    "    sector_list.append(sector_string.iloc[0])\n",
    "    \n",
    "    try:\n",
    "        ##place this inside the try/except block as a non-existent breakdate means an error which occured then would re-occur now\n",
    "        za_breakdate = data.ZA_BREAKDATE.iloc[0]\n",
    "\n",
    "        ## define the variables in the before sub-sample & create the DF\n",
    "        data_gvkey_before = data[(data['trade_date'] < za_breakdate)]\n",
    "        cds_before = data_gvkey_before.market_cds_spread\n",
    "        pecds_before = data_gvkey_before.pecds\n",
    "        gvkey_data_before = pd.DataFrame(data=(cds_before, pecds_before)).T\n",
    "\n",
    "        #### For the DFGLS Test:\n",
    "        dfgls_cds_before = DFGLS(gvkey_data_before.market_cds_spread, trend='c', max_lags=10, method='BIC')\n",
    "        dfgls_bond_before = DFGLS(gvkey_data_before.pecds, trend='c', max_lags=10, method='BIC')\n",
    "\n",
    "        if (dfgls_cds_before.stat < dfgls_cds_before.critical_values['5%'] and \n",
    "            dfgls_bond_before.stat < dfgls_bond_before.critical_values['5%']):\n",
    "            dfgls_joint_outcome_before.append('jointly_stat')\n",
    "\n",
    "        elif (dfgls_cds_before.stat < dfgls_cds_before.critical_values['5%'] and     \n",
    "            dfgls_bond_before.stat > dfgls_bond_before.critical_values['5%']):\n",
    "            dfgls_joint_outcome_before.append('CDS_only_is_ur')\n",
    "\n",
    "        elif (dfgls_cds_before.stat > dfgls_cds_before.critical_values['5%'] and     \n",
    "            dfgls_bond_before.stat < dfgls_bond_before.critical_values['5%']):\n",
    "            dfgls_joint_outcome_before.append('BOND_only_is_ur')      \n",
    "\n",
    "        else:\n",
    "            dfgls_joint_outcome_before.append('jointly_unitroots')    \n",
    "\n",
    "\n",
    "        #### FOR THE COINTEGRATION TEST #### \n",
    "        ## ascertain number of optimal lags in the sub-sample: \n",
    "        model_lags_before = vecm.select_order(gvkey_data_before, maxlags=10)\n",
    "\n",
    "        ## ascertain the cointegration rank in the sub-sample\n",
    "        coint_rank_before = vecm.select_coint_rank(gvkey_data_before, det_order=0, k_ar_diff=model_lags_before.bic,\n",
    "                                                        method='trace', signif=0.05)\n",
    "        ## append cointegration items to list: Rank \n",
    "        coint_rank_before_list.append(coint_rank_before.rank)\n",
    "        coint_teststat_before.append(coint_rank_before.test_stats[0])\n",
    "\n",
    "\n",
    "        \n",
    "        ## run the VECM model on the sub-sample:\n",
    "        vecm_regression_model_before = vecm.VECM(gvkey_data_before, k_ar_diff=model_lags_before.bic,\n",
    "                                                coint_rank=coint_rank_before.rank, deterministic='co').fit()\n",
    "        #vecm_regression_model_before_fit = vecm_regression_model_before.fit()    \n",
    "        \n",
    "        #sigma_u_before = vecm_regression_model_before.sigma_u\n",
    "        \n",
    "        ## run the cholesky decomposition on the sigma matrix to fit the price discovery measures (GG/HAS)\n",
    "        cholesky_decomposition_before = np.linalg.cholesky(vecm_regression_model_before.sigma_u)\n",
    "        \n",
    "        ## append alpha values: \n",
    "        vecm_alpha_1_before.append(vecm_regression_model_before.alpha[0,0])\n",
    "        vecm_alpha_2_before.append(vecm_regression_model_before.alpha[1,0])\n",
    "        \n",
    "        ## fit the respective significance indicator to the alpha term based on its p-value (1%, 5%, 10% levels)\n",
    "        if vecm_regression_model_before.pvalues_alpha[0,0] <= 0.01:\n",
    "            vecm_a1_before_signif.append(\"***\")\n",
    "        elif vecm_regression_model_before.pvalues_alpha[0,0] <= 0.05:\n",
    "            vecm_a1_before_signif.append(\"**\")            \n",
    "        elif vecm_regression_model_before.pvalues_alpha[0,0] <= 0.10:\n",
    "            vecm_a1_before_signif.append(\"*\") \n",
    "        else:\n",
    "            vecm_a1_before_signif.append(\" \")\n",
    " \n",
    "        ## repeat for the 2nd alpha term in the before sub-sample VECM\n",
    "        if vecm_regression_model_before.pvalues_alpha[1,0] <= 0.01:\n",
    "            vecm_a2_before_signif.append(\"***\")\n",
    "        elif vecm_regression_model_before.pvalues_alpha[1,0] <= 0.05:\n",
    "            vecm_a2_before_signif.append(\"**\")            \n",
    "        elif vecm_regression_model_before.pvalues_alpha[1,0] <= 0.10:\n",
    "            vecm_a2_before_signif.append(\"*\") \n",
    "        else:\n",
    "            vecm_a2_before_signif.append(\" \")\n",
    "\n",
    "            \n",
    "        ### COMPUTE PRICE DISCOVERY METRICS: \n",
    "        gg_before.append(np.round(vecm_regression_model_before.alpha[1,0] / \n",
    "                                       (vecm_regression_model_before.alpha[1,0] - vecm_regression_model_before.alpha[0,0]), 2))\n",
    "        \n",
    "        # assign the relevant sigma terms from the cholesky decomp & alpha terms\n",
    "        sig_1 = cholesky_decomposition_before[0, 0]\n",
    "        sig_12 = cholesky_decomposition_before[1, 0]\n",
    "        sig_2 = cholesky_decomposition_before[1, 1]\n",
    "        x_2 = vecm_regression_model_before.alpha[0, 0]\n",
    "        x_1 = vecm_regression_model_before.alpha[1, 0]\n",
    "        \n",
    "        ## apply the HAS formula\n",
    "        HAS_1 = ( x_2**2 * (sig_1**2 - sig_12**2 / sig_2**2) )  / ( x_2**2 * sig_1**2 - 2*x_1*x_2*sig_12 + x_1**2 * sig_2**2 )\n",
    "        HAS_2 = ( (x_2 * sig_1 - x_1 * sig_12 / sig_1)**2 ) / ( x_2**2 * sig_1**2 - 2*x_1*x_2*sig_12 + x_1**2 * sig_2**2 )        \n",
    "        #HAS_1_before = np.round(HAS_1, 4)\n",
    "        #HAS_2_before = np.round(HAS_2, 4)\n",
    "        \n",
    "        has_lower_before.append(np.round(HAS_1, 4))\n",
    "        has_upper_before.append(np.round(HAS_2, 4))\n",
    "        has_mid_before.append(np.round((HAS_2 + HAS_1) / 2, 4))\n",
    "        \n",
    "        ## append model lags\n",
    "        ## Append Number of Observations Per sub-sample & DFGLS selected lag\n",
    "        before_nobs.append(dfgls_cds_before.nobs)   \n",
    "        \n",
    "        vecm_lags_before.append(model_lags_before.bic)\n",
    "        \n",
    "        dfgls_lags_before.append((dfgls_cds_before.lags, dfgls_bond_before.lags))\n",
    "        ## this would need to be added as [cds, bond] joint series\n",
    "\n",
    "        \n",
    "    except (InfeasibleTestException) as ite_before: \n",
    "        #print(ite_before.args)\n",
    "        infeasible_test_count_before += 1 \n",
    "        before_nobs.append(np.nan)\n",
    "        dfgls_joint_outcome_before.append(np.nan)\n",
    "        coint_rank_before_list.append(np.nan)\n",
    "        coint_teststat_before.append(np.nan)\n",
    "        vecm_lags_before.append(np.nan)\n",
    "        vecm_alpha_1_before.append(np.nan); vecm_alpha_2_before.append(np.nan)\n",
    "        vecm_a1_before_signif.append(np.nan); vecm_a2_before_signif.append(np.nan)\n",
    "        gg_before.append(np.nan)\n",
    "        has_lower_before.append(np.nan); has_upper_before.append(np.nan); has_mid_before.append(np.nan)     \n",
    "        \n",
    "    except (IndexError) as index_error_before: \n",
    "        #print(index_error_before.args)\n",
    "        print(\"IndexError: Row: {}, GVKEY: {}, Reason : {} \".format(i, gvkey, index_error_before))\n",
    "        index_errors_before += 1 \n",
    "        before_nobs.append(np.nan)\n",
    "        dfgls_joint_outcome_before.append(np.nan)\n",
    "        coint_rank_before_list.append(np.nan)\n",
    "        coint_teststat_before.append(np.nan)\n",
    "        vecm_lags_before.append(np.nan)\n",
    "        vecm_alpha_1_before.append(np.nan); vecm_alpha_2_before.append(np.nan)\n",
    "        vecm_a1_before_signif.append(np.nan); vecm_a2_before_signif.append(np.nan)\n",
    "        gg_before.append(np.nan)\n",
    "        has_lower_before.append(np.nan); has_upper_before.append(np.nan); has_mid_before.append(np.nan)           \n",
    "        \n",
    "        \n",
    "        \n",
    "    ##### ------------------------------------------######     \n",
    "    ##### REPEAT FOR SUB-SAMPLE AFTER THE BREAKDATE ######     \n",
    "    try:\n",
    "        za_breakdate = data.ZA_BREAKDATE.iloc[0]\n",
    "\n",
    "        data_gvkey_after = data[(data['trade_date'] > za_breakdate)]\n",
    "        cds_after = data_gvkey_after.market_cds_spread\n",
    "        pecds_after = data_gvkey_after.pecds\n",
    "        gvkey_data_after = pd.DataFrame(data=(cds_after, pecds_after)).T\n",
    "\n",
    "        #### For the DFGLS Test:\n",
    "        dfgls_cds_after = DFGLS(gvkey_data_after.market_cds_spread, trend='c', max_lags=10, method='BIC')\n",
    "        dfgls_bond_after = DFGLS(gvkey_data_after.pecds, trend='c', max_lags=10, method='BIC')\n",
    "\n",
    "        ## Assign an outcome to the DFGLS test based off the Test Statistic\n",
    "        ## NOTE: All instances where the TS is greater than critical value are accompanied by pvalues < 0.05 (5%)\n",
    "        if (dfgls_cds_after.stat < dfgls_cds_after.critical_values['5%'] and \n",
    "            dfgls_bond_after.stat < dfgls_bond_after.critical_values['5%']):\n",
    "            dfgls_joint_outcome_after.append('jointly_stat')\n",
    "\n",
    "        elif (dfgls_cds_after.stat < dfgls_cds_after.critical_values['5%'] and     \n",
    "            dfgls_bond_after.stat > dfgls_bond_after.critical_values['5%']):\n",
    "            dfgls_joint_outcome_after.append('CDS_only_is_ur')\n",
    "\n",
    "        elif (dfgls_cds_after.stat > dfgls_cds_after.critical_values['5%'] and     \n",
    "            dfgls_bond_after.stat < dfgls_bond_after.critical_values['5%']):\n",
    "            dfgls_joint_outcome_after.append('BOND_only_is_ur')      \n",
    "\n",
    "        else:\n",
    "            dfgls_joint_outcome_after.append('jointly_unitroots')    \n",
    "\n",
    "\n",
    "        #### FOR THE COINTEGRATION TEST #### \n",
    "        ## ascertain number of optimal lags in the sub-sample: \n",
    "        model_lags_after = vecm.select_order(gvkey_data_after, maxlags=10)\n",
    "\n",
    "        ## ascertain the cointegration rank in the sub-sample\n",
    "        coint_rank_after = vecm.select_coint_rank(gvkey_data_after, det_order=0, k_ar_diff=model_lags_after.bic,\n",
    "                                                        method='trace', signif=0.05)\n",
    "\n",
    "        ## append items to list: Rank \n",
    "        coint_rank_after_list.append(coint_rank_after.rank)\n",
    "        coint_teststat_after.append(coint_rank_after.test_stats[0])\n",
    "\n",
    "        ## Append Number of Observations Per sub-sample\n",
    "        after_nobs.append(dfgls_cds_after.nobs)        \n",
    "    \n",
    "    ## Only this block contains an instance of the \"ValueError\" relating to a constant (likely no CDS price volatility)\n",
    "    except (InfeasibleTestException, ValueError) as ite_after: \n",
    "        #print(ite_after.args)\n",
    "        infeasible_test_count_after += 1 \n",
    "        after_nobs.append(np.nan)\n",
    "        dfgls_joint_outcome_after.append(np.nan)\n",
    "        coint_rank_after_list.append(np.nan)\n",
    "        coint_teststat_after.append(np.nan)        \n",
    "        \n",
    "\n",
    "        \n",
    "## apply the level of significance to the p_values (*, **, ***) for 10%, 5%, 1% respectively    \n",
    "alpha1_sig_before = [\"{}{}\".format(vecm_alpha_1_before, vecm_a1_before_signif) for vecm_alpha_1_before, vecm_a1_before_signif in zip(vecm_alpha_1_before, vecm_a1_before_signif)]    \n",
    "alpha2_sig_before = [\"{}{}\".format(vecm_alpha_2_before, vecm_a2_before_signif) for vecm_alpha_2_before, vecm_a2_before_signif in zip(vecm_alpha_2_before, vecm_a2_before_signif)]            \n",
    "        \n",
    " \n",
    "\n",
    "## Construct the DF & clarify variable names            \n",
    "df_coint_dfgls_breakdate = pd.DataFrame(data=(gvkey_list, sector_list, before_nobs,\n",
    "                                              dfgls_joint_outcome_before, coint_rank_before_list, coint_teststat_before,\n",
    "                                             after_nobs, dfgls_joint_outcome_after, coint_rank_after_list,\n",
    "                                             coint_teststat_after)).T   \n",
    "\n",
    "df_coint_dfgls_breakdate.columns = ['gvkey','sector', 'before_nobs',\n",
    "                                   'DFGLS_before','coint_rank_before','coint_teststat_before',\n",
    "                                   'after_nobs','DFGLS_after','coint_rank_after',\n",
    "                                   'coint_teststat_after']\n",
    "\n",
    "\n",
    "df_za_split_vecm_before = pd.DataFrame(data=(gvkey_list, sector_list, before_nobs, dfgls_joint_outcome_before, \n",
    "                                             coint_rank_before_list, \n",
    "                                             dfgls_lags_before, vecm_lags_before,\n",
    "                                             vecm_a1_before_signif, vecm_a2_before_signif, \n",
    "                                            gg_before, has_lower_before, has_mid_before, has_upper_before)).T\n",
    "\n",
    "df_za_split_vecm_before.columns = ['gvkey','sector','before_nobs','dfgls_result','cointrank_before',\n",
    "                                   'dfgls_lags_b', 'vecm_lags_before',\n",
    "                                  'alpha_1_before','alpha_2_before',\n",
    "                                   'gg_before','has_low_b','has_mid_b','has_up_b']\n",
    "\n",
    "\n",
    "## print the number of errors encounted & the critical value of the test\n",
    "print(\"--\"*25, '\\n', \"Infeasible Before Tests: {}\".format(infeasible_test_count_before), '\\n', \n",
    "      \"Index Errors Before: {}\".format(index_errors_before), '\\n',\n",
    "      \"--\"*25, '\\n', \n",
    "      \"--\"*25, '\\n', \"Infeasible After Tests: {}\".format(infeasible_test_count_after), '\\n', \"--\"*25, '\\n', \n",
    "     \"Cointegration Critical Value 5%: {}\".format(np.round(dfgls_cds_before.critical_values['5%'],4)), '\\n')\n"
   ]
  },
  {
   "cell_type": "code",
   "execution_count": null,
   "metadata": {},
   "outputs": [],
   "source": []
  },
  {
   "cell_type": "code",
   "execution_count": null,
   "metadata": {},
   "outputs": [],
   "source": []
  },
  {
   "cell_type": "code",
   "execution_count": null,
   "metadata": {},
   "outputs": [],
   "source": []
  },
  {
   "cell_type": "markdown",
   "metadata": {},
   "source": [
    "### COMBINED COINTEGRATION (BEFORE AND AFTER) ZA BREAKDATE CODE"
   ]
  },
  {
   "cell_type": "code",
   "execution_count": null,
   "metadata": {},
   "outputs": [],
   "source": []
  },
  {
   "cell_type": "code",
   "execution_count": null,
   "metadata": {},
   "outputs": [],
   "source": []
  },
  {
   "cell_type": "code",
   "execution_count": null,
   "metadata": {},
   "outputs": [],
   "source": [
    "%%time\n",
    "## GENERAL ITEMS: GVKEY / SECTOR / NUMBER OF OBSERVATIONS PER GVKEY\n",
    "gvkey_list = []                       \n",
    "sector_list = [] \n",
    "before_nobs = []\n",
    "after_nobs = []\n",
    "\n",
    "#### DFGLS & COINTEGRATION TEST ITEMS:\n",
    "## Before Lists items:\n",
    "dfgls_joint_outcome_before = []\n",
    "coint_rank_before_list = []\n",
    "coint_teststat_before = []\n",
    "dfgls_lags_before = []\n",
    "## reset the frame when running multiple iterations with different parameters\n",
    "gvkey_data_before = pd.DataFrame()  \n",
    "\n",
    "## After Lists items: \n",
    "dfgls_joint_outcome_after = []\n",
    "coint_rank_after_list = []\n",
    "coint_teststat_after = []\n",
    "dfgls_lags_after = []\n",
    "gvkey_data_after = pd.DataFrame()\n",
    "## Coint Teststat: Not needed to conclude if coint_rank >= 1 but will give an indication of strength\n",
    "\n",
    "## Error Instance Lists:\n",
    "infeasible_test_errors = []\n",
    "infeasible_test_count_before = 0; infeasible_test_count_after = 0\n",
    "\n",
    "## group the data by GVKEY for the loop regressions: \n",
    "for i, val in enumerate(sorted_alldata_df_final_adf_results.groupby('gvkey')):\n",
    "    gvkey = val[0]\n",
    "    data = val[1]  \n",
    "    gvkey_list.append(gvkey)             \n",
    "    sector_string = data.sector\n",
    "    sector_list.append(sector_string.iloc[0])\n",
    "    \n",
    "    try:\n",
    "        ##place this inside the try/except block as a non-existent breakdate means an error which occured then would re-occur now\n",
    "        za_breakdate = data.ZA_BREAKDATE.iloc[0]\n",
    "\n",
    "        ## define the variables in the before sub-sample & create the DF\n",
    "        data_gvkey_before = data[(data['trade_date'] < za_breakdate)]\n",
    "        cds_before = data_gvkey_before.market_cds_spread\n",
    "        pecds_before = data_gvkey_before.pecds\n",
    "        gvkey_data_before = pd.DataFrame(data=(cds_before, pecds_before)).T\n",
    "\n",
    "        #### For the DFGLS Test:\n",
    "        dfgls_cds_before = DFGLS(gvkey_data_before.market_cds_spread, trend='c', max_lags=10, method='BIC')\n",
    "        dfgls_bond_before = DFGLS(gvkey_data_before.pecds, trend='c', max_lags=10, method='BIC')\n",
    "\n",
    "        if (dfgls_cds_before.stat < dfgls_cds_before.critical_values['5%'] and \n",
    "            dfgls_bond_before.stat < dfgls_bond_before.critical_values['5%']):\n",
    "            dfgls_joint_outcome_before.append('jointly_stat')\n",
    "\n",
    "        elif (dfgls_cds_before.stat < dfgls_cds_before.critical_values['5%'] and     \n",
    "            dfgls_bond_before.stat > dfgls_bond_before.critical_values['5%']):\n",
    "            dfgls_joint_outcome_before.append('CDS_only_is_ur')\n",
    "\n",
    "        elif (dfgls_cds_before.stat > dfgls_cds_before.critical_values['5%'] and     \n",
    "            dfgls_bond_before.stat < dfgls_bond_before.critical_values['5%']):\n",
    "            dfgls_joint_outcome_before.append('BOND_only_is_ur')      \n",
    "\n",
    "        else:\n",
    "            dfgls_joint_outcome_before.append('jointly_unitroots')    \n",
    "\n",
    "\n",
    "        #### FOR THE COINTEGRATION TEST #### \n",
    "        ## ascertain number of optimal lags in the sub-sample: \n",
    "        model_lags_before = vecm.select_order(gvkey_data_before, maxlags=10)\n",
    "\n",
    "        ## ascertain the cointegration rank in the sub-sample\n",
    "        coint_rank_before = vecm.select_coint_rank(gvkey_data_before, det_order=0, k_ar_diff=model_lags_before.bic,\n",
    "                                                        method='trace', signif=0.05)\n",
    "\n",
    "        ## append items to list: Rank \n",
    "        coint_rank_before_list.append(coint_rank_before.rank)\n",
    "        coint_teststat_before.append(coint_rank_before.test_stats[0])\n",
    "\n",
    "        ## Append Number of Observations Per sub-sample & DFGLS selected lag\n",
    "        before_nobs.append(dfgls_cds_before.nobs)        \n",
    "        dfgls_lags_before.append((dfgls_cds_before.lags, dfgls_bond_before.lags))\n",
    "        \n",
    "    except (InfeasibleTestException) as ite_before: \n",
    "        #print(ite_before.args)\n",
    "        infeasible_test_count_before += 1 \n",
    "        before_nobs.append(np.nan)\n",
    "        dfgls_joint_outcome_before.append(np.nan)\n",
    "        coint_rank_before_list.append(np.nan)\n",
    "        coint_teststat_before.append(np.nan)\n",
    "        \n",
    "\n",
    "    ##### ------------------------------------------######     \n",
    "    ##### REPEAT FOR SUB-SAMPLE AFTER THE BREAKDATE ######     \n",
    "    try:\n",
    "        za_breakdate = data.ZA_BREAKDATE.iloc[0]\n",
    "\n",
    "        data_gvkey_after = data[(data['trade_date'] > za_breakdate)]\n",
    "        cds_after = data_gvkey_after.market_cds_spread\n",
    "        pecds_after = data_gvkey_after.pecds\n",
    "        gvkey_data_after = pd.DataFrame(data=(cds_after, pecds_after)).T\n",
    "\n",
    "        #### For the DFGLS Test:\n",
    "        dfgls_cds_after = DFGLS(gvkey_data_after.market_cds_spread, trend='c', max_lags=10, method='BIC')\n",
    "        dfgls_bond_after = DFGLS(gvkey_data_after.pecds, trend='c', max_lags=10, method='BIC')\n",
    "\n",
    "        ## Assign an outcome to the DFGLS test based off the Test Statistic\n",
    "        ## NOTE: All instances where the TS is greater than critical value are accompanied by pvalues < 0.05 (5%)\n",
    "        if (dfgls_cds_after.stat < dfgls_cds_after.critical_values['5%'] and \n",
    "            dfgls_bond_after.stat < dfgls_bond_after.critical_values['5%']):\n",
    "            dfgls_joint_outcome_after.append('jointly_stat')\n",
    "\n",
    "        elif (dfgls_cds_after.stat < dfgls_cds_after.critical_values['5%'] and     \n",
    "            dfgls_bond_after.stat > dfgls_bond_after.critical_values['5%']):\n",
    "            dfgls_joint_outcome_after.append('CDS_only_is_ur')\n",
    "\n",
    "        elif (dfgls_cds_after.stat > dfgls_cds_after.critical_values['5%'] and     \n",
    "            dfgls_bond_after.stat < dfgls_bond_after.critical_values['5%']):\n",
    "            dfgls_joint_outcome_after.append('BOND_only_is_ur')      \n",
    "\n",
    "        else:\n",
    "            dfgls_joint_outcome_after.append('jointly_unitroots')    \n",
    "\n",
    "\n",
    "        #### FOR THE COINTEGRATION TEST #### \n",
    "        ## ascertain number of optimal lags in the sub-sample: \n",
    "        model_lags_after = vecm.select_order(gvkey_data_after, maxlags=10)\n",
    "\n",
    "        ## ascertain the cointegration rank in the sub-sample\n",
    "        coint_rank_after = vecm.select_coint_rank(gvkey_data_after, det_order=0, k_ar_diff=model_lags_after.bic,\n",
    "                                                        method='trace', signif=0.05)\n",
    "\n",
    "        ## append items to list: Rank \n",
    "        coint_rank_after_list.append(coint_rank_after.rank)\n",
    "        coint_teststat_after.append(coint_rank_after.test_stats[0])\n",
    "\n",
    "        ## Append Number of Observations Per sub-sample\n",
    "        after_nobs.append(dfgls_cds_after.nobs)        \n",
    "    \n",
    "    ## Only this block contains an instance of the \"ValueError\" relating to a constant (likely no CDS price volatility)\n",
    "    except (InfeasibleTestException, ValueError) as ite_after: \n",
    "        #print(ite_after.args)\n",
    "        infeasible_test_count_after += 1 \n",
    "        after_nobs.append(np.nan)\n",
    "        dfgls_joint_outcome_after.append(np.nan)\n",
    "        coint_rank_after_list.append(np.nan)\n",
    "        coint_teststat_after.append(np.nan)        \n",
    "        \n",
    "        \n",
    "            \n",
    "## Construct the DF & clarify variable names            \n",
    "df_coint_dfgls_breakdate = pd.DataFrame(data=(gvkey_list, sector_list, before_nobs,\n",
    "                                              dfgls_joint_outcome_before, coint_rank_before_list, coint_teststat_before,\n",
    "                                             after_nobs, dfgls_joint_outcome_after, coint_rank_after_list,\n",
    "                                             coint_teststat_after)).T   \n",
    "\n",
    "df_coint_dfgls_breakdate.columns = ['gvkey','sector', 'before_nobs',\n",
    "                                   'DFGLS_before','coint_rank_before','coint_teststat_before',\n",
    "                                   'after_nobs','DFGLS_after','coint_rank_after',\n",
    "                                   'coint_teststat_after']\n",
    "\n",
    "\n",
    "## print the number of errors encounted & the critical value of the test\n",
    "print(\"--\"*25, '\\n', \"Infeasible Before Tests: {}\".format(infeasible_test_count_before), '\\n', \"--\"*25, '\\n', \n",
    "      \"--\"*25, '\\n', \"Infeasible After Tests: {}\".format(infeasible_test_count_after), '\\n', \"--\"*25, '\\n', \n",
    "     \"Cointegration Critical Value 5%: {}\".format(np.round(dfgls_cds_before.critical_values['5%'],4)), '\\n')"
   ]
  },
  {
   "cell_type": "code",
   "execution_count": null,
   "metadata": {},
   "outputs": [],
   "source": []
  },
  {
   "cell_type": "code",
   "execution_count": null,
   "metadata": {},
   "outputs": [],
   "source": []
  },
  {
   "cell_type": "markdown",
   "metadata": {},
   "source": [
    "### Compare the outcomes of the two cointegration tests on the two sub-samples: \n",
    "* There is quite a distinctive difference in the number of cointegrating series when the series lengths are shortened; this would lend strength to the conclusion that the comparatively longer series in this paper might have resulted in an over-tendency to reject the presence of cointegration. "
   ]
  },
  {
   "cell_type": "code",
   "execution_count": null,
   "metadata": {},
   "outputs": [],
   "source": [
    "## number of cointegrating GVKEYS in the pre break-date subsample: \n",
    "\n",
    "print(len(df_coint_dfgls_breakdate.loc[(df_coint_dfgls_breakdate.coint_rank_before>=1) & (\n",
    "                            df_coint_dfgls_breakdate.DFGLS_before=='jointly_unitroots')]))\n",
    "    \n",
    "df_coint_dfgls_breakdate.loc[(df_coint_dfgls_breakdate.coint_rank_before>=1) & (\n",
    "                            df_coint_dfgls_breakdate.DFGLS_before=='jointly_unitroots')].head()\n",
    "\n",
    "\n",
    "## 72 sub-samples have coint_rank >= 1\n",
    "## 55 fit both coint_rank >= 1 and jointly unit-roots: \n",
    "\n",
    "\n",
    "\n",
    "## number of cointegrating GVKEYS in the post break-date subsample: \n",
    "\n",
    "print(len(df_coint_dfgls_breakdate.loc[(df_coint_dfgls_breakdate.coint_rank_after>=1) & (\n",
    "                            df_coint_dfgls_breakdate.DFGLS_after=='jointly_unitroots')]))\n",
    "\n",
    "df_coint_dfgls_breakdate.loc[(df_coint_dfgls_breakdate.coint_rank_after>=1) & (\n",
    "                            df_coint_dfgls_breakdate.DFGLS_after=='jointly_unitroots')].head()\n",
    "\n",
    "\n",
    "\n",
    "## number of firms which are uniquely cointegrated in the after BD sub-sample: (77)\n",
    "## Conversely,\n",
    "\n",
    "print(len(df_coint_dfgls_breakdate.loc[(df_coint_dfgls_breakdate.coint_rank_before==0) & (\n",
    "                            df_coint_dfgls_breakdate.coint_rank_after>=1)]))\n",
    "\n",
    "df_coint_dfgls_breakdate.loc[(df_coint_dfgls_breakdate.coint_rank_before==0) & (\n",
    "                            df_coint_dfgls_breakdate.coint_rank_after>=1)].head()\n",
    "\n",
    "\n",
    "\n",
    "## the number of firms which are uniquely cointegrated in the before sub-sample (and not in the after sub-sample) is (5):\n",
    "\n",
    "\n",
    "\n",
    "## And of course, comparing the number of firms which have cointegration in both sub-sample (25)\n",
    "## in addition, to being jointly unit-roots in both sub-samples is then: (16)\n",
    "## which matches the results of the main cointegration loop on the entire firm sample (in the cointegration section above)\n",
    "\n",
    "print(len(df_coint_dfgls_breakdate.loc[(df_coint_dfgls_breakdate.coint_rank_after>=1) & (\n",
    "                            df_coint_dfgls_breakdate.coint_rank_before>=1) & (\n",
    "df_coint_dfgls_breakdate.DFGLS_after=='jointly_unitroots') & (\n",
    "    df_coint_dfgls_breakdate.DFGLS_before=='jointly_unitroots')]))\n",
    "\n",
    "df_coint_dfgls_breakdate.loc[(df_coint_dfgls_breakdate.coint_rank_after>=1) & (\n",
    "                            df_coint_dfgls_breakdate.coint_rank_before>=1) & (\n",
    "df_coint_dfgls_breakdate.DFGLS_after=='jointly_unitroots') & (\n",
    "    df_coint_dfgls_breakdate.DFGLS_before=='jointly_unitroots')].head()"
   ]
  },
  {
   "cell_type": "code",
   "execution_count": null,
   "metadata": {},
   "outputs": [],
   "source": []
  },
  {
   "cell_type": "code",
   "execution_count": null,
   "metadata": {},
   "outputs": [],
   "source": []
  },
  {
   "cell_type": "code",
   "execution_count": null,
   "metadata": {},
   "outputs": [],
   "source": []
  },
  {
   "cell_type": "code",
   "execution_count": null,
   "metadata": {},
   "outputs": [],
   "source": []
  },
  {
   "cell_type": "code",
   "execution_count": null,
   "metadata": {},
   "outputs": [],
   "source": []
  },
  {
   "cell_type": "markdown",
   "metadata": {},
   "source": [
    "## tables construction - LATEX FOR VECM"
   ]
  },
  {
   "cell_type": "code",
   "execution_count": null,
   "metadata": {},
   "outputs": [],
   "source": [
    "\n",
    "\n",
    "vecm_result_table_sector[['gg_count','has_count']] = vecm_result_table_sector[['gg_count','has_count']].astype(str)\n",
    "\n",
    "\n",
    "\n",
    "cds_pd_sums = vecm_result_table_sector.gg_count.eq('1').groupby(vecm_result_table_sector.sector).sum()\n",
    "bond_pd_sums = vecm_result_table_sector.gg_count.eq('2').groupby(vecm_result_table_sector.sector).sum()\n",
    "equal_sums = vecm_result_table_sector.gg_count.eq('3').groupby(vecm_result_table_sector.sector).sum()\n",
    "cds_sums_has = vecm_result_table_sector.has_count.eq('1').groupby(vecm_result_table_sector.sector).sum()\n",
    "bond_sums_has = vecm_result_table_sector.has_count.eq('2').groupby(vecm_result_table_sector.sector).sum()\n",
    "equal_sums_has = vecm_result_table_sector.has_count.eq('3').groupby(vecm_result_table_sector.sector).sum()\n",
    "\n",
    "\n",
    "pd_frames = [cds_pd_sums, bond_pd_sums, equal_sums, cds_sums_has, bond_sums_has, equal_sums_has]\n",
    "\n",
    "\n",
    "pd_frames_cat = pd.concat([cds_pd_sums, bond_pd_sums, equal_sums, cds_sums_has, bond_sums_has, equal_sums_has], axis=1)\n",
    "\n",
    "\n",
    "pd_results_concat_df = pd.DataFrame(pd_frames_cat)\n",
    "\n",
    "\n",
    "\n",
    "pd_results_concat_df\n",
    "\n",
    "pd_results_concat_df['Total_Obs'] = pd_results_concat_df.take([0], axis=1) + pd_results_concat_df.take([1], axis=1) + pd_results_concat_df.take([2], axis=1)\n",
    "\n",
    "\n",
    "pd_results_concat_df.columns = [('CDS','GG'), ('BOND','GG'), ('EQUAL','GG'), ('CDS','HAS'), ('BOND','HAS'), ('EQUAL','HAS'),\n",
    "                               ('Total_Obs')]\n",
    "\n",
    "\n",
    "sector_agg_pd_results = pd_results_concat_df[[('CDS','GG'), ('CDS','HAS'), ('BOND','GG'), ('BOND','HAS'), ('EQUAL','GG'), ('EQUAL','HAS'),('Total_Obs')]]\n",
    "\n",
    "\n",
    "\n",
    "\n",
    "\n",
    "\n",
    "vecm_results_sector_outcomes_gg = vecm_result_table_sector.groupby('sector').agg({'gvkey':['size'],\n",
    "                                                                               'gg_list':['mean','median','std'],\n",
    "                                                                            })\n",
    "#vecm_results_sector_outcomes_gg\n",
    "\n",
    "vecm_results_sector_outcomes_has = vecm_result_table_sector.groupby('sector').agg({\n",
    "                                                                               'has_mid':['mean','median','std'],\n",
    "                                                                            })\n",
    "#vecm_results_sector_outcomes_has\n",
    "\n",
    "vecm_res_sector_gghas_concat = pd.concat([vecm_results_sector_outcomes_gg, vecm_results_sector_outcomes_has], axis=1)\n",
    "\n",
    "\n",
    "vecm_res_sector_gghas_concat"
   ]
  },
  {
   "cell_type": "code",
   "execution_count": null,
   "metadata": {},
   "outputs": [],
   "source": []
  },
  {
   "cell_type": "code",
   "execution_count": null,
   "metadata": {},
   "outputs": [],
   "source": [
    "vecm_result_table_sector[['gg_list','has_lower','has_mid','has_upper']] = vecm_result_table_sector[['gg_list','has_lower','has_mid','has_upper']].astype(float)\n",
    "\n",
    "vecm_result_table_sector[['gg_list','has_lower','has_mid','has_upper']] = np.round(vecm_result_table_sector[['gg_list','has_lower','has_mid','has_upper']], 2)\n",
    "\n",
    "\n",
    "\n",
    "single_series_vecm_results = vecm_result_table_sector[['gvkey','sector','speed_adj_eq1', 'speed_adj_eq2','has_lower',\n",
    "                                                      'has_mid','has_upper', 'gg_list','gg_pd','has_pd']]\n",
    "\n",
    "single_series_vecm_results[['speed_adj_eq1', 'speed_adj_eq2']] = np.round(single_series_vecm_results[['speed_adj_eq1', 'speed_adj_eq2']], 3)"
   ]
  },
  {
   "cell_type": "code",
   "execution_count": null,
   "metadata": {},
   "outputs": [],
   "source": []
  },
  {
   "cell_type": "code",
   "execution_count": null,
   "metadata": {},
   "outputs": [],
   "source": []
  },
  {
   "cell_type": "code",
   "execution_count": null,
   "metadata": {},
   "outputs": [],
   "source": []
  },
  {
   "cell_type": "code",
   "execution_count": null,
   "metadata": {},
   "outputs": [],
   "source": []
  },
  {
   "cell_type": "code",
   "execution_count": null,
   "metadata": {},
   "outputs": [],
   "source": []
  },
  {
   "cell_type": "code",
   "execution_count": null,
   "metadata": {},
   "outputs": [],
   "source": []
  },
  {
   "cell_type": "code",
   "execution_count": null,
   "metadata": {},
   "outputs": [],
   "source": []
  },
  {
   "cell_type": "markdown",
   "metadata": {},
   "source": [
    "## ROBUSTNESS TEST -- 4V VAR & GRANGER CAUSALITY TEST FRAMEWORK\n",
    "* Single GVKEY cuts "
   ]
  },
  {
   "cell_type": "code",
   "execution_count": 72,
   "metadata": {},
   "outputs": [
    {
     "name": "stderr",
     "output_type": "stream",
     "text": [
      "C:\\Users\\JasonSpano\\anaconda3\\lib\\site-packages\\ipykernel\\ipkernel.py:287: DeprecationWarning: `should_run_async` will not call `transform_cell` automatically in the future. Please pass the result to `transformed_cell` argument and any exception that happen during thetransform in `preprocessing_exc_tuple` in IPython 7.17 and above.\n",
      "  and should_run_async(code)\n",
      "C:\\Users\\JasonSpano\\anaconda3\\lib\\site-packages\\statsmodels\\tsa\\base\\tsa_model.py:578: ValueWarning: An unsupported index was provided and will be ignored when e.g. forecasting.\n",
      "  warnings.warn('An unsupported index was provided and will be'\n"
     ]
    }
   ],
   "source": [
    "gvkey_selection = 176404\n",
    "\n",
    "gvkey_frame = sorted_alldata_df_final_adf_results.loc[sorted_alldata_df_final_adf_results.gvkey==gvkey_selection]\n",
    "\n",
    "cds = gvkey_frame['market_cds_spread']\n",
    "pecds = gvkey_frame['pecds']\n",
    "cboe_vix = gvkey_frame['cboe_vix']\n",
    "price_close = gvkey_frame['price_close']\n",
    "\n",
    "if price_close.isna().any() == True:\n",
    "    price_close = price_close.fillna(method='ffill')  \n",
    "\n",
    "#var_model_df_4v = pd.DataFrame(data=(cds, pecds, vix, stock_close)).T\n",
    "\n",
    "#series = [cds, pecds, vix, price_close]\n",
    "\n",
    "#if np.allclose(cds, pecds, vix, price_close) == False:\n",
    "#    raise ValueError(\"Different Length Series\")\n",
    "\n",
    "dfgls_cds = DFGLS(cds, trend='c', max_lags=10, method='BIC')\n",
    "dfgls_pecds = DFGLS(pecds, trend='c', max_lags=10, method='BIC')\n",
    "dfgls_vix = DFGLS(cboe_vix, trend='c', max_lags=10, method='BIC')\n",
    "dfgls_price_close = DFGLS(price_close, trend='c', max_lags=10, method='BIC')\n",
    "\n",
    "if ((dfgls_cds.stat < dfgls_cds.critical_values['5%']) and \n",
    "    (dfgls_pecds.stat < dfgls_pecds.critical_values['5%']) and \n",
    "    (dfgls_vix.stat < dfgls_vix.critical_values['5%']) and \n",
    "    (dfgls_price_close.stat < dfgls_price_close.critical_values['5%'])) == True:\n",
    "    \n",
    "    ## initialise the DF in-levels\n",
    "    var_model_df_4v = pd.DataFrame(data=(cds, pecds, cboe_vix, price_close)).T\n",
    "    \n",
    "else:\n",
    "    cds = cds.pct_change().dropna()\n",
    "    pecds = pecds.pct_change().dropna()\n",
    "    cboe_vix = cboe_vix.pct_change().dropna()\n",
    "    price_close = price_close.pct_change().dropna()\n",
    "    \n",
    "    ## initialise the DF in (1st) differences\n",
    "    var_model_df_4v = pd.DataFrame(data=(cds, pecds, cboe_vix, price_close)).T\n",
    "    \n",
    "      \n",
    "\n",
    "#use a DF to preserve column labels/names -- easier to label the causality tests\n",
    "#var_model_df_4v = pd.DataFrame(data=(cds, pecds, vix, price_close)).T\n",
    "\n",
    "var_model_4_variables = smt.VAR(var_model_df_4v)\n",
    "\n",
    "\n",
    "### try if some sort of error: running a differenced version? ## \n",
    "#price_close = price_close.pct_change().dropna()\n",
    "#var_model_4v_differenced = pd.DataFrame(data=(cds[1:], pecds[1:], vix[1:], stock_close)).T\n",
    "\n",
    "max_lags_bic = var_model_4_variables.select_order(maxlags=10).bic\n",
    "\n",
    "if max_lags_bic ==0:\n",
    "    max_lags_bic =1\n",
    "\n",
    "#res_var_model_4v = var_model_4_variables.fit(maxlags=var_model_4_variables.select_order(maxlags=10).bic)\n",
    "res_var_model_4v = var_model_4_variables.fit(maxlags=max_lags_bic)"
   ]
  },
  {
   "cell_type": "code",
   "execution_count": 73,
   "metadata": {},
   "outputs": [
    {
     "name": "stderr",
     "output_type": "stream",
     "text": [
      "C:\\Users\\JasonSpano\\anaconda3\\lib\\site-packages\\ipykernel\\ipkernel.py:287: DeprecationWarning: `should_run_async` will not call `transform_cell` automatically in the future. Please pass the result to `transformed_cell` argument and any exception that happen during thetransform in `preprocessing_exc_tuple` in IPython 7.17 and above.\n",
      "  and should_run_async(code)\n"
     ]
    },
    {
     "data": {
      "text/html": [
       "<table class=\"simpletable\">\n",
       "<caption>Granger causality Wald-test. H_0: cboe_vix does not Granger-cause price_close. Conclusion: fail to reject H_0 at 5% significance level.</caption>\n",
       "<tr>\n",
       "  <th>Test statistic</th> <th>Critical value</th> <th>p-value</th> <th>df</th>\n",
       "</tr>\n",
       "<tr>\n",
       "      <td>0.1248</td>          <td>3.841</td>      <td>0.724</td>   <td>1</td>\n",
       "</tr>\n",
       "</table>"
      ],
      "text/plain": [
       "<class 'statsmodels.iolib.table.SimpleTable'>"
      ]
     },
     "execution_count": 73,
     "metadata": {},
     "output_type": "execute_result"
    }
   ],
   "source": [
    "res_var_model_4v.test_causality(causing=['cboe_vix'], \n",
    "                                  caused=['price_close'], kind='wald', signif=0.05).summary()"
   ]
  },
  {
   "cell_type": "code",
   "execution_count": 66,
   "metadata": {},
   "outputs": [
    {
     "data": {
      "text/html": [
       "<div>\n",
       "<style scoped>\n",
       "    .dataframe tbody tr th:only-of-type {\n",
       "        vertical-align: middle;\n",
       "    }\n",
       "\n",
       "    .dataframe tbody tr th {\n",
       "        vertical-align: top;\n",
       "    }\n",
       "\n",
       "    .dataframe thead th {\n",
       "        text-align: right;\n",
       "    }\n",
       "</style>\n",
       "<table border=\"1\" class=\"dataframe\">\n",
       "  <thead>\n",
       "    <tr style=\"text-align: right;\">\n",
       "      <th></th>\n",
       "      <th>market_cds_spread</th>\n",
       "      <th>pecds</th>\n",
       "      <th>cboe_vix</th>\n",
       "      <th>price_close</th>\n",
       "    </tr>\n",
       "  </thead>\n",
       "  <tbody>\n",
       "    <tr>\n",
       "      <th>458775</th>\n",
       "      <td>0.000225</td>\n",
       "      <td>0.001131</td>\n",
       "      <td>-0.018028</td>\n",
       "      <td>-0.009066</td>\n",
       "    </tr>\n",
       "    <tr>\n",
       "      <th>458776</th>\n",
       "      <td>0.000316</td>\n",
       "      <td>0.001077</td>\n",
       "      <td>0.041577</td>\n",
       "      <td>-0.009891</td>\n",
       "    </tr>\n",
       "    <tr>\n",
       "      <th>458777</th>\n",
       "      <td>0.000180</td>\n",
       "      <td>0.000668</td>\n",
       "      <td>0.093831</td>\n",
       "      <td>-0.003746</td>\n",
       "    </tr>\n",
       "    <tr>\n",
       "      <th>458778</th>\n",
       "      <td>0.000856</td>\n",
       "      <td>0.000522</td>\n",
       "      <td>-0.025592</td>\n",
       "      <td>0.016546</td>\n",
       "    </tr>\n",
       "    <tr>\n",
       "      <th>458779</th>\n",
       "      <td>0.000000</td>\n",
       "      <td>-0.001890</td>\n",
       "      <td>-0.067607</td>\n",
       "      <td>0.005672</td>\n",
       "    </tr>\n",
       "    <tr>\n",
       "      <th>...</th>\n",
       "      <td>...</td>\n",
       "      <td>...</td>\n",
       "      <td>...</td>\n",
       "      <td>...</td>\n",
       "    </tr>\n",
       "    <tr>\n",
       "      <th>460267</th>\n",
       "      <td>0.000000</td>\n",
       "      <td>0.000077</td>\n",
       "      <td>-0.011976</td>\n",
       "      <td>0.000108</td>\n",
       "    </tr>\n",
       "    <tr>\n",
       "      <th>460268</th>\n",
       "      <td>0.000000</td>\n",
       "      <td>-0.001642</td>\n",
       "      <td>0.117172</td>\n",
       "      <td>-0.013883</td>\n",
       "    </tr>\n",
       "    <tr>\n",
       "      <th>460269</th>\n",
       "      <td>0.000000</td>\n",
       "      <td>-0.000327</td>\n",
       "      <td>-0.093128</td>\n",
       "      <td>0.006439</td>\n",
       "    </tr>\n",
       "    <tr>\n",
       "      <th>460270</th>\n",
       "      <td>0.000000</td>\n",
       "      <td>-0.001471</td>\n",
       "      <td>0.140578</td>\n",
       "      <td>-0.014314</td>\n",
       "    </tr>\n",
       "    <tr>\n",
       "      <th>460271</th>\n",
       "      <td>0.000000</td>\n",
       "      <td>-0.000324</td>\n",
       "      <td>-0.022727</td>\n",
       "      <td>0.002310</td>\n",
       "    </tr>\n",
       "  </tbody>\n",
       "</table>\n",
       "<p>1497 rows × 4 columns</p>\n",
       "</div>"
      ],
      "text/plain": [
       "        market_cds_spread     pecds  cboe_vix  price_close\n",
       "458775           0.000225  0.001131 -0.018028    -0.009066\n",
       "458776           0.000316  0.001077  0.041577    -0.009891\n",
       "458777           0.000180  0.000668  0.093831    -0.003746\n",
       "458778           0.000856  0.000522 -0.025592     0.016546\n",
       "458779           0.000000 -0.001890 -0.067607     0.005672\n",
       "...                   ...       ...       ...          ...\n",
       "460267           0.000000  0.000077 -0.011976     0.000108\n",
       "460268           0.000000 -0.001642  0.117172    -0.013883\n",
       "460269           0.000000 -0.000327 -0.093128     0.006439\n",
       "460270           0.000000 -0.001471  0.140578    -0.014314\n",
       "460271           0.000000 -0.000324 -0.022727     0.002310\n",
       "\n",
       "[1497 rows x 4 columns]"
      ]
     },
     "execution_count": 66,
     "metadata": {},
     "output_type": "execute_result"
    }
   ],
   "source": [
    "var_model_df_4v"
   ]
  },
  {
   "cell_type": "code",
   "execution_count": 32,
   "metadata": {},
   "outputs": [
    {
     "name": "stderr",
     "output_type": "stream",
     "text": [
      "C:\\Users\\JasonSpano\\anaconda3\\lib\\site-packages\\ipykernel\\ipkernel.py:287: DeprecationWarning: `should_run_async` will not call `transform_cell` automatically in the future. Please pass the result to `transformed_cell` argument and any exception that happen during thetransform in `preprocessing_exc_tuple` in IPython 7.17 and above.\n",
      "  and should_run_async(code)\n",
      "C:\\Users\\JasonSpano\\anaconda3\\lib\\site-packages\\arch\\unitroot\\unitroot.py:931: RuntimeWarning: invalid value encountered in matmul\n",
      "  detrend_coef = pinv(delta_z) @ delta_y\n"
     ]
    },
    {
     "ename": "InfeasibleTestException",
     "evalue": "The maximum lag you are considering (10) results in an ADF regression with a\nsingular regressor matrix after including 0 lags, and so a specification test be\nrun. This may occur if your series have little variation and so is locally constant,\nor may occur if you are attempting to test a very short series. You can manually set\nmaximum lag length to consider smaller models.",
     "output_type": "error",
     "traceback": [
      "\u001b[1;31m---------------------------------------------------------------------------\u001b[0m",
      "\u001b[1;31mInfeasibleTestException\u001b[0m                   Traceback (most recent call last)",
      "\u001b[1;32m~\\anaconda3\\lib\\site-packages\\IPython\\core\\formatters.py\u001b[0m in \u001b[0;36m__call__\u001b[1;34m(self, obj)\u001b[0m\n\u001b[0;32m    700\u001b[0m                 \u001b[0mtype_pprinters\u001b[0m\u001b[1;33m=\u001b[0m\u001b[0mself\u001b[0m\u001b[1;33m.\u001b[0m\u001b[0mtype_printers\u001b[0m\u001b[1;33m,\u001b[0m\u001b[1;33m\u001b[0m\u001b[1;33m\u001b[0m\u001b[0m\n\u001b[0;32m    701\u001b[0m                 deferred_pprinters=self.deferred_printers)\n\u001b[1;32m--> 702\u001b[1;33m             \u001b[0mprinter\u001b[0m\u001b[1;33m.\u001b[0m\u001b[0mpretty\u001b[0m\u001b[1;33m(\u001b[0m\u001b[0mobj\u001b[0m\u001b[1;33m)\u001b[0m\u001b[1;33m\u001b[0m\u001b[1;33m\u001b[0m\u001b[0m\n\u001b[0m\u001b[0;32m    703\u001b[0m             \u001b[0mprinter\u001b[0m\u001b[1;33m.\u001b[0m\u001b[0mflush\u001b[0m\u001b[1;33m(\u001b[0m\u001b[1;33m)\u001b[0m\u001b[1;33m\u001b[0m\u001b[1;33m\u001b[0m\u001b[0m\n\u001b[0;32m    704\u001b[0m             \u001b[1;32mreturn\u001b[0m \u001b[0mstream\u001b[0m\u001b[1;33m.\u001b[0m\u001b[0mgetvalue\u001b[0m\u001b[1;33m(\u001b[0m\u001b[1;33m)\u001b[0m\u001b[1;33m\u001b[0m\u001b[1;33m\u001b[0m\u001b[0m\n",
      "\u001b[1;32m~\\anaconda3\\lib\\site-packages\\IPython\\lib\\pretty.py\u001b[0m in \u001b[0;36mpretty\u001b[1;34m(self, obj)\u001b[0m\n\u001b[0;32m    392\u001b[0m                         \u001b[1;32mif\u001b[0m \u001b[0mcls\u001b[0m \u001b[1;32mis\u001b[0m \u001b[1;32mnot\u001b[0m \u001b[0mobject\u001b[0m\u001b[0;31m \u001b[0m\u001b[0;31m\\\u001b[0m\u001b[1;33m\u001b[0m\u001b[1;33m\u001b[0m\u001b[0m\n\u001b[0;32m    393\u001b[0m                                 \u001b[1;32mand\u001b[0m \u001b[0mcallable\u001b[0m\u001b[1;33m(\u001b[0m\u001b[0mcls\u001b[0m\u001b[1;33m.\u001b[0m\u001b[0m__dict__\u001b[0m\u001b[1;33m.\u001b[0m\u001b[0mget\u001b[0m\u001b[1;33m(\u001b[0m\u001b[1;34m'__repr__'\u001b[0m\u001b[1;33m)\u001b[0m\u001b[1;33m)\u001b[0m\u001b[1;33m:\u001b[0m\u001b[1;33m\u001b[0m\u001b[1;33m\u001b[0m\u001b[0m\n\u001b[1;32m--> 394\u001b[1;33m                             \u001b[1;32mreturn\u001b[0m \u001b[0m_repr_pprint\u001b[0m\u001b[1;33m(\u001b[0m\u001b[0mobj\u001b[0m\u001b[1;33m,\u001b[0m \u001b[0mself\u001b[0m\u001b[1;33m,\u001b[0m \u001b[0mcycle\u001b[0m\u001b[1;33m)\u001b[0m\u001b[1;33m\u001b[0m\u001b[1;33m\u001b[0m\u001b[0m\n\u001b[0m\u001b[0;32m    395\u001b[0m \u001b[1;33m\u001b[0m\u001b[0m\n\u001b[0;32m    396\u001b[0m             \u001b[1;32mreturn\u001b[0m \u001b[0m_default_pprint\u001b[0m\u001b[1;33m(\u001b[0m\u001b[0mobj\u001b[0m\u001b[1;33m,\u001b[0m \u001b[0mself\u001b[0m\u001b[1;33m,\u001b[0m \u001b[0mcycle\u001b[0m\u001b[1;33m)\u001b[0m\u001b[1;33m\u001b[0m\u001b[1;33m\u001b[0m\u001b[0m\n",
      "\u001b[1;32m~\\anaconda3\\lib\\site-packages\\IPython\\lib\\pretty.py\u001b[0m in \u001b[0;36m_repr_pprint\u001b[1;34m(obj, p, cycle)\u001b[0m\n\u001b[0;32m    698\u001b[0m     \u001b[1;34m\"\"\"A pprint that just redirects to the normal repr function.\"\"\"\u001b[0m\u001b[1;33m\u001b[0m\u001b[1;33m\u001b[0m\u001b[0m\n\u001b[0;32m    699\u001b[0m     \u001b[1;31m# Find newlines and replace them with p.break_()\u001b[0m\u001b[1;33m\u001b[0m\u001b[1;33m\u001b[0m\u001b[1;33m\u001b[0m\u001b[0m\n\u001b[1;32m--> 700\u001b[1;33m     \u001b[0moutput\u001b[0m \u001b[1;33m=\u001b[0m \u001b[0mrepr\u001b[0m\u001b[1;33m(\u001b[0m\u001b[0mobj\u001b[0m\u001b[1;33m)\u001b[0m\u001b[1;33m\u001b[0m\u001b[1;33m\u001b[0m\u001b[0m\n\u001b[0m\u001b[0;32m    701\u001b[0m     \u001b[0mlines\u001b[0m \u001b[1;33m=\u001b[0m \u001b[0moutput\u001b[0m\u001b[1;33m.\u001b[0m\u001b[0msplitlines\u001b[0m\u001b[1;33m(\u001b[0m\u001b[1;33m)\u001b[0m\u001b[1;33m\u001b[0m\u001b[1;33m\u001b[0m\u001b[0m\n\u001b[0;32m    702\u001b[0m     \u001b[1;32mwith\u001b[0m \u001b[0mp\u001b[0m\u001b[1;33m.\u001b[0m\u001b[0mgroup\u001b[0m\u001b[1;33m(\u001b[0m\u001b[1;33m)\u001b[0m\u001b[1;33m:\u001b[0m\u001b[1;33m\u001b[0m\u001b[1;33m\u001b[0m\u001b[0m\n",
      "\u001b[1;32m~\\anaconda3\\lib\\site-packages\\arch\\unitroot\\unitroot.py\u001b[0m in \u001b[0;36m__repr__\u001b[1;34m(self)\u001b[0m\n\u001b[0;32m    482\u001b[0m \u001b[1;33m\u001b[0m\u001b[0m\n\u001b[0;32m    483\u001b[0m     \u001b[1;32mdef\u001b[0m \u001b[0m__repr__\u001b[0m\u001b[1;33m(\u001b[0m\u001b[0mself\u001b[0m\u001b[1;33m)\u001b[0m \u001b[1;33m->\u001b[0m \u001b[0mstr\u001b[0m\u001b[1;33m:\u001b[0m\u001b[1;33m\u001b[0m\u001b[1;33m\u001b[0m\u001b[0m\n\u001b[1;32m--> 484\u001b[1;33m         \u001b[1;32mreturn\u001b[0m \u001b[0mstr\u001b[0m\u001b[1;33m(\u001b[0m\u001b[0mtype\u001b[0m\u001b[1;33m(\u001b[0m\u001b[0mself\u001b[0m\u001b[1;33m)\u001b[0m\u001b[1;33m)\u001b[0m \u001b[1;33m+\u001b[0m \u001b[1;34m'\\n\"\"\"\\n'\u001b[0m \u001b[1;33m+\u001b[0m \u001b[0mself\u001b[0m\u001b[1;33m.\u001b[0m\u001b[0m__str__\u001b[0m\u001b[1;33m(\u001b[0m\u001b[1;33m)\u001b[0m \u001b[1;33m+\u001b[0m \u001b[1;34m'\\n\"\"\"'\u001b[0m\u001b[1;33m\u001b[0m\u001b[1;33m\u001b[0m\u001b[0m\n\u001b[0m\u001b[0;32m    485\u001b[0m \u001b[1;33m\u001b[0m\u001b[0m\n\u001b[0;32m    486\u001b[0m     \u001b[1;32mdef\u001b[0m \u001b[0m_repr_html_\u001b[0m\u001b[1;33m(\u001b[0m\u001b[0mself\u001b[0m\u001b[1;33m)\u001b[0m \u001b[1;33m->\u001b[0m \u001b[0mstr\u001b[0m\u001b[1;33m:\u001b[0m\u001b[1;33m\u001b[0m\u001b[1;33m\u001b[0m\u001b[0m\n",
      "\u001b[1;32m~\\anaconda3\\lib\\site-packages\\arch\\unitroot\\unitroot.py\u001b[0m in \u001b[0;36m__str__\u001b[1;34m(self)\u001b[0m\n\u001b[0;32m    479\u001b[0m \u001b[1;33m\u001b[0m\u001b[0m\n\u001b[0;32m    480\u001b[0m     \u001b[1;32mdef\u001b[0m \u001b[0m__str__\u001b[0m\u001b[1;33m(\u001b[0m\u001b[0mself\u001b[0m\u001b[1;33m)\u001b[0m \u001b[1;33m->\u001b[0m \u001b[0mstr\u001b[0m\u001b[1;33m:\u001b[0m\u001b[1;33m\u001b[0m\u001b[1;33m\u001b[0m\u001b[0m\n\u001b[1;32m--> 481\u001b[1;33m         \u001b[1;32mreturn\u001b[0m \u001b[0mself\u001b[0m\u001b[1;33m.\u001b[0m\u001b[0msummary\u001b[0m\u001b[1;33m(\u001b[0m\u001b[1;33m)\u001b[0m\u001b[1;33m.\u001b[0m\u001b[0m__str__\u001b[0m\u001b[1;33m(\u001b[0m\u001b[1;33m)\u001b[0m\u001b[1;33m\u001b[0m\u001b[1;33m\u001b[0m\u001b[0m\n\u001b[0m\u001b[0;32m    482\u001b[0m \u001b[1;33m\u001b[0m\u001b[0m\n\u001b[0;32m    483\u001b[0m     \u001b[1;32mdef\u001b[0m \u001b[0m__repr__\u001b[0m\u001b[1;33m(\u001b[0m\u001b[0mself\u001b[0m\u001b[1;33m)\u001b[0m \u001b[1;33m->\u001b[0m \u001b[0mstr\u001b[0m\u001b[1;33m:\u001b[0m\u001b[1;33m\u001b[0m\u001b[1;33m\u001b[0m\u001b[0m\n",
      "\u001b[1;32m~\\anaconda3\\lib\\site-packages\\arch\\unitroot\\unitroot.py\u001b[0m in \u001b[0;36msummary\u001b[1;34m(self)\u001b[0m\n\u001b[0;32m    559\u001b[0m         \u001b[1;34m\"\"\"Summary of test, containing statistic, p-value and critical values\"\"\"\u001b[0m\u001b[1;33m\u001b[0m\u001b[1;33m\u001b[0m\u001b[0m\n\u001b[0;32m    560\u001b[0m         table_data = [\n\u001b[1;32m--> 561\u001b[1;33m             \u001b[1;33m(\u001b[0m\u001b[1;34m\"Test Statistic\"\u001b[0m\u001b[1;33m,\u001b[0m \u001b[1;34m\"{0:0.3f}\"\u001b[0m\u001b[1;33m.\u001b[0m\u001b[0mformat\u001b[0m\u001b[1;33m(\u001b[0m\u001b[0mself\u001b[0m\u001b[1;33m.\u001b[0m\u001b[0mstat\u001b[0m\u001b[1;33m)\u001b[0m\u001b[1;33m)\u001b[0m\u001b[1;33m,\u001b[0m\u001b[1;33m\u001b[0m\u001b[1;33m\u001b[0m\u001b[0m\n\u001b[0m\u001b[0;32m    562\u001b[0m             \u001b[1;33m(\u001b[0m\u001b[1;34m\"P-value\"\u001b[0m\u001b[1;33m,\u001b[0m \u001b[1;34m\"{0:0.3f}\"\u001b[0m\u001b[1;33m.\u001b[0m\u001b[0mformat\u001b[0m\u001b[1;33m(\u001b[0m\u001b[0mself\u001b[0m\u001b[1;33m.\u001b[0m\u001b[0mpvalue\u001b[0m\u001b[1;33m)\u001b[0m\u001b[1;33m)\u001b[0m\u001b[1;33m,\u001b[0m\u001b[1;33m\u001b[0m\u001b[1;33m\u001b[0m\u001b[0m\n\u001b[0;32m    563\u001b[0m             \u001b[1;33m(\u001b[0m\u001b[1;34m\"Lags\"\u001b[0m\u001b[1;33m,\u001b[0m \u001b[1;34m\"{0:d}\"\u001b[0m\u001b[1;33m.\u001b[0m\u001b[0mformat\u001b[0m\u001b[1;33m(\u001b[0m\u001b[0mself\u001b[0m\u001b[1;33m.\u001b[0m\u001b[0mlags\u001b[0m\u001b[1;33m)\u001b[0m\u001b[1;33m)\u001b[0m\u001b[1;33m,\u001b[0m\u001b[1;33m\u001b[0m\u001b[1;33m\u001b[0m\u001b[0m\n",
      "\u001b[1;32m~\\anaconda3\\lib\\site-packages\\arch\\unitroot\\unitroot.py\u001b[0m in \u001b[0;36mstat\u001b[1;34m(self)\u001b[0m\n\u001b[0;32m    544\u001b[0m     \u001b[1;32mdef\u001b[0m \u001b[0mstat\u001b[0m\u001b[1;33m(\u001b[0m\u001b[0mself\u001b[0m\u001b[1;33m)\u001b[0m \u001b[1;33m->\u001b[0m \u001b[0mfloat\u001b[0m\u001b[1;33m:\u001b[0m\u001b[1;33m\u001b[0m\u001b[1;33m\u001b[0m\u001b[0m\n\u001b[0;32m    545\u001b[0m         \u001b[1;34m\"\"\"The test statistic for a unit root\"\"\"\u001b[0m\u001b[1;33m\u001b[0m\u001b[1;33m\u001b[0m\u001b[0m\n\u001b[1;32m--> 546\u001b[1;33m         \u001b[0mself\u001b[0m\u001b[1;33m.\u001b[0m\u001b[0m_compute_if_needed\u001b[0m\u001b[1;33m(\u001b[0m\u001b[1;33m)\u001b[0m\u001b[1;33m\u001b[0m\u001b[1;33m\u001b[0m\u001b[0m\n\u001b[0m\u001b[0;32m    547\u001b[0m         \u001b[1;32massert\u001b[0m \u001b[0mself\u001b[0m\u001b[1;33m.\u001b[0m\u001b[0m_stat\u001b[0m \u001b[1;32mis\u001b[0m \u001b[1;32mnot\u001b[0m \u001b[1;32mNone\u001b[0m\u001b[1;33m\u001b[0m\u001b[1;33m\u001b[0m\u001b[0m\n\u001b[0;32m    548\u001b[0m         \u001b[1;32mreturn\u001b[0m \u001b[0mself\u001b[0m\u001b[1;33m.\u001b[0m\u001b[0m_stat\u001b[0m\u001b[1;33m\u001b[0m\u001b[1;33m\u001b[0m\u001b[0m\n",
      "\u001b[1;32m~\\anaconda3\\lib\\site-packages\\arch\\unitroot\\unitroot.py\u001b[0m in \u001b[0;36m_compute_if_needed\u001b[1;34m(self)\u001b[0m\n\u001b[0;32m    511\u001b[0m         \u001b[1;32mif\u001b[0m \u001b[0mself\u001b[0m\u001b[1;33m.\u001b[0m\u001b[0m_stat\u001b[0m \u001b[1;32mis\u001b[0m \u001b[1;32mNone\u001b[0m\u001b[1;33m:\u001b[0m\u001b[1;33m\u001b[0m\u001b[1;33m\u001b[0m\u001b[0m\n\u001b[0;32m    512\u001b[0m             \u001b[0mself\u001b[0m\u001b[1;33m.\u001b[0m\u001b[0m_check_specification\u001b[0m\u001b[1;33m(\u001b[0m\u001b[1;33m)\u001b[0m\u001b[1;33m\u001b[0m\u001b[1;33m\u001b[0m\u001b[0m\n\u001b[1;32m--> 513\u001b[1;33m             \u001b[0mself\u001b[0m\u001b[1;33m.\u001b[0m\u001b[0m_compute_statistic\u001b[0m\u001b[1;33m(\u001b[0m\u001b[1;33m)\u001b[0m\u001b[1;33m\u001b[0m\u001b[1;33m\u001b[0m\u001b[0m\n\u001b[0m\u001b[0;32m    514\u001b[0m \u001b[1;33m\u001b[0m\u001b[0m\n\u001b[0;32m    515\u001b[0m     \u001b[1;33m@\u001b[0m\u001b[0mproperty\u001b[0m\u001b[1;33m\u001b[0m\u001b[1;33m\u001b[0m\u001b[0m\n",
      "\u001b[1;32m~\\anaconda3\\lib\\site-packages\\arch\\unitroot\\unitroot.py\u001b[0m in \u001b[0;36m_compute_statistic\u001b[1;34m(self)\u001b[0m\n\u001b[0;32m    937\u001b[0m             \u001b[0mmax_lags\u001b[0m\u001b[1;33m,\u001b[0m \u001b[0mmethod\u001b[0m \u001b[1;33m=\u001b[0m \u001b[0mself\u001b[0m\u001b[1;33m.\u001b[0m\u001b[0m_max_lags\u001b[0m\u001b[1;33m,\u001b[0m \u001b[0mself\u001b[0m\u001b[1;33m.\u001b[0m\u001b[0m_method\u001b[0m\u001b[1;33m\u001b[0m\u001b[1;33m\u001b[0m\u001b[0m\n\u001b[0;32m    938\u001b[0m             \u001b[1;32massert\u001b[0m \u001b[0mself\u001b[0m\u001b[1;33m.\u001b[0m\u001b[0m_low_memory\u001b[0m \u001b[1;32mis\u001b[0m \u001b[1;32mnot\u001b[0m \u001b[1;32mNone\u001b[0m\u001b[1;33m\u001b[0m\u001b[1;33m\u001b[0m\u001b[0m\n\u001b[1;32m--> 939\u001b[1;33m             icbest, bestlag = _df_select_lags(\n\u001b[0m\u001b[0;32m    940\u001b[0m                 \u001b[0my_detrended\u001b[0m\u001b[1;33m,\u001b[0m \u001b[1;34m\"n\"\u001b[0m\u001b[1;33m,\u001b[0m \u001b[0mmax_lags\u001b[0m\u001b[1;33m,\u001b[0m \u001b[0mmethod\u001b[0m\u001b[1;33m,\u001b[0m \u001b[0mlow_memory\u001b[0m\u001b[1;33m=\u001b[0m\u001b[0mself\u001b[0m\u001b[1;33m.\u001b[0m\u001b[0m_low_memory\u001b[0m\u001b[1;33m\u001b[0m\u001b[1;33m\u001b[0m\u001b[0m\n\u001b[0;32m    941\u001b[0m             )\n",
      "\u001b[1;32m~\\anaconda3\\lib\\site-packages\\arch\\unitroot\\unitroot.py\u001b[0m in \u001b[0;36m_df_select_lags\u001b[1;34m(y, trend, max_lags, method, low_memory)\u001b[0m\n\u001b[0;32m    402\u001b[0m \u001b[1;33m\u001b[0m\u001b[0m\n\u001b[0;32m    403\u001b[0m     \u001b[0mstart_lag\u001b[0m \u001b[1;33m=\u001b[0m \u001b[0mfull_rhs\u001b[0m\u001b[1;33m.\u001b[0m\u001b[0mshape\u001b[0m\u001b[1;33m[\u001b[0m\u001b[1;36m1\u001b[0m\u001b[1;33m]\u001b[0m \u001b[1;33m-\u001b[0m \u001b[0mrhs\u001b[0m\u001b[1;33m.\u001b[0m\u001b[0mshape\u001b[0m\u001b[1;33m[\u001b[0m\u001b[1;36m1\u001b[0m\u001b[1;33m]\u001b[0m \u001b[1;33m+\u001b[0m \u001b[1;36m1\u001b[0m\u001b[1;33m\u001b[0m\u001b[1;33m\u001b[0m\u001b[0m\n\u001b[1;32m--> 404\u001b[1;33m     \u001b[0mic_best\u001b[0m\u001b[1;33m,\u001b[0m \u001b[0mbest_lag\u001b[0m \u001b[1;33m=\u001b[0m \u001b[0m_autolag_ols\u001b[0m\u001b[1;33m(\u001b[0m\u001b[0mlhs\u001b[0m\u001b[1;33m,\u001b[0m \u001b[0mfull_rhs\u001b[0m\u001b[1;33m,\u001b[0m \u001b[0mstart_lag\u001b[0m\u001b[1;33m,\u001b[0m \u001b[0mmax_lags\u001b[0m\u001b[1;33m,\u001b[0m \u001b[0mmethod\u001b[0m\u001b[1;33m)\u001b[0m\u001b[1;33m\u001b[0m\u001b[1;33m\u001b[0m\u001b[0m\n\u001b[0m\u001b[0;32m    405\u001b[0m     \u001b[1;32mreturn\u001b[0m \u001b[0mic_best\u001b[0m\u001b[1;33m,\u001b[0m \u001b[0mbest_lag\u001b[0m\u001b[1;33m\u001b[0m\u001b[1;33m\u001b[0m\u001b[0m\n\u001b[0;32m    406\u001b[0m \u001b[1;33m\u001b[0m\u001b[0m\n",
      "\u001b[1;32m~\\anaconda3\\lib\\site-packages\\arch\\unitroot\\unitroot.py\u001b[0m in \u001b[0;36m_autolag_ols\u001b[1;34m(endog, exog, startlag, maxlag, method)\u001b[0m\n\u001b[0;32m    315\u001b[0m         \u001b[1;32mif\u001b[0m \u001b[0mexog_rank\u001b[0m \u001b[1;32mis\u001b[0m \u001b[1;32mNone\u001b[0m\u001b[1;33m:\u001b[0m\u001b[1;33m\u001b[0m\u001b[1;33m\u001b[0m\u001b[0m\n\u001b[0;32m    316\u001b[0m             \u001b[0mexog_rank\u001b[0m \u001b[1;33m=\u001b[0m \u001b[0mmatrix_rank\u001b[0m\u001b[1;33m(\u001b[0m\u001b[0mexog\u001b[0m\u001b[1;33m)\u001b[0m\u001b[1;33m\u001b[0m\u001b[1;33m\u001b[0m\u001b[0m\n\u001b[1;32m--> 317\u001b[1;33m         raise InfeasibleTestException(\n\u001b[0m\u001b[0;32m    318\u001b[0m             singular_array_error.format(\n\u001b[0;32m    319\u001b[0m                 \u001b[0mmax_lags\u001b[0m\u001b[1;33m=\u001b[0m\u001b[0mmaxlag\u001b[0m\u001b[1;33m,\u001b[0m \u001b[0mlag\u001b[0m\u001b[1;33m=\u001b[0m\u001b[0mmax\u001b[0m\u001b[1;33m(\u001b[0m\u001b[0mexog_rank\u001b[0m \u001b[1;33m-\u001b[0m \u001b[0mstartlag\u001b[0m\u001b[1;33m,\u001b[0m \u001b[1;36m0\u001b[0m\u001b[1;33m)\u001b[0m\u001b[1;33m\u001b[0m\u001b[1;33m\u001b[0m\u001b[0m\n",
      "\u001b[1;31mInfeasibleTestException\u001b[0m: The maximum lag you are considering (10) results in an ADF regression with a\nsingular regressor matrix after including 0 lags, and so a specification test be\nrun. This may occur if your series have little variation and so is locally constant,\nor may occur if you are attempting to test a very short series. You can manually set\nmaximum lag length to consider smaller models."
     ]
    },
    {
     "ename": "InfeasibleTestException",
     "evalue": "The maximum lag you are considering (10) results in an ADF regression with a\nsingular regressor matrix after including 0 lags, and so a specification test be\nrun. This may occur if your series have little variation and so is locally constant,\nor may occur if you are attempting to test a very short series. You can manually set\nmaximum lag length to consider smaller models.",
     "output_type": "error",
     "traceback": [
      "\u001b[1;31m---------------------------------------------------------------------------\u001b[0m",
      "\u001b[1;31mInfeasibleTestException\u001b[0m                   Traceback (most recent call last)",
      "\u001b[1;32m~\\anaconda3\\lib\\site-packages\\IPython\\core\\formatters.py\u001b[0m in \u001b[0;36m__call__\u001b[1;34m(self, obj)\u001b[0m\n\u001b[0;32m    343\u001b[0m             \u001b[0mmethod\u001b[0m \u001b[1;33m=\u001b[0m \u001b[0mget_real_method\u001b[0m\u001b[1;33m(\u001b[0m\u001b[0mobj\u001b[0m\u001b[1;33m,\u001b[0m \u001b[0mself\u001b[0m\u001b[1;33m.\u001b[0m\u001b[0mprint_method\u001b[0m\u001b[1;33m)\u001b[0m\u001b[1;33m\u001b[0m\u001b[1;33m\u001b[0m\u001b[0m\n\u001b[0;32m    344\u001b[0m             \u001b[1;32mif\u001b[0m \u001b[0mmethod\u001b[0m \u001b[1;32mis\u001b[0m \u001b[1;32mnot\u001b[0m \u001b[1;32mNone\u001b[0m\u001b[1;33m:\u001b[0m\u001b[1;33m\u001b[0m\u001b[1;33m\u001b[0m\u001b[0m\n\u001b[1;32m--> 345\u001b[1;33m                 \u001b[1;32mreturn\u001b[0m \u001b[0mmethod\u001b[0m\u001b[1;33m(\u001b[0m\u001b[1;33m)\u001b[0m\u001b[1;33m\u001b[0m\u001b[1;33m\u001b[0m\u001b[0m\n\u001b[0m\u001b[0;32m    346\u001b[0m             \u001b[1;32mreturn\u001b[0m \u001b[1;32mNone\u001b[0m\u001b[1;33m\u001b[0m\u001b[1;33m\u001b[0m\u001b[0m\n\u001b[0;32m    347\u001b[0m         \u001b[1;32melse\u001b[0m\u001b[1;33m:\u001b[0m\u001b[1;33m\u001b[0m\u001b[1;33m\u001b[0m\u001b[0m\n",
      "\u001b[1;32m~\\anaconda3\\lib\\site-packages\\arch\\unitroot\\unitroot.py\u001b[0m in \u001b[0;36m_repr_html_\u001b[1;34m(self)\u001b[0m\n\u001b[0;32m    486\u001b[0m     \u001b[1;32mdef\u001b[0m \u001b[0m_repr_html_\u001b[0m\u001b[1;33m(\u001b[0m\u001b[0mself\u001b[0m\u001b[1;33m)\u001b[0m \u001b[1;33m->\u001b[0m \u001b[0mstr\u001b[0m\u001b[1;33m:\u001b[0m\u001b[1;33m\u001b[0m\u001b[1;33m\u001b[0m\u001b[0m\n\u001b[0;32m    487\u001b[0m         \u001b[1;34m\"\"\"Display as HTML for IPython notebook.\"\"\"\u001b[0m\u001b[1;33m\u001b[0m\u001b[1;33m\u001b[0m\u001b[0m\n\u001b[1;32m--> 488\u001b[1;33m         \u001b[1;32mreturn\u001b[0m \u001b[0mself\u001b[0m\u001b[1;33m.\u001b[0m\u001b[0msummary\u001b[0m\u001b[1;33m(\u001b[0m\u001b[1;33m)\u001b[0m\u001b[1;33m.\u001b[0m\u001b[0mas_html\u001b[0m\u001b[1;33m(\u001b[0m\u001b[1;33m)\u001b[0m\u001b[1;33m\u001b[0m\u001b[1;33m\u001b[0m\u001b[0m\n\u001b[0m\u001b[0;32m    489\u001b[0m \u001b[1;33m\u001b[0m\u001b[0m\n\u001b[0;32m    490\u001b[0m     \u001b[1;33m@\u001b[0m\u001b[0mabstractmethod\u001b[0m\u001b[1;33m\u001b[0m\u001b[1;33m\u001b[0m\u001b[0m\n",
      "\u001b[1;32m~\\anaconda3\\lib\\site-packages\\arch\\unitroot\\unitroot.py\u001b[0m in \u001b[0;36msummary\u001b[1;34m(self)\u001b[0m\n\u001b[0;32m    559\u001b[0m         \u001b[1;34m\"\"\"Summary of test, containing statistic, p-value and critical values\"\"\"\u001b[0m\u001b[1;33m\u001b[0m\u001b[1;33m\u001b[0m\u001b[0m\n\u001b[0;32m    560\u001b[0m         table_data = [\n\u001b[1;32m--> 561\u001b[1;33m             \u001b[1;33m(\u001b[0m\u001b[1;34m\"Test Statistic\"\u001b[0m\u001b[1;33m,\u001b[0m \u001b[1;34m\"{0:0.3f}\"\u001b[0m\u001b[1;33m.\u001b[0m\u001b[0mformat\u001b[0m\u001b[1;33m(\u001b[0m\u001b[0mself\u001b[0m\u001b[1;33m.\u001b[0m\u001b[0mstat\u001b[0m\u001b[1;33m)\u001b[0m\u001b[1;33m)\u001b[0m\u001b[1;33m,\u001b[0m\u001b[1;33m\u001b[0m\u001b[1;33m\u001b[0m\u001b[0m\n\u001b[0m\u001b[0;32m    562\u001b[0m             \u001b[1;33m(\u001b[0m\u001b[1;34m\"P-value\"\u001b[0m\u001b[1;33m,\u001b[0m \u001b[1;34m\"{0:0.3f}\"\u001b[0m\u001b[1;33m.\u001b[0m\u001b[0mformat\u001b[0m\u001b[1;33m(\u001b[0m\u001b[0mself\u001b[0m\u001b[1;33m.\u001b[0m\u001b[0mpvalue\u001b[0m\u001b[1;33m)\u001b[0m\u001b[1;33m)\u001b[0m\u001b[1;33m,\u001b[0m\u001b[1;33m\u001b[0m\u001b[1;33m\u001b[0m\u001b[0m\n\u001b[0;32m    563\u001b[0m             \u001b[1;33m(\u001b[0m\u001b[1;34m\"Lags\"\u001b[0m\u001b[1;33m,\u001b[0m \u001b[1;34m\"{0:d}\"\u001b[0m\u001b[1;33m.\u001b[0m\u001b[0mformat\u001b[0m\u001b[1;33m(\u001b[0m\u001b[0mself\u001b[0m\u001b[1;33m.\u001b[0m\u001b[0mlags\u001b[0m\u001b[1;33m)\u001b[0m\u001b[1;33m)\u001b[0m\u001b[1;33m,\u001b[0m\u001b[1;33m\u001b[0m\u001b[1;33m\u001b[0m\u001b[0m\n",
      "\u001b[1;32m~\\anaconda3\\lib\\site-packages\\arch\\unitroot\\unitroot.py\u001b[0m in \u001b[0;36mstat\u001b[1;34m(self)\u001b[0m\n\u001b[0;32m    544\u001b[0m     \u001b[1;32mdef\u001b[0m \u001b[0mstat\u001b[0m\u001b[1;33m(\u001b[0m\u001b[0mself\u001b[0m\u001b[1;33m)\u001b[0m \u001b[1;33m->\u001b[0m \u001b[0mfloat\u001b[0m\u001b[1;33m:\u001b[0m\u001b[1;33m\u001b[0m\u001b[1;33m\u001b[0m\u001b[0m\n\u001b[0;32m    545\u001b[0m         \u001b[1;34m\"\"\"The test statistic for a unit root\"\"\"\u001b[0m\u001b[1;33m\u001b[0m\u001b[1;33m\u001b[0m\u001b[0m\n\u001b[1;32m--> 546\u001b[1;33m         \u001b[0mself\u001b[0m\u001b[1;33m.\u001b[0m\u001b[0m_compute_if_needed\u001b[0m\u001b[1;33m(\u001b[0m\u001b[1;33m)\u001b[0m\u001b[1;33m\u001b[0m\u001b[1;33m\u001b[0m\u001b[0m\n\u001b[0m\u001b[0;32m    547\u001b[0m         \u001b[1;32massert\u001b[0m \u001b[0mself\u001b[0m\u001b[1;33m.\u001b[0m\u001b[0m_stat\u001b[0m \u001b[1;32mis\u001b[0m \u001b[1;32mnot\u001b[0m \u001b[1;32mNone\u001b[0m\u001b[1;33m\u001b[0m\u001b[1;33m\u001b[0m\u001b[0m\n\u001b[0;32m    548\u001b[0m         \u001b[1;32mreturn\u001b[0m \u001b[0mself\u001b[0m\u001b[1;33m.\u001b[0m\u001b[0m_stat\u001b[0m\u001b[1;33m\u001b[0m\u001b[1;33m\u001b[0m\u001b[0m\n",
      "\u001b[1;32m~\\anaconda3\\lib\\site-packages\\arch\\unitroot\\unitroot.py\u001b[0m in \u001b[0;36m_compute_if_needed\u001b[1;34m(self)\u001b[0m\n\u001b[0;32m    511\u001b[0m         \u001b[1;32mif\u001b[0m \u001b[0mself\u001b[0m\u001b[1;33m.\u001b[0m\u001b[0m_stat\u001b[0m \u001b[1;32mis\u001b[0m \u001b[1;32mNone\u001b[0m\u001b[1;33m:\u001b[0m\u001b[1;33m\u001b[0m\u001b[1;33m\u001b[0m\u001b[0m\n\u001b[0;32m    512\u001b[0m             \u001b[0mself\u001b[0m\u001b[1;33m.\u001b[0m\u001b[0m_check_specification\u001b[0m\u001b[1;33m(\u001b[0m\u001b[1;33m)\u001b[0m\u001b[1;33m\u001b[0m\u001b[1;33m\u001b[0m\u001b[0m\n\u001b[1;32m--> 513\u001b[1;33m             \u001b[0mself\u001b[0m\u001b[1;33m.\u001b[0m\u001b[0m_compute_statistic\u001b[0m\u001b[1;33m(\u001b[0m\u001b[1;33m)\u001b[0m\u001b[1;33m\u001b[0m\u001b[1;33m\u001b[0m\u001b[0m\n\u001b[0m\u001b[0;32m    514\u001b[0m \u001b[1;33m\u001b[0m\u001b[0m\n\u001b[0;32m    515\u001b[0m     \u001b[1;33m@\u001b[0m\u001b[0mproperty\u001b[0m\u001b[1;33m\u001b[0m\u001b[1;33m\u001b[0m\u001b[0m\n",
      "\u001b[1;32m~\\anaconda3\\lib\\site-packages\\arch\\unitroot\\unitroot.py\u001b[0m in \u001b[0;36m_compute_statistic\u001b[1;34m(self)\u001b[0m\n\u001b[0;32m    937\u001b[0m             \u001b[0mmax_lags\u001b[0m\u001b[1;33m,\u001b[0m \u001b[0mmethod\u001b[0m \u001b[1;33m=\u001b[0m \u001b[0mself\u001b[0m\u001b[1;33m.\u001b[0m\u001b[0m_max_lags\u001b[0m\u001b[1;33m,\u001b[0m \u001b[0mself\u001b[0m\u001b[1;33m.\u001b[0m\u001b[0m_method\u001b[0m\u001b[1;33m\u001b[0m\u001b[1;33m\u001b[0m\u001b[0m\n\u001b[0;32m    938\u001b[0m             \u001b[1;32massert\u001b[0m \u001b[0mself\u001b[0m\u001b[1;33m.\u001b[0m\u001b[0m_low_memory\u001b[0m \u001b[1;32mis\u001b[0m \u001b[1;32mnot\u001b[0m \u001b[1;32mNone\u001b[0m\u001b[1;33m\u001b[0m\u001b[1;33m\u001b[0m\u001b[0m\n\u001b[1;32m--> 939\u001b[1;33m             icbest, bestlag = _df_select_lags(\n\u001b[0m\u001b[0;32m    940\u001b[0m                 \u001b[0my_detrended\u001b[0m\u001b[1;33m,\u001b[0m \u001b[1;34m\"n\"\u001b[0m\u001b[1;33m,\u001b[0m \u001b[0mmax_lags\u001b[0m\u001b[1;33m,\u001b[0m \u001b[0mmethod\u001b[0m\u001b[1;33m,\u001b[0m \u001b[0mlow_memory\u001b[0m\u001b[1;33m=\u001b[0m\u001b[0mself\u001b[0m\u001b[1;33m.\u001b[0m\u001b[0m_low_memory\u001b[0m\u001b[1;33m\u001b[0m\u001b[1;33m\u001b[0m\u001b[0m\n\u001b[0;32m    941\u001b[0m             )\n",
      "\u001b[1;32m~\\anaconda3\\lib\\site-packages\\arch\\unitroot\\unitroot.py\u001b[0m in \u001b[0;36m_df_select_lags\u001b[1;34m(y, trend, max_lags, method, low_memory)\u001b[0m\n\u001b[0;32m    402\u001b[0m \u001b[1;33m\u001b[0m\u001b[0m\n\u001b[0;32m    403\u001b[0m     \u001b[0mstart_lag\u001b[0m \u001b[1;33m=\u001b[0m \u001b[0mfull_rhs\u001b[0m\u001b[1;33m.\u001b[0m\u001b[0mshape\u001b[0m\u001b[1;33m[\u001b[0m\u001b[1;36m1\u001b[0m\u001b[1;33m]\u001b[0m \u001b[1;33m-\u001b[0m \u001b[0mrhs\u001b[0m\u001b[1;33m.\u001b[0m\u001b[0mshape\u001b[0m\u001b[1;33m[\u001b[0m\u001b[1;36m1\u001b[0m\u001b[1;33m]\u001b[0m \u001b[1;33m+\u001b[0m \u001b[1;36m1\u001b[0m\u001b[1;33m\u001b[0m\u001b[1;33m\u001b[0m\u001b[0m\n\u001b[1;32m--> 404\u001b[1;33m     \u001b[0mic_best\u001b[0m\u001b[1;33m,\u001b[0m \u001b[0mbest_lag\u001b[0m \u001b[1;33m=\u001b[0m \u001b[0m_autolag_ols\u001b[0m\u001b[1;33m(\u001b[0m\u001b[0mlhs\u001b[0m\u001b[1;33m,\u001b[0m \u001b[0mfull_rhs\u001b[0m\u001b[1;33m,\u001b[0m \u001b[0mstart_lag\u001b[0m\u001b[1;33m,\u001b[0m \u001b[0mmax_lags\u001b[0m\u001b[1;33m,\u001b[0m \u001b[0mmethod\u001b[0m\u001b[1;33m)\u001b[0m\u001b[1;33m\u001b[0m\u001b[1;33m\u001b[0m\u001b[0m\n\u001b[0m\u001b[0;32m    405\u001b[0m     \u001b[1;32mreturn\u001b[0m \u001b[0mic_best\u001b[0m\u001b[1;33m,\u001b[0m \u001b[0mbest_lag\u001b[0m\u001b[1;33m\u001b[0m\u001b[1;33m\u001b[0m\u001b[0m\n\u001b[0;32m    406\u001b[0m \u001b[1;33m\u001b[0m\u001b[0m\n",
      "\u001b[1;32m~\\anaconda3\\lib\\site-packages\\arch\\unitroot\\unitroot.py\u001b[0m in \u001b[0;36m_autolag_ols\u001b[1;34m(endog, exog, startlag, maxlag, method)\u001b[0m\n\u001b[0;32m    315\u001b[0m         \u001b[1;32mif\u001b[0m \u001b[0mexog_rank\u001b[0m \u001b[1;32mis\u001b[0m \u001b[1;32mNone\u001b[0m\u001b[1;33m:\u001b[0m\u001b[1;33m\u001b[0m\u001b[1;33m\u001b[0m\u001b[0m\n\u001b[0;32m    316\u001b[0m             \u001b[0mexog_rank\u001b[0m \u001b[1;33m=\u001b[0m \u001b[0mmatrix_rank\u001b[0m\u001b[1;33m(\u001b[0m\u001b[0mexog\u001b[0m\u001b[1;33m)\u001b[0m\u001b[1;33m\u001b[0m\u001b[1;33m\u001b[0m\u001b[0m\n\u001b[1;32m--> 317\u001b[1;33m         raise InfeasibleTestException(\n\u001b[0m\u001b[0;32m    318\u001b[0m             singular_array_error.format(\n\u001b[0;32m    319\u001b[0m                 \u001b[0mmax_lags\u001b[0m\u001b[1;33m=\u001b[0m\u001b[0mmaxlag\u001b[0m\u001b[1;33m,\u001b[0m \u001b[0mlag\u001b[0m\u001b[1;33m=\u001b[0m\u001b[0mmax\u001b[0m\u001b[1;33m(\u001b[0m\u001b[0mexog_rank\u001b[0m \u001b[1;33m-\u001b[0m \u001b[0mstartlag\u001b[0m\u001b[1;33m,\u001b[0m \u001b[1;36m0\u001b[0m\u001b[1;33m)\u001b[0m\u001b[1;33m\u001b[0m\u001b[1;33m\u001b[0m\u001b[0m\n",
      "\u001b[1;31mInfeasibleTestException\u001b[0m: The maximum lag you are considering (10) results in an ADF regression with a\nsingular regressor matrix after including 0 lags, and so a specification test be\nrun. This may occur if your series have little variation and so is locally constant,\nor may occur if you are attempting to test a very short series. You can manually set\nmaximum lag length to consider smaller models."
     ]
    }
   ],
   "source": [
    "DFGLS(cds.pct_change().dropna(), trend='c', max_lags=10, method='BIC')"
   ]
  },
  {
   "cell_type": "code",
   "execution_count": 13,
   "metadata": {},
   "outputs": [
    {
     "data": {
      "text/plain": [
       "False"
      ]
     },
     "execution_count": 13,
     "metadata": {},
     "output_type": "execute_result"
    }
   ],
   "source": [
    "price_close.isna().any()"
   ]
  },
  {
   "cell_type": "code",
   "execution_count": null,
   "metadata": {},
   "outputs": [],
   "source": [
    "#series = [cds, pecds, vix, price_close]\n",
    "#for i in series:\n",
    "#    print(len(i))"
   ]
  },
  {
   "cell_type": "code",
   "execution_count": null,
   "metadata": {},
   "outputs": [],
   "source": [
    "res_var_model_4v.summary()"
   ]
  },
  {
   "cell_type": "code",
   "execution_count": null,
   "metadata": {},
   "outputs": [],
   "source": [
    "see(res_var_model_4v)"
   ]
  },
  {
   "cell_type": "code",
   "execution_count": null,
   "metadata": {},
   "outputs": [],
   "source": []
  },
  {
   "cell_type": "code",
   "execution_count": null,
   "metadata": {},
   "outputs": [],
   "source": [
    "res_var_model_4v.test_causality(causing=['cboe_vix'], \n",
    "                                  caused=['price_close'], kind='wald', signif=0.05).summary()"
   ]
  },
  {
   "cell_type": "code",
   "execution_count": null,
   "metadata": {},
   "outputs": [],
   "source": [
    "res_var_model_4v.test_causality(causing=['cboe_vix'], \n",
    "                                  caused=['pecds'], kind='wald', signif=0.05).summary()"
   ]
  },
  {
   "cell_type": "code",
   "execution_count": null,
   "metadata": {},
   "outputs": [],
   "source": [
    "res_var_model_4v.test_causality(causing=['cboe_vix'], \n",
    "                                  caused=['market_cds_spread'], kind='wald', signif=0.05).summary()"
   ]
  },
  {
   "cell_type": "code",
   "execution_count": null,
   "metadata": {},
   "outputs": [],
   "source": [
    "res_var_model_4v.test_causality(causing=['cboe_vix'], \n",
    "                                  caused=['market_cds_spread','pecds'], kind='wald', signif=0.05).summary()"
   ]
  },
  {
   "cell_type": "code",
   "execution_count": null,
   "metadata": {},
   "outputs": [],
   "source": []
  },
  {
   "cell_type": "code",
   "execution_count": null,
   "metadata": {},
   "outputs": [],
   "source": []
  },
  {
   "cell_type": "code",
   "execution_count": null,
   "metadata": {},
   "outputs": [],
   "source": [
    "res_var_model_4v.resid_corr\n",
    "\n",
    "#res_var_model_4v.resid_corr[0,0]"
   ]
  },
  {
   "cell_type": "code",
   "execution_count": null,
   "metadata": {},
   "outputs": [],
   "source": []
  },
  {
   "cell_type": "code",
   "execution_count": null,
   "metadata": {},
   "outputs": [],
   "source": [
    "four_variable_correlation_mat = var_model_df_4v.corr(method='spearman')\n",
    "four_variable_correlation_mat"
   ]
  },
  {
   "cell_type": "code",
   "execution_count": null,
   "metadata": {},
   "outputs": [],
   "source": [
    "fig, ax = plt.subplots(figsize=(9, 6))\n",
    "sns.heatmap(four_variable_correlation_mat, ax=ax, cmap='YlGnBu', linewidths=0.2)"
   ]
  },
  {
   "cell_type": "code",
   "execution_count": null,
   "metadata": {},
   "outputs": [],
   "source": []
  },
  {
   "cell_type": "code",
   "execution_count": null,
   "metadata": {},
   "outputs": [],
   "source": []
  },
  {
   "cell_type": "code",
   "execution_count": null,
   "metadata": {},
   "outputs": [],
   "source": [
    "                    ## test bonds on CDS causality\n",
    "                    res_causality_bond = res.test_causality(causing=['pecds'], \n",
    "                        caused=['market_cds_spread'], kind='wald', signif=0.05)  \n",
    "                    \n",
    "                    ## test CDS on bonds causality\n",
    "                    res_causality_cds = res.test_causality(causing=['market_cds_spread'], \n",
    "                        caused=['pecds'], kind='wald', signif=0.05) \n",
    "\n",
    "                    ## test VIX on CDS causality\n",
    "                    res_causality_vix = res.test_causality(causing=['vix'], \n",
    "                        caused=['market_cds_spread'], kind='wald', signif=0.05) \n",
    "                    \n",
    "                    ## test stock closing price on CDS causality \n",
    "                    res_causality_cds = res.test_causality(causing=['stock_close'], \n",
    "                        caused=['market_cds_spread'], kind='wald', signif=0.05) \n",
    "                    \n",
    "                    \n",
    "                    "
   ]
  },
  {
   "cell_type": "code",
   "execution_count": null,
   "metadata": {},
   "outputs": [],
   "source": []
  },
  {
   "cell_type": "code",
   "execution_count": null,
   "metadata": {},
   "outputs": [],
   "source": [
    "%%time \n",
    "\n",
    "warnings.filterwarnings(\"ignore\") \n",
    "\n",
    "## initialise the dictionary\n",
    "granger_causality_dict_4v = collections.defaultdict(list)\n",
    "\n",
    "## initialise error counters by type\n",
    "error_counter_dfgls = 0\n",
    "#value_error_counter_dfgls = 0\n",
    "error_counter_var = 0\n",
    "\n",
    "## problem instances ##\n",
    "unique_gct_4v_problem_instances = []\n",
    "\n",
    "first_dif_counter = 0\n",
    "second_dif_counter = 0\n",
    "\n",
    "                              \n",
    "## run the regression loop by GVKEY group:\n",
    "for i, val in enumerate(sorted_alldata_df_final_adf_results.groupby('gvkey')):  \n",
    "    gvkey = val[0]\n",
    "    data = val[1]\n",
    "    granger_causality_dict_4v['gvkey'].append(gvkey)  \n",
    "    sector_string = data.sector\n",
    "    granger_causality_dict_4v['sector'].append(sector_string.iloc[0]) \n",
    "\n",
    "    \n",
    "    \n",
    "    ## if all series are jointly stationary - apply the VAR model in-levels\n",
    "    ## else take the first difference of each series and apply the VAR model in-differences\n",
    "    try:\n",
    "        \n",
    "        cds = data.market_cds_spread \n",
    "        pecds = data.pecds\n",
    "        vix = data.cboe_vix\n",
    "        stock_close = data.price_close\n",
    "\n",
    "        if stock_close.isna().any() == True:\n",
    "            stock_close = stock_close.fillna(method='ffill')  \n",
    "\n",
    "        #if np.allclose(cds, pecds, vix, stock_close) == False:\n",
    "        #    print(len(cds), len(pecds), len(vix), len(stock_close))\n",
    "        #    all_close_counter += 1\n",
    "            #raise ValueError(\"Different Length Series\")\n",
    "\n",
    "\n",
    "        ## add try here \n",
    "        dfgls_cds = DFGLS(cds, trend='c', max_lags=10, method='BIC')\n",
    "        dfgls_pecds = DFGLS(pecds, trend='c', max_lags=10, method='BIC')\n",
    "        dfgls_vix = DFGLS(vix, trend='c', max_lags=10, method='BIC')\n",
    "        dfgls_stock_close = DFGLS(stock_close, trend='c', max_lags=10, method='BIC')\n",
    "\n",
    "        if ((dfgls_cds.stat < dfgls_cds.critical_values['5%']) and \n",
    "         (dfgls_pecds.stat < dfgls_pecds.critical_values['5%']) and \n",
    "         (dfgls_vix.stat < dfgls_vix.critical_values['5%']) and \n",
    "         (dfgls_stock_close.stat < dfgls_stock_close.critical_values['5%'])) == True:\n",
    "            var_model_df_4v = pd.DataFrame(data=(cds, pecds, vix, stock_close)).T\n",
    "            \n",
    "        elif ((dfgls_cds.stat < dfgls_cds.critical_values['5%']) or \n",
    "         (dfgls_pecds.stat < dfgls_pecds.critical_values['5%']) or \n",
    "         (dfgls_vix.stat < dfgls_vix.critical_values['5%']) or \n",
    "         (dfgls_stock_close.stat < dfgls_stock_close.critical_values['5%'])):\n",
    "            \n",
    "            ## take the first differences of each series\n",
    "            cds = cds.pct_change().dropna()\n",
    "            pecds = pecds.pct_change().dropna()\n",
    "            vix = vix.pct_change().dropna()\n",
    "            stock_close = stock_close.pct_change().dropna()\n",
    "\n",
    "            ## re-run ADF test\n",
    "            dfgls_cds = DFGLS(cds, trend='c', max_lags=10, method='BIC')\n",
    "            dfgls_pecds = DFGLS(pecds, trend='c', max_lags=10, method='BIC')\n",
    "            dfgls_vix = DFGLS(vix, trend='c', max_lags=10, method='BIC')\n",
    "            dfgls_stock_close = DFGLS(stock_close, trend='c', max_lags=10, method='BIC')\n",
    "\n",
    "            ##\n",
    "            if ((dfgls_cds.stat < dfgls_cds.critical_values['5%']) and \n",
    "             (dfgls_pecds.stat < dfgls_pecds.critical_values['5%']) and \n",
    "             (dfgls_vix.stat < dfgls_vix.critical_values['5%']) and \n",
    "             (dfgls_stock_close.stat < dfgls_stock_close.critical_values['5%'])) == True:\n",
    "                var_model_df_4v = pd.DataFrame(data=(cds, pecds, vix, stock_close)).T\n",
    "                continue\n",
    "                \n",
    "            else:\n",
    "                ## try one last difference\n",
    "                cds = cds.pct_change().dropna()\n",
    "                pecds = pecds.pct_change().dropna()\n",
    "                vix = vix.pct_change().dropna()\n",
    "                stock_close = stock_close.pct_change().dropna()\n",
    "\n",
    "                ## re-run ADF test\n",
    "                dfgls_cds = DFGLS(cds, trend='c', max_lags=10, method='BIC')\n",
    "                dfgls_pecds = DFGLS(pecds, trend='c', max_lags=10, method='BIC')\n",
    "                dfgls_vix = DFGLS(vix, trend='c', max_lags=10, method='BIC')\n",
    "                dfgls_stock_close = DFGLS(stock_close, trend='c', max_lags=10, method='BIC') \n",
    "                \n",
    "                if ((dfgls_cds.stat < dfgls_cds.critical_values['5%']) and \n",
    "                 (dfgls_pecds.stat < dfgls_pecds.critical_values['5%']) and \n",
    "                 (dfgls_vix.stat < dfgls_vix.critical_values['5%']) and \n",
    "                 (dfgls_stock_close.stat < dfgls_stock_close.critical_values['5%'])) == True:\n",
    "                    var_model_df_4v = pd.DataFrame(data=(cds, pecds, vix, stock_close)).T     \n",
    "                    continue\n",
    "            \n",
    "            #first_dif_counter += 1\n",
    "            \n",
    "            try:\n",
    "                model = smt.VAR(var_model_df_4v)\n",
    "                    \n",
    "                max_lags_bic = model.select_order(maxlags=10).bic\n",
    "                \n",
    "                if max_lags_bic == 0:\n",
    "                    max_lags_bic = 1\n",
    "\n",
    "                res = model.fit(maxlags=max_lags_bic)\n",
    "\n",
    "                ## test bonds on CDS causality ## \n",
    "                res_causality_bond = res.test_causality(causing=['pecds'], \n",
    "                    caused=['market_cds_spread'], kind='wald', signif=0.05)  \n",
    "\n",
    "                ## test CDS on bonds causality ## \n",
    "                res_causality_cds = res.test_causality(causing=['market_cds_spread'], \n",
    "                    caused=['pecds'], kind='wald', signif=0.05) \n",
    "\n",
    "                ## test VIX / Stock Closing Price Jointly on CDS causality ## \n",
    "                res_causality_vixstock_cds = res.test_causality(causing=['cboe_vix','price_close'], \n",
    "                    caused=['market_cds_spread'], kind='wald', signif=0.05) \n",
    "\n",
    "                ## test VIX / Stock Closing Price Jointly on PECDS causality ##\n",
    "                res_causality_vixstock_bond = res.test_causality(causing=['cboe_vix','price_close'], \n",
    "                    caused=['pecds'], kind='wald', signif=0.05)\n",
    "\n",
    "                ## test VIX on closing price ##\n",
    "                res_causality_vix_on_stock = res.test_causality(causing=['cboe_vix'], \n",
    "                    caused=['price_close'], kind='wald', signif=0.05) \n",
    "\n",
    "                ## calculate spearmanr coefficient of VIX / stock_close ## \n",
    "                vix_stock_close_spearman_corr = np.round(stats.spearmanr(vix, stock_close), 4)\n",
    "\n",
    "                \n",
    "                ## append items only after all GRANGER CAUSALITY TESTS ARE CONFIRMED\n",
    "                granger_causality_dict_4v['vix_on_stock'].append(res_causality_vix_on_stock.conclusion)\n",
    "                granger_causality_dict_4v['vix_stock_on_bond'].append(res_causality_vixstock_bond.conclusion)\n",
    "                granger_causality_dict_4v['vix_stock_on_cds'].append(res_causality_vixstock_cds.conclusion)\n",
    "                granger_causality_dict_4v['cds_on_bond'].append(res_causality_cds.conclusion)\n",
    "                granger_causality_dict_4v['bond_on_cds'].append(res_causality_bond.conclusion)\n",
    "                granger_causality_dict_4v['vix_stock_corr'].append(vix_stock_close_spearman_corr)\n",
    "                \n",
    "\n",
    "            except (ValueError, np.linalg.LinAlgError) as var_model_errors:\n",
    "                error_counter_var +=1 \n",
    "                granger_causality_dict_4v['bond_on_cds'].append(np.nan)\n",
    "                granger_causality_dict_4v['cds_on_bond'].append(np.nan)\n",
    "                granger_causality_dict_4v['vix_stock_on_cds'].append(np.nan)\n",
    "                granger_causality_dict_4v['vix_stock_on_bond'].append(np.nan)    \n",
    "                granger_causality_dict_4v['vix_on_stock'].append(np.nan)\n",
    "                granger_causality_dict_4v['vix_stock_corr'].append(np.nan)\n",
    "                \n",
    "        \n",
    "        else:\n",
    "\n",
    "            cds = cds.pct_change().dropna()\n",
    "            pecds = pecds.pct_change().dropna()\n",
    "            vix = vix.pct_change().dropna()\n",
    "            stock_close = stock_close.pct_change().dropna()\n",
    "\n",
    "            dfgls_cds = DFGLS(cds, trend='c', max_lags=10, method='BIC')\n",
    "            dfgls_pecds = DFGLS(pecds, trend='c', max_lags=10, method='BIC')\n",
    "            dfgls_vix = DFGLS(vix, trend='c', max_lags=10, method='BIC')\n",
    "            dfgls_stock_close = DFGLS(stock_close, trend='c', max_lags=10, method='BIC')\n",
    "\n",
    "            if ((dfgls_cds.stat < dfgls_cds.critical_values['5%']) and \n",
    "             (dfgls_pecds.stat < dfgls_pecds.critical_values['5%']) and \n",
    "             (dfgls_vix.stat < dfgls_vix.critical_values['5%']) and \n",
    "             (dfgls_stock_close.stat < dfgls_stock_close.critical_values['5%'])) == True:\n",
    "                var_model_df_4v = pd.DataFrame(data=(cds, pecds, vix, stock_close)).T\n",
    "                \n",
    "                try: \n",
    "                    model = smt.VAR(var_model_df_4v)\n",
    "                    \n",
    "                    max_lags_bic = model.select_order(maxlags=10).bic\n",
    "                    \n",
    "                    if max_lags_bic ==0:\n",
    "                        max_lags_bic = 1\n",
    "                    \n",
    "                    res = model.fit(maxlags=max_lags_bic)\n",
    "                    \n",
    "                    ## test bonds on CDS causality ## \n",
    "                    res_causality_bond = res.test_causality(causing=['pecds'], \n",
    "                        caused=['market_cds_spread'], kind='wald', signif=0.05)  \n",
    "                    \n",
    "\n",
    "                    \n",
    "                    \n",
    "                    ## test CDS on bonds causality ## \n",
    "                    res_causality_cds = res.test_causality(causing=['market_cds_spread'], \n",
    "                        caused=['pecds'], kind='wald', signif=0.05) \n",
    "                    \n",
    "\n",
    "                    \n",
    "\n",
    "                    ## test VIX / Stock Closing Price Jointly on CDS causality ## \n",
    "                    res_causality_vixstock_cds = res.test_causality(causing=['cboe_vix','price_close'], \n",
    "                        caused=['market_cds_spread'], kind='wald', signif=0.05) \n",
    "                    \n",
    "\n",
    "                    \n",
    "                    \n",
    "                    ## test VIX / Stock Closing Price Jointly on PECDS causality ##\n",
    "                    res_causality_vixstock_bond = res.test_causality(causing=['cboe_vix','price_close'], \n",
    "                        caused=['pecds'], kind='wald', signif=0.05)\n",
    "                    \n",
    "\n",
    "                    \n",
    "                    \n",
    "                    ## test VIX on closing price ##\n",
    "                    res_causality_vix_on_stock = res.test_causality(causing=['cboe_vix'], \n",
    "                        caused=['price_close'], kind='wald', signif=0.05) \n",
    "                    \n",
    "\n",
    "                    \n",
    "                    \n",
    "                    ## calculate spearmanr coefficient of VIX / stock_close ## \n",
    "                    vix_stock_close_spearman_corr = np.round(stats.spearmanr(vix, stock_close), 4)\n",
    "                    \n",
    "                    \n",
    "                    ## append items after all GCT have been run\n",
    "                    granger_causality_dict_4v['vix_on_stock'].append(res_causality_vix_on_stock.conclusion)\n",
    "                    granger_causality_dict_4v['vix_stock_on_bond'].append(res_causality_vixstock_bond.conclusion)\n",
    "                    granger_causality_dict_4v['vix_stock_on_cds'].append(res_causality_vixstock_cds.conclusion)\n",
    "                    granger_causality_dict_4v['cds_on_bond'].append(res_causality_cds.conclusion)\n",
    "                    granger_causality_dict_4v['bond_on_cds'].append(res_causality_bond.conclusion)\n",
    "                    granger_causality_dict_4v['vix_stock_corr'].append(vix_stock_close_spearman_corr)\n",
    "                    \n",
    "                    \n",
    "\n",
    "                    \n",
    "                except (ValueError, np.linalg.LinAlgError) as var_model_errors:\n",
    "                    error_counter_var +=1 \n",
    "                    granger_causality_dict_4v['bond_on_cds'].append(np.nan)\n",
    "                    granger_causality_dict_4v['cds_on_bond'].append(np.nan)\n",
    "                    granger_causality_dict_4v['vix_stock_on_cds'].append(np.nan)\n",
    "                    granger_causality_dict_4v['vix_stock_on_bond'].append(np.nan)    \n",
    "                    granger_causality_dict_4v['vix_on_stock'].append(np.nan)\n",
    "                    granger_causality_dict_4v['vix_stock_corr'].append(np.nan)\n",
    "\n",
    "            else:\n",
    "                #print(\"1st Differences Not Jointly Stationary\")\n",
    "                second_dif_counter += 1\n",
    "        \n",
    "                granger_causality_dict_4v['bond_on_cds'].append(\"First_Diff_NS\")\n",
    "                granger_causality_dict_4v['cds_on_bond'].append(\"First_Diff_NS\")\n",
    "                granger_causality_dict_4v['vix_stock_on_cds'].append(\"First_Diff_NS\")\n",
    "                granger_causality_dict_4v['vix_stock_on_bond'].append(\"First_Diff_NS\")   \n",
    "                granger_causality_dict_4v['vix_on_stock'].append(\"First_Diff_NS\")\n",
    "                granger_causality_dict_4v['vix_stock_corr'].append(\"First_Diff_NS\")\n",
    "\n",
    "                \n",
    "                \n",
    "                ##### add in 2nd differences \n",
    "                ## add in error (1st differences not jointly stat)\n",
    "\n",
    "\n",
    "            \n",
    "        #granger_causality_dict_4v['stock'].append(dfgls_stock_close.stat)\n",
    "            \n",
    "            \n",
    "    except (ValueError, np.linalg.LinAlgError, InfeasibleTestException) as dfgls_errors:\n",
    "        error_counter_dfgls += 1\n",
    "        #granger_causality_dict_4v['stock'].append(\"ERROR\")\n",
    "        granger_causality_dict_4v['bond_on_cds'].append(np.nan)\n",
    "        granger_causality_dict_4v['cds_on_bond'].append(np.nan)\n",
    "        granger_causality_dict_4v['vix_stock_on_cds'].append(np.nan)\n",
    "        granger_causality_dict_4v['vix_stock_on_bond'].append(np.nan)    \n",
    "        granger_causality_dict_4v['vix_on_stock'].append(np.nan)\n",
    "        granger_causality_dict_4v['vix_stock_corr'].append(np.nan)\n",
    "\n",
    "        \n",
    "        \n",
    "granger_causality_4v_df = pd.DataFrame.from_dict(granger_causality_dict_4v)        \n",
    "\n",
    "print(\"DFGLS ERRORS: {}\".format(error_counter_dfgls),'\\n', \n",
    "     \"VAR MODEL ERRORS: {}\".format(error_counter_var))%%time \n",
    "\n",
    "warnings.filterwarnings(\"ignore\") \n",
    "\n",
    "## initialise the dictionary\n",
    "granger_causality_dict_4v = collections.defaultdict(list)\n",
    "\n",
    "## initialise error counters by type\n",
    "error_counter_dfgls = 0\n",
    "#value_error_counter_dfgls = 0\n",
    "error_counter_var = 0\n",
    "\n",
    "## problem instances ##\n",
    "unique_gct_4v_problem_instances = []\n",
    "\n",
    "first_dif_counter = 0\n",
    "second_dif_counter = 0\n",
    "\n",
    "                              \n",
    "## run the regression loop by GVKEY group:\n",
    "for i, val in enumerate(sorted_alldata_df_final_adf_results.groupby('gvkey')):  \n",
    "    gvkey = val[0]\n",
    "    data = val[1]\n",
    "    granger_causality_dict_4v['gvkey'].append(gvkey)  \n",
    "    sector_string = data.sector\n",
    "    granger_causality_dict_4v['sector'].append(sector_string.iloc[0]) \n",
    "\n",
    "    \n",
    "    \n",
    "    ## if all series are jointly stationary - apply the VAR model in-levels\n",
    "    ## else take the first difference of each series and apply the VAR model in-differences\n",
    "    try:\n",
    "        \n",
    "        cds = data.market_cds_spread \n",
    "        pecds = data.pecds\n",
    "        vix = data.cboe_vix\n",
    "        stock_close = data.price_close\n",
    "\n",
    "        if stock_close.isna().any() == True:\n",
    "            stock_close = stock_close.fillna(method='ffill')  \n",
    "\n",
    "        #if np.allclose(cds, pecds, vix, stock_close) == False:\n",
    "        #    print(len(cds), len(pecds), len(vix), len(stock_close))\n",
    "        #    all_close_counter += 1\n",
    "            #raise ValueError(\"Different Length Series\")\n",
    "\n",
    "\n",
    "        ## add try here \n",
    "        dfgls_cds = DFGLS(cds, trend='c', max_lags=10, method='BIC')\n",
    "        dfgls_pecds = DFGLS(pecds, trend='c', max_lags=10, method='BIC')\n",
    "        dfgls_vix = DFGLS(vix, trend='c', max_lags=10, method='BIC')\n",
    "        dfgls_stock_close = DFGLS(stock_close, trend='c', max_lags=10, method='BIC')\n",
    "\n",
    "        if ((dfgls_cds.stat < dfgls_cds.critical_values['5%']) and \n",
    "         (dfgls_pecds.stat < dfgls_pecds.critical_values['5%']) and \n",
    "         (dfgls_vix.stat < dfgls_vix.critical_values['5%']) and \n",
    "         (dfgls_stock_close.stat < dfgls_stock_close.critical_values['5%'])) == True:\n",
    "            var_model_df_4v = pd.DataFrame(data=(cds, pecds, vix, stock_close)).T\n",
    "            \n",
    "        elif ((dfgls_cds.stat < dfgls_cds.critical_values['5%']) or \n",
    "         (dfgls_pecds.stat < dfgls_pecds.critical_values['5%']) or \n",
    "         (dfgls_vix.stat < dfgls_vix.critical_values['5%']) or \n",
    "         (dfgls_stock_close.stat < dfgls_stock_close.critical_values['5%'])):\n",
    "            \n",
    "            ## take the first differences of each series\n",
    "            cds = cds.pct_change().dropna()\n",
    "            pecds = pecds.pct_change().dropna()\n",
    "            vix = vix.pct_change().dropna()\n",
    "            stock_close = stock_close.pct_change().dropna()\n",
    "\n",
    "            ## re-run ADF test\n",
    "            dfgls_cds = DFGLS(cds, trend='c', max_lags=10, method='BIC')\n",
    "            dfgls_pecds = DFGLS(pecds, trend='c', max_lags=10, method='BIC')\n",
    "            dfgls_vix = DFGLS(vix, trend='c', max_lags=10, method='BIC')\n",
    "            dfgls_stock_close = DFGLS(stock_close, trend='c', max_lags=10, method='BIC')\n",
    "\n",
    "            ##\n",
    "            if ((dfgls_cds.stat < dfgls_cds.critical_values['5%']) and \n",
    "             (dfgls_pecds.stat < dfgls_pecds.critical_values['5%']) and \n",
    "             (dfgls_vix.stat < dfgls_vix.critical_values['5%']) and \n",
    "             (dfgls_stock_close.stat < dfgls_stock_close.critical_values['5%'])) == True:\n",
    "                var_model_df_4v = pd.DataFrame(data=(cds, pecds, vix, stock_close)).T\n",
    "                continue\n",
    "                \n",
    "            else:\n",
    "                ## try one last difference\n",
    "                cds = cds.pct_change().dropna()\n",
    "                pecds = pecds.pct_change().dropna()\n",
    "                vix = vix.pct_change().dropna()\n",
    "                stock_close = stock_close.pct_change().dropna()\n",
    "\n",
    "                ## re-run ADF test\n",
    "                dfgls_cds = DFGLS(cds, trend='c', max_lags=10, method='BIC')\n",
    "                dfgls_pecds = DFGLS(pecds, trend='c', max_lags=10, method='BIC')\n",
    "                dfgls_vix = DFGLS(vix, trend='c', max_lags=10, method='BIC')\n",
    "                dfgls_stock_close = DFGLS(stock_close, trend='c', max_lags=10, method='BIC') \n",
    "                \n",
    "                if ((dfgls_cds.stat < dfgls_cds.critical_values['5%']) and \n",
    "                 (dfgls_pecds.stat < dfgls_pecds.critical_values['5%']) and \n",
    "                 (dfgls_vix.stat < dfgls_vix.critical_values['5%']) and \n",
    "                 (dfgls_stock_close.stat < dfgls_stock_close.critical_values['5%'])) == True:\n",
    "                    var_model_df_4v = pd.DataFrame(data=(cds, pecds, vix, stock_close)).T     \n",
    "                    continue\n",
    "            \n",
    "            #first_dif_counter += 1\n",
    "            \n",
    "            try:\n",
    "                model = smt.VAR(var_model_df_4v)\n",
    "                    \n",
    "                max_lags_bic = model.select_order(maxlags=10).bic\n",
    "                \n",
    "                if max_lags_bic == 0:\n",
    "                    max_lags_bic = 1\n",
    "\n",
    "                res = model.fit(maxlags=max_lags_bic)\n",
    "\n",
    "                ## test bonds on CDS causality ## \n",
    "                res_causality_bond = res.test_causality(causing=['pecds'], \n",
    "                    caused=['market_cds_spread'], kind='wald', signif=0.05)  \n",
    "\n",
    "                ## test CDS on bonds causality ## \n",
    "                res_causality_cds = res.test_causality(causing=['market_cds_spread'], \n",
    "                    caused=['pecds'], kind='wald', signif=0.05) \n",
    "\n",
    "                ## test VIX / Stock Closing Price Jointly on CDS causality ## \n",
    "                res_causality_vixstock_cds = res.test_causality(causing=['cboe_vix','price_close'], \n",
    "                    caused=['market_cds_spread'], kind='wald', signif=0.05) \n",
    "\n",
    "                ## test VIX / Stock Closing Price Jointly on PECDS causality ##\n",
    "                res_causality_vixstock_bond = res.test_causality(causing=['cboe_vix','price_close'], \n",
    "                    caused=['pecds'], kind='wald', signif=0.05)\n",
    "\n",
    "                ## test VIX on closing price ##\n",
    "                res_causality_vix_on_stock = res.test_causality(causing=['cboe_vix'], \n",
    "                    caused=['price_close'], kind='wald', signif=0.05) \n",
    "\n",
    "                ## calculate spearmanr coefficient of VIX / stock_close ## \n",
    "                vix_stock_close_spearman_corr = np.round(stats.spearmanr(vix, stock_close), 4)\n",
    "\n",
    "                \n",
    "                ## append items only after all GRANGER CAUSALITY TESTS ARE CONFIRMED\n",
    "                granger_causality_dict_4v['vix_on_stock'].append(res_causality_vix_on_stock.conclusion)\n",
    "                granger_causality_dict_4v['vix_stock_on_bond'].append(res_causality_vixstock_bond.conclusion)\n",
    "                granger_causality_dict_4v['vix_stock_on_cds'].append(res_causality_vixstock_cds.conclusion)\n",
    "                granger_causality_dict_4v['cds_on_bond'].append(res_causality_cds.conclusion)\n",
    "                granger_causality_dict_4v['bond_on_cds'].append(res_causality_bond.conclusion)\n",
    "                granger_causality_dict_4v['vix_stock_corr'].append(vix_stock_close_spearman_corr)\n",
    "                \n",
    "\n",
    "            except (ValueError, np.linalg.LinAlgError) as var_model_errors:\n",
    "                error_counter_var +=1 \n",
    "                granger_causality_dict_4v['bond_on_cds'].append(np.nan)\n",
    "                granger_causality_dict_4v['cds_on_bond'].append(np.nan)\n",
    "                granger_causality_dict_4v['vix_stock_on_cds'].append(np.nan)\n",
    "                granger_causality_dict_4v['vix_stock_on_bond'].append(np.nan)    \n",
    "                granger_causality_dict_4v['vix_on_stock'].append(np.nan)\n",
    "                granger_causality_dict_4v['vix_stock_corr'].append(np.nan)\n",
    "                \n",
    "        \n",
    "        else:\n",
    "\n",
    "            cds = cds.pct_change().dropna()\n",
    "            pecds = pecds.pct_change().dropna()\n",
    "            vix = vix.pct_change().dropna()\n",
    "            stock_close = stock_close.pct_change().dropna()\n",
    "\n",
    "            dfgls_cds = DFGLS(cds, trend='c', max_lags=10, method='BIC')\n",
    "            dfgls_pecds = DFGLS(pecds, trend='c', max_lags=10, method='BIC')\n",
    "            dfgls_vix = DFGLS(vix, trend='c', max_lags=10, method='BIC')\n",
    "            dfgls_stock_close = DFGLS(stock_close, trend='c', max_lags=10, method='BIC')\n",
    "\n",
    "            if ((dfgls_cds.stat < dfgls_cds.critical_values['5%']) and \n",
    "             (dfgls_pecds.stat < dfgls_pecds.critical_values['5%']) and \n",
    "             (dfgls_vix.stat < dfgls_vix.critical_values['5%']) and \n",
    "             (dfgls_stock_close.stat < dfgls_stock_close.critical_values['5%'])) == True:\n",
    "                var_model_df_4v = pd.DataFrame(data=(cds, pecds, vix, stock_close)).T\n",
    "                \n",
    "                try: \n",
    "                    model = smt.VAR(var_model_df_4v)\n",
    "                    \n",
    "                    max_lags_bic = model.select_order(maxlags=10).bic\n",
    "                    \n",
    "                    if max_lags_bic ==0:\n",
    "                        max_lags_bic = 1\n",
    "                    \n",
    "                    res = model.fit(maxlags=max_lags_bic)\n",
    "                    \n",
    "                    ## test bonds on CDS causality ## \n",
    "                    res_causality_bond = res.test_causality(causing=['pecds'], \n",
    "                        caused=['market_cds_spread'], kind='wald', signif=0.05)  \n",
    "                    \n",
    "\n",
    "                    \n",
    "                    \n",
    "                    ## test CDS on bonds causality ## \n",
    "                    res_causality_cds = res.test_causality(causing=['market_cds_spread'], \n",
    "                        caused=['pecds'], kind='wald', signif=0.05) \n",
    "                    \n",
    "\n",
    "                    \n",
    "\n",
    "                    ## test VIX / Stock Closing Price Jointly on CDS causality ## \n",
    "                    res_causality_vixstock_cds = res.test_causality(causing=['cboe_vix','price_close'], \n",
    "                        caused=['market_cds_spread'], kind='wald', signif=0.05) \n",
    "                    \n",
    "\n",
    "                    \n",
    "                    \n",
    "                    ## test VIX / Stock Closing Price Jointly on PECDS causality ##\n",
    "                    res_causality_vixstock_bond = res.test_causality(causing=['cboe_vix','price_close'], \n",
    "                        caused=['pecds'], kind='wald', signif=0.05)\n",
    "                    \n",
    "\n",
    "                    \n",
    "                    \n",
    "                    ## test VIX on closing price ##\n",
    "                    res_causality_vix_on_stock = res.test_causality(causing=['cboe_vix'], \n",
    "                        caused=['price_close'], kind='wald', signif=0.05) \n",
    "                    \n",
    "\n",
    "                    \n",
    "                    \n",
    "                    ## calculate spearmanr coefficient of VIX / stock_close ## \n",
    "                    vix_stock_close_spearman_corr = np.round(stats.spearmanr(vix, stock_close), 4)\n",
    "                    \n",
    "                    \n",
    "                    ## append items after all GCT have been run\n",
    "                    granger_causality_dict_4v['vix_on_stock'].append(res_causality_vix_on_stock.conclusion)\n",
    "                    granger_causality_dict_4v['vix_stock_on_bond'].append(res_causality_vixstock_bond.conclusion)\n",
    "                    granger_causality_dict_4v['vix_stock_on_cds'].append(res_causality_vixstock_cds.conclusion)\n",
    "                    granger_causality_dict_4v['cds_on_bond'].append(res_causality_cds.conclusion)\n",
    "                    granger_causality_dict_4v['bond_on_cds'].append(res_causality_bond.conclusion)\n",
    "                    granger_causality_dict_4v['vix_stock_corr'].append(vix_stock_close_spearman_corr)\n",
    "                    \n",
    "                    \n",
    "\n",
    "                    \n",
    "                except (ValueError, np.linalg.LinAlgError) as var_model_errors:\n",
    "                    error_counter_var +=1 \n",
    "                    granger_causality_dict_4v['bond_on_cds'].append(np.nan)\n",
    "                    granger_causality_dict_4v['cds_on_bond'].append(np.nan)\n",
    "                    granger_causality_dict_4v['vix_stock_on_cds'].append(np.nan)\n",
    "                    granger_causality_dict_4v['vix_stock_on_bond'].append(np.nan)    \n",
    "                    granger_causality_dict_4v['vix_on_stock'].append(np.nan)\n",
    "                    granger_causality_dict_4v['vix_stock_corr'].append(np.nan)\n",
    "\n",
    "            else:\n",
    "                #print(\"1st Differences Not Jointly Stationary\")\n",
    "                second_dif_counter += 1\n",
    "        \n",
    "                granger_causality_dict_4v['bond_on_cds'].append(\"First_Diff_NS\")\n",
    "                granger_causality_dict_4v['cds_on_bond'].append(\"First_Diff_NS\")\n",
    "                granger_causality_dict_4v['vix_stock_on_cds'].append(\"First_Diff_NS\")\n",
    "                granger_causality_dict_4v['vix_stock_on_bond'].append(\"First_Diff_NS\")   \n",
    "                granger_causality_dict_4v['vix_on_stock'].append(\"First_Diff_NS\")\n",
    "                granger_causality_dict_4v['vix_stock_corr'].append(\"First_Diff_NS\")\n",
    "\n",
    "                \n",
    "                \n",
    "                ##### add in 2nd differences \n",
    "                ## add in error (1st differences not jointly stat)\n",
    "\n",
    "\n",
    "            \n",
    "        #granger_causality_dict_4v['stock'].append(dfgls_stock_close.stat)\n",
    "            \n",
    "            \n",
    "    except (ValueError, np.linalg.LinAlgError, InfeasibleTestException) as dfgls_errors:\n",
    "        error_counter_dfgls += 1\n",
    "        #granger_causality_dict_4v['stock'].append(\"ERROR\")\n",
    "        granger_causality_dict_4v['bond_on_cds'].append(np.nan)\n",
    "        granger_causality_dict_4v['cds_on_bond'].append(np.nan)\n",
    "        granger_causality_dict_4v['vix_stock_on_cds'].append(np.nan)\n",
    "        granger_causality_dict_4v['vix_stock_on_bond'].append(np.nan)    \n",
    "        granger_causality_dict_4v['vix_on_stock'].append(np.nan)\n",
    "        granger_causality_dict_4v['vix_stock_corr'].append(np.nan)\n",
    "\n",
    "        \n",
    "        \n",
    "granger_causality_4v_df = pd.DataFrame.from_dict(granger_causality_dict_4v)        \n",
    "\n",
    "print(\"DFGLS ERRORS: {}\".format(error_counter_dfgls),'\\n', \n",
    "     \"VAR MODEL ERRORS: {}\".format(error_counter_var))"
   ]
  },
  {
   "cell_type": "code",
   "execution_count": null,
   "metadata": {},
   "outputs": [],
   "source": []
  },
  {
   "cell_type": "markdown",
   "metadata": {},
   "source": [
    "## attempt to get up to 3rd differences in VAR"
   ]
  },
  {
   "cell_type": "code",
   "execution_count": null,
   "metadata": {},
   "outputs": [],
   "source": [
    "%%time \n",
    "\n",
    "warnings.filterwarnings(\"ignore\") \n",
    "\n",
    "rand_2nd_counter_dfgls = 0\n",
    "\n",
    "## initialise the dictionary\n",
    "granger_causality_dict_4v = collections.defaultdict(list)\n",
    "\n",
    "## initialise error counters by type\n",
    "dfgls_errors_s1 = 0\n",
    "dfgls_errors_s2 = 0\n",
    "dfgls_errors_s3 = 0 \n",
    "error_counter_var = 0\n",
    "\n",
    "## problem instances ##\n",
    "unique_gct_4v_problem_instances = []\n",
    "\n",
    "in_levels_counter = 0\n",
    "first_dif_counter = 0\n",
    "second_dif_counter = 0\n",
    "third_dif_ns_count = 0 \n",
    "                              \n",
    "## run the regression loop by GVKEY group:\n",
    "for i, val in enumerate(sorted_alldata_df_final_adf_results.groupby('gvkey')):  \n",
    "    gvkey = val[0]\n",
    "    data = val[1]\n",
    "    granger_causality_dict_4v['gvkey'].append(gvkey)  \n",
    "    sector_string = data.sector\n",
    "    granger_causality_dict_4v['sector'].append(sector_string.iloc[0]) \n",
    "    \n",
    "    cds = data.market_cds_spread \n",
    "    pecds = data.pecds\n",
    "    vix = data.cboe_vix\n",
    "    stock_close = data.price_close\n",
    "\n",
    "    if stock_close.isna().any() == True:\n",
    "        stock_close = stock_close.fillna(method='ffill')  \n",
    "        \n",
    "\n",
    "    try: \n",
    "        try:\n",
    "            \n",
    "            dfgls_cds = DFGLS(cds, trend='c', max_lags=10, method='BIC')\n",
    "            dfgls_pecds = DFGLS(pecds, trend='c', max_lags=10, method='BIC')\n",
    "            dfgls_vix = DFGLS(vix, trend='c', max_lags=10, method='BIC')\n",
    "            dfgls_stock_close = DFGLS(stock_close, trend='c', max_lags=10, method='BIC')\n",
    "            \n",
    "        except (ValueError, np.linalg.LinAlgError, InfeasibleTestException) as dfgls_errors_s1:\n",
    "            dfgls_errors_s1 += 1    \n",
    "            \n",
    "            granger_causality_dict_4v['bond_on_cds'].append(\"DFGLS_ERR_S1\")\n",
    "            granger_causality_dict_4v['cds_on_bond'].append(\"DFGLS_ERR_S1\")\n",
    "            granger_causality_dict_4v['vix_stock_on_cds'].append(\"DFGLS_ERR_S1\")\n",
    "            granger_causality_dict_4v['vix_stock_on_bond'].append(\"DFGLS_ERR_S1\")    \n",
    "            granger_causality_dict_4v['vix_on_stock'].append(\"DFGLS_ERR_S1\")\n",
    "            granger_causality_dict_4v['vix_stock_corr'].append(\"DFGLS_ERR_S1\")\n",
    "            \n",
    "        if ((dfgls_cds.stat < dfgls_cds.critical_values['5%']) and \n",
    "         (dfgls_pecds.stat < dfgls_pecds.critical_values['5%']) and \n",
    "         (dfgls_vix.stat < dfgls_vix.critical_values['5%']) and \n",
    "         (dfgls_stock_close.stat < dfgls_stock_close.critical_values['5%'])) == True:\n",
    "\n",
    "            ## initialise the DF in levels\n",
    "            var_model_df_4v = pd.DataFrame(data=(cds, pecds, vix, stock_close)).T\n",
    "\n",
    "            in_levels_counter += 1\n",
    "\n",
    "        else:\n",
    "        \n",
    "            ## take first differences of each series & re-run the DFGLS tests\n",
    "            cds = cds.pct_change().dropna()\n",
    "            pecds = pecds.pct_change().dropna()\n",
    "            vix = vix.pct_change().dropna()\n",
    "            stock_close = stock_close.pct_change().dropna()\n",
    "\n",
    "            try:\n",
    "                dfgls_cds = DFGLS(cds, trend='c', max_lags=10, method='BIC')\n",
    "                dfgls_pecds = DFGLS(pecds, trend='c', max_lags=10, method='BIC')\n",
    "                dfgls_vix = DFGLS(vix, trend='c', max_lags=10, method='BIC')\n",
    "                dfgls_stock_close = DFGLS(stock_close, trend='c', max_lags=10, method='BIC')\n",
    "                 \n",
    "                \n",
    "            except (ValueError, np.linalg.LinAlgError, InfeasibleTestException) as dfgls_errors_second_diff:\n",
    "                dfgls_errors_s2 += 1\n",
    "                 \n",
    "            \n",
    "            ## re-check for stationarity\n",
    "            if ((dfgls_cds.stat < dfgls_cds.critical_values['5%']) and \n",
    "             (dfgls_pecds.stat < dfgls_pecds.critical_values['5%']) and \n",
    "             (dfgls_vix.stat < dfgls_vix.critical_values['5%']) and \n",
    "             (dfgls_stock_close.stat < dfgls_stock_close.critical_values['5%'])) == True:\n",
    "                \n",
    "                ## initialise the DF in (1st) differences\n",
    "                var_model_df_4v = pd.DataFrame(data=(cds, pecds, vix, stock_close)).T\n",
    "\n",
    "                first_dif_counter += 1\n",
    "                \n",
    "            else:\n",
    "                \n",
    "                \n",
    "                \n",
    "                ## take the 2nd differences & re-run\n",
    "                cds = cds.pct_change().dropna()\n",
    "                pecds = pecds.pct_change().dropna()\n",
    "                vix = vix.pct_change().dropna()\n",
    "                stock_close = stock_close.pct_change().dropna()\n",
    "                \n",
    "                #try:\n",
    "\n",
    "                dfgls_cds_2d = DFGLS(cds, trend='c', max_lags=10, method='BIC')\n",
    "                dfgls_pecds_2d = DFGLS(pecds, trend='c', max_lags=10, method='BIC')\n",
    "                dfgls_vix_2d = DFGLS(vix, trend='c', max_lags=10, method='BIC')\n",
    "                dfgls_stock_close_2d = DFGLS(stock_close, trend='c', max_lags=10, method='BIC')\n",
    "\n",
    "                rand_2nd_counter_dfgls += 1\n",
    "                    \n",
    "                #except (ValueError, np.linalg.LinAlgError, InfeasibleTestException) as dfgls_errors_third_dif:\n",
    "                #    print(\"DFGLS 3rd DIFF ERROR: \", str(dfgls_errors_third_dif.args))\n",
    "                #    dfgls_errors_s3 += 1\n",
    "                \n",
    "                ## re-check for stationarity\n",
    "                if ((dfgls_cds_2d.stat < dfgls_cds_2d.critical_values['5%']) and \n",
    "                 (dfgls_pecds_2d.stat < dfgls_pecds_2d.critical_values['5%']) and \n",
    "                 (dfgls_vix_2d.stat < dfgls_vix_2d.critical_values['5%']) and \n",
    "                 (dfgls_stock_close_2d.stat < dfgls_stock_close_2d.critical_values['5%'])) == True:\n",
    "\n",
    "                    ## initialise the DF in (1st) differences\n",
    "                    var_model_df_4v = pd.DataFrame(data=(cds, pecds, vix, stock_close)).T\n",
    "\n",
    "                    second_dif_counter += 1\n",
    "                    continue \n",
    "                    \n",
    "                else:\n",
    "                    \n",
    "                    ## only apply in levels up to (2) differences; lest all the causality of the series be eliminated\n",
    "                    \n",
    "                    #granger_causality_dict_4v['bond_on_cds'].append(\"2nd_diff_ns\")\n",
    "                    #granger_causality_dict_4v['cds_on_bond'].append(\"2nd_diff_ns\")\n",
    "                    #granger_causality_dict_4v['vix_stock_on_cds'].append(\"2nd_diff_ns\")\n",
    "                    #granger_causality_dict_4v['vix_stock_on_bond'].append(\"2nd_diff_ns\")    \n",
    "                    #granger_causality_dict_4v['vix_on_stock'].append(\"2nd_diff_ns\")\n",
    "                    #granger_causality_dict_4v['vix_stock_corr'].append(\"2nd_diff_ns\")\n",
    "                    \n",
    "                    third_dif_ns_count += 1\n",
    "                    print(\"3rd dif NS\")\n",
    "                    pass\n",
    "                    #pass\n",
    "                    \n",
    "                    \n",
    "\n",
    "                    \n",
    "        ## run the model # #\n",
    "        model = smt.VAR(var_model_df_4v)\n",
    "                    \n",
    "        max_lags_bic = model.select_order(maxlags=10).bic\n",
    "\n",
    "        if max_lags_bic == 0:\n",
    "            max_lags_bic = 1\n",
    "\n",
    "        res = model.fit(maxlags=max_lags_bic)\n",
    "\n",
    "        ## test bonds on CDS causality ## \n",
    "        res_causality_bond = res.test_causality(causing=['pecds'], \n",
    "            caused=['market_cds_spread'], kind='wald', signif=0.05)  \n",
    "\n",
    "        ## test CDS on bonds causality ## \n",
    "        res_causality_cds = res.test_causality(causing=['market_cds_spread'], \n",
    "            caused=['pecds'], kind='wald', signif=0.05) \n",
    "\n",
    "        ## test VIX / Stock Closing Price Jointly on CDS causality ## \n",
    "        res_causality_vixstock_cds = res.test_causality(causing=['cboe_vix','price_close'], \n",
    "            caused=['market_cds_spread'], kind='wald', signif=0.05) \n",
    "\n",
    "        ## test VIX / Stock Closing Price Jointly on PECDS causality ##\n",
    "        res_causality_vixstock_bond = res.test_causality(causing=['cboe_vix','price_close'], \n",
    "            caused=['pecds'], kind='wald', signif=0.05)\n",
    "\n",
    "        ## test VIX on closing price ##\n",
    "        res_causality_vix_on_stock = res.test_causality(causing=['cboe_vix'], \n",
    "            caused=['price_close'], kind='wald', signif=0.05) \n",
    "\n",
    "        ## calculate spearmanr coefficient of VIX / stock_close ## \n",
    "        vix_stock_close_spearman_corr = np.round(stats.spearmanr(vix, stock_close), 4)\n",
    "\n",
    "        ## append items only after all GRANGER CAUSALITY TESTS ARE CONFIRMED\n",
    "        granger_causality_dict_4v['vix_on_stock'].append(res_causality_vix_on_stock.conclusion)\n",
    "        granger_causality_dict_4v['vix_stock_on_bond'].append(res_causality_vixstock_bond.conclusion)\n",
    "        granger_causality_dict_4v['vix_stock_on_cds'].append(res_causality_vixstock_cds.conclusion)\n",
    "        granger_causality_dict_4v['cds_on_bond'].append(res_causality_cds.conclusion)\n",
    "        granger_causality_dict_4v['bond_on_cds'].append(res_causality_bond.conclusion)\n",
    "        granger_causality_dict_4v['vix_stock_corr'].append(vix_stock_close_spearman_corr[0])     \n",
    "        \n",
    "    except (ValueError, np.linalg.LinAlgError, InfeasibleTestException) as vme:\n",
    "        \n",
    "        var_model_err_instance = str(vme.args)\n",
    "        if var_model_err_instance not in unique_gct_4v_problem_instances:\n",
    "            print(\"NOVEL VAR MODEL ERROR- ROW: {}, GVKEY: {}, REASON: {}\".format(i, gvkey, vme), '\\n')\n",
    "            unique_gct_4v_problem_instances.append(var_model_err_instance)\n",
    "        \n",
    "        error_counter_var +=1 \n",
    "        granger_causality_dict_4v['bond_on_cds'].append(np.nan)\n",
    "        granger_causality_dict_4v['cds_on_bond'].append(np.nan)\n",
    "        granger_causality_dict_4v['vix_stock_on_cds'].append(np.nan)\n",
    "        granger_causality_dict_4v['vix_stock_on_bond'].append(np.nan)    \n",
    "        granger_causality_dict_4v['vix_on_stock'].append(np.nan)\n",
    "        granger_causality_dict_4v['vix_stock_corr'].append(np.nan)\n",
    "\n",
    "            \n",
    "            \n",
    "            \n",
    "## construct the DF         \n",
    "granger_causality_4v_df = pd.DataFrame.from_dict(granger_causality_dict_4v)        \n",
    "\n",
    "print(\"  DFGLS ERRORS S1: {}\".format(dfgls_errors_s1),'\\n', \n",
    "      \" DFGLS ERRORS S2: {}\".format(dfgls_errors_s2),'\\n', \n",
    "      \" DFGLS ERRORS S3: {}\".format(dfgls_errors_s3),'\\n',  \n",
    "     \"VAR MODEL ERRORS: {}\".format(error_counter_var), '\\n', \"--\"*25, '\\n', \n",
    "      \"in levels counter: {}\".format(in_levels_counter), '\\n', \n",
    "      \"first_dif_counter: {}\".format(first_dif_counter), '\\n', \n",
    "     \"second_dif_counter: {}\".format(second_dif_counter), '\\n', \n",
    "     \"Total GVKEYS with non-stationary 2nd differences: {}\".format(third_dif_ns_count))        \n",
    "        \n"
   ]
  },
  {
   "cell_type": "code",
   "execution_count": null,
   "metadata": {},
   "outputs": [],
   "source": []
  },
  {
   "cell_type": "markdown",
   "metadata": {},
   "source": [
    "## OG CODE FOR 4V GCT TEST IN VAR \n",
    "* From ~ 10.03.2021"
   ]
  },
  {
   "cell_type": "code",
   "execution_count": null,
   "metadata": {},
   "outputs": [],
   "source": [
    "%%time \n",
    "\n",
    "## OG \n",
    "warnings.filterwarnings(\"ignore\") \n",
    "\n",
    "## initialise the dictionary\n",
    "granger_causality_dict_4v = collections.defaultdict(list)\n",
    "\n",
    "## initialise error counters by type\n",
    "error_counter_dfgls = 0\n",
    "#value_error_counter_dfgls = 0\n",
    "error_counter_var = 0\n",
    "\n",
    "## problem instances ##\n",
    "unique_gct_4v_problem_instances = []\n",
    "\n",
    "first_dif_counter = 0\n",
    "second_dif_counter = 0\n",
    "                              \n",
    "## run the regression loop by GVKEY group:\n",
    "for i, val in enumerate(sorted_alldata_df_final_adf_results.groupby('gvkey')):  \n",
    "    gvkey = val[0]\n",
    "    data = val[1]\n",
    "    granger_causality_dict_4v['gvkey'].append(gvkey)  \n",
    "    sector_string = data.sector\n",
    "    granger_causality_dict_4v['sector'].append(sector_string.iloc[0]) \n",
    "\n",
    "    ## if all series are jointly stationary - apply the VAR model in-levels\n",
    "    ## else take the first difference of each series and apply the VAR model in-differences\n",
    "    try:\n",
    "        \n",
    "        cds = data.market_cds_spread \n",
    "        pecds = data.pecds\n",
    "        vix = data.cboe_vix\n",
    "        stock_close = data.price_close\n",
    "\n",
    "        if stock_close.isna().any() == True:\n",
    "            stock_close = stock_close.fillna(method='ffill')  \n",
    "\n",
    "        #if np.allclose(cds, pecds, vix, stock_close) == False:\n",
    "        #    print(len(cds), len(pecds), len(vix), len(stock_close))\n",
    "        #    all_close_counter += 1\n",
    "            #raise ValueError(\"Different Length Series\")\n",
    "\n",
    "        ## add try here \n",
    "        dfgls_cds = DFGLS(cds, trend='c', max_lags=10, method='BIC')\n",
    "        dfgls_pecds = DFGLS(pecds, trend='c', max_lags=10, method='BIC')\n",
    "        dfgls_vix = DFGLS(vix, trend='c', max_lags=10, method='BIC')\n",
    "        dfgls_stock_close = DFGLS(stock_close, trend='c', max_lags=10, method='BIC')\n",
    "\n",
    "        if ((dfgls_cds.stat < dfgls_cds.critical_values['5%']) and \n",
    "         (dfgls_pecds.stat < dfgls_pecds.critical_values['5%']) and \n",
    "         (dfgls_vix.stat < dfgls_vix.critical_values['5%']) and \n",
    "         (dfgls_stock_close.stat < dfgls_stock_close.critical_values['5%'])) == True:\n",
    "            var_model_df_4v = pd.DataFrame(data=(cds, pecds, vix, stock_close)).T\n",
    "            \n",
    "            first_dif_counter += 1\n",
    "            \n",
    "            try:\n",
    "                model = smt.VAR(var_model_df_4v)\n",
    "                    \n",
    "                max_lags_bic = model.select_order(maxlags=10).bic\n",
    "                \n",
    "                if max_lags_bic == 0:\n",
    "                    max_lags_bic = 1\n",
    "\n",
    "                res = model.fit(maxlags=max_lags_bic)\n",
    "\n",
    "                ## test bonds on CDS causality ## \n",
    "                res_causality_bond = res.test_causality(causing=['pecds'], \n",
    "                    caused=['market_cds_spread'], kind='wald', signif=0.05)  \n",
    "\n",
    "                ## test CDS on bonds causality ## \n",
    "                res_causality_cds = res.test_causality(causing=['market_cds_spread'], \n",
    "                    caused=['pecds'], kind='wald', signif=0.05) \n",
    "\n",
    "                ## test VIX / Stock Closing Price Jointly on CDS causality ## \n",
    "                res_causality_vixstock_cds = res.test_causality(causing=['cboe_vix','price_close'], \n",
    "                    caused=['market_cds_spread'], kind='wald', signif=0.05) \n",
    "\n",
    "                ## test VIX / Stock Closing Price Jointly on PECDS causality ##\n",
    "                res_causality_vixstock_bond = res.test_causality(causing=['cboe_vix','price_close'], \n",
    "                    caused=['pecds'], kind='wald', signif=0.05)\n",
    "\n",
    "                ## test VIX on closing price ##\n",
    "                res_causality_vix_on_stock = res.test_causality(causing=['cboe_vix'], \n",
    "                    caused=['price_close'], kind='wald', signif=0.05) \n",
    "\n",
    "                ## calculate spearmanr coefficient of VIX / stock_close ## \n",
    "                vix_stock_close_spearman_corr = np.round(stats.spearmanr(vix, stock_close), 4)\n",
    "\n",
    "                ## append items only after all GRANGER CAUSALITY TESTS ARE CONFIRMED\n",
    "                granger_causality_dict_4v['vix_on_stock'].append(res_causality_vix_on_stock.conclusion)\n",
    "                granger_causality_dict_4v['vix_stock_on_bond'].append(res_causality_vixstock_bond.conclusion)\n",
    "                granger_causality_dict_4v['vix_stock_on_cds'].append(res_causality_vixstock_cds.conclusion)\n",
    "                granger_causality_dict_4v['cds_on_bond'].append(res_causality_cds.conclusion)\n",
    "                granger_causality_dict_4v['bond_on_cds'].append(res_causality_bond.conclusion)\n",
    "                granger_causality_dict_4v['vix_stock_corr'].append(vix_stock_close_spearman_corr)\n",
    "                \n",
    "            except (ValueError, np.linalg.LinAlgError) as var_model_errors:\n",
    "                error_counter_var +=1 \n",
    "                granger_causality_dict_4v['bond_on_cds'].append(np.nan)\n",
    "                granger_causality_dict_4v['cds_on_bond'].append(np.nan)\n",
    "                granger_causality_dict_4v['vix_stock_on_cds'].append(np.nan)\n",
    "                granger_causality_dict_4v['vix_stock_on_bond'].append(np.nan)    \n",
    "                granger_causality_dict_4v['vix_on_stock'].append(np.nan)\n",
    "                granger_causality_dict_4v['vix_stock_corr'].append(np.nan)\n",
    "                \n",
    "        else:\n",
    "            \n",
    "            \n",
    "\n",
    "            cds = cds.pct_change().dropna()\n",
    "            pecds = pecds.pct_change().dropna()\n",
    "            vix = vix.pct_change().dropna()\n",
    "            stock_close = stock_close.pct_change().dropna()\n",
    "\n",
    "            dfgls_cds = DFGLS(cds, trend='c', max_lags=10, method='BIC')\n",
    "            dfgls_pecds = DFGLS(pecds, trend='c', max_lags=10, method='BIC')\n",
    "            dfgls_vix = DFGLS(vix, trend='c', max_lags=10, method='BIC')\n",
    "            dfgls_stock_close = DFGLS(stock_close, trend='c', max_lags=10, method='BIC')\n",
    "\n",
    "            if ((dfgls_cds.stat < dfgls_cds.critical_values['5%']) and \n",
    "             (dfgls_pecds.stat < dfgls_pecds.critical_values['5%']) and \n",
    "             (dfgls_vix.stat < dfgls_vix.critical_values['5%']) and \n",
    "             (dfgls_stock_close.stat < dfgls_stock_close.critical_values['5%'])) == True:\n",
    "                var_model_df_4v = pd.DataFrame(data=(cds, pecds, vix, stock_close)).T\n",
    "                \n",
    "                try: \n",
    "                    model = smt.VAR(var_model_df_4v)\n",
    "                    \n",
    "                    max_lags_bic = model.select_order(maxlags=10).bic\n",
    "                    \n",
    "                    if max_lags_bic ==0:\n",
    "                        max_lags_bic = 1\n",
    "                    \n",
    "                    res = model.fit(maxlags=max_lags_bic)\n",
    "                    \n",
    "                    ## test bonds on CDS causality ## \n",
    "                    res_causality_bond = res.test_causality(causing=['pecds'], \n",
    "                        caused=['market_cds_spread'], kind='wald', signif=0.05)  \n",
    "                    \n",
    "                    ## test CDS on bonds causality ## \n",
    "                    res_causality_cds = res.test_causality(causing=['market_cds_spread'], \n",
    "                        caused=['pecds'], kind='wald', signif=0.05) \n",
    "                    \n",
    "                    ## test VIX / Stock Closing Price Jointly on CDS causality ## \n",
    "                    res_causality_vixstock_cds = res.test_causality(causing=['cboe_vix','price_close'], \n",
    "                        caused=['market_cds_spread'], kind='wald', signif=0.05) \n",
    "                    \n",
    "                    ## test VIX / Stock Closing Price Jointly on PECDS causality ##\n",
    "                    res_causality_vixstock_bond = res.test_causality(causing=['cboe_vix','price_close'], \n",
    "                        caused=['pecds'], kind='wald', signif=0.05)\n",
    "                    \n",
    "                    ## test VIX on closing price ##\n",
    "                    res_causality_vix_on_stock = res.test_causality(causing=['cboe_vix'], \n",
    "                        caused=['price_close'], kind='wald', signif=0.05) \n",
    "                    \n",
    "                    ## calculate spearmanr coefficient of VIX / stock_close ## \n",
    "                    vix_stock_close_spearman_corr = np.round(stats.spearmanr(vix, stock_close), 4)\n",
    "                    \n",
    "                    ## append items after all GCT have been run\n",
    "                    granger_causality_dict_4v['vix_on_stock'].append(res_causality_vix_on_stock.conclusion)\n",
    "                    granger_causality_dict_4v['vix_stock_on_bond'].append(res_causality_vixstock_bond.conclusion)\n",
    "                    granger_causality_dict_4v['vix_stock_on_cds'].append(res_causality_vixstock_cds.conclusion)\n",
    "                    granger_causality_dict_4v['cds_on_bond'].append(res_causality_cds.conclusion)\n",
    "                    granger_causality_dict_4v['bond_on_cds'].append(res_causality_bond.conclusion)\n",
    "                    granger_causality_dict_4v['vix_stock_corr'].append(vix_stock_close_spearman_corr[0])\n",
    "                    \n",
    "                except (ValueError, np.linalg.LinAlgError) as var_model_errors:\n",
    "                    error_counter_var +=1 \n",
    "                    granger_causality_dict_4v['bond_on_cds'].append(np.nan)\n",
    "                    granger_causality_dict_4v['cds_on_bond'].append(np.nan)\n",
    "                    granger_causality_dict_4v['vix_stock_on_cds'].append(np.nan)\n",
    "                    granger_causality_dict_4v['vix_stock_on_bond'].append(np.nan)    \n",
    "                    granger_causality_dict_4v['vix_on_stock'].append(np.nan)\n",
    "                    granger_causality_dict_4v['vix_stock_corr'].append(np.nan)\n",
    "\n",
    "            else:\n",
    "                #print(\"1st Differences Not Jointly Stationary\")\n",
    "                second_dif_counter += 1\n",
    "        \n",
    "                granger_causality_dict_4v['bond_on_cds'].append(\"First_Diff_NS\")\n",
    "                granger_causality_dict_4v['cds_on_bond'].append(\"First_Diff_NS\")\n",
    "                granger_causality_dict_4v['vix_stock_on_cds'].append(\"First_Diff_NS\")\n",
    "                granger_causality_dict_4v['vix_stock_on_bond'].append(\"First_Diff_NS\")   \n",
    "                granger_causality_dict_4v['vix_on_stock'].append(\"First_Diff_NS\")\n",
    "                granger_causality_dict_4v['vix_stock_corr'].append(\"First_Diff_NS\")\n",
    "\n",
    "                \n",
    "                ##### add in 2nd differences \n",
    "                ## add in error (1st differences not jointly stat)\n",
    "            \n",
    "    except (ValueError, np.linalg.LinAlgError, InfeasibleTestException) as dfgls_errors:\n",
    "        error_counter_dfgls += 1\n",
    "        #granger_causality_dict_4v['stock'].append(\"ERROR\")\n",
    "        granger_causality_dict_4v['bond_on_cds'].append(np.nan)\n",
    "        granger_causality_dict_4v['cds_on_bond'].append(np.nan)\n",
    "        granger_causality_dict_4v['vix_stock_on_cds'].append(np.nan)\n",
    "        granger_causality_dict_4v['vix_stock_on_bond'].append(np.nan)    \n",
    "        granger_causality_dict_4v['vix_on_stock'].append(np.nan)\n",
    "        granger_causality_dict_4v['vix_stock_corr'].append(np.nan)\n",
    "\n",
    "\n",
    "## construct the DF         \n",
    "granger_causality_4v_df = pd.DataFrame.from_dict(granger_causality_dict_4v)        \n",
    "\n",
    "print(\" DFGLS ERRORS: {}\".format(error_counter_dfgls),'\\n', \n",
    "     \"VAR MODEL ERRORS: {}\".format(error_counter_var))"
   ]
  },
  {
   "cell_type": "code",
   "execution_count": null,
   "metadata": {},
   "outputs": [],
   "source": []
  }
 ],
 "metadata": {
  "kernelspec": {
   "display_name": "Python 3",
   "language": "python",
   "name": "python3"
  },
  "language_info": {
   "codemirror_mode": {
    "name": "ipython",
    "version": 3
   },
   "file_extension": ".py",
   "mimetype": "text/x-python",
   "name": "python",
   "nbconvert_exporter": "python",
   "pygments_lexer": "ipython3",
   "version": "3.8.5"
  }
 },
 "nbformat": 4,
 "nbformat_minor": 4
}
