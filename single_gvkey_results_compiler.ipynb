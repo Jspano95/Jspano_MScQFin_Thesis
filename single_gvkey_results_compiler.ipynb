{
 "cells": [
  {
   "cell_type": "code",
   "execution_count": 1,
   "metadata": {
    "scrolled": true
   },
   "outputs": [],
   "source": [
    "## FUNCTION FOR DESCRIPTIVE STATISTICS: \n",
    "\n"
   ]
  },
  {
   "cell_type": "code",
   "execution_count": 10,
   "metadata": {
    "scrolled": true
   },
   "outputs": [],
   "source": [
    "## import packages ## \n",
    "import warnings\n",
    "import sys\n",
    "if not sys.warnoptions:\n",
    "    warnings.filterwarnings(\"once\")  \n",
    "\n",
    "## graphing packages ## \n",
    "import matplotlib.pyplot as plt\n",
    "import seaborn as sns\n",
    "%matplotlib inline\n",
    "\n",
    "## date working / printing packages\n",
    "import datetime\n",
    "from datetime import date, timedelta, datetime\n",
    "from tabulate import tabulate\n",
    "\n",
    "## stats/math/econometrics packages \n",
    "import pandas as pd\n",
    "import numpy as np    \n",
    "import scipy as sp\n",
    "from scipy import stats, integrate, optimize\n",
    "from statsmodels.tsa.vector_ar import vecm\n",
    "from statsmodels.tsa.stattools import adfuller, zivot_andrews \n",
    "import statsmodels.formula.api as smf  #VAR package contained within \n",
    "import statsmodels.tsa.api as smt\n",
    "from arch.unitroot import DFGLS, ADF, ZivotAndrews, VarianceRatio\n",
    "\n",
    "## econometrics warning utilities\n",
    "from statsmodels.tools.sm_exceptions import ValueWarning\n",
    "from arch.utility.exceptions import (\n",
    "    InfeasibleTestException,\n",
    "    InvalidLengthWarning,\n",
    "    invalid_length_doc)\n",
    "warnings.filterwarnings(\"once\", category = ValueWarning)"
   ]
  },
  {
   "cell_type": "code",
   "execution_count": null,
   "metadata": {
    "scrolled": true
   },
   "outputs": [],
   "source": []
  },
  {
   "cell_type": "code",
   "execution_count": 35,
   "metadata": {
    "scrolled": true
   },
   "outputs": [],
   "source": [
    "#system packages\n",
    "import sys\n",
    "import warnings\n",
    "import os \n",
    "import traceback #obs? \n",
    "if not sys.warnoptions:\n",
    "    warnings.filterwarnings(\"once\")  "
   ]
  },
  {
   "cell_type": "code",
   "execution_count": 36,
   "metadata": {
    "scrolled": true
   },
   "outputs": [],
   "source": [
    "#base packages:\n",
    "import matplotlib.pyplot as plt\n",
    "import numpy as np\n",
    "import pandas as pd\n",
    "import scipy as sp\n",
    "from scipy import stats, integrate, optimize\n",
    "import math\n",
    "import datetime\n",
    "from datetime import date, timedelta, datetime"
   ]
  },
  {
   "cell_type": "code",
   "execution_count": 37,
   "metadata": {
    "scrolled": true
   },
   "outputs": [],
   "source": [
    "import seaborn as sns\n",
    "%matplotlib inline"
   ]
  },
  {
   "cell_type": "code",
   "execution_count": 38,
   "metadata": {
    "scrolled": true
   },
   "outputs": [],
   "source": [
    "#optional packages\n",
    "from statsmodels.tsa.base.datetools import dates_from_str\n",
    "from IPython.display import display\n",
    "pd.options.display.max_columns = 60  #allow DF.head to show all columns in notebook\n",
    "from see import see\n",
    "from tabulate import tabulate \n",
    "#from io import StringIO"
   ]
  },
  {
   "cell_type": "code",
   "execution_count": 39,
   "metadata": {
    "scrolled": true
   },
   "outputs": [],
   "source": [
    "#packages for the econometrics / models\n",
    "##statsmodels \n",
    "from statsmodels.tsa.vector_ar import vecm\n",
    "from statsmodels.tsa.stattools import adfuller, zivot_andrews \n",
    "import statsmodels.formula.api as smf  #VAR package contained within \n",
    "import statsmodels.tsa.api as smt\n",
    "\n",
    "#archpackage\n",
    "from arch.unitroot import DFGLS, ADF, KPSS, PhillipsPerron, ZivotAndrews, VarianceRatio\n",
    "from arch.unitroot.cointegration import engle_granger, phillips_ouliaris\n",
    "\n",
    "#import the functionality for detecting mathematical errors (E.G. types of linear algebra issues etc.)\n",
    "from statsmodels.tools.sm_exceptions import ValueWarning\n",
    "from arch.utility.exceptions import (\n",
    "    InfeasibleTestException,\n",
    "    InvalidLengthWarning,\n",
    "    invalid_length_doc)\n",
    "warnings.filterwarnings(\"once\", category = ValueWarning)"
   ]
  },
  {
   "cell_type": "code",
   "execution_count": 11,
   "metadata": {
    "scrolled": true
   },
   "outputs": [],
   "source": [
    "#with ADF results: to be updated to VECM outcome (cointegration) eventually?\n",
    "sorted_alldata_df_final_adf_results = pd.read_pickle(\"./sorted_alldata_df_final_adf_results.pkl\")"
   ]
  },
  {
   "cell_type": "code",
   "execution_count": null,
   "metadata": {
    "scrolled": true
   },
   "outputs": [],
   "source": []
  },
  {
   "cell_type": "code",
   "execution_count": null,
   "metadata": {
    "scrolled": true
   },
   "outputs": [],
   "source": []
  },
  {
   "cell_type": "code",
   "execution_count": null,
   "metadata": {
    "scrolled": true
   },
   "outputs": [],
   "source": [
    "#add spearment rank coefficient\n",
    "\n",
    "## according to Guidolin >> has advantage of not relying on assumptions concernigng the distribution of the data"
   ]
  },
  {
   "cell_type": "code",
   "execution_count": null,
   "metadata": {
    "scrolled": true
   },
   "outputs": [],
   "source": [
    "### interpretaiton of ZA:\n",
    "\n",
    "#https://rpubs.com/rpubkl2016/ttu_eco5316HW4p1\n",
    "\n",
    "# TEST_STAT was -5.3767, the 99% CV is -5.34\n",
    "## Thus, TS is lowert than CV, therefore REJECTING NULL OF UNIT ROOT (data has a structure break?)\n",
    "\n",
    "#n the Zivot-Andrews tests, the null hypothesis is that the series has a unit root with structural break(s) \n",
    "# against the alternative hypothesis that they are stationary with break(s). \n",
    "# REject Null if t-value statistic is lower than tabulated critical value (left tailed test)."
   ]
  },
  {
   "cell_type": "code",
   "execution_count": null,
   "metadata": {
    "scrolled": true
   },
   "outputs": [],
   "source": []
  },
  {
   "cell_type": "code",
   "execution_count": null,
   "metadata": {
    "scrolled": true
   },
   "outputs": [],
   "source": []
  },
  {
   "cell_type": "code",
   "execution_count": null,
   "metadata": {
    "scrolled": true
   },
   "outputs": [],
   "source": []
  },
  {
   "cell_type": "code",
   "execution_count": null,
   "metadata": {
    "scrolled": true
   },
   "outputs": [],
   "source": []
  },
  {
   "cell_type": "code",
   "execution_count": null,
   "metadata": {
    "scrolled": true
   },
   "outputs": [],
   "source": [
    "##### see if can fix the index on the graph (maybe change to mean.rolling(window=??))\n",
    "\n",
    "## fit the initial statistics into tabulation tables \n",
    "### test different types of errors to catch for each diff model: ur to vr etc. \n",
    "#### change graph titles!\n",
    "## cut the other if / pass (skip) loops >>> obsolete? \n",
    "\n",
    "#FIX THE HARD CODED MARKET CDS SPREAD  in the print stats section \n",
    "## change the Variance Ratio to being opt in/out vs setting increment levels [done]\n",
    "## consider changing regression model max_lags to optional argument? KWARGS\n"
   ]
  },
  {
   "cell_type": "code",
   "execution_count": 12,
   "metadata": {
    "scrolled": true
   },
   "outputs": [],
   "source": [
    "class color:\n",
    "   #a simplified way to easily call different style elements for displaying outputs\n",
    "   RED = '\\033[91m'\n",
    "   BOLD = '\\033[1m'\n",
    "   UNDERLINE = '\\033[4m'\n",
    "   GREEN = '\\033[92m'\n",
    "   HEADER = '\\033[95m' \n",
    "   OKBLUE = '\\033[94m'\n",
    "   WARNING = '\\033[93m'\n",
    "   FAIL = '\\033[91m'\n",
    "   END = '\\033[0m'"
   ]
  },
  {
   "cell_type": "code",
   "execution_count": 23,
   "metadata": {
    "scrolled": true
   },
   "outputs": [],
   "source": [
    "def single_series_model_outcomes_and_summary_statistics(gvkey_selection, dataframe, data_series, graphs='yes', \n",
    "                                    unit_root_tests='yes', vr_ratio='yes',\n",
    "                                   za_test='yes', vecm_model='yes', **kwargs):\n",
    "    \"\"\" \n",
    "    Returns all the key statistical tests and regressions models conducted on the entire data sample in the main project.\n",
    "    This function will run identical test specifications but pertaining only to a single specified GVKEY. \n",
    "    \n",
    "    Parameters\n",
    "    ----------\n",
    "    gvkey_selection: int\n",
    "        The selected GVKEY (unique group identifier)\n",
    "    dataframe: \n",
    "        The DataFrame which contains the relevant GVKEY's CDS and PECDS data series\n",
    "    data_series: array_like\n",
    "        The chosen primary data series to display summary statistics for\n",
    "    graphs: bool, optional\n",
    "        Will display data series with known breakpoints in graphical form\n",
    "    unit_root_tests: bool, optional\n",
    "        Will return the ADF and DFGLS unit root test results on the selected [data_series]\n",
    "    vr_ratio: bool, optional\n",
    "        Will return the Variance Ratio test on the selected [data_series]\n",
    "    vr_ratio_increment: int, optional\n",
    "        The size of the Variance Ratio increments to conduct the joint variance tests on. Default is 2.5%\n",
    "    za_test: bool, optional\n",
    "        Will return the results of the Zivot Andrews Breakpoint test\n",
    "    vecm_model: bool, optional\n",
    "        Will return the results of the Vector Error Correction Model and Granger Causality Test Results within the VECM framework\n",
    "        Associated price discovery leadership methods (GG and HAS measures) are also included.\n",
    "        \n",
    "    \n",
    "    \"\"\"\n",
    "    data_series = str(data_series)\n",
    "    \n",
    "    ###  group/gvkey general identifiers \n",
    "    gvkey_group_df = dataframe.loc[dataframe.gvkey==gvkey_selection]\n",
    "    \n",
    "    print(color.BOLD + '\\n', \"--\"*38, '\\n', \"--\"*38, '\\n', color.OKBLUE + \"//\"*10, \n",
    "          \"<< SUMMARY MODEL OUTCOMES VIEWER >> \",  \"//\"*9, color.END, '\\n', \"--\"*38, '\\n', \"--\"*38, '\\n')\n",
    "   \n",
    "    ## print general overview items for the selected GVKEY\n",
    "    print(tabulate([['COMPANY NAME', gvkey_group_df.company_name.iloc[0]],\n",
    "                   ['COMPANY SECTOR', gvkey_group_df.sector.iloc[0]],\n",
    "                   ['BOND ID', gvkey_group_df.bond_sym_id.iloc[0]]],\n",
    "                   headers=[color.BOLD + 'SELECTED GVKEY: ', str(gvkey_selection) + color.END],\n",
    "                   tablefmt='pretty', numalign='center'))\n",
    "\n",
    "    ### extract just the relevant date elements from the trade_date timestamp \n",
    "    time_min_string = str(gvkey_group_df.loc[gvkey_group_df.gvkey==gvkey_selection]['trade_date'].min())\n",
    "    time_max_string = str(gvkey_group_df.loc[gvkey_group_df.gvkey==gvkey_selection]['trade_date'].max())\n",
    "\n",
    "    time_min_str_strip = datetime.strptime(time_min_string, '%Y-%m-%d %H:%M:%S')\n",
    "    time_max_str_strip = datetime.strptime(time_max_string, '%Y-%m-%d %H:%M:%S')\n",
    "\n",
    "    date_ymd_min = time_min_str_strip.strftime('%Y-%m-%d')\n",
    "    date_ymd_max = time_max_str_strip.strftime('%Y-%m-%d')\n",
    "\n",
    "    print(tabulate([['TOTAL OBS', gvkey_group_df.loc[gvkey_group_df.gvkey==gvkey_selection][data_series].count()],\n",
    "                   ['FIRST OBS', date_ymd_min],\n",
    "                   ['LAST OBS', date_ymd_max],\n",
    "                   ['TIME HORIZON (DAYS)', (gvkey_group_df.loc[gvkey_group_df.gvkey==gvkey_selection]['trade_date'].max() - \n",
    "                                     gvkey_group_df.loc[gvkey_group_df.gvkey==gvkey_selection]['trade_date'].min()).days]],\n",
    "                   headers=[color.BOLD + 'SELECTED SERIES: ', data_series.upper() + color.END],\n",
    "                   tablefmt='pretty', numalign='center'))\n",
    "    \n",
    "    print(color.BOLD, \"// SUMMARY SERIES STATISTICS // \", color.END)\n",
    "    \n",
    "    \n",
    "    #### print general descriptive statistics pertaining to the selected series on the GVKEY\n",
    "    quartiles = np.quantile(gvkey_group_df.loc[gvkey_group_df.gvkey==gvkey_selection]['market_cds_spread'], [0.25, 0.75])\n",
    "    \n",
    "    print(tabulate([['MEAN', np.round(gvkey_group_df.loc[gvkey_group_df.gvkey==gvkey_selection][data_series].mean(), 2)],\n",
    "                    ['MIN VALUE', gvkey_group_df.loc[gvkey_group_df.gvkey==gvkey_selection][data_series].min()],\n",
    "                    ['MAX VALUE', gvkey_group_df.loc[gvkey_group_df.gvkey==gvkey_selection][data_series].max()],\n",
    "                    ['VALUE RANGE', np.round(np.ptp(gvkey_group_df.loc[gvkey_group_df.gvkey==gvkey_selection][data_series]),4)],\n",
    "                    ['25% QUANTILE', np.round(quartiles[0],2)],\n",
    "                    ['75% QUANTILE', np.round(quartiles[1],2)],\n",
    "                    ['INT-Q RANGE', np.round((quartiles[1] - quartiles[0]),2)],\n",
    "                    ['STD DEVIATION', np.round(gvkey_group_df.loc[gvkey_group_df.gvkey==gvkey_selection][data_series].std(), 2)],\n",
    "                    ['NORMALISED STDDEV', np.round(gvkey_group_df.loc[gvkey_group_df.gvkey==gvkey_selection][data_series].std() / \n",
    "                        gvkey_group_df.loc[gvkey_group_df.gvkey==gvkey_selection][data_series].mean(), 2)],\n",
    "                    ['SKEW', np.round(gvkey_group_df.loc[gvkey_group_df.gvkey==gvkey_selection][data_series].skew(),2)],\n",
    "                    ['KURTOSIS', np.round(gvkey_group_df.loc[gvkey_group_df.gvkey==gvkey_selection][data_series].kurtosis(),2)]],\n",
    "                    headers=[color.BOLD + 'DATA ITEM', 'VALUE' + color.END],\n",
    "                    tablefmt='pretty', numalign='center'))\n",
    "    \n",
    "    ## overlay skew/kurtosis with KDE of market CDS spread\n",
    "    if graphs=='yes':\n",
    "        try:\n",
    "            fig_cds_skew = plt.figure(figsize=(6, 4))\n",
    "\n",
    "            cds_skew_overlay_graph = fig_cds_skew.add_subplot(sns.distplot(gvkey_group_df[data_series],  \n",
    "                                                                           kde=True, fit=stats.norm))\n",
    "        \n",
    "            plt.title(\"{} SKEW AND KURTOSIS OVERLAID BY ~N(0,1) KDE\".format(\n",
    "                data_series.upper()), loc='center', fontsize=10)\n",
    "            \n",
    "            plt.show()\n",
    "            \n",
    "        except Exception: \n",
    "            print('\\n', color.BOLD + color.RED, \"Error Fitting KDE graph to selected series\", color.END, '\\n')\n",
    "\n",
    "    \n",
    "    ##### UNIT ROOT TESTS #####\n",
    "    ##### ADF TEST \n",
    "    \n",
    "    if unit_root_tests=='yes':\n",
    "        try:\n",
    "            print('\\n', '--'*38, '\\n', color.BOLD + \"UNIT ROOT TESTS\" + color.END)\n",
    "            \n",
    "            ADF_model = ADF(gvkey_group_df.loc[gvkey_group_df.gvkey==gvkey_selection][data_series], lags=10)\n",
    "            \n",
    "            dfgls_model = DFGLS(gvkey_group_df.loc[gvkey_group_df.gvkey==gvkey_selection][data_series], \n",
    "                               max_lags=10, method='BIC')\n",
    "        \n",
    "            if ADF_model.stat <= ADF_model.critical_values['5%']:\n",
    "                adf_model_outcome = ADF_model.alternative_hypothesis\n",
    "            else:\n",
    "                adf_model_outcome = ADF_model.null_hypothesis   \n",
    "        \n",
    "            if dfgls_model.stat <= dfgls_model.critical_values['5%']:\n",
    "                dfgls_model_outcome = dfgls_model.alternative_hypothesis\n",
    "            else:\n",
    "                dfgls_model_outcome = dfgls_model.null_hypothesis\n",
    "        \n",
    "            print(tabulate([['ADF TEST', np.round(ADF_model.stat, 4), \n",
    "                             np.round(ADF_model.critical_values['5%'],4), adf_model_outcome],\n",
    "               ['DFGLS TEST', np.round(dfgls_model.stat, 4), \n",
    "               np.round(dfgls_model.critical_values['5%'],4), dfgls_model_outcome]],\n",
    "               headers=[color.BOLD + 'TEST TYPE', 'TEST STAT', 'TEST 5% CV', 'TEST OUTCOME' + color.END],\n",
    "                           tablefmt='pretty', numalign='center'))\n",
    "        \n",
    "        except IndexError as unitroot_ie:\n",
    "            print(\"DFGLS/ADF MODEL ERROR //\", unitroot_ie.args)  \n",
    "            \n",
    "        except AssertionError as unitroot_ae:\n",
    "            print(\"ADF MODEL ERROR //\", unitroot_ae.args)\n",
    "        \n",
    "    else:\n",
    "        print(\"UNIT ROOT TESTING NOT SELECTED\")\n",
    "        \n",
    "    \n",
    "    ## VARIANCE RATIO\n",
    "    \n",
    "    if vr_ratio=='yes':\n",
    "        try:\n",
    "            print('\\n', color.BOLD + \"--\"*38 + '\\n', \"VARIANCE RATIO\" + color.END)\n",
    "\n",
    "            ## check if optional parameter is passed in for VR ratio increment\n",
    "            vr_ratio_increment = kwargs.get('vr_ratio_increment')\n",
    "            \n",
    "            ## if no optional argument is passed in for the Variance Ratio Test: Default is 2.5% (40 equal increments)\n",
    "            if vr_ratio_increment is None:\n",
    "                lag_length_vr_test = 0.025\n",
    "            else: \n",
    "                lag_length_vr_test = vr_ratio_increment\n",
    "\n",
    "            ## take the floor (lowest closest interger of the increment (lag-size) length)) & run model instance\n",
    "            variance_ratio_increment_size = np.floor(\n",
    "            lag_length_vr_test * len(gvkey_group_df.loc[gvkey_group_df.gvkey==gvkey_selection][data_series]))    \n",
    "\n",
    "            variance_ratio_model = VarianceRatio(gvkey_group_df.loc[gvkey_group_df.gvkey==gvkey_selection][data_series],\n",
    "                                                trend='c', robust=True, lags=int(variance_ratio_increment_size))\n",
    "\n",
    "            ## tabulate results of the variance ratio from the above specified test parameters:\n",
    "            print(tabulate([['VARIANCE RATIO', np.round(variance_ratio_model.vr, 2)],\n",
    "                           ['VR TEST STAT', np.round(variance_ratio_model.stat, 2)],\n",
    "                           ['VR P-VALUE', np.round(variance_ratio_model.pvalue, 4)],\n",
    "                           ['VR LAGS USED', np.round(variance_ratio_model.lags, 2)]],\n",
    "                           tablefmt='pretty', numalign='center'))\n",
    "\n",
    "            if variance_ratio_model.stat >= variance_ratio_model.critical_values['95%']:\n",
    "                print(color.BOLD + \"VR TEST-STATISTIC CONCLUSION:\", color.END + \"{}\".format(\n",
    "                    variance_ratio_model.alternative_hypothesis), '\\n', \"--\"*38)\n",
    "            else:\n",
    "                print(color.BOLD + \"VR TEST-STATISTIC CONCLUSION: \", color.END + \"{}\".format(\n",
    "                    variance_ratio_model.null_hypothesis), '\\n', \"--\"*38)\n",
    "                \n",
    "        except RuntimeWarning as vr_rtw:\n",
    "            print(vr_rtw.args)\n",
    "\n",
    "       \n",
    "    #### ZA BREAKPOINT TEST ####\n",
    "    if za_test=='yes':\n",
    "        print('\\n', color.BOLD + \"--\"*38 + '\\n', \"ZIVOT ANDREWS BREAKPOINT TEST\" + color.END)\n",
    "        \n",
    "        try:\n",
    "            statsmodels_za = zivot_andrews(gvkey_group_df.loc[gvkey_group_df.gvkey==gvkey_selection][data_series],\n",
    "                                            trim=0.2, maxlag=10, regression='c', autolag='t-stat')\n",
    "\n",
    "            ## assign an outcome to the ZA test based off the test statistic\n",
    "            if statsmodels_za[1] <= statsmodels_za[2]['5%']:\n",
    "                za_outcome_str = 'process is trend/break stationary'\n",
    "            else:\n",
    "                za_outcome_str = 'process is UR with structural break'\n",
    "            \n",
    "            print(tabulate([['ZA TEST STAT', np.round(statsmodels_za[1],2)], \n",
    "            ['5% ZA CRIT VALUE ', np.round(statsmodels_za[2]['5%'],4)],\n",
    "            ['ZA PVALUE ', np.round(statsmodels_za[3], 4)],\n",
    "            ['ZA OUTCOME ', za_outcome_str]],\n",
    "            headers=[color.BOLD + 'ZA TEST ITEM', 'VALUE' + color.END], \n",
    "            tablefmt='pretty', numalign='center'))             \n",
    "            \n",
    "            #### determine the real data associated with the breakpoint ####\n",
    "            #### [this occurs where the ADF unit root t-stat is minimised (most negative)]\n",
    "            ## define the date series from the original DF:\n",
    "            date_series = gvkey_group_df['trade_date']\n",
    "\n",
    "            ## find the corressponding date to the ZA breakpoint\n",
    "            index_location_za_bpoint = statsmodels_za[4]\n",
    "            \n",
    "            date_location_za = str(date_series.iloc[index_location_za_bpoint])\n",
    "            \n",
    "            date_location_za_strp = datetime.strptime(date_location_za, '%Y-%m-%d %H:%M:%S')\n",
    "            \n",
    "            date_location_za_clean = date_location_za_strp.strftime('%Y-%m-%d')\n",
    "\n",
    "            print(color.BOLD + \"CALCULATED BREAKPOINT DATE: \" + color.END + \"{}\".format(date_location_za_clean), '\\n',  \"--\"*38, '\\n')    \n",
    "\n",
    "        except (InfeasibleTestException, UnboundLocalError) as za_model_errors:\n",
    "             print(\"Unable to calculate ZivotAndrews Breakpoint Test - Reason: {}\".format(za_model_errors.args))\n",
    "    \n",
    "    else:\n",
    "        print('\\n', \"ZIVOT ANDREWS BREAKPOINT NOT CALCULATED. THIS MAY AFFECT PROPER CONSTRUCTION OF LINE-GRAPHS\", '\\n')                    \n",
    "\n",
    "    \n",
    "    ##### VECM ITEMS & PRICE DISCOVERY MEASURES #####\n",
    "    if vecm_model=='yes':\n",
    "        try:\n",
    "            print('\\n', \"--\"*38, '\\n', color.BOLD + \"VECM MODEL & PRICE DISCOVERY MEASURES\", color.END)\n",
    "\n",
    "            ## VECM MODEL CONSTRUCTION -- only valid on the two series: CDS + PECDS\n",
    "            vecm_data_df = pd.DataFrame(data=(gvkey_group_df['market_cds_spread'], gvkey_group_df['pecds'])).T\n",
    "\n",
    "            optimal_bic_lags = vecm.select_order(vecm_data_df, maxlags=10)\n",
    "\n",
    "            vecm_cointegration_rank = vecm.select_coint_rank(vecm_data_df, det_order=1, k_ar_diff = optimal_bic_lags.bic,\n",
    "                                                           method='trace',signif=0.05)\n",
    "\n",
    "            ## limit max cointegrating relationships to one as it's a dual-variable system.\n",
    "            if vecm_cointegration_rank.rank >=1:\n",
    "                cointegrating_rels = int(1)\n",
    "            else:\n",
    "                cointegrating_rels = int(0)\n",
    "                \n",
    "            print(color.BOLD + \" COINTEGRATION RANK: \" + color.END, \"{}\".format(cointegrating_rels),\n",
    "                 '\\n','--'*38)\n",
    "\n",
    "            vecm_model_fitted = vecm.VECM(vecm_data_df, k_ar_diff = optimal_bic_lags.bic, coint_rank=cointegrating_rels,\n",
    "                          deterministic='co').fit()\n",
    "\n",
    "            cholesky_decomp = np.linalg.cholesky(vecm_model_fitted.sigma_u)\n",
    "            sig_1 = cholesky_decomp[0, 0]\n",
    "            sig_12 = cholesky_decomp[1, 0]\n",
    "            sig_2 = cholesky_decomp[1, 1]\n",
    "\n",
    "            x_1 = vecm_model_fitted.alpha[0,0]\n",
    "            x_2 = vecm_model_fitted.alpha[1,0]\n",
    "\n",
    "            gg_val = np.round(vecm_model_fitted.alpha[1,0] / vecm_model_fitted.alpha[1,0] - vecm_model_fitted.pvalues_alpha[0,0], 2)\n",
    "\n",
    "            HAS_1 = np.round(( x_2**2 * (sig_1**2 - sig_12**2 / sig_2**2) )  / ( x_2**2 * sig_1**2 - 2*x_1*x_2*sig_12 + x_1**2 * sig_2**2 ),4)\n",
    "            HAS_2 = np.round(( (x_2 * sig_1 - x_1 * sig_12 / sig_1)**2 ) / ( x_2**2 * sig_1**2 - 2*x_1*x_2*sig_12 + x_1**2 * sig_2**2 ),4)\n",
    "            HAS_mid = np.round((HAS_2 + HAS_1) / 2,4)\n",
    "\n",
    "            print(tabulate([['GG VALUE', gg_val],\n",
    "                   ['HAS LOWER', HAS_1],\n",
    "                   ['HAS MID', HAS_mid],\n",
    "                   ['HAS UPPER', HAS_2]],\n",
    "                   headers=[color.BOLD + 'PRICE DISCOVERY', 'VALUE' + color.END], tablefmt='pretty', numalign='center'),\n",
    "                 '\\n', color.GREEN, \"[ VALUES > 0.5 FAVOUR CDS |&| VALUES < 0.5 FAVOUR BONDS ]\", color.END)\n",
    "\n",
    "            print(tabulate([['EQ(1) | Alpha(1) ', np.round(vecm_model_fitted.alpha[0,0], 5), np.round(vecm_model_fitted.pvalues_alpha[0,0], 4)],\n",
    "                   ['EQ(2) | Alpha(1)', np.round(vecm_model_fitted.alpha[1,0], 5), np.round(vecm_model_fitted.pvalues_alpha[1,0], 4)]],\n",
    "                   headers=[color.BOLD + 'VECM MODEL', 'TEST STAT','P-VALUE' + color.END],\n",
    "                   tablefmt='pretty', numalign='center'))\n",
    "\n",
    "            print('\\n', color.BOLD + \"// GRANGER CAUSALITY TESTS // \" + color.END)\n",
    "            print(tabulate([['PECDS CAUSES CDS',np.round(vecm_model_fitted.test_granger_causality(caused=0).test_statistic, 4),\n",
    "                           vecm_model_fitted.test_granger_causality(caused=0).conclusion_str[11:]],\n",
    "                           ['CDS CAUSES PECDS', np.round(vecm_model_fitted.test_granger_causality(caused=1).test_statistic, 4),\n",
    "                           vecm_model_fitted.test_granger_causality(caused=1).conclusion_str[11: ]]],\n",
    "                           headers=[color.BOLD + 'GRANGER TEST', 'TEST STAT',\n",
    "                          'TEST CONCLUSION' + color.END], tablefmt='pretty', numalign='center'))\n",
    "\n",
    "        except ValueError as vecm_ve:\n",
    "            print(vecm_ve.args)\n",
    "            \n",
    "        except InfeasibleTestException as vecm_ite:\n",
    "            print(vecm_ite.args)\n",
    "            \n",
    "        except IndexError as vecm_ie:\n",
    "            print('\\n', \"Highly probable no significant cointegrating relationship was found\", '\\n', vecm_ie.args)\n",
    "            \n",
    "            \n",
    "            ######\n",
    "            # consider adding a VAR regression model with GCT if coint_rank ==0 but jointly unit-roots\n",
    "            ######\n",
    "            \n",
    "######## CHANGE TO BEFORE / AFTER SUBSAMPLES ###### #    \n",
    "    \n",
    "    \n",
    "    ## <OPTIONAL> show graphs by year for the CDS series\n",
    "    print(\"--\"*38, '\\n')\n",
    "    if graphs=='yes':\n",
    "        try:\n",
    "            print(color.BOLD + \"SELECTED VISUAL REPRESENTATIONS OF GVKEY [{}] |&| FOCUSED SERIES: [{}]\".format(\n",
    "                gvkey_selection, data_series.upper()) + color.END)\n",
    "\n",
    "            ## define a new DF with trade_date as the index for plotting the ZA breakdate\n",
    "            ## note: this graph calls the ZA breakdate from the DF (not from the above calculation)\n",
    "            ## this is to allow the graphs to display the supposed ZA breakdate while maintaining printing results as optional\n",
    "            gvkey_group_df_timeind = gvkey_group_df.set_index(['trade_date'])\n",
    "            za_bp_date_raw = str(gvkey_group_df.ZA_BREAKDATE.iloc[0])\n",
    "            za_bp_date_strp = datetime.strptime(za_bp_date_raw, '%Y-%m-%d %H:%M:%S')\n",
    "\n",
    "            fig, (ax1, ax2) = plt.subplots(1, 2, figsize=(14, 6))\n",
    "            fig.suptitle('GVKEY [{}] CDS & PECDS LINE GRAPHS WITH ZA-BREAKPOINT'.format(gvkey_selection))\n",
    "\n",
    "            ## PLOT CDS \n",
    "            sns.lineplot(x=gvkey_group_df_timeind.index, \n",
    "                         y='market_cds_spread', \n",
    "                         data=gvkey_group_df_timeind,  \n",
    "                         palette='winter',\n",
    "                         markers=True,\n",
    "                         dashes=False,\n",
    "                         legend='full',\n",
    "                         ax=ax1)\n",
    "\n",
    "            ## AFFIX THE ZIVOT-ANDREWS BREAKDPOINT \n",
    "            ax1.set_ylabel(\"DAILY CDS VALUES\", fontsize=12)\n",
    "            ax1.axvline(za_bp_date_strp, 0, color='r', linestyle='--', label='ZA BREAKPOINT')\n",
    "            ax1_labels=['ZA BREAKPOINT']\n",
    "            handles_1, _ = ax1.get_legend_handles_labels()\n",
    "            ax1.legend(handles=handles_1, labels=ax1_labels)\n",
    "\n",
    "            ## PLOT PECDS\n",
    "            sns.lineplot(x=gvkey_group_df_timeind.index, \n",
    "                         y=gvkey_group_df_timeind['pecds'], \n",
    "                         data=gvkey_group_df_timeind,  \n",
    "                         palette='RdGy_r',\n",
    "                         legend='full',\n",
    "                         ax=ax2)\n",
    "\n",
    "            ## AFFIX THE ZIVOT-ANDREWS BREAKDPOINT \n",
    "            ax2.set_ylabel(\"DAILY PECDS VALUES\",  fontsize=12)\n",
    "            ax2.axvline(za_bp_date_strp, 0, color='r', linestyle='--', label='ZA BREAKPOINT')\n",
    "            ax2_labels=['ZA BREAKPOINT']\n",
    "            handles_2, _ = ax2.get_legend_handles_labels()\n",
    "            ax2.legend(handles=handles_2, labels=ax2_labels)\n",
    "\n",
    "            plt.show()\n",
    "            \n",
    "        except ValueError as ve_graphs:\n",
    "            print(\"Zivot Andrews BP Error -- Full Graph Unavailable\", '\\n',\"--\"*38, '\\n', \"// SHOWING SIMPLIFIED VERSION // \")\n",
    "            \n",
    "            gvkey_group_df_timeind = gvkey_group_df.set_index(['trade_date'])\n",
    "            \n",
    "            fig, (ax1, ax2) = plt.subplots(1, 2, figsize=(14, 6))\n",
    "            fig.suptitle('GVKEY [{}] CDS & PECDS SIMPLE GRAPHS'.format(gvkey_selection))            \n",
    "            \n",
    "            ## plot just a simple line graph of both the: CDS and PECDS series \n",
    "            sns.lineplot(x=gvkey_group_df_timeind.index, \n",
    "                         y='market_cds_spread', \n",
    "                         data=gvkey_group_df_timeind,  \n",
    "                         palette='winter',\n",
    "                         markers=True,\n",
    "                         dashes=False,\n",
    "                         legend='full',\n",
    "                         ax=ax1)\n",
    "            \n",
    "            ax1.set_ylabel(\"DAILY CDS VALUES\", fontsize=12)\n",
    "\n",
    "            sns.lineplot(x=gvkey_group_df_timeind.index, \n",
    "                         y=gvkey_group_df_timeind['pecds'], \n",
    "                         data=gvkey_group_df_timeind,  \n",
    "                         palette='RdGy_r',\n",
    "                         legend='full',\n",
    "                         ax=ax2)\n",
    "\n",
    "            ax2.set_ylabel(\"DAILY PECDS VALUES\",  fontsize=12)            \n",
    "            \n",
    "    \n",
    "    else:\n",
    "        print('\\n', \"GRAPHS SET TO NO-SHOW\", '\\n', \"--\"*38)\n",
    "        pass\n",
    "\n",
    "    "
   ]
  },
  {
   "cell_type": "code",
   "execution_count": null,
   "metadata": {
    "scrolled": true
   },
   "outputs": [],
   "source": []
  },
  {
   "cell_type": "code",
   "execution_count": 9,
   "metadata": {
    "scrolled": true
   },
   "outputs": [
    {
     "name": "stdout",
     "output_type": "stream",
     "text": [
      "\u001b[1m\n",
      " ---------------------------------------------------------------------------- \n",
      " ---------------------------------------------------------------------------- \n",
      " \u001b[94m//////////////////// << SUMMARY MODEL OUTCOMES VIEWER >>  ////////////////// \u001b[0m \n",
      " ---------------------------------------------------------------------------- \n",
      " ---------------------------------------------------------------------------- \n",
      "\n",
      "+------------------+-----------------------------+\n",
      "| \u001b[1mSELECTED GVKEY:  |            1045\u001b[0m             |\n",
      "+------------------+-----------------------------+\n",
      "|   COMPANY NAME   | AMERICAN AIRLINES GROUP INC |\n",
      "|  COMPANY SECTOR  |        Transporation        |\n",
      "|     BOND ID      |           AMR.UY            |\n",
      "+------------------+-----------------------------+\n",
      "+---------------------+-------------------+\n",
      "|  \u001b[1mSELECTED SERIES:   | MARKET_CDS_SPREAD\u001b[0m |\n",
      "+---------------------+-------------------+\n",
      "|      TOTAL OBS      |        546        |\n",
      "|      FIRST OBS      |    2009-09-24     |\n",
      "|      LAST OBS       |    2014-05-30     |\n",
      "| TIME HORIZON (DAYS) |       1709        |\n",
      "+---------------------+-------------------+\n",
      "\u001b[1m // SUMMARY SERIES STATISTICS //  \u001b[0m\n",
      "+-------------------+---------+\n",
      "|     \u001b[1mDATA ITEM     |  VALUE\u001b[0m  |\n",
      "+-------------------+---------+\n",
      "|       MEAN        | 3430.22 |\n",
      "|     MIN VALUE     |  907.6  |\n",
      "|     MAX VALUE     | 5456.22 |\n",
      "|    VALUE RANGE    | 4548.62 |\n",
      "|   25% QUANTILE    | 1436.47 |\n",
      "|   75% QUANTILE    | 5456.22 |\n",
      "|    INT-Q RANGE    | 4019.75 |\n",
      "|   STD DEVIATION   | 2014.14 |\n",
      "| NORMALISED STDDEV |  0.59   |\n",
      "|       SKEW        |  -0.02  |\n",
      "|     KURTOSIS      |  -1.95  |\n",
      "+-------------------+---------+\n"
     ]
    },
    {
     "data": {
      "image/png": "[encoded data removed]",
      "text/plain": [
       "<Figure size 432x288 with 1 Axes>"
      ]
     },
     "metadata": {
      "needs_background": "light"
     },
     "output_type": "display_data"
    },
    {
     "name": "stdout",
     "output_type": "stream",
     "text": [
      "\n",
      " ---------------------------------------------------------------------------- \n",
      " \u001b[1mUNIT ROOT TESTS\u001b[0m\n",
      "+------------+-----------+------------+-----------------------------------+\n",
      "| \u001b[1mTEST TYPE  | TEST STAT | TEST 5% CV |           TEST OUTCOME\u001b[0m            |\n",
      "+------------+-----------+------------+-----------------------------------+\n",
      "|  ADF TEST  |  -1.0259  |   -2.867   | The process contains a unit root. |\n",
      "| DFGLS TEST |  -0.2413  |  -1.9826   | The process contains a unit root. |\n",
      "+------------+-----------+------------+-----------------------------------+\n",
      "\n",
      " \u001b[1m----------------------------------------------------------------------------\n",
      " VARIANCE RATIO\u001b[0m\n",
      "+----------------+--------+\n",
      "| VARIANCE RATIO |  1.02  |\n",
      "|  VR TEST STAT  |  0.96  |\n",
      "|   VR P-VALUE   | 0.3392 |\n",
      "|  VR LAGS USED  |   13   |\n",
      "+----------------+--------+\n",
      "\u001b[1mVR TEST-STATISTIC CONCLUSION:  \u001b[0mThe process is a random walk. \n",
      " ----------------------------------------------------------------------------\n",
      "\n",
      " \u001b[1m----------------------------------------------------------------------------\n",
      " ZIVOT ANDREWS BREAKPOINT TEST\u001b[0m\n",
      "+------------------+-------------------------------------+\n",
      "|   \u001b[1mZA TEST ITEM   |                VALUE\u001b[0m                |\n",
      "+------------------+-------------------------------------+\n",
      "|   ZA TEST STAT   |                 0.0                 |\n",
      "| 5% ZA CRIT VALUE |               -4.8107               |\n",
      "|    ZA PVALUE     |                  0                  |\n",
      "|    ZA OUTCOME    | process is UR with structural break |\n",
      "+------------------+-------------------------------------+\n",
      "\u001b[1mCALCULATED BREAKPOINT DATE: \u001b[0m2010-10-15 \n",
      " ---------------------------------------------------------------------------- \n",
      "\n",
      "\n",
      " ---------------------------------------------------------------------------- \n",
      " \u001b[1mVECM MODEL & PRICE DISCOVERY MEASURES \u001b[0m\n",
      "\u001b[1m COINTEGRATION RANK: \u001b[0m 1 \n",
      " ----------------------------------------------------------------------------\n",
      "+-----------------+--------+\n",
      "| \u001b[1mPRICE DISCOVERY | VALUE\u001b[0m  |\n",
      "+-----------------+--------+\n",
      "|    GG VALUE     |  0.49  |\n",
      "|    HAS LOWER    |  0.98  |\n",
      "|     HAS MID     | 0.9804 |\n",
      "|    HAS UPPER    | 0.9807 |\n",
      "+-----------------+--------+ \n",
      " \u001b[92m [ VALUES > 0.5 FAVOUR CDS |&| VALUES < 0.5 FAVOUR BONDS ] \u001b[0m\n",
      "+------------------+-----------+---------+\n",
      "|    \u001b[1mVECM MODEL    | TEST STAT | P-VALUE\u001b[0m |\n",
      "+------------------+-----------+---------+\n",
      "| EQ(1) | Alpha(1) |  0.00086  | 0.5083  |\n",
      "| EQ(2) | Alpha(1) |   3e-05   |   0.0   |\n",
      "+------------------+-----------+---------+\n",
      "\n",
      " \u001b[1m// GRANGER CAUSALITY TESTS // \u001b[0m\n",
      "+------------------+-----------+--------------------+\n",
      "|   \u001b[1mGRANGER TEST   | TEST STAT |  TEST CONCLUSION\u001b[0m   |\n",
      "+------------------+-----------+--------------------+\n",
      "| PECDS CAUSES CDS |   0.038   | fail to reject H_0 |\n",
      "| CDS CAUSES PECDS |  33.4838  |     reject H_0     |\n",
      "+------------------+-----------+--------------------+"
     ]
    },
    {
     "name": "stderr",
     "output_type": "stream",
     "text": [
      "C:\\Users\\JasonSpano\\anaconda3\\lib\\site-packages\\numpy\\matrixlib\\defmatrix.py:1111: PendingDeprecationWarning: the matrix subclass is not the recommended way to represent matrices or deal with linear algebra (see https://docs.scipy.org/doc/numpy/user/numpy-for-matlab-users.html). Please adjust your code to use regular ndarray.\n",
      "  return matrix(concatenate(arr_rows, axis=0))\n"
     ]
    },
    {
     "name": "stdout",
     "output_type": "stream",
     "text": [
      "\n",
      "---------------------------------------------------------------------------- \n",
      "\n",
      "\u001b[1mSELECTED VISUAL REPRESENTATIONS OF GVKEY [1045] |&| FOCUSED SERIES: [MARKET_CDS_SPREAD]\u001b[0m\n"
     ]
    },
    {
     "data": {
      "image/png": "[encoded data removed]",
      "text/plain": [
       "<Figure size 1008x432 with 2 Axes>"
      ]
     },
     "metadata": {
      "needs_background": "light"
     },
     "output_type": "display_data"
    }
   ],
   "source": [
    "single_series_model_outcomes_and_summary_statistics(gvkey_selection=1045, dataframe=sorted_alldata_df_final_adf_results,\n",
    "                                data_series='market_cds_spread', graphs='yes', vr_ratio_increment=0.025,\n",
    "                                unit_root_tests='yes', vr_ratio='yes', \n",
    "                               za_test='yes', vecm_model='yes')\n",
    "\n",
    "#1045\n",
    "#1078"
   ]
  },
  {
   "cell_type": "code",
   "execution_count": null,
   "metadata": {
    "scrolled": true
   },
   "outputs": [],
   "source": []
  },
  {
   "cell_type": "code",
   "execution_count": null,
   "metadata": {
    "scrolled": true
   },
   "outputs": [],
   "source": []
  },
  {
   "cell_type": "code",
   "execution_count": null,
   "metadata": {
    "scrolled": true
   },
   "outputs": [],
   "source": []
  },
  {
   "cell_type": "code",
   "execution_count": null,
   "metadata": {
    "scrolled": true
   },
   "outputs": [],
   "source": []
  },
  {
   "cell_type": "code",
   "execution_count": 30,
   "metadata": {
    "scrolled": false
   },
   "outputs": [
    {
     "name": "stdout",
     "output_type": "stream",
     "text": [
      "\u001b[1m\n",
      " ---------------------------------------------------------------------------- \n",
      " ---------------------------------------------------------------------------- \n",
      " \u001b[94m//////////////////// << SUMMARY MODEL OUTCOMES VIEWER >>  ////////////////// \u001b[0m \n",
      " ---------------------------------------------------------------------------- \n",
      " ---------------------------------------------------------------------------- \n",
      "\n",
      "+------------------+---------------+\n",
      "| \u001b[1mSELECTED GVKEY:  |     7991\u001b[0m      |\n",
      "+------------------+---------------+\n",
      "|   COMPANY NAME   |  TEREX CORP   |\n",
      "|  COMPANY SECTOR  | Capital Goods |\n",
      "|     BOND ID      |    TEX.GF     |\n",
      "+------------------+---------------+\n",
      "+---------------------+-------------------+\n",
      "|  \u001b[1mSELECTED SERIES:   | MARKET_CDS_SPREAD\u001b[0m |\n",
      "+---------------------+-------------------+\n",
      "|      TOTAL OBS      |        610        |\n",
      "|      FIRST OBS      |    2008-01-16     |\n",
      "|      LAST OBS       |    2010-09-30     |\n",
      "| TIME HORIZON (DAYS) |        988        |\n",
      "+---------------------+-------------------+\n",
      "\u001b[1m // SUMMARY SERIES STATISTICS //  \u001b[0m\n",
      "+-------------------+-------+\n",
      "|     \u001b[1mDATA ITEM     | VALUE\u001b[0m |\n",
      "+-------------------+-------+\n",
      "|       MEAN        | 31.55 |\n",
      "|     MIN VALUE     | 31.55 |\n",
      "|     MAX VALUE     | 31.55 |\n",
      "|    VALUE RANGE    |  0.0  |\n",
      "|   25% QUANTILE    | 31.55 |\n",
      "|   75% QUANTILE    | 31.55 |\n",
      "|    INT-Q RANGE    |  0.0  |\n",
      "|   STD DEVIATION   |  0.0  |\n",
      "| NORMALISED STDDEV |  0.0  |\n",
      "|       SKEW        |   0   |\n",
      "|     KURTOSIS      |   0   |\n",
      "+-------------------+-------+\n"
     ]
    },
    {
     "name": "stderr",
     "output_type": "stream",
     "text": [
      "C:\\Users\\JasonSpano\\anaconda3\\lib\\site-packages\\seaborn\\distributions.py:288: UserWarning: Data must have variance to compute a kernel density estimate.\n",
      "  warnings.warn(msg, UserWarning)\n",
      "C:\\Users\\JasonSpano\\anaconda3\\lib\\site-packages\\scipy\\stats\\_distn_infrastructure.py:1740: RuntimeWarning: invalid value encountered in true_divide\n",
      "  x = np.asarray((x - loc)/scale, dtype=dtyp)\n",
      "C:\\Users\\JasonSpano\\anaconda3\\lib\\site-packages\\scipy\\stats\\_distn_infrastructure.py:899: RuntimeWarning: invalid value encountered in greater_equal\n",
      "  return (a <= x) & (x <= b)\n",
      "C:\\Users\\JasonSpano\\anaconda3\\lib\\site-packages\\scipy\\stats\\_distn_infrastructure.py:899: RuntimeWarning: invalid value encountered in less_equal\n",
      "  return (a <= x) & (x <= b)\n"
     ]
    },
    {
     "data": {
      "image/png": "[encoded data removed]",
      "text/plain": [
       "<Figure size 432x288 with 1 Axes>"
      ]
     },
     "metadata": {
      "needs_background": "light"
     },
     "output_type": "display_data"
    },
    {
     "name": "stdout",
     "output_type": "stream",
     "text": [
      "\n",
      " ---------------------------------------------------------------------------- \n",
      " \u001b[1mUNIT ROOT TESTS\u001b[0m\n",
      "ADF MODEL ERROR // ('Number of manager items must equal union of block items\\n# manager items: 1, # tot_items: 0',)\n",
      "\n",
      " \u001b[1m----------------------------------------------------------------------------\n",
      " VARIANCE RATIO\u001b[0m\n",
      "+----------------+-----+\n",
      "| VARIANCE RATIO | nan |\n",
      "|  VR TEST STAT  | nan |\n",
      "|   VR P-VALUE   | nan |\n",
      "|  VR LAGS USED  | 15  |\n",
      "+----------------+-----+\n",
      "\u001b[1mVR TEST-STATISTIC CONCLUSION:  \u001b[0mThe process is a random walk. \n",
      " ----------------------------------------------------------------------------\n",
      "\n",
      " \u001b[1m----------------------------------------------------------------------------\n",
      " ZIVOT ANDREWS BREAKPOINT TEST\u001b[0m\n",
      "Unable to calculate ZivotAndrews Breakpoint Test - Reason: (\"local variable 'bestlag' referenced before assignment\",)\n",
      "\n",
      " ---------------------------------------------------------------------------- \n",
      " \u001b[1mVECM MODEL & PRICE DISCOVERY MEASURES \u001b[0m\n"
     ]
    },
    {
     "name": "stderr",
     "output_type": "stream",
     "text": [
      "C:\\Users\\JasonSpano\\anaconda3\\lib\\site-packages\\arch\\unitroot\\unitroot.py:1744: RuntimeWarning: invalid value encountered in double_scalars\n",
      "  delta = nq * z2[k:] @ z2[:-k] / scale\n",
      "C:\\Users\\JasonSpano\\anaconda3\\lib\\site-packages\\scipy\\stats\\_distn_infrastructure.py:903: RuntimeWarning: invalid value encountered in greater\n",
      "  return (a < x) & (x < b)\n",
      "C:\\Users\\JasonSpano\\anaconda3\\lib\\site-packages\\scipy\\stats\\_distn_infrastructure.py:903: RuntimeWarning: invalid value encountered in less\n",
      "  return (a < x) & (x < b)\n",
      "C:\\Users\\JasonSpano\\anaconda3\\lib\\site-packages\\scipy\\stats\\_distn_infrastructure.py:1827: RuntimeWarning: invalid value encountered in greater_equal\n",
      "  cond2 = (x >= np.asarray(_b)) & cond0\n",
      "C:\\Users\\JasonSpano\\anaconda3\\lib\\site-packages\\statsmodels\\base\\model.py:1362: RuntimeWarning: invalid value encountered in true_divide\n",
      "  return self.params / self.bse\n",
      "C:\\Users\\JasonSpano\\anaconda3\\lib\\site-packages\\statsmodels\\tsa\\base\\tsa_model.py:214: ValueWarning: An unsupported index was provided and will be ignored when e.g. forecasting.\n",
      "  ' ignored when e.g. forecasting.', ValueWarning)\n"
     ]
    },
    {
     "name": "stdout",
     "output_type": "stream",
     "text": [
      "(\"x contains a constant. Adding a constant with trend='c' is not allowed.\",)\n",
      "---------------------------------------------------------------------------- \n",
      "\n",
      "\u001b[1mSELECTED VISUAL REPRESENTATIONS OF GVKEY [7991] |&| FOCUSED SERIES: [MARKET_CDS_SPREAD]\u001b[0m\n",
      "Zivot Andrews BP Error -- Full Graph Unavailable \n",
      " ---------------------------------------------------------------------------- \n",
      " // SHOWING SIMPLIFIED VERSION // \n"
     ]
    },
    {
     "data": {
      "image/png": "[encoded data removed]",
      "text/plain": [
       "<Figure size 1008x432 with 2 Axes>"
      ]
     },
     "metadata": {
      "needs_background": "light"
     },
     "output_type": "display_data"
    }
   ],
   "source": [
    "single_series_model_outcomes_and_summary_statistics(gvkey_selection=7991, dataframe=sorted_alldata_df_final_adf_results,\n",
    "                                data_series='market_cds_spread', graphs='yes', vr_ratio_increment=0.025,\n",
    "                                unit_root_tests='yes', vr_ratio='yes', \n",
    "                               za_test='yes', vecm_model='yes')"
   ]
  },
  {
   "cell_type": "code",
   "execution_count": null,
   "metadata": {
    "scrolled": true
   },
   "outputs": [],
   "source": []
  },
  {
   "cell_type": "code",
   "execution_count": null,
   "metadata": {
    "scrolled": true
   },
   "outputs": [],
   "source": []
  },
  {
   "cell_type": "code",
   "execution_count": null,
   "metadata": {
    "scrolled": true
   },
   "outputs": [],
   "source": []
  },
  {
   "cell_type": "code",
   "execution_count": null,
   "metadata": {
    "scrolled": true
   },
   "outputs": [],
   "source": []
  },
  {
   "cell_type": "code",
   "execution_count": null,
   "metadata": {
    "scrolled": true
   },
   "outputs": [],
   "source": []
  },
  {
   "cell_type": "code",
   "execution_count": null,
   "metadata": {
    "scrolled": true
   },
   "outputs": [],
   "source": []
  },
  {
   "cell_type": "code",
   "execution_count": null,
   "metadata": {
    "scrolled": true
   },
   "outputs": [],
   "source": []
  },
  {
   "cell_type": "code",
   "execution_count": null,
   "metadata": {
    "scrolled": true
   },
   "outputs": [],
   "source": []
  }
 ],
 "metadata": {
  "kernelspec": {
   "display_name": "Python 3",
   "language": "python",
   "name": "python3"
  },
  "language_info": {
   "codemirror_mode": {
    "name": "ipython",
    "version": 3
   },
   "file_extension": ".py",
   "mimetype": "text/x-python",
   "name": "python",
   "nbconvert_exporter": "python",
   "pygments_lexer": "ipython3",
   "version": "3.8.5"
  }
 },
 "nbformat": 4,
 "nbformat_minor": 4
}
