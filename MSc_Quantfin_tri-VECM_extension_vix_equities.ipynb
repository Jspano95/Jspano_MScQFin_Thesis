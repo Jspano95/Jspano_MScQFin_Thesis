{
 "cells": [
  {
   "cell_type": "code",
   "execution_count": null,
   "metadata": {},
   "outputs": [],
   "source": [
    "#import packages "
   ]
  },
  {
   "cell_type": "code",
   "execution_count": null,
   "metadata": {},
   "outputs": [],
   "source": [
    "#system packages\n",
    "\n",
    "import sys\n",
    "import warnings\n",
    "import os \n",
    "import traceback #obs? \n",
    "if not sys.warnoptions:\n",
    "    warnings.filterwarnings(\"once\")  "
   ]
  },
  {
   "cell_type": "code",
   "execution_count": null,
   "metadata": {},
   "outputs": [],
   "source": [
    "#base packages:\n",
    "\n",
    "import matplotlib.pyplot as plt\n",
    "import numpy as np\n",
    "import pandas as pd\n",
    "import scipy as sp\n",
    "from scipy import stats, integrate, optimize\n",
    "import math\n",
    "import datetime\n",
    "from datetime import date, timedelta"
   ]
  },
  {
   "cell_type": "code",
   "execution_count": null,
   "metadata": {},
   "outputs": [],
   "source": [
    "#optional packages\n",
    "\n",
    "from statsmodels.tsa.base.datetools import dates_from_str\n",
    "from IPython.display import display\n",
    "pd.options.display.max_columns = 50  #allow DF.head to show all columns in notebook\n",
    "from see import see\n",
    "from tabulate import tabulate "
   ]
  },
  {
   "cell_type": "code",
   "execution_count": null,
   "metadata": {},
   "outputs": [],
   "source": [
    "#packages for the econometrics / models\n",
    "import statsmodels.api as sm\n",
    "from statsmodels.tsa.vector_ar import vecm\n",
    "from statsmodels.tsa.stattools import adfuller, zivot_andrews\n",
    "from arch.unitroot import DFGLS, ADF, KPSS, PhillipsPerron, ZivotAndrews\n",
    "from arch.unitroot.cointegration import engle_granger, phillips_ouliaris\n",
    "import statsmodels.formula.api as smf  #VAR package contained within \n",
    "import statsmodels.tsa.api as smt\n",
    "\n",
    "#import the functionality for detecting mathematical errors (E.G. types of linear algebra issues etc.)\n",
    "from statsmodels.tools.sm_exceptions import ValueWarning\n",
    "from arch.utility.exceptions import (\n",
    "    InfeasibleTestException,\n",
    "    InvalidLengthWarning,\n",
    "    invalid_length_doc)\n",
    "warnings.filterwarnings(\"once\", category = ValueWarning)"
   ]
  },
  {
   "cell_type": "code",
   "execution_count": null,
   "metadata": {},
   "outputs": [],
   "source": [
    "#with ADF results: to be updated to VECM outcome (cointegration) eventually?\n",
    "sorted_alldata_df_final_adf_results = pd.read_pickle(\"./sorted_alldata_df_final_adf_results.pkl\")"
   ]
  },
  {
   "cell_type": "code",
   "execution_count": null,
   "metadata": {},
   "outputs": [],
   "source": [
    "class color:\n",
    "   #a simplified way to easily call different style elements for displaying outputs\n",
    "   RED = '\\033[91m'\n",
    "   BOLD = '\\033[1m'\n",
    "   UNDERLINE = '\\033[4m'\n",
    "   GREEN = '\\033[92m'\n",
    "   HEADER = '\\033[95m' \n",
    "   OKBLUE = '\\033[94m'\n",
    "   WARNING = '\\033[93m'\n",
    "   FAIL = '\\033[91m'\n",
    "   END = '\\033[0m'"
   ]
  },
  {
   "cell_type": "code",
   "execution_count": null,
   "metadata": {},
   "outputs": [],
   "source": []
  },
  {
   "cell_type": "code",
   "execution_count": null,
   "metadata": {},
   "outputs": [],
   "source": []
  },
  {
   "cell_type": "code",
   "execution_count": null,
   "metadata": {},
   "outputs": [],
   "source": [
    "#Original VECM base: CDS/PECDS\n",
    "\n",
    "gvkey_selection = 1408\n",
    "gvkey_frame = sorted_alldata_df_final_adf_results.loc[sorted_alldata_df_final_adf_results.gvkey==gvkey_selection]\n",
    "#coint_rels = 0\n",
    "\n",
    "print(\"VECM MODEL OF GVKEY: \" + str(gvkey_selection))\n",
    "\n",
    "cds = gvkey_frame['market_cds_spread']\n",
    "pecds = gvkey_frame['pecds']\n",
    "cboe_vix = gvkey_frame['cboe_vix']\n",
    "vecm_data_base = pd.DataFrame(data=(cds, pecds)).T\n",
    "\n",
    "vecm_data_base = vecm_data_base[(vecm_data_base.index <= np.percentile(vecm_data_base.index, 75))]\n",
    "\n",
    "vecm_model_base = vecm.select_order(vecm_data_base, maxlags=5)\n",
    "optimal_lag_length_base = vecm_model_base.bic\n",
    "    \n",
    "vecm_cointeg_rank_base = vecm.select_coint_rank(vecm_data_base, \n",
    "                                                det_order =1, \n",
    "                                                k_ar_diff = optimal_lag_length_base, \n",
    "                                                method='trace', \n",
    "                                                signif=0.05)\n",
    "\n",
    "if vecm_cointeg_rank_base.rank >= 1:\n",
    "    coint_rels_base = 1\n",
    "else:\n",
    "    print(\"insufficient number of cointegrating relationships for VECM model\")\n",
    "    \n",
    "vecm_base = vecm.VECM(vecm_data_base, \n",
    "                      k_ar_diff=vecm_model_base.bic, \n",
    "                      coint_rank=coint_rels_base, \n",
    "\n",
    "                      deterministic='co')\n",
    "\n",
    "#exog=cboe_vix\n",
    "\n",
    "vecm_base_res = vecm_base.fit()\n",
    "print(vecm_base_res.summary())\n",
    "\n",
    "\n",
    "\n",
    "\n",
    "print('\\n', vecm_base_res.test_granger_causality(caused=0).summary(), '\\n', '--'*25, '\\n', \n",
    "     vecm_base_res.test_granger_causality(caused=1).summary())"
   ]
  },
  {
   "cell_type": "code",
   "execution_count": null,
   "metadata": {},
   "outputs": [],
   "source": []
  },
  {
   "cell_type": "code",
   "execution_count": null,
   "metadata": {},
   "outputs": [],
   "source": [
    "cholesky_decomp = np.linalg.cholesky(vecm_base_res.sigma_u)\n",
    "sig_1 = cholesky_decomp[0, 0]\n",
    "sig_12 = cholesky_decomp[1, 0]\n",
    "sig_2 = cholesky_decomp[1, 1]\n",
    "\n",
    "x_1 = vecm_base_res.alpha[0,0]\n",
    "x_2 = vecm_base_res.alpha[1,0]\n",
    "\n",
    "gg_val = np.round(vecm_base_res.alpha[1,0] / vecm_base_res.alpha[1,0] - vecm_base_res.pvalues_alpha[0,0], 2)\n",
    "\n",
    "HAS_1 = np.round(( x_2**2 * (sig_1**2 - sig_12**2 / sig_2**2) )  / ( x_2**2 * sig_1**2 - 2*x_1*x_2*sig_12 + x_1**2 * sig_2**2 ),4)\n",
    "HAS_2 = np.round(( (x_2 * sig_1 - x_1 * sig_12 / sig_1)**2 ) / ( x_2**2 * sig_1**2 - 2*x_1*x_2*sig_12 + x_1**2 * sig_2**2 ),4)\n",
    "HAS_mid = np.round((HAS_2 + HAS_1) / 2,4)\n",
    "\n",
    "print(tabulate([['GG VALUE', gg_val],\n",
    "       ['HAS LOWER', HAS_1],\n",
    "       ['HAS MID', HAS_mid],\n",
    "       ['HAS UPPER', HAS_2]],\n",
    "       headers=[color.BOLD + 'PRICE DISCOVERY', 'VALUE' + color.END], tablefmt='pretty', numalign='center'),\n",
    "     '\\n', color.GREEN, \"[ VALUES > 0.5 FAVOUR CDS |&| VALUES < 0.5 FAVOUR BONDS ]\", color.END)"
   ]
  },
  {
   "cell_type": "code",
   "execution_count": null,
   "metadata": {},
   "outputs": [],
   "source": []
  },
  {
   "cell_type": "code",
   "execution_count": null,
   "metadata": {},
   "outputs": [],
   "source": []
  },
  {
   "cell_type": "code",
   "execution_count": null,
   "metadata": {},
   "outputs": [],
   "source": [
    "## e.g. full length == 1485\n",
    "## 75% trim = 114\n"
   ]
  },
  {
   "cell_type": "code",
   "execution_count": null,
   "metadata": {},
   "outputs": [],
   "source": [
    "len(vecm_data_base)"
   ]
  },
  {
   "cell_type": "code",
   "execution_count": null,
   "metadata": {},
   "outputs": [],
   "source": [
    "len(cboe_vix) "
   ]
  },
  {
   "cell_type": "code",
   "execution_count": 1,
   "metadata": {},
   "outputs": [
    {
     "data": {
      "text/plain": [
       "1392.5"
      ]
     },
     "execution_count": 1,
     "metadata": {},
     "output_type": "execute_result"
    }
   ],
   "source": [
    "1114 * 1.25"
   ]
  },
  {
   "cell_type": "code",
   "execution_count": 2,
   "metadata": {},
   "outputs": [
    {
     "ename": "NameError",
     "evalue": "name 'np' is not defined",
     "output_type": "error",
     "traceback": [
      "\u001b[1;31m---------------------------------------------------------------------------\u001b[0m",
      "\u001b[1;31mNameError\u001b[0m                                 Traceback (most recent call last)",
      "\u001b[1;32m<ipython-input-2-7ff125939602>\u001b[0m in \u001b[0;36m<module>\u001b[1;34m\u001b[0m\n\u001b[1;32m----> 1\u001b[1;33m \u001b[0mnp\u001b[0m\u001b[1;33m.\u001b[0m\u001b[0mfloor\u001b[0m\u001b[1;33m(\u001b[0m\u001b[1;36m1114\u001b[0m \u001b[1;33m*\u001b[0m \u001b[1;36m1\u001b[0m\u001b[1;33m/\u001b[0m\u001b[1;36m0.75\u001b[0m\u001b[1;33m)\u001b[0m\u001b[1;33m\u001b[0m\u001b[1;33m\u001b[0m\u001b[0m\n\u001b[0m",
      "\u001b[1;31mNameError\u001b[0m: name 'np' is not defined"
     ]
    }
   ],
   "source": [
    "np.floor(1114 * 1/0.75)"
   ]
  },
  {
   "cell_type": "code",
   "execution_count": 3,
   "metadata": {},
   "outputs": [
    {
     "data": {
      "text/plain": [
       "1485.3333333333333"
      ]
     },
     "execution_count": 3,
     "metadata": {},
     "output_type": "execute_result"
    }
   ],
   "source": [
    "1114 * 1/0.75"
   ]
  },
  {
   "cell_type": "code",
   "execution_count": 4,
   "metadata": {},
   "outputs": [
    {
     "data": {
      "text/plain": [
       "371.25"
      ]
     },
     "execution_count": 4,
     "metadata": {},
     "output_type": "execute_result"
    }
   ],
   "source": [
    "## need to convert to floor \n",
    "0.25 * 1485"
   ]
  },
  {
   "cell_type": "code",
   "execution_count": null,
   "metadata": {},
   "outputs": [],
   "source": [
    "0.25 * len(vecm_data_base)"
   ]
  },
  {
   "cell_type": "code",
   "execution_count": null,
   "metadata": {},
   "outputs": [],
   "source": []
  },
  {
   "cell_type": "code",
   "execution_count": null,
   "metadata": {},
   "outputs": [],
   "source": [
    "vecm_base_res.predict(371)"
   ]
  },
  {
   "cell_type": "code",
   "execution_count": null,
   "metadata": {},
   "outputs": [],
   "source": []
  },
  {
   "cell_type": "code",
   "execution_count": null,
   "metadata": {},
   "outputs": [],
   "source": [
    "vecm_base_res.plot_forecast(steps=371)"
   ]
  },
  {
   "cell_type": "code",
   "execution_count": null,
   "metadata": {},
   "outputs": [],
   "source": []
  },
  {
   "cell_type": "code",
   "execution_count": null,
   "metadata": {},
   "outputs": [],
   "source": []
  },
  {
   "cell_type": "code",
   "execution_count": null,
   "metadata": {},
   "outputs": [],
   "source": [
    "## TRY ## \n",
    "\n",
    "from sklearn.metrics import mean_squared_error"
   ]
  },
  {
   "cell_type": "code",
   "execution_count": null,
   "metadata": {},
   "outputs": [],
   "source": []
  },
  {
   "cell_type": "code",
   "execution_count": null,
   "metadata": {},
   "outputs": [],
   "source": []
  },
  {
   "cell_type": "code",
   "execution_count": null,
   "metadata": {},
   "outputs": [],
   "source": []
  },
  {
   "cell_type": "code",
   "execution_count": null,
   "metadata": {},
   "outputs": [],
   "source": []
  },
  {
   "cell_type": "code",
   "execution_count": null,
   "metadata": {},
   "outputs": [],
   "source": []
  },
  {
   "cell_type": "code",
   "execution_count": null,
   "metadata": {},
   "outputs": [],
   "source": []
  },
  {
   "cell_type": "code",
   "execution_count": null,
   "metadata": {},
   "outputs": [],
   "source": []
  },
  {
   "cell_type": "code",
   "execution_count": null,
   "metadata": {},
   "outputs": [],
   "source": []
  },
  {
   "cell_type": "code",
   "execution_count": null,
   "metadata": {},
   "outputs": [],
   "source": []
  },
  {
   "cell_type": "code",
   "execution_count": null,
   "metadata": {},
   "outputs": [],
   "source": []
  },
  {
   "cell_type": "code",
   "execution_count": null,
   "metadata": {},
   "outputs": [],
   "source": []
  },
  {
   "cell_type": "code",
   "execution_count": null,
   "metadata": {},
   "outputs": [],
   "source": []
  },
  {
   "cell_type": "code",
   "execution_count": null,
   "metadata": {},
   "outputs": [],
   "source": []
  },
  {
   "cell_type": "code",
   "execution_count": null,
   "metadata": {},
   "outputs": [],
   "source": []
  },
  {
   "cell_type": "code",
   "execution_count": null,
   "metadata": {},
   "outputs": [],
   "source": []
  },
  {
   "cell_type": "code",
   "execution_count": null,
   "metadata": {},
   "outputs": [],
   "source": []
  },
  {
   "cell_type": "code",
   "execution_count": null,
   "metadata": {},
   "outputs": [],
   "source": []
  },
  {
   "cell_type": "code",
   "execution_count": null,
   "metadata": {},
   "outputs": [],
   "source": []
  },
  {
   "cell_type": "code",
   "execution_count": null,
   "metadata": {},
   "outputs": [],
   "source": []
  },
  {
   "cell_type": "code",
   "execution_count": null,
   "metadata": {},
   "outputs": [],
   "source": []
  },
  {
   "cell_type": "code",
   "execution_count": null,
   "metadata": {},
   "outputs": [],
   "source": []
  },
  {
   "cell_type": "code",
   "execution_count": null,
   "metadata": {},
   "outputs": [],
   "source": []
  },
  {
   "cell_type": "code",
   "execution_count": null,
   "metadata": {},
   "outputs": [],
   "source": []
  },
  {
   "cell_type": "code",
   "execution_count": null,
   "metadata": {},
   "outputs": [],
   "source": []
  },
  {
   "cell_type": "code",
   "execution_count": null,
   "metadata": {},
   "outputs": [],
   "source": []
  },
  {
   "cell_type": "code",
   "execution_count": null,
   "metadata": {},
   "outputs": [],
   "source": []
  },
  {
   "cell_type": "code",
   "execution_count": null,
   "metadata": {},
   "outputs": [],
   "source": []
  },
  {
   "cell_type": "code",
   "execution_count": null,
   "metadata": {},
   "outputs": [],
   "source": []
  },
  {
   "cell_type": "code",
   "execution_count": null,
   "metadata": {},
   "outputs": [],
   "source": []
  },
  {
   "cell_type": "code",
   "execution_count": null,
   "metadata": {},
   "outputs": [],
   "source": []
  },
  {
   "cell_type": "code",
   "execution_count": null,
   "metadata": {},
   "outputs": [],
   "source": []
  },
  {
   "cell_type": "code",
   "execution_count": null,
   "metadata": {},
   "outputs": [],
   "source": []
  },
  {
   "cell_type": "code",
   "execution_count": null,
   "metadata": {},
   "outputs": [],
   "source": []
  },
  {
   "cell_type": "code",
   "execution_count": null,
   "metadata": {},
   "outputs": [],
   "source": []
  },
  {
   "cell_type": "code",
   "execution_count": null,
   "metadata": {},
   "outputs": [],
   "source": []
  },
  {
   "cell_type": "code",
   "execution_count": null,
   "metadata": {},
   "outputs": [],
   "source": []
  },
  {
   "cell_type": "code",
   "execution_count": null,
   "metadata": {},
   "outputs": [],
   "source": []
  },
  {
   "cell_type": "code",
   "execution_count": null,
   "metadata": {},
   "outputs": [],
   "source": []
  },
  {
   "cell_type": "code",
   "execution_count": null,
   "metadata": {},
   "outputs": [],
   "source": []
  },
  {
   "cell_type": "code",
   "execution_count": null,
   "metadata": {},
   "outputs": [],
   "source": []
  },
  {
   "cell_type": "code",
   "execution_count": null,
   "metadata": {},
   "outputs": [],
   "source": []
  },
  {
   "cell_type": "code",
   "execution_count": null,
   "metadata": {},
   "outputs": [],
   "source": []
  },
  {
   "cell_type": "code",
   "execution_count": null,
   "metadata": {},
   "outputs": [],
   "source": []
  },
  {
   "cell_type": "code",
   "execution_count": null,
   "metadata": {},
   "outputs": [],
   "source": []
  },
  {
   "cell_type": "code",
   "execution_count": null,
   "metadata": {},
   "outputs": [],
   "source": []
  },
  {
   "cell_type": "code",
   "execution_count": null,
   "metadata": {},
   "outputs": [],
   "source": []
  },
  {
   "cell_type": "code",
   "execution_count": null,
   "metadata": {},
   "outputs": [],
   "source": []
  },
  {
   "cell_type": "code",
   "execution_count": null,
   "metadata": {},
   "outputs": [],
   "source": []
  },
  {
   "cell_type": "code",
   "execution_count": 1,
   "metadata": {},
   "outputs": [],
   "source": [
    "#TBC:\n",
    "# further regression models and outputs with regressions on the firm variables!\n",
    "\n",
    "#from statsmodels.iolib.summary2 import summary_col   #proably won't work as for panel reg\n",
    "#https://stackoverflow.com/questions/54881902/generate-statistical-tables-in-python-and-export-to-excel\n",
    "\n",
    "#from pystout import pystout\n",
    "#!{sys.executable} -m pip install stargazer\n",
    "#from stargazer.stargazer import Stargazer   #table/regression output package \n",
    "\n",
    "\n",
    "\n",
    "## cointegrating examples: (good) statsmodels\n",
    "#https://arch.readthedocs.io/en/latest/unitroot/unitroot_cointegration_examples.html\n",
    "#http://rizaudinsahlan.blogspot.com/2017/09/johansen-cointegration-test-with-eviews_93.html\n",
    "\n",
    "#consider: moving data cleaning to seperate document? \n",
    "\n",
    "#see msvecm_1.02: breakdown of the VECM process explanation + links "
   ]
  },
  {
   "cell_type": "code",
   "execution_count": null,
   "metadata": {},
   "outputs": [],
   "source": []
  },
  {
   "cell_type": "markdown",
   "metadata": {},
   "source": [
    "# APPENDIX (B)\n",
    "* Correlation Analysis: VIX/BOND/CDS/STOCK CLOSE\n",
    "* ## https://docs.scipy.org/doc/scipy/reference/generated/scipy.stats.spearmanr.html"
   ]
  },
  {
   "cell_type": "code",
   "execution_count": null,
   "metadata": {},
   "outputs": [],
   "source": [
    "## correlation analysis with VIX etc. \n"
   ]
  },
  {
   "cell_type": "code",
   "execution_count": null,
   "metadata": {},
   "outputs": [],
   "source": []
  },
  {
   "cell_type": "code",
   "execution_count": null,
   "metadata": {},
   "outputs": [],
   "source": [
    "gvkey_selection = 1045 # 176404 #3226 #1440 #3226 #1078\n",
    "\n",
    "gvkey_group_df = sorted_alldata_df_final_adf_results.loc[sorted_alldata_df_final_adf_results.gvkey==gvkey_selection]\n",
    "print(\" COMPANY == \", gvkey_group_df.company_name.iloc[0], '\\n', \"SECTOR ==  \", gvkey_group_df.sector.iloc[0])"
   ]
  },
  {
   "cell_type": "code",
   "execution_count": null,
   "metadata": {},
   "outputs": [],
   "source": [
    "spearman_vix_pclose = stats.spearmanr(gvkey_group_df.cboe_vix, gvkey_group_df.price_close,\n",
    "                                  nan_policy='omit')\n",
    "spearman_vix_pclose"
   ]
  },
  {
   "cell_type": "code",
   "execution_count": null,
   "metadata": {},
   "outputs": [],
   "source": [
    "spearman_pclose_vix = stats.spearmanr(gvkey_group_df.cboe_vix, gvkey_group_df.market_cds_spread,\n",
    "                                  nan_policy='omit')\n",
    "spearman_pclose_vix"
   ]
  },
  {
   "cell_type": "code",
   "execution_count": null,
   "metadata": {},
   "outputs": [],
   "source": [
    "spearman_vix_tradingvol = stats.spearmanr(gvkey_group_df.cboe_vix, gvkey_group_df.trading_vol_daily,\n",
    "                                  nan_policy='omit')\n",
    "spearman_vix_tradingvol"
   ]
  },
  {
   "cell_type": "code",
   "execution_count": null,
   "metadata": {},
   "outputs": [],
   "source": [
    "spearman_vix_pecds = stats.spearmanr(gvkey_group_df.cboe_vix, gvkey_group_df.pecds,\n",
    "                                  nan_policy='omit')\n",
    "spearman_vix_pecds"
   ]
  },
  {
   "cell_type": "code",
   "execution_count": null,
   "metadata": {},
   "outputs": [],
   "source": [
    "spearman_pclose_tradingvol = stats.spearmanr(gvkey_group_df.price_close, gvkey_group_df.trading_vol_daily,\n",
    "                                  nan_policy='omit')\n",
    "print(spearman_pclose_tradingvol, '\\n')\n",
    "print(\"PVALUE ROUNDED: {}\".format(np.round(spearman_pclose_tradingvol.pvalue, 4)))"
   ]
  },
  {
   "cell_type": "code",
   "execution_count": null,
   "metadata": {},
   "outputs": [],
   "source": [
    "see(spearman_pclose_tradingvol)"
   ]
  },
  {
   "cell_type": "code",
   "execution_count": null,
   "metadata": {},
   "outputs": [],
   "source": []
  },
  {
   "cell_type": "code",
   "execution_count": null,
   "metadata": {},
   "outputs": [],
   "source": []
  },
  {
   "cell_type": "code",
   "execution_count": null,
   "metadata": {},
   "outputs": [],
   "source": []
  },
  {
   "cell_type": "code",
   "execution_count": null,
   "metadata": {},
   "outputs": [],
   "source": [
    "%%time \n",
    "\n",
    "warnings.filterwarnings(\"ignore\") \n",
    "\n",
    "## initialise the dictionary\n",
    "granger_causality_dict_4v = collections.defaultdict(list)\n",
    "\n",
    "## initialise error counters by type\n",
    "error_counter_dfgls = 0\n",
    "#value_error_counter_dfgls = 0\n",
    "error_counter_var = 0\n",
    "\n",
    "## problem instances ##\n",
    "unique_gct_4v_problem_instances = []\n",
    "\n",
    "first_dif_counter = 0\n",
    "second_dif_counter = 0\n",
    "                              \n",
    "## run the regression loop by GVKEY group:\n",
    "for i, val in enumerate(sorted_alldata_df_final_adf_results.groupby('gvkey')):  \n",
    "    gvkey = val[0]\n",
    "    data = val[1]\n",
    "    granger_causality_dict_4v['gvkey'].append(gvkey)  \n",
    "    sector_string = data.sector\n",
    "    granger_causality_dict_4v['sector'].append(sector_string.iloc[0]) \n",
    "\n",
    "    ## if all series are jointly stationary - apply the VAR model in-levels\n",
    "    ## else take the first difference of each series and apply the VAR model in-differences\n",
    "    try:\n",
    "        \n",
    "        cds = data.market_cds_spread \n",
    "        pecds = data.pecds\n",
    "        vix = data.cboe_vix\n",
    "        stock_close = data.price_close\n",
    "\n",
    "        if stock_close.isna().any() == True:\n",
    "            stock_close = stock_close.fillna(method='ffill')  \n",
    "\n",
    "        #if np.allclose(cds, pecds, vix, stock_close) == False:\n",
    "        #    print(len(cds), len(pecds), len(vix), len(stock_close))\n",
    "        #    all_close_counter += 1\n",
    "            #raise ValueError(\"Different Length Series\")\n",
    "\n",
    "        ## add try here \n",
    "        dfgls_cds = DFGLS(cds, trend='c', max_lags=10, method='BIC')\n",
    "        dfgls_pecds = DFGLS(pecds, trend='c', max_lags=10, method='BIC')\n",
    "        dfgls_vix = DFGLS(vix, trend='c', max_lags=10, method='BIC')\n",
    "        dfgls_stock_close = DFGLS(stock_close, trend='c', max_lags=10, method='BIC')\n",
    "\n",
    "        if ((dfgls_cds.stat < dfgls_cds.critical_values['5%']) and \n",
    "         (dfgls_pecds.stat < dfgls_pecds.critical_values['5%']) and \n",
    "         (dfgls_vix.stat < dfgls_vix.critical_values['5%']) and \n",
    "         (dfgls_stock_close.stat < dfgls_stock_close.critical_values['5%'])) == True:\n",
    "            var_model_df_4v = pd.DataFrame(data=(cds, pecds, vix, stock_close)).T\n",
    "            \n",
    "            first_dif_counter += 1\n",
    "            \n",
    "            try:\n",
    "                model = smt.VAR(var_model_df_4v)\n",
    "                    \n",
    "                max_lags_bic = model.select_order(maxlags=10).bic\n",
    "                \n",
    "                if max_lags_bic == 0:\n",
    "                    max_lags_bic = 1\n",
    "\n",
    "                res = model.fit(maxlags=max_lags_bic)\n",
    "\n",
    "                ## test bonds on CDS causality ## \n",
    "                res_causality_bond = res.test_causality(causing=['pecds'], \n",
    "                    caused=['market_cds_spread'], kind='wald', signif=0.05)  \n",
    "\n",
    "                ## test CDS on bonds causality ## \n",
    "                res_causality_cds = res.test_causality(causing=['market_cds_spread'], \n",
    "                    caused=['pecds'], kind='wald', signif=0.05) \n",
    "\n",
    "                ## test VIX / Stock Closing Price Jointly on CDS causality ## \n",
    "                res_causality_vixstock_cds = res.test_causality(causing=['cboe_vix','price_close'], \n",
    "                    caused=['market_cds_spread'], kind='wald', signif=0.05) \n",
    "\n",
    "                ## test VIX / Stock Closing Price Jointly on PECDS causality ##\n",
    "                res_causality_vixstock_bond = res.test_causality(causing=['cboe_vix','price_close'], \n",
    "                    caused=['pecds'], kind='wald', signif=0.05)\n",
    "\n",
    "                ## test VIX on closing price ##\n",
    "                res_causality_vix_on_stock = res.test_causality(causing=['cboe_vix'], \n",
    "                    caused=['price_close'], kind='wald', signif=0.05) \n",
    "\n",
    "                ## calculate spearmanr coefficient of VIX / stock_close ## \n",
    "                vix_stock_close_spearman_corr = np.round(stats.spearmanr(vix, stock_close), 4)\n",
    "\n",
    "                ## append items only after all GRANGER CAUSALITY TESTS ARE CONFIRMED\n",
    "                granger_causality_dict_4v['vix_on_stock'].append(res_causality_vix_on_stock.conclusion)\n",
    "                granger_causality_dict_4v['vix_stock_on_bond'].append(res_causality_vixstock_bond.conclusion)\n",
    "                granger_causality_dict_4v['vix_stock_on_cds'].append(res_causality_vixstock_cds.conclusion)\n",
    "                granger_causality_dict_4v['cds_on_bond'].append(res_causality_cds.conclusion)\n",
    "                granger_causality_dict_4v['bond_on_cds'].append(res_causality_bond.conclusion)\n",
    "                granger_causality_dict_4v['vix_stock_corr'].append(vix_stock_close_spearman_corr)\n",
    "                \n",
    "            except (ValueError, np.linalg.LinAlgError) as var_model_errors:\n",
    "                error_counter_var +=1 \n",
    "                granger_causality_dict_4v['bond_on_cds'].append(np.nan)\n",
    "                granger_causality_dict_4v['cds_on_bond'].append(np.nan)\n",
    "                granger_causality_dict_4v['vix_stock_on_cds'].append(np.nan)\n",
    "                granger_causality_dict_4v['vix_stock_on_bond'].append(np.nan)    \n",
    "                granger_causality_dict_4v['vix_on_stock'].append(np.nan)\n",
    "                granger_causality_dict_4v['vix_stock_corr'].append(np.nan)\n",
    "                \n",
    "        else:\n",
    "            \n",
    "            \n",
    "\n",
    "            cds = cds.pct_change().dropna()\n",
    "            pecds = pecds.pct_change().dropna()\n",
    "            vix = vix.pct_change().dropna()\n",
    "            stock_close = stock_close.pct_change().dropna()\n",
    "\n",
    "            dfgls_cds = DFGLS(cds, trend='c', max_lags=10, method='BIC')\n",
    "            dfgls_pecds = DFGLS(pecds, trend='c', max_lags=10, method='BIC')\n",
    "            dfgls_vix = DFGLS(vix, trend='c', max_lags=10, method='BIC')\n",
    "            dfgls_stock_close = DFGLS(stock_close, trend='c', max_lags=10, method='BIC')\n",
    "\n",
    "            if ((dfgls_cds.stat < dfgls_cds.critical_values['5%']) and \n",
    "             (dfgls_pecds.stat < dfgls_pecds.critical_values['5%']) and \n",
    "             (dfgls_vix.stat < dfgls_vix.critical_values['5%']) and \n",
    "             (dfgls_stock_close.stat < dfgls_stock_close.critical_values['5%'])) == True:\n",
    "                var_model_df_4v = pd.DataFrame(data=(cds, pecds, vix, stock_close)).T\n",
    "                \n",
    "                try: \n",
    "                    model = smt.VAR(var_model_df_4v)\n",
    "                    \n",
    "                    max_lags_bic = model.select_order(maxlags=10).bic\n",
    "                    \n",
    "                    if max_lags_bic ==0:\n",
    "                        max_lags_bic = 1\n",
    "                    \n",
    "                    res = model.fit(maxlags=max_lags_bic)\n",
    "                    \n",
    "                    ## test bonds on CDS causality ## \n",
    "                    res_causality_bond = res.test_causality(causing=['pecds'], \n",
    "                        caused=['market_cds_spread'], kind='wald', signif=0.05)  \n",
    "                    \n",
    "                    ## test CDS on bonds causality ## \n",
    "                    res_causality_cds = res.test_causality(causing=['market_cds_spread'], \n",
    "                        caused=['pecds'], kind='wald', signif=0.05) \n",
    "                    \n",
    "                    ## test VIX / Stock Closing Price Jointly on CDS causality ## \n",
    "                    res_causality_vixstock_cds = res.test_causality(causing=['cboe_vix','price_close'], \n",
    "                        caused=['market_cds_spread'], kind='wald', signif=0.05) \n",
    "                    \n",
    "                    ## test VIX / Stock Closing Price Jointly on PECDS causality ##\n",
    "                    res_causality_vixstock_bond = res.test_causality(causing=['cboe_vix','price_close'], \n",
    "                        caused=['pecds'], kind='wald', signif=0.05)\n",
    "                    \n",
    "                    ## test VIX on closing price ##\n",
    "                    res_causality_vix_on_stock = res.test_causality(causing=['cboe_vix'], \n",
    "                        caused=['price_close'], kind='wald', signif=0.05) \n",
    "                    \n",
    "                    ## calculate spearmanr coefficient of VIX / stock_close ## \n",
    "                    vix_stock_close_spearman_corr = np.round(stats.spearmanr(vix, stock_close), 4)\n",
    "                    \n",
    "                    ## append items after all GCT have been run\n",
    "                    granger_causality_dict_4v['vix_on_stock'].append(res_causality_vix_on_stock.conclusion)\n",
    "                    granger_causality_dict_4v['vix_stock_on_bond'].append(res_causality_vixstock_bond.conclusion)\n",
    "                    granger_causality_dict_4v['vix_stock_on_cds'].append(res_causality_vixstock_cds.conclusion)\n",
    "                    granger_causality_dict_4v['cds_on_bond'].append(res_causality_cds.conclusion)\n",
    "                    granger_causality_dict_4v['bond_on_cds'].append(res_causality_bond.conclusion)\n",
    "                    granger_causality_dict_4v['vix_stock_corr'].append(vix_stock_close_spearman_corr[0])\n",
    "                    \n",
    "                except (ValueError, np.linalg.LinAlgError) as var_model_errors:\n",
    "                    error_counter_var +=1 \n",
    "                    granger_causality_dict_4v['bond_on_cds'].append(np.nan)\n",
    "                    granger_causality_dict_4v['cds_on_bond'].append(np.nan)\n",
    "                    granger_causality_dict_4v['vix_stock_on_cds'].append(np.nan)\n",
    "                    granger_causality_dict_4v['vix_stock_on_bond'].append(np.nan)    \n",
    "                    granger_causality_dict_4v['vix_on_stock'].append(np.nan)\n",
    "                    granger_causality_dict_4v['vix_stock_corr'].append(np.nan)\n",
    "\n",
    "            else:\n",
    "                #print(\"1st Differences Not Jointly Stationary\")\n",
    "                second_dif_counter += 1\n",
    "        \n",
    "                granger_causality_dict_4v['bond_on_cds'].append(\"First_Diff_NS\")\n",
    "                granger_causality_dict_4v['cds_on_bond'].append(\"First_Diff_NS\")\n",
    "                granger_causality_dict_4v['vix_stock_on_cds'].append(\"First_Diff_NS\")\n",
    "                granger_causality_dict_4v['vix_stock_on_bond'].append(\"First_Diff_NS\")   \n",
    "                granger_causality_dict_4v['vix_on_stock'].append(\"First_Diff_NS\")\n",
    "                granger_causality_dict_4v['vix_stock_corr'].append(\"First_Diff_NS\")\n",
    "\n",
    "                \n",
    "                ##### add in 2nd differences \n",
    "                ## add in error (1st differences not jointly stat)\n",
    "            \n",
    "    except (ValueError, np.linalg.LinAlgError, InfeasibleTestException) as dfgls_errors:\n",
    "        error_counter_dfgls += 1\n",
    "        #granger_causality_dict_4v['stock'].append(\"ERROR\")\n",
    "        granger_causality_dict_4v['bond_on_cds'].append(np.nan)\n",
    "        granger_causality_dict_4v['cds_on_bond'].append(np.nan)\n",
    "        granger_causality_dict_4v['vix_stock_on_cds'].append(np.nan)\n",
    "        granger_causality_dict_4v['vix_stock_on_bond'].append(np.nan)    \n",
    "        granger_causality_dict_4v['vix_on_stock'].append(np.nan)\n",
    "        granger_causality_dict_4v['vix_stock_corr'].append(np.nan)\n",
    "\n",
    "\n",
    "## construct the DF         \n",
    "granger_causality_4v_df = pd.DataFrame.from_dict(granger_causality_dict_4v)        \n",
    "\n",
    "print(\" DFGLS ERRORS: {}\".format(error_counter_dfgls),'\\n', \n",
    "     \"VAR MODEL ERRORS: {}\".format(error_counter_var))"
   ]
  }
 ],
 "metadata": {
  "kernelspec": {
   "display_name": "Python 3",
   "language": "python",
   "name": "python3"
  },
  "language_info": {
   "codemirror_mode": {
    "name": "ipython",
    "version": 3
   },
   "file_extension": ".py",
   "mimetype": "text/x-python",
   "name": "python",
   "nbconvert_exporter": "python",
   "pygments_lexer": "ipython3",
   "version": "3.8.5"
  }
 },
 "nbformat": 4,
 "nbformat_minor": 4
}
